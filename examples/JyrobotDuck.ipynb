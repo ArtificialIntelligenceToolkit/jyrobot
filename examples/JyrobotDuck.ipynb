{
 "cells": [
  {
   "cell_type": "code",
   "execution_count": 6,
   "metadata": {},
   "outputs": [],
   "source": [
    "import jyrobot\n",
    "from IPython.display import clear_output, display\n",
    "import random"
   ]
  },
  {
   "cell_type": "code",
   "execution_count": 7,
   "metadata": {},
   "outputs": [],
   "source": [
    "world = jyrobot.load(\"two-scribblers\")"
   ]
  },
  {
   "cell_type": "code",
   "execution_count": 8,
   "metadata": {},
   "outputs": [
    {
     "data": {
      "application/vnd.jupyter.widget-view+json": {
       "model_id": "4488938eb0d64a87997c0a7ee5ca7e0c",
       "version_major": 2,
       "version_minor": 0
      },
      "text/plain": [
       "Box(children=(Canvas(height=750, image_data=b'\\x89PNG\\r\\n\\x1a\\n\\x00\\x00\\x00\\rIHDR\\x00\\x00\\x05\\xdc\\x00\\x00\\x02\\…"
      ]
     },
     "metadata": {},
     "output_type": "display_data"
    }
   ],
   "source": [
    "world.watch()"
   ]
  },
  {
   "cell_type": "code",
   "execution_count": 9,
   "metadata": {},
   "outputs": [],
   "source": [
    "world.reset()\n",
    "world.robot[0].move(1, 0)\n",
    "world.robot[1].move(1, 0)"
   ]
  },
  {
   "cell_type": "code",
   "execution_count": 10,
   "metadata": {},
   "outputs": [],
   "source": [
    "def control(robot):\n",
    "    if robot.name == \"Red\":\n",
    "        pic = robot.cameras[0].takePicture()\n",
    "        clear_output(wait=True)\n",
    "        display(pic)\n",
    "    if robot.stalled:\n",
    "        robot.turn(1 - random.random() * 2)\n",
    "        robot.tvx = -robot.tvx\n",
    "        #return True"
   ]
  },
  {
   "cell_type": "code",
   "execution_count": 11,
   "metadata": {},
   "outputs": [
    {
     "data": {
      "image/png": "[encoded data removed]",
      "text/plain": [
       "<PIL.Image.Image image mode=RGBA size=256x128 at 0x7FA121DCF670>"
      ]
     },
     "metadata": {},
     "output_type": "display_data"
    },
    {
     "name": "stdout",
     "output_type": "stream",
     "text": [
      "CPU times: user 9.5 s, sys: 25.3 ms, total: 9.53 s\n",
      "Wall time: 9.47 s\n"
     ]
    }
   ],
   "source": [
    "%%time\n",
    "world.run([control, control])"
   ]
  },
  {
   "cell_type": "code",
   "execution_count": null,
   "metadata": {},
   "outputs": [],
   "source": []
  }
 ],
 "metadata": {
  "kernelspec": {
   "display_name": "Python 3",
   "language": "python",
   "name": "python3"
  },
  "language_info": {
   "codemirror_mode": {
    "name": "ipython",
    "version": 3
   },
   "file_extension": ".py",
   "mimetype": "text/x-python",
   "name": "python",
   "nbconvert_exporter": "python",
   "pygments_lexer": "ipython3",
   "version": "3.9.1"
  },
  "widgets": {
   "application/vnd.jupyter.widget-state+json": {
    "state": {
     "133ae617d5a04197902ef467f54e53b0": {
      "model_module": "@jupyter-widgets/base",
      "model_module_version": "1.2.0",
      "model_name": "LayoutModel",
      "state": {}
     },
     "18e318d1cb564a35aee0cbb84eb28dc2": {
      "model_module": "ipylab",
      "model_module_version": "^0.3.0",
      "model_name": "SessionManagerModel",
      "state": {
       "_model_module_version": "^0.3.0",
       "_view_module": null,
       "_view_module_version": "",
       "current_session": {
        "id": "d7bbc54b-bf9b-4312-9812-fba9411b9abe",
        "kernel": {
         "id": "10a1013f-cf10-4d0a-b822-23db42c44209",
         "name": "python3"
        },
        "name": "JyrobotDuck.ipynb",
        "path": "jyrobot/examples/JyrobotDuck.ipynb",
        "type": "notebook"
       },
       "sessions": [
        {
         "id": "d7bbc54b-bf9b-4312-9812-fba9411b9abe",
         "kernel": {
          "connections": 0,
          "execution_state": "starting",
          "id": "10a1013f-cf10-4d0a-b822-23db42c44209",
          "last_activity": "2020-12-18T14:41:38.464089Z",
          "name": "python3"
         },
         "name": "JyrobotDuck.ipynb",
         "notebook": {
          "name": "JyrobotDuck.ipynb",
          "path": "jyrobot/examples/JyrobotDuck.ipynb"
         },
         "path": "jyrobot/examples/JyrobotDuck.ipynb",
         "type": "notebook"
        }
       ]
      }
     },
     "2c6302a7b75e405c85a3be150e68f3eb": {
      "model_module": "@jupyter-widgets/base",
      "model_module_version": "1.2.0",
      "model_name": "LayoutModel",
      "state": {
       "height": "auto",
       "width": "100%"
      }
     },
     "2fca95e2de7d4fba990451279dae63cf": {
      "model_module": "ipylab",
      "model_module_version": "^0.3.0",
      "model_name": "CommandRegistryModel",
      "state": {
       "_command_list": [
        "__internal:context-menu-info",
        "apputils:activate-command-palette",
        "apputils:print",
        "apputils:run-first-enabled",
        "completer:invoke",
        "completer:select",
        "tooltip:dismiss",
        "launcher:create",
        "editmenu:undo",
        "editmenu:redo",
        "editmenu:clear-current",
        "editmenu:clear-all",
        "editmenu:go-to-line",
        "filemenu:close-and-cleanup",
        "filemenu:create-console",
        "filemenu:shutdown",
        "filemenu:logout",
        "kernelmenu:interrupt",
        "kernelmenu:restart",
        "kernelmenu:restart-and-clear",
        "kernelmenu:change",
        "kernelmenu:shutdown",
        "kernelmenu:shutdownAll",
        "runmenu:run",
        "runmenu:run-all",
        "runmenu:restart-and-run-all",
        "viewmenu:line-numbering",
        "viewmenu:match-brackets",
        "viewmenu:word-wrap",
        "tabsmenu:activate-by-id",
        "tabsmenu:activate-previously-used-tab",
        "editmenu:open",
        "filemenu:open",
        "kernelmenu:open",
        "runmenu:open",
        "viewmenu:open",
        "settingsmenu:open",
        "tabsmenu:open",
        "helpmenu:open",
        "mainmenu:open-first",
        "documentsearch:start",
        "documentsearch:startWithReplace",
        "documentsearch:highlightNext",
        "documentsearch:highlightPrevious",
        "docmanager:clone",
        "docmanager:rename",
        "docmanager:delete",
        "docmanager:show-in-file-browser",
        "docmanager:delete-file",
        "docmanager:new-untitled",
        "docmanager:open",
        "docmanager:open-browser-tab",
        "docmanager:reload",
        "docmanager:restore-checkpoint",
        "docmanager:save",
        "docmanager:save-all",
        "docmanager:save-as",
        "docmanager:download",
        "docmanager:toggle-autosave",
        "sidebar:switch",
        "apputils:change-theme",
        "apputils:theme-scrollbars",
        "apputils:incr-font-size",
        "apputils:decr-font-size",
        "statusbar:toggle",
        "rendermime:handle-local-link",
        "application:activate-next-tab",
        "application:activate-previous-tab",
        "application:activate-next-tab-bar",
        "application:activate-previous-tab-bar",
        "application:close",
        "application:close-all",
        "application:close-other-tabs",
        "application:close-right-tabs",
        "application:toggle-left-area",
        "application:toggle-right-area",
        "application:toggle-presentation-mode",
        "application:set-mode",
        "application:toggle-mode",
        "apputils:load-statedb",
        "apputils:reset",
        "apputils:reset-on-load",
        "markdownviewer:open",
        "markdownviewer:edit",
        "settingeditor:open",
        "settingeditor:revert",
        "settingeditor:save",
        "inspector:open",
        "htmlviewer:trust-html",
        "imageviewer:zoom-in",
        "imageviewer:zoom-out",
        "imageviewer:reset-image",
        "imageviewer:rotate-clockwise",
        "imageviewer:rotate-counterclockwise",
        "imageviewer:flip-horizontal",
        "imageviewer:flip-vertical",
        "imageviewer:invert-colors",
        "filebrowser:delete",
        "filebrowser:copy",
        "filebrowser:cut",
        "filebrowser:download",
        "filebrowser:duplicate",
        "filebrowser:hide-main",
        "filebrowser:go-to-path",
        "filebrowser:open-path",
        "filebrowser:open",
        "filebrowser:open-browser-tab",
        "filebrowser:copy-download-link",
        "filebrowser:paste",
        "filebrowser:create-new-directory",
        "filebrowser:create-new-file",
        "filebrowser:create-new-markdown-file",
        "filebrowser:rename",
        "filebrowser:copy-path",
        "filebrowser:activate",
        "filebrowser:shutdown",
        "filebrowser:toggle-main",
        "filebrowser:create-main-launcher",
        "filebrowser:toggle-navigate-to-current-directory",
        "filebrowser:toggle-last-modified",
        "filebrowser:share-main",
        "notebook:run-cell-and-select-next",
        "notebook:run-cell",
        "notebook:run-cell-and-insert-below",
        "notebook:run-in-console",
        "notebook:run-all-cells",
        "notebook:run-all-above",
        "notebook:run-all-below",
        "notebook:render-all-markdown",
        "notebook:restart-kernel",
        "notebook:close-and-shutdown",
        "notebook:trust",
        "notebook:export-to-format",
        "notebook:restart-clear-output",
        "notebook:restart-and-run-to-selected",
        "notebook:restart-run-all",
        "notebook:clear-all-cell-outputs",
        "notebook:clear-cell-output",
        "notebook:interrupt-kernel",
        "notebook:change-cell-to-code",
        "notebook:change-cell-to-markdown",
        "notebook:change-cell-to-raw",
        "notebook:cut-cell",
        "notebook:copy-cell",
        "notebook:paste-cell-below",
        "notebook:paste-cell-above",
        "notebook:paste-and-replace-cell",
        "notebook:delete-cell",
        "notebook:split-cell-at-cursor",
        "notebook:merge-cells",
        "notebook:insert-cell-above",
        "notebook:insert-cell-below",
        "notebook:move-cursor-up",
        "notebook:move-cursor-down",
        "notebook:extend-marked-cells-above",
        "notebook:extend-marked-cells-top",
        "notebook:extend-marked-cells-below",
        "notebook:extend-marked-cells-bottom",
        "notebook:select-all",
        "notebook:deselect-all",
        "notebook:move-cell-up",
        "notebook:move-cell-down",
        "notebook:toggle-all-cell-line-numbers",
        "notebook:enter-command-mode",
        "notebook:enter-edit-mode",
        "notebook:undo-cell-action",
        "notebook:redo-cell-action",
        "notebook:change-kernel",
        "notebook:reconnect-to-kernel",
        "notebook:create-output-view",
        "notebook:create-console",
        "notebook:change-cell-to-heading-1",
        "notebook:change-cell-to-heading-2",
        "notebook:change-cell-to-heading-3",
        "notebook:change-cell-to-heading-4",
        "notebook:change-cell-to-heading-5",
        "notebook:change-cell-to-heading-6",
        "notebook:hide-cell-code",
        "notebook:show-cell-code",
        "notebook:hide-all-cell-code",
        "notebook:show-all-cell-code",
        "notebook:hide-cell-outputs",
        "notebook:show-cell-outputs",
        "notebook:hide-all-cell-outputs",
        "notebook:show-all-cell-outputs",
        "notebook:enable-output-scrolling",
        "notebook:disable-output-scrolling",
        "notebook:select-last-run-cell",
        "notebook:replace-selection",
        "notebook:create-new",
        "help:about",
        "help:open",
        "help:launch-classic-notebook",
        "terminal:create-new",
        "terminal:open",
        "terminal:refresh",
        "terminal:increase-font",
        "terminal:decrease-font",
        "terminal:set-theme",
        "completer:invoke-notebook",
        "completer:select-notebook",
        "logconsole:open",
        "logconsole:add-checkpoint",
        "logconsole:clear",
        "logconsole:set-level",
        "tooltip:launch-notebook",
        "@jupyter-widgets/jupyterlab-manager:saveWidgetState",
        "extensionmanager:toggle",
        "console:open",
        "console:create",
        "console:clear",
        "console:run-unforced",
        "console:run-forced",
        "console:linebreak",
        "console:replace-selection",
        "console:interrupt-kernel",
        "console:restart-kernel",
        "console:close-and-shutdown",
        "console:inject",
        "console:change-kernel",
        "console:interaction-mode",
        "fileeditor:change-font-size",
        "fileeditor:toggle-line-numbers",
        "fileeditor:toggle-line-wrap",
        "fileeditor:change-tabs",
        "fileeditor:toggle-match-brackets",
        "fileeditor:toggle-autoclosing-brackets",
        "fileeditor:replace-selection",
        "fileeditor:create-console",
        "fileeditor:run-code",
        "fileeditor:run-all",
        "fileeditor:markdown-preview",
        "fileeditor:create-new",
        "fileeditor:create-new-markdown-file",
        "fileeditor:undo",
        "fileeditor:redo",
        "fileeditor:cut",
        "fileeditor:copy",
        "fileeditor:paste",
        "fileeditor:select-all",
        "completer:invoke-console",
        "completer:select-console",
        "console:toggle-show-all-kernel-activity",
        "tooltip:launch-console",
        "codemirror:change-theme",
        "codemirror:change-keymap",
        "codemirror:find",
        "codemirror:go-to-line",
        "codemirror:change-mode",
        "completer:invoke-file",
        "completer:select-file",
        "tooltip:launch-file",
        "help-menu-python3:banner",
        "help-menu-python3:Python Reference",
        "help-menu-python3:IPython Reference",
        "help-menu-python3:NumPy Reference",
        "help-menu-python3:SciPy Reference",
        "help-menu-python3:Matplotlib Reference",
        "help-menu-python3:SymPy Reference",
        "help-menu-python3:pandas Reference"
       ],
       "_model_module_version": "^0.3.0",
       "_view_module": null,
       "_view_module_version": ""
      }
     },
     "3a8e4be42b1f43ca9cac1f8564621b67": {
      "model_module": "@jupyter-widgets/base",
      "model_module_version": "1.2.0",
      "model_name": "LayoutModel",
      "state": {
       "max_width": "600px"
      }
     },
     "3c3eb41af7be47f7ab4178e7f7d9b7d7": {
      "model_module": "ipylab",
      "model_module_version": "^0.3.0",
      "model_name": "TitleModel",
      "state": {
       "_model_module_version": "^0.3.0",
       "_view_module": null,
       "_view_module_version": "",
       "closable": true,
       "icon_class": "",
       "label": "Jyrobot Simulator"
      }
     },
     "4488938eb0d64a87997c0a7ee5ca7e0c": {
      "model_module": "@jupyter-widgets/controls",
      "model_module_version": "1.5.0",
      "model_name": "BoxModel",
      "state": {
       "children": [
        "IPY_MODEL_6590c10dcc204e95b9f3ed053a8f2315"
       ],
       "layout": "IPY_MODEL_3a8e4be42b1f43ca9cac1f8564621b67"
      }
     },
     "508cc2b3b1e640f589820f3403827bc9": {
      "model_module": "@jupyter-widgets/base",
      "model_module_version": "1.2.0",
      "model_name": "LayoutModel",
      "state": {
       "max_width": "600px"
      }
     },
     "54805fc5a0474f41bc91203cf5e6a606": {
      "buffers": [
       {
        "data": "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",
        "encoding": "base64",
        "path": [
         "image_data"
        ]
       }
      ],
      "model_module": "ipycanvas",
      "model_module_version": "^0.7.0",
      "model_name": "CanvasModel",
      "state": {
       "_model_module_version": "^0.7.0",
       "_view_module_version": "^0.7.0",
       "height": 750,
       "layout": "IPY_MODEL_8389c75bc5654761ac449e2d40b7fac5",
       "sync_image_data": true,
       "width": 1500
      }
     },
     "59ae1b84b9314327b3cbcb9854c62fb8": {
      "model_module": "ipylab",
      "model_module_version": "^0.3.0",
      "model_name": "JupyterFrontEndModel",
      "state": {
       "_model_module_version": "^0.3.0",
       "_view_module": null,
       "_view_module_version": "",
       "commands": "IPY_MODEL_edbb3c1eaec245be8515de217cfb82e2",
       "sessions": "IPY_MODEL_70e31dfea6e64ee3bceb2046edeeb39c",
       "shell": "IPY_MODEL_a5e8c9f017c74fc0b6979394885c9035",
       "version": "2.2.9"
      }
     },
     "5a1ab0aaae2a4dbb83d4edab4beff18d": {
      "model_module": "ipylab",
      "model_module_version": "^0.3.0",
      "model_name": "TitleModel",
      "state": {
       "_model_module_version": "^0.3.0",
       "_view_module": null,
       "_view_module_version": "",
       "closable": true,
       "icon_class": "",
       "label": "Jyrobot Simulator"
      }
     },
     "6590c10dcc204e95b9f3ed053a8f2315": {
      "buffers": [
       {
        "data": "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",
        "encoding": "base64",
        "path": [
         "image_data"
        ]
       }
      ],
      "model_module": "ipycanvas",
      "model_module_version": "^0.7.0",
      "model_name": "CanvasModel",
      "state": {
       "_model_module_version": "^0.7.0",
       "_view_module_version": "^0.7.0",
       "height": 750,
       "layout": "IPY_MODEL_2c6302a7b75e405c85a3be150e68f3eb",
       "sync_image_data": true,
       "width": 1500
      }
     },
     "70e31dfea6e64ee3bceb2046edeeb39c": {
      "model_module": "ipylab",
      "model_module_version": "^0.3.0",
      "model_name": "SessionManagerModel",
      "state": {
       "_model_module_version": "^0.3.0",
       "_view_module": null,
       "_view_module_version": "",
       "current_session": {
        "id": "d7bbc54b-bf9b-4312-9812-fba9411b9abe",
        "kernel": {
         "id": "10a1013f-cf10-4d0a-b822-23db42c44209",
         "name": "python3"
        },
        "name": "JyrobotDuck.ipynb",
        "path": "jyrobot/examples/JyrobotDuck.ipynb",
        "type": "notebook"
       },
       "sessions": [
        {
         "id": "d7bbc54b-bf9b-4312-9812-fba9411b9abe",
         "kernel": {
          "connections": 0,
          "execution_state": "starting",
          "id": "10a1013f-cf10-4d0a-b822-23db42c44209",
          "last_activity": "2020-12-18T14:41:38.464089Z",
          "name": "python3"
         },
         "name": "JyrobotDuck.ipynb",
         "notebook": {
          "name": "JyrobotDuck.ipynb",
          "path": "jyrobot/examples/JyrobotDuck.ipynb"
         },
         "path": "jyrobot/examples/JyrobotDuck.ipynb",
         "type": "notebook"
        }
       ]
      }
     },
     "829673c196ac44109fca22c1005800e5": {
      "model_module": "@jupyter-widgets/controls",
      "model_module_version": "1.5.0",
      "model_name": "BoxModel",
      "state": {
       "children": [
        "IPY_MODEL_54805fc5a0474f41bc91203cf5e6a606"
       ],
       "layout": "IPY_MODEL_508cc2b3b1e640f589820f3403827bc9"
      }
     },
     "8389c75bc5654761ac449e2d40b7fac5": {
      "model_module": "@jupyter-widgets/base",
      "model_module_version": "1.2.0",
      "model_name": "LayoutModel",
      "state": {
       "height": "auto",
       "width": "100%"
      }
     },
     "8396c93757864aac93ca664b0a6b8b65": {
      "model_module": "ipylab",
      "model_module_version": "^0.3.0",
      "model_name": "PanelModel",
      "state": {
       "_model_module_version": "^0.3.0",
       "children": [
        "IPY_MODEL_54805fc5a0474f41bc91203cf5e6a606"
       ],
       "layout": "IPY_MODEL_133ae617d5a04197902ef467f54e53b0",
       "title": "IPY_MODEL_3c3eb41af7be47f7ab4178e7f7d9b7d7"
      }
     },
     "a5e8c9f017c74fc0b6979394885c9035": {
      "model_module": "ipylab",
      "model_module_version": "^0.3.0",
      "model_name": "ShellModel",
      "state": {
       "_model_module_version": "^0.3.0",
       "_view_module": null,
       "_view_module_version": ""
      }
     },
     "c2c034edb80e46ecb619b973223eccee": {
      "model_module": "@jupyter-widgets/base",
      "model_module_version": "1.2.0",
      "model_name": "LayoutModel",
      "state": {}
     },
     "dbb7ad21429e45b68539ed4d74744162": {
      "model_module": "ipylab",
      "model_module_version": "^0.3.0",
      "model_name": "PanelModel",
      "state": {
       "_model_module_version": "^0.3.0",
       "children": [
        "IPY_MODEL_54805fc5a0474f41bc91203cf5e6a606"
       ],
       "layout": "IPY_MODEL_c2c034edb80e46ecb619b973223eccee",
       "title": "IPY_MODEL_5a1ab0aaae2a4dbb83d4edab4beff18d"
      }
     },
     "edbb3c1eaec245be8515de217cfb82e2": {
      "model_module": "ipylab",
      "model_module_version": "^0.3.0",
      "model_name": "CommandRegistryModel",
      "state": {
       "_command_list": [
        "__internal:context-menu-info",
        "apputils:activate-command-palette",
        "apputils:print",
        "apputils:run-first-enabled",
        "completer:invoke",
        "completer:select",
        "tooltip:dismiss",
        "launcher:create",
        "editmenu:undo",
        "editmenu:redo",
        "editmenu:clear-current",
        "editmenu:clear-all",
        "editmenu:go-to-line",
        "filemenu:close-and-cleanup",
        "filemenu:create-console",
        "filemenu:shutdown",
        "filemenu:logout",
        "kernelmenu:interrupt",
        "kernelmenu:restart",
        "kernelmenu:restart-and-clear",
        "kernelmenu:change",
        "kernelmenu:shutdown",
        "kernelmenu:shutdownAll",
        "runmenu:run",
        "runmenu:run-all",
        "runmenu:restart-and-run-all",
        "viewmenu:line-numbering",
        "viewmenu:match-brackets",
        "viewmenu:word-wrap",
        "tabsmenu:activate-by-id",
        "tabsmenu:activate-previously-used-tab",
        "editmenu:open",
        "filemenu:open",
        "kernelmenu:open",
        "runmenu:open",
        "viewmenu:open",
        "settingsmenu:open",
        "tabsmenu:open",
        "helpmenu:open",
        "mainmenu:open-first",
        "documentsearch:start",
        "documentsearch:startWithReplace",
        "documentsearch:highlightNext",
        "documentsearch:highlightPrevious",
        "docmanager:clone",
        "docmanager:rename",
        "docmanager:delete",
        "docmanager:show-in-file-browser",
        "docmanager:delete-file",
        "docmanager:new-untitled",
        "docmanager:open",
        "docmanager:open-browser-tab",
        "docmanager:reload",
        "docmanager:restore-checkpoint",
        "docmanager:save",
        "docmanager:save-all",
        "docmanager:save-as",
        "docmanager:download",
        "docmanager:toggle-autosave",
        "sidebar:switch",
        "apputils:change-theme",
        "apputils:theme-scrollbars",
        "apputils:incr-font-size",
        "apputils:decr-font-size",
        "statusbar:toggle",
        "rendermime:handle-local-link",
        "application:activate-next-tab",
        "application:activate-previous-tab",
        "application:activate-next-tab-bar",
        "application:activate-previous-tab-bar",
        "application:close",
        "application:close-all",
        "application:close-other-tabs",
        "application:close-right-tabs",
        "application:toggle-left-area",
        "application:toggle-right-area",
        "application:toggle-presentation-mode",
        "application:set-mode",
        "application:toggle-mode",
        "apputils:load-statedb",
        "apputils:reset",
        "apputils:reset-on-load",
        "markdownviewer:open",
        "markdownviewer:edit",
        "settingeditor:open",
        "settingeditor:revert",
        "settingeditor:save",
        "inspector:open",
        "htmlviewer:trust-html",
        "imageviewer:zoom-in",
        "imageviewer:zoom-out",
        "imageviewer:reset-image",
        "imageviewer:rotate-clockwise",
        "imageviewer:rotate-counterclockwise",
        "imageviewer:flip-horizontal",
        "imageviewer:flip-vertical",
        "imageviewer:invert-colors",
        "filebrowser:delete",
        "filebrowser:copy",
        "filebrowser:cut",
        "filebrowser:download",
        "filebrowser:duplicate",
        "filebrowser:hide-main",
        "filebrowser:go-to-path",
        "filebrowser:open-path",
        "filebrowser:open",
        "filebrowser:open-browser-tab",
        "filebrowser:copy-download-link",
        "filebrowser:paste",
        "filebrowser:create-new-directory",
        "filebrowser:create-new-file",
        "filebrowser:create-new-markdown-file",
        "filebrowser:rename",
        "filebrowser:copy-path",
        "filebrowser:activate",
        "filebrowser:shutdown",
        "filebrowser:toggle-main",
        "filebrowser:create-main-launcher",
        "filebrowser:toggle-navigate-to-current-directory",
        "filebrowser:toggle-last-modified",
        "filebrowser:share-main",
        "notebook:run-cell-and-select-next",
        "notebook:run-cell",
        "notebook:run-cell-and-insert-below",
        "notebook:run-in-console",
        "notebook:run-all-cells",
        "notebook:run-all-above",
        "notebook:run-all-below",
        "notebook:render-all-markdown",
        "notebook:restart-kernel",
        "notebook:close-and-shutdown",
        "notebook:trust",
        "notebook:export-to-format",
        "notebook:restart-clear-output",
        "notebook:restart-and-run-to-selected",
        "notebook:restart-run-all",
        "notebook:clear-all-cell-outputs",
        "notebook:clear-cell-output",
        "notebook:interrupt-kernel",
        "notebook:change-cell-to-code",
        "notebook:change-cell-to-markdown",
        "notebook:change-cell-to-raw",
        "notebook:cut-cell",
        "notebook:copy-cell",
        "notebook:paste-cell-below",
        "notebook:paste-cell-above",
        "notebook:paste-and-replace-cell",
        "notebook:delete-cell",
        "notebook:split-cell-at-cursor",
        "notebook:merge-cells",
        "notebook:insert-cell-above",
        "notebook:insert-cell-below",
        "notebook:move-cursor-up",
        "notebook:move-cursor-down",
        "notebook:extend-marked-cells-above",
        "notebook:extend-marked-cells-top",
        "notebook:extend-marked-cells-below",
        "notebook:extend-marked-cells-bottom",
        "notebook:select-all",
        "notebook:deselect-all",
        "notebook:move-cell-up",
        "notebook:move-cell-down",
        "notebook:toggle-all-cell-line-numbers",
        "notebook:enter-command-mode",
        "notebook:enter-edit-mode",
        "notebook:undo-cell-action",
        "notebook:redo-cell-action",
        "notebook:change-kernel",
        "notebook:reconnect-to-kernel",
        "notebook:create-output-view",
        "notebook:create-console",
        "notebook:change-cell-to-heading-1",
        "notebook:change-cell-to-heading-2",
        "notebook:change-cell-to-heading-3",
        "notebook:change-cell-to-heading-4",
        "notebook:change-cell-to-heading-5",
        "notebook:change-cell-to-heading-6",
        "notebook:hide-cell-code",
        "notebook:show-cell-code",
        "notebook:hide-all-cell-code",
        "notebook:show-all-cell-code",
        "notebook:hide-cell-outputs",
        "notebook:show-cell-outputs",
        "notebook:hide-all-cell-outputs",
        "notebook:show-all-cell-outputs",
        "notebook:enable-output-scrolling",
        "notebook:disable-output-scrolling",
        "notebook:select-last-run-cell",
        "notebook:replace-selection",
        "notebook:create-new",
        "help:about",
        "help:open",
        "help:launch-classic-notebook",
        "terminal:create-new",
        "terminal:open",
        "terminal:refresh",
        "terminal:increase-font",
        "terminal:decrease-font",
        "terminal:set-theme",
        "completer:invoke-notebook",
        "completer:select-notebook",
        "logconsole:open",
        "logconsole:add-checkpoint",
        "logconsole:clear",
        "logconsole:set-level",
        "tooltip:launch-notebook",
        "@jupyter-widgets/jupyterlab-manager:saveWidgetState",
        "extensionmanager:toggle",
        "console:open",
        "console:create",
        "console:clear",
        "console:run-unforced",
        "console:run-forced",
        "console:linebreak",
        "console:replace-selection",
        "console:interrupt-kernel",
        "console:restart-kernel",
        "console:close-and-shutdown",
        "console:inject",
        "console:change-kernel",
        "console:interaction-mode",
        "fileeditor:change-font-size",
        "fileeditor:toggle-line-numbers",
        "fileeditor:toggle-line-wrap",
        "fileeditor:change-tabs",
        "fileeditor:toggle-match-brackets",
        "fileeditor:toggle-autoclosing-brackets",
        "fileeditor:replace-selection",
        "fileeditor:create-console",
        "fileeditor:run-code",
        "fileeditor:run-all",
        "fileeditor:markdown-preview",
        "fileeditor:create-new",
        "fileeditor:create-new-markdown-file",
        "fileeditor:undo",
        "fileeditor:redo",
        "fileeditor:cut",
        "fileeditor:copy",
        "fileeditor:paste",
        "fileeditor:select-all",
        "completer:invoke-console",
        "completer:select-console",
        "console:toggle-show-all-kernel-activity",
        "tooltip:launch-console",
        "codemirror:change-theme",
        "codemirror:change-keymap",
        "codemirror:find",
        "codemirror:go-to-line",
        "codemirror:change-mode",
        "completer:invoke-file",
        "completer:select-file",
        "tooltip:launch-file",
        "help-menu-python3:banner",
        "help-menu-python3:Python Reference",
        "help-menu-python3:IPython Reference",
        "help-menu-python3:NumPy Reference",
        "help-menu-python3:SciPy Reference",
        "help-menu-python3:Matplotlib Reference",
        "help-menu-python3:SymPy Reference",
        "help-menu-python3:pandas Reference"
       ],
       "_model_module_version": "^0.3.0",
       "_view_module": null,
       "_view_module_version": ""
      }
     },
     "f99093b9b71e4cd0a8629317586931f6": {
      "model_module": "ipylab",
      "model_module_version": "^0.3.0",
      "model_name": "ShellModel",
      "state": {
       "_model_module_version": "^0.3.0",
       "_view_module": null,
       "_view_module_version": ""
      }
     },
     "fb15df7730a54186a950ed564f63ba58": {
      "model_module": "ipylab",
      "model_module_version": "^0.3.0",
      "model_name": "JupyterFrontEndModel",
      "state": {
       "_model_module_version": "^0.3.0",
       "_view_module": null,
       "_view_module_version": "",
       "commands": "IPY_MODEL_2fca95e2de7d4fba990451279dae63cf",
       "sessions": "IPY_MODEL_18e318d1cb564a35aee0cbb84eb28dc2",
       "shell": "IPY_MODEL_f99093b9b71e4cd0a8629317586931f6",
       "version": "2.2.9"
      }
     }
    },
    "version_major": 2,
    "version_minor": 0
   }
  }
 },
 "nbformat": 4,
 "nbformat_minor": 4
}
