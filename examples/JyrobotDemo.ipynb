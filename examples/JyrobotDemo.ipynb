{
 "cells": [
  {
   "cell_type": "code",
   "execution_count": 18,
   "metadata": {},
   "outputs": [],
   "source": [
    "from jyrobot.world import World\n",
    "from jyrobot import config\n",
    "from jyrobot.canvas import Canvas\n",
    "import math\n",
    "\n",
    "from ipylab import JupyterFrontEnd, Panel\n",
    "from ipywidgets import Layout"
   ]
  },
  {
   "cell_type": "code",
   "execution_count": 19,
   "metadata": {},
   "outputs": [],
   "source": [
    "def get_canvas(config, width, height, scale=1.0):\n",
    "    config[\"width\"] = round(width * scale)\n",
    "    config[\"height\"] = round(height * scale)\n",
    "\n",
    "    canvas = Canvas(config[\"width\"], config[\"height\"])\n",
    "    canvas.gc.scale(scale, scale)\n",
    "    canvas.gc.layout = Layout(width='%spx' % config[\"width\"])\n",
    "    return canvas"
   ]
  },
  {
   "cell_type": "code",
   "execution_count": 20,
   "metadata": {},
   "outputs": [],
   "source": [
    "canvas = get_canvas(config, 500, 250, 1.75)"
   ]
  },
  {
   "cell_type": "code",
   "execution_count": 21,
   "metadata": {},
   "outputs": [],
   "source": [
    "app = JupyterFrontEnd()\n",
    "\n",
    "panel = None\n",
    "for widget in app.shell.widgets.values():\n",
    "    if hasattr(widget, \"title\") and widget.title.label == \"Jyrobot Simulator\":\n",
    "        #panel = widget\n",
    "        break\n",
    "        \n",
    "if panel is None:\n",
    "    panel = Panel()\n",
    "    panel.children = [canvas.gc]\n",
    "    panel.title.label = \"Jyrobot Simulator\" \n",
    "    app.shell.add(panel, 'main', {'mode': 'split-right'})\n",
    "else:\n",
    "    panel.children = [canvas.gc]\n",
    "\n"
   ]
  },
  {
   "cell_type": "code",
   "execution_count": 22,
   "metadata": {},
   "outputs": [],
   "source": [
    "world = World(config, canvas)"
   ]
  },
  {
   "cell_type": "code",
   "execution_count": 23,
   "metadata": {},
   "outputs": [],
   "source": [
    "world.reset()"
   ]
  },
  {
   "cell_type": "code",
   "execution_count": 24,
   "metadata": {},
   "outputs": [],
   "source": [
    "world.robots[0].vx = 1.0\n",
    "world.robots[0].va = math.pi/40"
   ]
  },
  {
   "cell_type": "code",
   "execution_count": 25,
   "metadata": {},
   "outputs": [],
   "source": [
    "world.update()"
   ]
  },
  {
   "cell_type": "code",
   "execution_count": 26,
   "metadata": {},
   "outputs": [
    {
     "name": "stdout",
     "output_type": "stream",
     "text": [
      "CPU times: user 1.52 s, sys: 15.3 ms, total: 1.54 s\n",
      "Wall time: 1.52 s\n"
     ]
    }
   ],
   "source": [
    "%%time\n",
    "world.seconds(20.0)"
   ]
  },
  {
   "cell_type": "code",
   "execution_count": 27,
   "metadata": {},
   "outputs": [
    {
     "name": "stdout",
     "output_type": "stream",
     "text": [
      "CPU times: user 473 ms, sys: 0 ns, total: 473 ms\n",
      "Wall time: 470 ms\n"
     ]
    }
   ],
   "source": [
    "%%time\n",
    "world.seconds(20.0, show=False)"
   ]
  },
  {
   "cell_type": "code",
   "execution_count": 28,
   "metadata": {},
   "outputs": [],
   "source": [
    "world.robots[0].vx = -1.0\n",
    "world.robots[0].va = 0"
   ]
  },
  {
   "cell_type": "code",
   "execution_count": 29,
   "metadata": {},
   "outputs": [],
   "source": [
    "world.update()"
   ]
  },
  {
   "cell_type": "code",
   "execution_count": 30,
   "metadata": {},
   "outputs": [
    {
     "data": {
      "image/png": "[encoded data removed]",
      "text/plain": [
       "<jyrobot.utils.Picture at 0x7f8a1d9df5e0>"
      ]
     },
     "execution_count": 30,
     "metadata": {},
     "output_type": "execute_result"
    }
   ],
   "source": [
    "world.robots[0].cameras[0].takePicture()"
   ]
  },
  {
   "cell_type": "code",
   "execution_count": 31,
   "metadata": {},
   "outputs": [],
   "source": [
    "world.robots[0].cameras[0].set_size(500, 250)\n",
    "world.robots[0].cameras[0].set_angle(180)\n",
    "world.robots[0].cameras[0].set_depth(1.0)"
   ]
  },
  {
   "cell_type": "code",
   "execution_count": 32,
   "metadata": {},
   "outputs": [
    {
     "name": "stdout",
     "output_type": "stream",
     "text": [
      "CPU times: user 8 µs, sys: 3 µs, total: 11 µs\n",
      "Wall time: 19.6 µs\n"
     ]
    },
    {
     "data": {
      "image/png": "[encoded data removed]",
      "text/plain": [
       "<jyrobot.utils.Picture at 0x7f8a1d9643a0>"
      ]
     },
     "execution_count": 32,
     "metadata": {},
     "output_type": "execute_result"
    }
   ],
   "source": [
    "%time\n",
    "world.robots[0].cameras[0].takePicture()"
   ]
  },
  {
   "cell_type": "code",
   "execution_count": 33,
   "metadata": {},
   "outputs": [
    {
     "data": {
      "image/png": "[encoded data removed]",
      "text/plain": [
       "<jyrobot.utils.Picture at 0x7f8a1d9a1790>"
      ]
     },
     "execution_count": 33,
     "metadata": {},
     "output_type": "execute_result"
    }
   ],
   "source": [
    "canvas.takePicture()"
   ]
  },
  {
   "cell_type": "code",
   "execution_count": null,
   "metadata": {},
   "outputs": [],
   "source": []
  }
 ],
 "metadata": {
  "kernelspec": {
   "display_name": "Python 3",
   "language": "python",
   "name": "python3"
  },
  "language_info": {
   "codemirror_mode": {
    "name": "ipython",
    "version": 3
   },
   "file_extension": ".py",
   "mimetype": "text/x-python",
   "name": "python",
   "nbconvert_exporter": "python",
   "pygments_lexer": "ipython3",
   "version": "3.9.1"
  }
 },
 "nbformat": 4,
 "nbformat_minor": 4
}
