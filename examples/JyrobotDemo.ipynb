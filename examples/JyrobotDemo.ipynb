{
 "cells": [
  {
   "cell_type": "code",
   "execution_count": 28,
   "metadata": {},
   "outputs": [],
   "source": [
    "from jyrobot.world import World\n",
    "from jyrobot import config\n",
    "from jyrobot.canvas import Canvas\n",
    "import math\n",
    "\n",
    "from ipylab import JupyterFrontEnd, Panel\n",
    "from ipywidgets import Layout"
   ]
  },
  {
   "cell_type": "code",
   "execution_count": 29,
   "metadata": {},
   "outputs": [],
   "source": [
    "def get_canvas(config, width, height, scale=1.0):\n",
    "    config[\"width\"] = round(width * scale)\n",
    "    config[\"height\"] = round(height * scale)\n",
    "\n",
    "    canvas = Canvas(config[\"width\"], config[\"height\"])\n",
    "    canvas.gc.scale(scale, scale)\n",
    "    return canvas"
   ]
  },
  {
   "cell_type": "code",
   "execution_count": 30,
   "metadata": {},
   "outputs": [],
   "source": [
    "canvas = get_canvas(config, 500, 250, 1.75)"
   ]
  },
  {
   "cell_type": "code",
   "execution_count": 31,
   "metadata": {},
   "outputs": [],
   "source": [
    "app = JupyterFrontEnd()\n",
    "\n",
    "panel = Panel()\n",
    "panel.children = [canvas.gc]\n",
    "panel.title.label = \"Jyrobot Simulator\" \n",
    "canvas.gc.layout = Layout(width='%spx' % config[\"width\"])\n",
    "\n",
    "app.shell.add(panel, 'main', {'mode': 'split-right'})"
   ]
  },
  {
   "cell_type": "code",
   "execution_count": 32,
   "metadata": {},
   "outputs": [],
   "source": [
    "world = World(config, canvas)"
   ]
  },
  {
   "cell_type": "code",
   "execution_count": 33,
   "metadata": {},
   "outputs": [],
   "source": [
    "world.reset()"
   ]
  },
  {
   "cell_type": "code",
   "execution_count": 34,
   "metadata": {},
   "outputs": [],
   "source": [
    "world.robots[0].vx = -5\n",
    "world.robots[0].va = math.pi/10"
   ]
  },
  {
   "cell_type": "code",
   "execution_count": 35,
   "metadata": {},
   "outputs": [],
   "source": [
    "world.update(move=False)\n",
    "world.draw()"
   ]
  },
  {
   "cell_type": "code",
   "execution_count": 36,
   "metadata": {},
   "outputs": [
    {
     "name": "stdout",
     "output_type": "stream",
     "text": [
      "False\n",
      "False\n",
      "False\n",
      "False\n",
      "False\n",
      "False\n",
      "False\n",
      "False\n",
      "False\n",
      "False\n",
      "False\n",
      "False\n",
      "True\n",
      "True\n",
      "True\n",
      "True\n",
      "True\n",
      "True\n",
      "True\n",
      "True\n",
      "CPU times: user 3.09 s, sys: 13.7 ms, total: 3.11 s\n",
      "Wall time: 3.09 s\n"
     ]
    }
   ],
   "source": [
    "%%time\n",
    "world.run(2.0, lambda w: print(w.robots[0].stalled))"
   ]
  },
  {
   "cell_type": "code",
   "execution_count": 37,
   "metadata": {},
   "outputs": [
    {
     "data": {
      "image/png": "[encoded data removed]",
      "text/plain": [
       "<jyrobot.utils.Picture at 0x7f106215d9d0>"
      ]
     },
     "execution_count": 37,
     "metadata": {},
     "output_type": "execute_result"
    }
   ],
   "source": [
    "world.robots[0].cameras[0].takePicture()"
   ]
  },
  {
   "cell_type": "code",
   "execution_count": 38,
   "metadata": {},
   "outputs": [],
   "source": [
    "world.robots[0].cameras[0].cameraShape = [500, 250]\n",
    "world.robots[0].cameras[0].camera = [0 for i in range(500)]\n",
    "world.robots[0].cameras[0].robotHits = [[] for i in range(500)]"
   ]
  },
  {
   "cell_type": "code",
   "execution_count": 39,
   "metadata": {},
   "outputs": [],
   "source": [
    "world.update(move=False)"
   ]
  },
  {
   "cell_type": "code",
   "execution_count": 40,
   "metadata": {},
   "outputs": [
    {
     "data": {
      "image/png": "[encoded data removed]",
      "text/plain": [
       "<jyrobot.utils.Picture at 0x7f1062042640>"
      ]
     },
     "execution_count": 40,
     "metadata": {},
     "output_type": "execute_result"
    }
   ],
   "source": [
    "world.robots[0].cameras[0].takePicture()"
   ]
  },
  {
   "cell_type": "code",
   "execution_count": null,
   "metadata": {},
   "outputs": [],
   "source": []
  }
 ],
 "metadata": {
  "kernelspec": {
   "display_name": "Python 3",
   "language": "python",
   "name": "python3"
  },
  "language_info": {
   "codemirror_mode": {
    "name": "ipython",
    "version": 3
   },
   "file_extension": ".py",
   "mimetype": "text/x-python",
   "name": "python",
   "nbconvert_exporter": "python",
   "pygments_lexer": "ipython3",
   "version": "3.9.1"
  }
 },
 "nbformat": 4,
 "nbformat_minor": 4
}
