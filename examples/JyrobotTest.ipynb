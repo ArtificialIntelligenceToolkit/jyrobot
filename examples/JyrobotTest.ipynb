{
 "cells": [
  {
   "cell_type": "markdown",
   "metadata": {},
   "source": [
    "# Example 1"
   ]
  },
  {
   "cell_type": "code",
   "execution_count": 1,
   "metadata": {},
   "outputs": [],
   "source": [
    "import jyrobot\n",
    "import random"
   ]
  },
  {
   "cell_type": "code",
   "execution_count": 2,
   "metadata": {},
   "outputs": [],
   "source": [
    "jyrobot.switch_backend(\"pil\")"
   ]
  },
  {
   "cell_type": "code",
   "execution_count": 3,
   "metadata": {},
   "outputs": [
    {
     "name": "stdout",
     "output_type": "stream",
     "text": [
      "Searching for jyrobot config files...\n",
      "Directory: ./\n",
      "    no files found\n",
      "Directory: /home/dblank/jyrobot/jyrobot/worlds\n",
      "    'duck-scribbler-no-walls'\n",
      "    'two-scribblers-no-walls'\n",
      "    'two-scribblers-one-wall'\n",
      "    'two-scribblers'\n"
     ]
    }
   ],
   "source": [
    "world = jyrobot.load()"
   ]
  },
  {
   "cell_type": "code",
   "execution_count": 4,
   "metadata": {},
   "outputs": [
    {
     "name": "stdout",
     "output_type": "stream",
     "text": [
      "Random seed initialized to: 6017917214805215748\n"
     ]
    }
   ],
   "source": [
    "world = jyrobot.load(\"two-scribblers\")"
   ]
  },
  {
   "cell_type": "code",
   "execution_count": 5,
   "metadata": {},
   "outputs": [
    {
     "data": {
      "image/png": "[encoded data removed]",
      "text/plain": [
       "<PIL.Image.Image image mode=RGBA size=1500x750 at 0x7F59986CE3A0>"
      ]
     },
     "execution_count": 5,
     "metadata": {},
     "output_type": "execute_result"
    }
   ],
   "source": [
    "world.update()\n",
    "world.take_picture()"
   ]
  },
  {
   "cell_type": "code",
   "execution_count": 6,
   "metadata": {},
   "outputs": [
    {
     "data": {
      "text/plain": [
       "<Robot(name='Red', position=430,50,3.14 v=0,0,0)>"
      ]
     },
     "execution_count": 6,
     "metadata": {},
     "output_type": "execute_result"
    }
   ],
   "source": [
    "world[\"red-1\"]"
   ]
  },
  {
   "cell_type": "code",
   "execution_count": 7,
   "metadata": {},
   "outputs": [
    {
     "ename": "TraitError",
     "evalue": "The 'value' trait of an Image instance expected a bytes object, not the Image <PIL.Image.Image image mode=RGBA size=1500x750 at 0x7F59986CE3A0>.",
     "output_type": "error",
     "traceback": [
      "\u001b[0;31m---------------------------------------------------------------------------\u001b[0m",
      "\u001b[0;31mTraitError\u001b[0m                                Traceback (most recent call last)",
      "\u001b[0;32m<ipython-input-7-1e22e8f26cab>\u001b[0m in \u001b[0;36m<module>\u001b[0;34m\u001b[0m\n\u001b[0;32m----> 1\u001b[0;31m \u001b[0mworld\u001b[0m\u001b[0;34m.\u001b[0m\u001b[0mwatch\u001b[0m\u001b[0;34m(\u001b[0m\u001b[0;34m\"panel\"\u001b[0m\u001b[0;34m)\u001b[0m \u001b[0;31m# or \"panel\", \"left\", \"right\"\u001b[0m\u001b[0;34m\u001b[0m\u001b[0;34m\u001b[0m\u001b[0m\n\u001b[0m\u001b[1;32m      2\u001b[0m \u001b[0mworld\u001b[0m\u001b[0;34m.\u001b[0m\u001b[0mwatch\u001b[0m\u001b[0;34m(\u001b[0m\u001b[0;34m\"inline\"\u001b[0m\u001b[0;34m)\u001b[0m\u001b[0;34m\u001b[0m\u001b[0;34m\u001b[0m\u001b[0m\n",
      "\u001b[0;32m~/jyrobot/jyrobot/world.py\u001b[0m in \u001b[0;36mwatch\u001b[0;34m(self, *args, **kwargs)\u001b[0m\n\u001b[1;32m    426\u001b[0m         \u001b[0mCreate\u001b[0m \u001b[0ma\u001b[0m \u001b[0mlive\u001b[0m \u001b[0mview\u001b[0m \u001b[0mto\u001b[0m \u001b[0mthe\u001b[0m \u001b[0msimulator\u001b[0m\u001b[0;34m.\u001b[0m\u001b[0;34m\u001b[0m\u001b[0;34m\u001b[0m\u001b[0m\n\u001b[1;32m    427\u001b[0m         \"\"\"\n\u001b[0;32m--> 428\u001b[0;31m         \u001b[0mself\u001b[0m\u001b[0;34m.\u001b[0m\u001b[0mbackend\u001b[0m\u001b[0;34m.\u001b[0m\u001b[0mwatch\u001b[0m\u001b[0;34m(\u001b[0m\u001b[0;34m*\u001b[0m\u001b[0margs\u001b[0m\u001b[0;34m,\u001b[0m \u001b[0;34m**\u001b[0m\u001b[0mkwargs\u001b[0m\u001b[0;34m)\u001b[0m\u001b[0;34m\u001b[0m\u001b[0;34m\u001b[0m\u001b[0m\n\u001b[0m\u001b[1;32m    429\u001b[0m         \u001b[0;31m# Two updates to force all robots to see each other\u001b[0m\u001b[0;34m\u001b[0m\u001b[0;34m\u001b[0m\u001b[0;34m\u001b[0m\u001b[0m\n\u001b[1;32m    430\u001b[0m         \u001b[0mself\u001b[0m\u001b[0;34m.\u001b[0m\u001b[0mupdate\u001b[0m\u001b[0;34m(\u001b[0m\u001b[0mshow\u001b[0m\u001b[0;34m=\u001b[0m\u001b[0;32mFalse\u001b[0m\u001b[0;34m)\u001b[0m\u001b[0;34m\u001b[0m\u001b[0;34m\u001b[0m\u001b[0m\n",
      "\u001b[0;32m~/jyrobot/jyrobot/backends/base.py\u001b[0m in \u001b[0;36mwatch\u001b[0;34m(self, *wheres, **kwargs)\u001b[0m\n\u001b[1;32m     61\u001b[0m                     \u001b[0;32mfor\u001b[0m \u001b[0mkeyword\u001b[0m \u001b[0;32min\u001b[0m \u001b[0mdefaults\u001b[0m\u001b[0;34m:\u001b[0m\u001b[0;34m\u001b[0m\u001b[0;34m\u001b[0m\u001b[0m\n\u001b[1;32m     62\u001b[0m                         \u001b[0msetattr\u001b[0m\u001b[0;34m(\u001b[0m\u001b[0mbox\u001b[0m\u001b[0;34m.\u001b[0m\u001b[0mlayout\u001b[0m\u001b[0;34m,\u001b[0m \u001b[0mkeyword\u001b[0m\u001b[0;34m,\u001b[0m \u001b[0mdefaults\u001b[0m\u001b[0;34m[\u001b[0m\u001b[0mkeyword\u001b[0m\u001b[0;34m]\u001b[0m\u001b[0;34m)\u001b[0m\u001b[0;34m\u001b[0m\u001b[0;34m\u001b[0m\u001b[0m\n\u001b[0;32m---> 63\u001b[0;31m                         \u001b[0mbox\u001b[0m\u001b[0;34m.\u001b[0m\u001b[0mchildren\u001b[0m \u001b[0;34m=\u001b[0m \u001b[0;34m[\u001b[0m\u001b[0mself\u001b[0m\u001b[0;34m.\u001b[0m\u001b[0mget_widget\u001b[0m\u001b[0;34m(\u001b[0m\u001b[0;34m)\u001b[0m\u001b[0;34m]\u001b[0m\u001b[0;34m\u001b[0m\u001b[0;34m\u001b[0m\u001b[0m\n\u001b[0m\u001b[1;32m     64\u001b[0m \u001b[0;34m\u001b[0m\u001b[0m\n\u001b[1;32m     65\u001b[0m                     \u001b[0mpanel\u001b[0m\u001b[0;34m.\u001b[0m\u001b[0mchildren\u001b[0m \u001b[0;34m=\u001b[0m \u001b[0;34m[\u001b[0m\u001b[0mbox\u001b[0m\u001b[0;34m]\u001b[0m\u001b[0;34m\u001b[0m\u001b[0;34m\u001b[0m\u001b[0m\n",
      "\u001b[0;32m~/jyrobot/jyrobot/backends/pil.py\u001b[0m in \u001b[0;36mget_widget\u001b[0;34m(self)\u001b[0m\n\u001b[1;32m     36\u001b[0m     \u001b[0;32mdef\u001b[0m \u001b[0mget_widget\u001b[0m\u001b[0;34m(\u001b[0m\u001b[0mself\u001b[0m\u001b[0;34m)\u001b[0m\u001b[0;34m:\u001b[0m\u001b[0;34m\u001b[0m\u001b[0;34m\u001b[0m\u001b[0m\n\u001b[1;32m     37\u001b[0m         \u001b[0;32mfrom\u001b[0m \u001b[0mipywidgets\u001b[0m \u001b[0;32mimport\u001b[0m \u001b[0mImage\u001b[0m\u001b[0;34m\u001b[0m\u001b[0;34m\u001b[0m\u001b[0m\n\u001b[0;32m---> 38\u001b[0;31m         \u001b[0;32mreturn\u001b[0m \u001b[0mImage\u001b[0m\u001b[0;34m(\u001b[0m\u001b[0mvalue\u001b[0m\u001b[0;34m=\u001b[0m\u001b[0mself\u001b[0m\u001b[0;34m.\u001b[0m\u001b[0mimage\u001b[0m\u001b[0;34m)\u001b[0m\u001b[0;34m\u001b[0m\u001b[0;34m\u001b[0m\u001b[0m\n\u001b[0m\u001b[1;32m     39\u001b[0m \u001b[0;34m\u001b[0m\u001b[0m\n\u001b[1;32m     40\u001b[0m     \u001b[0;32mdef\u001b[0m \u001b[0mflush\u001b[0m\u001b[0;34m(\u001b[0m\u001b[0mself\u001b[0m\u001b[0;34m)\u001b[0m\u001b[0;34m:\u001b[0m\u001b[0;34m\u001b[0m\u001b[0;34m\u001b[0m\u001b[0m\n",
      "\u001b[0;32m~/miniconda3/envs/py38/lib/python3.8/site-packages/ipywidgets/widgets/widget_media.py\u001b[0m in \u001b[0;36m__init__\u001b[0;34m(self, *args, **kwargs)\u001b[0m\n\u001b[1;32m    157\u001b[0m \u001b[0;34m\u001b[0m\u001b[0m\n\u001b[1;32m    158\u001b[0m     \u001b[0;32mdef\u001b[0m \u001b[0m__init__\u001b[0m\u001b[0;34m(\u001b[0m\u001b[0mself\u001b[0m\u001b[0;34m,\u001b[0m \u001b[0;34m*\u001b[0m\u001b[0margs\u001b[0m\u001b[0;34m,\u001b[0m \u001b[0;34m**\u001b[0m\u001b[0mkwargs\u001b[0m\u001b[0;34m)\u001b[0m\u001b[0;34m:\u001b[0m\u001b[0;34m\u001b[0m\u001b[0;34m\u001b[0m\u001b[0m\n\u001b[0;32m--> 159\u001b[0;31m         \u001b[0msuper\u001b[0m\u001b[0;34m(\u001b[0m\u001b[0mImage\u001b[0m\u001b[0;34m,\u001b[0m \u001b[0mself\u001b[0m\u001b[0;34m)\u001b[0m\u001b[0;34m.\u001b[0m\u001b[0m__init__\u001b[0m\u001b[0;34m(\u001b[0m\u001b[0;34m*\u001b[0m\u001b[0margs\u001b[0m\u001b[0;34m,\u001b[0m \u001b[0;34m**\u001b[0m\u001b[0mkwargs\u001b[0m\u001b[0;34m)\u001b[0m\u001b[0;34m\u001b[0m\u001b[0;34m\u001b[0m\u001b[0m\n\u001b[0m\u001b[1;32m    160\u001b[0m \u001b[0;34m\u001b[0m\u001b[0m\n\u001b[1;32m    161\u001b[0m     \u001b[0;34m@\u001b[0m\u001b[0mclassmethod\u001b[0m\u001b[0;34m\u001b[0m\u001b[0;34m\u001b[0m\u001b[0m\n",
      "\u001b[0;32m~/miniconda3/envs/py38/lib/python3.8/site-packages/ipywidgets/widgets/widget.py\u001b[0m in \u001b[0;36m__init__\u001b[0;34m(self, **kwargs)\u001b[0m\n\u001b[1;32m    410\u001b[0m         \u001b[0;34m\"\"\"Public constructor\"\"\"\u001b[0m\u001b[0;34m\u001b[0m\u001b[0;34m\u001b[0m\u001b[0m\n\u001b[1;32m    411\u001b[0m         \u001b[0mself\u001b[0m\u001b[0;34m.\u001b[0m\u001b[0m_model_id\u001b[0m \u001b[0;34m=\u001b[0m \u001b[0mkwargs\u001b[0m\u001b[0;34m.\u001b[0m\u001b[0mpop\u001b[0m\u001b[0;34m(\u001b[0m\u001b[0;34m'model_id'\u001b[0m\u001b[0;34m,\u001b[0m \u001b[0;32mNone\u001b[0m\u001b[0;34m)\u001b[0m\u001b[0;34m\u001b[0m\u001b[0;34m\u001b[0m\u001b[0m\n\u001b[0;32m--> 412\u001b[0;31m         \u001b[0msuper\u001b[0m\u001b[0;34m(\u001b[0m\u001b[0mWidget\u001b[0m\u001b[0;34m,\u001b[0m \u001b[0mself\u001b[0m\u001b[0;34m)\u001b[0m\u001b[0;34m.\u001b[0m\u001b[0m__init__\u001b[0m\u001b[0;34m(\u001b[0m\u001b[0;34m**\u001b[0m\u001b[0mkwargs\u001b[0m\u001b[0;34m)\u001b[0m\u001b[0;34m\u001b[0m\u001b[0;34m\u001b[0m\u001b[0m\n\u001b[0m\u001b[1;32m    413\u001b[0m \u001b[0;34m\u001b[0m\u001b[0m\n\u001b[1;32m    414\u001b[0m         \u001b[0mWidget\u001b[0m\u001b[0;34m.\u001b[0m\u001b[0m_call_widget_constructed\u001b[0m\u001b[0;34m(\u001b[0m\u001b[0mself\u001b[0m\u001b[0;34m)\u001b[0m\u001b[0;34m\u001b[0m\u001b[0;34m\u001b[0m\u001b[0m\n",
      "\u001b[0;32m~/miniconda3/envs/py38/lib/python3.8/site-packages/traitlets/traitlets.py\u001b[0m in \u001b[0;36m__init__\u001b[0;34m(self, *args, **kwargs)\u001b[0m\n\u001b[1;32m   1075\u001b[0m             \u001b[0;32mfor\u001b[0m \u001b[0mkey\u001b[0m\u001b[0;34m,\u001b[0m \u001b[0mvalue\u001b[0m \u001b[0;32min\u001b[0m \u001b[0mkwargs\u001b[0m\u001b[0;34m.\u001b[0m\u001b[0mitems\u001b[0m\u001b[0;34m(\u001b[0m\u001b[0;34m)\u001b[0m\u001b[0;34m:\u001b[0m\u001b[0;34m\u001b[0m\u001b[0;34m\u001b[0m\u001b[0m\n\u001b[1;32m   1076\u001b[0m                 \u001b[0;32mif\u001b[0m \u001b[0mself\u001b[0m\u001b[0;34m.\u001b[0m\u001b[0mhas_trait\u001b[0m\u001b[0;34m(\u001b[0m\u001b[0mkey\u001b[0m\u001b[0;34m)\u001b[0m\u001b[0;34m:\u001b[0m\u001b[0;34m\u001b[0m\u001b[0;34m\u001b[0m\u001b[0m\n\u001b[0;32m-> 1077\u001b[0;31m                     \u001b[0msetattr\u001b[0m\u001b[0;34m(\u001b[0m\u001b[0mself\u001b[0m\u001b[0;34m,\u001b[0m \u001b[0mkey\u001b[0m\u001b[0;34m,\u001b[0m \u001b[0mvalue\u001b[0m\u001b[0;34m)\u001b[0m\u001b[0;34m\u001b[0m\u001b[0;34m\u001b[0m\u001b[0m\n\u001b[0m\u001b[1;32m   1078\u001b[0m                 \u001b[0;32melse\u001b[0m\u001b[0;34m:\u001b[0m\u001b[0;34m\u001b[0m\u001b[0;34m\u001b[0m\u001b[0m\n\u001b[1;32m   1079\u001b[0m                     \u001b[0;31m# passthrough args that don't set traits to super\u001b[0m\u001b[0;34m\u001b[0m\u001b[0;34m\u001b[0m\u001b[0;34m\u001b[0m\u001b[0m\n",
      "\u001b[0;32m~/miniconda3/envs/py38/lib/python3.8/site-packages/traitlets/traitlets.py\u001b[0m in \u001b[0;36m__set__\u001b[0;34m(self, obj, value)\u001b[0m\n\u001b[1;32m    602\u001b[0m             \u001b[0;32mraise\u001b[0m \u001b[0mTraitError\u001b[0m\u001b[0;34m(\u001b[0m\u001b[0;34m'The \"%s\" trait is read-only.'\u001b[0m \u001b[0;34m%\u001b[0m \u001b[0mself\u001b[0m\u001b[0;34m.\u001b[0m\u001b[0mname\u001b[0m\u001b[0;34m)\u001b[0m\u001b[0;34m\u001b[0m\u001b[0;34m\u001b[0m\u001b[0m\n\u001b[1;32m    603\u001b[0m         \u001b[0;32melse\u001b[0m\u001b[0;34m:\u001b[0m\u001b[0;34m\u001b[0m\u001b[0;34m\u001b[0m\u001b[0m\n\u001b[0;32m--> 604\u001b[0;31m             \u001b[0mself\u001b[0m\u001b[0;34m.\u001b[0m\u001b[0mset\u001b[0m\u001b[0;34m(\u001b[0m\u001b[0mobj\u001b[0m\u001b[0;34m,\u001b[0m \u001b[0mvalue\u001b[0m\u001b[0;34m)\u001b[0m\u001b[0;34m\u001b[0m\u001b[0;34m\u001b[0m\u001b[0m\n\u001b[0m\u001b[1;32m    605\u001b[0m \u001b[0;34m\u001b[0m\u001b[0m\n\u001b[1;32m    606\u001b[0m     \u001b[0;32mdef\u001b[0m \u001b[0m_validate\u001b[0m\u001b[0;34m(\u001b[0m\u001b[0mself\u001b[0m\u001b[0;34m,\u001b[0m \u001b[0mobj\u001b[0m\u001b[0;34m,\u001b[0m \u001b[0mvalue\u001b[0m\u001b[0;34m)\u001b[0m\u001b[0;34m:\u001b[0m\u001b[0;34m\u001b[0m\u001b[0;34m\u001b[0m\u001b[0m\n",
      "\u001b[0;32m~/miniconda3/envs/py38/lib/python3.8/site-packages/traitlets/traitlets.py\u001b[0m in \u001b[0;36mset\u001b[0;34m(self, obj, value)\u001b[0m\n\u001b[1;32m    576\u001b[0m \u001b[0;34m\u001b[0m\u001b[0m\n\u001b[1;32m    577\u001b[0m     \u001b[0;32mdef\u001b[0m \u001b[0mset\u001b[0m\u001b[0;34m(\u001b[0m\u001b[0mself\u001b[0m\u001b[0;34m,\u001b[0m \u001b[0mobj\u001b[0m\u001b[0;34m,\u001b[0m \u001b[0mvalue\u001b[0m\u001b[0;34m)\u001b[0m\u001b[0;34m:\u001b[0m\u001b[0;34m\u001b[0m\u001b[0;34m\u001b[0m\u001b[0m\n\u001b[0;32m--> 578\u001b[0;31m         \u001b[0mnew_value\u001b[0m \u001b[0;34m=\u001b[0m \u001b[0mself\u001b[0m\u001b[0;34m.\u001b[0m\u001b[0m_validate\u001b[0m\u001b[0;34m(\u001b[0m\u001b[0mobj\u001b[0m\u001b[0;34m,\u001b[0m \u001b[0mvalue\u001b[0m\u001b[0;34m)\u001b[0m\u001b[0;34m\u001b[0m\u001b[0;34m\u001b[0m\u001b[0m\n\u001b[0m\u001b[1;32m    579\u001b[0m         \u001b[0;32mtry\u001b[0m\u001b[0;34m:\u001b[0m\u001b[0;34m\u001b[0m\u001b[0;34m\u001b[0m\u001b[0m\n\u001b[1;32m    580\u001b[0m             \u001b[0mold_value\u001b[0m \u001b[0;34m=\u001b[0m \u001b[0mobj\u001b[0m\u001b[0;34m.\u001b[0m\u001b[0m_trait_values\u001b[0m\u001b[0;34m[\u001b[0m\u001b[0mself\u001b[0m\u001b[0;34m.\u001b[0m\u001b[0mname\u001b[0m\u001b[0;34m]\u001b[0m\u001b[0;34m\u001b[0m\u001b[0;34m\u001b[0m\u001b[0m\n",
      "\u001b[0;32m~/miniconda3/envs/py38/lib/python3.8/site-packages/traitlets/traitlets.py\u001b[0m in \u001b[0;36m_validate\u001b[0;34m(self, obj, value)\u001b[0m\n\u001b[1;32m    608\u001b[0m             \u001b[0;32mreturn\u001b[0m \u001b[0mvalue\u001b[0m\u001b[0;34m\u001b[0m\u001b[0;34m\u001b[0m\u001b[0m\n\u001b[1;32m    609\u001b[0m         \u001b[0;32mif\u001b[0m \u001b[0mhasattr\u001b[0m\u001b[0;34m(\u001b[0m\u001b[0mself\u001b[0m\u001b[0;34m,\u001b[0m \u001b[0;34m'validate'\u001b[0m\u001b[0;34m)\u001b[0m\u001b[0;34m:\u001b[0m\u001b[0;34m\u001b[0m\u001b[0;34m\u001b[0m\u001b[0m\n\u001b[0;32m--> 610\u001b[0;31m             \u001b[0mvalue\u001b[0m \u001b[0;34m=\u001b[0m \u001b[0mself\u001b[0m\u001b[0;34m.\u001b[0m\u001b[0mvalidate\u001b[0m\u001b[0;34m(\u001b[0m\u001b[0mobj\u001b[0m\u001b[0;34m,\u001b[0m \u001b[0mvalue\u001b[0m\u001b[0;34m)\u001b[0m\u001b[0;34m\u001b[0m\u001b[0;34m\u001b[0m\u001b[0m\n\u001b[0m\u001b[1;32m    611\u001b[0m         \u001b[0;32mif\u001b[0m \u001b[0mobj\u001b[0m\u001b[0;34m.\u001b[0m\u001b[0m_cross_validation_lock\u001b[0m \u001b[0;32mis\u001b[0m \u001b[0;32mFalse\u001b[0m\u001b[0;34m:\u001b[0m\u001b[0;34m\u001b[0m\u001b[0;34m\u001b[0m\u001b[0m\n\u001b[1;32m    612\u001b[0m             \u001b[0mvalue\u001b[0m \u001b[0;34m=\u001b[0m \u001b[0mself\u001b[0m\u001b[0;34m.\u001b[0m\u001b[0m_cross_validate\u001b[0m\u001b[0;34m(\u001b[0m\u001b[0mobj\u001b[0m\u001b[0;34m,\u001b[0m \u001b[0mvalue\u001b[0m\u001b[0;34m)\u001b[0m\u001b[0;34m\u001b[0m\u001b[0;34m\u001b[0m\u001b[0m\n",
      "\u001b[0;32m~/miniconda3/envs/py38/lib/python3.8/site-packages/traitlets/traitlets.py\u001b[0m in \u001b[0;36mvalidate\u001b[0;34m(self, obj, value)\u001b[0m\n\u001b[1;32m   2138\u001b[0m         \u001b[0;32mif\u001b[0m \u001b[0misinstance\u001b[0m\u001b[0;34m(\u001b[0m\u001b[0mvalue\u001b[0m\u001b[0;34m,\u001b[0m \u001b[0mbytes\u001b[0m\u001b[0;34m)\u001b[0m\u001b[0;34m:\u001b[0m\u001b[0;34m\u001b[0m\u001b[0;34m\u001b[0m\u001b[0m\n\u001b[1;32m   2139\u001b[0m             \u001b[0;32mreturn\u001b[0m \u001b[0mvalue\u001b[0m\u001b[0;34m\u001b[0m\u001b[0;34m\u001b[0m\u001b[0m\n\u001b[0;32m-> 2140\u001b[0;31m         \u001b[0mself\u001b[0m\u001b[0;34m.\u001b[0m\u001b[0merror\u001b[0m\u001b[0;34m(\u001b[0m\u001b[0mobj\u001b[0m\u001b[0;34m,\u001b[0m \u001b[0mvalue\u001b[0m\u001b[0;34m)\u001b[0m\u001b[0;34m\u001b[0m\u001b[0;34m\u001b[0m\u001b[0m\n\u001b[0m\u001b[1;32m   2141\u001b[0m \u001b[0;34m\u001b[0m\u001b[0m\n\u001b[1;32m   2142\u001b[0m     \u001b[0;32mdef\u001b[0m \u001b[0mfrom_string\u001b[0m\u001b[0;34m(\u001b[0m\u001b[0mself\u001b[0m\u001b[0;34m,\u001b[0m \u001b[0ms\u001b[0m\u001b[0;34m)\u001b[0m\u001b[0;34m:\u001b[0m\u001b[0;34m\u001b[0m\u001b[0;34m\u001b[0m\u001b[0m\n",
      "\u001b[0;32m~/miniconda3/envs/py38/lib/python3.8/site-packages/traitlets/traitlets.py\u001b[0m in \u001b[0;36merror\u001b[0;34m(self, obj, value, error, info)\u001b[0m\n\u001b[1;32m    688\u001b[0m                     e = \"The '%s' trait expected %s, not %s.\" % (\n\u001b[1;32m    689\u001b[0m                         self.name, self.info(), describe(\"the\", value))\n\u001b[0;32m--> 690\u001b[0;31m                 \u001b[0;32mraise\u001b[0m \u001b[0mTraitError\u001b[0m\u001b[0;34m(\u001b[0m\u001b[0me\u001b[0m\u001b[0;34m)\u001b[0m\u001b[0;34m\u001b[0m\u001b[0;34m\u001b[0m\u001b[0m\n\u001b[0m\u001b[1;32m    691\u001b[0m \u001b[0;34m\u001b[0m\u001b[0m\n\u001b[1;32m    692\u001b[0m     \u001b[0;32mdef\u001b[0m \u001b[0mget_metadata\u001b[0m\u001b[0;34m(\u001b[0m\u001b[0mself\u001b[0m\u001b[0;34m,\u001b[0m \u001b[0mkey\u001b[0m\u001b[0;34m,\u001b[0m \u001b[0mdefault\u001b[0m\u001b[0;34m=\u001b[0m\u001b[0;32mNone\u001b[0m\u001b[0;34m)\u001b[0m\u001b[0;34m:\u001b[0m\u001b[0;34m\u001b[0m\u001b[0;34m\u001b[0m\u001b[0m\n",
      "\u001b[0;31mTraitError\u001b[0m: The 'value' trait of an Image instance expected a bytes object, not the Image <PIL.Image.Image image mode=RGBA size=1500x750 at 0x7F59986CE3A0>."
     ]
    }
   ],
   "source": [
    "world.watch(\"panel\") # or \"panel\", \"left\", \"right\"\n",
    "world.watch(\"inline\")"
   ]
  },
  {
   "cell_type": "code",
   "execution_count": 7,
   "metadata": {},
   "outputs": [
    {
     "data": {
      "image/png": "[encoded data removed]",
      "text/plain": [
       "<PIL.Image.Image image mode=RGBA size=100x100 at 0x7F9CF899F460>"
      ]
     },
     "execution_count": 7,
     "metadata": {},
     "output_type": "execute_result"
    }
   ],
   "source": [
    "world.take_picture(\"red\")"
   ]
  },
  {
   "cell_type": "code",
   "execution_count": null,
   "metadata": {},
   "outputs": [],
   "source": [
    "world.info()"
   ]
  },
  {
   "cell_type": "code",
   "execution_count": null,
   "metadata": {},
   "outputs": [],
   "source": [
    "world[\"red\"][\"camera\"]"
   ]
  },
  {
   "cell_type": "code",
   "execution_count": null,
   "metadata": {},
   "outputs": [],
   "source": [
    "world[\"red\"][\"camera\"].take_picture()"
   ]
  },
  {
   "cell_type": "code",
   "execution_count": null,
   "metadata": {},
   "outputs": [],
   "source": [
    "world[0].move(1, 0)\n",
    "world[1].move(1, 0)\n",
    "\n",
    "step = 0\n",
    "\n",
    "def control(robot):\n",
    "    global step\n",
    "    if robot.stalled:\n",
    "        robot.reverse()\n",
    "        robot.turn(1 - random.random() * 2)\n",
    "    if random.random() < .1:\n",
    "        robot.turn(1 - random.random() * 2)\n",
    "    #if step % 100 == 0:\n",
    "    #    world.display(world.take_picture())\n",
    "    step += 1"
   ]
  },
  {
   "cell_type": "code",
   "execution_count": null,
   "metadata": {},
   "outputs": [],
   "source": [
    "world.run([control, control], show=True, real_time=True)"
   ]
  },
  {
   "cell_type": "code",
   "execution_count": null,
   "metadata": {},
   "outputs": [],
   "source": [
    "world.run([control, control], show=True, real_time=False)"
   ]
  },
  {
   "cell_type": "markdown",
   "metadata": {},
   "source": [
    "# Example 2"
   ]
  },
  {
   "cell_type": "code",
   "execution_count": null,
   "metadata": {},
   "outputs": [],
   "source": [
    "import jyrobot\n",
    "import time"
   ]
  },
  {
   "cell_type": "code",
   "execution_count": null,
   "metadata": {},
   "outputs": [],
   "source": [
    "w = jyrobot.World(width=500, height=500, ground_color=\"white\", seed=10)\n",
    "w.watch(\"panel\", \"inline\")"
   ]
  },
  {
   "cell_type": "code",
   "execution_count": null,
   "metadata": {},
   "outputs": [],
   "source": [
    "for i in range(20):\n",
    "    robot = jyrobot.Scribbler(color=\"blue\", name=\"Scribby-%s\" % i)\n",
    "    sensor = jyrobot.Camera()\n",
    "    robot.add_device(sensor)\n",
    "    w.add_robot(robot)\n",
    "w.draw()"
   ]
  },
  {
   "cell_type": "code",
   "execution_count": null,
   "metadata": {},
   "outputs": [],
   "source": [
    "w.add_wall(\"black\", 10, 0, 20, 50)"
   ]
  },
  {
   "cell_type": "code",
   "execution_count": null,
   "metadata": {},
   "outputs": [],
   "source": [
    "from jyrobot.utils import Color\n",
    "import random\n",
    "for robot in w:\n",
    "    robot.set_color( Color(\n",
    "        255 * random.random(), \n",
    "        255 * random.random(), \n",
    "        255 * random.random(), \n",
    "   ))\n",
    "w.draw()   "
   ]
  },
  {
   "cell_type": "code",
   "execution_count": null,
   "metadata": {},
   "outputs": [],
   "source": [
    "%%time\n",
    "pics = []\n",
    "for robot in w:\n",
    "    pic = robot[\"camera\"].take_picture()\n",
    "    pics.append(pic)"
   ]
  },
  {
   "cell_type": "code",
   "execution_count": null,
   "metadata": {},
   "outputs": [],
   "source": [
    "w.display(*pics)"
   ]
  },
  {
   "cell_type": "code",
   "execution_count": null,
   "metadata": {},
   "outputs": [],
   "source": [
    "%%time\n",
    "pics = []\n",
    "for i, robot in enumerate(w):\n",
    "    pic = w.take_picture(i)\n",
    "    pics.append(pic)"
   ]
  },
  {
   "cell_type": "code",
   "execution_count": null,
   "metadata": {},
   "outputs": [],
   "source": [
    "w.display(*pics, background_color=\"black\")"
   ]
  },
  {
   "cell_type": "code",
   "execution_count": null,
   "metadata": {},
   "outputs": [],
   "source": [
    "for robot in w:\n",
    "    robot.move(1,0)"
   ]
  },
  {
   "cell_type": "code",
   "execution_count": null,
   "metadata": {},
   "outputs": [],
   "source": [
    "def control(world):\n",
    "    for robot in world:\n",
    "        if robot.stalled:\n",
    "            robot.reverse()\n",
    "        robot.turn(1 - random.random() * 2)"
   ]
  },
  {
   "cell_type": "code",
   "execution_count": null,
   "metadata": {},
   "outputs": [],
   "source": [
    "w.run(control, show=True, real_time=False)"
   ]
  },
  {
   "cell_type": "markdown",
   "metadata": {},
   "source": [
    "# Example 3"
   ]
  },
  {
   "cell_type": "code",
   "execution_count": null,
   "metadata": {},
   "outputs": [],
   "source": [
    "import jyrobot as jr\n",
    "import random"
   ]
  },
  {
   "cell_type": "code",
   "execution_count": null,
   "metadata": {},
   "outputs": [],
   "source": [
    "w = jr.World(width=100, height=100)"
   ]
  },
  {
   "cell_type": "code",
   "execution_count": null,
   "metadata": {},
   "outputs": [],
   "source": [
    "w.watch(\"inline\", \"panel\") # or \"panel\", \"left\", \"right\""
   ]
  },
  {
   "cell_type": "code",
   "execution_count": null,
   "metadata": {},
   "outputs": [],
   "source": [
    "r = jr.Scribbler()"
   ]
  },
  {
   "cell_type": "code",
   "execution_count": null,
   "metadata": {},
   "outputs": [],
   "source": [
    "w.add_robot(r)"
   ]
  },
  {
   "cell_type": "code",
   "execution_count": null,
   "metadata": {},
   "outputs": [],
   "source": [
    "sensor = jr.RangeSensor()"
   ]
  },
  {
   "cell_type": "code",
   "execution_count": null,
   "metadata": {},
   "outputs": [],
   "source": [
    "r.add_device(sensor)"
   ]
  },
  {
   "cell_type": "code",
   "execution_count": null,
   "metadata": {},
   "outputs": [],
   "source": [
    "r.forward(1)\n",
    "\n",
    "def control(world):\n",
    "    for robot in world:\n",
    "        if robot.stalled:\n",
    "            robot.reverse()\n",
    "        robot.turn(1 - random.random() * 2)"
   ]
  },
  {
   "cell_type": "code",
   "execution_count": null,
   "metadata": {},
   "outputs": [],
   "source": [
    "w.seconds(10, control, show=True, real_time=True)"
   ]
  },
  {
   "cell_type": "code",
   "execution_count": null,
   "metadata": {},
   "outputs": [],
   "source": [
    "w.seconds(10, control, show=True, real_time=False)"
   ]
  },
  {
   "cell_type": "code",
   "execution_count": null,
   "metadata": {},
   "outputs": [],
   "source": [
    "w.seconds(10, control, show=False)"
   ]
  },
  {
   "cell_type": "code",
   "execution_count": null,
   "metadata": {},
   "outputs": [],
   "source": [
    "r.set_pose(50, 50, 180)"
   ]
  },
  {
   "cell_type": "code",
   "execution_count": null,
   "metadata": {},
   "outputs": [],
   "source": [
    "r.set_color(\"purple\")"
   ]
  },
  {
   "cell_type": "code",
   "execution_count": null,
   "metadata": {},
   "outputs": [],
   "source": [
    "w.take_picture()"
   ]
  },
  {
   "cell_type": "code",
   "execution_count": null,
   "metadata": {},
   "outputs": [],
   "source": []
  }
 ],
 "metadata": {
  "kernelspec": {
   "display_name": "Python 3",
   "language": "python",
   "name": "python3"
  },
  "language_info": {
   "codemirror_mode": {
    "name": "ipython",
    "version": 3
   },
   "file_extension": ".py",
   "mimetype": "text/x-python",
   "name": "python",
   "nbconvert_exporter": "python",
   "pygments_lexer": "ipython3",
   "version": "3.8.5"
  },
  "widgets": {
   "application/vnd.jupyter.widget-state+json": {
    "state": {
     "53650194835c488ea6c629422d612713": {
      "model_module": "ipylab",
      "model_module_version": "^0.3.0",
      "model_name": "ShellModel",
      "state": {
       "_model_module_version": "^0.3.0",
       "_view_module": null,
       "_view_module_version": ""
      }
     },
     "6b34d3cea5004067b86980478a374898": {
      "model_module": "@jupyter-widgets/controls",
      "model_module_version": "1.5.0",
      "model_name": "BoxModel",
      "state": {
       "layout": "IPY_MODEL_c67308c864784a22a332a18c2991d719"
      }
     },
     "73ae9af14480445bb5fb4e893038052a": {
      "model_module": "ipylab",
      "model_module_version": "^0.3.0",
      "model_name": "PanelModel",
      "state": {
       "_model_module_version": "^0.3.0",
       "layout": "IPY_MODEL_f85d168a13e5455d8fd325313058aefe",
       "title": "IPY_MODEL_95c18c3e8a4a4f469c107d5683243b67"
      }
     },
     "95c18c3e8a4a4f469c107d5683243b67": {
      "model_module": "ipylab",
      "model_module_version": "^0.3.0",
      "model_name": "TitleModel",
      "state": {
       "_model_module_version": "^0.3.0",
       "_view_module": null,
       "_view_module_version": "",
       "closable": true,
       "icon_class": "",
       "label": ""
      }
     },
     "af97e19920204515a67c795dadab194c": {
      "model_module": "ipylab",
      "model_module_version": "^0.3.0",
      "model_name": "JupyterFrontEndModel",
      "state": {
       "_model_module_version": "^0.3.0",
       "_view_module": null,
       "_view_module_version": "",
       "commands": "IPY_MODEL_f0f7d5b6d93c4dbf8cd7e9b84730da02",
       "shell": "IPY_MODEL_53650194835c488ea6c629422d612713",
       "version": "2.2.9"
      }
     },
     "c67308c864784a22a332a18c2991d719": {
      "model_module": "@jupyter-widgets/base",
      "model_module_version": "1.2.0",
      "model_name": "LayoutModel",
      "state": {
       "width": "100%"
      }
     },
     "f0f7d5b6d93c4dbf8cd7e9b84730da02": {
      "model_module": "ipylab",
      "model_module_version": "^0.3.0",
      "model_name": "CommandRegistryModel",
      "state": {
       "_command_list": [
        "__internal:context-menu-info",
        "apputils:activate-command-palette",
        "apputils:print",
        "apputils:run-first-enabled",
        "completer:invoke",
        "completer:select",
        "tooltip:dismiss",
        "launcher:create",
        "editmenu:undo",
        "editmenu:redo",
        "editmenu:clear-current",
        "editmenu:clear-all",
        "editmenu:go-to-line",
        "filemenu:close-and-cleanup",
        "filemenu:create-console",
        "filemenu:shutdown",
        "filemenu:logout",
        "kernelmenu:interrupt",
        "kernelmenu:restart",
        "kernelmenu:restart-and-clear",
        "kernelmenu:change",
        "kernelmenu:shutdown",
        "kernelmenu:shutdownAll",
        "runmenu:run",
        "runmenu:run-all",
        "runmenu:restart-and-run-all",
        "viewmenu:line-numbering",
        "viewmenu:match-brackets",
        "viewmenu:word-wrap",
        "tabsmenu:activate-by-id",
        "tabsmenu:activate-previously-used-tab",
        "editmenu:open",
        "filemenu:open",
        "kernelmenu:open",
        "runmenu:open",
        "viewmenu:open",
        "settingsmenu:open",
        "tabsmenu:open",
        "helpmenu:open",
        "mainmenu:open-first",
        "documentsearch:start",
        "documentsearch:startWithReplace",
        "documentsearch:highlightNext",
        "documentsearch:highlightPrevious",
        "docmanager:clone",
        "docmanager:rename",
        "docmanager:delete",
        "docmanager:show-in-file-browser",
        "docmanager:delete-file",
        "docmanager:new-untitled",
        "docmanager:open",
        "docmanager:open-browser-tab",
        "docmanager:reload",
        "docmanager:restore-checkpoint",
        "docmanager:save",
        "docmanager:save-all",
        "docmanager:save-as",
        "docmanager:download",
        "docmanager:toggle-autosave",
        "sidebar:switch",
        "apputils:change-theme",
        "apputils:theme-scrollbars",
        "apputils:incr-font-size",
        "apputils:decr-font-size",
        "statusbar:toggle",
        "rendermime:handle-local-link",
        "application:activate-next-tab",
        "application:activate-previous-tab",
        "application:activate-next-tab-bar",
        "application:activate-previous-tab-bar",
        "application:close",
        "application:close-all",
        "application:close-other-tabs",
        "application:close-right-tabs",
        "application:toggle-left-area",
        "application:toggle-right-area",
        "application:toggle-presentation-mode",
        "application:set-mode",
        "application:toggle-mode",
        "apputils:load-statedb",
        "apputils:reset",
        "apputils:reset-on-load",
        "markdownviewer:open",
        "markdownviewer:edit",
        "settingeditor:open",
        "settingeditor:revert",
        "settingeditor:save",
        "inspector:open",
        "htmlviewer:trust-html",
        "imageviewer:zoom-in",
        "imageviewer:zoom-out",
        "imageviewer:reset-image",
        "imageviewer:rotate-clockwise",
        "imageviewer:rotate-counterclockwise",
        "imageviewer:flip-horizontal",
        "imageviewer:flip-vertical",
        "imageviewer:invert-colors",
        "filebrowser:delete",
        "filebrowser:copy",
        "filebrowser:cut",
        "filebrowser:download",
        "filebrowser:duplicate",
        "filebrowser:hide-main",
        "filebrowser:go-to-path",
        "filebrowser:open-path",
        "filebrowser:open",
        "filebrowser:open-browser-tab",
        "filebrowser:copy-download-link",
        "filebrowser:paste",
        "filebrowser:create-new-directory",
        "filebrowser:create-new-file",
        "filebrowser:create-new-markdown-file",
        "filebrowser:rename",
        "filebrowser:copy-path",
        "filebrowser:activate",
        "filebrowser:shutdown",
        "filebrowser:toggle-main",
        "filebrowser:create-main-launcher",
        "filebrowser:toggle-navigate-to-current-directory",
        "filebrowser:toggle-last-modified",
        "filebrowser:share-main",
        "notebook:run-cell-and-select-next",
        "notebook:run-cell",
        "notebook:run-cell-and-insert-below",
        "notebook:run-in-console",
        "notebook:run-all-cells",
        "notebook:run-all-above",
        "notebook:run-all-below",
        "notebook:render-all-markdown",
        "notebook:restart-kernel",
        "notebook:close-and-shutdown",
        "notebook:trust",
        "notebook:export-to-format",
        "notebook:restart-clear-output",
        "notebook:restart-and-run-to-selected",
        "notebook:restart-run-all",
        "notebook:clear-all-cell-outputs",
        "notebook:clear-cell-output",
        "notebook:interrupt-kernel",
        "notebook:change-cell-to-code",
        "notebook:change-cell-to-markdown",
        "notebook:change-cell-to-raw",
        "notebook:cut-cell",
        "notebook:copy-cell",
        "notebook:paste-cell-below",
        "notebook:paste-cell-above",
        "notebook:paste-and-replace-cell",
        "notebook:delete-cell",
        "notebook:split-cell-at-cursor",
        "notebook:merge-cells",
        "notebook:insert-cell-above",
        "notebook:insert-cell-below",
        "notebook:move-cursor-up",
        "notebook:move-cursor-down",
        "notebook:extend-marked-cells-above",
        "notebook:extend-marked-cells-top",
        "notebook:extend-marked-cells-below",
        "notebook:extend-marked-cells-bottom",
        "notebook:select-all",
        "notebook:deselect-all",
        "notebook:move-cell-up",
        "notebook:move-cell-down",
        "notebook:toggle-all-cell-line-numbers",
        "notebook:enter-command-mode",
        "notebook:enter-edit-mode",
        "notebook:undo-cell-action",
        "notebook:redo-cell-action",
        "notebook:change-kernel",
        "notebook:reconnect-to-kernel",
        "notebook:create-output-view",
        "notebook:create-console",
        "notebook:change-cell-to-heading-1",
        "notebook:change-cell-to-heading-2",
        "notebook:change-cell-to-heading-3",
        "notebook:change-cell-to-heading-4",
        "notebook:change-cell-to-heading-5",
        "notebook:change-cell-to-heading-6",
        "notebook:hide-cell-code",
        "notebook:show-cell-code",
        "notebook:hide-all-cell-code",
        "notebook:show-all-cell-code",
        "notebook:hide-cell-outputs",
        "notebook:show-cell-outputs",
        "notebook:hide-all-cell-outputs",
        "notebook:show-all-cell-outputs",
        "notebook:enable-output-scrolling",
        "notebook:disable-output-scrolling",
        "notebook:select-last-run-cell",
        "notebook:replace-selection",
        "notebook:create-new",
        "help:about",
        "help:open",
        "help:launch-classic-notebook",
        "terminal:create-new",
        "terminal:open",
        "terminal:refresh",
        "terminal:increase-font",
        "terminal:decrease-font",
        "terminal:set-theme",
        "completer:invoke-notebook",
        "completer:select-notebook",
        "logconsole:open",
        "logconsole:add-checkpoint",
        "logconsole:clear",
        "logconsole:set-level",
        "tooltip:launch-notebook",
        "@jupyter-widgets/jupyterlab-manager:saveWidgetState",
        "extensionmanager:toggle",
        "console:open",
        "console:create",
        "console:clear",
        "console:run-unforced",
        "console:run-forced",
        "console:linebreak",
        "console:replace-selection",
        "console:interrupt-kernel",
        "console:restart-kernel",
        "console:close-and-shutdown",
        "console:inject",
        "console:change-kernel",
        "console:interaction-mode",
        "fileeditor:change-font-size",
        "fileeditor:toggle-line-numbers",
        "fileeditor:toggle-line-wrap",
        "fileeditor:change-tabs",
        "fileeditor:toggle-match-brackets",
        "fileeditor:toggle-autoclosing-brackets",
        "fileeditor:replace-selection",
        "fileeditor:create-console",
        "fileeditor:run-code",
        "fileeditor:run-all",
        "fileeditor:markdown-preview",
        "fileeditor:create-new",
        "fileeditor:create-new-markdown-file",
        "fileeditor:undo",
        "fileeditor:redo",
        "fileeditor:cut",
        "fileeditor:copy",
        "fileeditor:paste",
        "fileeditor:select-all",
        "completer:invoke-console",
        "completer:select-console",
        "console:toggle-show-all-kernel-activity",
        "tooltip:launch-console",
        "codemirror:change-theme",
        "codemirror:change-keymap",
        "codemirror:find",
        "codemirror:go-to-line",
        "codemirror:change-mode",
        "completer:invoke-file",
        "completer:select-file",
        "tooltip:launch-file",
        "help-menu-python3:banner",
        "help-menu-python3:Python Reference",
        "help-menu-python3:IPython Reference",
        "help-menu-python3:NumPy Reference",
        "help-menu-python3:SciPy Reference",
        "help-menu-python3:Matplotlib Reference",
        "help-menu-python3:SymPy Reference",
        "help-menu-python3:pandas Reference"
       ],
       "_model_module_version": "^0.3.0",
       "_view_module": null,
       "_view_module_version": ""
      }
     },
     "f85d168a13e5455d8fd325313058aefe": {
      "model_module": "@jupyter-widgets/base",
      "model_module_version": "1.2.0",
      "model_name": "LayoutModel",
      "state": {}
     }
    },
    "version_major": 2,
    "version_minor": 0
   }
  }
 },
 "nbformat": 4,
 "nbformat_minor": 4
}
