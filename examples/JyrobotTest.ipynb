{
 "cells": [
  {
   "cell_type": "markdown",
   "metadata": {},
   "source": [
    "# Example 1"
   ]
  },
  {
   "cell_type": "code",
   "execution_count": 1,
   "metadata": {},
   "outputs": [
    {
     "name": "stdout",
     "output_type": "stream",
     "text": [
      "env: JYROBOT_BACKEND=pil:{'mode':'RGBA','format':'png'}\n"
     ]
    }
   ],
   "source": [
    "%env JYROBOT_BACKEND = pil:{'mode':'RGBA','format':'png'}"
   ]
  },
  {
   "cell_type": "code",
   "execution_count": 2,
   "metadata": {},
   "outputs": [],
   "source": [
    "import jyrobot\n",
    "import random"
   ]
  },
  {
   "cell_type": "code",
   "execution_count": 3,
   "metadata": {},
   "outputs": [],
   "source": [
    "import jyrobot.backends"
   ]
  },
  {
   "cell_type": "code",
   "execution_count": 4,
   "metadata": {},
   "outputs": [
    {
     "data": {
      "text/plain": [
       "{'mode': 'RGBA', 'format': 'png'}"
      ]
     },
     "execution_count": 4,
     "metadata": {},
     "output_type": "execute_result"
    }
   ],
   "source": [
    "jyrobot.backends.ARGS"
   ]
  },
  {
   "cell_type": "code",
   "execution_count": 5,
   "metadata": {},
   "outputs": [
    {
     "name": "stdout",
     "output_type": "stream",
     "text": [
      "Searching for jyrobot config files...\n",
      "Directory: ./\n",
      "    'experiment-01'\n",
      "Directory: /home/dblank/jyrobot/jyrobot/worlds\n",
      "    'duck-scribbler-no-walls'\n",
      "    'two-scribblers-no-walls'\n",
      "    'two-scribblers-one-wall'\n",
      "    'two-scribblers'\n"
     ]
    }
   ],
   "source": [
    "world = jyrobot.load()"
   ]
  },
  {
   "cell_type": "code",
   "execution_count": 6,
   "metadata": {},
   "outputs": [
    {
     "name": "stdout",
     "output_type": "stream",
     "text": [
      "Random seed initialized to: 3471388526489809788\n"
     ]
    }
   ],
   "source": [
    "world = jyrobot.load(\"two-scribblers\")"
   ]
  },
  {
   "cell_type": "code",
   "execution_count": 7,
   "metadata": {},
   "outputs": [],
   "source": [
    "world.update()\n",
    "pic = world.take_picture()"
   ]
  },
  {
   "cell_type": "code",
   "execution_count": 8,
   "metadata": {},
   "outputs": [
    {
     "data": {
      "text/plain": [
       "<Robot(name='Red', position=430,50,3.14 v=0,0,0)>"
      ]
     },
     "execution_count": 8,
     "metadata": {},
     "output_type": "execute_result"
    }
   ],
   "source": [
    "world[\"red-1\"]"
   ]
  },
  {
   "cell_type": "code",
   "execution_count": 9,
   "metadata": {},
   "outputs": [
    {
     "data": {
      "application/vnd.jupyter.widget-view+json": {
       "model_id": "e11cca9f2e0b48cf9d83b8c92b4bfbac",
       "version_major": 2,
       "version_minor": 0
      },
      "text/plain": [
       "Box(children=(Image(value=b'\\x89PNG\\r\\n\\x1a\\n\\x00\\x00\\x00\\rIHDR\\x00\\x00\\x05\\xdc\\x00\\x00\\x02\\xee\\x08\\x06\\x00\\x0…"
      ]
     },
     "metadata": {},
     "output_type": "display_data"
    }
   ],
   "source": [
    "world.watch(\"panel\") # or \"panel\", \"left\", \"right\"\n",
    "world.watch(\"inline\")"
   ]
  },
  {
   "cell_type": "code",
   "execution_count": 10,
   "metadata": {},
   "outputs": [
    {
     "data": {
      "image/png": "[encoded data removed]",
      "text/plain": [
       "<PIL.Image.Image image mode=RGBA size=100x100 at 0x7FCD7EA84D60>"
      ]
     },
     "execution_count": 10,
     "metadata": {},
     "output_type": "execute_result"
    }
   ],
   "source": [
    "world.take_picture(\"red\")"
   ]
  },
  {
   "cell_type": "code",
   "execution_count": 11,
   "metadata": {},
   "outputs": [
    {
     "name": "stdout",
     "output_type": "stream",
     "text": [
      "This world was loaded from '/home/dblank/jyrobot/jyrobot/worlds/two-scribblers.json'\n",
      "Robots:\n",
      "-------------------------\n",
      "  robot[0 or 'Red']: <Robot(name='Red', position=430,50,3.14 v=0,0,0)>\n",
      "      device[0 or 'camera']: <Camera size=(256,128), angle=60.0>\n",
      "      device[1 or 'laser']: <RangeSensor angle=0.0, range=100, width=0.0>\n",
      "      device[2 or 'ir']: <RangeSensor angle=90.0, range=20, width=57.3>\n",
      "      device[3 or 'ir']: <RangeSensor angle=-90.0, range=20, width=57.3>\n",
      "  -------------------------\n",
      "  robot[1 or 'Blue']: <Robot(name='Blue', position=30,50,0.0 v=0,0,0)>\n",
      "      device[0 or 'camera']: <Camera size=(256,128), angle=60.0>\n",
      "      device[1 or 'laser']: <RangeSensor angle=0.0, range=100, width=0.0>\n",
      "      device[2 or 'ir']: <RangeSensor angle=0.0, range=20, width=57.3>\n",
      "      device[3 or 'ir']: <RangeSensor angle=0.0, range=20, width=57.3>\n",
      "  -------------------------\n"
     ]
    }
   ],
   "source": [
    "world.info()"
   ]
  },
  {
   "cell_type": "code",
   "execution_count": 12,
   "metadata": {},
   "outputs": [
    {
     "data": {
      "text/plain": [
       "<Camera size=(256,128), angle=60.0>"
      ]
     },
     "execution_count": 12,
     "metadata": {},
     "output_type": "execute_result"
    }
   ],
   "source": [
    "world[\"red\"][\"camera\"]"
   ]
  },
  {
   "cell_type": "code",
   "execution_count": 13,
   "metadata": {},
   "outputs": [
    {
     "data": {
      "image/png": "[encoded data removed]",
      "text/plain": [
       "<PIL.Image.Image image mode=RGBA size=256x128 at 0x7FCD8C084DF0>"
      ]
     },
     "execution_count": 13,
     "metadata": {},
     "output_type": "execute_result"
    }
   ],
   "source": [
    "world[\"red\"][\"camera\"].take_picture()"
   ]
  },
  {
   "cell_type": "code",
   "execution_count": 14,
   "metadata": {},
   "outputs": [],
   "source": [
    "world[0].move(1, 0)\n",
    "world[1].move(1, 0)\n",
    "\n",
    "step = 0\n",
    "\n",
    "def control(robot):\n",
    "    global step\n",
    "    if robot.stalled:\n",
    "        robot.reverse()\n",
    "        robot.turn(1 - random.random() * 2)\n",
    "    if random.random() < .1:\n",
    "        robot.turn(1 - random.random() * 2)\n",
    "    #if step % 100 == 0:\n",
    "    #    world.display(world.take_picture())\n",
    "    step += 1"
   ]
  },
  {
   "cell_type": "code",
   "execution_count": 15,
   "metadata": {},
   "outputs": [
    {
     "name": "stdout",
     "output_type": "stream",
     "text": [
      "Simulation stopped at: 00:00:10.0; speed 1.0 x real time\n"
     ]
    }
   ],
   "source": [
    "world.seconds(10, [control, control], show=True, real_time=True)"
   ]
  },
  {
   "cell_type": "code",
   "execution_count": 16,
   "metadata": {},
   "outputs": [
    {
     "name": "stdout",
     "output_type": "stream",
     "text": [
      "WARNING: increasing throttle period to 0.2\n",
      "WARNING: increasing throttle period to 0.30000000000000004\n",
      "Simulation stopped at: 00:03:30.0; speed 48.7 x real time\n"
     ]
    }
   ],
   "source": [
    "world.seconds(200, [control, control], show=True, real_time=False)"
   ]
  },
  {
   "cell_type": "code",
   "execution_count": 17,
   "metadata": {},
   "outputs": [
    {
     "name": "stdout",
     "output_type": "stream",
     "text": [
      "Simulation stopped at: 00:06:50.0; speed 63.05 x real time\n"
     ]
    }
   ],
   "source": [
    "world.seconds(200, [control, control], show=False)"
   ]
  },
  {
   "cell_type": "markdown",
   "metadata": {},
   "source": [
    "# Example 2"
   ]
  },
  {
   "cell_type": "code",
   "execution_count": 1,
   "metadata": {},
   "outputs": [],
   "source": [
    "import jyrobot\n",
    "import time"
   ]
  },
  {
   "cell_type": "code",
   "execution_count": 2,
   "metadata": {},
   "outputs": [],
   "source": [
    "jyrobot.switch_backend(\"jupyter\")"
   ]
  },
  {
   "cell_type": "code",
   "execution_count": 3,
   "metadata": {},
   "outputs": [
    {
     "name": "stdout",
     "output_type": "stream",
     "text": [
      "Reusing random seed: 10\n"
     ]
    },
    {
     "data": {
      "application/vnd.jupyter.widget-view+json": {
       "model_id": "175a931878564d04991a8a39c557626a",
       "version_major": 2,
       "version_minor": 0
      },
      "text/plain": [
       "Box(children=(JupyterBackend(height=1500, layout=Layout(height='auto', width='100%'), sync_image_data=True, wi…"
      ]
     },
     "metadata": {},
     "output_type": "display_data"
    }
   ],
   "source": [
    "w = jyrobot.World(width=500, height=500, ground_color=\"white\", seed=10)\n",
    "w.watch(\"panel\", \"inline\")"
   ]
  },
  {
   "cell_type": "code",
   "execution_count": 4,
   "metadata": {},
   "outputs": [],
   "source": [
    "for i in range(20):\n",
    "    robot = jyrobot.Scribbler(color=\"blue\", name=\"Scribby-%s\" % i)\n",
    "    sensor = jyrobot.Camera()\n",
    "    robot.add_device(sensor)\n",
    "    w.add_robot(robot)\n",
    "w.draw()"
   ]
  },
  {
   "cell_type": "code",
   "execution_count": 5,
   "metadata": {},
   "outputs": [],
   "source": [
    "w.add_wall(\"black\", 10, 0, 20, 50)"
   ]
  },
  {
   "cell_type": "code",
   "execution_count": 6,
   "metadata": {},
   "outputs": [],
   "source": [
    "from jyrobot.utils import Color\n",
    "import random\n",
    "for robot in w:\n",
    "    robot.set_color( Color(\n",
    "        255 * random.random(), \n",
    "        255 * random.random(), \n",
    "        255 * random.random(), \n",
    "   ))\n",
    "w.draw()   "
   ]
  },
  {
   "cell_type": "code",
   "execution_count": 7,
   "metadata": {},
   "outputs": [
    {
     "name": "stdout",
     "output_type": "stream",
     "text": [
      "CPU times: user 3.32 s, sys: 6.6 ms, total: 3.33 s\n",
      "Wall time: 3.32 s\n"
     ]
    }
   ],
   "source": [
    "%%time\n",
    "pics = []\n",
    "for robot in w:\n",
    "    pic = robot[\"camera\"].take_picture()\n",
    "    pics.append(pic)"
   ]
  },
  {
   "cell_type": "code",
   "execution_count": 8,
   "metadata": {},
   "outputs": [
    {
     "data": {
      "image/png": "[encoded data removed]",
      "text/plain": [
       "<PIL.Image.Image image mode=RGBA size=1290x520 at 0x7FDFE84A08B0>"
      ]
     },
     "metadata": {},
     "output_type": "display_data"
    }
   ],
   "source": [
    "w.display(*pics)"
   ]
  },
  {
   "cell_type": "code",
   "execution_count": 9,
   "metadata": {},
   "outputs": [
    {
     "name": "stdout",
     "output_type": "stream",
     "text": [
      "CPU times: user 1.06 s, sys: 340 ms, total: 1.4 s\n",
      "Wall time: 3.38 s\n"
     ]
    }
   ],
   "source": [
    "%%time\n",
    "pics = []\n",
    "for i, robot in enumerate(w):\n",
    "    pic = w.take_picture(i)\n",
    "    pics.append(pic)"
   ]
  },
  {
   "cell_type": "code",
   "execution_count": 10,
   "metadata": {},
   "outputs": [
    {
     "data": {
      "image/png": "[encoded data removed]",
      "text/plain": [
       "<PIL.Image.Image image mode=RGBA size=510x408 at 0x7FDFF8600250>"
      ]
     },
     "metadata": {},
     "output_type": "display_data"
    }
   ],
   "source": [
    "w.display(*pics, background_color=\"black\")"
   ]
  },
  {
   "cell_type": "code",
   "execution_count": 11,
   "metadata": {},
   "outputs": [],
   "source": [
    "for robot in w:\n",
    "    robot.move(1,0)"
   ]
  },
  {
   "cell_type": "code",
   "execution_count": 12,
   "metadata": {},
   "outputs": [],
   "source": [
    "def control(world):\n",
    "    for robot in world:\n",
    "        if robot.stalled:\n",
    "            robot.reverse()\n",
    "        robot.turn(1 - random.random() * 2)"
   ]
  },
  {
   "cell_type": "code",
   "execution_count": 15,
   "metadata": {},
   "outputs": [
    {
     "data": {
      "text/plain": [
       "0.44"
      ]
     },
     "execution_count": 15,
     "metadata": {},
     "output_type": "execute_result"
    }
   ],
   "source": [
    "w.throttle_period"
   ]
  },
  {
   "cell_type": "code",
   "execution_count": 14,
   "metadata": {},
   "outputs": [
    {
     "name": "stdout",
     "output_type": "stream",
     "text": [
      "Simulation stopped at: 00:02:30.1; speed 10.85 x real time\n"
     ]
    }
   ],
   "source": [
    "w.run(control, show=True, real_time=False)"
   ]
  },
  {
   "cell_type": "markdown",
   "metadata": {},
   "source": [
    "# Example 3"
   ]
  },
  {
   "cell_type": "code",
   "execution_count": 27,
   "metadata": {},
   "outputs": [],
   "source": [
    "import jyrobot as jr\n",
    "import random"
   ]
  },
  {
   "cell_type": "code",
   "execution_count": 28,
   "metadata": {},
   "outputs": [
    {
     "name": "stdout",
     "output_type": "stream",
     "text": [
      "Random seed initialized to: 1666269509224148405\n"
     ]
    }
   ],
   "source": [
    "w = jr.World(width=100, height=100)"
   ]
  },
  {
   "cell_type": "code",
   "execution_count": 29,
   "metadata": {},
   "outputs": [
    {
     "data": {
      "application/vnd.jupyter.widget-view+json": {
       "model_id": "ae6dc98838dc48f0803c5561230b5901",
       "version_major": 2,
       "version_minor": 0
      },
      "text/plain": [
       "Box(children=(Image(value=b'\\xff\\xd8\\xff\\xe0\\x00\\x10JFIF\\x00\\x01\\x01\\x00\\x00\\x01\\x00\\x01\\x00\\x00\\xff\\xdb\\x00C\\…"
      ]
     },
     "metadata": {},
     "output_type": "display_data"
    }
   ],
   "source": [
    "w.watch(\"inline\", \"panel\") # or \"panel\", \"left\", \"right\""
   ]
  },
  {
   "cell_type": "code",
   "execution_count": 30,
   "metadata": {},
   "outputs": [],
   "source": [
    "r = jr.Scribbler()"
   ]
  },
  {
   "cell_type": "code",
   "execution_count": 31,
   "metadata": {},
   "outputs": [],
   "source": [
    "w.add_robot(r)"
   ]
  },
  {
   "cell_type": "code",
   "execution_count": 32,
   "metadata": {},
   "outputs": [],
   "source": [
    "sensor = jr.RangeSensor()"
   ]
  },
  {
   "cell_type": "code",
   "execution_count": 33,
   "metadata": {},
   "outputs": [],
   "source": [
    "r.add_device(sensor)"
   ]
  },
  {
   "cell_type": "code",
   "execution_count": 34,
   "metadata": {},
   "outputs": [],
   "source": [
    "r.forward(1)\n",
    "\n",
    "def control(world):\n",
    "    for robot in world:\n",
    "        if robot.stalled:\n",
    "            robot.reverse()\n",
    "        robot.turn(1 - random.random() * 2)"
   ]
  },
  {
   "cell_type": "code",
   "execution_count": 35,
   "metadata": {},
   "outputs": [
    {
     "name": "stdout",
     "output_type": "stream",
     "text": [
      "Simulation stopped at: 00:00:10.0; speed 1.0 x real time\n"
     ]
    }
   ],
   "source": [
    "w.seconds(10, control, show=True, real_time=True)"
   ]
  },
  {
   "cell_type": "code",
   "execution_count": 36,
   "metadata": {},
   "outputs": [
    {
     "name": "stdout",
     "output_type": "stream",
     "text": [
      "Simulation stopped at: 00:00:20.0; speed 318.22 x real time\n"
     ]
    }
   ],
   "source": [
    "w.seconds(10, control, show=True, real_time=False)"
   ]
  },
  {
   "cell_type": "code",
   "execution_count": 37,
   "metadata": {},
   "outputs": [
    {
     "name": "stdout",
     "output_type": "stream",
     "text": [
      "Simulation stopped at: 00:00:30.0; speed 408.38 x real time\n"
     ]
    }
   ],
   "source": [
    "w.seconds(10, control, show=False)"
   ]
  },
  {
   "cell_type": "code",
   "execution_count": 38,
   "metadata": {},
   "outputs": [],
   "source": [
    "r.set_pose(50, 50, 180)"
   ]
  },
  {
   "cell_type": "code",
   "execution_count": 39,
   "metadata": {},
   "outputs": [],
   "source": [
    "r.set_color(\"purple\")"
   ]
  },
  {
   "cell_type": "code",
   "execution_count": 40,
   "metadata": {},
   "outputs": [
    {
     "data": {
      "image/png": "[encoded data removed]",
      "text/plain": [
       "<PIL.Image.Image image mode=RGB size=300x300 at 0x7F60620234F0>"
      ]
     },
     "execution_count": 40,
     "metadata": {},
     "output_type": "execute_result"
    }
   ],
   "source": [
    "w.take_picture()"
   ]
  },
  {
   "cell_type": "code",
   "execution_count": null,
   "metadata": {},
   "outputs": [],
   "source": []
  }
 ],
 "metadata": {
  "kernelspec": {
   "display_name": "Python 3",
   "language": "python",
   "name": "python3"
  },
  "language_info": {
   "codemirror_mode": {
    "name": "ipython",
    "version": 3
   },
   "file_extension": ".py",
   "mimetype": "text/x-python",
   "name": "python",
   "nbconvert_exporter": "python",
   "pygments_lexer": "ipython3",
   "version": "3.8.5"
  },
  "widgets": {
   "application/vnd.jupyter.widget-state+json": {
    "state": {
     "00ff5d6e160147c29e0826d42277c45c": {
      "buffers": [
       {
        "data": "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",
        "encoding": "base64",
        "path": [
         "value"
        ]
       }
      ],
      "model_module": "@jupyter-widgets/controls",
      "model_module_version": "1.5.0",
      "model_name": "ImageModel",
      "state": {
       "layout": "IPY_MODEL_fc5fbf4f8189462597f7a4b4e9464da7"
      }
     },
     "573982611c0f4fa2b340ff788bc1a0d6": {
      "model_module": "@jupyter-widgets/base",
      "model_module_version": "1.2.0",
      "model_name": "LayoutModel",
      "state": {}
     },
     "73042f8511414efe9b27c22b16836625": {
      "model_module": "@jupyter-widgets/controls",
      "model_module_version": "1.5.0",
      "model_name": "BoxModel",
      "state": {
       "children": [
        "IPY_MODEL_00ff5d6e160147c29e0826d42277c45c"
       ],
       "layout": "IPY_MODEL_b12d11ca3a9144e68f4a544168aca4df"
      }
     },
     "9fae5e47e11f4be187fe3cbd9a7f7dae": {
      "model_module": "ipylab",
      "model_module_version": "^0.3.0",
      "model_name": "TitleModel",
      "state": {
       "_model_module_version": "^0.3.0",
       "_view_module": null,
       "_view_module_version": "",
       "closable": true,
       "icon_class": "",
       "label": "Jyrobot Simulator"
      }
     },
     "b12d11ca3a9144e68f4a544168aca4df": {
      "model_module": "@jupyter-widgets/base",
      "model_module_version": "1.2.0",
      "model_name": "LayoutModel",
      "state": {
       "height": "auto",
       "width": "100%"
      }
     },
     "c3af5fd79e70484d80f61b88e4ad8d93": {
      "model_module": "ipylab",
      "model_module_version": "^0.3.0",
      "model_name": "ShellModel",
      "state": {
       "_model_module_version": "^0.3.0",
       "_view_module": null,
       "_view_module_version": "",
       "_widgets": [
        {
         "area": "main",
         "args": {
          "mode": "split-right"
         },
         "id": "id-bdfeacf2-95e4-4c75-8d72-77c34a4cc9bb",
         "serializedWidget": "IPY_MODEL_ef10f4183871465889a169f2fab2e716"
        }
       ]
      }
     },
     "cd49cf7463834b908e67b6bac149e1ef": {
      "model_module": "@jupyter-widgets/base",
      "model_module_version": "1.2.0",
      "model_name": "LayoutModel",
      "state": {
       "max_width": "600px"
      }
     },
     "d1a5213263934976807346d35377fd00": {
      "model_module": "ipylab",
      "model_module_version": "^0.3.0",
      "model_name": "JupyterFrontEndModel",
      "state": {
       "_model_module_version": "^0.3.0",
       "_view_module": null,
       "_view_module_version": "",
       "commands": "IPY_MODEL_e17c06e977c4474a8abbd27e5a232d3e",
       "shell": "IPY_MODEL_c3af5fd79e70484d80f61b88e4ad8d93",
       "version": "2.2.9"
      }
     },
     "e11cca9f2e0b48cf9d83b8c92b4bfbac": {
      "model_module": "@jupyter-widgets/controls",
      "model_module_version": "1.5.0",
      "model_name": "BoxModel",
      "state": {
       "children": [
        "IPY_MODEL_00ff5d6e160147c29e0826d42277c45c"
       ],
       "layout": "IPY_MODEL_cd49cf7463834b908e67b6bac149e1ef"
      }
     },
     "e17c06e977c4474a8abbd27e5a232d3e": {
      "model_module": "ipylab",
      "model_module_version": "^0.3.0",
      "model_name": "CommandRegistryModel",
      "state": {
       "_command_list": [
        "__internal:context-menu-info",
        "apputils:activate-command-palette",
        "apputils:print",
        "apputils:run-first-enabled",
        "completer:invoke",
        "completer:select",
        "tooltip:dismiss",
        "launcher:create",
        "editmenu:undo",
        "editmenu:redo",
        "editmenu:clear-current",
        "editmenu:clear-all",
        "editmenu:go-to-line",
        "filemenu:close-and-cleanup",
        "filemenu:create-console",
        "filemenu:shutdown",
        "filemenu:logout",
        "kernelmenu:interrupt",
        "kernelmenu:restart",
        "kernelmenu:restart-and-clear",
        "kernelmenu:change",
        "kernelmenu:shutdown",
        "kernelmenu:shutdownAll",
        "runmenu:run",
        "runmenu:run-all",
        "runmenu:restart-and-run-all",
        "viewmenu:line-numbering",
        "viewmenu:match-brackets",
        "viewmenu:word-wrap",
        "tabsmenu:activate-by-id",
        "tabsmenu:activate-previously-used-tab",
        "editmenu:open",
        "filemenu:open",
        "kernelmenu:open",
        "runmenu:open",
        "viewmenu:open",
        "settingsmenu:open",
        "tabsmenu:open",
        "helpmenu:open",
        "mainmenu:open-first",
        "documentsearch:start",
        "documentsearch:startWithReplace",
        "documentsearch:highlightNext",
        "documentsearch:highlightPrevious",
        "docmanager:clone",
        "docmanager:rename",
        "docmanager:delete",
        "docmanager:show-in-file-browser",
        "docmanager:delete-file",
        "docmanager:new-untitled",
        "docmanager:open",
        "docmanager:open-browser-tab",
        "docmanager:reload",
        "docmanager:restore-checkpoint",
        "docmanager:save",
        "docmanager:save-all",
        "docmanager:save-as",
        "docmanager:download",
        "docmanager:toggle-autosave",
        "sidebar:switch",
        "apputils:change-theme",
        "apputils:theme-scrollbars",
        "apputils:incr-font-size",
        "apputils:decr-font-size",
        "statusbar:toggle",
        "rendermime:handle-local-link",
        "application:activate-next-tab",
        "application:activate-previous-tab",
        "application:activate-next-tab-bar",
        "application:activate-previous-tab-bar",
        "application:close",
        "application:close-all",
        "application:close-other-tabs",
        "application:close-right-tabs",
        "application:toggle-left-area",
        "application:toggle-right-area",
        "application:toggle-presentation-mode",
        "application:set-mode",
        "application:toggle-mode",
        "apputils:load-statedb",
        "apputils:reset",
        "apputils:reset-on-load",
        "markdownviewer:open",
        "markdownviewer:edit",
        "settingeditor:open",
        "settingeditor:revert",
        "settingeditor:save",
        "inspector:open",
        "htmlviewer:trust-html",
        "imageviewer:zoom-in",
        "imageviewer:zoom-out",
        "imageviewer:reset-image",
        "imageviewer:rotate-clockwise",
        "imageviewer:rotate-counterclockwise",
        "imageviewer:flip-horizontal",
        "imageviewer:flip-vertical",
        "imageviewer:invert-colors",
        "filebrowser:delete",
        "filebrowser:copy",
        "filebrowser:cut",
        "filebrowser:download",
        "filebrowser:duplicate",
        "filebrowser:hide-main",
        "filebrowser:go-to-path",
        "filebrowser:open-path",
        "filebrowser:open",
        "filebrowser:open-browser-tab",
        "filebrowser:copy-download-link",
        "filebrowser:paste",
        "filebrowser:create-new-directory",
        "filebrowser:create-new-file",
        "filebrowser:create-new-markdown-file",
        "filebrowser:rename",
        "filebrowser:copy-path",
        "filebrowser:activate",
        "filebrowser:shutdown",
        "filebrowser:toggle-main",
        "filebrowser:create-main-launcher",
        "filebrowser:toggle-navigate-to-current-directory",
        "filebrowser:toggle-last-modified",
        "filebrowser:share-main",
        "notebook:run-cell-and-select-next",
        "notebook:run-cell",
        "notebook:run-cell-and-insert-below",
        "notebook:run-in-console",
        "notebook:run-all-cells",
        "notebook:run-all-above",
        "notebook:run-all-below",
        "notebook:render-all-markdown",
        "notebook:restart-kernel",
        "notebook:close-and-shutdown",
        "notebook:trust",
        "notebook:export-to-format",
        "notebook:restart-clear-output",
        "notebook:restart-and-run-to-selected",
        "notebook:restart-run-all",
        "notebook:clear-all-cell-outputs",
        "notebook:clear-cell-output",
        "notebook:interrupt-kernel",
        "notebook:change-cell-to-code",
        "notebook:change-cell-to-markdown",
        "notebook:change-cell-to-raw",
        "notebook:cut-cell",
        "notebook:copy-cell",
        "notebook:paste-cell-below",
        "notebook:paste-cell-above",
        "notebook:paste-and-replace-cell",
        "notebook:delete-cell",
        "notebook:split-cell-at-cursor",
        "notebook:merge-cells",
        "notebook:insert-cell-above",
        "notebook:insert-cell-below",
        "notebook:move-cursor-up",
        "notebook:move-cursor-down",
        "notebook:extend-marked-cells-above",
        "notebook:extend-marked-cells-top",
        "notebook:extend-marked-cells-below",
        "notebook:extend-marked-cells-bottom",
        "notebook:select-all",
        "notebook:deselect-all",
        "notebook:move-cell-up",
        "notebook:move-cell-down",
        "notebook:toggle-all-cell-line-numbers",
        "notebook:enter-command-mode",
        "notebook:enter-edit-mode",
        "notebook:undo-cell-action",
        "notebook:redo-cell-action",
        "notebook:change-kernel",
        "notebook:reconnect-to-kernel",
        "notebook:create-output-view",
        "notebook:create-console",
        "notebook:change-cell-to-heading-1",
        "notebook:change-cell-to-heading-2",
        "notebook:change-cell-to-heading-3",
        "notebook:change-cell-to-heading-4",
        "notebook:change-cell-to-heading-5",
        "notebook:change-cell-to-heading-6",
        "notebook:hide-cell-code",
        "notebook:show-cell-code",
        "notebook:hide-all-cell-code",
        "notebook:show-all-cell-code",
        "notebook:hide-cell-outputs",
        "notebook:show-cell-outputs",
        "notebook:hide-all-cell-outputs",
        "notebook:show-all-cell-outputs",
        "notebook:enable-output-scrolling",
        "notebook:disable-output-scrolling",
        "notebook:select-last-run-cell",
        "notebook:replace-selection",
        "notebook:create-new",
        "help:about",
        "help:open",
        "help:launch-classic-notebook",
        "terminal:create-new",
        "terminal:open",
        "terminal:refresh",
        "terminal:increase-font",
        "terminal:decrease-font",
        "terminal:set-theme",
        "completer:invoke-notebook",
        "completer:select-notebook",
        "logconsole:open",
        "logconsole:add-checkpoint",
        "logconsole:clear",
        "logconsole:set-level",
        "tooltip:launch-notebook",
        "@jupyter-widgets/jupyterlab-manager:saveWidgetState",
        "extensionmanager:toggle",
        "console:open",
        "console:create",
        "console:clear",
        "console:run-unforced",
        "console:run-forced",
        "console:linebreak",
        "console:replace-selection",
        "console:interrupt-kernel",
        "console:restart-kernel",
        "console:close-and-shutdown",
        "console:inject",
        "console:change-kernel",
        "console:interaction-mode",
        "fileeditor:change-font-size",
        "fileeditor:toggle-line-numbers",
        "fileeditor:toggle-line-wrap",
        "fileeditor:change-tabs",
        "fileeditor:toggle-match-brackets",
        "fileeditor:toggle-autoclosing-brackets",
        "fileeditor:replace-selection",
        "fileeditor:create-console",
        "fileeditor:run-code",
        "fileeditor:run-all",
        "fileeditor:markdown-preview",
        "fileeditor:create-new",
        "fileeditor:create-new-markdown-file",
        "fileeditor:undo",
        "fileeditor:redo",
        "fileeditor:cut",
        "fileeditor:copy",
        "fileeditor:paste",
        "fileeditor:select-all",
        "completer:invoke-console",
        "completer:select-console",
        "console:toggle-show-all-kernel-activity",
        "tooltip:launch-console",
        "codemirror:change-theme",
        "codemirror:change-keymap",
        "codemirror:find",
        "codemirror:go-to-line",
        "codemirror:change-mode",
        "completer:invoke-file",
        "completer:select-file",
        "tooltip:launch-file",
        "help-menu-python3:banner",
        "help-menu-python3:Python Reference",
        "help-menu-python3:IPython Reference",
        "help-menu-python3:NumPy Reference",
        "help-menu-python3:SciPy Reference",
        "help-menu-python3:Matplotlib Reference",
        "help-menu-python3:SymPy Reference",
        "help-menu-python3:pandas Reference"
       ],
       "_model_module_version": "^0.3.0",
       "_view_module": null,
       "_view_module_version": ""
      }
     },
     "ef10f4183871465889a169f2fab2e716": {
      "model_module": "ipylab",
      "model_module_version": "^0.3.0",
      "model_name": "PanelModel",
      "state": {
       "_model_module_version": "^0.3.0",
       "children": [
        "IPY_MODEL_73042f8511414efe9b27c22b16836625"
       ],
       "layout": "IPY_MODEL_573982611c0f4fa2b340ff788bc1a0d6",
       "title": "IPY_MODEL_9fae5e47e11f4be187fe3cbd9a7f7dae"
      }
     },
     "fc5fbf4f8189462597f7a4b4e9464da7": {
      "model_module": "@jupyter-widgets/base",
      "model_module_version": "1.2.0",
      "model_name": "LayoutModel",
      "state": {
       "margin": "auto"
      }
     }
    },
    "version_major": 2,
    "version_minor": 0
   }
  }
 },
 "nbformat": 4,
 "nbformat_minor": 4
}
