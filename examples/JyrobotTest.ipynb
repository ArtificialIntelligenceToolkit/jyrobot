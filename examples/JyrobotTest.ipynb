{
 "cells": [
  {
   "cell_type": "markdown",
   "metadata": {},
   "source": [
    "# Example 1"
   ]
  },
  {
   "cell_type": "code",
   "execution_count": 1,
   "metadata": {},
   "outputs": [],
   "source": [
    "import jyrobot\n",
    "import random"
   ]
  },
  {
   "cell_type": "code",
   "execution_count": 2,
   "metadata": {},
   "outputs": [
    {
     "name": "stdout",
     "output_type": "stream",
     "text": [
      "Searching for jyrobot config files...\n",
      "Directory: ./\n",
      "    'experiment-01'\n",
      "Directory: /home/dblank/jyrobot/jyrobot/worlds\n",
      "    'duck-scribbler-no-walls'\n",
      "    'two-scribblers-no-walls'\n",
      "    'two-scribblers-one-wall'\n",
      "    'two-scribblers'\n"
     ]
    }
   ],
   "source": [
    "world = jyrobot.load()"
   ]
  },
  {
   "cell_type": "code",
   "execution_count": 3,
   "metadata": {},
   "outputs": [
    {
     "name": "stdout",
     "output_type": "stream",
     "text": [
      "Random seed initialized to: 7535594692758723058\n"
     ]
    }
   ],
   "source": [
    "world = jyrobot.load(\"two-scribblers\")"
   ]
  },
  {
   "cell_type": "code",
   "execution_count": 4,
   "metadata": {},
   "outputs": [],
   "source": [
    "world.update()\n",
    "pic = world.take_picture()"
   ]
  },
  {
   "cell_type": "code",
   "execution_count": 5,
   "metadata": {},
   "outputs": [
    {
     "data": {
      "text/plain": [
       "<Robot(name='Red', position=430,50,3.14 v=0,0,0)>"
      ]
     },
     "execution_count": 5,
     "metadata": {},
     "output_type": "execute_result"
    }
   ],
   "source": [
    "world[\"red-1\"]"
   ]
  },
  {
   "cell_type": "code",
   "execution_count": 6,
   "metadata": {},
   "outputs": [
    {
     "data": {
      "application/vnd.jupyter.widget-view+json": {
       "model_id": "af8c27adf6a54c47874dabdccd4fa95e",
       "version_major": 2,
       "version_minor": 0
      },
      "text/plain": [
       "Box(children=(Image(value=b'\\xff\\xd8\\xff\\xe0\\x00\\x10JFIF\\x00\\x01\\x01\\x00\\x00\\x01\\x00\\x01\\x00\\x00\\xff\\xdb\\x00C\\…"
      ]
     },
     "metadata": {},
     "output_type": "display_data"
    }
   ],
   "source": [
    "world.watch(\"panel\") # or \"panel\", \"left\", \"right\"\n",
    "world.watch(\"inline\")"
   ]
  },
  {
   "cell_type": "code",
   "execution_count": 7,
   "metadata": {},
   "outputs": [
    {
     "data": {
      "image/png": "[encoded data removed]",
      "text/plain": [
       "<PIL.Image.Image image mode=RGB size=100x100 at 0x7F607009B130>"
      ]
     },
     "execution_count": 7,
     "metadata": {},
     "output_type": "execute_result"
    }
   ],
   "source": [
    "world.take_picture(\"red\")"
   ]
  },
  {
   "cell_type": "code",
   "execution_count": 8,
   "metadata": {},
   "outputs": [
    {
     "name": "stdout",
     "output_type": "stream",
     "text": [
      "This world was loaded from '/home/dblank/jyrobot/jyrobot/worlds/two-scribblers.json'\n",
      "Robots:\n",
      "-------------------------\n",
      "  robot[0 or 'Red']: <Robot(name='Red', position=430,50,3.14 v=0,0,0)>\n",
      "      device[0 or 'camera']: <Camera size=(256,128), angle=60.0>\n",
      "      device[1 or 'laser']: <RangeSensor angle=0.0, range=100, width=0.0>\n",
      "      device[2 or 'ir']: <RangeSensor angle=90.0, range=20, width=57.3>\n",
      "      device[3 or 'ir']: <RangeSensor angle=-90.0, range=20, width=57.3>\n",
      "  -------------------------\n",
      "  robot[1 or 'Blue']: <Robot(name='Blue', position=30,50,0.0 v=0,0,0)>\n",
      "      device[0 or 'camera']: <Camera size=(256,128), angle=60.0>\n",
      "      device[1 or 'laser']: <RangeSensor angle=0.0, range=100, width=0.0>\n",
      "      device[2 or 'ir']: <RangeSensor angle=0.0, range=20, width=57.3>\n",
      "      device[3 or 'ir']: <RangeSensor angle=0.0, range=20, width=57.3>\n",
      "  -------------------------\n"
     ]
    }
   ],
   "source": [
    "world.info()"
   ]
  },
  {
   "cell_type": "code",
   "execution_count": 9,
   "metadata": {},
   "outputs": [
    {
     "data": {
      "text/plain": [
       "<Camera size=(256,128), angle=60.0>"
      ]
     },
     "execution_count": 9,
     "metadata": {},
     "output_type": "execute_result"
    }
   ],
   "source": [
    "world[\"red\"][\"camera\"]"
   ]
  },
  {
   "cell_type": "code",
   "execution_count": 10,
   "metadata": {},
   "outputs": [
    {
     "data": {
      "image/png": "[encoded data removed]",
      "text/plain": [
       "<PIL.Image.Image image mode=RGBA size=256x128 at 0x7F6070116070>"
      ]
     },
     "execution_count": 10,
     "metadata": {},
     "output_type": "execute_result"
    }
   ],
   "source": [
    "world[\"red\"][\"camera\"].take_picture()"
   ]
  },
  {
   "cell_type": "code",
   "execution_count": 11,
   "metadata": {},
   "outputs": [],
   "source": [
    "world[0].move(1, 0)\n",
    "world[1].move(1, 0)\n",
    "\n",
    "step = 0\n",
    "\n",
    "def control(robot):\n",
    "    global step\n",
    "    if robot.stalled:\n",
    "        robot.reverse()\n",
    "        robot.turn(1 - random.random() * 2)\n",
    "    if random.random() < .1:\n",
    "        robot.turn(1 - random.random() * 2)\n",
    "    #if step % 100 == 0:\n",
    "    #    world.display(world.take_picture())\n",
    "    step += 1"
   ]
  },
  {
   "cell_type": "code",
   "execution_count": 12,
   "metadata": {},
   "outputs": [
    {
     "name": "stdout",
     "output_type": "stream",
     "text": [
      "Simulation stopped at: 00:00:10.0; speed 1.0 x real time\n"
     ]
    }
   ],
   "source": [
    "world.seconds(10, [control, control], show=True, real_time=True)"
   ]
  },
  {
   "cell_type": "code",
   "execution_count": 13,
   "metadata": {},
   "outputs": [
    {
     "name": "stdout",
     "output_type": "stream",
     "text": [
      "Simulation stopped at: 00:00:20.0; speed 34.03 x real time\n"
     ]
    }
   ],
   "source": [
    "world.seconds(10, [control, control], show=True, real_time=False)"
   ]
  },
  {
   "cell_type": "code",
   "execution_count": 14,
   "metadata": {},
   "outputs": [
    {
     "name": "stdout",
     "output_type": "stream",
     "text": [
      "Simulation stopped at: 00:00:30.0; speed 50.25 x real time\n"
     ]
    }
   ],
   "source": [
    "world.seconds(10, [control, control], show=False)"
   ]
  },
  {
   "cell_type": "markdown",
   "metadata": {},
   "source": [
    "# Example 2"
   ]
  },
  {
   "cell_type": "code",
   "execution_count": 15,
   "metadata": {},
   "outputs": [],
   "source": [
    "import jyrobot\n",
    "import time"
   ]
  },
  {
   "cell_type": "code",
   "execution_count": 16,
   "metadata": {},
   "outputs": [
    {
     "name": "stdout",
     "output_type": "stream",
     "text": [
      "Reusing random seed: 10\n"
     ]
    },
    {
     "data": {
      "application/vnd.jupyter.widget-view+json": {
       "model_id": "c865459b5ec748d6b5d8b3b6fd0ecde3",
       "version_major": 2,
       "version_minor": 0
      },
      "text/plain": [
       "Box(children=(Image(value=b'\\xff\\xd8\\xff\\xe0\\x00\\x10JFIF\\x00\\x01\\x01\\x00\\x00\\x01\\x00\\x01\\x00\\x00\\xff\\xdb\\x00C\\…"
      ]
     },
     "metadata": {},
     "output_type": "display_data"
    }
   ],
   "source": [
    "w = jyrobot.World(width=500, height=500, ground_color=\"white\", seed=10)\n",
    "w.watch(\"panel\", \"inline\")"
   ]
  },
  {
   "cell_type": "code",
   "execution_count": 17,
   "metadata": {},
   "outputs": [],
   "source": [
    "for i in range(20):\n",
    "    robot = jyrobot.Scribbler(color=\"blue\", name=\"Scribby-%s\" % i)\n",
    "    sensor = jyrobot.Camera()\n",
    "    robot.add_device(sensor)\n",
    "    w.add_robot(robot)\n",
    "w.draw()"
   ]
  },
  {
   "cell_type": "code",
   "execution_count": 18,
   "metadata": {},
   "outputs": [],
   "source": [
    "w.add_wall(\"black\", 10, 0, 20, 50)"
   ]
  },
  {
   "cell_type": "code",
   "execution_count": 19,
   "metadata": {},
   "outputs": [],
   "source": [
    "from jyrobot.utils import Color\n",
    "import random\n",
    "for robot in w:\n",
    "    robot.set_color( Color(\n",
    "        255 * random.random(), \n",
    "        255 * random.random(), \n",
    "        255 * random.random(), \n",
    "   ))\n",
    "w.draw()   "
   ]
  },
  {
   "cell_type": "code",
   "execution_count": 20,
   "metadata": {},
   "outputs": [
    {
     "name": "stdout",
     "output_type": "stream",
     "text": [
      "CPU times: user 3.17 s, sys: 0 ns, total: 3.17 s\n",
      "Wall time: 3.17 s\n"
     ]
    }
   ],
   "source": [
    "%%time\n",
    "pics = []\n",
    "for robot in w:\n",
    "    pic = robot[\"camera\"].take_picture()\n",
    "    pics.append(pic)"
   ]
  },
  {
   "cell_type": "code",
   "execution_count": 21,
   "metadata": {},
   "outputs": [
    {
     "data": {
      "image/png": "[encoded data removed]",
      "text/plain": [
       "<PIL.Image.Image image mode=RGBA size=1290x520 at 0x7F6061F37EB0>"
      ]
     },
     "metadata": {},
     "output_type": "display_data"
    }
   ],
   "source": [
    "w.display(*pics)"
   ]
  },
  {
   "cell_type": "code",
   "execution_count": 22,
   "metadata": {},
   "outputs": [
    {
     "name": "stdout",
     "output_type": "stream",
     "text": [
      "CPU times: user 1e+03 ms, sys: 0 ns, total: 1e+03 ms\n",
      "Wall time: 998 ms\n"
     ]
    }
   ],
   "source": [
    "%%time\n",
    "pics = []\n",
    "for i, robot in enumerate(w):\n",
    "    pic = w.take_picture(i)\n",
    "    pics.append(pic)"
   ]
  },
  {
   "cell_type": "code",
   "execution_count": 23,
   "metadata": {},
   "outputs": [
    {
     "data": {
      "image/png": "[encoded data removed]",
      "text/plain": [
       "<PIL.Image.Image image mode=RGBA size=510x408 at 0x7F6062211C70>"
      ]
     },
     "metadata": {},
     "output_type": "display_data"
    }
   ],
   "source": [
    "w.display(*pics, background_color=\"black\")"
   ]
  },
  {
   "cell_type": "code",
   "execution_count": 24,
   "metadata": {},
   "outputs": [],
   "source": [
    "for robot in w:\n",
    "    robot.move(1,0)"
   ]
  },
  {
   "cell_type": "code",
   "execution_count": 25,
   "metadata": {},
   "outputs": [],
   "source": [
    "def control(world):\n",
    "    for robot in world:\n",
    "        if robot.stalled:\n",
    "            robot.reverse()\n",
    "        robot.turn(1 - random.random() * 2)"
   ]
  },
  {
   "cell_type": "code",
   "execution_count": 26,
   "metadata": {},
   "outputs": [
    {
     "name": "stdout",
     "output_type": "stream",
     "text": [
      "Simulation stopped at: 00:01:01.5; speed 4.7 x real time\n"
     ]
    }
   ],
   "source": [
    "w.run(control, show=True, real_time=False)"
   ]
  },
  {
   "cell_type": "markdown",
   "metadata": {},
   "source": [
    "# Example 3"
   ]
  },
  {
   "cell_type": "code",
   "execution_count": 27,
   "metadata": {},
   "outputs": [],
   "source": [
    "import jyrobot as jr\n",
    "import random"
   ]
  },
  {
   "cell_type": "code",
   "execution_count": 28,
   "metadata": {},
   "outputs": [
    {
     "name": "stdout",
     "output_type": "stream",
     "text": [
      "Random seed initialized to: 1666269509224148405\n"
     ]
    }
   ],
   "source": [
    "w = jr.World(width=100, height=100)"
   ]
  },
  {
   "cell_type": "code",
   "execution_count": 29,
   "metadata": {},
   "outputs": [
    {
     "data": {
      "application/vnd.jupyter.widget-view+json": {
       "model_id": "ae6dc98838dc48f0803c5561230b5901",
       "version_major": 2,
       "version_minor": 0
      },
      "text/plain": [
       "Box(children=(Image(value=b'\\xff\\xd8\\xff\\xe0\\x00\\x10JFIF\\x00\\x01\\x01\\x00\\x00\\x01\\x00\\x01\\x00\\x00\\xff\\xdb\\x00C\\…"
      ]
     },
     "metadata": {},
     "output_type": "display_data"
    }
   ],
   "source": [
    "w.watch(\"inline\", \"panel\") # or \"panel\", \"left\", \"right\""
   ]
  },
  {
   "cell_type": "code",
   "execution_count": 30,
   "metadata": {},
   "outputs": [],
   "source": [
    "r = jr.Scribbler()"
   ]
  },
  {
   "cell_type": "code",
   "execution_count": 31,
   "metadata": {},
   "outputs": [],
   "source": [
    "w.add_robot(r)"
   ]
  },
  {
   "cell_type": "code",
   "execution_count": 32,
   "metadata": {},
   "outputs": [],
   "source": [
    "sensor = jr.RangeSensor()"
   ]
  },
  {
   "cell_type": "code",
   "execution_count": 33,
   "metadata": {},
   "outputs": [],
   "source": [
    "r.add_device(sensor)"
   ]
  },
  {
   "cell_type": "code",
   "execution_count": 34,
   "metadata": {},
   "outputs": [],
   "source": [
    "r.forward(1)\n",
    "\n",
    "def control(world):\n",
    "    for robot in world:\n",
    "        if robot.stalled:\n",
    "            robot.reverse()\n",
    "        robot.turn(1 - random.random() * 2)"
   ]
  },
  {
   "cell_type": "code",
   "execution_count": 35,
   "metadata": {},
   "outputs": [
    {
     "name": "stdout",
     "output_type": "stream",
     "text": [
      "Simulation stopped at: 00:00:10.0; speed 1.0 x real time\n"
     ]
    }
   ],
   "source": [
    "w.seconds(10, control, show=True, real_time=True)"
   ]
  },
  {
   "cell_type": "code",
   "execution_count": 36,
   "metadata": {},
   "outputs": [
    {
     "name": "stdout",
     "output_type": "stream",
     "text": [
      "Simulation stopped at: 00:00:20.0; speed 318.22 x real time\n"
     ]
    }
   ],
   "source": [
    "w.seconds(10, control, show=True, real_time=False)"
   ]
  },
  {
   "cell_type": "code",
   "execution_count": 37,
   "metadata": {},
   "outputs": [
    {
     "name": "stdout",
     "output_type": "stream",
     "text": [
      "Simulation stopped at: 00:00:30.0; speed 408.38 x real time\n"
     ]
    }
   ],
   "source": [
    "w.seconds(10, control, show=False)"
   ]
  },
  {
   "cell_type": "code",
   "execution_count": 38,
   "metadata": {},
   "outputs": [],
   "source": [
    "r.set_pose(50, 50, 180)"
   ]
  },
  {
   "cell_type": "code",
   "execution_count": 39,
   "metadata": {},
   "outputs": [],
   "source": [
    "r.set_color(\"purple\")"
   ]
  },
  {
   "cell_type": "code",
   "execution_count": 40,
   "metadata": {},
   "outputs": [
    {
     "data": {
      "image/png": "[encoded data removed]",
      "text/plain": [
       "<PIL.Image.Image image mode=RGB size=300x300 at 0x7F60620234F0>"
      ]
     },
     "execution_count": 40,
     "metadata": {},
     "output_type": "execute_result"
    }
   ],
   "source": [
    "w.take_picture()"
   ]
  },
  {
   "cell_type": "code",
   "execution_count": null,
   "metadata": {},
   "outputs": [],
   "source": []
  }
 ],
 "metadata": {
  "kernelspec": {
   "display_name": "Python 3",
   "language": "python",
   "name": "python3"
  },
  "language_info": {
   "codemirror_mode": {
    "name": "ipython",
    "version": 3
   },
   "file_extension": ".py",
   "mimetype": "text/x-python",
   "name": "python",
   "nbconvert_exporter": "python",
   "pygments_lexer": "ipython3",
   "version": "3.8.5"
  },
  "widgets": {
   "application/vnd.jupyter.widget-state+json": {
    "state": {
     "08c4796670bd4ed0b874469f20c1c69f": {
      "model_module": "@jupyter-widgets/base",
      "model_module_version": "1.2.0",
      "model_name": "LayoutModel",
      "state": {
       "max_width": "600px"
      }
     },
     "0aaf614ed0c24818bf9cb4b7413cce3b": {
      "buffers": [
       {
        "data": "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",
        "encoding": "base64",
        "path": [
         "value"
        ]
       }
      ],
      "model_module": "@jupyter-widgets/controls",
      "model_module_version": "1.5.0",
      "model_name": "ImageModel",
      "state": {
       "layout": "IPY_MODEL_8cb021e293fc4be79077c00aa2f7a371"
      }
     },
     "0c2392b2384c4a278acc2e7af2767b51": {
      "model_module": "@jupyter-widgets/base",
      "model_module_version": "1.2.0",
      "model_name": "LayoutModel",
      "state": {
       "height": "auto",
       "width": "100%"
      }
     },
     "2de84ba51a9744888e8ab334f2a6f836": {
      "model_module": "ipylab",
      "model_module_version": "^0.3.0",
      "model_name": "TitleModel",
      "state": {
       "_model_module_version": "^0.3.0",
       "_view_module": null,
       "_view_module_version": "",
       "closable": true,
       "icon_class": "",
       "label": "Jyrobot Simulator"
      }
     },
     "351a4dd7bc134afa8bba0f3139b3fbaf": {
      "model_module": "ipylab",
      "model_module_version": "^0.3.0",
      "model_name": "CommandRegistryModel",
      "state": {
       "_command_list": [
        "__internal:context-menu-info",
        "apputils:activate-command-palette",
        "apputils:print",
        "apputils:run-first-enabled",
        "completer:invoke",
        "completer:select",
        "tooltip:dismiss",
        "launcher:create",
        "editmenu:undo",
        "editmenu:redo",
        "editmenu:clear-current",
        "editmenu:clear-all",
        "editmenu:go-to-line",
        "filemenu:close-and-cleanup",
        "filemenu:create-console",
        "filemenu:shutdown",
        "filemenu:logout",
        "kernelmenu:interrupt",
        "kernelmenu:restart",
        "kernelmenu:restart-and-clear",
        "kernelmenu:change",
        "kernelmenu:shutdown",
        "kernelmenu:shutdownAll",
        "runmenu:run",
        "runmenu:run-all",
        "runmenu:restart-and-run-all",
        "viewmenu:line-numbering",
        "viewmenu:match-brackets",
        "viewmenu:word-wrap",
        "tabsmenu:activate-by-id",
        "tabsmenu:activate-previously-used-tab",
        "editmenu:open",
        "filemenu:open",
        "kernelmenu:open",
        "runmenu:open",
        "viewmenu:open",
        "settingsmenu:open",
        "tabsmenu:open",
        "helpmenu:open",
        "mainmenu:open-first",
        "documentsearch:start",
        "documentsearch:startWithReplace",
        "documentsearch:highlightNext",
        "documentsearch:highlightPrevious",
        "docmanager:clone",
        "docmanager:rename",
        "docmanager:delete",
        "docmanager:show-in-file-browser",
        "docmanager:delete-file",
        "docmanager:new-untitled",
        "docmanager:open",
        "docmanager:open-browser-tab",
        "docmanager:reload",
        "docmanager:restore-checkpoint",
        "docmanager:save",
        "docmanager:save-all",
        "docmanager:save-as",
        "docmanager:download",
        "docmanager:toggle-autosave",
        "sidebar:switch",
        "apputils:change-theme",
        "apputils:theme-scrollbars",
        "apputils:incr-font-size",
        "apputils:decr-font-size",
        "statusbar:toggle",
        "rendermime:handle-local-link",
        "application:activate-next-tab",
        "application:activate-previous-tab",
        "application:activate-next-tab-bar",
        "application:activate-previous-tab-bar",
        "application:close",
        "application:close-all",
        "application:close-other-tabs",
        "application:close-right-tabs",
        "application:toggle-left-area",
        "application:toggle-right-area",
        "application:toggle-presentation-mode",
        "application:set-mode",
        "application:toggle-mode",
        "apputils:load-statedb",
        "apputils:reset",
        "apputils:reset-on-load",
        "markdownviewer:open",
        "markdownviewer:edit",
        "settingeditor:open",
        "settingeditor:revert",
        "settingeditor:save",
        "inspector:open",
        "htmlviewer:trust-html",
        "imageviewer:zoom-in",
        "imageviewer:zoom-out",
        "imageviewer:reset-image",
        "imageviewer:rotate-clockwise",
        "imageviewer:rotate-counterclockwise",
        "imageviewer:flip-horizontal",
        "imageviewer:flip-vertical",
        "imageviewer:invert-colors",
        "filebrowser:delete",
        "filebrowser:copy",
        "filebrowser:cut",
        "filebrowser:download",
        "filebrowser:duplicate",
        "filebrowser:hide-main",
        "filebrowser:go-to-path",
        "filebrowser:open-path",
        "filebrowser:open",
        "filebrowser:open-browser-tab",
        "filebrowser:copy-download-link",
        "filebrowser:paste",
        "filebrowser:create-new-directory",
        "filebrowser:create-new-file",
        "filebrowser:create-new-markdown-file",
        "filebrowser:rename",
        "filebrowser:copy-path",
        "filebrowser:activate",
        "filebrowser:shutdown",
        "filebrowser:toggle-main",
        "filebrowser:create-main-launcher",
        "filebrowser:toggle-navigate-to-current-directory",
        "filebrowser:toggle-last-modified",
        "filebrowser:share-main",
        "notebook:run-cell-and-select-next",
        "notebook:run-cell",
        "notebook:run-cell-and-insert-below",
        "notebook:run-in-console",
        "notebook:run-all-cells",
        "notebook:run-all-above",
        "notebook:run-all-below",
        "notebook:render-all-markdown",
        "notebook:restart-kernel",
        "notebook:close-and-shutdown",
        "notebook:trust",
        "notebook:export-to-format",
        "notebook:restart-clear-output",
        "notebook:restart-and-run-to-selected",
        "notebook:restart-run-all",
        "notebook:clear-all-cell-outputs",
        "notebook:clear-cell-output",
        "notebook:interrupt-kernel",
        "notebook:change-cell-to-code",
        "notebook:change-cell-to-markdown",
        "notebook:change-cell-to-raw",
        "notebook:cut-cell",
        "notebook:copy-cell",
        "notebook:paste-cell-below",
        "notebook:paste-cell-above",
        "notebook:paste-and-replace-cell",
        "notebook:delete-cell",
        "notebook:split-cell-at-cursor",
        "notebook:merge-cells",
        "notebook:insert-cell-above",
        "notebook:insert-cell-below",
        "notebook:move-cursor-up",
        "notebook:move-cursor-down",
        "notebook:extend-marked-cells-above",
        "notebook:extend-marked-cells-top",
        "notebook:extend-marked-cells-below",
        "notebook:extend-marked-cells-bottom",
        "notebook:select-all",
        "notebook:deselect-all",
        "notebook:move-cell-up",
        "notebook:move-cell-down",
        "notebook:toggle-all-cell-line-numbers",
        "notebook:enter-command-mode",
        "notebook:enter-edit-mode",
        "notebook:undo-cell-action",
        "notebook:redo-cell-action",
        "notebook:change-kernel",
        "notebook:reconnect-to-kernel",
        "notebook:create-output-view",
        "notebook:create-console",
        "notebook:change-cell-to-heading-1",
        "notebook:change-cell-to-heading-2",
        "notebook:change-cell-to-heading-3",
        "notebook:change-cell-to-heading-4",
        "notebook:change-cell-to-heading-5",
        "notebook:change-cell-to-heading-6",
        "notebook:hide-cell-code",
        "notebook:show-cell-code",
        "notebook:hide-all-cell-code",
        "notebook:show-all-cell-code",
        "notebook:hide-cell-outputs",
        "notebook:show-cell-outputs",
        "notebook:hide-all-cell-outputs",
        "notebook:show-all-cell-outputs",
        "notebook:enable-output-scrolling",
        "notebook:disable-output-scrolling",
        "notebook:select-last-run-cell",
        "notebook:replace-selection",
        "notebook:create-new",
        "help:about",
        "help:open",
        "help:launch-classic-notebook",
        "terminal:create-new",
        "terminal:open",
        "terminal:refresh",
        "terminal:increase-font",
        "terminal:decrease-font",
        "terminal:set-theme",
        "completer:invoke-notebook",
        "completer:select-notebook",
        "logconsole:open",
        "logconsole:add-checkpoint",
        "logconsole:clear",
        "logconsole:set-level",
        "tooltip:launch-notebook",
        "@jupyter-widgets/jupyterlab-manager:saveWidgetState",
        "extensionmanager:toggle",
        "console:open",
        "console:create",
        "console:clear",
        "console:run-unforced",
        "console:run-forced",
        "console:linebreak",
        "console:replace-selection",
        "console:interrupt-kernel",
        "console:restart-kernel",
        "console:close-and-shutdown",
        "console:inject",
        "console:change-kernel",
        "console:interaction-mode",
        "fileeditor:change-font-size",
        "fileeditor:toggle-line-numbers",
        "fileeditor:toggle-line-wrap",
        "fileeditor:change-tabs",
        "fileeditor:toggle-match-brackets",
        "fileeditor:toggle-autoclosing-brackets",
        "fileeditor:replace-selection",
        "fileeditor:create-console",
        "fileeditor:run-code",
        "fileeditor:run-all",
        "fileeditor:markdown-preview",
        "fileeditor:create-new",
        "fileeditor:create-new-markdown-file",
        "fileeditor:undo",
        "fileeditor:redo",
        "fileeditor:cut",
        "fileeditor:copy",
        "fileeditor:paste",
        "fileeditor:select-all",
        "completer:invoke-console",
        "completer:select-console",
        "console:toggle-show-all-kernel-activity",
        "tooltip:launch-console",
        "codemirror:change-theme",
        "codemirror:change-keymap",
        "codemirror:find",
        "codemirror:go-to-line",
        "codemirror:change-mode",
        "completer:invoke-file",
        "completer:select-file",
        "tooltip:launch-file",
        "help-menu-python3:banner",
        "help-menu-python3:Python Reference",
        "help-menu-python3:IPython Reference",
        "help-menu-python3:NumPy Reference",
        "help-menu-python3:SciPy Reference",
        "help-menu-python3:Matplotlib Reference",
        "help-menu-python3:SymPy Reference",
        "help-menu-python3:pandas Reference"
       ],
       "_model_module_version": "^0.3.0",
       "_view_module": null,
       "_view_module_version": ""
      }
     },
     "365093011f4d46f7a70f08cc7d1d107b": {
      "buffers": [
       {
        "data": "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",
        "encoding": "base64",
        "path": [
         "value"
        ]
       }
      ],
      "model_module": "@jupyter-widgets/controls",
      "model_module_version": "1.5.0",
      "model_name": "ImageModel",
      "state": {
       "layout": "IPY_MODEL_f2bdd4714f344a99bd2a931089606333"
      }
     },
     "3b656eb93c184152a5a3cc38fb9582a8": {
      "model_module": "@jupyter-widgets/base",
      "model_module_version": "1.2.0",
      "model_name": "LayoutModel",
      "state": {}
     },
     "45481d1540dc4b709a4d4837a2554246": {
      "model_module": "ipylab",
      "model_module_version": "^0.3.0",
      "model_name": "PanelModel",
      "state": {
       "_model_module_version": "^0.3.0",
       "children": [
        "IPY_MODEL_7332820eba1040f88a3188a5b49592f4"
       ],
       "layout": "IPY_MODEL_605f7fd8586e41bf93b850d8e1a1d142",
       "title": "IPY_MODEL_2de84ba51a9744888e8ab334f2a6f836"
      }
     },
     "4767cc74a67d47da8d39f56c63746428": {
      "model_module": "ipylab",
      "model_module_version": "^0.3.0",
      "model_name": "JupyterFrontEndModel",
      "state": {
       "_model_module_version": "^0.3.0",
       "_view_module": null,
       "_view_module_version": "",
       "commands": "IPY_MODEL_a92214bf24c141b0b59d44fd74735dec",
       "shell": "IPY_MODEL_cbba630bf6124c2fa38140dd2dd5aa50",
       "version": "2.2.9"
      }
     },
     "4cf28ac866d94973ba7e5c92596d50ef": {
      "model_module": "ipylab",
      "model_module_version": "^0.3.0",
      "model_name": "CommandRegistryModel",
      "state": {
       "_command_list": [
        "__internal:context-menu-info",
        "apputils:activate-command-palette",
        "apputils:print",
        "apputils:run-first-enabled",
        "completer:invoke",
        "completer:select",
        "tooltip:dismiss",
        "launcher:create",
        "editmenu:undo",
        "editmenu:redo",
        "editmenu:clear-current",
        "editmenu:clear-all",
        "editmenu:go-to-line",
        "filemenu:close-and-cleanup",
        "filemenu:create-console",
        "filemenu:shutdown",
        "filemenu:logout",
        "kernelmenu:interrupt",
        "kernelmenu:restart",
        "kernelmenu:restart-and-clear",
        "kernelmenu:change",
        "kernelmenu:shutdown",
        "kernelmenu:shutdownAll",
        "runmenu:run",
        "runmenu:run-all",
        "runmenu:restart-and-run-all",
        "viewmenu:line-numbering",
        "viewmenu:match-brackets",
        "viewmenu:word-wrap",
        "tabsmenu:activate-by-id",
        "tabsmenu:activate-previously-used-tab",
        "editmenu:open",
        "filemenu:open",
        "kernelmenu:open",
        "runmenu:open",
        "viewmenu:open",
        "settingsmenu:open",
        "tabsmenu:open",
        "helpmenu:open",
        "mainmenu:open-first",
        "documentsearch:start",
        "documentsearch:startWithReplace",
        "documentsearch:highlightNext",
        "documentsearch:highlightPrevious",
        "docmanager:clone",
        "docmanager:rename",
        "docmanager:delete",
        "docmanager:show-in-file-browser",
        "docmanager:delete-file",
        "docmanager:new-untitled",
        "docmanager:open",
        "docmanager:open-browser-tab",
        "docmanager:reload",
        "docmanager:restore-checkpoint",
        "docmanager:save",
        "docmanager:save-all",
        "docmanager:save-as",
        "docmanager:download",
        "docmanager:toggle-autosave",
        "sidebar:switch",
        "apputils:change-theme",
        "apputils:theme-scrollbars",
        "apputils:incr-font-size",
        "apputils:decr-font-size",
        "statusbar:toggle",
        "rendermime:handle-local-link",
        "application:activate-next-tab",
        "application:activate-previous-tab",
        "application:activate-next-tab-bar",
        "application:activate-previous-tab-bar",
        "application:close",
        "application:close-all",
        "application:close-other-tabs",
        "application:close-right-tabs",
        "application:toggle-left-area",
        "application:toggle-right-area",
        "application:toggle-presentation-mode",
        "application:set-mode",
        "application:toggle-mode",
        "apputils:load-statedb",
        "apputils:reset",
        "apputils:reset-on-load",
        "markdownviewer:open",
        "markdownviewer:edit",
        "settingeditor:open",
        "settingeditor:revert",
        "settingeditor:save",
        "inspector:open",
        "htmlviewer:trust-html",
        "imageviewer:zoom-in",
        "imageviewer:zoom-out",
        "imageviewer:reset-image",
        "imageviewer:rotate-clockwise",
        "imageviewer:rotate-counterclockwise",
        "imageviewer:flip-horizontal",
        "imageviewer:flip-vertical",
        "imageviewer:invert-colors",
        "filebrowser:delete",
        "filebrowser:copy",
        "filebrowser:cut",
        "filebrowser:download",
        "filebrowser:duplicate",
        "filebrowser:hide-main",
        "filebrowser:go-to-path",
        "filebrowser:open-path",
        "filebrowser:open",
        "filebrowser:open-browser-tab",
        "filebrowser:copy-download-link",
        "filebrowser:paste",
        "filebrowser:create-new-directory",
        "filebrowser:create-new-file",
        "filebrowser:create-new-markdown-file",
        "filebrowser:rename",
        "filebrowser:copy-path",
        "filebrowser:activate",
        "filebrowser:shutdown",
        "filebrowser:toggle-main",
        "filebrowser:create-main-launcher",
        "filebrowser:toggle-navigate-to-current-directory",
        "filebrowser:toggle-last-modified",
        "filebrowser:share-main",
        "notebook:run-cell-and-select-next",
        "notebook:run-cell",
        "notebook:run-cell-and-insert-below",
        "notebook:run-in-console",
        "notebook:run-all-cells",
        "notebook:run-all-above",
        "notebook:run-all-below",
        "notebook:render-all-markdown",
        "notebook:restart-kernel",
        "notebook:close-and-shutdown",
        "notebook:trust",
        "notebook:export-to-format",
        "notebook:restart-clear-output",
        "notebook:restart-and-run-to-selected",
        "notebook:restart-run-all",
        "notebook:clear-all-cell-outputs",
        "notebook:clear-cell-output",
        "notebook:interrupt-kernel",
        "notebook:change-cell-to-code",
        "notebook:change-cell-to-markdown",
        "notebook:change-cell-to-raw",
        "notebook:cut-cell",
        "notebook:copy-cell",
        "notebook:paste-cell-below",
        "notebook:paste-cell-above",
        "notebook:paste-and-replace-cell",
        "notebook:delete-cell",
        "notebook:split-cell-at-cursor",
        "notebook:merge-cells",
        "notebook:insert-cell-above",
        "notebook:insert-cell-below",
        "notebook:move-cursor-up",
        "notebook:move-cursor-down",
        "notebook:extend-marked-cells-above",
        "notebook:extend-marked-cells-top",
        "notebook:extend-marked-cells-below",
        "notebook:extend-marked-cells-bottom",
        "notebook:select-all",
        "notebook:deselect-all",
        "notebook:move-cell-up",
        "notebook:move-cell-down",
        "notebook:toggle-all-cell-line-numbers",
        "notebook:enter-command-mode",
        "notebook:enter-edit-mode",
        "notebook:undo-cell-action",
        "notebook:redo-cell-action",
        "notebook:change-kernel",
        "notebook:reconnect-to-kernel",
        "notebook:create-output-view",
        "notebook:create-console",
        "notebook:change-cell-to-heading-1",
        "notebook:change-cell-to-heading-2",
        "notebook:change-cell-to-heading-3",
        "notebook:change-cell-to-heading-4",
        "notebook:change-cell-to-heading-5",
        "notebook:change-cell-to-heading-6",
        "notebook:hide-cell-code",
        "notebook:show-cell-code",
        "notebook:hide-all-cell-code",
        "notebook:show-all-cell-code",
        "notebook:hide-cell-outputs",
        "notebook:show-cell-outputs",
        "notebook:hide-all-cell-outputs",
        "notebook:show-all-cell-outputs",
        "notebook:enable-output-scrolling",
        "notebook:disable-output-scrolling",
        "notebook:select-last-run-cell",
        "notebook:replace-selection",
        "notebook:create-new",
        "help:about",
        "help:open",
        "help:launch-classic-notebook",
        "terminal:create-new",
        "terminal:open",
        "terminal:refresh",
        "terminal:increase-font",
        "terminal:decrease-font",
        "terminal:set-theme",
        "completer:invoke-notebook",
        "completer:select-notebook",
        "logconsole:open",
        "logconsole:add-checkpoint",
        "logconsole:clear",
        "logconsole:set-level",
        "tooltip:launch-notebook",
        "@jupyter-widgets/jupyterlab-manager:saveWidgetState",
        "extensionmanager:toggle",
        "console:open",
        "console:create",
        "console:clear",
        "console:run-unforced",
        "console:run-forced",
        "console:linebreak",
        "console:replace-selection",
        "console:interrupt-kernel",
        "console:restart-kernel",
        "console:close-and-shutdown",
        "console:inject",
        "console:change-kernel",
        "console:interaction-mode",
        "fileeditor:change-font-size",
        "fileeditor:toggle-line-numbers",
        "fileeditor:toggle-line-wrap",
        "fileeditor:change-tabs",
        "fileeditor:toggle-match-brackets",
        "fileeditor:toggle-autoclosing-brackets",
        "fileeditor:replace-selection",
        "fileeditor:create-console",
        "fileeditor:run-code",
        "fileeditor:run-all",
        "fileeditor:markdown-preview",
        "fileeditor:create-new",
        "fileeditor:create-new-markdown-file",
        "fileeditor:undo",
        "fileeditor:redo",
        "fileeditor:cut",
        "fileeditor:copy",
        "fileeditor:paste",
        "fileeditor:select-all",
        "completer:invoke-console",
        "completer:select-console",
        "console:toggle-show-all-kernel-activity",
        "tooltip:launch-console",
        "codemirror:change-theme",
        "codemirror:change-keymap",
        "codemirror:find",
        "codemirror:go-to-line",
        "codemirror:change-mode",
        "completer:invoke-file",
        "completer:select-file",
        "tooltip:launch-file",
        "help-menu-python3:banner",
        "help-menu-python3:Python Reference",
        "help-menu-python3:IPython Reference",
        "help-menu-python3:NumPy Reference",
        "help-menu-python3:SciPy Reference",
        "help-menu-python3:Matplotlib Reference",
        "help-menu-python3:SymPy Reference",
        "help-menu-python3:pandas Reference"
       ],
       "_model_module_version": "^0.3.0",
       "_view_module": null,
       "_view_module_version": ""
      }
     },
     "52093ecc3bb64635993dbbcf41d8d1fb": {
      "model_module": "ipylab",
      "model_module_version": "^0.3.0",
      "model_name": "ShellModel",
      "state": {
       "_model_module_version": "^0.3.0",
       "_view_module": null,
       "_view_module_version": "",
       "_widgets": [
        {
         "area": "main",
         "args": {
          "mode": "split-right"
         },
         "id": "id-2841a6b3-c05f-437e-9610-bce893f6074d",
         "serializedWidget": "IPY_MODEL_6671ba8ac44b4faea6a92f665a97ca08"
        }
       ]
      }
     },
     "5d082c0483dc4b44b622262f0c6d589a": {
      "model_module": "@jupyter-widgets/controls",
      "model_module_version": "1.5.0",
      "model_name": "BoxModel",
      "state": {
       "children": [
        "IPY_MODEL_365093011f4d46f7a70f08cc7d1d107b"
       ],
       "layout": "IPY_MODEL_816f48e4d9c848bc8b8df43f59850133"
      }
     },
     "605f7fd8586e41bf93b850d8e1a1d142": {
      "model_module": "@jupyter-widgets/base",
      "model_module_version": "1.2.0",
      "model_name": "LayoutModel",
      "state": {}
     },
     "66e1114b89f6437583533f7b6cda2ce8": {
      "model_module": "ipylab",
      "model_module_version": "^0.3.0",
      "model_name": "TitleModel",
      "state": {
       "_model_module_version": "^0.3.0",
       "_view_module": null,
       "_view_module_version": "",
       "closable": true,
       "icon_class": "",
       "label": "Jyrobot Simulator"
      }
     },
     "7332820eba1040f88a3188a5b49592f4": {
      "model_module": "@jupyter-widgets/controls",
      "model_module_version": "1.5.0",
      "model_name": "BoxModel",
      "state": {
       "children": [
        "IPY_MODEL_0aaf614ed0c24818bf9cb4b7413cce3b"
       ],
       "layout": "IPY_MODEL_ae02bb163f5f43b69f5fae6f7139cc21"
      }
     },
     "74ead8aa53e34a18addca15de58ac60c": {
      "model_module": "@jupyter-widgets/base",
      "model_module_version": "1.2.0",
      "model_name": "LayoutModel",
      "state": {
       "max_width": "600px"
      }
     },
     "79d7a7fe8c8f4b26a934c808a06bdc91": {
      "model_module": "ipylab",
      "model_module_version": "^0.3.0",
      "model_name": "ShellModel",
      "state": {
       "_model_module_version": "^0.3.0",
       "_view_module": null,
       "_view_module_version": "",
       "_widgets": [
        {
         "area": "main",
         "args": {
          "mode": "split-right"
         },
         "id": "id-ba94c0b3-b167-4fb2-a1bc-5ac5a911509d",
         "serializedWidget": "IPY_MODEL_e953a252533542819f91cf4e18260f12"
        }
       ]
      }
     },
     "816f48e4d9c848bc8b8df43f59850133": {
      "model_module": "@jupyter-widgets/base",
      "model_module_version": "1.2.0",
      "model_name": "LayoutModel",
      "state": {
       "height": "auto",
       "width": "100%"
      }
     },
     "8405df2c76df40a4b7462f94a72be1a3": {
      "model_module": "@jupyter-widgets/controls",
      "model_module_version": "1.5.0",
      "model_name": "BoxModel",
      "state": {
       "children": [
        "IPY_MODEL_e82ab011d7e24502888eabc16e9396dd"
       ],
       "layout": "IPY_MODEL_0c2392b2384c4a278acc2e7af2767b51"
      }
     },
     "8cb021e293fc4be79077c00aa2f7a371": {
      "model_module": "@jupyter-widgets/base",
      "model_module_version": "1.2.0",
      "model_name": "LayoutModel",
      "state": {
       "margin": "auto"
      }
     },
     "929486ee356a44c89b0e169fb1644291": {
      "model_module": "@jupyter-widgets/base",
      "model_module_version": "1.2.0",
      "model_name": "LayoutModel",
      "state": {
       "max_width": "600px"
      }
     },
     "9820fa478e6a42ef9fc031c25f807a00": {
      "model_module": "@jupyter-widgets/base",
      "model_module_version": "1.2.0",
      "model_name": "LayoutModel",
      "state": {}
     },
     "a92214bf24c141b0b59d44fd74735dec": {
      "model_module": "ipylab",
      "model_module_version": "^0.3.0",
      "model_name": "CommandRegistryModel",
      "state": {
       "_command_list": [
        "__internal:context-menu-info",
        "apputils:activate-command-palette",
        "apputils:print",
        "apputils:run-first-enabled",
        "completer:invoke",
        "completer:select",
        "tooltip:dismiss",
        "launcher:create",
        "editmenu:undo",
        "editmenu:redo",
        "editmenu:clear-current",
        "editmenu:clear-all",
        "editmenu:go-to-line",
        "filemenu:close-and-cleanup",
        "filemenu:create-console",
        "filemenu:shutdown",
        "filemenu:logout",
        "kernelmenu:interrupt",
        "kernelmenu:restart",
        "kernelmenu:restart-and-clear",
        "kernelmenu:change",
        "kernelmenu:shutdown",
        "kernelmenu:shutdownAll",
        "runmenu:run",
        "runmenu:run-all",
        "runmenu:restart-and-run-all",
        "viewmenu:line-numbering",
        "viewmenu:match-brackets",
        "viewmenu:word-wrap",
        "tabsmenu:activate-by-id",
        "tabsmenu:activate-previously-used-tab",
        "editmenu:open",
        "filemenu:open",
        "kernelmenu:open",
        "runmenu:open",
        "viewmenu:open",
        "settingsmenu:open",
        "tabsmenu:open",
        "helpmenu:open",
        "mainmenu:open-first",
        "documentsearch:start",
        "documentsearch:startWithReplace",
        "documentsearch:highlightNext",
        "documentsearch:highlightPrevious",
        "docmanager:clone",
        "docmanager:rename",
        "docmanager:delete",
        "docmanager:show-in-file-browser",
        "docmanager:delete-file",
        "docmanager:new-untitled",
        "docmanager:open",
        "docmanager:open-browser-tab",
        "docmanager:reload",
        "docmanager:restore-checkpoint",
        "docmanager:save",
        "docmanager:save-all",
        "docmanager:save-as",
        "docmanager:download",
        "docmanager:toggle-autosave",
        "sidebar:switch",
        "apputils:change-theme",
        "apputils:theme-scrollbars",
        "apputils:incr-font-size",
        "apputils:decr-font-size",
        "statusbar:toggle",
        "rendermime:handle-local-link",
        "application:activate-next-tab",
        "application:activate-previous-tab",
        "application:activate-next-tab-bar",
        "application:activate-previous-tab-bar",
        "application:close",
        "application:close-all",
        "application:close-other-tabs",
        "application:close-right-tabs",
        "application:toggle-left-area",
        "application:toggle-right-area",
        "application:toggle-presentation-mode",
        "application:set-mode",
        "application:toggle-mode",
        "apputils:load-statedb",
        "apputils:reset",
        "apputils:reset-on-load",
        "markdownviewer:open",
        "markdownviewer:edit",
        "settingeditor:open",
        "settingeditor:revert",
        "settingeditor:save",
        "inspector:open",
        "htmlviewer:trust-html",
        "imageviewer:zoom-in",
        "imageviewer:zoom-out",
        "imageviewer:reset-image",
        "imageviewer:rotate-clockwise",
        "imageviewer:rotate-counterclockwise",
        "imageviewer:flip-horizontal",
        "imageviewer:flip-vertical",
        "imageviewer:invert-colors",
        "filebrowser:delete",
        "filebrowser:copy",
        "filebrowser:cut",
        "filebrowser:download",
        "filebrowser:duplicate",
        "filebrowser:hide-main",
        "filebrowser:go-to-path",
        "filebrowser:open-path",
        "filebrowser:open",
        "filebrowser:open-browser-tab",
        "filebrowser:copy-download-link",
        "filebrowser:paste",
        "filebrowser:create-new-directory",
        "filebrowser:create-new-file",
        "filebrowser:create-new-markdown-file",
        "filebrowser:rename",
        "filebrowser:copy-path",
        "filebrowser:activate",
        "filebrowser:shutdown",
        "filebrowser:toggle-main",
        "filebrowser:create-main-launcher",
        "filebrowser:toggle-navigate-to-current-directory",
        "filebrowser:toggle-last-modified",
        "filebrowser:share-main",
        "notebook:run-cell-and-select-next",
        "notebook:run-cell",
        "notebook:run-cell-and-insert-below",
        "notebook:run-in-console",
        "notebook:run-all-cells",
        "notebook:run-all-above",
        "notebook:run-all-below",
        "notebook:render-all-markdown",
        "notebook:restart-kernel",
        "notebook:close-and-shutdown",
        "notebook:trust",
        "notebook:export-to-format",
        "notebook:restart-clear-output",
        "notebook:restart-and-run-to-selected",
        "notebook:restart-run-all",
        "notebook:clear-all-cell-outputs",
        "notebook:clear-cell-output",
        "notebook:interrupt-kernel",
        "notebook:change-cell-to-code",
        "notebook:change-cell-to-markdown",
        "notebook:change-cell-to-raw",
        "notebook:cut-cell",
        "notebook:copy-cell",
        "notebook:paste-cell-below",
        "notebook:paste-cell-above",
        "notebook:paste-and-replace-cell",
        "notebook:delete-cell",
        "notebook:split-cell-at-cursor",
        "notebook:merge-cells",
        "notebook:insert-cell-above",
        "notebook:insert-cell-below",
        "notebook:move-cursor-up",
        "notebook:move-cursor-down",
        "notebook:extend-marked-cells-above",
        "notebook:extend-marked-cells-top",
        "notebook:extend-marked-cells-below",
        "notebook:extend-marked-cells-bottom",
        "notebook:select-all",
        "notebook:deselect-all",
        "notebook:move-cell-up",
        "notebook:move-cell-down",
        "notebook:toggle-all-cell-line-numbers",
        "notebook:enter-command-mode",
        "notebook:enter-edit-mode",
        "notebook:undo-cell-action",
        "notebook:redo-cell-action",
        "notebook:change-kernel",
        "notebook:reconnect-to-kernel",
        "notebook:create-output-view",
        "notebook:create-console",
        "notebook:change-cell-to-heading-1",
        "notebook:change-cell-to-heading-2",
        "notebook:change-cell-to-heading-3",
        "notebook:change-cell-to-heading-4",
        "notebook:change-cell-to-heading-5",
        "notebook:change-cell-to-heading-6",
        "notebook:hide-cell-code",
        "notebook:show-cell-code",
        "notebook:hide-all-cell-code",
        "notebook:show-all-cell-code",
        "notebook:hide-cell-outputs",
        "notebook:show-cell-outputs",
        "notebook:hide-all-cell-outputs",
        "notebook:show-all-cell-outputs",
        "notebook:enable-output-scrolling",
        "notebook:disable-output-scrolling",
        "notebook:select-last-run-cell",
        "notebook:replace-selection",
        "notebook:create-new",
        "help:about",
        "help:open",
        "help:launch-classic-notebook",
        "terminal:create-new",
        "terminal:open",
        "terminal:refresh",
        "terminal:increase-font",
        "terminal:decrease-font",
        "terminal:set-theme",
        "completer:invoke-notebook",
        "completer:select-notebook",
        "logconsole:open",
        "logconsole:add-checkpoint",
        "logconsole:clear",
        "logconsole:set-level",
        "tooltip:launch-notebook",
        "@jupyter-widgets/jupyterlab-manager:saveWidgetState",
        "extensionmanager:toggle",
        "console:open",
        "console:create",
        "console:clear",
        "console:run-unforced",
        "console:run-forced",
        "console:linebreak",
        "console:replace-selection",
        "console:interrupt-kernel",
        "console:restart-kernel",
        "console:close-and-shutdown",
        "console:inject",
        "console:change-kernel",
        "console:interaction-mode",
        "fileeditor:change-font-size",
        "fileeditor:toggle-line-numbers",
        "fileeditor:toggle-line-wrap",
        "fileeditor:change-tabs",
        "fileeditor:toggle-match-brackets",
        "fileeditor:toggle-autoclosing-brackets",
        "fileeditor:replace-selection",
        "fileeditor:create-console",
        "fileeditor:run-code",
        "fileeditor:run-all",
        "fileeditor:markdown-preview",
        "fileeditor:create-new",
        "fileeditor:create-new-markdown-file",
        "fileeditor:undo",
        "fileeditor:redo",
        "fileeditor:cut",
        "fileeditor:copy",
        "fileeditor:paste",
        "fileeditor:select-all",
        "completer:invoke-console",
        "completer:select-console",
        "console:toggle-show-all-kernel-activity",
        "tooltip:launch-console",
        "codemirror:change-theme",
        "codemirror:change-keymap",
        "codemirror:find",
        "codemirror:go-to-line",
        "codemirror:change-mode",
        "completer:invoke-file",
        "completer:select-file",
        "tooltip:launch-file",
        "help-menu-python3:banner",
        "help-menu-python3:Python Reference",
        "help-menu-python3:IPython Reference",
        "help-menu-python3:NumPy Reference",
        "help-menu-python3:SciPy Reference",
        "help-menu-python3:Matplotlib Reference",
        "help-menu-python3:SymPy Reference",
        "help-menu-python3:pandas Reference"
       ],
       "_model_module_version": "^0.3.0",
       "_view_module": null,
       "_view_module_version": ""
      }
     },
     "ae02bb163f5f43b69f5fae6f7139cc21": {
      "model_module": "@jupyter-widgets/base",
      "model_module_version": "1.2.0",
      "model_name": "LayoutModel",
      "state": {
       "height": "auto",
       "width": "100%"
      }
     },
     "ae6dc98838dc48f0803c5561230b5901": {
      "model_module": "@jupyter-widgets/controls",
      "model_module_version": "1.5.0",
      "model_name": "BoxModel",
      "state": {
       "children": [
        "IPY_MODEL_0aaf614ed0c24818bf9cb4b7413cce3b"
       ],
       "layout": "IPY_MODEL_74ead8aa53e34a18addca15de58ac60c"
      }
     },
     "af8c27adf6a54c47874dabdccd4fa95e": {
      "model_module": "@jupyter-widgets/controls",
      "model_module_version": "1.5.0",
      "model_name": "BoxModel",
      "state": {
       "children": [
        "IPY_MODEL_e82ab011d7e24502888eabc16e9396dd"
       ],
       "layout": "IPY_MODEL_08c4796670bd4ed0b874469f20c1c69f"
      }
     },
     "bdba7e757ed64488b00862034fbbe2e6": {
      "model_module": "ipylab",
      "model_module_version": "^0.3.0",
      "model_name": "JupyterFrontEndModel",
      "state": {
       "_model_module_version": "^0.3.0",
       "_view_module": null,
       "_view_module_version": "",
       "commands": "IPY_MODEL_4cf28ac866d94973ba7e5c92596d50ef",
       "shell": "IPY_MODEL_79d7a7fe8c8f4b26a934c808a06bdc91",
       "version": "2.2.9"
      }
     },
     "c1e307222f92426b8e5d1c1597b34650": {
      "model_module": "ipylab",
      "model_module_version": "^0.3.0",
      "model_name": "JupyterFrontEndModel",
      "state": {
       "_model_module_version": "^0.3.0",
       "_view_module": null,
       "_view_module_version": "",
       "commands": "IPY_MODEL_351a4dd7bc134afa8bba0f3139b3fbaf",
       "shell": "IPY_MODEL_52093ecc3bb64635993dbbcf41d8d1fb",
       "version": "2.2.9"
      }
     },
     "c865459b5ec748d6b5d8b3b6fd0ecde3": {
      "model_module": "@jupyter-widgets/controls",
      "model_module_version": "1.5.0",
      "model_name": "BoxModel",
      "state": {
       "children": [
        "IPY_MODEL_365093011f4d46f7a70f08cc7d1d107b"
       ],
       "layout": "IPY_MODEL_929486ee356a44c89b0e169fb1644291"
      }
     },
     "c93a4a5a77744cefbf3b0549c2333ee7": {
      "model_module": "ipylab",
      "model_module_version": "^0.3.0",
      "model_name": "TitleModel",
      "state": {
       "_model_module_version": "^0.3.0",
       "_view_module": null,
       "_view_module_version": "",
       "closable": true,
       "icon_class": "",
       "label": "Jyrobot Simulator"
      }
     },
     "cbba630bf6124c2fa38140dd2dd5aa50": {
      "model_module": "ipylab",
      "model_module_version": "^0.3.0",
      "model_name": "ShellModel",
      "state": {
       "_model_module_version": "^0.3.0",
       "_view_module": null,
       "_view_module_version": "",
       "_widgets": [
        {
         "area": "main",
         "args": {
          "mode": "split-right"
         },
         "id": "id-9e24fd3f-62a6-4641-a834-d38ae07bc332",
         "serializedWidget": "IPY_MODEL_45481d1540dc4b709a4d4837a2554246"
        }
       ]
      }
     },
     "da982714e7e94769b8dde2d9a819ebee": {
      "model_module": "@jupyter-widgets/base",
      "model_module_version": "1.2.0",
      "model_name": "LayoutModel",
      "state": {
       "margin": "auto"
      }
     },
     "e82ab011d7e24502888eabc16e9396dd": {
      "buffers": [
       {
        "data": "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",
        "encoding": "base64",
        "path": [
         "value"
        ]
       }
      ],
      "model_module": "@jupyter-widgets/controls",
      "model_module_version": "1.5.0",
      "model_name": "ImageModel",
      "state": {
       "layout": "IPY_MODEL_da982714e7e94769b8dde2d9a819ebee"
      }
     },
     "f2bdd4714f344a99bd2a931089606333": {
      "model_module": "@jupyter-widgets/base",
      "model_module_version": "1.2.0",
      "model_name": "LayoutModel",
      "state": {
       "margin": "auto"
      }
     }
    },
    "version_major": 2,
    "version_minor": 0
   }
  }
 },
 "nbformat": 4,
 "nbformat_minor": 4
}
