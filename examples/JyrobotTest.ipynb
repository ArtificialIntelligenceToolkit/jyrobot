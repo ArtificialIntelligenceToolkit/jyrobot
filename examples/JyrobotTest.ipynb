{
 "cells": [
  {
   "cell_type": "markdown",
   "metadata": {},
   "source": [
    "# Example 1"
   ]
  },
  {
   "cell_type": "code",
   "execution_count": 1,
   "metadata": {},
   "outputs": [],
   "source": [
    "import jyrobot\n",
    "import random"
   ]
  },
  {
   "cell_type": "code",
   "execution_count": 2,
   "metadata": {},
   "outputs": [
    {
     "name": "stdout",
     "output_type": "stream",
     "text": [
      "Searching for jyrobot config files...\n",
      "Directory: ./\n",
      "    'experiment-01'\n",
      "Directory: /home/dblank/jyrobot/jyrobot/worlds\n",
      "    'duck-scribbler-no-walls'\n",
      "    'two-scribblers-no-walls'\n",
      "    'two-scribblers-one-wall'\n",
      "    'two-scribblers'\n"
     ]
    }
   ],
   "source": [
    "jyrobot.load()"
   ]
  },
  {
   "cell_type": "code",
   "execution_count": 3,
   "metadata": {},
   "outputs": [
    {
     "name": "stdout",
     "output_type": "stream",
     "text": [
      "Random seed initialized to: 5877481\n"
     ]
    }
   ],
   "source": [
    "world = jyrobot.load(\"two-scribblers\")"
   ]
  },
  {
   "cell_type": "code",
   "execution_count": 4,
   "metadata": {},
   "outputs": [
    {
     "data": {
      "application/vnd.jupyter.widget-view+json": {
       "model_id": "9b0a704cc13d442083570477e6b1082e",
       "version_major": 2,
       "version_minor": 0
      },
      "text/plain": [
       "Box(children=(Image(value=b'\\xff\\xd8\\xff\\xe0\\x00\\x10JFIF\\x00\\x01\\x01\\x00\\x00\\x01\\x00\\x01\\x00\\x00\\xff\\xdb\\x00C\\…"
      ]
     },
     "metadata": {},
     "output_type": "display_data"
    }
   ],
   "source": [
    "world.watch(\"panel\", \"inline\") # or \"panel\", \"left\", \"right\", \"inline\""
   ]
  },
  {
   "cell_type": "code",
   "execution_count": 5,
   "metadata": {},
   "outputs": [
    {
     "data": {
      "image/png": "[encoded data removed]",
      "text/plain": [
       "<PIL.Image.Image image mode=RGB size=200x200 at 0x7F319166D9A0>"
      ]
     },
     "execution_count": 5,
     "metadata": {},
     "output_type": "execute_result"
    }
   ],
   "source": [
    "world.take_picture(\"blue\", size=200)"
   ]
  },
  {
   "cell_type": "code",
   "execution_count": 6,
   "metadata": {},
   "outputs": [
    {
     "name": "stdout",
     "output_type": "stream",
     "text": [
      "This world was loaded from '/home/dblank/jyrobot/jyrobot/worlds/two-scribblers.json'\n",
      "Robots:\n",
      "-------------------------\n",
      "  robot[0 or 'Red']: <Robot(name='Red', position=430,50,3.14 v=0,0,0)>\n",
      "      device[0 or 'camera']: <Camera size=(256,128), angle=60.0>\n",
      "      device[1 or 'laser']: <RangeSensor angle=0.0, range=100, width=0.0>\n",
      "      device[2 or 'ir']: <RangeSensor angle=90.0, range=20, width=57.3>\n",
      "      device[3 or 'ir']: <RangeSensor angle=-90.0, range=20, width=57.3>\n",
      "  -------------------------\n",
      "  robot[1 or 'Blue']: <Robot(name='Blue', position=30,50,0.0 v=0,0,0)>\n",
      "      device[0 or 'camera']: <Camera size=(256,128), angle=60.0>\n",
      "      device[1 or 'laser']: <RangeSensor angle=0.0, range=100, width=0.0>\n",
      "      device[2 or 'ir']: <RangeSensor angle=0.0, range=20, width=57.3>\n",
      "      device[3 or 'ir']: <RangeSensor angle=0.0, range=20, width=57.3>\n",
      "  -------------------------\n"
     ]
    }
   ],
   "source": [
    "world.info()"
   ]
  },
  {
   "cell_type": "code",
   "execution_count": 7,
   "metadata": {},
   "outputs": [
    {
     "data": {
      "text/plain": [
       "<Camera size=(256,128), angle=60.0>"
      ]
     },
     "execution_count": 7,
     "metadata": {},
     "output_type": "execute_result"
    }
   ],
   "source": [
    "world[\"red\"][\"camera\"]"
   ]
  },
  {
   "cell_type": "code",
   "execution_count": 8,
   "metadata": {},
   "outputs": [
    {
     "data": {
      "image/png": "[encoded data removed]",
      "text/plain": [
       "<PIL.Image.Image image mode=RGBA size=256x128 at 0x7F319023AD60>"
      ]
     },
     "execution_count": 8,
     "metadata": {},
     "output_type": "execute_result"
    }
   ],
   "source": [
    "world[\"red\"][\"camera\"].take_picture()"
   ]
  },
  {
   "cell_type": "code",
   "execution_count": 9,
   "metadata": {},
   "outputs": [],
   "source": [
    "world[0].move(1, 0)\n",
    "world[1].move(1, 0)\n",
    "\n",
    "step = 0\n",
    "\n",
    "def control(robot):\n",
    "    global step\n",
    "    if robot.stalled:\n",
    "        robot.reverse()\n",
    "        robot.turn(1 - random.random() * 2)\n",
    "    if random.random() < .1:\n",
    "        robot.turn(1 - random.random() * 2)\n",
    "    #if step % 100 == 0:\n",
    "    #    world.display(world.take_picture())\n",
    "    step += 1"
   ]
  },
  {
   "cell_type": "code",
   "execution_count": 10,
   "metadata": {},
   "outputs": [
    {
     "data": {
      "application/vnd.jupyter.widget-view+json": {
       "model_id": "aa1ba6c3d6d346f2b464fb50634c5a31",
       "version_major": 2,
       "version_minor": 0
      },
      "text/plain": [
       "HBox(children=(HTML(value=''), FloatProgress(value=0.0, max=50.0), HTML(value='')))"
      ]
     },
     "metadata": {},
     "output_type": "display_data"
    },
    {
     "name": "stdout",
     "output_type": "stream",
     "text": [
      "\n",
      "Simulation stopped at: 00:00:05.0; speed 0.96 x real time\n"
     ]
    }
   ],
   "source": [
    "world.seconds(5, [control, control])"
   ]
  },
  {
   "cell_type": "code",
   "execution_count": 11,
   "metadata": {},
   "outputs": [
    {
     "data": {
      "application/vnd.jupyter.widget-view+json": {
       "model_id": "f0e521dcec2440e9b670167483faa577",
       "version_major": 2,
       "version_minor": 0
      },
      "text/plain": [
       "HBox(children=(HTML(value=''), FloatProgress(value=0.0, max=2000.0), HTML(value='')))"
      ]
     },
     "metadata": {},
     "output_type": "display_data"
    },
    {
     "name": "stdout",
     "output_type": "stream",
     "text": [
      "\n",
      "Simulation stopped at: 00:03:25.0; speed 38.81 x real time\n"
     ]
    }
   ],
   "source": [
    "world.seconds(200, [control, control], show=True, real_time=False)"
   ]
  },
  {
   "cell_type": "code",
   "execution_count": null,
   "metadata": {},
   "outputs": [],
   "source": [
    "world.seconds(200, [control, control], show=False)"
   ]
  },
  {
   "cell_type": "markdown",
   "metadata": {},
   "source": [
    "# Example 2"
   ]
  },
  {
   "cell_type": "code",
   "execution_count": null,
   "metadata": {},
   "outputs": [],
   "source": [
    "import jyrobot\n",
    "import time"
   ]
  },
  {
   "cell_type": "code",
   "execution_count": null,
   "metadata": {},
   "outputs": [],
   "source": [
    "w = jyrobot.World(width=500, height=500, ground_color=\"white\", seed=10, scale=10)\n",
    "w.watch(\"panel\", \"inline\")"
   ]
  },
  {
   "cell_type": "code",
   "execution_count": null,
   "metadata": {},
   "outputs": [],
   "source": [
    "w"
   ]
  },
  {
   "cell_type": "code",
   "execution_count": null,
   "metadata": {},
   "outputs": [],
   "source": [
    "for i in range(20):\n",
    "    robot = jyrobot.Scribbler(color=\"blue\", name=\"Scribby-%s\" % i)\n",
    "    sensor = jyrobot.Camera()\n",
    "    robot.add_device(sensor)\n",
    "    w.add_robot(robot)\n",
    "w.draw()"
   ]
  },
  {
   "cell_type": "code",
   "execution_count": null,
   "metadata": {},
   "outputs": [],
   "source": [
    "from jyrobot.utils import Color\n",
    "import random\n",
    "for robot in w:\n",
    "    robot.set_color( Color(\n",
    "        255 * random.random(), \n",
    "        255 * random.random(), \n",
    "        255 * random.random(), \n",
    "   ))\n",
    "w.draw()"
   ]
  },
  {
   "cell_type": "code",
   "execution_count": null,
   "metadata": {},
   "outputs": [],
   "source": [
    "%%time\n",
    "w.draw()"
   ]
  },
  {
   "cell_type": "code",
   "execution_count": null,
   "metadata": {},
   "outputs": [],
   "source": [
    "%%time\n",
    "pics = []\n",
    "for robot in w:\n",
    "    pic = robot[\"camera\"].take_picture()\n",
    "    pics.append(pic)"
   ]
  },
  {
   "cell_type": "code",
   "execution_count": null,
   "metadata": {},
   "outputs": [],
   "source": [
    "w.display(*pics)"
   ]
  },
  {
   "cell_type": "code",
   "execution_count": null,
   "metadata": {},
   "outputs": [],
   "source": [
    "%%time\n",
    "pics = []\n",
    "for i, robot in enumerate(w):\n",
    "    pic = w.take_picture(i, size=200)\n",
    "    pics.append(pic)"
   ]
  },
  {
   "cell_type": "code",
   "execution_count": null,
   "metadata": {},
   "outputs": [],
   "source": [
    "w.display(*pics, background_color=\"black\")"
   ]
  },
  {
   "cell_type": "code",
   "execution_count": null,
   "metadata": {},
   "outputs": [],
   "source": [
    "for robot in w:\n",
    "    robot.move(1,0)"
   ]
  },
  {
   "cell_type": "code",
   "execution_count": null,
   "metadata": {},
   "outputs": [],
   "source": [
    "def control(world):\n",
    "    for robot in world:\n",
    "        if robot.stalled:\n",
    "            robot.reverse()\n",
    "        robot.turn(1 - random.random() * 2)"
   ]
  },
  {
   "cell_type": "code",
   "execution_count": null,
   "metadata": {},
   "outputs": [],
   "source": [
    "w.run(control, show=True, real_time=False)"
   ]
  },
  {
   "cell_type": "markdown",
   "metadata": {},
   "source": [
    "# Example 3"
   ]
  },
  {
   "cell_type": "code",
   "execution_count": 12,
   "metadata": {},
   "outputs": [],
   "source": [
    "import jyrobot as jr\n",
    "import random"
   ]
  },
  {
   "cell_type": "code",
   "execution_count": 13,
   "metadata": {},
   "outputs": [
    {
     "name": "stdout",
     "output_type": "stream",
     "text": [
      "Random seed initialized to: 3242412\n"
     ]
    }
   ],
   "source": [
    "w = jr.World(width=100, height=100, scale=10)"
   ]
  },
  {
   "cell_type": "code",
   "execution_count": 14,
   "metadata": {},
   "outputs": [
    {
     "data": {
      "application/vnd.jupyter.widget-view+json": {
       "model_id": "437672d7075449a893729529b999a2e7",
       "version_major": 2,
       "version_minor": 0
      },
      "text/plain": [
       "Box(children=(Image(value=b'\\xff\\xd8\\xff\\xe0\\x00\\x10JFIF\\x00\\x01\\x01\\x00\\x00\\x01\\x00\\x01\\x00\\x00\\xff\\xdb\\x00C\\…"
      ]
     },
     "metadata": {},
     "output_type": "display_data"
    }
   ],
   "source": [
    "w.watch(\"inline\", \"panel\") # or \"panel\", \"left\", \"right\""
   ]
  },
  {
   "cell_type": "code",
   "execution_count": 15,
   "metadata": {},
   "outputs": [],
   "source": [
    "r = jr.Scribbler()"
   ]
  },
  {
   "cell_type": "code",
   "execution_count": 16,
   "metadata": {},
   "outputs": [],
   "source": [
    "w.add_robot(r)\n",
    "w.update()"
   ]
  },
  {
   "cell_type": "code",
   "execution_count": 17,
   "metadata": {},
   "outputs": [],
   "source": [
    "sensor = jr.RangeSensor()"
   ]
  },
  {
   "cell_type": "code",
   "execution_count": 18,
   "metadata": {},
   "outputs": [],
   "source": [
    "r.add_device(sensor)\n",
    "w.update()"
   ]
  },
  {
   "cell_type": "code",
   "execution_count": 19,
   "metadata": {},
   "outputs": [],
   "source": [
    "r.forward(1)\n",
    "\n",
    "def control(world):\n",
    "    for robot in world:\n",
    "        if robot.stalled:\n",
    "            robot.reverse()\n",
    "        robot.turn(1 - random.random() * 2)"
   ]
  },
  {
   "cell_type": "code",
   "execution_count": 20,
   "metadata": {},
   "outputs": [],
   "source": [
    "r.watch(\"x\", \"y\")"
   ]
  },
  {
   "cell_type": "code",
   "execution_count": 21,
   "metadata": {},
   "outputs": [
    {
     "data": {
      "application/vnd.jupyter.widget-view+json": {
       "model_id": "a00c211736694bf081c095784e54f858",
       "version_major": 2,
       "version_minor": 0
      },
      "text/plain": [
       "HBox(children=(HTML(value=''), FloatProgress(value=0.0, max=1.0), HTML(value='')))"
      ]
     },
     "metadata": {},
     "output_type": "display_data"
    },
    {
     "name": "stdout",
     "output_type": "stream",
     "text": [
      "\n",
      "Simulation stopped at: 00:00:00.1; speed 0.75 x real time\n"
     ]
    }
   ],
   "source": [
    "w.seconds(.1, control, show=True, real_time=True)"
   ]
  },
  {
   "cell_type": "code",
   "execution_count": 22,
   "metadata": {},
   "outputs": [
    {
     "data": {
      "application/vnd.jupyter.widget-view+json": {
       "model_id": "afa502a595b842a0bb30a2055a40908b",
       "version_major": 2,
       "version_minor": 0
      },
      "text/plain": [
       "HBox(children=(HTML(value=''), FloatProgress(value=0.0), HTML(value='')))"
      ]
     },
     "metadata": {},
     "output_type": "display_data"
    },
    {
     "name": "stdout",
     "output_type": "stream",
     "text": [
      "\n",
      "Simulation stopped at: 00:00:10.1; speed 0.97 x real time\n"
     ]
    }
   ],
   "source": [
    "w.seconds(10, control, show=True, real_time=True)"
   ]
  },
  {
   "cell_type": "code",
   "execution_count": null,
   "metadata": {},
   "outputs": [
    {
     "data": {
      "application/vnd.jupyter.widget-view+json": {
       "model_id": "02c17d50b9624fa2ae062e19dd1d9378",
       "version_major": 2,
       "version_minor": 0
      },
      "text/plain": [
       "HBox(children=(HTML(value=''), FloatProgress(value=1.0, bar_style='info', layout=Layout(width='20px'), max=1.0…"
      ]
     },
     "metadata": {},
     "output_type": "display_data"
    }
   ],
   "source": [
    "w.run(control, show=True, real_time=True)"
   ]
  },
  {
   "cell_type": "code",
   "execution_count": null,
   "metadata": {},
   "outputs": [],
   "source": [
    "w.seconds(10, control, show=True, real_time=False)"
   ]
  },
  {
   "cell_type": "code",
   "execution_count": null,
   "metadata": {},
   "outputs": [],
   "source": [
    "w.seconds(10, control, show=False)"
   ]
  },
  {
   "cell_type": "code",
   "execution_count": null,
   "metadata": {},
   "outputs": [],
   "source": [
    "r.set_pose(50, 50, 180)"
   ]
  },
  {
   "cell_type": "code",
   "execution_count": null,
   "metadata": {},
   "outputs": [],
   "source": [
    "r.set_color(\"purple\")"
   ]
  },
  {
   "cell_type": "code",
   "execution_count": null,
   "metadata": {},
   "outputs": [],
   "source": [
    "w.update()"
   ]
  },
  {
   "cell_type": "code",
   "execution_count": null,
   "metadata": {},
   "outputs": [],
   "source": [
    "w.take_picture()"
   ]
  },
  {
   "cell_type": "code",
   "execution_count": null,
   "metadata": {},
   "outputs": [],
   "source": []
  }
 ],
 "metadata": {
  "kernelspec": {
   "display_name": "Python 3",
   "language": "python",
   "name": "python3"
  },
  "language_info": {
   "codemirror_mode": {
    "name": "ipython",
    "version": 3
   },
   "file_extension": ".py",
   "mimetype": "text/x-python",
   "name": "python",
   "nbconvert_exporter": "python",
   "pygments_lexer": "ipython3",
   "version": "3.8.5"
  },
  "widgets": {
   "application/vnd.jupyter.widget-state+json": {
    "state": {
     "00d1e5843a514b50ac1e53b79d66a62b": {
      "model_module": "@jupyter-widgets/base",
      "model_module_version": "1.2.0",
      "model_name": "LayoutModel",
      "state": {}
     },
     "01e08b8cbb5d485d8f0eba1f996ff13b": {
      "model_module": "@jupyter-widgets/base",
      "model_module_version": "1.2.0",
      "model_name": "LayoutModel",
      "state": {}
     },
     "02c17d50b9624fa2ae062e19dd1d9378": {
      "model_module": "@jupyter-widgets/controls",
      "model_module_version": "1.5.0",
      "model_name": "HBoxModel",
      "state": {
       "children": [
        "IPY_MODEL_a1648d15042c41fca482e47c9980c7c8",
        "IPY_MODEL_6e218257b3a2462c8b72f560b06d2555",
        "IPY_MODEL_766a32f514954a2d98829998cb3eb992"
       ],
       "layout": "IPY_MODEL_36a1127ae83a41258c70640666690376"
      }
     },
     "04948cd9271a4f8a93d77c121dc8bf38": {
      "model_module": "@jupyter-widgets/base",
      "model_module_version": "1.2.0",
      "model_name": "LayoutModel",
      "state": {}
     },
     "05f23939b4b04bc382a42b5b63791d69": {
      "model_module": "ipylab",
      "model_module_version": "^0.3.0",
      "model_name": "CommandRegistryModel",
      "state": {
       "_command_list": [
        "__internal:context-menu-info",
        "apputils:activate-command-palette",
        "apputils:print",
        "apputils:run-first-enabled",
        "completer:invoke",
        "completer:select",
        "tooltip:dismiss",
        "launcher:create",
        "editmenu:undo",
        "editmenu:redo",
        "editmenu:clear-current",
        "editmenu:clear-all",
        "editmenu:go-to-line",
        "filemenu:close-and-cleanup",
        "filemenu:create-console",
        "filemenu:shutdown",
        "filemenu:logout",
        "kernelmenu:interrupt",
        "kernelmenu:restart",
        "kernelmenu:restart-and-clear",
        "kernelmenu:change",
        "kernelmenu:shutdown",
        "kernelmenu:shutdownAll",
        "runmenu:run",
        "runmenu:run-all",
        "runmenu:restart-and-run-all",
        "viewmenu:line-numbering",
        "viewmenu:match-brackets",
        "viewmenu:word-wrap",
        "tabsmenu:activate-by-id",
        "tabsmenu:activate-previously-used-tab",
        "editmenu:open",
        "filemenu:open",
        "kernelmenu:open",
        "runmenu:open",
        "viewmenu:open",
        "settingsmenu:open",
        "tabsmenu:open",
        "helpmenu:open",
        "mainmenu:open-first",
        "documentsearch:start",
        "documentsearch:startWithReplace",
        "documentsearch:highlightNext",
        "documentsearch:highlightPrevious",
        "docmanager:clone",
        "docmanager:rename",
        "docmanager:delete",
        "docmanager:show-in-file-browser",
        "docmanager:delete-file",
        "docmanager:new-untitled",
        "docmanager:open",
        "docmanager:open-browser-tab",
        "docmanager:reload",
        "docmanager:restore-checkpoint",
        "docmanager:save",
        "docmanager:save-all",
        "docmanager:save-as",
        "docmanager:download",
        "docmanager:toggle-autosave",
        "sidebar:switch",
        "apputils:change-theme",
        "apputils:theme-scrollbars",
        "apputils:incr-font-size",
        "apputils:decr-font-size",
        "statusbar:toggle",
        "rendermime:handle-local-link",
        "application:activate-next-tab",
        "application:activate-previous-tab",
        "application:activate-next-tab-bar",
        "application:activate-previous-tab-bar",
        "application:close",
        "application:close-all",
        "application:close-other-tabs",
        "application:close-right-tabs",
        "application:toggle-left-area",
        "application:toggle-right-area",
        "application:toggle-presentation-mode",
        "application:set-mode",
        "application:toggle-mode",
        "apputils:load-statedb",
        "apputils:reset",
        "apputils:reset-on-load",
        "markdownviewer:open",
        "markdownviewer:edit",
        "settingeditor:open",
        "settingeditor:revert",
        "settingeditor:save",
        "inspector:open",
        "htmlviewer:trust-html",
        "imageviewer:zoom-in",
        "imageviewer:zoom-out",
        "imageviewer:reset-image",
        "imageviewer:rotate-clockwise",
        "imageviewer:rotate-counterclockwise",
        "imageviewer:flip-horizontal",
        "imageviewer:flip-vertical",
        "imageviewer:invert-colors",
        "extensionmanager:toggle",
        "filebrowser:delete",
        "filebrowser:copy",
        "filebrowser:cut",
        "filebrowser:download",
        "filebrowser:duplicate",
        "filebrowser:hide-main",
        "filebrowser:go-to-path",
        "filebrowser:open-path",
        "filebrowser:open",
        "filebrowser:open-browser-tab",
        "filebrowser:copy-download-link",
        "filebrowser:paste",
        "filebrowser:create-new-directory",
        "filebrowser:create-new-file",
        "filebrowser:create-new-markdown-file",
        "filebrowser:rename",
        "filebrowser:copy-path",
        "filebrowser:activate",
        "filebrowser:shutdown",
        "filebrowser:toggle-main",
        "filebrowser:create-main-launcher",
        "filebrowser:toggle-navigate-to-current-directory",
        "filebrowser:toggle-last-modified",
        "filebrowser:share-main",
        "notebook:run-cell-and-select-next",
        "notebook:run-cell",
        "notebook:run-cell-and-insert-below",
        "notebook:run-in-console",
        "notebook:run-all-cells",
        "notebook:run-all-above",
        "notebook:run-all-below",
        "notebook:render-all-markdown",
        "notebook:restart-kernel",
        "notebook:close-and-shutdown",
        "notebook:trust",
        "notebook:export-to-format",
        "notebook:restart-clear-output",
        "notebook:restart-and-run-to-selected",
        "notebook:restart-run-all",
        "notebook:clear-all-cell-outputs",
        "notebook:clear-cell-output",
        "notebook:interrupt-kernel",
        "notebook:change-cell-to-code",
        "notebook:change-cell-to-markdown",
        "notebook:change-cell-to-raw",
        "notebook:cut-cell",
        "notebook:copy-cell",
        "notebook:paste-cell-below",
        "notebook:paste-cell-above",
        "notebook:paste-and-replace-cell",
        "notebook:delete-cell",
        "notebook:split-cell-at-cursor",
        "notebook:merge-cells",
        "notebook:insert-cell-above",
        "notebook:insert-cell-below",
        "notebook:move-cursor-up",
        "notebook:move-cursor-down",
        "notebook:extend-marked-cells-above",
        "notebook:extend-marked-cells-top",
        "notebook:extend-marked-cells-below",
        "notebook:extend-marked-cells-bottom",
        "notebook:select-all",
        "notebook:deselect-all",
        "notebook:move-cell-up",
        "notebook:move-cell-down",
        "notebook:toggle-all-cell-line-numbers",
        "notebook:enter-command-mode",
        "notebook:enter-edit-mode",
        "notebook:undo-cell-action",
        "notebook:redo-cell-action",
        "notebook:change-kernel",
        "notebook:reconnect-to-kernel",
        "notebook:create-output-view",
        "notebook:create-console",
        "notebook:change-cell-to-heading-1",
        "notebook:change-cell-to-heading-2",
        "notebook:change-cell-to-heading-3",
        "notebook:change-cell-to-heading-4",
        "notebook:change-cell-to-heading-5",
        "notebook:change-cell-to-heading-6",
        "notebook:hide-cell-code",
        "notebook:show-cell-code",
        "notebook:hide-all-cell-code",
        "notebook:show-all-cell-code",
        "notebook:hide-cell-outputs",
        "notebook:show-cell-outputs",
        "notebook:hide-all-cell-outputs",
        "notebook:show-all-cell-outputs",
        "notebook:enable-output-scrolling",
        "notebook:disable-output-scrolling",
        "notebook:select-last-run-cell",
        "notebook:replace-selection",
        "notebook:create-new",
        "console:open",
        "console:create",
        "console:clear",
        "console:run-unforced",
        "console:run-forced",
        "console:linebreak",
        "console:replace-selection",
        "console:interrupt-kernel",
        "console:restart-kernel",
        "console:close-and-shutdown",
        "console:inject",
        "console:change-kernel",
        "console:interaction-mode",
        "help:about",
        "help:open",
        "help:launch-classic-notebook",
        "terminal:create-new",
        "terminal:open",
        "terminal:refresh",
        "terminal:increase-font",
        "terminal:decrease-font",
        "terminal:set-theme",
        "completer:invoke-notebook",
        "completer:select-notebook",
        "logconsole:open",
        "logconsole:add-checkpoint",
        "logconsole:clear",
        "logconsole:set-level",
        "tooltip:launch-notebook",
        "fileeditor:change-font-size",
        "fileeditor:toggle-line-numbers",
        "fileeditor:toggle-line-wrap",
        "fileeditor:change-tabs",
        "fileeditor:toggle-match-brackets",
        "fileeditor:toggle-autoclosing-brackets",
        "fileeditor:replace-selection",
        "fileeditor:create-console",
        "fileeditor:run-code",
        "fileeditor:run-all",
        "fileeditor:markdown-preview",
        "fileeditor:create-new",
        "fileeditor:create-new-markdown-file",
        "fileeditor:undo",
        "fileeditor:redo",
        "fileeditor:cut",
        "fileeditor:copy",
        "fileeditor:paste",
        "fileeditor:select-all",
        "completer:invoke-console",
        "completer:select-console",
        "console:toggle-show-all-kernel-activity",
        "tooltip:launch-console",
        "@jupyter-widgets/jupyterlab-manager:saveWidgetState",
        "codemirror:change-theme",
        "codemirror:change-keymap",
        "codemirror:find",
        "codemirror:go-to-line",
        "codemirror:change-mode",
        "completer:invoke-file",
        "completer:select-file",
        "tooltip:launch-file"
       ],
       "_model_module_version": "^0.3.0",
       "_view_module": null,
       "_view_module_version": ""
      }
     },
     "0a195a790a0844cbbce04a1e8ae2c621": {
      "model_module": "@jupyter-widgets/base",
      "model_module_version": "1.2.0",
      "model_name": "LayoutModel",
      "state": {}
     },
     "0c783e4e98a84b20b2f71b79a89206fb": {
      "model_module": "ipylab",
      "model_module_version": "^0.3.0",
      "model_name": "ShellModel",
      "state": {
       "_model_module_version": "^0.3.0",
       "_view_module": null,
       "_view_module_version": "",
       "_widgets": [
        {
         "area": "main",
         "args": {
          "mode": "split-right"
         },
         "id": "id-c419d3d6-e2a6-4a5a-a584-4f06d9a8d7e2",
         "serializedWidget": "IPY_MODEL_82a884dca7ac40caa59f3fb9c6a727a6"
        }
       ]
      }
     },
     "0dc874da3b574d93936b14da25f688ad": {
      "model_module": "@jupyter-widgets/controls",
      "model_module_version": "1.5.0",
      "model_name": "ProgressStyleModel",
      "state": {
       "description_width": ""
      }
     },
     "13aa6d501f48455f9fbb841c263af239": {
      "model_module": "@jupyter-widgets/controls",
      "model_module_version": "1.5.0",
      "model_name": "ProgressStyleModel",
      "state": {
       "description_width": ""
      }
     },
     "17541d0237f0437aaf8e69074e902629": {
      "model_module": "ipylab",
      "model_module_version": "^0.3.0",
      "model_name": "JupyterFrontEndModel",
      "state": {
       "_model_module_version": "^0.3.0",
       "_view_module": null,
       "_view_module_version": "",
       "commands": "IPY_MODEL_a0805b66c0054661b5c128355f6d670e",
       "shell": "IPY_MODEL_aceff3ed152546e3acbe2d041b498571",
       "version": "2.2.9"
      }
     },
     "17aa8e8d38ed4a09a4fba9d82a49c98a": {
      "model_module": "@jupyter-widgets/base",
      "model_module_version": "1.2.0",
      "model_name": "LayoutModel",
      "state": {}
     },
     "1894c4f791594383b0b8220f67c6d9a3": {
      "model_module": "@jupyter-widgets/base",
      "model_module_version": "1.2.0",
      "model_name": "LayoutModel",
      "state": {
       "width": "20px"
      }
     },
     "1c1eb3e769054af6b700877fc52e8338": {
      "model_module": "@jupyter-widgets/controls",
      "model_module_version": "1.5.0",
      "model_name": "ProgressStyleModel",
      "state": {
       "description_width": ""
      }
     },
     "1c60bde71c494d1db3a572d022d80ddb": {
      "model_module": "@jupyter-widgets/controls",
      "model_module_version": "1.5.0",
      "model_name": "ProgressStyleModel",
      "state": {
       "description_width": ""
      }
     },
     "1d0962791e4340bf95bb4e7f39aa633c": {
      "buffers": [
       {
        "data": "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",
        "encoding": "base64",
        "path": [
         "x",
         "value"
        ]
       },
       {
        "data": "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",
        "encoding": "base64",
        "path": [
         "y",
         "value"
        ]
       }
      ],
      "model_module": "bqplot",
      "model_module_version": "^0.5.18",
      "model_name": "LinesModel",
      "state": {
       "_model_module_version": "^0.5.18",
       "_view_module_version": "^0.5.18",
       "colors": [
        "red"
       ],
       "fill_colors": [],
       "labels": [
        "C1"
       ],
       "scales": {
        "x": "IPY_MODEL_c6a2b5131dee4fc7ab9010f405d904ce",
        "y": "IPY_MODEL_461a9b2b02434db9bb0fdca846480ea3"
       },
       "stroke_width": 3,
       "x": {
        "dtype": "float64",
        "shape": [
         627
        ],
        "type": null
       },
       "y": {
        "dtype": "float64",
        "shape": [
         627
        ],
        "type": null
       }
      }
     },
     "1e342c77d0a447a7aad0da0ca40c82af": {
      "model_module": "@jupyter-widgets/controls",
      "model_module_version": "1.5.0",
      "model_name": "FloatProgressModel",
      "state": {
       "bar_style": "success",
       "layout": "IPY_MODEL_04948cd9271a4f8a93d77c121dc8bf38",
       "max": 1,
       "style": "IPY_MODEL_13aa6d501f48455f9fbb841c263af239",
       "value": 1
      }
     },
     "1f75a03b7170499684a9a93a66c30795": {
      "model_module": "@jupyter-widgets/controls",
      "model_module_version": "1.5.0",
      "model_name": "DescriptionStyleModel",
      "state": {
       "description_width": ""
      }
     },
     "206187ade93447048716dfd596d3e72b": {
      "model_module": "@jupyter-widgets/base",
      "model_module_version": "1.2.0",
      "model_name": "LayoutModel",
      "state": {}
     },
     "22e3231ca9194ff7a80fd0704d549a11": {
      "model_module": "@jupyter-widgets/controls",
      "model_module_version": "1.5.0",
      "model_name": "DescriptionStyleModel",
      "state": {
       "description_width": ""
      }
     },
     "2802f37f5e2d4c248cd2634d4a4f94f8": {
      "model_module": "@jupyter-widgets/controls",
      "model_module_version": "1.5.0",
      "model_name": "BoxModel",
      "state": {
       "children": [
        "IPY_MODEL_4aadd383930e4c5e9d60bbb58cd1358c"
       ],
       "layout": "IPY_MODEL_6fd5d802e21f489892f8dc72628d44cd"
      }
     },
     "28371b0930174d1ab797de6d94b879eb": {
      "model_module": "@jupyter-widgets/controls",
      "model_module_version": "1.5.0",
      "model_name": "DescriptionStyleModel",
      "state": {
       "description_width": ""
      }
     },
     "293ded7443214851bb1ecfb6831e17b6": {
      "model_module": "@jupyter-widgets/base",
      "model_module_version": "1.2.0",
      "model_name": "LayoutModel",
      "state": {
       "height": "auto",
       "width": "100%"
      }
     },
     "2987f42ef8544d299895df5b03f844d5": {
      "model_module": "@jupyter-widgets/base",
      "model_module_version": "1.2.0",
      "model_name": "LayoutModel",
      "state": {}
     },
     "308400c5e16148b1996b6725599537bf": {
      "model_module": "@jupyter-widgets/base",
      "model_module_version": "1.2.0",
      "model_name": "LayoutModel",
      "state": {}
     },
     "36a1127ae83a41258c70640666690376": {
      "model_module": "@jupyter-widgets/base",
      "model_module_version": "1.2.0",
      "model_name": "LayoutModel",
      "state": {}
     },
     "3a14b87af88e4c25830f09c6fd0c3f31": {
      "model_module": "bqplot",
      "model_module_version": "^0.5.18",
      "model_name": "LinearScaleModel",
      "state": {
       "_model_module_version": "^0.5.18",
       "_view_module_version": "^0.5.18",
       "allow_padding": false,
       "max": 1,
       "min": 0,
       "stabilized": false
      }
     },
     "419e37937b1448b0988c8a17b65317db": {
      "model_module": "ipylab",
      "model_module_version": "^0.3.0",
      "model_name": "TitleModel",
      "state": {
       "_model_module_version": "^0.3.0",
       "_view_module": null,
       "_view_module_version": "",
       "closable": true,
       "icon_class": "",
       "label": "Jyrobot Watcher"
      }
     },
     "437672d7075449a893729529b999a2e7": {
      "model_module": "@jupyter-widgets/controls",
      "model_module_version": "1.5.0",
      "model_name": "BoxModel",
      "state": {
       "children": [
        "IPY_MODEL_6b5d2014b1324a559fabb5ee0a8cdeaa"
       ],
       "layout": "IPY_MODEL_8d1ea6b17f9543d9832450a9376ea67b"
      }
     },
     "461a9b2b02434db9bb0fdca846480ea3": {
      "model_module": "bqplot",
      "model_module_version": "^0.5.18",
      "model_name": "LinearScaleModel",
      "state": {
       "_model_module_version": "^0.5.18",
       "_view_module_version": "^0.5.18",
       "stabilized": false
      }
     },
     "491a0a3b14194bcca0d4f75095ea5a7c": {
      "model_module": "@jupyter-widgets/base",
      "model_module_version": "1.2.0",
      "model_name": "LayoutModel",
      "state": {}
     },
     "49ce29c82c3f497e90bbe3e1d11a2c20": {
      "model_module": "@jupyter-widgets/base",
      "model_module_version": "1.2.0",
      "model_name": "LayoutModel",
      "state": {}
     },
     "4aadd383930e4c5e9d60bbb58cd1358c": {
      "buffers": [
       {
        "data": "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",
        "encoding": "base64",
        "path": [
         "value"
        ]
       }
      ],
      "model_module": "@jupyter-widgets/controls",
      "model_module_version": "1.5.0",
      "model_name": "ImageModel",
      "state": {
       "layout": "IPY_MODEL_9e0bc9cd92194c158f9ac10015f8000e"
      }
     },
     "4c115606c7d64c2cb76a7ff1c01bdf0b": {
      "model_module": "@jupyter-widgets/controls",
      "model_module_version": "1.5.0",
      "model_name": "DescriptionStyleModel",
      "state": {
       "description_width": ""
      }
     },
     "4f2794d266e04d2aad789bd6071d4ed4": {
      "model_module": "@jupyter-widgets/base",
      "model_module_version": "1.2.0",
      "model_name": "LayoutModel",
      "state": {}
     },
     "502dd8760eb94510b5b94dc306c33c74": {
      "model_module": "ipylab",
      "model_module_version": "^0.3.0",
      "model_name": "CommandRegistryModel",
      "state": {
       "_command_list": [
        "__internal:context-menu-info",
        "apputils:activate-command-palette",
        "apputils:print",
        "apputils:run-first-enabled",
        "completer:invoke",
        "completer:select",
        "tooltip:dismiss",
        "launcher:create",
        "editmenu:undo",
        "editmenu:redo",
        "editmenu:clear-current",
        "editmenu:clear-all",
        "editmenu:go-to-line",
        "filemenu:close-and-cleanup",
        "filemenu:create-console",
        "filemenu:shutdown",
        "filemenu:logout",
        "kernelmenu:interrupt",
        "kernelmenu:restart",
        "kernelmenu:restart-and-clear",
        "kernelmenu:change",
        "kernelmenu:shutdown",
        "kernelmenu:shutdownAll",
        "runmenu:run",
        "runmenu:run-all",
        "runmenu:restart-and-run-all",
        "viewmenu:line-numbering",
        "viewmenu:match-brackets",
        "viewmenu:word-wrap",
        "tabsmenu:activate-by-id",
        "tabsmenu:activate-previously-used-tab",
        "editmenu:open",
        "filemenu:open",
        "kernelmenu:open",
        "runmenu:open",
        "viewmenu:open",
        "settingsmenu:open",
        "tabsmenu:open",
        "helpmenu:open",
        "mainmenu:open-first",
        "documentsearch:start",
        "documentsearch:startWithReplace",
        "documentsearch:highlightNext",
        "documentsearch:highlightPrevious",
        "docmanager:clone",
        "docmanager:rename",
        "docmanager:delete",
        "docmanager:show-in-file-browser",
        "docmanager:delete-file",
        "docmanager:new-untitled",
        "docmanager:open",
        "docmanager:open-browser-tab",
        "docmanager:reload",
        "docmanager:restore-checkpoint",
        "docmanager:save",
        "docmanager:save-all",
        "docmanager:save-as",
        "docmanager:download",
        "docmanager:toggle-autosave",
        "sidebar:switch",
        "apputils:change-theme",
        "apputils:theme-scrollbars",
        "apputils:incr-font-size",
        "apputils:decr-font-size",
        "statusbar:toggle",
        "rendermime:handle-local-link",
        "application:activate-next-tab",
        "application:activate-previous-tab",
        "application:activate-next-tab-bar",
        "application:activate-previous-tab-bar",
        "application:close",
        "application:close-all",
        "application:close-other-tabs",
        "application:close-right-tabs",
        "application:toggle-left-area",
        "application:toggle-right-area",
        "application:toggle-presentation-mode",
        "application:set-mode",
        "application:toggle-mode",
        "apputils:load-statedb",
        "apputils:reset",
        "apputils:reset-on-load",
        "markdownviewer:open",
        "markdownviewer:edit",
        "settingeditor:open",
        "settingeditor:revert",
        "settingeditor:save",
        "inspector:open",
        "htmlviewer:trust-html",
        "imageviewer:zoom-in",
        "imageviewer:zoom-out",
        "imageviewer:reset-image",
        "imageviewer:rotate-clockwise",
        "imageviewer:rotate-counterclockwise",
        "imageviewer:flip-horizontal",
        "imageviewer:flip-vertical",
        "imageviewer:invert-colors",
        "extensionmanager:toggle",
        "filebrowser:delete",
        "filebrowser:copy",
        "filebrowser:cut",
        "filebrowser:download",
        "filebrowser:duplicate",
        "filebrowser:hide-main",
        "filebrowser:go-to-path",
        "filebrowser:open-path",
        "filebrowser:open",
        "filebrowser:open-browser-tab",
        "filebrowser:copy-download-link",
        "filebrowser:paste",
        "filebrowser:create-new-directory",
        "filebrowser:create-new-file",
        "filebrowser:create-new-markdown-file",
        "filebrowser:rename",
        "filebrowser:copy-path",
        "filebrowser:activate",
        "filebrowser:shutdown",
        "filebrowser:toggle-main",
        "filebrowser:create-main-launcher",
        "filebrowser:toggle-navigate-to-current-directory",
        "filebrowser:toggle-last-modified",
        "filebrowser:share-main",
        "notebook:run-cell-and-select-next",
        "notebook:run-cell",
        "notebook:run-cell-and-insert-below",
        "notebook:run-in-console",
        "notebook:run-all-cells",
        "notebook:run-all-above",
        "notebook:run-all-below",
        "notebook:render-all-markdown",
        "notebook:restart-kernel",
        "notebook:close-and-shutdown",
        "notebook:trust",
        "notebook:export-to-format",
        "notebook:restart-clear-output",
        "notebook:restart-and-run-to-selected",
        "notebook:restart-run-all",
        "notebook:clear-all-cell-outputs",
        "notebook:clear-cell-output",
        "notebook:interrupt-kernel",
        "notebook:change-cell-to-code",
        "notebook:change-cell-to-markdown",
        "notebook:change-cell-to-raw",
        "notebook:cut-cell",
        "notebook:copy-cell",
        "notebook:paste-cell-below",
        "notebook:paste-cell-above",
        "notebook:paste-and-replace-cell",
        "notebook:delete-cell",
        "notebook:split-cell-at-cursor",
        "notebook:merge-cells",
        "notebook:insert-cell-above",
        "notebook:insert-cell-below",
        "notebook:move-cursor-up",
        "notebook:move-cursor-down",
        "notebook:extend-marked-cells-above",
        "notebook:extend-marked-cells-top",
        "notebook:extend-marked-cells-below",
        "notebook:extend-marked-cells-bottom",
        "notebook:select-all",
        "notebook:deselect-all",
        "notebook:move-cell-up",
        "notebook:move-cell-down",
        "notebook:toggle-all-cell-line-numbers",
        "notebook:enter-command-mode",
        "notebook:enter-edit-mode",
        "notebook:undo-cell-action",
        "notebook:redo-cell-action",
        "notebook:change-kernel",
        "notebook:reconnect-to-kernel",
        "notebook:create-output-view",
        "notebook:create-console",
        "notebook:change-cell-to-heading-1",
        "notebook:change-cell-to-heading-2",
        "notebook:change-cell-to-heading-3",
        "notebook:change-cell-to-heading-4",
        "notebook:change-cell-to-heading-5",
        "notebook:change-cell-to-heading-6",
        "notebook:hide-cell-code",
        "notebook:show-cell-code",
        "notebook:hide-all-cell-code",
        "notebook:show-all-cell-code",
        "notebook:hide-cell-outputs",
        "notebook:show-cell-outputs",
        "notebook:hide-all-cell-outputs",
        "notebook:show-all-cell-outputs",
        "notebook:enable-output-scrolling",
        "notebook:disable-output-scrolling",
        "notebook:select-last-run-cell",
        "notebook:replace-selection",
        "notebook:create-new",
        "console:open",
        "console:create",
        "console:clear",
        "console:run-unforced",
        "console:run-forced",
        "console:linebreak",
        "console:replace-selection",
        "console:interrupt-kernel",
        "console:restart-kernel",
        "console:close-and-shutdown",
        "console:inject",
        "console:change-kernel",
        "console:interaction-mode",
        "help:about",
        "help:open",
        "help:launch-classic-notebook",
        "terminal:create-new",
        "terminal:open",
        "terminal:refresh",
        "terminal:increase-font",
        "terminal:decrease-font",
        "terminal:set-theme",
        "completer:invoke-notebook",
        "completer:select-notebook",
        "logconsole:open",
        "logconsole:add-checkpoint",
        "logconsole:clear",
        "logconsole:set-level",
        "tooltip:launch-notebook",
        "fileeditor:change-font-size",
        "fileeditor:toggle-line-numbers",
        "fileeditor:toggle-line-wrap",
        "fileeditor:change-tabs",
        "fileeditor:toggle-match-brackets",
        "fileeditor:toggle-autoclosing-brackets",
        "fileeditor:replace-selection",
        "fileeditor:create-console",
        "fileeditor:run-code",
        "fileeditor:run-all",
        "fileeditor:markdown-preview",
        "fileeditor:create-new",
        "fileeditor:create-new-markdown-file",
        "fileeditor:undo",
        "fileeditor:redo",
        "fileeditor:cut",
        "fileeditor:copy",
        "fileeditor:paste",
        "fileeditor:select-all",
        "completer:invoke-console",
        "completer:select-console",
        "console:toggle-show-all-kernel-activity",
        "tooltip:launch-console",
        "@jupyter-widgets/jupyterlab-manager:saveWidgetState",
        "codemirror:change-theme",
        "codemirror:change-keymap",
        "codemirror:find",
        "codemirror:go-to-line",
        "codemirror:change-mode",
        "completer:invoke-file",
        "completer:select-file",
        "tooltip:launch-file"
       ],
       "_model_module_version": "^0.3.0",
       "_view_module": null,
       "_view_module_version": ""
      }
     },
     "51f1d47ae0184be4a08673de7ddff743": {
      "model_module": "bqplot",
      "model_module_version": "^0.5.18",
      "model_name": "FigureModel",
      "state": {
       "_model_module_version": "^0.5.18",
       "_view_module_version": "^0.5.18",
       "axes": [
        "IPY_MODEL_6b0120488f504761a42728c24a02b26b",
        "IPY_MODEL_6222a39a1bc04218982eec4735492661"
       ],
       "layout": "IPY_MODEL_491a0a3b14194bcca0d4f75095ea5a7c",
       "marks": [
        "IPY_MODEL_1d0962791e4340bf95bb4e7f39aa633c"
       ],
       "scale_x": "IPY_MODEL_3a14b87af88e4c25830f09c6fd0c3f31",
       "scale_y": "IPY_MODEL_dd1f38c68a5244c89100b13f0f9f5801",
       "title": "x vs. y"
      }
     },
     "538f8f23fe2346059018385cc30d2b54": {
      "model_module": "@jupyter-widgets/controls",
      "model_module_version": "1.5.0",
      "model_name": "BoxModel",
      "state": {
       "children": [
        "IPY_MODEL_6b5d2014b1324a559fabb5ee0a8cdeaa"
       ],
       "layout": "IPY_MODEL_293ded7443214851bb1ecfb6831e17b6"
      }
     },
     "59fde33b56964c37932b12085e87646b": {
      "model_module": "@jupyter-widgets/controls",
      "model_module_version": "1.5.0",
      "model_name": "HTMLModel",
      "state": {
       "layout": "IPY_MODEL_ff043f953299409986d012b8be3054af",
       "style": "IPY_MODEL_d253cba6520f40ccb52d55a60fb8c408",
       "value": " 50/50 [00:28&lt;00:00,  1.73it/s]"
      }
     },
     "6222a39a1bc04218982eec4735492661": {
      "model_module": "bqplot",
      "model_module_version": "^0.5.18",
      "model_name": "AxisModel",
      "state": {
       "_model_module_version": "^0.5.18",
       "_view_module_version": "^0.5.18",
       "label": "y",
       "orientation": "vertical",
       "scale": "IPY_MODEL_461a9b2b02434db9bb0fdca846480ea3",
       "side": "left",
       "tick_values": null
      }
     },
     "635af5b1df084cba845211fd4bd0b553": {
      "model_module": "@jupyter-widgets/controls",
      "model_module_version": "1.5.0",
      "model_name": "FloatProgressModel",
      "state": {
       "bar_style": "success",
       "layout": "IPY_MODEL_6b1ee63944674343a87a2d5ac1043f74",
       "max": 2000,
       "style": "IPY_MODEL_1c60bde71c494d1db3a572d022d80ddb",
       "value": 2000
      }
     },
     "636c6559089d4bbeb0bdc177802af426": {
      "model_module": "@jupyter-widgets/controls",
      "model_module_version": "1.5.0",
      "model_name": "HTMLModel",
      "state": {
       "layout": "IPY_MODEL_49ce29c82c3f497e90bbe3e1d11a2c20",
       "style": "IPY_MODEL_ca49a34f3cfb490a876220c761b6f01f",
       "value": "100%"
      }
     },
     "63cd813834ad49008f09158258d34e65": {
      "model_module": "@jupyter-widgets/controls",
      "model_module_version": "1.5.0",
      "model_name": "DescriptionStyleModel",
      "state": {
       "description_width": ""
      }
     },
     "673b0dc1f8384618aaa04f8fb9ebf9ca": {
      "model_module": "@jupyter-widgets/base",
      "model_module_version": "1.2.0",
      "model_name": "LayoutModel",
      "state": {}
     },
     "6b0120488f504761a42728c24a02b26b": {
      "model_module": "bqplot",
      "model_module_version": "^0.5.18",
      "model_name": "AxisModel",
      "state": {
       "_model_module_version": "^0.5.18",
       "_view_module_version": "^0.5.18",
       "label": "x",
       "scale": "IPY_MODEL_c6a2b5131dee4fc7ab9010f405d904ce",
       "side": "bottom",
       "tick_values": null
      }
     },
     "6b1ee63944674343a87a2d5ac1043f74": {
      "model_module": "@jupyter-widgets/base",
      "model_module_version": "1.2.0",
      "model_name": "LayoutModel",
      "state": {}
     },
     "6b5d2014b1324a559fabb5ee0a8cdeaa": {
      "buffers": [
       {
        "data": "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",
        "encoding": "base64",
        "path": [
         "value"
        ]
       }
      ],
      "model_module": "@jupyter-widgets/controls",
      "model_module_version": "1.5.0",
      "model_name": "ImageModel",
      "state": {
       "layout": "IPY_MODEL_8dd46ffd0cb349ee85a6ca3e65677783"
      }
     },
     "6c5ad0f508194fbbbe309604f7d9b436": {
      "model_module": "ipylab",
      "model_module_version": "^0.3.0",
      "model_name": "JupyterFrontEndModel",
      "state": {
       "_model_module_version": "^0.3.0",
       "_view_module": null,
       "_view_module_version": "",
       "commands": "IPY_MODEL_502dd8760eb94510b5b94dc306c33c74",
       "shell": "IPY_MODEL_0c783e4e98a84b20b2f71b79a89206fb",
       "version": "2.2.9"
      }
     },
     "6c6de95604fb48e6a6c10e34d3f75c05": {
      "model_module": "@jupyter-widgets/base",
      "model_module_version": "1.2.0",
      "model_name": "LayoutModel",
      "state": {}
     },
     "6e218257b3a2462c8b72f560b06d2555": {
      "model_module": "@jupyter-widgets/controls",
      "model_module_version": "1.5.0",
      "model_name": "FloatProgressModel",
      "state": {
       "bar_style": "info",
       "layout": "IPY_MODEL_1894c4f791594383b0b8220f67c6d9a3",
       "max": 1,
       "style": "IPY_MODEL_1c1eb3e769054af6b700877fc52e8338",
       "value": 1
      }
     },
     "6fd5d802e21f489892f8dc72628d44cd": {
      "model_module": "@jupyter-widgets/base",
      "model_module_version": "1.2.0",
      "model_name": "LayoutModel",
      "state": {
       "height": "auto",
       "width": "100%"
      }
     },
     "766a32f514954a2d98829998cb3eb992": {
      "model_module": "@jupyter-widgets/controls",
      "model_module_version": "1.5.0",
      "model_name": "HTMLModel",
      "state": {
       "layout": "IPY_MODEL_673b0dc1f8384618aaa04f8fb9ebf9ca",
       "style": "IPY_MODEL_63cd813834ad49008f09158258d34e65",
       "value": "526it [00:53,  9.89it/s]"
      }
     },
     "780b6fff831545fea1a98eb26e40992d": {
      "model_module": "@jupyter-widgets/controls",
      "model_module_version": "1.5.0",
      "model_name": "HTMLModel",
      "state": {
       "layout": "IPY_MODEL_b4e9221ed38f4a63925ae8ae68949f42",
       "style": "IPY_MODEL_de59a15913d547c2b649d92f9dc7c06f",
       "value": " 2000/2000 [00:17&lt;00:00, 111.64it/s]"
      }
     },
     "7842f6ea5aa2446d9a2acb7b1841bbd0": {
      "model_module": "@jupyter-widgets/controls",
      "model_module_version": "1.5.0",
      "model_name": "FloatProgressModel",
      "state": {
       "bar_style": "success",
       "layout": "IPY_MODEL_b1ec37098b474b8988df5ee826f1da94",
       "style": "IPY_MODEL_a70b96633d104ee3b959ed98313ae381",
       "value": 100
      }
     },
     "79e0957cf55d4e549fe89f1f93900973": {
      "model_module": "ipylab",
      "model_module_version": "^0.3.0",
      "model_name": "PanelModel",
      "state": {
       "_model_module_version": "^0.3.0",
       "children": [
        "IPY_MODEL_51f1d47ae0184be4a08673de7ddff743"
       ],
       "layout": "IPY_MODEL_b6ae6783f3f2443481d92863ab2c591f",
       "title": "IPY_MODEL_419e37937b1448b0988c8a17b65317db"
      }
     },
     "82a884dca7ac40caa59f3fb9c6a727a6": {
      "model_module": "ipylab",
      "model_module_version": "^0.3.0",
      "model_name": "PanelModel",
      "state": {
       "_model_module_version": "^0.3.0",
       "children": [
        "IPY_MODEL_538f8f23fe2346059018385cc30d2b54"
       ],
       "layout": "IPY_MODEL_a79f793dc78742c381167445122a0c48",
       "title": "IPY_MODEL_d7ce64696e324a928265a910fe2e7fcc"
      }
     },
     "85a7eb8274704afea1098d1eff08303e": {
      "model_module": "@jupyter-widgets/controls",
      "model_module_version": "1.5.0",
      "model_name": "HTMLModel",
      "state": {
       "layout": "IPY_MODEL_308400c5e16148b1996b6725599537bf",
       "style": "IPY_MODEL_d187355df9884f7da566b011e3b38274",
       "value": " 1/1 [00:00&lt;00:00,  1.59it/s]"
      }
     },
     "8d1ea6b17f9543d9832450a9376ea67b": {
      "model_module": "@jupyter-widgets/base",
      "model_module_version": "1.2.0",
      "model_name": "LayoutModel",
      "state": {
       "max_width": "600px"
      }
     },
     "8dd46ffd0cb349ee85a6ca3e65677783": {
      "model_module": "@jupyter-widgets/base",
      "model_module_version": "1.2.0",
      "model_name": "LayoutModel",
      "state": {
       "margin": "auto"
      }
     },
     "953ef63de9ae4f679be2da748ddb12ae": {
      "model_module": "ipylab",
      "model_module_version": "^0.3.0",
      "model_name": "TitleModel",
      "state": {
       "_model_module_version": "^0.3.0",
       "_view_module": null,
       "_view_module_version": "",
       "closable": true,
       "icon_class": "",
       "label": "Jyrobot Simulator"
      }
     },
     "9b0a704cc13d442083570477e6b1082e": {
      "model_module": "@jupyter-widgets/controls",
      "model_module_version": "1.5.0",
      "model_name": "BoxModel",
      "state": {
       "children": [
        "IPY_MODEL_4aadd383930e4c5e9d60bbb58cd1358c"
       ],
       "layout": "IPY_MODEL_a87dfdaed67843a38793803054a7a9ee"
      }
     },
     "9e0bc9cd92194c158f9ac10015f8000e": {
      "model_module": "@jupyter-widgets/base",
      "model_module_version": "1.2.0",
      "model_name": "LayoutModel",
      "state": {
       "margin": "auto"
      }
     },
     "a00c211736694bf081c095784e54f858": {
      "model_module": "@jupyter-widgets/controls",
      "model_module_version": "1.5.0",
      "model_name": "HBoxModel",
      "state": {
       "children": [
        "IPY_MODEL_f38fe64b455942b3899fcf7205ce6bc8",
        "IPY_MODEL_1e342c77d0a447a7aad0da0ca40c82af",
        "IPY_MODEL_85a7eb8274704afea1098d1eff08303e"
       ],
       "layout": "IPY_MODEL_17aa8e8d38ed4a09a4fba9d82a49c98a"
      }
     },
     "a0805b66c0054661b5c128355f6d670e": {
      "model_module": "ipylab",
      "model_module_version": "^0.3.0",
      "model_name": "CommandRegistryModel",
      "state": {
       "_command_list": [
        "__internal:context-menu-info",
        "apputils:activate-command-palette",
        "apputils:print",
        "apputils:run-first-enabled",
        "completer:invoke",
        "completer:select",
        "tooltip:dismiss",
        "launcher:create",
        "editmenu:undo",
        "editmenu:redo",
        "editmenu:clear-current",
        "editmenu:clear-all",
        "editmenu:go-to-line",
        "filemenu:close-and-cleanup",
        "filemenu:create-console",
        "filemenu:shutdown",
        "filemenu:logout",
        "kernelmenu:interrupt",
        "kernelmenu:restart",
        "kernelmenu:restart-and-clear",
        "kernelmenu:change",
        "kernelmenu:shutdown",
        "kernelmenu:shutdownAll",
        "runmenu:run",
        "runmenu:run-all",
        "runmenu:restart-and-run-all",
        "viewmenu:line-numbering",
        "viewmenu:match-brackets",
        "viewmenu:word-wrap",
        "tabsmenu:activate-by-id",
        "tabsmenu:activate-previously-used-tab",
        "editmenu:open",
        "filemenu:open",
        "kernelmenu:open",
        "runmenu:open",
        "viewmenu:open",
        "settingsmenu:open",
        "tabsmenu:open",
        "helpmenu:open",
        "mainmenu:open-first",
        "documentsearch:start",
        "documentsearch:startWithReplace",
        "documentsearch:highlightNext",
        "documentsearch:highlightPrevious",
        "docmanager:clone",
        "docmanager:rename",
        "docmanager:delete",
        "docmanager:show-in-file-browser",
        "docmanager:delete-file",
        "docmanager:new-untitled",
        "docmanager:open",
        "docmanager:open-browser-tab",
        "docmanager:reload",
        "docmanager:restore-checkpoint",
        "docmanager:save",
        "docmanager:save-all",
        "docmanager:save-as",
        "docmanager:download",
        "docmanager:toggle-autosave",
        "sidebar:switch",
        "apputils:change-theme",
        "apputils:theme-scrollbars",
        "apputils:incr-font-size",
        "apputils:decr-font-size",
        "statusbar:toggle",
        "rendermime:handle-local-link",
        "application:activate-next-tab",
        "application:activate-previous-tab",
        "application:activate-next-tab-bar",
        "application:activate-previous-tab-bar",
        "application:close",
        "application:close-all",
        "application:close-other-tabs",
        "application:close-right-tabs",
        "application:toggle-left-area",
        "application:toggle-right-area",
        "application:toggle-presentation-mode",
        "application:set-mode",
        "application:toggle-mode",
        "apputils:load-statedb",
        "apputils:reset",
        "apputils:reset-on-load",
        "markdownviewer:open",
        "markdownviewer:edit",
        "settingeditor:open",
        "settingeditor:revert",
        "settingeditor:save",
        "inspector:open",
        "htmlviewer:trust-html",
        "imageviewer:zoom-in",
        "imageviewer:zoom-out",
        "imageviewer:reset-image",
        "imageviewer:rotate-clockwise",
        "imageviewer:rotate-counterclockwise",
        "imageviewer:flip-horizontal",
        "imageviewer:flip-vertical",
        "imageviewer:invert-colors",
        "extensionmanager:toggle",
        "filebrowser:delete",
        "filebrowser:copy",
        "filebrowser:cut",
        "filebrowser:download",
        "filebrowser:duplicate",
        "filebrowser:hide-main",
        "filebrowser:go-to-path",
        "filebrowser:open-path",
        "filebrowser:open",
        "filebrowser:open-browser-tab",
        "filebrowser:copy-download-link",
        "filebrowser:paste",
        "filebrowser:create-new-directory",
        "filebrowser:create-new-file",
        "filebrowser:create-new-markdown-file",
        "filebrowser:rename",
        "filebrowser:copy-path",
        "filebrowser:activate",
        "filebrowser:shutdown",
        "filebrowser:toggle-main",
        "filebrowser:create-main-launcher",
        "filebrowser:toggle-navigate-to-current-directory",
        "filebrowser:toggle-last-modified",
        "filebrowser:share-main",
        "notebook:run-cell-and-select-next",
        "notebook:run-cell",
        "notebook:run-cell-and-insert-below",
        "notebook:run-in-console",
        "notebook:run-all-cells",
        "notebook:run-all-above",
        "notebook:run-all-below",
        "notebook:render-all-markdown",
        "notebook:restart-kernel",
        "notebook:close-and-shutdown",
        "notebook:trust",
        "notebook:export-to-format",
        "notebook:restart-clear-output",
        "notebook:restart-and-run-to-selected",
        "notebook:restart-run-all",
        "notebook:clear-all-cell-outputs",
        "notebook:clear-cell-output",
        "notebook:interrupt-kernel",
        "notebook:change-cell-to-code",
        "notebook:change-cell-to-markdown",
        "notebook:change-cell-to-raw",
        "notebook:cut-cell",
        "notebook:copy-cell",
        "notebook:paste-cell-below",
        "notebook:paste-cell-above",
        "notebook:paste-and-replace-cell",
        "notebook:delete-cell",
        "notebook:split-cell-at-cursor",
        "notebook:merge-cells",
        "notebook:insert-cell-above",
        "notebook:insert-cell-below",
        "notebook:move-cursor-up",
        "notebook:move-cursor-down",
        "notebook:extend-marked-cells-above",
        "notebook:extend-marked-cells-top",
        "notebook:extend-marked-cells-below",
        "notebook:extend-marked-cells-bottom",
        "notebook:select-all",
        "notebook:deselect-all",
        "notebook:move-cell-up",
        "notebook:move-cell-down",
        "notebook:toggle-all-cell-line-numbers",
        "notebook:enter-command-mode",
        "notebook:enter-edit-mode",
        "notebook:undo-cell-action",
        "notebook:redo-cell-action",
        "notebook:change-kernel",
        "notebook:reconnect-to-kernel",
        "notebook:create-output-view",
        "notebook:create-console",
        "notebook:change-cell-to-heading-1",
        "notebook:change-cell-to-heading-2",
        "notebook:change-cell-to-heading-3",
        "notebook:change-cell-to-heading-4",
        "notebook:change-cell-to-heading-5",
        "notebook:change-cell-to-heading-6",
        "notebook:hide-cell-code",
        "notebook:show-cell-code",
        "notebook:hide-all-cell-code",
        "notebook:show-all-cell-code",
        "notebook:hide-cell-outputs",
        "notebook:show-cell-outputs",
        "notebook:hide-all-cell-outputs",
        "notebook:show-all-cell-outputs",
        "notebook:enable-output-scrolling",
        "notebook:disable-output-scrolling",
        "notebook:select-last-run-cell",
        "notebook:replace-selection",
        "notebook:create-new",
        "console:open",
        "console:create",
        "console:clear",
        "console:run-unforced",
        "console:run-forced",
        "console:linebreak",
        "console:replace-selection",
        "console:interrupt-kernel",
        "console:restart-kernel",
        "console:close-and-shutdown",
        "console:inject",
        "console:change-kernel",
        "console:interaction-mode",
        "help:about",
        "help:open",
        "help:launch-classic-notebook",
        "terminal:create-new",
        "terminal:open",
        "terminal:refresh",
        "terminal:increase-font",
        "terminal:decrease-font",
        "terminal:set-theme",
        "completer:invoke-notebook",
        "completer:select-notebook",
        "logconsole:open",
        "logconsole:add-checkpoint",
        "logconsole:clear",
        "logconsole:set-level",
        "tooltip:launch-notebook",
        "fileeditor:change-font-size",
        "fileeditor:toggle-line-numbers",
        "fileeditor:toggle-line-wrap",
        "fileeditor:change-tabs",
        "fileeditor:toggle-match-brackets",
        "fileeditor:toggle-autoclosing-brackets",
        "fileeditor:replace-selection",
        "fileeditor:create-console",
        "fileeditor:run-code",
        "fileeditor:run-all",
        "fileeditor:markdown-preview",
        "fileeditor:create-new",
        "fileeditor:create-new-markdown-file",
        "fileeditor:undo",
        "fileeditor:redo",
        "fileeditor:cut",
        "fileeditor:copy",
        "fileeditor:paste",
        "fileeditor:select-all",
        "completer:invoke-console",
        "completer:select-console",
        "console:toggle-show-all-kernel-activity",
        "tooltip:launch-console",
        "@jupyter-widgets/jupyterlab-manager:saveWidgetState",
        "codemirror:change-theme",
        "codemirror:change-keymap",
        "codemirror:find",
        "codemirror:go-to-line",
        "codemirror:change-mode",
        "completer:invoke-file",
        "completer:select-file",
        "tooltip:launch-file"
       ],
       "_model_module_version": "^0.3.0",
       "_view_module": null,
       "_view_module_version": ""
      }
     },
     "a1648d15042c41fca482e47c9980c7c8": {
      "model_module": "@jupyter-widgets/controls",
      "model_module_version": "1.5.0",
      "model_name": "HTMLModel",
      "state": {
       "layout": "IPY_MODEL_a672eb11126b4af296428f2f6d3ac4ce",
       "style": "IPY_MODEL_28371b0930174d1ab797de6d94b879eb"
      }
     },
     "a59e792e386c4f3c86f9cb094fdb9927": {
      "model_module": "@jupyter-widgets/base",
      "model_module_version": "1.2.0",
      "model_name": "LayoutModel",
      "state": {}
     },
     "a672eb11126b4af296428f2f6d3ac4ce": {
      "model_module": "@jupyter-widgets/base",
      "model_module_version": "1.2.0",
      "model_name": "LayoutModel",
      "state": {}
     },
     "a70b96633d104ee3b959ed98313ae381": {
      "model_module": "@jupyter-widgets/controls",
      "model_module_version": "1.5.0",
      "model_name": "ProgressStyleModel",
      "state": {
       "description_width": ""
      }
     },
     "a79f793dc78742c381167445122a0c48": {
      "model_module": "@jupyter-widgets/base",
      "model_module_version": "1.2.0",
      "model_name": "LayoutModel",
      "state": {}
     },
     "a87dfdaed67843a38793803054a7a9ee": {
      "model_module": "@jupyter-widgets/base",
      "model_module_version": "1.2.0",
      "model_name": "LayoutModel",
      "state": {
       "max_width": "600px"
      }
     },
     "a8ccd8ace4774d56ba368d4f0f08c0ba": {
      "model_module": "@jupyter-widgets/controls",
      "model_module_version": "1.5.0",
      "model_name": "HTMLModel",
      "state": {
       "layout": "IPY_MODEL_00d1e5843a514b50ac1e53b79d66a62b",
       "style": "IPY_MODEL_e44845dd8a154521b06547a8d94b942c",
       "value": "100%"
      }
     },
     "aa1ba6c3d6d346f2b464fb50634c5a31": {
      "model_module": "@jupyter-widgets/controls",
      "model_module_version": "1.5.0",
      "model_name": "HBoxModel",
      "state": {
       "children": [
        "IPY_MODEL_636c6559089d4bbeb0bdc177802af426",
        "IPY_MODEL_dfbee9b5024e44a79b0c17343889df16",
        "IPY_MODEL_59fde33b56964c37932b12085e87646b"
       ],
       "layout": "IPY_MODEL_a59e792e386c4f3c86f9cb094fdb9927"
      }
     },
     "aceff3ed152546e3acbe2d041b498571": {
      "model_module": "ipylab",
      "model_module_version": "^0.3.0",
      "model_name": "ShellModel",
      "state": {
       "_model_module_version": "^0.3.0",
       "_view_module": null,
       "_view_module_version": "",
       "_widgets": [
        {
         "area": "main",
         "args": {
          "mode": "split-right"
         },
         "id": "id-35a06fe7-f5ed-4b0f-bad3-36a0a278463c",
         "serializedWidget": "IPY_MODEL_cdf60b0271fd4c2885ade6d8ecd5aa78"
        }
       ]
      }
     },
     "afa502a595b842a0bb30a2055a40908b": {
      "model_module": "@jupyter-widgets/controls",
      "model_module_version": "1.5.0",
      "model_name": "HBoxModel",
      "state": {
       "children": [
        "IPY_MODEL_dcfe90058dc54420888176c51ffc967e",
        "IPY_MODEL_7842f6ea5aa2446d9a2acb7b1841bbd0",
        "IPY_MODEL_f285025e4f6942e7ba053818e8ee8373"
       ],
       "layout": "IPY_MODEL_4f2794d266e04d2aad789bd6071d4ed4"
      }
     },
     "b1ec37098b474b8988df5ee826f1da94": {
      "model_module": "@jupyter-widgets/base",
      "model_module_version": "1.2.0",
      "model_name": "LayoutModel",
      "state": {}
     },
     "b4e9221ed38f4a63925ae8ae68949f42": {
      "model_module": "@jupyter-widgets/base",
      "model_module_version": "1.2.0",
      "model_name": "LayoutModel",
      "state": {}
     },
     "b6ae6783f3f2443481d92863ab2c591f": {
      "model_module": "@jupyter-widgets/base",
      "model_module_version": "1.2.0",
      "model_name": "LayoutModel",
      "state": {}
     },
     "b991ec0edbcd47d5bef139b53c87cbdf": {
      "model_module": "@jupyter-widgets/base",
      "model_module_version": "1.2.0",
      "model_name": "LayoutModel",
      "state": {}
     },
     "c6a2b5131dee4fc7ab9010f405d904ce": {
      "model_module": "bqplot",
      "model_module_version": "^0.5.18",
      "model_name": "LinearScaleModel",
      "state": {
       "_model_module_version": "^0.5.18",
       "_view_module_version": "^0.5.18",
       "stabilized": false
      }
     },
     "ca49a34f3cfb490a876220c761b6f01f": {
      "model_module": "@jupyter-widgets/controls",
      "model_module_version": "1.5.0",
      "model_name": "DescriptionStyleModel",
      "state": {
       "description_width": ""
      }
     },
     "d187355df9884f7da566b011e3b38274": {
      "model_module": "@jupyter-widgets/controls",
      "model_module_version": "1.5.0",
      "model_name": "DescriptionStyleModel",
      "state": {
       "description_width": ""
      }
     },
     "d253cba6520f40ccb52d55a60fb8c408": {
      "model_module": "@jupyter-widgets/controls",
      "model_module_version": "1.5.0",
      "model_name": "DescriptionStyleModel",
      "state": {
       "description_width": ""
      }
     },
     "d7ce64696e324a928265a910fe2e7fcc": {
      "model_module": "ipylab",
      "model_module_version": "^0.3.0",
      "model_name": "TitleModel",
      "state": {
       "_model_module_version": "^0.3.0",
       "_view_module": null,
       "_view_module_version": "",
       "closable": true,
       "icon_class": "",
       "label": "Jyrobot Simulator"
      }
     },
     "dcfe90058dc54420888176c51ffc967e": {
      "model_module": "@jupyter-widgets/controls",
      "model_module_version": "1.5.0",
      "model_name": "HTMLModel",
      "state": {
       "layout": "IPY_MODEL_01e08b8cbb5d485d8f0eba1f996ff13b",
       "style": "IPY_MODEL_22e3231ca9194ff7a80fd0704d549a11",
       "value": "100%"
      }
     },
     "dd1f38c68a5244c89100b13f0f9f5801": {
      "model_module": "bqplot",
      "model_module_version": "^0.5.18",
      "model_name": "LinearScaleModel",
      "state": {
       "_model_module_version": "^0.5.18",
       "_view_module_version": "^0.5.18",
       "allow_padding": false,
       "max": 1,
       "min": 0,
       "stabilized": false
      }
     },
     "de59a15913d547c2b649d92f9dc7c06f": {
      "model_module": "@jupyter-widgets/controls",
      "model_module_version": "1.5.0",
      "model_name": "DescriptionStyleModel",
      "state": {
       "description_width": ""
      }
     },
     "dfbee9b5024e44a79b0c17343889df16": {
      "model_module": "@jupyter-widgets/controls",
      "model_module_version": "1.5.0",
      "model_name": "FloatProgressModel",
      "state": {
       "bar_style": "success",
       "layout": "IPY_MODEL_0a195a790a0844cbbce04a1e8ae2c621",
       "max": 50,
       "style": "IPY_MODEL_0dc874da3b574d93936b14da25f688ad",
       "value": 50
      }
     },
     "e44845dd8a154521b06547a8d94b942c": {
      "model_module": "@jupyter-widgets/controls",
      "model_module_version": "1.5.0",
      "model_name": "DescriptionStyleModel",
      "state": {
       "description_width": ""
      }
     },
     "f0e521dcec2440e9b670167483faa577": {
      "model_module": "@jupyter-widgets/controls",
      "model_module_version": "1.5.0",
      "model_name": "HBoxModel",
      "state": {
       "children": [
        "IPY_MODEL_a8ccd8ace4774d56ba368d4f0f08c0ba",
        "IPY_MODEL_635af5b1df084cba845211fd4bd0b553",
        "IPY_MODEL_780b6fff831545fea1a98eb26e40992d"
       ],
       "layout": "IPY_MODEL_206187ade93447048716dfd596d3e72b"
      }
     },
     "f285025e4f6942e7ba053818e8ee8373": {
      "model_module": "@jupyter-widgets/controls",
      "model_module_version": "1.5.0",
      "model_name": "HTMLModel",
      "state": {
       "layout": "IPY_MODEL_6c6de95604fb48e6a6c10e34d3f75c05",
       "style": "IPY_MODEL_4c115606c7d64c2cb76a7ff1c01bdf0b",
       "value": " 100/100 [00:10&lt;00:00,  9.73it/s]"
      }
     },
     "f38fe64b455942b3899fcf7205ce6bc8": {
      "model_module": "@jupyter-widgets/controls",
      "model_module_version": "1.5.0",
      "model_name": "HTMLModel",
      "state": {
       "layout": "IPY_MODEL_b991ec0edbcd47d5bef139b53c87cbdf",
       "style": "IPY_MODEL_1f75a03b7170499684a9a93a66c30795",
       "value": "100%"
      }
     },
     "f77283908400422f9a45f263f2bc95ee": {
      "model_module": "ipylab",
      "model_module_version": "^0.3.0",
      "model_name": "JupyterFrontEndModel",
      "state": {
       "_model_module_version": "^0.3.0",
       "_view_module": null,
       "_view_module_version": "",
       "commands": "IPY_MODEL_05f23939b4b04bc382a42b5b63791d69",
       "shell": "IPY_MODEL_ff874184ee174c08a11646b4d3976990",
       "version": "2.2.9"
      }
     },
     "ff043f953299409986d012b8be3054af": {
      "model_module": "@jupyter-widgets/base",
      "model_module_version": "1.2.0",
      "model_name": "LayoutModel",
      "state": {}
     },
     "ff874184ee174c08a11646b4d3976990": {
      "model_module": "ipylab",
      "model_module_version": "^0.3.0",
      "model_name": "ShellModel",
      "state": {
       "_model_module_version": "^0.3.0",
       "_view_module": null,
       "_view_module_version": "",
       "_widgets": [
        {
         "area": "main",
         "args": {
          "mode": "split-right"
         },
         "id": "id-60b333a9-715c-4054-b6fe-e80808745a0a",
         "serializedWidget": "IPY_MODEL_79e0957cf55d4e549fe89f1f93900973"
        }
       ]
      }
     }
    },
    "version_major": 2,
    "version_minor": 0
   }
  }
 },
 "nbformat": 4,
 "nbformat_minor": 4
}
