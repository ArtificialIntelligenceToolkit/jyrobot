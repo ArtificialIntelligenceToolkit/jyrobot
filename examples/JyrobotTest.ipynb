{
 "cells": [
  {
   "cell_type": "markdown",
   "metadata": {},
   "source": [
    "# Example 1"
   ]
  },
  {
   "cell_type": "code",
   "execution_count": 1,
   "metadata": {},
   "outputs": [],
   "source": [
    "import jyrobot\n",
    "import random"
   ]
  },
  {
   "cell_type": "code",
   "execution_count": 2,
   "metadata": {},
   "outputs": [
    {
     "name": "stdout",
     "output_type": "stream",
     "text": [
      "Searching for jyrobot config files...\n",
      "Directory: ./\n",
      "    'experiment-01'\n",
      "Directory: /home/dblank/jyrobot/jyrobot/worlds\n",
      "    'duck-scribbler-no-walls'\n",
      "    'two-scribblers-no-walls'\n",
      "    'two-scribblers-one-wall'\n",
      "    'two-scribblers'\n"
     ]
    }
   ],
   "source": [
    "jyrobot.load_world()"
   ]
  },
  {
   "cell_type": "code",
   "execution_count": 3,
   "metadata": {},
   "outputs": [
    {
     "name": "stdout",
     "output_type": "stream",
     "text": [
      "Random seed initialized to: 6703318\n"
     ]
    }
   ],
   "source": [
    "world = jyrobot.load_world(\"two-scribblers\")"
   ]
  },
  {
   "cell_type": "code",
   "execution_count": 4,
   "metadata": {},
   "outputs": [
    {
     "data": {
      "application/vnd.jupyter.widget-view+json": {
       "model_id": "53a21168725d46d6af96ca68a5373723",
       "version_major": 2,
       "version_minor": 0
      },
      "text/plain": [
       "Image(value=b'\\xff\\xd8\\xff\\xe0\\x00\\x10JFIF\\x00\\x01\\x01\\x00\\x00\\x01\\x00\\x01\\x00\\x00\\xff\\xdb\\x00C\\x00\\x08\\x06\\x0…"
      ]
     },
     "metadata": {},
     "output_type": "display_data"
    }
   ],
   "source": [
    "world.watch()"
   ]
  },
  {
   "cell_type": "code",
   "execution_count": 5,
   "metadata": {},
   "outputs": [
    {
     "data": {
      "image/png": "[encoded data removed]",
      "text/plain": [
       "<PIL.Image.Image image mode=RGB size=200x200 at 0x7F7CE0A84F70>"
      ]
     },
     "execution_count": 5,
     "metadata": {},
     "output_type": "execute_result"
    }
   ],
   "source": [
    "world.take_picture(\"blue\", size=200)"
   ]
  },
  {
   "cell_type": "code",
   "execution_count": 6,
   "metadata": {},
   "outputs": [
    {
     "name": "stdout",
     "output_type": "stream",
     "text": [
      "This world was loaded from '/home/dblank/jyrobot/jyrobot/worlds/two-scribblers.json'\n",
      "Robots:\n",
      "-------------------------\n",
      "  robot[0 or 'Red']: <Robot(name='Red', position=430,50,3.14 v=0,0,0)>\n",
      "      device[0 or 'camera']: <Camera size=(256,128), angle=60.0>\n",
      "      device[1 or 'laser']: <RangeSensor angle=0.0, range=100, width=0.0>\n",
      "      device[2 or 'ir']: <RangeSensor angle=90.0, range=20, width=57.3>\n",
      "      device[3 or 'ir']: <RangeSensor angle=-90.0, range=20, width=57.3>\n",
      "  -------------------------\n",
      "  robot[1 or 'Blue']: <Robot(name='Blue', position=30,50,0.0 v=0,0,0)>\n",
      "      device[0 or 'camera']: <Camera size=(256,128), angle=60.0>\n",
      "      device[1 or 'laser']: <RangeSensor angle=0.0, range=100, width=0.0>\n",
      "      device[2 or 'ir']: <RangeSensor angle=0.0, range=20, width=57.3>\n",
      "      device[3 or 'ir']: <RangeSensor angle=0.0, range=20, width=57.3>\n",
      "  -------------------------\n"
     ]
    }
   ],
   "source": [
    "world.info()"
   ]
  },
  {
   "cell_type": "code",
   "execution_count": 7,
   "metadata": {},
   "outputs": [
    {
     "data": {
      "text/plain": [
       "<Camera size=(256,128), angle=60.0>"
      ]
     },
     "execution_count": 7,
     "metadata": {},
     "output_type": "execute_result"
    }
   ],
   "source": [
    "world[\"red\"][\"camera\"]"
   ]
  },
  {
   "cell_type": "code",
   "execution_count": 8,
   "metadata": {},
   "outputs": [
    {
     "data": {
      "image/png": "[encoded data removed]",
      "text/plain": [
       "<PIL.Image.Image image mode=RGBA size=256x128 at 0x7F7CE0A84910>"
      ]
     },
     "execution_count": 8,
     "metadata": {},
     "output_type": "execute_result"
    }
   ],
   "source": [
    "world[\"red\"][\"camera\"].take_picture()"
   ]
  },
  {
   "cell_type": "code",
   "execution_count": 9,
   "metadata": {},
   "outputs": [],
   "source": [
    "world[0].move(1, 0)\n",
    "world[1].move(1, 0)\n",
    "\n",
    "step = 0\n",
    "\n",
    "def control(robot):\n",
    "    global step\n",
    "    if robot.stalled:\n",
    "        robot.reverse()\n",
    "        robot.turn(1 - random.random() * 2)\n",
    "    if random.random() < .1:\n",
    "        robot.turn(1 - random.random() * 2)\n",
    "    #if step % 100 == 0:\n",
    "    #    world.display(world.take_picture())\n",
    "    step += 1"
   ]
  },
  {
   "cell_type": "code",
   "execution_count": 10,
   "metadata": {},
   "outputs": [
    {
     "name": "stdout",
     "output_type": "stream",
     "text": [
      "Reusing random seed: 6703318\n"
     ]
    }
   ],
   "source": [
    "recorder = world.record()"
   ]
  },
  {
   "cell_type": "code",
   "execution_count": 11,
   "metadata": {},
   "outputs": [],
   "source": [
    "robot = world[0]"
   ]
  },
  {
   "cell_type": "code",
   "execution_count": 12,
   "metadata": {},
   "outputs": [
    {
     "data": {
      "application/vnd.jupyter.widget-view+json": {
       "model_id": "",
       "version_major": 2,
       "version_minor": 0
      },
      "text/plain": [
       "Image(value=b'\\x89PNG\\r\\n\\x1a\\n\\x00\\x00\\x00\\rIHDR\\x00\\x00\\x00d\\x00\\x00\\x00d\\x08\\x02\\x00\\x00\\x00\\xff\\x80\\x02\\x0…"
      ]
     },
     "metadata": {},
     "output_type": "display_data"
    }
   ],
   "source": [
    "robot.watch()"
   ]
  },
  {
   "cell_type": "code",
   "execution_count": 13,
   "metadata": {},
   "outputs": [
    {
     "data": {
      "application/vnd.jupyter.widget-view+json": {
       "model_id": "287b0b0483024ee58ce1cc98adfb334d",
       "version_major": 2,
       "version_minor": 0
      },
      "text/plain": [
       "HBox(children=(HTML(value=''), FloatProgress(value=0.0, max=50.0), HTML(value='')))"
      ]
     },
     "metadata": {},
     "output_type": "display_data"
    },
    {
     "name": "stdout",
     "output_type": "stream",
     "text": [
      "\n",
      "Simulation stopped at: 00:00:05.0; speed 0.96 x real time\n"
     ]
    }
   ],
   "source": [
    "world.seconds(5, [control, control])"
   ]
  },
  {
   "cell_type": "code",
   "execution_count": 13,
   "metadata": {},
   "outputs": [
    {
     "data": {
      "application/vnd.jupyter.widget-view+json": {
       "model_id": "54539ef485da4f22a1a9dac751723afd",
       "version_major": 2,
       "version_minor": 0
      },
      "text/plain": [
       "HBox(children=(HTML(value=''), FloatProgress(value=0.0, max=2000.0), HTML(value='')))"
      ]
     },
     "metadata": {},
     "output_type": "display_data"
    },
    {
     "name": "stdout",
     "output_type": "stream",
     "text": [
      "\n",
      "Simulation stopped at: 00:03:25.0; speed 38.42 x real time\n"
     ]
    }
   ],
   "source": [
    "world.seconds(200, [control, control], show=True, real_time=False)"
   ]
  },
  {
   "cell_type": "code",
   "execution_count": 13,
   "metadata": {},
   "outputs": [
    {
     "data": {
      "application/vnd.jupyter.widget-view+json": {
       "model_id": "474cd651d80146e19a110de30de56f48",
       "version_major": 2,
       "version_minor": 0
      },
      "text/plain": [
       "HBox(children=(HTML(value=''), FloatProgress(value=0.0, max=2000.0), HTML(value='')))"
      ]
     },
     "metadata": {},
     "output_type": "display_data"
    },
    {
     "name": "stdout",
     "output_type": "stream",
     "text": [
      "\n",
      "Simulation stopped at: 00:06:45.0; speed 61.62 x real time\n"
     ]
    }
   ],
   "source": [
    "world.seconds(200, [control, control], show=False)"
   ]
  },
  {
   "cell_type": "code",
   "execution_count": 11,
   "metadata": {},
   "outputs": [
    {
     "name": "stdout",
     "output_type": "stream",
     "text": [
      "Simulation stopped at: 00:03:20.0; speed 104.1 x real time\n"
     ]
    }
   ],
   "source": [
    "world.seconds(200, [control, control], show=False, show_progress=False)"
   ]
  },
  {
   "cell_type": "code",
   "execution_count": 17,
   "metadata": {
    "collapsed": true,
    "jupyter": {
     "outputs_hidden": true
    }
   },
   "outputs": [
    {
     "data": {
      "application/vnd.jupyter.widget-view+json": {
       "model_id": "28278f13e3774179a40fd466e0d3de5f",
       "version_major": 2,
       "version_minor": 0
      },
      "text/plain": [
       "Image(value=b'\\x89PNG\\r\\n\\x1a\\n\\x00\\x00\\x00\\rIHDR\\x00\\x00\\x00\\xc8\\x00\\x00\\x00\\xc8\\x08\\x02\\x00\\x00\\x00\":9\\xc9\\x…"
      ]
     },
     "metadata": {},
     "output_type": "display_data"
    }
   ],
   "source": [
    "recorder.world[0].watch(size=200)"
   ]
  },
  {
   "cell_type": "code",
   "execution_count": 14,
   "metadata": {},
   "outputs": [
    {
     "data": {
      "application/vnd.jupyter.widget-view+json": {
       "model_id": "d75a2cf4d88648e48a3280a5d3f6e5b2",
       "version_major": 2,
       "version_minor": 0
      },
      "text/plain": [
       "Player(children=(VBox(children=(HBox(children=(FloatSlider(value=0.0, continuous_update=False, description='Ti…"
      ]
     },
     "metadata": {},
     "output_type": "display_data"
    },
    {
     "data": {
      "image/png": "[encoded data removed]",
      "text/plain": [
       "<PIL.Image.Image image mode=RGB size=1500x750 at 0x7F7CE0A6EAF0>"
      ]
     },
     "metadata": {},
     "output_type": "display_data"
    }
   ],
   "source": [
    "recorder.watch()"
   ]
  },
  {
   "cell_type": "code",
   "execution_count": 16,
   "metadata": {},
   "outputs": [
    {
     "data": {
      "application/vnd.jupyter.widget-view+json": {
       "model_id": "65138f1a5fa04e50996cbabe21608b35",
       "version_major": 2,
       "version_minor": 0
      },
      "text/plain": [
       "Image(value=b'\\x89PNG\\r\\n\\x1a\\n\\x00\\x00\\x00\\rIHDR\\x00\\x00\\x00d\\x00\\x00\\x00d\\x08\\x02\\x00\\x00\\x00\\xff\\x80\\x02\\x0…"
      ]
     },
     "metadata": {},
     "output_type": "display_data"
    }
   ],
   "source": [
    "recorder.world[\"blue\"].watch()"
   ]
  },
  {
   "cell_type": "code",
   "execution_count": 15,
   "metadata": {},
   "outputs": [
    {
     "data": {
      "application/vnd.jupyter.widget-view+json": {
       "model_id": "851c60b54e744112867555c491ff673a",
       "version_major": 2,
       "version_minor": 0
      },
      "text/plain": [
       "Image(value=b'\\x89PNG\\r\\n\\x1a\\n\\x00\\x00\\x00\\rIHDR\\x00\\x00\\x01\\x00\\x00\\x00\\x00\\x80\\x08\\x06\\x00\\x00\\x00\\xe4\\xb5\\…"
      ]
     },
     "metadata": {},
     "output_type": "display_data"
    }
   ],
   "source": [
    "recorder.world[\"blue\"][\"camera\"].watch()"
   ]
  },
  {
   "cell_type": "code",
   "execution_count": 25,
   "metadata": {},
   "outputs": [
    {
     "name": "stdout",
     "output_type": "stream",
     "text": [
      "Removing robots from world...\n",
      "Reusing random seed: 7481669\n"
     ]
    }
   ],
   "source": [
    "world.reset()"
   ]
  },
  {
   "cell_type": "markdown",
   "metadata": {},
   "source": [
    "# Example 2"
   ]
  },
  {
   "cell_type": "code",
   "execution_count": 23,
   "metadata": {},
   "outputs": [],
   "source": [
    "import jyrobot\n",
    "import time\n",
    "from jyrobot.utils import gallery"
   ]
  },
  {
   "cell_type": "code",
   "execution_count": 17,
   "metadata": {
    "collapsed": true,
    "jupyter": {
     "outputs_hidden": true
    }
   },
   "outputs": [
    {
     "name": "stdout",
     "output_type": "stream",
     "text": [
      "Reusing random seed: 10\n"
     ]
    },
    {
     "data": {
      "application/vnd.jupyter.widget-view+json": {
       "model_id": "4f5bbd437cc3467598d15622dc520e3f",
       "version_major": 2,
       "version_minor": 0
      },
      "text/plain": [
       "Image(value=b'\\xff\\xd8\\xff\\xe0\\x00\\x10JFIF\\x00\\x01\\x01\\x00\\x00\\x01\\x00\\x01\\x00\\x00\\xff\\xdb\\x00C\\x00\\x08\\x06\\x0…"
      ]
     },
     "metadata": {},
     "output_type": "display_data"
    }
   ],
   "source": [
    "w = jyrobot.World(width=500, height=500, ground_color=\"white\", seed=10, scale=10)\n",
    "w.get_widget()"
   ]
  },
  {
   "cell_type": "code",
   "execution_count": 18,
   "metadata": {},
   "outputs": [],
   "source": [
    "for i in range(20):\n",
    "    robot = jyrobot.Scribbler(color=\"blue\", name=\"Scribby-%s\" % i)\n",
    "    sensor = jyrobot.Camera()\n",
    "    robot.add_device(sensor)\n",
    "    w.add_robot(robot)\n",
    "w.draw()"
   ]
  },
  {
   "cell_type": "code",
   "execution_count": 19,
   "metadata": {},
   "outputs": [],
   "source": [
    "from jyrobot.utils import Color\n",
    "import random\n",
    "for robot in w:\n",
    "    robot.set_color( Color(\n",
    "        255 * random.random(), \n",
    "        255 * random.random(), \n",
    "        255 * random.random(), \n",
    "   ))\n",
    "w.draw()"
   ]
  },
  {
   "cell_type": "code",
   "execution_count": 20,
   "metadata": {},
   "outputs": [
    {
     "name": "stdout",
     "output_type": "stream",
     "text": [
      "CPU times: user 3.25 s, sys: 3.8 ms, total: 3.25 s\n",
      "Wall time: 3.25 s\n"
     ]
    }
   ],
   "source": [
    "%%time\n",
    "pics = []\n",
    "for robot in w:\n",
    "    pic = robot[\"camera\"].take_picture()\n",
    "    pics.append(pic)"
   ]
  },
  {
   "cell_type": "code",
   "execution_count": 24,
   "metadata": {},
   "outputs": [
    {
     "data": {
      "image/png": "[encoded data removed]",
      "text/plain": [
       "<PIL.Image.Image image mode=RGBA size=1290x520 at 0x7F97632398E0>"
      ]
     },
     "execution_count": 24,
     "metadata": {},
     "output_type": "execute_result"
    }
   ],
   "source": [
    "gallery(*pics)"
   ]
  },
  {
   "cell_type": "code",
   "execution_count": 25,
   "metadata": {},
   "outputs": [
    {
     "name": "stdout",
     "output_type": "stream",
     "text": [
      "CPU times: user 2.73 ms, sys: 12 ms, total: 14.8 ms\n",
      "Wall time: 12.2 ms\n"
     ]
    }
   ],
   "source": [
    "%%time\n",
    "pics = []\n",
    "for i, robot in enumerate(w):\n",
    "    pic = w.take_picture(i, size=200)\n",
    "    pics.append(pic)"
   ]
  },
  {
   "cell_type": "code",
   "execution_count": 27,
   "metadata": {},
   "outputs": [
    {
     "data": {
      "image/png": "[encoded data removed]",
      "text/plain": [
       "<PIL.Image.Image image mode=RGBA size=1010x808 at 0x7F9763182130>"
      ]
     },
     "execution_count": 27,
     "metadata": {},
     "output_type": "execute_result"
    }
   ],
   "source": [
    "gallery(*pics, background_color=\"black\")"
   ]
  },
  {
   "cell_type": "code",
   "execution_count": 28,
   "metadata": {},
   "outputs": [],
   "source": [
    "for robot in w:\n",
    "    robot.move(1,0)"
   ]
  },
  {
   "cell_type": "code",
   "execution_count": 29,
   "metadata": {},
   "outputs": [],
   "source": [
    "def control(world):\n",
    "    for robot in world:\n",
    "        if robot.stalled:\n",
    "            robot.reverse()\n",
    "        robot.turn(1 - random.random() * 2)"
   ]
  },
  {
   "cell_type": "code",
   "execution_count": 30,
   "metadata": {},
   "outputs": [
    {
     "data": {
      "application/vnd.jupyter.widget-view+json": {
       "model_id": "a72880d22b6b43eabb312f989291974e",
       "version_major": 2,
       "version_minor": 0
      },
      "text/plain": [
       "HBox(children=(HTML(value=''), FloatProgress(value=1.0, bar_style='info', layout=Layout(width='20px'), max=1.0…"
      ]
     },
     "metadata": {},
     "output_type": "display_data"
    },
    {
     "name": "stdout",
     "output_type": "stream",
     "text": [
      "\n",
      "Simulation stopped at: 00:01:11.5; speed 4.37 x real time\n"
     ]
    }
   ],
   "source": [
    "w.run(control, show=True, real_time=False)"
   ]
  },
  {
   "cell_type": "markdown",
   "metadata": {},
   "source": [
    "# Example 3"
   ]
  },
  {
   "cell_type": "code",
   "execution_count": 31,
   "metadata": {},
   "outputs": [],
   "source": [
    "import jyrobot as jr\n",
    "import random"
   ]
  },
  {
   "cell_type": "code",
   "execution_count": 32,
   "metadata": {},
   "outputs": [
    {
     "name": "stdout",
     "output_type": "stream",
     "text": [
      "Random seed initialized to: 9592275\n"
     ]
    }
   ],
   "source": [
    "w = jr.World(width=100, height=100, scale=10)"
   ]
  },
  {
   "cell_type": "code",
   "execution_count": 33,
   "metadata": {
    "collapsed": true,
    "jupyter": {
     "outputs_hidden": true
    }
   },
   "outputs": [
    {
     "data": {
      "application/vnd.jupyter.widget-view+json": {
       "model_id": "19cb8233ece54132bbcd63be96bc8816",
       "version_major": 2,
       "version_minor": 0
      },
      "text/plain": [
       "Image(value=b'\\xff\\xd8\\xff\\xe0\\x00\\x10JFIF\\x00\\x01\\x01\\x00\\x00\\x01\\x00\\x01\\x00\\x00\\xff\\xdb\\x00C\\x00\\x08\\x06\\x0…"
      ]
     },
     "metadata": {},
     "output_type": "display_data"
    }
   ],
   "source": [
    "w.get_widget()"
   ]
  },
  {
   "cell_type": "code",
   "execution_count": 34,
   "metadata": {},
   "outputs": [],
   "source": [
    "r = jr.Scribbler()"
   ]
  },
  {
   "cell_type": "code",
   "execution_count": 35,
   "metadata": {},
   "outputs": [],
   "source": [
    "w.add_robot(r)\n",
    "w.update()"
   ]
  },
  {
   "cell_type": "code",
   "execution_count": 36,
   "metadata": {},
   "outputs": [],
   "source": [
    "sensor = jr.RangeSensor()"
   ]
  },
  {
   "cell_type": "code",
   "execution_count": 37,
   "metadata": {},
   "outputs": [],
   "source": [
    "r.add_device(sensor)\n",
    "w.update()"
   ]
  },
  {
   "cell_type": "code",
   "execution_count": 38,
   "metadata": {},
   "outputs": [],
   "source": [
    "r.forward(1)\n",
    "\n",
    "def control(world):\n",
    "    for robot in world:\n",
    "        if robot.stalled:\n",
    "            robot.reverse()\n",
    "        robot.turn(1 - random.random() * 2)"
   ]
  },
  {
   "cell_type": "code",
   "execution_count": 39,
   "metadata": {
    "collapsed": true,
    "jupyter": {
     "outputs_hidden": true
    }
   },
   "outputs": [
    {
     "data": {
      "application/vnd.jupyter.widget-view+json": {
       "model_id": "c9194ceca09e4056afb60f17a1735f78",
       "version_major": 2,
       "version_minor": 0
      },
      "text/plain": [
       "Figure(axes=[Axis(label='x', scale=LinearScale()), Axis(label='y', orientation='vertical', scale=LinearScale()…"
      ]
     },
     "metadata": {},
     "output_type": "display_data"
    }
   ],
   "source": [
    "r.plot(lambda robot: (robot.x, robot.world.width - robot.y), wheres=[\"panel\"])"
   ]
  },
  {
   "cell_type": "code",
   "execution_count": 41,
   "metadata": {},
   "outputs": [
    {
     "data": {
      "application/vnd.jupyter.widget-view+json": {
       "model_id": "63752104c18741fb95bbf9e680188638",
       "version_major": 2,
       "version_minor": 0
      },
      "text/plain": [
       "HBox(children=(HTML(value=''), FloatProgress(value=0.0, max=1.0), HTML(value='')))"
      ]
     },
     "metadata": {},
     "output_type": "display_data"
    },
    {
     "name": "stdout",
     "output_type": "stream",
     "text": [
      "\n",
      "Simulation stopped at: 00:00:00.2; speed 0.7 x real time\n"
     ]
    }
   ],
   "source": [
    "w.seconds(.1, control, show=True, real_time=True)"
   ]
  },
  {
   "cell_type": "code",
   "execution_count": 42,
   "metadata": {},
   "outputs": [
    {
     "data": {
      "application/vnd.jupyter.widget-view+json": {
       "model_id": "31e550146ce84475824cbd9ca157f9a8",
       "version_major": 2,
       "version_minor": 0
      },
      "text/plain": [
       "HBox(children=(HTML(value=''), FloatProgress(value=0.0), HTML(value='')))"
      ]
     },
     "metadata": {},
     "output_type": "display_data"
    },
    {
     "name": "stdout",
     "output_type": "stream",
     "text": [
      "\n",
      "Simulation stopped at: 00:00:10.2; speed 0.97 x real time\n"
     ]
    }
   ],
   "source": [
    "w.seconds(10, control, show=True, real_time=True)"
   ]
  },
  {
   "cell_type": "code",
   "execution_count": 43,
   "metadata": {},
   "outputs": [
    {
     "data": {
      "application/vnd.jupyter.widget-view+json": {
       "model_id": "b5f884c16c114d088e0f65a633f443b9",
       "version_major": 2,
       "version_minor": 0
      },
      "text/plain": [
       "HBox(children=(HTML(value=''), FloatProgress(value=1.0, bar_style='info', layout=Layout(width='20px'), max=1.0…"
      ]
     },
     "metadata": {},
     "output_type": "display_data"
    },
    {
     "name": "stdout",
     "output_type": "stream",
     "text": [
      "\n",
      "Simulation stopped at: 00:00:31.3; speed 0.99 x real time\n"
     ]
    }
   ],
   "source": [
    "w.run(control, show=True, real_time=True)"
   ]
  },
  {
   "cell_type": "code",
   "execution_count": 44,
   "metadata": {},
   "outputs": [
    {
     "data": {
      "application/vnd.jupyter.widget-view+json": {
       "model_id": "d6c7040dd8a341eb830816a2b4d2b00c",
       "version_major": 2,
       "version_minor": 0
      },
      "text/plain": [
       "HBox(children=(HTML(value=''), FloatProgress(value=0.0), HTML(value='')))"
      ]
     },
     "metadata": {},
     "output_type": "display_data"
    },
    {
     "name": "stdout",
     "output_type": "stream",
     "text": [
      "\n",
      "Simulation stopped at: 00:00:41.3; speed 92.65 x real time\n"
     ]
    }
   ],
   "source": [
    "w.seconds(10, control, show=True, real_time=False)"
   ]
  },
  {
   "cell_type": "code",
   "execution_count": 45,
   "metadata": {},
   "outputs": [
    {
     "data": {
      "application/vnd.jupyter.widget-view+json": {
       "model_id": "e588698d9f3e448c807515ed6f163bcf",
       "version_major": 2,
       "version_minor": 0
      },
      "text/plain": [
       "HBox(children=(HTML(value=''), FloatProgress(value=0.0), HTML(value='')))"
      ]
     },
     "metadata": {},
     "output_type": "display_data"
    },
    {
     "name": "stdout",
     "output_type": "stream",
     "text": [
      "\n",
      "Simulation stopped at: 00:00:51.3; speed 174.58 x real time\n"
     ]
    }
   ],
   "source": [
    "w.seconds(10, control, show=False)"
   ]
  },
  {
   "cell_type": "code",
   "execution_count": 46,
   "metadata": {},
   "outputs": [],
   "source": [
    "r.set_pose(50, 50, 180)"
   ]
  },
  {
   "cell_type": "code",
   "execution_count": 47,
   "metadata": {},
   "outputs": [],
   "source": [
    "r.set_color(\"purple\")"
   ]
  },
  {
   "cell_type": "code",
   "execution_count": 48,
   "metadata": {},
   "outputs": [],
   "source": [
    "w.update()"
   ]
  },
  {
   "cell_type": "code",
   "execution_count": 50,
   "metadata": {},
   "outputs": [
    {
     "data": {
      "image/png": "[encoded data removed]",
      "text/plain": [
       "<PIL.Image.Image image mode=RGB size=1000x1000 at 0x7F976321F2B0>"
      ]
     },
     "execution_count": 50,
     "metadata": {},
     "output_type": "execute_result"
    }
   ],
   "source": [
    "w.take_picture()"
   ]
  },
  {
   "cell_type": "code",
   "execution_count": null,
   "metadata": {},
   "outputs": [],
   "source": []
  }
 ],
 "metadata": {
  "kernelspec": {
   "display_name": "Python 3",
   "language": "python",
   "name": "python3"
  },
  "language_info": {
   "codemirror_mode": {
    "name": "ipython",
    "version": 3
   },
   "file_extension": ".py",
   "mimetype": "text/x-python",
   "name": "python",
   "nbconvert_exporter": "python",
   "pygments_lexer": "ipython3",
   "version": "3.8.5"
  },
  "widgets": {
   "application/vnd.jupyter.widget-state+json": {
    "state": {
     "0185e3dba4234c9dadeb8ce46ce2fffd": {
      "buffers": [
       {
        "data": "iVBORw0KGgoAAAANSUhEUgAAAGQAAABkCAIAAAD/gAIDAAAD5ElEQVR4nO2b63GrMBCFjzK3EEpxOkkn2VtZUoo7IT+whTAg9NgHEj6TGcvG3lW+ObvIRjgQ1DR+j9PA/Xd6WTM13Ie9Qx+K02hAEVJ4wwoVJ4U3LK9DUlCG5VuVb14nUQopvJ2FZFJ4w0onBeCf2DTOrixMk7SddZK2VUAK1yzDMlK4IKxiUrgarBpSMIFl1bYqSeE6zqonhYvAYiEFK1ialchFCt07i5EU+obFSwodw2InBUNYom1LghS6dJYQKXT2q4Mcpkn9OEuaFGxhMbYtBVJoqQxpNXhKhxTODovm4eS99bVZNVI4Iyyah4fFqUkKgNO8fL+p+Zq+c0gA5PAAqkwKls6i5+D78ZjX5Al33H0QHXBu+Bruw10hE7BTYuNz6DZ2i7gbxt/lK8HHvctCyS5Kw+j84GgeJnrH3WJHD4OE/wIvODd87YarAkePxyRAT3O5z+2tSC/mCrVprrVYqMV6VqXj4pjcLfWdsSDTAx3zYrFbaoP3CYrt5m77h7YMFXETQkz5KgYXK8OsrBuihWXcLSlmnNEcDYWkIjoEV7V0yKrT8RfutnuITVQO8dBxbOusggZXw2gEHFWhiWsTHP+i9D481oqbbZvTRHsiZoIeHPNPND6uHikSiLkjTlh63wSMxAZrJkXl66YsjVC1FbhgbXrKPf8MRCJRGWCtSTm/DqL68AnSyVJ5NtxuUvT61GkVprTKnXWGdq7ctgphJZGisthFWucSyF5ShrukqGIiLSjbWSXVR0bnRG7lwcomRXlvL1CsbXFnz4B1TIoqJlIv+eypsM5w7jNXEiwGUl20rWNYtaSo6tMpUmtbB7Aaqz6SDR9bZ5WtEuxXW2IT2HWWxNVWjbZFgrG3YTVWfeu2RSpfd0QwkWJtEjBdzhCIvXAWDyliiFGcevSkBKYxw9IoPcm2NVZsA0jUA1ZzTcpEH9DylJqEahDAx9tT6ZLZB0+xQ+1+SZTfU0riGULJ1SBkYVHCK01JZWv3M4X0qV3UVlC6d4cAeVIK0rrRSbKvu/AauKTOdztKmhboSS2pViagdoONCaDlBJSzEpDTv0JAP8An8c4mT+plSMC0HXQf2dpBPyQ2nxwZ9SwClsjMSyxF9rfQPSZAB+/y5jKsxBOcDcl6Asnq5+57BTUDy1efYbNvBlYoK15NwrJSS7DC86CJuVqCZa7GYNmaqzFYL1Lm1R4swxV8e7BgV4xNwrJSq7BMzNUqrBfp8GoY1kunV+DVMCyo82obFnR5NQ8Lirx6gAUtXif4DZ5Pa0a8y/2uYE16QcbIq0NYELNYn7Cw37ZqqHULK9QmuAJql4DlVUntD9rMK1W+n3osAAAAAElFTkSuQmCC",
        "encoding": "base64",
        "path": [
         "value"
        ]
       }
      ],
      "model_module": "@jupyter-widgets/controls",
      "model_module_version": "1.5.0",
      "model_name": "ImageModel",
      "state": {
       "layout": "IPY_MODEL_71f0a0fb70dd456f86d974324c177de9"
      }
     },
     "040a327c3b454a0e8fb6da2ce0376560": {
      "model_module": "@jupyter-widgets/base",
      "model_module_version": "1.2.0",
      "model_name": "LayoutModel",
      "state": {}
     },
     "098417e448e6447db91ffb820b2cefe0": {
      "model_module": "@jupyter-widgets/base",
      "model_module_version": "1.2.0",
      "model_name": "LayoutModel",
      "state": {}
     },
     "0a064e962e4b493496cd202cd1b252fc": {
      "model_module": "@jupyter-widgets/controls",
      "model_module_version": "1.5.0",
      "model_name": "DescriptionStyleModel",
      "state": {
       "description_width": ""
      }
     },
     "110f5a991ee14e6bb1f60812a6324f39": {
      "model_module": "@jupyter-widgets/controls",
      "model_module_version": "1.5.0",
      "model_name": "VBoxModel",
      "state": {
       "children": [
        "IPY_MODEL_a204bc4b0a814ba99946aa08dc702a51",
        "IPY_MODEL_9a3f1ea58c424c598f82937b96aa944d"
       ],
       "layout": "IPY_MODEL_b1d43729c57e4ce5aea6a9b6978b48b1"
      }
     },
     "28278f13e3774179a40fd466e0d3de5f": {
      "buffers": [
       {
        "data": "iVBORw0KGgoAAAANSUhEUgAAAMgAAADICAIAAAAiOjnJAAAFdUlEQVR4nO3d3XHjOBBFYXBrA2Eos5k4FITiTHYzWWaieaBKo39TJBro232+B9dIskmMearJslTSVGoBmvtr9AIQE2HBBGHBBGHBBGHBBGHBBGHBBGHBBGHBBGHBBGHBBGHBBGHBBGHBBGHBBGHBBGHBBGHBBGHBBGHBxN+jF9BFbfQ92GwK+AutzraTkn5YNei+xCmHVV8+Mn/NB7e9fC879osLzbDqza3jGW1xn1p9+l04kwqr3t/RJ6lrTyZZ7bwEDSJh1fs7+id1jbx+5D6senNrbE+POD++IvN3LG9JrdZVvbvSz0ogLJ9JXSOvR+6f0qmjF7BdHb0AT9yHVcoyL6OX8DOJRfYkEBYUaYTlfB44X94QGmFBjkxYbqeC24WNJRMWtCiF5XA2OFySE0phQYhYWK4mhKvFeCMWVuFwitALywn6fk8yLA6qf5JhDUfZP1INi0PrnGpYA9H0FsJhDTnAVLWRcFjwTDuszvODcbWddlhwSz6sblOEcfUR+bAKh9ylCGF1QLufChIWB96bIGGZotod4oTF4XclTlhG6HWfUGERgR+hwmqOUneLFhYpOBEtrNKuLRo9ImBY8CBmWMeHDePqoJhhYbiwYR0ZOYyr48KGtRtVNRE5LBIZKHJYO9BiK8HDIpRRgof1ESpsKH5Y5DJE/LDKtrbor60UYaG/LGG9H0iMq+ayhIXOBD79q5VlXuZlfnr/ze26dwe7fzAiJhZM5Arr8VqKqysjucJ6qbrclLJE11ir6yutZV5MOqhXX7NKF9Yf36WUciqllDI13fB5m7WUkjevjKfCZV7Kd/m/LCfLvZzWwqrlPhxLOrGWsrx8rLbc0Snr6Mo4sTrLObqmLP/hen/H9XnQ4hrr0fRsGVElOhW+uaIyvdjKiVNhP6lOiIQFE4QFE4QFE4ku3i+mXzc3T/8NWEN4TCyYICyYICyYICyYICyYICyYICyYmE6npM/ATv+cX9PQ8+9YUyn/9tvbSEwsmCAsmEj0Qr/LKX/6dfNI51Nhkl84EwsmCAsmCAsmCAsmCAsmCAsmCAsmMr40mdcid8DEggnCggnC6ifP8zmFsLpJVVVJdfF+95YyPd9tJltVJVFY9e3Np/c02VHKqgqnQms5qyqJJtat+Wuevpfy9J2x6t6N3v7gdHBr4jKGtb4d9/w1L/NyfoPQppIntcoY1o169bXtNnNLd411/TlNf/5d2+2g4aaUpQsLfeQK6/Fj5Z5+0ByOS3+N9aiOXkAIiSbWq+HE0LKQKCz0lCWs92OJodVcirDopr8UYW1BfG3FD4tihogf1nYk2FDwsD5thbZaCR4WRokc1r7xw9BqInJYGChsWEcGD0PruJhhUcZwMcM6jjQPChgWTXgQMKxWCPSIaGFRgxPRwmqLTHcLFRYd+BEqLAvEuk+csOwKoK0dgoTFsfcmSFjWCPdTEcLiqDsUIaw+yPcj8mFxvH2SD6snIt5OOyyOtFvCYQ2pipQ3Eg4LnqmGNXByMLS2UA0LzkmGNXxmDF+Af5JheUBb7+mFxRGVoBeWHyT+hlhYHEsVSmE5rMrhkpxQCgtCZMJyOxvcLmwsmbCgRSMs51PB+fKG0AgLcgTCkpgHEovsyX1YdfQCtqujF+CJwKd/Ld9LKWX+mgev47V1hbgmENbKZ14k9cqkMcDr/R1jC3vSU+2/CtdEwlrV+zv650VSG0mFdVFvbvXJ6z6p+vS7cKYZ1qq+fOR4au8unl7vFxfKYa1q0H2J0w/rUXW2nZQihvWoNvoebJYjLHTn/ikdaCIsmCAsmCAsmCAsmCAsmCAsmCAsmCAsmCAsmCAsmCAsmCAsmCAsmCAsmCAsmCAsmCAsmCAsmCAsmPgNEZQmTpRVH/AAAAAASUVORK5CYII=",
        "encoding": "base64",
        "path": [
         "value"
        ]
       }
      ],
      "model_module": "@jupyter-widgets/controls",
      "model_module_version": "1.5.0",
      "model_name": "ImageModel",
      "state": {
       "layout": "IPY_MODEL_040a327c3b454a0e8fb6da2ce0376560"
      }
     },
     "287b0b0483024ee58ce1cc98adfb334d": {
      "model_module": "@jupyter-widgets/controls",
      "model_module_version": "1.5.0",
      "model_name": "HBoxModel",
      "state": {
       "children": [
        "IPY_MODEL_4ad45f6b1af44a86a9c2526fb2ce35cb",
        "IPY_MODEL_d9d8f33bcb3a428c9c66aa4fb51f5f84",
        "IPY_MODEL_3044f4d698924da996a0b7017cc61d3a"
       ],
       "layout": "IPY_MODEL_f3c7de3c6abb4e7ba0739a6cf73e7211"
      }
     },
     "29c0b8e55cde4b1dad1a0f17008f4f20": {
      "model_module": "@jupyter-widgets/controls",
      "model_module_version": "1.5.0",
      "model_name": "ButtonModel",
      "state": {
       "icon": "fast-backward",
       "layout": "IPY_MODEL_53e2d9f7bd2640d782211d8b7407b4f9",
       "style": "IPY_MODEL_d38a85af0c84442bb3690ebaed7586ec"
      }
     },
     "2b06b5c72d78421d9a2ae4b096d578c0": {
      "model_module": "@jupyter-widgets/base",
      "model_module_version": "1.2.0",
      "model_name": "LayoutModel",
      "state": {}
     },
     "2b1608a1a60948fdb6a17c1a0f5de87d": {
      "model_module": "@jupyter-widgets/controls",
      "model_module_version": "1.5.0",
      "model_name": "ButtonStyleModel",
      "state": {}
     },
     "3044f4d698924da996a0b7017cc61d3a": {
      "model_module": "@jupyter-widgets/controls",
      "model_module_version": "1.5.0",
      "model_name": "HTMLModel",
      "state": {
       "layout": "IPY_MODEL_44392445deb04b78bdb17249ec7f2a40",
       "style": "IPY_MODEL_ccd0a0e12cd446e4b6dd4e93659aa890",
       "value": " 50/50 [01:25&lt;00:00,  1.71s/it]"
      }
     },
     "3b8b58916b7e497289ec34abe91b5446": {
      "model_module": "@jupyter-widgets/base",
      "model_module_version": "1.2.0",
      "model_name": "LayoutModel",
      "state": {
       "width": "100px"
      }
     },
     "3d4e4b12400b4cd088f9d2f594e7f42d": {
      "model_module": "@jupyter-widgets/base",
      "model_module_version": "1.2.0",
      "model_name": "LayoutModel",
      "state": {
       "width": "100%"
      }
     },
     "40f48fe22c3a4e74bf2601dbb9cef670": {
      "model_module": "@jupyter-widgets/base",
      "model_module_version": "1.2.0",
      "model_name": "LayoutModel",
      "state": {
       "width": "100%"
      }
     },
     "44392445deb04b78bdb17249ec7f2a40": {
      "model_module": "@jupyter-widgets/base",
      "model_module_version": "1.2.0",
      "model_name": "LayoutModel",
      "state": {}
     },
     "4ad45f6b1af44a86a9c2526fb2ce35cb": {
      "model_module": "@jupyter-widgets/controls",
      "model_module_version": "1.5.0",
      "model_name": "HTMLModel",
      "state": {
       "layout": "IPY_MODEL_c5713ccf95314ae9830548c7989e4be7",
       "style": "IPY_MODEL_ed3263940b434b39a261dfc8e8c3fed6",
       "value": "100%"
      }
     },
     "53a21168725d46d6af96ca68a5373723": {
      "buffers": [
       {
        "data": "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",
        "encoding": "base64",
        "path": [
         "value"
        ]
       }
      ],
      "model_module": "@jupyter-widgets/controls",
      "model_module_version": "1.5.0",
      "model_name": "ImageModel",
      "state": {
       "layout": "IPY_MODEL_adb2c20e088a46698daad216720e41a8"
      }
     },
     "53e2d9f7bd2640d782211d8b7407b4f9": {
      "model_module": "@jupyter-widgets/base",
      "model_module_version": "1.2.0",
      "model_name": "LayoutModel",
      "state": {
       "width": "100%"
      }
     },
     "55083b71e4ac44a7a28e4ec30c409af8": {
      "model_module": "@jupyter-widgets/base",
      "model_module_version": "1.2.0",
      "model_name": "LayoutModel",
      "state": {
       "width": "100%"
      }
     },
     "59e2f245f1d840f4b38dbad62ab835d1": {
      "model_module": "@jupyter-widgets/controls",
      "model_module_version": "1.5.0",
      "model_name": "DescriptionStyleModel",
      "state": {
       "description_width": ""
      }
     },
     "6020ce67ed114d5681481aed385e24a5": {
      "model_module": "@jupyter-widgets/controls",
      "model_module_version": "1.5.0",
      "model_name": "ButtonModel",
      "state": {
       "icon": "forward",
       "layout": "IPY_MODEL_7f5f4b4bc75747b794f8fe60abd871b1",
       "style": "IPY_MODEL_2b1608a1a60948fdb6a17c1a0f5de87d"
      }
     },
     "65138f1a5fa04e50996cbabe21608b35": {
      "buffers": [
       {
        "data": "iVBORw0KGgoAAAANSUhEUgAAAGQAAABkCAIAAAD/gAIDAAAEjUlEQVR4nO2cvXnbMBCGP+TJECrpCZIRrCozuHIygqqUuZSpvIJdeQZX9AgegaW2YArINEgAxO+BoIy38AOeIFp6fQeCgCUBwo7ohm6rX93f91+2+t0RbGsKwJ5kFUBKsQWbrCX9fa8qU9tft3g9MRSuQWOKib0M8AVkHc4H2Xj+/aw/enw6NlkfTLIAPPx4AHD4flA77KMMS9ag1CQ5v52hKGsD/AWZVqopyenldPfvTrb3UYZlanBh6vRyWvTZQWaVqUGnKexlzOLm+dvs8qebOh/OaLIA9Pe9HMglkykpSKV2Wdw1uJh8nl5OuqOJ2mWxIk2d385ycnB8OuKw1v/zyurv++62mw6PT0fnUz6drKEbAIx/RjXoYwqVy8o1YElBE3GmULmsRBaOJAtTN79u/E94bbKMgiYWpsRf0aHzP3m9svxrcF3QhG4q8BVVLMuJpyOJ0VTomLgzWUGCJtJzSlKprMXffHgcoldHcplCtbKgJhEBGEExq0krpiLmJfXJIgAYMFzaBEC+4WBfGXPqcoZaFv9oaqnvUMwP4f+CnaYiMmu7xT8yHi7ULA4BjD6yOExhM1mk/JwFfSrF4St79U1sIYvmbTL3WnKrvmerLz5T2EAWrQYJ5uSSply+PE1F35+XlUWuOME0TinYfbHmlKSgLHLFCWZTt8J+ePFVwBTKySJXnGDNqVctPvcVZCpljayILHLFCY7qs/sa548w5ZSEXxa54gSHKYnJV0lTYJdFrjjBy5Rk7mvs59Un3LOQxHVqTllkCZLawduURPEljh95JN6LkvXujU0WuYKEYFMSzZdqjdUXjyxaDVKCKYmeX37z+0QYZNFqkACMSaYkrvmE/jLSN9aKyCK1kaxpItxXIvxlSGojnylJWV/MAzyph7lNSfx8ZdncZlgpJeNCFY+piUmQ7g4ARPeziz73tBvAswZPRXJK5XXErbCZAkGu6ftj3HPLnVmEdzUiwxQhDwFptb4vybe7M4L07YbyuNPKf+M2qyzC3E4dpixEbG7Xt2+YkxE0q8G43f+J65YFYMTjzUBDlnPt4EMDgSyXtIbQC6GdK5MltP2hnJf7a5IllNuGXW9YsCO0G1KRfRZ5HbJMUvRIMlcgS88pUzsHWWURmAYLOyZTZOiXhdyZRSjoy55TPDCtlBbwtWpqcZgJvpVSVl8eOWUMpsG6Usrky6/6bPEEuDdZs/vazBT4b6R70z/RRqOYInuvlYfSYM0s+YnaPlN+bWwKbGvwi2+9Sc+v7U2BZ+qgfT8Q+X760UIVppD5VnNdEyEquWoxhWyydE0wJRQh0FdFppBHVlDdEbx91WUKqbLihidCgC+s3h4bg2zEyvKsO+vTEVKPwuyLlv24iZKV5XpHSMovMnVkJlBW3mkBweVL0aQ+i7SORfCWlVh31tMmPFoclyyjI+TQtEPstzv5J+K7R5PVHNl5l9UceSCApskXpQybIxfVfFXBHriCHelyNFkBNFkBNFkBNFkBNFkBNFkBNFkBNFkBNFkBNFkBNFkBNFkBNFkBNFkBNFkBNFkBNFkB/AcTZJLW175+1QAAAABJRU5ErkJggg==",
        "encoding": "base64",
        "path": [
         "value"
        ]
       }
      ],
      "model_module": "@jupyter-widgets/controls",
      "model_module_version": "1.5.0",
      "model_name": "ImageModel",
      "state": {
       "layout": "IPY_MODEL_e9374d9800e94db8b8974e86b4b069cf"
      }
     },
     "71f0a0fb70dd456f86d974324c177de9": {
      "model_module": "@jupyter-widgets/base",
      "model_module_version": "1.2.0",
      "model_name": "LayoutModel",
      "state": {}
     },
     "73f5b851b0b4426fb384d4de4dfb1287": {
      "model_module": "@jupyter-widgets/controls",
      "model_module_version": "1.5.0",
      "model_name": "ButtonModel",
      "state": {
       "icon": "fast-forward",
       "layout": "IPY_MODEL_55083b71e4ac44a7a28e4ec30c409af8",
       "style": "IPY_MODEL_c25ab86770394f439b06f46fb4e12f06"
      }
     },
     "7cfff6dd06784f9ab84daa955f5f41c9": {
      "model_module": "@jupyter-widgets/base",
      "model_module_version": "1.2.0",
      "model_name": "LayoutModel",
      "state": {
       "height": "40px"
      }
     },
     "7f4a7b09af4740f5a208ca97264d245f": {
      "model_module": "@jupyter-widgets/base",
      "model_module_version": "1.2.0",
      "model_name": "LayoutModel",
      "state": {
       "width": "100%"
      }
     },
     "7f5f4b4bc75747b794f8fe60abd871b1": {
      "model_module": "@jupyter-widgets/base",
      "model_module_version": "1.2.0",
      "model_name": "LayoutModel",
      "state": {
       "width": "100%"
      }
     },
     "837d83fab17247f3961b8dad8e3e62db": {
      "model_module": "@jupyter-widgets/controls",
      "model_module_version": "1.5.0",
      "model_name": "LabelModel",
      "state": {
       "layout": "IPY_MODEL_3b8b58916b7e497289ec34abe91b5446",
       "style": "IPY_MODEL_59e2f245f1d840f4b38dbad62ab835d1",
       "value": "of 5.0"
      }
     },
     "851c60b54e744112867555c491ff673a": {
      "buffers": [
       {
        "data": "iVBORw0KGgoAAAANSUhEUgAAAQAAAACACAYAAADktbcKAAAB0UlEQVR4nO3YsRHCQBAEwYdS1FhvETQOhCBLdSqmO4K1xtjHWvu7gKTn9ABgjgBAmABA2DE9gH+2pwdwQgBuYU8PIOp4rc/0hlt6r/f0BLicDwDCBADCBADCBADCBADCBADCBADCBADCBADCBADCBADCBADCBADCBADCBADCBADCBADCBADCBADCBADCBADCBADCBADCBADCBADCBADCBADCBADCBADCBADCBADCBADCBADCBADCBADCBADCBADCBADCBADCBADCBADCBADCBADCBADCBADCBADCBADCBADCBADCBADCBADCBADCBADCBADCBADCBADCBADCBADCBADCBADCBADCBADCBADCBADCBADCBADCBADCBADCBADCBADCBADCBADCBADCBADCBADCBADCBADCBADCBADCBADCBADCBADCBADCBADCBADCBADCBADCBADCBADCBADCBADCBADCBADCBADCBADCBADCBADCBADCBADCBADCBADCBADCBADCBADCBADCBADCBADCBADCBADCBADCBADCBADCBADCBADCBADCBADCHmuv7/SIvD09gKpjegDrfwOwpwdwRgC4zp4ewBkfAIQJAIT9AO9HCYdT9xdpAAAAAElFTkSuQmCC",
        "encoding": "base64",
        "path": [
         "value"
        ]
       }
      ],
      "model_module": "@jupyter-widgets/controls",
      "model_module_version": "1.5.0",
      "model_name": "ImageModel",
      "state": {
       "layout": "IPY_MODEL_098417e448e6447db91ffb820b2cefe0"
      }
     },
     "94d2d8fc3daa454eb4d5190357529db3": {
      "model_module": "@jupyter-widgets/base",
      "model_module_version": "1.2.0",
      "model_name": "LayoutModel",
      "state": {}
     },
     "955a5c6759004713987015f02a444818": {
      "model_module": "@jupyter-widgets/controls",
      "model_module_version": "1.5.0",
      "model_name": "ButtonStyleModel",
      "state": {}
     },
     "957b92bdd94a4247b52ed82fbaaa14cd": {
      "model_module": "@jupyter-widgets/controls",
      "model_module_version": "1.5.0",
      "model_name": "FloatSliderModel",
      "state": {
       "continuous_update": false,
       "description": "Time:",
       "layout": "IPY_MODEL_dbe4c49b39ea47c8b4d604d2a3d1f62a",
       "max": 5,
       "readout_format": ".1f",
       "step": 0.1,
       "style": "IPY_MODEL_eceffabac40341e792653918d1e59440",
       "value": 2.8
      }
     },
     "9a3f1ea58c424c598f82937b96aa944d": {
      "model_module": "@jupyter-widgets/controls",
      "model_module_version": "1.5.0",
      "model_name": "HBoxModel",
      "state": {
       "children": [
        "IPY_MODEL_29c0b8e55cde4b1dad1a0f17008f4f20",
        "IPY_MODEL_d355f5fc88fb4893a5c9e3ac4942c24d",
        "IPY_MODEL_bc360ab3af414c5caf24e707ca85c606",
        "IPY_MODEL_6020ce67ed114d5681481aed385e24a5",
        "IPY_MODEL_73f5b851b0b4426fb384d4de4dfb1287",
        "IPY_MODEL_db16bef21fb94d7c83267a6e4efa6ac4"
       ],
       "layout": "IPY_MODEL_fee7681982384db5a35f0642b59b8886"
      }
     },
     "9aef98ee73bb4b07b49bfe745836dea0": {
      "model_module": "@jupyter-widgets/output",
      "model_module_version": "1.0.0",
      "model_name": "OutputModel",
      "state": {
       "layout": "IPY_MODEL_2b06b5c72d78421d9a2ae4b096d578c0"
      }
     },
     "a204bc4b0a814ba99946aa08dc702a51": {
      "model_module": "@jupyter-widgets/controls",
      "model_module_version": "1.5.0",
      "model_name": "HBoxModel",
      "state": {
       "children": [
        "IPY_MODEL_957b92bdd94a4247b52ed82fbaaa14cd",
        "IPY_MODEL_837d83fab17247f3961b8dad8e3e62db"
       ],
       "layout": "IPY_MODEL_7cfff6dd06784f9ab84daa955f5f41c9"
      }
     },
     "a737cd265e58451cbe469035f873fc86": {
      "model_module": "@jupyter-widgets/controls",
      "model_module_version": "1.5.0",
      "model_name": "ProgressStyleModel",
      "state": {
       "description_width": ""
      }
     },
     "adb2c20e088a46698daad216720e41a8": {
      "model_module": "@jupyter-widgets/base",
      "model_module_version": "1.2.0",
      "model_name": "LayoutModel",
      "state": {
       "margin": "auto"
      }
     },
     "b1d43729c57e4ce5aea6a9b6978b48b1": {
      "model_module": "@jupyter-widgets/base",
      "model_module_version": "1.2.0",
      "model_name": "LayoutModel",
      "state": {
       "width": "100%"
      }
     },
     "bc360ab3af414c5caf24e707ca85c606": {
      "model_module": "@jupyter-widgets/controls",
      "model_module_version": "1.5.0",
      "model_name": "FloatTextModel",
      "state": {
       "layout": "IPY_MODEL_3d4e4b12400b4cd088f9d2f594e7f42d",
       "step": null,
       "style": "IPY_MODEL_0a064e962e4b493496cd202cd1b252fc",
       "value": 2.8
      }
     },
     "c25ab86770394f439b06f46fb4e12f06": {
      "model_module": "@jupyter-widgets/controls",
      "model_module_version": "1.5.0",
      "model_name": "ButtonStyleModel",
      "state": {}
     },
     "c5713ccf95314ae9830548c7989e4be7": {
      "model_module": "@jupyter-widgets/base",
      "model_module_version": "1.2.0",
      "model_name": "LayoutModel",
      "state": {}
     },
     "ccd0a0e12cd446e4b6dd4e93659aa890": {
      "model_module": "@jupyter-widgets/controls",
      "model_module_version": "1.5.0",
      "model_name": "DescriptionStyleModel",
      "state": {
       "description_width": ""
      }
     },
     "d355f5fc88fb4893a5c9e3ac4942c24d": {
      "model_module": "@jupyter-widgets/controls",
      "model_module_version": "1.5.0",
      "model_name": "ButtonModel",
      "state": {
       "icon": "backward",
       "layout": "IPY_MODEL_40f48fe22c3a4e74bf2601dbb9cef670",
       "style": "IPY_MODEL_955a5c6759004713987015f02a444818"
      }
     },
     "d38a85af0c84442bb3690ebaed7586ec": {
      "model_module": "@jupyter-widgets/controls",
      "model_module_version": "1.5.0",
      "model_name": "ButtonStyleModel",
      "state": {}
     },
     "d75a2cf4d88648e48a3280a5d3f6e5b2": {
      "model_module": "@jupyter-widgets/controls",
      "model_module_version": "1.5.0",
      "model_name": "VBoxModel",
      "state": {
       "children": [
        "IPY_MODEL_110f5a991ee14e6bb1f60812a6324f39",
        "IPY_MODEL_9aef98ee73bb4b07b49bfe745836dea0"
       ],
       "layout": "IPY_MODEL_94d2d8fc3daa454eb4d5190357529db3"
      }
     },
     "d830a23a9eb84be18bf6e3baa9e2568f": {
      "model_module": "@jupyter-widgets/base",
      "model_module_version": "1.2.0",
      "model_name": "LayoutModel",
      "state": {}
     },
     "d9d8f33bcb3a428c9c66aa4fb51f5f84": {
      "model_module": "@jupyter-widgets/controls",
      "model_module_version": "1.5.0",
      "model_name": "FloatProgressModel",
      "state": {
       "bar_style": "success",
       "layout": "IPY_MODEL_d830a23a9eb84be18bf6e3baa9e2568f",
       "max": 50,
       "style": "IPY_MODEL_a737cd265e58451cbe469035f873fc86",
       "value": 50
      }
     },
     "db16bef21fb94d7c83267a6e4efa6ac4": {
      "model_module": "@jupyter-widgets/controls",
      "model_module_version": "1.5.0",
      "model_name": "ButtonModel",
      "state": {
       "description": "Play",
       "icon": "play",
       "layout": "IPY_MODEL_7f4a7b09af4740f5a208ca97264d245f",
       "style": "IPY_MODEL_f942ff58fbcc4ac59b22e0367e5c75af"
      }
     },
     "dbe4c49b39ea47c8b4d604d2a3d1f62a": {
      "model_module": "@jupyter-widgets/base",
      "model_module_version": "1.2.0",
      "model_name": "LayoutModel",
      "state": {
       "width": "100%"
      }
     },
     "e9374d9800e94db8b8974e86b4b069cf": {
      "model_module": "@jupyter-widgets/base",
      "model_module_version": "1.2.0",
      "model_name": "LayoutModel",
      "state": {}
     },
     "eceffabac40341e792653918d1e59440": {
      "model_module": "@jupyter-widgets/controls",
      "model_module_version": "1.5.0",
      "model_name": "SliderStyleModel",
      "state": {
       "description_width": "initial"
      }
     },
     "ed3263940b434b39a261dfc8e8c3fed6": {
      "model_module": "@jupyter-widgets/controls",
      "model_module_version": "1.5.0",
      "model_name": "DescriptionStyleModel",
      "state": {
       "description_width": ""
      }
     },
     "f3c7de3c6abb4e7ba0739a6cf73e7211": {
      "model_module": "@jupyter-widgets/base",
      "model_module_version": "1.2.0",
      "model_name": "LayoutModel",
      "state": {}
     },
     "f942ff58fbcc4ac59b22e0367e5c75af": {
      "model_module": "@jupyter-widgets/controls",
      "model_module_version": "1.5.0",
      "model_name": "ButtonStyleModel",
      "state": {}
     },
     "fee7681982384db5a35f0642b59b8886": {
      "model_module": "@jupyter-widgets/base",
      "model_module_version": "1.2.0",
      "model_name": "LayoutModel",
      "state": {
       "height": "50px",
       "width": "100%"
      }
     }
    },
    "version_major": 2,
    "version_minor": 0
   }
  }
 },
 "nbformat": 4,
 "nbformat_minor": 4
}
