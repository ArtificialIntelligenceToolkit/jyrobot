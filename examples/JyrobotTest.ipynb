{
 "cells": [
  {
   "cell_type": "markdown",
   "metadata": {},
   "source": [
    "# Example 1"
   ]
  },
  {
   "cell_type": "code",
   "execution_count": null,
   "metadata": {},
   "outputs": [],
   "source": [
    "import jyrobot\n",
    "import random"
   ]
  },
  {
   "cell_type": "code",
   "execution_count": null,
   "metadata": {},
   "outputs": [],
   "source": [
    "jyrobot.load_world()"
   ]
  },
  {
   "cell_type": "code",
   "execution_count": null,
   "metadata": {},
   "outputs": [],
   "source": [
    "world = jyrobot.load_world(\"two-scribblers\")"
   ]
  },
  {
   "cell_type": "code",
   "execution_count": 4,
   "metadata": {},
   "outputs": [
    {
     "data": {
      "application/vnd.jupyter.widget-view+json": {
       "model_id": "715e7d0fe8d641d8a1c3126b09fdd823",
       "version_major": 2,
       "version_minor": 0
      },
      "text/plain": [
       "Image(value=b'\\xff\\xd8\\xff\\xe0\\x00\\x10JFIF\\x00\\x01\\x01\\x00\\x00\\x01\\x00\\x01\\x00\\x00\\xff\\xdb\\x00C\\x00\\x08\\x06\\x0…"
      ]
     },
     "metadata": {},
     "output_type": "display_data"
    }
   ],
   "source": [
    "world.watch()"
   ]
  },
  {
   "cell_type": "code",
   "execution_count": 5,
   "metadata": {},
   "outputs": [
    {
     "data": {
      "image/png": "[encoded data removed]",
      "text/plain": [
       "<PIL.Image.Image image mode=RGB size=200x200 at 0x7F3C40519610>"
      ]
     },
     "execution_count": 5,
     "metadata": {},
     "output_type": "execute_result"
    }
   ],
   "source": [
    "world.take_picture(\"blue\", size=200)"
   ]
  },
  {
   "cell_type": "code",
   "execution_count": 6,
   "metadata": {},
   "outputs": [
    {
     "name": "stdout",
     "output_type": "stream",
     "text": [
      "This world was loaded from '/home/dblank/jyrobot/jyrobot/worlds/two-scribblers.json'\n",
      "Robots:\n",
      "-------------------------\n",
      "  robot[0 or 'Red']: <Robot(name='Red', position=430,50,16.69 v=0,0,-0.08)>\n",
      "      device[0 or 'camera']: <Camera size=(256,128), angle=60.0>\n",
      "      device[1 or 'laser']: <RangeSensor angle=0.0, range=100, width=0.0>\n",
      "      device[2 or 'ir']: <RangeSensor angle=90.0, range=20, width=57.3>\n",
      "      device[3 or 'ir']: <RangeSensor angle=-90.0, range=20, width=57.3>\n",
      "  -------------------------\n",
      "  robot[1 or 'Blue']: <Robot(name='Blue', position=30,50,-17.24 v=0,0,1.73)>\n",
      "      device[0 or 'camera']: <Camera size=(256,128), angle=60.0>\n",
      "      device[1 or 'laser']: <RangeSensor angle=0.0, range=100, width=0.0>\n",
      "      device[2 or 'ir']: <RangeSensor angle=0.0, range=20, width=57.3>\n",
      "      device[3 or 'ir']: <RangeSensor angle=0.0, range=20, width=57.3>\n",
      "  -------------------------\n"
     ]
    }
   ],
   "source": [
    "world.info()"
   ]
  },
  {
   "cell_type": "code",
   "execution_count": 7,
   "metadata": {},
   "outputs": [
    {
     "data": {
      "text/plain": [
       "<Camera size=(256,128), angle=60.0>"
      ]
     },
     "execution_count": 7,
     "metadata": {},
     "output_type": "execute_result"
    }
   ],
   "source": [
    "world[\"red\"][\"camera\"]"
   ]
  },
  {
   "cell_type": "code",
   "execution_count": 8,
   "metadata": {},
   "outputs": [
    {
     "data": {
      "image/png": "[encoded data removed]",
      "text/plain": [
       "<PIL.Image.Image image mode=RGBA size=256x128 at 0x7F3C4059A670>"
      ]
     },
     "execution_count": 8,
     "metadata": {},
     "output_type": "execute_result"
    }
   ],
   "source": [
    "world[\"red\"][\"camera\"].take_picture()"
   ]
  },
  {
   "cell_type": "code",
   "execution_count": 9,
   "metadata": {},
   "outputs": [],
   "source": [
    "world[0].move(1, 0)\n",
    "world[1].move(1, 0)\n",
    "\n",
    "step = 0\n",
    "\n",
    "def control(robot):\n",
    "    global step\n",
    "    if robot.stalled:\n",
    "        robot.reverse()\n",
    "        robot.turn(1 - random.random() * 2)\n",
    "    if random.random() < .1:\n",
    "        robot.turn(1 - random.random() * 2)\n",
    "    #if step % 100 == 0:\n",
    "    #    world.display(world.take_picture())\n",
    "    step += 1"
   ]
  },
  {
   "cell_type": "code",
   "execution_count": 10,
   "metadata": {},
   "outputs": [],
   "source": [
    "world.save()"
   ]
  },
  {
   "cell_type": "code",
   "execution_count": 11,
   "metadata": {},
   "outputs": [
    {
     "name": "stdout",
     "output_type": "stream",
     "text": [
      "Reusing random seed: 7481669\n"
     ]
    }
   ],
   "source": [
    "recorder = world.record()"
   ]
  },
  {
   "cell_type": "code",
   "execution_count": 12,
   "metadata": {},
   "outputs": [
    {
     "data": {
      "application/vnd.jupyter.widget-view+json": {
       "model_id": "0e24f7137bee478b8bccf8562f4d5328",
       "version_major": 2,
       "version_minor": 0
      },
      "text/plain": [
       "HBox(children=(HTML(value=''), FloatProgress(value=0.0, max=50.0), HTML(value='')))"
      ]
     },
     "metadata": {},
     "output_type": "display_data"
    },
    {
     "name": "stdout",
     "output_type": "stream",
     "text": [
      "\n",
      "Simulation stopped at: 00:00:05.0; speed 0.96 x real time\n"
     ]
    }
   ],
   "source": [
    "world.seconds(5, [control, control])"
   ]
  },
  {
   "cell_type": "code",
   "execution_count": 13,
   "metadata": {},
   "outputs": [
    {
     "data": {
      "application/vnd.jupyter.widget-view+json": {
       "model_id": "54539ef485da4f22a1a9dac751723afd",
       "version_major": 2,
       "version_minor": 0
      },
      "text/plain": [
       "HBox(children=(HTML(value=''), FloatProgress(value=0.0, max=2000.0), HTML(value='')))"
      ]
     },
     "metadata": {},
     "output_type": "display_data"
    },
    {
     "name": "stdout",
     "output_type": "stream",
     "text": [
      "\n",
      "Simulation stopped at: 00:03:25.0; speed 38.42 x real time\n"
     ]
    }
   ],
   "source": [
    "world.seconds(200, [control, control], show=True, real_time=False)"
   ]
  },
  {
   "cell_type": "code",
   "execution_count": 13,
   "metadata": {},
   "outputs": [
    {
     "data": {
      "application/vnd.jupyter.widget-view+json": {
       "model_id": "474cd651d80146e19a110de30de56f48",
       "version_major": 2,
       "version_minor": 0
      },
      "text/plain": [
       "HBox(children=(HTML(value=''), FloatProgress(value=0.0, max=2000.0), HTML(value='')))"
      ]
     },
     "metadata": {},
     "output_type": "display_data"
    },
    {
     "name": "stdout",
     "output_type": "stream",
     "text": [
      "\n",
      "Simulation stopped at: 00:06:45.0; speed 61.62 x real time\n"
     ]
    }
   ],
   "source": [
    "world.seconds(200, [control, control], show=False)"
   ]
  },
  {
   "cell_type": "code",
   "execution_count": 26,
   "metadata": {},
   "outputs": [
    {
     "name": "stdout",
     "output_type": "stream",
     "text": [
      "Simulation stopped at: 00:03:20.0; speed 62.29 x real time\n"
     ]
    }
   ],
   "source": [
    "world.seconds(200, [control, control], show=False, show_progress=False)"
   ]
  },
  {
   "cell_type": "code",
   "execution_count": 14,
   "metadata": {},
   "outputs": [
    {
     "data": {
      "application/vnd.jupyter.widget-view+json": {
       "model_id": "f4af3bd9c115465c8cb385fba51aa18e",
       "version_major": 2,
       "version_minor": 0
      },
      "text/plain": [
       "Player(children=(VBox(children=(HBox(children=(FloatSlider(value=0.0, continuous_update=False, description='Ti…"
      ]
     },
     "metadata": {},
     "output_type": "display_data"
    },
    {
     "data": {
      "image/png": "[encoded data removed]",
      "text/plain": [
       "<PIL.Image.Image image mode=RGB size=1500x750 at 0x7F3C2B128CA0>"
      ]
     },
     "metadata": {},
     "output_type": "display_data"
    }
   ],
   "source": [
    "recorder.watch()"
   ]
  },
  {
   "cell_type": "code",
   "execution_count": 17,
   "metadata": {},
   "outputs": [
    {
     "data": {
      "text/plain": [
       "[(429.8885396511654, 49.83393799158847, 16.687627049068894),\n",
       " (30.02062313611395, 50.19893387408087, -17.382058890720486)]"
      ]
     },
     "execution_count": 17,
     "metadata": {},
     "output_type": "execute_result"
    }
   ],
   "source": [
    "recorder.poses[0]"
   ]
  },
  {
   "cell_type": "code",
   "execution_count": 32,
   "metadata": {},
   "outputs": [
    {
     "data": {
      "image/png": "[encoded data removed]",
      "text/plain": [
       "<PIL.Image.Image image mode=RGBA size=256x128 at 0x7F8BECD63610>"
      ]
     },
     "execution_count": 32,
     "metadata": {},
     "output_type": "execute_result"
    }
   ],
   "source": [
    "recorder.world[\"blue\"][\"camera\"].take_picture()"
   ]
  },
  {
   "cell_type": "code",
   "execution_count": 25,
   "metadata": {},
   "outputs": [
    {
     "name": "stdout",
     "output_type": "stream",
     "text": [
      "Removing robots from world...\n",
      "Reusing random seed: 7481669\n"
     ]
    }
   ],
   "source": [
    "world.reset()"
   ]
  },
  {
   "cell_type": "markdown",
   "metadata": {},
   "source": [
    "# Example 2"
   ]
  },
  {
   "cell_type": "code",
   "execution_count": 23,
   "metadata": {},
   "outputs": [],
   "source": [
    "import jyrobot\n",
    "import time\n",
    "from jyrobot.utils import gallery"
   ]
  },
  {
   "cell_type": "code",
   "execution_count": 17,
   "metadata": {
    "collapsed": true,
    "jupyter": {
     "outputs_hidden": true
    }
   },
   "outputs": [
    {
     "name": "stdout",
     "output_type": "stream",
     "text": [
      "Reusing random seed: 10\n"
     ]
    },
    {
     "data": {
      "application/vnd.jupyter.widget-view+json": {
       "model_id": "4f5bbd437cc3467598d15622dc520e3f",
       "version_major": 2,
       "version_minor": 0
      },
      "text/plain": [
       "Image(value=b'\\xff\\xd8\\xff\\xe0\\x00\\x10JFIF\\x00\\x01\\x01\\x00\\x00\\x01\\x00\\x01\\x00\\x00\\xff\\xdb\\x00C\\x00\\x08\\x06\\x0…"
      ]
     },
     "metadata": {},
     "output_type": "display_data"
    }
   ],
   "source": [
    "w = jyrobot.World(width=500, height=500, ground_color=\"white\", seed=10, scale=10)\n",
    "w.get_widget()"
   ]
  },
  {
   "cell_type": "code",
   "execution_count": 18,
   "metadata": {},
   "outputs": [],
   "source": [
    "for i in range(20):\n",
    "    robot = jyrobot.Scribbler(color=\"blue\", name=\"Scribby-%s\" % i)\n",
    "    sensor = jyrobot.Camera()\n",
    "    robot.add_device(sensor)\n",
    "    w.add_robot(robot)\n",
    "w.draw()"
   ]
  },
  {
   "cell_type": "code",
   "execution_count": 19,
   "metadata": {},
   "outputs": [],
   "source": [
    "from jyrobot.utils import Color\n",
    "import random\n",
    "for robot in w:\n",
    "    robot.set_color( Color(\n",
    "        255 * random.random(), \n",
    "        255 * random.random(), \n",
    "        255 * random.random(), \n",
    "   ))\n",
    "w.draw()"
   ]
  },
  {
   "cell_type": "code",
   "execution_count": 20,
   "metadata": {},
   "outputs": [
    {
     "name": "stdout",
     "output_type": "stream",
     "text": [
      "CPU times: user 3.25 s, sys: 3.8 ms, total: 3.25 s\n",
      "Wall time: 3.25 s\n"
     ]
    }
   ],
   "source": [
    "%%time\n",
    "pics = []\n",
    "for robot in w:\n",
    "    pic = robot[\"camera\"].take_picture()\n",
    "    pics.append(pic)"
   ]
  },
  {
   "cell_type": "code",
   "execution_count": 24,
   "metadata": {},
   "outputs": [
    {
     "data": {
      "image/png": "[encoded data removed]",
      "text/plain": [
       "<PIL.Image.Image image mode=RGBA size=1290x520 at 0x7F97632398E0>"
      ]
     },
     "execution_count": 24,
     "metadata": {},
     "output_type": "execute_result"
    }
   ],
   "source": [
    "gallery(*pics)"
   ]
  },
  {
   "cell_type": "code",
   "execution_count": 25,
   "metadata": {},
   "outputs": [
    {
     "name": "stdout",
     "output_type": "stream",
     "text": [
      "CPU times: user 2.73 ms, sys: 12 ms, total: 14.8 ms\n",
      "Wall time: 12.2 ms\n"
     ]
    }
   ],
   "source": [
    "%%time\n",
    "pics = []\n",
    "for i, robot in enumerate(w):\n",
    "    pic = w.take_picture(i, size=200)\n",
    "    pics.append(pic)"
   ]
  },
  {
   "cell_type": "code",
   "execution_count": 27,
   "metadata": {},
   "outputs": [
    {
     "data": {
      "image/png": "[encoded data removed]",
      "text/plain": [
       "<PIL.Image.Image image mode=RGBA size=1010x808 at 0x7F9763182130>"
      ]
     },
     "execution_count": 27,
     "metadata": {},
     "output_type": "execute_result"
    }
   ],
   "source": [
    "gallery(*pics, background_color=\"black\")"
   ]
  },
  {
   "cell_type": "code",
   "execution_count": 28,
   "metadata": {},
   "outputs": [],
   "source": [
    "for robot in w:\n",
    "    robot.move(1,0)"
   ]
  },
  {
   "cell_type": "code",
   "execution_count": 29,
   "metadata": {},
   "outputs": [],
   "source": [
    "def control(world):\n",
    "    for robot in world:\n",
    "        if robot.stalled:\n",
    "            robot.reverse()\n",
    "        robot.turn(1 - random.random() * 2)"
   ]
  },
  {
   "cell_type": "code",
   "execution_count": 30,
   "metadata": {},
   "outputs": [
    {
     "data": {
      "application/vnd.jupyter.widget-view+json": {
       "model_id": "a72880d22b6b43eabb312f989291974e",
       "version_major": 2,
       "version_minor": 0
      },
      "text/plain": [
       "HBox(children=(HTML(value=''), FloatProgress(value=1.0, bar_style='info', layout=Layout(width='20px'), max=1.0…"
      ]
     },
     "metadata": {},
     "output_type": "display_data"
    },
    {
     "name": "stdout",
     "output_type": "stream",
     "text": [
      "\n",
      "Simulation stopped at: 00:01:11.5; speed 4.37 x real time\n"
     ]
    }
   ],
   "source": [
    "w.run(control, show=True, real_time=False)"
   ]
  },
  {
   "cell_type": "markdown",
   "metadata": {},
   "source": [
    "# Example 3"
   ]
  },
  {
   "cell_type": "code",
   "execution_count": 31,
   "metadata": {},
   "outputs": [],
   "source": [
    "import jyrobot as jr\n",
    "import random"
   ]
  },
  {
   "cell_type": "code",
   "execution_count": 32,
   "metadata": {},
   "outputs": [
    {
     "name": "stdout",
     "output_type": "stream",
     "text": [
      "Random seed initialized to: 9592275\n"
     ]
    }
   ],
   "source": [
    "w = jr.World(width=100, height=100, scale=10)"
   ]
  },
  {
   "cell_type": "code",
   "execution_count": 33,
   "metadata": {
    "collapsed": true,
    "jupyter": {
     "outputs_hidden": true
    }
   },
   "outputs": [
    {
     "data": {
      "application/vnd.jupyter.widget-view+json": {
       "model_id": "19cb8233ece54132bbcd63be96bc8816",
       "version_major": 2,
       "version_minor": 0
      },
      "text/plain": [
       "Image(value=b'\\xff\\xd8\\xff\\xe0\\x00\\x10JFIF\\x00\\x01\\x01\\x00\\x00\\x01\\x00\\x01\\x00\\x00\\xff\\xdb\\x00C\\x00\\x08\\x06\\x0…"
      ]
     },
     "metadata": {},
     "output_type": "display_data"
    }
   ],
   "source": [
    "w.get_widget()"
   ]
  },
  {
   "cell_type": "code",
   "execution_count": 34,
   "metadata": {},
   "outputs": [],
   "source": [
    "r = jr.Scribbler()"
   ]
  },
  {
   "cell_type": "code",
   "execution_count": 35,
   "metadata": {},
   "outputs": [],
   "source": [
    "w.add_robot(r)\n",
    "w.update()"
   ]
  },
  {
   "cell_type": "code",
   "execution_count": 36,
   "metadata": {},
   "outputs": [],
   "source": [
    "sensor = jr.RangeSensor()"
   ]
  },
  {
   "cell_type": "code",
   "execution_count": 37,
   "metadata": {},
   "outputs": [],
   "source": [
    "r.add_device(sensor)\n",
    "w.update()"
   ]
  },
  {
   "cell_type": "code",
   "execution_count": 38,
   "metadata": {},
   "outputs": [],
   "source": [
    "r.forward(1)\n",
    "\n",
    "def control(world):\n",
    "    for robot in world:\n",
    "        if robot.stalled:\n",
    "            robot.reverse()\n",
    "        robot.turn(1 - random.random() * 2)"
   ]
  },
  {
   "cell_type": "code",
   "execution_count": 39,
   "metadata": {
    "collapsed": true,
    "jupyter": {
     "outputs_hidden": true
    }
   },
   "outputs": [
    {
     "data": {
      "application/vnd.jupyter.widget-view+json": {
       "model_id": "c9194ceca09e4056afb60f17a1735f78",
       "version_major": 2,
       "version_minor": 0
      },
      "text/plain": [
       "Figure(axes=[Axis(label='x', scale=LinearScale()), Axis(label='y', orientation='vertical', scale=LinearScale()…"
      ]
     },
     "metadata": {},
     "output_type": "display_data"
    }
   ],
   "source": [
    "r.plot(lambda robot: (robot.x, robot.world.width - robot.y), wheres=[\"panel\"])"
   ]
  },
  {
   "cell_type": "code",
   "execution_count": 41,
   "metadata": {},
   "outputs": [
    {
     "data": {
      "application/vnd.jupyter.widget-view+json": {
       "model_id": "63752104c18741fb95bbf9e680188638",
       "version_major": 2,
       "version_minor": 0
      },
      "text/plain": [
       "HBox(children=(HTML(value=''), FloatProgress(value=0.0, max=1.0), HTML(value='')))"
      ]
     },
     "metadata": {},
     "output_type": "display_data"
    },
    {
     "name": "stdout",
     "output_type": "stream",
     "text": [
      "\n",
      "Simulation stopped at: 00:00:00.2; speed 0.7 x real time\n"
     ]
    }
   ],
   "source": [
    "w.seconds(.1, control, show=True, real_time=True)"
   ]
  },
  {
   "cell_type": "code",
   "execution_count": 42,
   "metadata": {},
   "outputs": [
    {
     "data": {
      "application/vnd.jupyter.widget-view+json": {
       "model_id": "31e550146ce84475824cbd9ca157f9a8",
       "version_major": 2,
       "version_minor": 0
      },
      "text/plain": [
       "HBox(children=(HTML(value=''), FloatProgress(value=0.0), HTML(value='')))"
      ]
     },
     "metadata": {},
     "output_type": "display_data"
    },
    {
     "name": "stdout",
     "output_type": "stream",
     "text": [
      "\n",
      "Simulation stopped at: 00:00:10.2; speed 0.97 x real time\n"
     ]
    }
   ],
   "source": [
    "w.seconds(10, control, show=True, real_time=True)"
   ]
  },
  {
   "cell_type": "code",
   "execution_count": 43,
   "metadata": {},
   "outputs": [
    {
     "data": {
      "application/vnd.jupyter.widget-view+json": {
       "model_id": "b5f884c16c114d088e0f65a633f443b9",
       "version_major": 2,
       "version_minor": 0
      },
      "text/plain": [
       "HBox(children=(HTML(value=''), FloatProgress(value=1.0, bar_style='info', layout=Layout(width='20px'), max=1.0…"
      ]
     },
     "metadata": {},
     "output_type": "display_data"
    },
    {
     "name": "stdout",
     "output_type": "stream",
     "text": [
      "\n",
      "Simulation stopped at: 00:00:31.3; speed 0.99 x real time\n"
     ]
    }
   ],
   "source": [
    "w.run(control, show=True, real_time=True)"
   ]
  },
  {
   "cell_type": "code",
   "execution_count": 44,
   "metadata": {},
   "outputs": [
    {
     "data": {
      "application/vnd.jupyter.widget-view+json": {
       "model_id": "d6c7040dd8a341eb830816a2b4d2b00c",
       "version_major": 2,
       "version_minor": 0
      },
      "text/plain": [
       "HBox(children=(HTML(value=''), FloatProgress(value=0.0), HTML(value='')))"
      ]
     },
     "metadata": {},
     "output_type": "display_data"
    },
    {
     "name": "stdout",
     "output_type": "stream",
     "text": [
      "\n",
      "Simulation stopped at: 00:00:41.3; speed 92.65 x real time\n"
     ]
    }
   ],
   "source": [
    "w.seconds(10, control, show=True, real_time=False)"
   ]
  },
  {
   "cell_type": "code",
   "execution_count": 45,
   "metadata": {},
   "outputs": [
    {
     "data": {
      "application/vnd.jupyter.widget-view+json": {
       "model_id": "e588698d9f3e448c807515ed6f163bcf",
       "version_major": 2,
       "version_minor": 0
      },
      "text/plain": [
       "HBox(children=(HTML(value=''), FloatProgress(value=0.0), HTML(value='')))"
      ]
     },
     "metadata": {},
     "output_type": "display_data"
    },
    {
     "name": "stdout",
     "output_type": "stream",
     "text": [
      "\n",
      "Simulation stopped at: 00:00:51.3; speed 174.58 x real time\n"
     ]
    }
   ],
   "source": [
    "w.seconds(10, control, show=False)"
   ]
  },
  {
   "cell_type": "code",
   "execution_count": 46,
   "metadata": {},
   "outputs": [],
   "source": [
    "r.set_pose(50, 50, 180)"
   ]
  },
  {
   "cell_type": "code",
   "execution_count": 47,
   "metadata": {},
   "outputs": [],
   "source": [
    "r.set_color(\"purple\")"
   ]
  },
  {
   "cell_type": "code",
   "execution_count": 48,
   "metadata": {},
   "outputs": [],
   "source": [
    "w.update()"
   ]
  },
  {
   "cell_type": "code",
   "execution_count": 50,
   "metadata": {},
   "outputs": [
    {
     "data": {
      "image/png": "[encoded data removed]",
      "text/plain": [
       "<PIL.Image.Image image mode=RGB size=1000x1000 at 0x7F976321F2B0>"
      ]
     },
     "execution_count": 50,
     "metadata": {},
     "output_type": "execute_result"
    }
   ],
   "source": [
    "w.take_picture()"
   ]
  },
  {
   "cell_type": "code",
   "execution_count": null,
   "metadata": {},
   "outputs": [],
   "source": []
  }
 ],
 "metadata": {
  "kernelspec": {
   "display_name": "Python 3",
   "language": "python",
   "name": "python3"
  },
  "language_info": {
   "codemirror_mode": {
    "name": "ipython",
    "version": 3
   },
   "file_extension": ".py",
   "mimetype": "text/x-python",
   "name": "python",
   "nbconvert_exporter": "python",
   "pygments_lexer": "ipython3",
   "version": "3.8.5"
  },
  "widgets": {
   "application/vnd.jupyter.widget-state+json": {
    "state": {
     "06dca5c49992455d8fbb8c896fd0f147": {
      "model_module": "@jupyter-widgets/controls",
      "model_module_version": "1.5.0",
      "model_name": "HTMLModel",
      "state": {
       "layout": "IPY_MODEL_47c139760fb24857a898fffe41fa6d3c",
       "style": "IPY_MODEL_3743fadd9bf7417a9a69852ce69bd5f3",
       "value": " 2000/2000 [00:05&lt;00:00, 384.38it/s]"
      }
     },
     "07c86fa115b6481e98b019f42b524328": {
      "model_module": "@jupyter-widgets/base",
      "model_module_version": "1.2.0",
      "model_name": "LayoutModel",
      "state": {
       "width": "100%"
      }
     },
     "0e24f7137bee478b8bccf8562f4d5328": {
      "model_module": "@jupyter-widgets/controls",
      "model_module_version": "1.5.0",
      "model_name": "HBoxModel",
      "state": {
       "children": [
        "IPY_MODEL_d14b377d1abb442ba9c3a2e15fbc5fa5",
        "IPY_MODEL_50f50aa10ecf4e59a489e643cb00eade",
        "IPY_MODEL_1e6db8bc4fa044ee94538bceedf9757e"
       ],
       "layout": "IPY_MODEL_6a01ce38494c4e528a4cda4da18247e9"
      }
     },
     "0f7a8add6363420792c67801ea7c1bc4": {
      "model_module": "@jupyter-widgets/base",
      "model_module_version": "1.2.0",
      "model_name": "LayoutModel",
      "state": {}
     },
     "165c1f472a634c6c9021876383236af1": {
      "model_module": "@jupyter-widgets/controls",
      "model_module_version": "1.5.0",
      "model_name": "ButtonModel",
      "state": {
       "icon": "backward",
       "layout": "IPY_MODEL_67277c5bd00546d78fa86534b154457c",
       "style": "IPY_MODEL_276b865809224ec98cd256534591e8fb"
      }
     },
     "1850c62713d9406dac698db04ad827d8": {
      "model_module": "@jupyter-widgets/controls",
      "model_module_version": "1.5.0",
      "model_name": "ButtonStyleModel",
      "state": {}
     },
     "1a6cb2085cb848fe80bb997543513f66": {
      "model_module": "@jupyter-widgets/base",
      "model_module_version": "1.2.0",
      "model_name": "LayoutModel",
      "state": {}
     },
     "1caef05bfad24b16a88149b55477a685": {
      "model_module": "@jupyter-widgets/controls",
      "model_module_version": "1.5.0",
      "model_name": "ButtonModel",
      "state": {
       "icon": "forward",
       "layout": "IPY_MODEL_07c86fa115b6481e98b019f42b524328",
       "style": "IPY_MODEL_1850c62713d9406dac698db04ad827d8"
      }
     },
     "1e6db8bc4fa044ee94538bceedf9757e": {
      "model_module": "@jupyter-widgets/controls",
      "model_module_version": "1.5.0",
      "model_name": "HTMLModel",
      "state": {
       "layout": "IPY_MODEL_db71884c3f57410d8aded21b60840463",
       "style": "IPY_MODEL_b696f4c55bc44279b4f2ba70605f71ee",
       "value": " 50/50 [00:07&lt;00:00,  6.34it/s]"
      }
     },
     "20a729d7a57748cda69f8f30214c5710": {
      "model_module": "@jupyter-widgets/base",
      "model_module_version": "1.2.0",
      "model_name": "LayoutModel",
      "state": {
       "width": "100%"
      }
     },
     "2361cf487b2644ff822ac856c06dfe99": {
      "model_module": "@jupyter-widgets/controls",
      "model_module_version": "1.5.0",
      "model_name": "LabelModel",
      "state": {
       "layout": "IPY_MODEL_5847d9b8a67f471f83b213b08aa5d0f6",
       "style": "IPY_MODEL_b9487628d54444b0b19d638015fe4c39",
       "value": "of 205.0"
      }
     },
     "276b865809224ec98cd256534591e8fb": {
      "model_module": "@jupyter-widgets/controls",
      "model_module_version": "1.5.0",
      "model_name": "ButtonStyleModel",
      "state": {}
     },
     "2fcbaabbf1a54636bd9c11755a947a3d": {
      "model_module": "@jupyter-widgets/base",
      "model_module_version": "1.2.0",
      "model_name": "LayoutModel",
      "state": {
       "height": "40px"
      }
     },
     "3743fadd9bf7417a9a69852ce69bd5f3": {
      "model_module": "@jupyter-widgets/controls",
      "model_module_version": "1.5.0",
      "model_name": "DescriptionStyleModel",
      "state": {
       "description_width": ""
      }
     },
     "3d04dad7a3734779b0854b7e7992b3be": {
      "model_module": "@jupyter-widgets/base",
      "model_module_version": "1.2.0",
      "model_name": "LayoutModel",
      "state": {
       "width": "100%"
      }
     },
     "3e5f9ed7cca04d5aa6f740170dd88eb6": {
      "model_module": "@jupyter-widgets/controls",
      "model_module_version": "1.5.0",
      "model_name": "FloatProgressModel",
      "state": {
       "bar_style": "success",
       "layout": "IPY_MODEL_41a919f2b2904f60a58baa5f0d5219a2",
       "max": 2000,
       "style": "IPY_MODEL_f1770f1aa92741f9b96f9715ac2b0486",
       "value": 2000
      }
     },
     "3f33df97fa8e4b5fb7cb00e6645d1bbf": {
      "model_module": "@jupyter-widgets/base",
      "model_module_version": "1.2.0",
      "model_name": "LayoutModel",
      "state": {
       "width": "100%"
      }
     },
     "41a919f2b2904f60a58baa5f0d5219a2": {
      "model_module": "@jupyter-widgets/base",
      "model_module_version": "1.2.0",
      "model_name": "LayoutModel",
      "state": {}
     },
     "47c139760fb24857a898fffe41fa6d3c": {
      "model_module": "@jupyter-widgets/base",
      "model_module_version": "1.2.0",
      "model_name": "LayoutModel",
      "state": {}
     },
     "50f28a2ec1a24994a30175276e5d4b52": {
      "model_module": "@jupyter-widgets/controls",
      "model_module_version": "1.5.0",
      "model_name": "SliderStyleModel",
      "state": {
       "description_width": "initial"
      }
     },
     "50f50aa10ecf4e59a489e643cb00eade": {
      "model_module": "@jupyter-widgets/controls",
      "model_module_version": "1.5.0",
      "model_name": "FloatProgressModel",
      "state": {
       "bar_style": "success",
       "layout": "IPY_MODEL_f4eea2e2b2c84e509154d50d63ae447c",
       "max": 50,
       "style": "IPY_MODEL_c64e792516ca43eaac564fa1f1e003c3",
       "value": 50
      }
     },
     "510055d87e424bcdabdeba67fb67ae21": {
      "model_module": "@jupyter-widgets/controls",
      "model_module_version": "1.5.0",
      "model_name": "DescriptionStyleModel",
      "state": {
       "description_width": ""
      }
     },
     "54539ef485da4f22a1a9dac751723afd": {
      "model_module": "@jupyter-widgets/controls",
      "model_module_version": "1.5.0",
      "model_name": "HBoxModel",
      "state": {
       "children": [
        "IPY_MODEL_9dca055f8215488da38b0446a6391f01",
        "IPY_MODEL_3e5f9ed7cca04d5aa6f740170dd88eb6",
        "IPY_MODEL_06dca5c49992455d8fbb8c896fd0f147"
       ],
       "layout": "IPY_MODEL_8bef744b6d114272ac5430a68cee6751"
      }
     },
     "571d5166305b4ede8bf50438f751fcd3": {
      "model_module": "@jupyter-widgets/output",
      "model_module_version": "1.0.0",
      "model_name": "OutputModel",
      "state": {
       "layout": "IPY_MODEL_9e27b7e7ffca47cf9c7bfdc948bf1b1d"
      }
     },
     "5847d9b8a67f471f83b213b08aa5d0f6": {
      "model_module": "@jupyter-widgets/base",
      "model_module_version": "1.2.0",
      "model_name": "LayoutModel",
      "state": {
       "width": "100px"
      }
     },
     "5979f8066e9d412aaa0ed5f1efaf4fe5": {
      "model_module": "@jupyter-widgets/base",
      "model_module_version": "1.2.0",
      "model_name": "LayoutModel",
      "state": {
       "height": "50px",
       "width": "100%"
      }
     },
     "605ab80f03174248998f4b8fbb46fac5": {
      "model_module": "@jupyter-widgets/base",
      "model_module_version": "1.2.0",
      "model_name": "LayoutModel",
      "state": {
       "width": "100%"
      }
     },
     "67062bb0d75840c4b0b60b89f6110b3f": {
      "model_module": "@jupyter-widgets/base",
      "model_module_version": "1.2.0",
      "model_name": "LayoutModel",
      "state": {
       "width": "100%"
      }
     },
     "67277c5bd00546d78fa86534b154457c": {
      "model_module": "@jupyter-widgets/base",
      "model_module_version": "1.2.0",
      "model_name": "LayoutModel",
      "state": {
       "width": "100%"
      }
     },
     "6953cca9d3b14cba825759062f4c6c2e": {
      "model_module": "@jupyter-widgets/controls",
      "model_module_version": "1.5.0",
      "model_name": "FloatSliderModel",
      "state": {
       "continuous_update": false,
       "description": "Time:",
       "layout": "IPY_MODEL_3d04dad7a3734779b0854b7e7992b3be",
       "max": 205,
       "readout_format": ".1f",
       "step": 0.1,
       "style": "IPY_MODEL_50f28a2ec1a24994a30175276e5d4b52",
       "value": 205
      }
     },
     "6a01ce38494c4e528a4cda4da18247e9": {
      "model_module": "@jupyter-widgets/base",
      "model_module_version": "1.2.0",
      "model_name": "LayoutModel",
      "state": {}
     },
     "715e7d0fe8d641d8a1c3126b09fdd823": {
      "buffers": [
       {
        "data": "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",
        "encoding": "base64",
        "path": [
         "value"
        ]
       }
      ],
      "model_module": "@jupyter-widgets/controls",
      "model_module_version": "1.5.0",
      "model_name": "ImageModel",
      "state": {
       "layout": "IPY_MODEL_fb70dd9b83d244298e11927f087c948f"
      }
     },
     "792f111c56b74a1ebdfc5d448f025116": {
      "model_module": "@jupyter-widgets/base",
      "model_module_version": "1.2.0",
      "model_name": "LayoutModel",
      "state": {
       "width": "100%"
      }
     },
     "85714be288f947c49b319cb74db1485c": {
      "model_module": "@jupyter-widgets/controls",
      "model_module_version": "1.5.0",
      "model_name": "ButtonStyleModel",
      "state": {}
     },
     "8bef744b6d114272ac5430a68cee6751": {
      "model_module": "@jupyter-widgets/base",
      "model_module_version": "1.2.0",
      "model_name": "LayoutModel",
      "state": {}
     },
     "95c3df1dd14744669da46c801d0d057f": {
      "model_module": "@jupyter-widgets/controls",
      "model_module_version": "1.5.0",
      "model_name": "VBoxModel",
      "state": {
       "children": [
        "IPY_MODEL_e3a80b070e974a44ad4440f1327b6b28",
        "IPY_MODEL_d2aa54762bf14148a6c2a7c63dcbe958"
       ],
       "layout": "IPY_MODEL_20a729d7a57748cda69f8f30214c5710"
      }
     },
     "9dca055f8215488da38b0446a6391f01": {
      "model_module": "@jupyter-widgets/controls",
      "model_module_version": "1.5.0",
      "model_name": "HTMLModel",
      "state": {
       "layout": "IPY_MODEL_fba5c82b9fba4c87b2236b1678342c1a",
       "style": "IPY_MODEL_c68d13a77f7a4c4ebe78c95073318f7e",
       "value": "100%"
      }
     },
     "9e27b7e7ffca47cf9c7bfdc948bf1b1d": {
      "model_module": "@jupyter-widgets/base",
      "model_module_version": "1.2.0",
      "model_name": "LayoutModel",
      "state": {}
     },
     "aba136ca3bd34cbc959127987720091c": {
      "model_module": "@jupyter-widgets/controls",
      "model_module_version": "1.5.0",
      "model_name": "FloatTextModel",
      "state": {
       "layout": "IPY_MODEL_3f33df97fa8e4b5fb7cb00e6645d1bbf",
       "step": null,
       "style": "IPY_MODEL_eb410d2e06554f03ac96a541968734f5",
       "value": 205
      }
     },
     "ad0b6e7c20b84fbfb6257ef8aa83aaa2": {
      "model_module": "@jupyter-widgets/controls",
      "model_module_version": "1.5.0",
      "model_name": "ButtonStyleModel",
      "state": {}
     },
     "b459730b52874a7f861673195351a557": {
      "model_module": "@jupyter-widgets/controls",
      "model_module_version": "1.5.0",
      "model_name": "ButtonStyleModel",
      "state": {}
     },
     "b696f4c55bc44279b4f2ba70605f71ee": {
      "model_module": "@jupyter-widgets/controls",
      "model_module_version": "1.5.0",
      "model_name": "DescriptionStyleModel",
      "state": {
       "description_width": ""
      }
     },
     "b9487628d54444b0b19d638015fe4c39": {
      "model_module": "@jupyter-widgets/controls",
      "model_module_version": "1.5.0",
      "model_name": "DescriptionStyleModel",
      "state": {
       "description_width": ""
      }
     },
     "c64e792516ca43eaac564fa1f1e003c3": {
      "model_module": "@jupyter-widgets/controls",
      "model_module_version": "1.5.0",
      "model_name": "ProgressStyleModel",
      "state": {
       "description_width": ""
      }
     },
     "c68d13a77f7a4c4ebe78c95073318f7e": {
      "model_module": "@jupyter-widgets/controls",
      "model_module_version": "1.5.0",
      "model_name": "DescriptionStyleModel",
      "state": {
       "description_width": ""
      }
     },
     "d14b377d1abb442ba9c3a2e15fbc5fa5": {
      "model_module": "@jupyter-widgets/controls",
      "model_module_version": "1.5.0",
      "model_name": "HTMLModel",
      "state": {
       "layout": "IPY_MODEL_1a6cb2085cb848fe80bb997543513f66",
       "style": "IPY_MODEL_510055d87e424bcdabdeba67fb67ae21",
       "value": "100%"
      }
     },
     "d2aa54762bf14148a6c2a7c63dcbe958": {
      "model_module": "@jupyter-widgets/controls",
      "model_module_version": "1.5.0",
      "model_name": "HBoxModel",
      "state": {
       "children": [
        "IPY_MODEL_ee9f6acfc9ff4c258170ac8d92fe091a",
        "IPY_MODEL_165c1f472a634c6c9021876383236af1",
        "IPY_MODEL_aba136ca3bd34cbc959127987720091c",
        "IPY_MODEL_1caef05bfad24b16a88149b55477a685",
        "IPY_MODEL_e4a76170d15946a2884e707361866892",
        "IPY_MODEL_ee23aa7e9fc5447ca575e8674b4228e0"
       ],
       "layout": "IPY_MODEL_5979f8066e9d412aaa0ed5f1efaf4fe5"
      }
     },
     "db71884c3f57410d8aded21b60840463": {
      "model_module": "@jupyter-widgets/base",
      "model_module_version": "1.2.0",
      "model_name": "LayoutModel",
      "state": {}
     },
     "e3a80b070e974a44ad4440f1327b6b28": {
      "model_module": "@jupyter-widgets/controls",
      "model_module_version": "1.5.0",
      "model_name": "HBoxModel",
      "state": {
       "children": [
        "IPY_MODEL_6953cca9d3b14cba825759062f4c6c2e",
        "IPY_MODEL_2361cf487b2644ff822ac856c06dfe99"
       ],
       "layout": "IPY_MODEL_2fcbaabbf1a54636bd9c11755a947a3d"
      }
     },
     "e4a76170d15946a2884e707361866892": {
      "model_module": "@jupyter-widgets/controls",
      "model_module_version": "1.5.0",
      "model_name": "ButtonModel",
      "state": {
       "icon": "fast-forward",
       "layout": "IPY_MODEL_67062bb0d75840c4b0b60b89f6110b3f",
       "style": "IPY_MODEL_b459730b52874a7f861673195351a557"
      }
     },
     "eb410d2e06554f03ac96a541968734f5": {
      "model_module": "@jupyter-widgets/controls",
      "model_module_version": "1.5.0",
      "model_name": "DescriptionStyleModel",
      "state": {
       "description_width": ""
      }
     },
     "ee23aa7e9fc5447ca575e8674b4228e0": {
      "model_module": "@jupyter-widgets/controls",
      "model_module_version": "1.5.0",
      "model_name": "ButtonModel",
      "state": {
       "description": "Play",
       "icon": "play",
       "layout": "IPY_MODEL_605ab80f03174248998f4b8fbb46fac5",
       "style": "IPY_MODEL_ad0b6e7c20b84fbfb6257ef8aa83aaa2"
      }
     },
     "ee9f6acfc9ff4c258170ac8d92fe091a": {
      "model_module": "@jupyter-widgets/controls",
      "model_module_version": "1.5.0",
      "model_name": "ButtonModel",
      "state": {
       "icon": "fast-backward",
       "layout": "IPY_MODEL_792f111c56b74a1ebdfc5d448f025116",
       "style": "IPY_MODEL_85714be288f947c49b319cb74db1485c"
      }
     },
     "f1770f1aa92741f9b96f9715ac2b0486": {
      "model_module": "@jupyter-widgets/controls",
      "model_module_version": "1.5.0",
      "model_name": "ProgressStyleModel",
      "state": {
       "description_width": ""
      }
     },
     "f4af3bd9c115465c8cb385fba51aa18e": {
      "model_module": "@jupyter-widgets/controls",
      "model_module_version": "1.5.0",
      "model_name": "VBoxModel",
      "state": {
       "children": [
        "IPY_MODEL_95c3df1dd14744669da46c801d0d057f",
        "IPY_MODEL_571d5166305b4ede8bf50438f751fcd3"
       ],
       "layout": "IPY_MODEL_0f7a8add6363420792c67801ea7c1bc4"
      }
     },
     "f4eea2e2b2c84e509154d50d63ae447c": {
      "model_module": "@jupyter-widgets/base",
      "model_module_version": "1.2.0",
      "model_name": "LayoutModel",
      "state": {}
     },
     "fb70dd9b83d244298e11927f087c948f": {
      "model_module": "@jupyter-widgets/base",
      "model_module_version": "1.2.0",
      "model_name": "LayoutModel",
      "state": {
       "margin": "auto"
      }
     },
     "fba5c82b9fba4c87b2236b1678342c1a": {
      "model_module": "@jupyter-widgets/base",
      "model_module_version": "1.2.0",
      "model_name": "LayoutModel",
      "state": {}
     }
    },
    "version_major": 2,
    "version_minor": 0
   }
  }
 },
 "nbformat": 4,
 "nbformat_minor": 4
}
