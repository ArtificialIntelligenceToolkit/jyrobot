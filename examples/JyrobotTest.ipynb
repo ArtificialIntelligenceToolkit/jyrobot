{
 "cells": [
  {
   "cell_type": "markdown",
   "metadata": {},
   "source": [
    "# Example 1"
   ]
  },
  {
   "cell_type": "code",
   "execution_count": 27,
   "metadata": {},
   "outputs": [],
   "source": [
    "import jyrobot\n",
    "import random"
   ]
  },
  {
   "cell_type": "code",
   "execution_count": 44,
   "metadata": {},
   "outputs": [],
   "source": [
    "#jyrobot.switch_backend(\"pil\")\n",
    "jyrobot.switch_backend(\"jupyter\")"
   ]
  },
  {
   "cell_type": "code",
   "execution_count": 45,
   "metadata": {},
   "outputs": [
    {
     "name": "stdout",
     "output_type": "stream",
     "text": [
      "Searching for jyrobot config files...\n",
      "Directory: ./\n",
      "    'experiment-01'\n",
      "Directory: /home/dblank/jyrobot/jyrobot/worlds\n",
      "    'duck-scribbler-no-walls'\n",
      "    'two-scribblers-no-walls'\n",
      "    'two-scribblers-one-wall'\n",
      "    'two-scribblers'\n"
     ]
    }
   ],
   "source": [
    "world = jyrobot.load()"
   ]
  },
  {
   "cell_type": "code",
   "execution_count": 46,
   "metadata": {},
   "outputs": [
    {
     "name": "stdout",
     "output_type": "stream",
     "text": [
      "Random seed initialized to: 4963019566535451543\n"
     ]
    }
   ],
   "source": [
    "world = jyrobot.load(\"two-scribblers\")"
   ]
  },
  {
   "cell_type": "code",
   "execution_count": 47,
   "metadata": {},
   "outputs": [
    {
     "name": "stdout",
     "output_type": "stream",
     "text": [
      "Backend is not ready yet; try again\n"
     ]
    }
   ],
   "source": [
    "world.update()\n",
    "pic = world.take_picture()"
   ]
  },
  {
   "cell_type": "code",
   "execution_count": 48,
   "metadata": {},
   "outputs": [
    {
     "data": {
      "text/plain": [
       "<Robot(name='Red', position=430,50,3.14 v=0,0,0)>"
      ]
     },
     "execution_count": 48,
     "metadata": {},
     "output_type": "execute_result"
    }
   ],
   "source": [
    "world[\"red-1\"]"
   ]
  },
  {
   "cell_type": "code",
   "execution_count": 49,
   "metadata": {},
   "outputs": [
    {
     "data": {
      "application/vnd.jupyter.widget-view+json": {
       "model_id": "daf3851055e9409885561b81c2e8c0e8",
       "version_major": 2,
       "version_minor": 0
      },
      "text/plain": [
       "Box(children=(JupyterBackend(height=750, image_data=b'\\x89PNG\\r\\n\\x1a\\n\\x00\\x00\\x00\\rIHDR\\x00\\x00\\x05\\xdc\\x00\\…"
      ]
     },
     "metadata": {},
     "output_type": "display_data"
    }
   ],
   "source": [
    "world.watch(\"panel\") # or \"panel\", \"left\", \"right\"\n",
    "world.watch(\"inline\")"
   ]
  },
  {
   "cell_type": "code",
   "execution_count": 50,
   "metadata": {},
   "outputs": [
    {
     "data": {
      "image/png": "[encoded data removed]",
      "text/plain": [
       "<PIL.Image.Image image mode=RGBA size=100x100 at 0x7F554CB25190>"
      ]
     },
     "execution_count": 50,
     "metadata": {},
     "output_type": "execute_result"
    }
   ],
   "source": [
    "world.take_picture(\"red\")"
   ]
  },
  {
   "cell_type": "code",
   "execution_count": 51,
   "metadata": {},
   "outputs": [
    {
     "name": "stdout",
     "output_type": "stream",
     "text": [
      "This world was loaded from '/home/dblank/jyrobot/jyrobot/worlds/two-scribblers.json'\n",
      "Robots:\n",
      "-------------------------\n",
      "  robot[0 or 'Red']: <Robot(name='Red', position=430,50,3.14 v=0,0,0)>\n",
      "      device[0 or 'camera']: <Camera size=(256,128), angle=60.0>\n",
      "      device[1 or 'laser']: <RangeSensor angle=0.0, range=100, width=0.0>\n",
      "      device[2 or 'ir']: <RangeSensor angle=90.0, range=20, width=57.3>\n",
      "      device[3 or 'ir']: <RangeSensor angle=-90.0, range=20, width=57.3>\n",
      "  -------------------------\n",
      "  robot[1 or 'Blue']: <Robot(name='Blue', position=30,50,0.0 v=0,0,0)>\n",
      "      device[0 or 'camera']: <Camera size=(256,128), angle=60.0>\n",
      "      device[1 or 'laser']: <RangeSensor angle=0.0, range=100, width=0.0>\n",
      "      device[2 or 'ir']: <RangeSensor angle=0.0, range=20, width=57.3>\n",
      "      device[3 or 'ir']: <RangeSensor angle=0.0, range=20, width=57.3>\n",
      "  -------------------------\n"
     ]
    }
   ],
   "source": [
    "world.info()"
   ]
  },
  {
   "cell_type": "code",
   "execution_count": 52,
   "metadata": {},
   "outputs": [
    {
     "data": {
      "text/plain": [
       "<Camera size=(256,128), angle=60.0>"
      ]
     },
     "execution_count": 52,
     "metadata": {},
     "output_type": "execute_result"
    }
   ],
   "source": [
    "world[\"red\"][\"camera\"]"
   ]
  },
  {
   "cell_type": "code",
   "execution_count": 53,
   "metadata": {},
   "outputs": [
    {
     "data": {
      "image/png": "[encoded data removed]",
      "text/plain": [
       "<PIL.Image.Image image mode=RGBA size=256x128 at 0x7F554CAC3C10>"
      ]
     },
     "execution_count": 53,
     "metadata": {},
     "output_type": "execute_result"
    }
   ],
   "source": [
    "world[\"red\"][\"camera\"].take_picture()"
   ]
  },
  {
   "cell_type": "code",
   "execution_count": 54,
   "metadata": {},
   "outputs": [],
   "source": [
    "world[0].move(1, 0)\n",
    "world[1].move(1, 0)\n",
    "\n",
    "step = 0\n",
    "\n",
    "def control(robot):\n",
    "    global step\n",
    "    if robot.stalled:\n",
    "        robot.reverse()\n",
    "        robot.turn(1 - random.random() * 2)\n",
    "    if random.random() < .1:\n",
    "        robot.turn(1 - random.random() * 2)\n",
    "    #if step % 100 == 0:\n",
    "    #    world.display(world.take_picture())\n",
    "    step += 1"
   ]
  },
  {
   "cell_type": "code",
   "execution_count": 55,
   "metadata": {},
   "outputs": [
    {
     "name": "stdout",
     "output_type": "stream",
     "text": [
      "Simulation stopped at: 00:00:03.3; speed 1.0 x real time\n"
     ]
    }
   ],
   "source": [
    "world.run([control, control], show=True, real_time=True)"
   ]
  },
  {
   "cell_type": "code",
   "execution_count": 56,
   "metadata": {},
   "outputs": [
    {
     "name": "stdout",
     "output_type": "stream",
     "text": [
      "Simulation stopped at: 00:07:54.1; speed 62.06 x real time\n"
     ]
    }
   ],
   "source": [
    "world.run([control, control], show=True, real_time=False)"
   ]
  },
  {
   "cell_type": "code",
   "execution_count": 57,
   "metadata": {},
   "outputs": [
    {
     "name": "stdout",
     "output_type": "stream",
     "text": [
      "Simulation stopped at: 00:11:46.2; speed 50.72 x real time\n"
     ]
    }
   ],
   "source": [
    "world.run([control, control], show=False)"
   ]
  },
  {
   "cell_type": "markdown",
   "metadata": {},
   "source": [
    "# Example 2"
   ]
  },
  {
   "cell_type": "code",
   "execution_count": 16,
   "metadata": {},
   "outputs": [],
   "source": [
    "import jyrobot\n",
    "import time"
   ]
  },
  {
   "cell_type": "code",
   "execution_count": 17,
   "metadata": {},
   "outputs": [
    {
     "name": "stdout",
     "output_type": "stream",
     "text": [
      "Reusing random seed: 10\n"
     ]
    },
    {
     "data": {
      "application/vnd.jupyter.widget-view+json": {
       "model_id": "23ed9e1230c443d0bc1931fa1323c570",
       "version_major": 2,
       "version_minor": 0
      },
      "text/plain": [
       "Box(children=(Image(value=b'\\x89PNG\\r\\n\\x1a\\n\\x00\\x00\\x00\\rIHDR\\x00\\x00\\x05\\xdc\\x00\\x00\\x05\\xdc\\x08\\x06\\x00\\x0…"
      ]
     },
     "metadata": {},
     "output_type": "display_data"
    }
   ],
   "source": [
    "w = jyrobot.World(width=500, height=500, ground_color=\"white\", seed=10)\n",
    "w.watch(\"panel\", \"inline\")"
   ]
  },
  {
   "cell_type": "code",
   "execution_count": null,
   "metadata": {},
   "outputs": [],
   "source": [
    "for i in range(20):\n",
    "    robot = jyrobot.Scribbler(color=\"blue\", name=\"Scribby-%s\" % i)\n",
    "    sensor = jyrobot.Camera()\n",
    "    robot.add_device(sensor)\n",
    "    w.add_robot(robot)\n",
    "w.draw()"
   ]
  },
  {
   "cell_type": "code",
   "execution_count": null,
   "metadata": {},
   "outputs": [],
   "source": [
    "w.add_wall(\"black\", 10, 0, 20, 50)"
   ]
  },
  {
   "cell_type": "code",
   "execution_count": null,
   "metadata": {},
   "outputs": [],
   "source": [
    "from jyrobot.utils import Color\n",
    "import random\n",
    "for robot in w:\n",
    "    robot.set_color( Color(\n",
    "        255 * random.random(), \n",
    "        255 * random.random(), \n",
    "        255 * random.random(), \n",
    "   ))\n",
    "w.draw()   "
   ]
  },
  {
   "cell_type": "code",
   "execution_count": null,
   "metadata": {},
   "outputs": [],
   "source": [
    "%%time\n",
    "pics = []\n",
    "for robot in w:\n",
    "    pic = robot[\"camera\"].take_picture()\n",
    "    pics.append(pic)"
   ]
  },
  {
   "cell_type": "code",
   "execution_count": null,
   "metadata": {},
   "outputs": [],
   "source": [
    "w.display(*pics)"
   ]
  },
  {
   "cell_type": "code",
   "execution_count": null,
   "metadata": {},
   "outputs": [],
   "source": [
    "%%time\n",
    "pics = []\n",
    "for i, robot in enumerate(w):\n",
    "    pic = w.take_picture(i)\n",
    "    pics.append(pic)"
   ]
  },
  {
   "cell_type": "code",
   "execution_count": null,
   "metadata": {},
   "outputs": [],
   "source": [
    "w.display(*pics, background_color=\"black\")"
   ]
  },
  {
   "cell_type": "code",
   "execution_count": null,
   "metadata": {},
   "outputs": [],
   "source": [
    "for robot in w:\n",
    "    robot.move(1,0)"
   ]
  },
  {
   "cell_type": "code",
   "execution_count": null,
   "metadata": {},
   "outputs": [],
   "source": [
    "def control(world):\n",
    "    for robot in world:\n",
    "        if robot.stalled:\n",
    "            robot.reverse()\n",
    "        robot.turn(1 - random.random() * 2)"
   ]
  },
  {
   "cell_type": "code",
   "execution_count": null,
   "metadata": {},
   "outputs": [],
   "source": [
    "w.run(control, show=True, real_time=False)"
   ]
  },
  {
   "cell_type": "markdown",
   "metadata": {},
   "source": [
    "# Example 3"
   ]
  },
  {
   "cell_type": "code",
   "execution_count": null,
   "metadata": {},
   "outputs": [],
   "source": [
    "import jyrobot as jr\n",
    "import random"
   ]
  },
  {
   "cell_type": "code",
   "execution_count": null,
   "metadata": {},
   "outputs": [],
   "source": [
    "w = jr.World(width=100, height=100)"
   ]
  },
  {
   "cell_type": "code",
   "execution_count": null,
   "metadata": {},
   "outputs": [],
   "source": [
    "w.watch(\"inline\", \"panel\") # or \"panel\", \"left\", \"right\""
   ]
  },
  {
   "cell_type": "code",
   "execution_count": null,
   "metadata": {},
   "outputs": [],
   "source": [
    "r = jr.Scribbler()"
   ]
  },
  {
   "cell_type": "code",
   "execution_count": null,
   "metadata": {},
   "outputs": [],
   "source": [
    "w.add_robot(r)"
   ]
  },
  {
   "cell_type": "code",
   "execution_count": null,
   "metadata": {},
   "outputs": [],
   "source": [
    "sensor = jr.RangeSensor()"
   ]
  },
  {
   "cell_type": "code",
   "execution_count": null,
   "metadata": {},
   "outputs": [],
   "source": [
    "r.add_device(sensor)"
   ]
  },
  {
   "cell_type": "code",
   "execution_count": null,
   "metadata": {},
   "outputs": [],
   "source": [
    "r.forward(1)\n",
    "\n",
    "def control(world):\n",
    "    for robot in world:\n",
    "        if robot.stalled:\n",
    "            robot.reverse()\n",
    "        robot.turn(1 - random.random() * 2)"
   ]
  },
  {
   "cell_type": "code",
   "execution_count": null,
   "metadata": {},
   "outputs": [],
   "source": [
    "w.seconds(10, control, show=True, real_time=True)"
   ]
  },
  {
   "cell_type": "code",
   "execution_count": null,
   "metadata": {},
   "outputs": [],
   "source": [
    "w.seconds(10, control, show=True, real_time=False)"
   ]
  },
  {
   "cell_type": "code",
   "execution_count": null,
   "metadata": {},
   "outputs": [],
   "source": [
    "w.seconds(10, control, show=False)"
   ]
  },
  {
   "cell_type": "code",
   "execution_count": null,
   "metadata": {},
   "outputs": [],
   "source": [
    "r.set_pose(50, 50, 180)"
   ]
  },
  {
   "cell_type": "code",
   "execution_count": null,
   "metadata": {},
   "outputs": [],
   "source": [
    "r.set_color(\"purple\")"
   ]
  },
  {
   "cell_type": "code",
   "execution_count": null,
   "metadata": {},
   "outputs": [],
   "source": [
    "w.take_picture()"
   ]
  },
  {
   "cell_type": "code",
   "execution_count": null,
   "metadata": {},
   "outputs": [],
   "source": []
  }
 ],
 "metadata": {
  "kernelspec": {
   "display_name": "Python 3",
   "language": "python",
   "name": "python3"
  },
  "language_info": {
   "codemirror_mode": {
    "name": "ipython",
    "version": 3
   },
   "file_extension": ".py",
   "mimetype": "text/x-python",
   "name": "python",
   "nbconvert_exporter": "python",
   "pygments_lexer": "ipython3",
   "version": "3.8.5"
  },
  "widgets": {
   "application/vnd.jupyter.widget-state+json": {
    "state": {
     "0696c69c82384fa7af2bf2bbb02ec0ee": {
      "model_module": "ipylab",
      "model_module_version": "^0.3.0",
      "model_name": "ShellModel",
      "state": {
       "_model_module_version": "^0.3.0",
       "_view_module": null,
       "_view_module_version": "",
       "_widgets": [
        {
         "area": "main",
         "args": {
          "mode": "split-right"
         },
         "id": "id-9ded0018-7d39-4f1b-b567-3b5e818c93cc",
         "serializedWidget": "IPY_MODEL_d7fa37eb3ab144f089c9ad64eb524a45"
        }
       ]
      }
     },
     "133699b9a25e4e1e9ec3adc8e284de1c": {
      "model_module": "@jupyter-widgets/base",
      "model_module_version": "1.2.0",
      "model_name": "LayoutModel",
      "state": {}
     },
     "17aaed2b42e64b7a81bd92b70e628963": {
      "model_module": "@jupyter-widgets/base",
      "model_module_version": "1.2.0",
      "model_name": "LayoutModel",
      "state": {
       "max_width": "600px"
      }
     },
     "25a6017f727c4ffe8a9993b5ebeb3a65": {
      "buffers": [
       {
        "data": "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",
        "encoding": "base64",
        "path": [
         "image_data"
        ]
       }
      ],
      "model_module": "ipycanvas",
      "model_module_version": "^0.8.0",
      "model_name": "CanvasModel",
      "state": {
       "_model_module_version": "^0.8.0",
       "_view_module_version": "^0.8.0",
       "height": 750,
       "layout": "IPY_MODEL_3d3acf75b4bb4a2a9da6334bf4774a7b",
       "sync_image_data": true,
       "width": 1500
      }
     },
     "2711699fd8ca4388a8bb333a62ceb49f": {
      "model_module": "ipylab",
      "model_module_version": "^0.3.0",
      "model_name": "CommandRegistryModel",
      "state": {
       "_command_list": [
        "__internal:context-menu-info",
        "apputils:activate-command-palette",
        "apputils:print",
        "apputils:run-first-enabled",
        "completer:invoke",
        "completer:select",
        "tooltip:dismiss",
        "launcher:create",
        "editmenu:undo",
        "editmenu:redo",
        "editmenu:clear-current",
        "editmenu:clear-all",
        "editmenu:go-to-line",
        "filemenu:close-and-cleanup",
        "filemenu:create-console",
        "filemenu:shutdown",
        "filemenu:logout",
        "kernelmenu:interrupt",
        "kernelmenu:restart",
        "kernelmenu:restart-and-clear",
        "kernelmenu:change",
        "kernelmenu:shutdown",
        "kernelmenu:shutdownAll",
        "runmenu:run",
        "runmenu:run-all",
        "runmenu:restart-and-run-all",
        "viewmenu:line-numbering",
        "viewmenu:match-brackets",
        "viewmenu:word-wrap",
        "tabsmenu:activate-by-id",
        "tabsmenu:activate-previously-used-tab",
        "editmenu:open",
        "filemenu:open",
        "kernelmenu:open",
        "runmenu:open",
        "viewmenu:open",
        "settingsmenu:open",
        "tabsmenu:open",
        "helpmenu:open",
        "mainmenu:open-first",
        "documentsearch:start",
        "documentsearch:startWithReplace",
        "documentsearch:highlightNext",
        "documentsearch:highlightPrevious",
        "docmanager:clone",
        "docmanager:rename",
        "docmanager:delete",
        "docmanager:show-in-file-browser",
        "docmanager:delete-file",
        "docmanager:new-untitled",
        "docmanager:open",
        "docmanager:open-browser-tab",
        "docmanager:reload",
        "docmanager:restore-checkpoint",
        "docmanager:save",
        "docmanager:save-all",
        "docmanager:save-as",
        "docmanager:download",
        "docmanager:toggle-autosave",
        "sidebar:switch",
        "apputils:change-theme",
        "apputils:theme-scrollbars",
        "apputils:incr-font-size",
        "apputils:decr-font-size",
        "statusbar:toggle",
        "rendermime:handle-local-link",
        "application:activate-next-tab",
        "application:activate-previous-tab",
        "application:activate-next-tab-bar",
        "application:activate-previous-tab-bar",
        "application:close",
        "application:close-all",
        "application:close-other-tabs",
        "application:close-right-tabs",
        "application:toggle-left-area",
        "application:toggle-right-area",
        "application:toggle-presentation-mode",
        "application:set-mode",
        "application:toggle-mode",
        "apputils:load-statedb",
        "apputils:reset",
        "apputils:reset-on-load",
        "markdownviewer:open",
        "markdownviewer:edit",
        "settingeditor:open",
        "settingeditor:revert",
        "settingeditor:save",
        "inspector:open",
        "htmlviewer:trust-html",
        "imageviewer:zoom-in",
        "imageviewer:zoom-out",
        "imageviewer:reset-image",
        "imageviewer:rotate-clockwise",
        "imageviewer:rotate-counterclockwise",
        "imageviewer:flip-horizontal",
        "imageviewer:flip-vertical",
        "imageviewer:invert-colors",
        "filebrowser:delete",
        "filebrowser:copy",
        "filebrowser:cut",
        "filebrowser:download",
        "filebrowser:duplicate",
        "filebrowser:hide-main",
        "filebrowser:go-to-path",
        "filebrowser:open-path",
        "filebrowser:open",
        "filebrowser:open-browser-tab",
        "filebrowser:copy-download-link",
        "filebrowser:paste",
        "filebrowser:create-new-directory",
        "filebrowser:create-new-file",
        "filebrowser:create-new-markdown-file",
        "filebrowser:rename",
        "filebrowser:copy-path",
        "filebrowser:activate",
        "filebrowser:shutdown",
        "filebrowser:toggle-main",
        "filebrowser:create-main-launcher",
        "filebrowser:toggle-navigate-to-current-directory",
        "filebrowser:toggle-last-modified",
        "filebrowser:share-main",
        "notebook:run-cell-and-select-next",
        "notebook:run-cell",
        "notebook:run-cell-and-insert-below",
        "notebook:run-in-console",
        "notebook:run-all-cells",
        "notebook:run-all-above",
        "notebook:run-all-below",
        "notebook:render-all-markdown",
        "notebook:restart-kernel",
        "notebook:close-and-shutdown",
        "notebook:trust",
        "notebook:export-to-format",
        "notebook:restart-clear-output",
        "notebook:restart-and-run-to-selected",
        "notebook:restart-run-all",
        "notebook:clear-all-cell-outputs",
        "notebook:clear-cell-output",
        "notebook:interrupt-kernel",
        "notebook:change-cell-to-code",
        "notebook:change-cell-to-markdown",
        "notebook:change-cell-to-raw",
        "notebook:cut-cell",
        "notebook:copy-cell",
        "notebook:paste-cell-below",
        "notebook:paste-cell-above",
        "notebook:paste-and-replace-cell",
        "notebook:delete-cell",
        "notebook:split-cell-at-cursor",
        "notebook:merge-cells",
        "notebook:insert-cell-above",
        "notebook:insert-cell-below",
        "notebook:move-cursor-up",
        "notebook:move-cursor-down",
        "notebook:extend-marked-cells-above",
        "notebook:extend-marked-cells-top",
        "notebook:extend-marked-cells-below",
        "notebook:extend-marked-cells-bottom",
        "notebook:select-all",
        "notebook:deselect-all",
        "notebook:move-cell-up",
        "notebook:move-cell-down",
        "notebook:toggle-all-cell-line-numbers",
        "notebook:enter-command-mode",
        "notebook:enter-edit-mode",
        "notebook:undo-cell-action",
        "notebook:redo-cell-action",
        "notebook:change-kernel",
        "notebook:reconnect-to-kernel",
        "notebook:create-output-view",
        "notebook:create-console",
        "notebook:change-cell-to-heading-1",
        "notebook:change-cell-to-heading-2",
        "notebook:change-cell-to-heading-3",
        "notebook:change-cell-to-heading-4",
        "notebook:change-cell-to-heading-5",
        "notebook:change-cell-to-heading-6",
        "notebook:hide-cell-code",
        "notebook:show-cell-code",
        "notebook:hide-all-cell-code",
        "notebook:show-all-cell-code",
        "notebook:hide-cell-outputs",
        "notebook:show-cell-outputs",
        "notebook:hide-all-cell-outputs",
        "notebook:show-all-cell-outputs",
        "notebook:enable-output-scrolling",
        "notebook:disable-output-scrolling",
        "notebook:select-last-run-cell",
        "notebook:replace-selection",
        "notebook:create-new",
        "help:about",
        "help:open",
        "help:launch-classic-notebook",
        "terminal:create-new",
        "terminal:open",
        "terminal:refresh",
        "terminal:increase-font",
        "terminal:decrease-font",
        "terminal:set-theme",
        "completer:invoke-notebook",
        "completer:select-notebook",
        "logconsole:open",
        "logconsole:add-checkpoint",
        "logconsole:clear",
        "logconsole:set-level",
        "tooltip:launch-notebook",
        "@jupyter-widgets/jupyterlab-manager:saveWidgetState",
        "extensionmanager:toggle",
        "console:open",
        "console:create",
        "console:clear",
        "console:run-unforced",
        "console:run-forced",
        "console:linebreak",
        "console:replace-selection",
        "console:interrupt-kernel",
        "console:restart-kernel",
        "console:close-and-shutdown",
        "console:inject",
        "console:change-kernel",
        "console:interaction-mode",
        "fileeditor:change-font-size",
        "fileeditor:toggle-line-numbers",
        "fileeditor:toggle-line-wrap",
        "fileeditor:change-tabs",
        "fileeditor:toggle-match-brackets",
        "fileeditor:toggle-autoclosing-brackets",
        "fileeditor:replace-selection",
        "fileeditor:create-console",
        "fileeditor:run-code",
        "fileeditor:run-all",
        "fileeditor:markdown-preview",
        "fileeditor:create-new",
        "fileeditor:create-new-markdown-file",
        "fileeditor:undo",
        "fileeditor:redo",
        "fileeditor:cut",
        "fileeditor:copy",
        "fileeditor:paste",
        "fileeditor:select-all",
        "completer:invoke-console",
        "completer:select-console",
        "console:toggle-show-all-kernel-activity",
        "tooltip:launch-console",
        "codemirror:change-theme",
        "codemirror:change-keymap",
        "codemirror:find",
        "codemirror:go-to-line",
        "codemirror:change-mode",
        "completer:invoke-file",
        "completer:select-file",
        "tooltip:launch-file",
        "help-menu-python3:banner",
        "help-menu-python3:Python Reference",
        "help-menu-python3:IPython Reference",
        "help-menu-python3:NumPy Reference",
        "help-menu-python3:SciPy Reference",
        "help-menu-python3:Matplotlib Reference",
        "help-menu-python3:SymPy Reference",
        "help-menu-python3:pandas Reference"
       ],
       "_model_module_version": "^0.3.0",
       "_view_module": null,
       "_view_module_version": ""
      }
     },
     "340683dd9fe34fe8b5b0450ddfc7ad86": {
      "model_module": "ipylab",
      "model_module_version": "^0.3.0",
      "model_name": "TitleModel",
      "state": {
       "_model_module_version": "^0.3.0",
       "_view_module": null,
       "_view_module_version": "",
       "closable": true,
       "icon_class": "",
       "label": "Jyrobot Simulator"
      }
     },
     "39c4e4a25d4e4469ab80cb1ec24bd59e": {
      "model_module": "@jupyter-widgets/base",
      "model_module_version": "1.2.0",
      "model_name": "LayoutModel",
      "state": {
       "max_width": "600px"
      }
     },
     "3a1f0a7058804908bef9b8299bd206cd": {
      "model_module": "ipylab",
      "model_module_version": "^0.3.0",
      "model_name": "TitleModel",
      "state": {
       "_model_module_version": "^0.3.0",
       "_view_module": null,
       "_view_module_version": "",
       "closable": true,
       "icon_class": "",
       "label": "Jyrobot Simulator"
      }
     },
     "3a645f885497481aabc751281f788c26": {
      "model_module": "@jupyter-widgets/base",
      "model_module_version": "1.2.0",
      "model_name": "LayoutModel",
      "state": {
       "height": "auto",
       "width": "100%"
      }
     },
     "3af2954fc7804082859add5ac73a0537": {
      "model_module": "@jupyter-widgets/base",
      "model_module_version": "1.2.0",
      "model_name": "LayoutModel",
      "state": {}
     },
     "3b382999cff54747a022b926a670bbba": {
      "model_module": "ipylab",
      "model_module_version": "^0.3.0",
      "model_name": "JupyterFrontEndModel",
      "state": {
       "_model_module_version": "^0.3.0",
       "_view_module": null,
       "_view_module_version": "",
       "commands": "IPY_MODEL_2711699fd8ca4388a8bb333a62ceb49f",
       "shell": "IPY_MODEL_0696c69c82384fa7af2bf2bbb02ec0ee",
       "version": "2.2.9"
      }
     },
     "3b4e0d5009b64a3b89bd947c352c159f": {
      "buffers": [
       {
        "data": "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",
        "encoding": "base64",
        "path": [
         "value"
        ]
       }
      ],
      "model_module": "@jupyter-widgets/controls",
      "model_module_version": "1.5.0",
      "model_name": "ImageModel",
      "state": {
       "layout": "IPY_MODEL_98a53fea8580408ba5858b293c0b9ca6"
      }
     },
     "3d3acf75b4bb4a2a9da6334bf4774a7b": {
      "model_module": "@jupyter-widgets/base",
      "model_module_version": "1.2.0",
      "model_name": "LayoutModel",
      "state": {
       "height": "auto",
       "width": "100%"
      }
     },
     "5af27c9eb0f3405b9b33aa5d352810fb": {
      "model_module": "@jupyter-widgets/controls",
      "model_module_version": "1.5.0",
      "model_name": "BoxModel",
      "state": {
       "children": [
        "IPY_MODEL_25a6017f727c4ffe8a9993b5ebeb3a65"
       ],
       "layout": "IPY_MODEL_caee3629885d4f07bcefa36b11cd8da4"
      }
     },
     "5c1959fd69ad46a6886573a3947ddd7c": {
      "model_module": "@jupyter-widgets/controls",
      "model_module_version": "1.5.0",
      "model_name": "BoxModel",
      "state": {
       "children": [
        "IPY_MODEL_3b4e0d5009b64a3b89bd947c352c159f"
       ],
       "layout": "IPY_MODEL_f9ee69d1279d41ebab89109e3849f8d3"
      }
     },
     "8e35f3cb2e2d4129bb6cf58fbf46bfc7": {
      "model_module": "@jupyter-widgets/controls",
      "model_module_version": "1.5.0",
      "model_name": "BoxModel",
      "state": {
       "children": [
        "IPY_MODEL_99f379af7cb34493b7a6aca2c5a8035e"
       ],
       "layout": "IPY_MODEL_ebaa5743a42c46f8bb7f0f46aa0e08f9"
      }
     },
     "9833fdc4eab84528a6cdae308f26e9b5": {
      "model_module": "@jupyter-widgets/base",
      "model_module_version": "1.2.0",
      "model_name": "LayoutModel",
      "state": {}
     },
     "98a53fea8580408ba5858b293c0b9ca6": {
      "model_module": "@jupyter-widgets/base",
      "model_module_version": "1.2.0",
      "model_name": "LayoutModel",
      "state": {}
     },
     "99f379af7cb34493b7a6aca2c5a8035e": {
      "buffers": [
       {
        "data": "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",
        "encoding": "base64",
        "path": [
         "image_data"
        ]
       }
      ],
      "model_module": "ipycanvas",
      "model_module_version": "^0.8.0",
      "model_name": "CanvasModel",
      "state": {
       "_model_module_version": "^0.8.0",
       "_view_module_version": "^0.8.0",
       "height": 750,
       "layout": "IPY_MODEL_3a645f885497481aabc751281f788c26",
       "sync_image_data": true,
       "width": 1500
      }
     },
     "b734e48bc6f3486da9d3f7776850a29d": {
      "model_module": "@jupyter-widgets/base",
      "model_module_version": "1.2.0",
      "model_name": "LayoutModel",
      "state": {
       "max_width": "600px"
      }
     },
     "b91099a5eb144fdaa4e1e5ee742b7dd6": {
      "model_module": "ipylab",
      "model_module_version": "^0.3.0",
      "model_name": "TitleModel",
      "state": {
       "_model_module_version": "^0.3.0",
       "_view_module": null,
       "_view_module_version": "",
       "closable": true,
       "icon_class": "",
       "label": "Jyrobot Simulator"
      }
     },
     "befe251f94f6428795299803114ca36e": {
      "model_module": "ipylab",
      "model_module_version": "^0.3.0",
      "model_name": "CommandRegistryModel",
      "state": {
       "_command_list": [
        "__internal:context-menu-info",
        "apputils:activate-command-palette",
        "apputils:print",
        "apputils:run-first-enabled",
        "completer:invoke",
        "completer:select",
        "tooltip:dismiss",
        "launcher:create",
        "editmenu:undo",
        "editmenu:redo",
        "editmenu:clear-current",
        "editmenu:clear-all",
        "editmenu:go-to-line",
        "filemenu:close-and-cleanup",
        "filemenu:create-console",
        "filemenu:shutdown",
        "filemenu:logout",
        "kernelmenu:interrupt",
        "kernelmenu:restart",
        "kernelmenu:restart-and-clear",
        "kernelmenu:change",
        "kernelmenu:shutdown",
        "kernelmenu:shutdownAll",
        "runmenu:run",
        "runmenu:run-all",
        "runmenu:restart-and-run-all",
        "viewmenu:line-numbering",
        "viewmenu:match-brackets",
        "viewmenu:word-wrap",
        "tabsmenu:activate-by-id",
        "tabsmenu:activate-previously-used-tab",
        "editmenu:open",
        "filemenu:open",
        "kernelmenu:open",
        "runmenu:open",
        "viewmenu:open",
        "settingsmenu:open",
        "tabsmenu:open",
        "helpmenu:open",
        "mainmenu:open-first",
        "documentsearch:start",
        "documentsearch:startWithReplace",
        "documentsearch:highlightNext",
        "documentsearch:highlightPrevious",
        "docmanager:clone",
        "docmanager:rename",
        "docmanager:delete",
        "docmanager:show-in-file-browser",
        "docmanager:delete-file",
        "docmanager:new-untitled",
        "docmanager:open",
        "docmanager:open-browser-tab",
        "docmanager:reload",
        "docmanager:restore-checkpoint",
        "docmanager:save",
        "docmanager:save-all",
        "docmanager:save-as",
        "docmanager:download",
        "docmanager:toggle-autosave",
        "sidebar:switch",
        "apputils:change-theme",
        "apputils:theme-scrollbars",
        "apputils:incr-font-size",
        "apputils:decr-font-size",
        "statusbar:toggle",
        "rendermime:handle-local-link",
        "application:activate-next-tab",
        "application:activate-previous-tab",
        "application:activate-next-tab-bar",
        "application:activate-previous-tab-bar",
        "application:close",
        "application:close-all",
        "application:close-other-tabs",
        "application:close-right-tabs",
        "application:toggle-left-area",
        "application:toggle-right-area",
        "application:toggle-presentation-mode",
        "application:set-mode",
        "application:toggle-mode",
        "apputils:load-statedb",
        "apputils:reset",
        "apputils:reset-on-load",
        "markdownviewer:open",
        "markdownviewer:edit",
        "settingeditor:open",
        "settingeditor:revert",
        "settingeditor:save",
        "inspector:open",
        "htmlviewer:trust-html",
        "imageviewer:zoom-in",
        "imageviewer:zoom-out",
        "imageviewer:reset-image",
        "imageviewer:rotate-clockwise",
        "imageviewer:rotate-counterclockwise",
        "imageviewer:flip-horizontal",
        "imageviewer:flip-vertical",
        "imageviewer:invert-colors",
        "filebrowser:delete",
        "filebrowser:copy",
        "filebrowser:cut",
        "filebrowser:download",
        "filebrowser:duplicate",
        "filebrowser:hide-main",
        "filebrowser:go-to-path",
        "filebrowser:open-path",
        "filebrowser:open",
        "filebrowser:open-browser-tab",
        "filebrowser:copy-download-link",
        "filebrowser:paste",
        "filebrowser:create-new-directory",
        "filebrowser:create-new-file",
        "filebrowser:create-new-markdown-file",
        "filebrowser:rename",
        "filebrowser:copy-path",
        "filebrowser:activate",
        "filebrowser:shutdown",
        "filebrowser:toggle-main",
        "filebrowser:create-main-launcher",
        "filebrowser:toggle-navigate-to-current-directory",
        "filebrowser:toggle-last-modified",
        "filebrowser:share-main",
        "notebook:run-cell-and-select-next",
        "notebook:run-cell",
        "notebook:run-cell-and-insert-below",
        "notebook:run-in-console",
        "notebook:run-all-cells",
        "notebook:run-all-above",
        "notebook:run-all-below",
        "notebook:render-all-markdown",
        "notebook:restart-kernel",
        "notebook:close-and-shutdown",
        "notebook:trust",
        "notebook:export-to-format",
        "notebook:restart-clear-output",
        "notebook:restart-and-run-to-selected",
        "notebook:restart-run-all",
        "notebook:clear-all-cell-outputs",
        "notebook:clear-cell-output",
        "notebook:interrupt-kernel",
        "notebook:change-cell-to-code",
        "notebook:change-cell-to-markdown",
        "notebook:change-cell-to-raw",
        "notebook:cut-cell",
        "notebook:copy-cell",
        "notebook:paste-cell-below",
        "notebook:paste-cell-above",
        "notebook:paste-and-replace-cell",
        "notebook:delete-cell",
        "notebook:split-cell-at-cursor",
        "notebook:merge-cells",
        "notebook:insert-cell-above",
        "notebook:insert-cell-below",
        "notebook:move-cursor-up",
        "notebook:move-cursor-down",
        "notebook:extend-marked-cells-above",
        "notebook:extend-marked-cells-top",
        "notebook:extend-marked-cells-below",
        "notebook:extend-marked-cells-bottom",
        "notebook:select-all",
        "notebook:deselect-all",
        "notebook:move-cell-up",
        "notebook:move-cell-down",
        "notebook:toggle-all-cell-line-numbers",
        "notebook:enter-command-mode",
        "notebook:enter-edit-mode",
        "notebook:undo-cell-action",
        "notebook:redo-cell-action",
        "notebook:change-kernel",
        "notebook:reconnect-to-kernel",
        "notebook:create-output-view",
        "notebook:create-console",
        "notebook:change-cell-to-heading-1",
        "notebook:change-cell-to-heading-2",
        "notebook:change-cell-to-heading-3",
        "notebook:change-cell-to-heading-4",
        "notebook:change-cell-to-heading-5",
        "notebook:change-cell-to-heading-6",
        "notebook:hide-cell-code",
        "notebook:show-cell-code",
        "notebook:hide-all-cell-code",
        "notebook:show-all-cell-code",
        "notebook:hide-cell-outputs",
        "notebook:show-cell-outputs",
        "notebook:hide-all-cell-outputs",
        "notebook:show-all-cell-outputs",
        "notebook:enable-output-scrolling",
        "notebook:disable-output-scrolling",
        "notebook:select-last-run-cell",
        "notebook:replace-selection",
        "notebook:create-new",
        "help:about",
        "help:open",
        "help:launch-classic-notebook",
        "terminal:create-new",
        "terminal:open",
        "terminal:refresh",
        "terminal:increase-font",
        "terminal:decrease-font",
        "terminal:set-theme",
        "completer:invoke-notebook",
        "completer:select-notebook",
        "logconsole:open",
        "logconsole:add-checkpoint",
        "logconsole:clear",
        "logconsole:set-level",
        "tooltip:launch-notebook",
        "@jupyter-widgets/jupyterlab-manager:saveWidgetState",
        "extensionmanager:toggle",
        "console:open",
        "console:create",
        "console:clear",
        "console:run-unforced",
        "console:run-forced",
        "console:linebreak",
        "console:replace-selection",
        "console:interrupt-kernel",
        "console:restart-kernel",
        "console:close-and-shutdown",
        "console:inject",
        "console:change-kernel",
        "console:interaction-mode",
        "fileeditor:change-font-size",
        "fileeditor:toggle-line-numbers",
        "fileeditor:toggle-line-wrap",
        "fileeditor:change-tabs",
        "fileeditor:toggle-match-brackets",
        "fileeditor:toggle-autoclosing-brackets",
        "fileeditor:replace-selection",
        "fileeditor:create-console",
        "fileeditor:run-code",
        "fileeditor:run-all",
        "fileeditor:markdown-preview",
        "fileeditor:create-new",
        "fileeditor:create-new-markdown-file",
        "fileeditor:undo",
        "fileeditor:redo",
        "fileeditor:cut",
        "fileeditor:copy",
        "fileeditor:paste",
        "fileeditor:select-all",
        "completer:invoke-console",
        "completer:select-console",
        "console:toggle-show-all-kernel-activity",
        "tooltip:launch-console",
        "codemirror:change-theme",
        "codemirror:change-keymap",
        "codemirror:find",
        "codemirror:go-to-line",
        "codemirror:change-mode",
        "completer:invoke-file",
        "completer:select-file",
        "tooltip:launch-file",
        "help-menu-python3:banner",
        "help-menu-python3:Python Reference",
        "help-menu-python3:IPython Reference",
        "help-menu-python3:NumPy Reference",
        "help-menu-python3:SciPy Reference",
        "help-menu-python3:Matplotlib Reference",
        "help-menu-python3:SymPy Reference",
        "help-menu-python3:pandas Reference"
       ],
       "_model_module_version": "^0.3.0",
       "_view_module": null,
       "_view_module_version": ""
      }
     },
     "bf49c1f460784f0885ca24cbf503bf97": {
      "model_module": "ipylab",
      "model_module_version": "^0.3.0",
      "model_name": "ShellModel",
      "state": {
       "_model_module_version": "^0.3.0",
       "_view_module": null,
       "_view_module_version": "",
       "_widgets": [
        {
         "area": "main",
         "args": {
          "mode": "split-right"
         },
         "id": "id-0d4da319-a4ad-4e8c-8a13-7f236fa3c2d7",
         "serializedWidget": "IPY_MODEL_c14fe91973c449bf990c392b42f2ca0c"
        }
       ]
      }
     },
     "c4f40d42ad5d44ca9056caa8dfbbed2f": {
      "model_module": "ipylab",
      "model_module_version": "^0.3.0",
      "model_name": "ShellModel",
      "state": {
       "_model_module_version": "^0.3.0",
       "_view_module": null,
       "_view_module_version": "",
       "_widgets": [
        {
         "area": "main",
         "args": {
          "mode": "split-right"
         },
         "id": "id-877f9aa1-082c-4e6e-9e88-09329508a9fc",
         "serializedWidget": "IPY_MODEL_0bc05dbb24f445d0a61a2fbdc21ac248"
        }
       ]
      }
     },
     "c9fdc87902114b56a2c93a75e8a9dc70": {
      "model_module": "ipylab",
      "model_module_version": "^0.3.0",
      "model_name": "JupyterFrontEndModel",
      "state": {
       "_model_module_version": "^0.3.0",
       "_view_module": null,
       "_view_module_version": "",
       "commands": "IPY_MODEL_befe251f94f6428795299803114ca36e",
       "shell": "IPY_MODEL_bf49c1f460784f0885ca24cbf503bf97",
       "version": "2.2.9"
      }
     },
     "caee3629885d4f07bcefa36b11cd8da4": {
      "model_module": "@jupyter-widgets/base",
      "model_module_version": "1.2.0",
      "model_name": "LayoutModel",
      "state": {
       "height": "auto",
       "width": "100%"
      }
     },
     "d7fa37eb3ab144f089c9ad64eb524a45": {
      "model_module": "ipylab",
      "model_module_version": "^0.3.0",
      "model_name": "PanelModel",
      "state": {
       "_model_module_version": "^0.3.0",
       "children": [
        "IPY_MODEL_8e35f3cb2e2d4129bb6cf58fbf46bfc7"
       ],
       "layout": "IPY_MODEL_9833fdc4eab84528a6cdae308f26e9b5",
       "title": "IPY_MODEL_b91099a5eb144fdaa4e1e5ee742b7dd6"
      }
     },
     "daf3851055e9409885561b81c2e8c0e8": {
      "model_module": "@jupyter-widgets/controls",
      "model_module_version": "1.5.0",
      "model_name": "BoxModel",
      "state": {
       "children": [
        "IPY_MODEL_99f379af7cb34493b7a6aca2c5a8035e"
       ],
       "layout": "IPY_MODEL_39c4e4a25d4e4469ab80cb1ec24bd59e"
      }
     },
     "dff4d6964b38449188177e12e5b22fb0": {
      "model_module": "ipylab",
      "model_module_version": "^0.3.0",
      "model_name": "JupyterFrontEndModel",
      "state": {
       "_model_module_version": "^0.3.0",
       "_view_module": null,
       "_view_module_version": "",
       "commands": "IPY_MODEL_eb0caeaf62654098968a24dc542e2fea",
       "shell": "IPY_MODEL_c4f40d42ad5d44ca9056caa8dfbbed2f",
       "version": "2.2.9"
      }
     },
     "eb0caeaf62654098968a24dc542e2fea": {
      "model_module": "ipylab",
      "model_module_version": "^0.3.0",
      "model_name": "CommandRegistryModel",
      "state": {
       "_command_list": [
        "__internal:context-menu-info",
        "apputils:activate-command-palette",
        "apputils:print",
        "apputils:run-first-enabled",
        "completer:invoke",
        "completer:select",
        "tooltip:dismiss",
        "launcher:create",
        "editmenu:undo",
        "editmenu:redo",
        "editmenu:clear-current",
        "editmenu:clear-all",
        "editmenu:go-to-line",
        "filemenu:close-and-cleanup",
        "filemenu:create-console",
        "filemenu:shutdown",
        "filemenu:logout",
        "kernelmenu:interrupt",
        "kernelmenu:restart",
        "kernelmenu:restart-and-clear",
        "kernelmenu:change",
        "kernelmenu:shutdown",
        "kernelmenu:shutdownAll",
        "runmenu:run",
        "runmenu:run-all",
        "runmenu:restart-and-run-all",
        "viewmenu:line-numbering",
        "viewmenu:match-brackets",
        "viewmenu:word-wrap",
        "tabsmenu:activate-by-id",
        "tabsmenu:activate-previously-used-tab",
        "editmenu:open",
        "filemenu:open",
        "kernelmenu:open",
        "runmenu:open",
        "viewmenu:open",
        "settingsmenu:open",
        "tabsmenu:open",
        "helpmenu:open",
        "mainmenu:open-first",
        "documentsearch:start",
        "documentsearch:startWithReplace",
        "documentsearch:highlightNext",
        "documentsearch:highlightPrevious",
        "docmanager:clone",
        "docmanager:rename",
        "docmanager:delete",
        "docmanager:show-in-file-browser",
        "docmanager:delete-file",
        "docmanager:new-untitled",
        "docmanager:open",
        "docmanager:open-browser-tab",
        "docmanager:reload",
        "docmanager:restore-checkpoint",
        "docmanager:save",
        "docmanager:save-all",
        "docmanager:save-as",
        "docmanager:download",
        "docmanager:toggle-autosave",
        "sidebar:switch",
        "apputils:change-theme",
        "apputils:theme-scrollbars",
        "apputils:incr-font-size",
        "apputils:decr-font-size",
        "statusbar:toggle",
        "rendermime:handle-local-link",
        "application:activate-next-tab",
        "application:activate-previous-tab",
        "application:activate-next-tab-bar",
        "application:activate-previous-tab-bar",
        "application:close",
        "application:close-all",
        "application:close-other-tabs",
        "application:close-right-tabs",
        "application:toggle-left-area",
        "application:toggle-right-area",
        "application:toggle-presentation-mode",
        "application:set-mode",
        "application:toggle-mode",
        "apputils:load-statedb",
        "apputils:reset",
        "apputils:reset-on-load",
        "markdownviewer:open",
        "markdownviewer:edit",
        "settingeditor:open",
        "settingeditor:revert",
        "settingeditor:save",
        "inspector:open",
        "htmlviewer:trust-html",
        "imageviewer:zoom-in",
        "imageviewer:zoom-out",
        "imageviewer:reset-image",
        "imageviewer:rotate-clockwise",
        "imageviewer:rotate-counterclockwise",
        "imageviewer:flip-horizontal",
        "imageviewer:flip-vertical",
        "imageviewer:invert-colors",
        "filebrowser:delete",
        "filebrowser:copy",
        "filebrowser:cut",
        "filebrowser:download",
        "filebrowser:duplicate",
        "filebrowser:hide-main",
        "filebrowser:go-to-path",
        "filebrowser:open-path",
        "filebrowser:open",
        "filebrowser:open-browser-tab",
        "filebrowser:copy-download-link",
        "filebrowser:paste",
        "filebrowser:create-new-directory",
        "filebrowser:create-new-file",
        "filebrowser:create-new-markdown-file",
        "filebrowser:rename",
        "filebrowser:copy-path",
        "filebrowser:activate",
        "filebrowser:shutdown",
        "filebrowser:toggle-main",
        "filebrowser:create-main-launcher",
        "filebrowser:toggle-navigate-to-current-directory",
        "filebrowser:toggle-last-modified",
        "filebrowser:share-main",
        "notebook:run-cell-and-select-next",
        "notebook:run-cell",
        "notebook:run-cell-and-insert-below",
        "notebook:run-in-console",
        "notebook:run-all-cells",
        "notebook:run-all-above",
        "notebook:run-all-below",
        "notebook:render-all-markdown",
        "notebook:restart-kernel",
        "notebook:close-and-shutdown",
        "notebook:trust",
        "notebook:export-to-format",
        "notebook:restart-clear-output",
        "notebook:restart-and-run-to-selected",
        "notebook:restart-run-all",
        "notebook:clear-all-cell-outputs",
        "notebook:clear-cell-output",
        "notebook:interrupt-kernel",
        "notebook:change-cell-to-code",
        "notebook:change-cell-to-markdown",
        "notebook:change-cell-to-raw",
        "notebook:cut-cell",
        "notebook:copy-cell",
        "notebook:paste-cell-below",
        "notebook:paste-cell-above",
        "notebook:paste-and-replace-cell",
        "notebook:delete-cell",
        "notebook:split-cell-at-cursor",
        "notebook:merge-cells",
        "notebook:insert-cell-above",
        "notebook:insert-cell-below",
        "notebook:move-cursor-up",
        "notebook:move-cursor-down",
        "notebook:extend-marked-cells-above",
        "notebook:extend-marked-cells-top",
        "notebook:extend-marked-cells-below",
        "notebook:extend-marked-cells-bottom",
        "notebook:select-all",
        "notebook:deselect-all",
        "notebook:move-cell-up",
        "notebook:move-cell-down",
        "notebook:toggle-all-cell-line-numbers",
        "notebook:enter-command-mode",
        "notebook:enter-edit-mode",
        "notebook:undo-cell-action",
        "notebook:redo-cell-action",
        "notebook:change-kernel",
        "notebook:reconnect-to-kernel",
        "notebook:create-output-view",
        "notebook:create-console",
        "notebook:change-cell-to-heading-1",
        "notebook:change-cell-to-heading-2",
        "notebook:change-cell-to-heading-3",
        "notebook:change-cell-to-heading-4",
        "notebook:change-cell-to-heading-5",
        "notebook:change-cell-to-heading-6",
        "notebook:hide-cell-code",
        "notebook:show-cell-code",
        "notebook:hide-all-cell-code",
        "notebook:show-all-cell-code",
        "notebook:hide-cell-outputs",
        "notebook:show-cell-outputs",
        "notebook:hide-all-cell-outputs",
        "notebook:show-all-cell-outputs",
        "notebook:enable-output-scrolling",
        "notebook:disable-output-scrolling",
        "notebook:select-last-run-cell",
        "notebook:replace-selection",
        "notebook:create-new",
        "help:about",
        "help:open",
        "help:launch-classic-notebook",
        "terminal:create-new",
        "terminal:open",
        "terminal:refresh",
        "terminal:increase-font",
        "terminal:decrease-font",
        "terminal:set-theme",
        "completer:invoke-notebook",
        "completer:select-notebook",
        "logconsole:open",
        "logconsole:add-checkpoint",
        "logconsole:clear",
        "logconsole:set-level",
        "tooltip:launch-notebook",
        "@jupyter-widgets/jupyterlab-manager:saveWidgetState",
        "extensionmanager:toggle",
        "console:open",
        "console:create",
        "console:clear",
        "console:run-unforced",
        "console:run-forced",
        "console:linebreak",
        "console:replace-selection",
        "console:interrupt-kernel",
        "console:restart-kernel",
        "console:close-and-shutdown",
        "console:inject",
        "console:change-kernel",
        "console:interaction-mode",
        "fileeditor:change-font-size",
        "fileeditor:toggle-line-numbers",
        "fileeditor:toggle-line-wrap",
        "fileeditor:change-tabs",
        "fileeditor:toggle-match-brackets",
        "fileeditor:toggle-autoclosing-brackets",
        "fileeditor:replace-selection",
        "fileeditor:create-console",
        "fileeditor:run-code",
        "fileeditor:run-all",
        "fileeditor:markdown-preview",
        "fileeditor:create-new",
        "fileeditor:create-new-markdown-file",
        "fileeditor:undo",
        "fileeditor:redo",
        "fileeditor:cut",
        "fileeditor:copy",
        "fileeditor:paste",
        "fileeditor:select-all",
        "completer:invoke-console",
        "completer:select-console",
        "console:toggle-show-all-kernel-activity",
        "tooltip:launch-console",
        "codemirror:change-theme",
        "codemirror:change-keymap",
        "codemirror:find",
        "codemirror:go-to-line",
        "codemirror:change-mode",
        "completer:invoke-file",
        "completer:select-file",
        "tooltip:launch-file",
        "help-menu-python3:banner",
        "help-menu-python3:Python Reference",
        "help-menu-python3:IPython Reference",
        "help-menu-python3:NumPy Reference",
        "help-menu-python3:SciPy Reference",
        "help-menu-python3:Matplotlib Reference",
        "help-menu-python3:SymPy Reference",
        "help-menu-python3:pandas Reference"
       ],
       "_model_module_version": "^0.3.0",
       "_view_module": null,
       "_view_module_version": ""
      }
     },
     "ebaa5743a42c46f8bb7f0f46aa0e08f9": {
      "model_module": "@jupyter-widgets/base",
      "model_module_version": "1.2.0",
      "model_name": "LayoutModel",
      "state": {
       "height": "auto",
       "width": "100%"
      }
     },
     "f1b3187997db44428cfcef6c69ccfbc6": {
      "model_module": "@jupyter-widgets/controls",
      "model_module_version": "1.5.0",
      "model_name": "BoxModel",
      "state": {
       "children": [
        "IPY_MODEL_25a6017f727c4ffe8a9993b5ebeb3a65"
       ],
       "layout": "IPY_MODEL_b734e48bc6f3486da9d3f7776850a29d"
      }
     },
     "f588c96e791c48f0afb66f80c090e367": {
      "model_module": "@jupyter-widgets/controls",
      "model_module_version": "1.5.0",
      "model_name": "BoxModel",
      "state": {
       "children": [
        "IPY_MODEL_3b4e0d5009b64a3b89bd947c352c159f"
       ],
       "layout": "IPY_MODEL_17aaed2b42e64b7a81bd92b70e628963"
      }
     },
     "f9ee69d1279d41ebab89109e3849f8d3": {
      "model_module": "@jupyter-widgets/base",
      "model_module_version": "1.2.0",
      "model_name": "LayoutModel",
      "state": {
       "height": "auto",
       "width": "100%"
      }
     }
    },
    "version_major": 2,
    "version_minor": 0
   }
  }
 },
 "nbformat": 4,
 "nbformat_minor": 4
}
