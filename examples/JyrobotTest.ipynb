{
 "cells": [
  {
   "cell_type": "markdown",
   "metadata": {},
   "source": [
    "# Example 1"
   ]
  },
  {
   "cell_type": "code",
   "execution_count": 1,
   "metadata": {},
   "outputs": [],
   "source": [
    "import jyrobot\n",
    "import random"
   ]
  },
  {
   "cell_type": "code",
   "execution_count": 2,
   "metadata": {},
   "outputs": [
    {
     "name": "stdout",
     "output_type": "stream",
     "text": [
      "Searching for jyrobot config files...\n",
      "Directory: ./\n",
      "    'experiment-01'\n",
      "Directory: /home/dblank/jyrobot/jyrobot/worlds\n",
      "    'duck-scribbler-no-walls'\n",
      "    'two-scribblers-no-walls'\n",
      "    'two-scribblers-one-wall'\n",
      "    'two-scribblers'\n"
     ]
    }
   ],
   "source": [
    "jyrobot.load()"
   ]
  },
  {
   "cell_type": "code",
   "execution_count": 3,
   "metadata": {},
   "outputs": [
    {
     "name": "stdout",
     "output_type": "stream",
     "text": [
      "Random seed initialized to: 9313903\n"
     ]
    }
   ],
   "source": [
    "world = jyrobot.load(\"two-scribblers\")"
   ]
  },
  {
   "cell_type": "code",
   "execution_count": 4,
   "metadata": {},
   "outputs": [
    {
     "data": {
      "application/vnd.jupyter.widget-view+json": {
       "model_id": "045a4a281c424783aca7f8c8bc630fb4",
       "version_major": 2,
       "version_minor": 0
      },
      "text/plain": [
       "Box(children=(Image(value=b'\\xff\\xd8\\xff\\xe0\\x00\\x10JFIF\\x00\\x01\\x01\\x00\\x00\\x01\\x00\\x01\\x00\\x00\\xff\\xdb\\x00C\\…"
      ]
     },
     "metadata": {},
     "output_type": "display_data"
    }
   ],
   "source": [
    "world.watch(\"panel\", \"inline\") # or \"panel\", \"left\", \"right\", \"inline\""
   ]
  },
  {
   "cell_type": "code",
   "execution_count": 5,
   "metadata": {},
   "outputs": [
    {
     "data": {
      "image/png": "[encoded data removed]",
      "text/plain": [
       "<PIL.Image.Image image mode=RGB size=200x200 at 0x7F2F29C06970>"
      ]
     },
     "execution_count": 5,
     "metadata": {},
     "output_type": "execute_result"
    }
   ],
   "source": [
    "world.take_picture(\"blue\", size=200)"
   ]
  },
  {
   "cell_type": "code",
   "execution_count": 6,
   "metadata": {},
   "outputs": [
    {
     "name": "stdout",
     "output_type": "stream",
     "text": [
      "This world was loaded from '/home/dblank/jyrobot/jyrobot/worlds/two-scribblers.json'\n",
      "Robots:\n",
      "-------------------------\n",
      "  robot[0 or 'Red']: <Robot(name='Red', position=430,50,3.14 v=0,0,0)>\n",
      "      device[0 or 'camera']: <Camera size=(256,128), angle=60.0>\n",
      "      device[1 or 'laser']: <RangeSensor angle=0.0, range=100, width=0.0>\n",
      "      device[2 or 'ir']: <RangeSensor angle=90.0, range=20, width=57.3>\n",
      "      device[3 or 'ir']: <RangeSensor angle=-90.0, range=20, width=57.3>\n",
      "  -------------------------\n",
      "  robot[1 or 'Blue']: <Robot(name='Blue', position=30,50,0.0 v=0,0,0)>\n",
      "      device[0 or 'camera']: <Camera size=(256,128), angle=60.0>\n",
      "      device[1 or 'laser']: <RangeSensor angle=0.0, range=100, width=0.0>\n",
      "      device[2 or 'ir']: <RangeSensor angle=0.0, range=20, width=57.3>\n",
      "      device[3 or 'ir']: <RangeSensor angle=0.0, range=20, width=57.3>\n",
      "  -------------------------\n"
     ]
    }
   ],
   "source": [
    "world.info()"
   ]
  },
  {
   "cell_type": "code",
   "execution_count": 7,
   "metadata": {},
   "outputs": [
    {
     "data": {
      "text/plain": [
       "<Camera size=(256,128), angle=60.0>"
      ]
     },
     "execution_count": 7,
     "metadata": {},
     "output_type": "execute_result"
    }
   ],
   "source": [
    "world[\"red\"][\"camera\"]"
   ]
  },
  {
   "cell_type": "code",
   "execution_count": 8,
   "metadata": {},
   "outputs": [
    {
     "data": {
      "image/png": "[encoded data removed]",
      "text/plain": [
       "<PIL.Image.Image image mode=RGBA size=256x128 at 0x7F2F13F75A90>"
      ]
     },
     "execution_count": 8,
     "metadata": {},
     "output_type": "execute_result"
    }
   ],
   "source": [
    "world[\"red\"][\"camera\"].take_picture()"
   ]
  },
  {
   "cell_type": "code",
   "execution_count": 9,
   "metadata": {},
   "outputs": [],
   "source": [
    "world[0].move(1, 0)\n",
    "world[1].move(1, 0)\n",
    "\n",
    "step = 0\n",
    "\n",
    "def control(robot):\n",
    "    global step\n",
    "    if robot.stalled:\n",
    "        robot.reverse()\n",
    "        robot.turn(1 - random.random() * 2)\n",
    "    if random.random() < .1:\n",
    "        robot.turn(1 - random.random() * 2)\n",
    "    #if step % 100 == 0:\n",
    "    #    world.display(world.take_picture())\n",
    "    step += 1"
   ]
  },
  {
   "cell_type": "code",
   "execution_count": null,
   "metadata": {},
   "outputs": [],
   "source": [
    "world.seconds(5, [control, control])"
   ]
  },
  {
   "cell_type": "code",
   "execution_count": null,
   "metadata": {},
   "outputs": [],
   "source": [
    "world.seconds(200, [control, control], show=True, real_time=False)"
   ]
  },
  {
   "cell_type": "code",
   "execution_count": null,
   "metadata": {},
   "outputs": [],
   "source": [
    "world.seconds(200, [control, control], show=False)"
   ]
  },
  {
   "cell_type": "markdown",
   "metadata": {},
   "source": [
    "# Example 2"
   ]
  },
  {
   "cell_type": "code",
   "execution_count": null,
   "metadata": {},
   "outputs": [],
   "source": [
    "import jyrobot\n",
    "import time"
   ]
  },
  {
   "cell_type": "code",
   "execution_count": null,
   "metadata": {},
   "outputs": [],
   "source": [
    "w = jyrobot.World(width=500, height=500, ground_color=\"white\", seed=10, scale=10)\n",
    "w.watch(\"panel\", \"inline\")"
   ]
  },
  {
   "cell_type": "code",
   "execution_count": null,
   "metadata": {},
   "outputs": [],
   "source": [
    "for i in range(20):\n",
    "    robot = jyrobot.Scribbler(color=\"blue\", name=\"Scribby-%s\" % i)\n",
    "    sensor = jyrobot.Camera()\n",
    "    robot.add_device(sensor)\n",
    "    w.add_robot(robot)\n",
    "w.draw()"
   ]
  },
  {
   "cell_type": "code",
   "execution_count": null,
   "metadata": {},
   "outputs": [],
   "source": [
    "from jyrobot.utils import Color\n",
    "import random\n",
    "for robot in w:\n",
    "    robot.set_color( Color(\n",
    "        255 * random.random(), \n",
    "        255 * random.random(), \n",
    "        255 * random.random(), \n",
    "   ))\n",
    "w.draw()"
   ]
  },
  {
   "cell_type": "code",
   "execution_count": null,
   "metadata": {},
   "outputs": [],
   "source": [
    "%%time\n",
    "pics = []\n",
    "for robot in w:\n",
    "    pic = robot[\"camera\"].take_picture()\n",
    "    pics.append(pic)"
   ]
  },
  {
   "cell_type": "code",
   "execution_count": null,
   "metadata": {},
   "outputs": [],
   "source": [
    "w.display(*pics)"
   ]
  },
  {
   "cell_type": "code",
   "execution_count": null,
   "metadata": {},
   "outputs": [],
   "source": [
    "%%time\n",
    "pics = []\n",
    "for i, robot in enumerate(w):\n",
    "    pic = w.take_picture(i, size=200)\n",
    "    pics.append(pic)"
   ]
  },
  {
   "cell_type": "code",
   "execution_count": null,
   "metadata": {},
   "outputs": [],
   "source": [
    "w.display(*pics, background_color=\"black\")"
   ]
  },
  {
   "cell_type": "code",
   "execution_count": null,
   "metadata": {},
   "outputs": [],
   "source": [
    "for robot in w:\n",
    "    robot.move(1,0)"
   ]
  },
  {
   "cell_type": "code",
   "execution_count": null,
   "metadata": {},
   "outputs": [],
   "source": [
    "def control(world):\n",
    "    for robot in world:\n",
    "        if robot.stalled:\n",
    "            robot.reverse()\n",
    "        robot.turn(1 - random.random() * 2)"
   ]
  },
  {
   "cell_type": "code",
   "execution_count": null,
   "metadata": {},
   "outputs": [],
   "source": [
    "w.run(control, show=True, real_time=False)"
   ]
  },
  {
   "cell_type": "markdown",
   "metadata": {},
   "source": [
    "# Example 3"
   ]
  },
  {
   "cell_type": "code",
   "execution_count": 10,
   "metadata": {},
   "outputs": [],
   "source": [
    "import jyrobot as jr\n",
    "import random"
   ]
  },
  {
   "cell_type": "code",
   "execution_count": 11,
   "metadata": {},
   "outputs": [
    {
     "name": "stdout",
     "output_type": "stream",
     "text": [
      "Random seed initialized to: 7864181\n"
     ]
    }
   ],
   "source": [
    "w = jr.World(width=100, height=100, scale=10)"
   ]
  },
  {
   "cell_type": "code",
   "execution_count": 12,
   "metadata": {},
   "outputs": [
    {
     "data": {
      "application/vnd.jupyter.widget-view+json": {
       "model_id": "5066060e5ed54acbba2aa85246af4972",
       "version_major": 2,
       "version_minor": 0
      },
      "text/plain": [
       "Box(children=(Image(value=b'\\xff\\xd8\\xff\\xe0\\x00\\x10JFIF\\x00\\x01\\x01\\x00\\x00\\x01\\x00\\x01\\x00\\x00\\xff\\xdb\\x00C\\…"
      ]
     },
     "metadata": {},
     "output_type": "display_data"
    }
   ],
   "source": [
    "w.watch(\"inline\", \"panel\") # or \"panel\", \"left\", \"right\""
   ]
  },
  {
   "cell_type": "code",
   "execution_count": 13,
   "metadata": {},
   "outputs": [],
   "source": [
    "r = jr.Scribbler()"
   ]
  },
  {
   "cell_type": "code",
   "execution_count": 14,
   "metadata": {},
   "outputs": [],
   "source": [
    "w.add_robot(r)\n",
    "w.update()"
   ]
  },
  {
   "cell_type": "code",
   "execution_count": 15,
   "metadata": {},
   "outputs": [],
   "source": [
    "sensor = jr.RangeSensor()"
   ]
  },
  {
   "cell_type": "code",
   "execution_count": 16,
   "metadata": {},
   "outputs": [],
   "source": [
    "r.add_device(sensor)\n",
    "w.update()"
   ]
  },
  {
   "cell_type": "code",
   "execution_count": 17,
   "metadata": {},
   "outputs": [],
   "source": [
    "r.forward(1)\n",
    "\n",
    "def control(world):\n",
    "    for robot in world:\n",
    "        if robot.stalled:\n",
    "            robot.reverse()\n",
    "        robot.turn(1 - random.random() * 2)"
   ]
  },
  {
   "cell_type": "code",
   "execution_count": 20,
   "metadata": {},
   "outputs": [],
   "source": [
    "r.watch(lambda robot: (robot.x, robot.world.width - robot.y))"
   ]
  },
  {
   "cell_type": "code",
   "execution_count": 19,
   "metadata": {},
   "outputs": [
    {
     "data": {
      "application/vnd.jupyter.widget-view+json": {
       "model_id": "7c0274f5f6f542c58d4b9f1b1ee178e3",
       "version_major": 2,
       "version_minor": 0
      },
      "text/plain": [
       "HBox(children=(HTML(value=''), FloatProgress(value=0.0, max=1.0), HTML(value='')))"
      ]
     },
     "metadata": {},
     "output_type": "display_data"
    },
    {
     "name": "stdout",
     "output_type": "stream",
     "text": [
      "\n",
      "Simulation stopped at: 00:00:00.1; speed 0.69 x real time\n"
     ]
    }
   ],
   "source": [
    "w.seconds(.1, control, show=True, real_time=True)"
   ]
  },
  {
   "cell_type": "code",
   "execution_count": null,
   "metadata": {},
   "outputs": [],
   "source": [
    "w.seconds(10, control, show=True, real_time=True)"
   ]
  },
  {
   "cell_type": "code",
   "execution_count": null,
   "metadata": {},
   "outputs": [
    {
     "data": {
      "application/vnd.jupyter.widget-view+json": {
       "model_id": "5db4d8d626fd485d95e1d7d930eff141",
       "version_major": 2,
       "version_minor": 0
      },
      "text/plain": [
       "HBox(children=(HTML(value=''), FloatProgress(value=1.0, bar_style='info', layout=Layout(width='20px'), max=1.0…"
      ]
     },
     "metadata": {},
     "output_type": "display_data"
    }
   ],
   "source": [
    "w.run(control, show=True, real_time=True)"
   ]
  },
  {
   "cell_type": "code",
   "execution_count": null,
   "metadata": {},
   "outputs": [],
   "source": [
    "w.seconds(10, control, show=True, real_time=False)"
   ]
  },
  {
   "cell_type": "code",
   "execution_count": null,
   "metadata": {},
   "outputs": [],
   "source": [
    "w.seconds(10, control, show=False)"
   ]
  },
  {
   "cell_type": "code",
   "execution_count": null,
   "metadata": {},
   "outputs": [],
   "source": [
    "r.set_pose(50, 50, 180)"
   ]
  },
  {
   "cell_type": "code",
   "execution_count": null,
   "metadata": {},
   "outputs": [],
   "source": [
    "r.set_color(\"purple\")"
   ]
  },
  {
   "cell_type": "code",
   "execution_count": null,
   "metadata": {},
   "outputs": [],
   "source": [
    "w.update()"
   ]
  },
  {
   "cell_type": "code",
   "execution_count": null,
   "metadata": {},
   "outputs": [],
   "source": [
    "w.take_picture()"
   ]
  },
  {
   "cell_type": "code",
   "execution_count": null,
   "metadata": {},
   "outputs": [],
   "source": []
  }
 ],
 "metadata": {
  "kernelspec": {
   "display_name": "Python 3",
   "language": "python",
   "name": "python3"
  },
  "language_info": {
   "codemirror_mode": {
    "name": "ipython",
    "version": 3
   },
   "file_extension": ".py",
   "mimetype": "text/x-python",
   "name": "python",
   "nbconvert_exporter": "python",
   "pygments_lexer": "ipython3",
   "version": "3.8.5"
  },
  "widgets": {
   "application/vnd.jupyter.widget-state+json": {
    "state": {
     "01a74f6773d844a7b6fe241978930596": {
      "model_module": "@jupyter-widgets/base",
      "model_module_version": "1.2.0",
      "model_name": "LayoutModel",
      "state": {}
     },
     "045a4a281c424783aca7f8c8bc630fb4": {
      "model_module": "@jupyter-widgets/controls",
      "model_module_version": "1.5.0",
      "model_name": "BoxModel",
      "state": {
       "children": [
        "IPY_MODEL_fbe2c49df49f4ccebb574f22e6151fd8"
       ],
       "layout": "IPY_MODEL_6c4f7e7a097c41b5bd3628b42020cab6"
      }
     },
     "0513997fefb54f77987fc55f8f4961a5": {
      "model_module": "@jupyter-widgets/controls",
      "model_module_version": "1.5.0",
      "model_name": "FloatProgressModel",
      "state": {
       "bar_style": "info",
       "layout": "IPY_MODEL_d22aab88a1904509aea46084741205bf",
       "max": 1,
       "style": "IPY_MODEL_09935f257cef4bf5850fce7bfbd291fe",
       "value": 1
      }
     },
     "0748a70daaab4864a004790a19248fe8": {
      "model_module": "@jupyter-widgets/controls",
      "model_module_version": "1.5.0",
      "model_name": "HTMLModel",
      "state": {
       "layout": "IPY_MODEL_1a2603e838b247e78cdb10eb5f38fb17",
       "style": "IPY_MODEL_b03fc9db132248829aaaa2fa024383da"
      }
     },
     "0974bc965f28421394bf567e4eef66e2": {
      "model_module": "@jupyter-widgets/controls",
      "model_module_version": "1.5.0",
      "model_name": "ProgressStyleModel",
      "state": {
       "description_width": ""
      }
     },
     "09935f257cef4bf5850fce7bfbd291fe": {
      "model_module": "@jupyter-widgets/controls",
      "model_module_version": "1.5.0",
      "model_name": "ProgressStyleModel",
      "state": {
       "description_width": ""
      }
     },
     "09e8f6b9a33047159863d6ba1eea6988": {
      "model_module": "bqplot",
      "model_module_version": "^0.5.18",
      "model_name": "LinearScaleModel",
      "state": {
       "_model_module_version": "^0.5.18",
       "_view_module_version": "^0.5.18",
       "stabilized": false
      }
     },
     "0b766bd17aa74444a18c09553407ad5d": {
      "buffers": [
       {
        "data": "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",
        "encoding": "base64",
        "path": [
         "x",
         "value"
        ]
       },
       {
        "data": "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",
        "encoding": "base64",
        "path": [
         "y",
         "value"
        ]
       }
      ],
      "model_module": "bqplot",
      "model_module_version": "^0.5.18",
      "model_name": "LinesModel",
      "state": {
       "_model_module_version": "^0.5.18",
       "_view_module_version": "^0.5.18",
       "colors": [
        "red"
       ],
       "fill_colors": [],
       "labels": [
        "C1"
       ],
       "scales": {
        "x": "IPY_MODEL_09e8f6b9a33047159863d6ba1eea6988",
        "y": "IPY_MODEL_31064bf67e5749ba9e47f3c575db9240"
       },
       "stroke_width": 3,
       "x": {
        "dtype": "float64",
        "shape": [
         327
        ],
        "type": null
       },
       "y": {
        "dtype": "float64",
        "shape": [
         327
        ],
        "type": null
       }
      }
     },
     "0eff41483cc849a1b56bf96762e36011": {
      "model_module": "ipylab",
      "model_module_version": "^0.3.0",
      "model_name": "CommandRegistryModel",
      "state": {
       "_command_list": [
        "__internal:context-menu-info",
        "apputils:activate-command-palette",
        "apputils:print",
        "apputils:run-first-enabled",
        "completer:invoke",
        "completer:select",
        "tooltip:dismiss",
        "launcher:create",
        "editmenu:undo",
        "editmenu:redo",
        "editmenu:clear-current",
        "editmenu:clear-all",
        "editmenu:go-to-line",
        "filemenu:close-and-cleanup",
        "filemenu:create-console",
        "filemenu:shutdown",
        "filemenu:logout",
        "kernelmenu:interrupt",
        "kernelmenu:restart",
        "kernelmenu:restart-and-clear",
        "kernelmenu:change",
        "kernelmenu:shutdown",
        "kernelmenu:shutdownAll",
        "runmenu:run",
        "runmenu:run-all",
        "runmenu:restart-and-run-all",
        "viewmenu:line-numbering",
        "viewmenu:match-brackets",
        "viewmenu:word-wrap",
        "tabsmenu:activate-by-id",
        "tabsmenu:activate-previously-used-tab",
        "editmenu:open",
        "filemenu:open",
        "kernelmenu:open",
        "runmenu:open",
        "viewmenu:open",
        "settingsmenu:open",
        "tabsmenu:open",
        "helpmenu:open",
        "mainmenu:open-first",
        "documentsearch:start",
        "documentsearch:startWithReplace",
        "documentsearch:highlightNext",
        "documentsearch:highlightPrevious",
        "docmanager:clone",
        "docmanager:rename",
        "docmanager:delete",
        "docmanager:show-in-file-browser",
        "docmanager:delete-file",
        "docmanager:new-untitled",
        "docmanager:open",
        "docmanager:open-browser-tab",
        "docmanager:reload",
        "docmanager:restore-checkpoint",
        "docmanager:save",
        "docmanager:save-all",
        "docmanager:save-as",
        "docmanager:download",
        "docmanager:toggle-autosave",
        "sidebar:switch",
        "apputils:change-theme",
        "apputils:theme-scrollbars",
        "apputils:incr-font-size",
        "apputils:decr-font-size",
        "statusbar:toggle",
        "rendermime:handle-local-link",
        "application:activate-next-tab",
        "application:activate-previous-tab",
        "application:activate-next-tab-bar",
        "application:activate-previous-tab-bar",
        "application:close",
        "application:close-all",
        "application:close-other-tabs",
        "application:close-right-tabs",
        "application:toggle-left-area",
        "application:toggle-right-area",
        "application:toggle-presentation-mode",
        "application:set-mode",
        "application:toggle-mode",
        "apputils:load-statedb",
        "apputils:reset",
        "apputils:reset-on-load",
        "markdownviewer:open",
        "markdownviewer:edit",
        "settingeditor:open",
        "settingeditor:revert",
        "settingeditor:save",
        "inspector:open",
        "htmlviewer:trust-html",
        "imageviewer:zoom-in",
        "imageviewer:zoom-out",
        "imageviewer:reset-image",
        "imageviewer:rotate-clockwise",
        "imageviewer:rotate-counterclockwise",
        "imageviewer:flip-horizontal",
        "imageviewer:flip-vertical",
        "imageviewer:invert-colors",
        "filebrowser:delete",
        "filebrowser:copy",
        "filebrowser:cut",
        "filebrowser:download",
        "filebrowser:duplicate",
        "filebrowser:hide-main",
        "filebrowser:go-to-path",
        "filebrowser:open-path",
        "filebrowser:open",
        "filebrowser:open-browser-tab",
        "filebrowser:copy-download-link",
        "filebrowser:paste",
        "filebrowser:create-new-directory",
        "filebrowser:create-new-file",
        "filebrowser:create-new-markdown-file",
        "filebrowser:rename",
        "filebrowser:copy-path",
        "filebrowser:activate",
        "filebrowser:shutdown",
        "filebrowser:toggle-main",
        "filebrowser:create-main-launcher",
        "filebrowser:toggle-navigate-to-current-directory",
        "filebrowser:toggle-last-modified",
        "filebrowser:share-main",
        "notebook:run-cell-and-select-next",
        "notebook:run-cell",
        "notebook:run-cell-and-insert-below",
        "notebook:run-in-console",
        "notebook:run-all-cells",
        "notebook:run-all-above",
        "notebook:run-all-below",
        "notebook:render-all-markdown",
        "notebook:restart-kernel",
        "notebook:close-and-shutdown",
        "notebook:trust",
        "notebook:export-to-format",
        "notebook:restart-clear-output",
        "notebook:restart-and-run-to-selected",
        "notebook:restart-run-all",
        "notebook:clear-all-cell-outputs",
        "notebook:clear-cell-output",
        "notebook:interrupt-kernel",
        "notebook:change-cell-to-code",
        "notebook:change-cell-to-markdown",
        "notebook:change-cell-to-raw",
        "notebook:cut-cell",
        "notebook:copy-cell",
        "notebook:paste-cell-below",
        "notebook:paste-cell-above",
        "notebook:paste-and-replace-cell",
        "notebook:delete-cell",
        "notebook:split-cell-at-cursor",
        "notebook:merge-cells",
        "notebook:insert-cell-above",
        "notebook:insert-cell-below",
        "notebook:move-cursor-up",
        "notebook:move-cursor-down",
        "notebook:extend-marked-cells-above",
        "notebook:extend-marked-cells-top",
        "notebook:extend-marked-cells-below",
        "notebook:extend-marked-cells-bottom",
        "notebook:select-all",
        "notebook:deselect-all",
        "notebook:move-cell-up",
        "notebook:move-cell-down",
        "notebook:toggle-all-cell-line-numbers",
        "notebook:enter-command-mode",
        "notebook:enter-edit-mode",
        "notebook:undo-cell-action",
        "notebook:redo-cell-action",
        "notebook:change-kernel",
        "notebook:reconnect-to-kernel",
        "notebook:create-output-view",
        "notebook:create-console",
        "notebook:change-cell-to-heading-1",
        "notebook:change-cell-to-heading-2",
        "notebook:change-cell-to-heading-3",
        "notebook:change-cell-to-heading-4",
        "notebook:change-cell-to-heading-5",
        "notebook:change-cell-to-heading-6",
        "notebook:hide-cell-code",
        "notebook:show-cell-code",
        "notebook:hide-all-cell-code",
        "notebook:show-all-cell-code",
        "notebook:hide-cell-outputs",
        "notebook:show-cell-outputs",
        "notebook:hide-all-cell-outputs",
        "notebook:show-all-cell-outputs",
        "notebook:enable-output-scrolling",
        "notebook:disable-output-scrolling",
        "notebook:select-last-run-cell",
        "notebook:replace-selection",
        "notebook:create-new",
        "help:about",
        "help:open",
        "help:launch-classic-notebook",
        "terminal:create-new",
        "terminal:open",
        "terminal:refresh",
        "terminal:increase-font",
        "terminal:decrease-font",
        "terminal:set-theme",
        "completer:invoke-notebook",
        "completer:select-notebook",
        "logconsole:open",
        "logconsole:add-checkpoint",
        "logconsole:clear",
        "logconsole:set-level",
        "tooltip:launch-notebook",
        "@jupyter-widgets/jupyterlab-manager:saveWidgetState",
        "extensionmanager:toggle",
        "console:open",
        "console:create",
        "console:clear",
        "console:run-unforced",
        "console:run-forced",
        "console:linebreak",
        "console:replace-selection",
        "console:interrupt-kernel",
        "console:restart-kernel",
        "console:close-and-shutdown",
        "console:inject",
        "console:change-kernel",
        "console:interaction-mode",
        "fileeditor:change-font-size",
        "fileeditor:toggle-line-numbers",
        "fileeditor:toggle-line-wrap",
        "fileeditor:change-tabs",
        "fileeditor:toggle-match-brackets",
        "fileeditor:toggle-autoclosing-brackets",
        "fileeditor:replace-selection",
        "fileeditor:create-console",
        "fileeditor:run-code",
        "fileeditor:run-all",
        "fileeditor:markdown-preview",
        "fileeditor:create-new",
        "fileeditor:create-new-markdown-file",
        "fileeditor:undo",
        "fileeditor:redo",
        "fileeditor:cut",
        "fileeditor:copy",
        "fileeditor:paste",
        "fileeditor:select-all",
        "completer:invoke-console",
        "completer:select-console",
        "console:toggle-show-all-kernel-activity",
        "tooltip:launch-console",
        "codemirror:change-theme",
        "codemirror:change-keymap",
        "codemirror:find",
        "codemirror:go-to-line",
        "codemirror:change-mode",
        "completer:invoke-file",
        "completer:select-file",
        "tooltip:launch-file"
       ],
       "_model_module_version": "^0.3.0",
       "_view_module": null,
       "_view_module_version": ""
      }
     },
     "1a2603e838b247e78cdb10eb5f38fb17": {
      "model_module": "@jupyter-widgets/base",
      "model_module_version": "1.2.0",
      "model_name": "LayoutModel",
      "state": {}
     },
     "1a6dc9d3896f404f9cbc152389e504b0": {
      "model_module": "ipylab",
      "model_module_version": "^0.3.0",
      "model_name": "CommandRegistryModel",
      "state": {
       "_command_list": [
        "__internal:context-menu-info",
        "apputils:activate-command-palette",
        "apputils:print",
        "apputils:run-first-enabled",
        "completer:invoke",
        "completer:select",
        "tooltip:dismiss",
        "launcher:create",
        "editmenu:undo",
        "editmenu:redo",
        "editmenu:clear-current",
        "editmenu:clear-all",
        "editmenu:go-to-line",
        "filemenu:close-and-cleanup",
        "filemenu:create-console",
        "filemenu:shutdown",
        "filemenu:logout",
        "kernelmenu:interrupt",
        "kernelmenu:restart",
        "kernelmenu:restart-and-clear",
        "kernelmenu:change",
        "kernelmenu:shutdown",
        "kernelmenu:shutdownAll",
        "runmenu:run",
        "runmenu:run-all",
        "runmenu:restart-and-run-all",
        "viewmenu:line-numbering",
        "viewmenu:match-brackets",
        "viewmenu:word-wrap",
        "tabsmenu:activate-by-id",
        "tabsmenu:activate-previously-used-tab",
        "editmenu:open",
        "filemenu:open",
        "kernelmenu:open",
        "runmenu:open",
        "viewmenu:open",
        "settingsmenu:open",
        "tabsmenu:open",
        "helpmenu:open",
        "mainmenu:open-first",
        "documentsearch:start",
        "documentsearch:startWithReplace",
        "documentsearch:highlightNext",
        "documentsearch:highlightPrevious",
        "docmanager:clone",
        "docmanager:rename",
        "docmanager:delete",
        "docmanager:show-in-file-browser",
        "docmanager:delete-file",
        "docmanager:new-untitled",
        "docmanager:open",
        "docmanager:open-browser-tab",
        "docmanager:reload",
        "docmanager:restore-checkpoint",
        "docmanager:save",
        "docmanager:save-all",
        "docmanager:save-as",
        "docmanager:download",
        "docmanager:toggle-autosave",
        "sidebar:switch",
        "apputils:change-theme",
        "apputils:theme-scrollbars",
        "apputils:incr-font-size",
        "apputils:decr-font-size",
        "statusbar:toggle",
        "rendermime:handle-local-link",
        "application:activate-next-tab",
        "application:activate-previous-tab",
        "application:activate-next-tab-bar",
        "application:activate-previous-tab-bar",
        "application:close",
        "application:close-all",
        "application:close-other-tabs",
        "application:close-right-tabs",
        "application:toggle-left-area",
        "application:toggle-right-area",
        "application:toggle-presentation-mode",
        "application:set-mode",
        "application:toggle-mode",
        "apputils:load-statedb",
        "apputils:reset",
        "apputils:reset-on-load",
        "markdownviewer:open",
        "markdownviewer:edit",
        "settingeditor:open",
        "settingeditor:revert",
        "settingeditor:save",
        "inspector:open",
        "htmlviewer:trust-html",
        "imageviewer:zoom-in",
        "imageviewer:zoom-out",
        "imageviewer:reset-image",
        "imageviewer:rotate-clockwise",
        "imageviewer:rotate-counterclockwise",
        "imageviewer:flip-horizontal",
        "imageviewer:flip-vertical",
        "imageviewer:invert-colors",
        "filebrowser:delete",
        "filebrowser:copy",
        "filebrowser:cut",
        "filebrowser:download",
        "filebrowser:duplicate",
        "filebrowser:hide-main",
        "filebrowser:go-to-path",
        "filebrowser:open-path",
        "filebrowser:open",
        "filebrowser:open-browser-tab",
        "filebrowser:copy-download-link",
        "filebrowser:paste",
        "filebrowser:create-new-directory",
        "filebrowser:create-new-file",
        "filebrowser:create-new-markdown-file",
        "filebrowser:rename",
        "filebrowser:copy-path",
        "filebrowser:activate",
        "filebrowser:shutdown",
        "filebrowser:toggle-main",
        "filebrowser:create-main-launcher",
        "filebrowser:toggle-navigate-to-current-directory",
        "filebrowser:toggle-last-modified",
        "filebrowser:share-main",
        "notebook:run-cell-and-select-next",
        "notebook:run-cell",
        "notebook:run-cell-and-insert-below",
        "notebook:run-in-console",
        "notebook:run-all-cells",
        "notebook:run-all-above",
        "notebook:run-all-below",
        "notebook:render-all-markdown",
        "notebook:restart-kernel",
        "notebook:close-and-shutdown",
        "notebook:trust",
        "notebook:export-to-format",
        "notebook:restart-clear-output",
        "notebook:restart-and-run-to-selected",
        "notebook:restart-run-all",
        "notebook:clear-all-cell-outputs",
        "notebook:clear-cell-output",
        "notebook:interrupt-kernel",
        "notebook:change-cell-to-code",
        "notebook:change-cell-to-markdown",
        "notebook:change-cell-to-raw",
        "notebook:cut-cell",
        "notebook:copy-cell",
        "notebook:paste-cell-below",
        "notebook:paste-cell-above",
        "notebook:paste-and-replace-cell",
        "notebook:delete-cell",
        "notebook:split-cell-at-cursor",
        "notebook:merge-cells",
        "notebook:insert-cell-above",
        "notebook:insert-cell-below",
        "notebook:move-cursor-up",
        "notebook:move-cursor-down",
        "notebook:extend-marked-cells-above",
        "notebook:extend-marked-cells-top",
        "notebook:extend-marked-cells-below",
        "notebook:extend-marked-cells-bottom",
        "notebook:select-all",
        "notebook:deselect-all",
        "notebook:move-cell-up",
        "notebook:move-cell-down",
        "notebook:toggle-all-cell-line-numbers",
        "notebook:enter-command-mode",
        "notebook:enter-edit-mode",
        "notebook:undo-cell-action",
        "notebook:redo-cell-action",
        "notebook:change-kernel",
        "notebook:reconnect-to-kernel",
        "notebook:create-output-view",
        "notebook:create-console",
        "notebook:change-cell-to-heading-1",
        "notebook:change-cell-to-heading-2",
        "notebook:change-cell-to-heading-3",
        "notebook:change-cell-to-heading-4",
        "notebook:change-cell-to-heading-5",
        "notebook:change-cell-to-heading-6",
        "notebook:hide-cell-code",
        "notebook:show-cell-code",
        "notebook:hide-all-cell-code",
        "notebook:show-all-cell-code",
        "notebook:hide-cell-outputs",
        "notebook:show-cell-outputs",
        "notebook:hide-all-cell-outputs",
        "notebook:show-all-cell-outputs",
        "notebook:enable-output-scrolling",
        "notebook:disable-output-scrolling",
        "notebook:select-last-run-cell",
        "notebook:replace-selection",
        "notebook:create-new",
        "help:about",
        "help:open",
        "help:launch-classic-notebook",
        "terminal:create-new",
        "terminal:open",
        "terminal:refresh",
        "terminal:increase-font",
        "terminal:decrease-font",
        "terminal:set-theme",
        "completer:invoke-notebook",
        "completer:select-notebook",
        "logconsole:open",
        "logconsole:add-checkpoint",
        "logconsole:clear",
        "logconsole:set-level",
        "tooltip:launch-notebook",
        "@jupyter-widgets/jupyterlab-manager:saveWidgetState",
        "extensionmanager:toggle",
        "console:open",
        "console:create",
        "console:clear",
        "console:run-unforced",
        "console:run-forced",
        "console:linebreak",
        "console:replace-selection",
        "console:interrupt-kernel",
        "console:restart-kernel",
        "console:close-and-shutdown",
        "console:inject",
        "console:change-kernel",
        "console:interaction-mode",
        "fileeditor:change-font-size",
        "fileeditor:toggle-line-numbers",
        "fileeditor:toggle-line-wrap",
        "fileeditor:change-tabs",
        "fileeditor:toggle-match-brackets",
        "fileeditor:toggle-autoclosing-brackets",
        "fileeditor:replace-selection",
        "fileeditor:create-console",
        "fileeditor:run-code",
        "fileeditor:run-all",
        "fileeditor:markdown-preview",
        "fileeditor:create-new",
        "fileeditor:create-new-markdown-file",
        "fileeditor:undo",
        "fileeditor:redo",
        "fileeditor:cut",
        "fileeditor:copy",
        "fileeditor:paste",
        "fileeditor:select-all",
        "completer:invoke-console",
        "completer:select-console",
        "console:toggle-show-all-kernel-activity",
        "tooltip:launch-console",
        "codemirror:change-theme",
        "codemirror:change-keymap",
        "codemirror:find",
        "codemirror:go-to-line",
        "codemirror:change-mode",
        "completer:invoke-file",
        "completer:select-file",
        "tooltip:launch-file"
       ],
       "_model_module_version": "^0.3.0",
       "_view_module": null,
       "_view_module_version": ""
      }
     },
     "1f5564d1b2dd4a4cb6aae8298cadd50c": {
      "model_module": "bqplot",
      "model_module_version": "^0.5.18",
      "model_name": "FigureModel",
      "state": {
       "_model_module_version": "^0.5.18",
       "_view_module_version": "^0.5.18",
       "axes": [
        "IPY_MODEL_fa3915005d8b48ad94203f35fe205228",
        "IPY_MODEL_b0f6a9cc97ad4eebaa5b209ef7432403"
       ],
       "layout": "IPY_MODEL_6a0ac38187d648af8c99c7e5695eb9f0",
       "marks": [
        "IPY_MODEL_0b766bd17aa74444a18c09553407ad5d"
       ],
       "scale_x": "IPY_MODEL_624dc921cd9e479aad6fdeb5e466263f",
       "scale_y": "IPY_MODEL_e355d810a68f4b9f9d1f521969afc6a4",
       "title": "x vs. y"
      }
     },
     "304ed720e8bd43d2936b314ab88ca8cf": {
      "model_module": "ipylab",
      "model_module_version": "^0.3.0",
      "model_name": "TitleModel",
      "state": {
       "_model_module_version": "^0.3.0",
       "_view_module": null,
       "_view_module_version": "",
       "closable": true,
       "icon_class": "",
       "label": "Jyrobot Plot"
      }
     },
     "31064bf67e5749ba9e47f3c575db9240": {
      "model_module": "bqplot",
      "model_module_version": "^0.5.18",
      "model_name": "LinearScaleModel",
      "state": {
       "_model_module_version": "^0.5.18",
       "_view_module_version": "^0.5.18",
       "stabilized": false
      }
     },
     "3ab6d495f1a2432b833514d5a8be0238": {
      "model_module": "@jupyter-widgets/controls",
      "model_module_version": "1.5.0",
      "model_name": "DescriptionStyleModel",
      "state": {
       "description_width": ""
      }
     },
     "3e57d73e61a340c8891e502394e6fbd2": {
      "model_module": "@jupyter-widgets/controls",
      "model_module_version": "1.5.0",
      "model_name": "DescriptionStyleModel",
      "state": {
       "description_width": ""
      }
     },
     "3ea750dcd3364f59afe6b501908be026": {
      "model_module": "bqplot",
      "model_module_version": "^0.5.18",
      "model_name": "LinearScaleModel",
      "state": {
       "_model_module_version": "^0.5.18",
       "_view_module_version": "^0.5.18",
       "allow_padding": false,
       "max": 1,
       "min": 0,
       "stabilized": false
      }
     },
     "4672e6a80465417a868cab79d732a2e5": {
      "model_module": "@jupyter-widgets/base",
      "model_module_version": "1.2.0",
      "model_name": "LayoutModel",
      "state": {
       "height": "auto",
       "width": "100%"
      }
     },
     "4ca645ad3204411d8af97520afb8316c": {
      "buffers": [
       {
        "data": "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",
        "encoding": "base64",
        "path": [
         "value"
        ]
       }
      ],
      "model_module": "@jupyter-widgets/controls",
      "model_module_version": "1.5.0",
      "model_name": "ImageModel",
      "state": {
       "layout": "IPY_MODEL_b48da4bf9e89423ebcabd5cdbd17b98d"
      }
     },
     "5066060e5ed54acbba2aa85246af4972": {
      "model_module": "@jupyter-widgets/controls",
      "model_module_version": "1.5.0",
      "model_name": "BoxModel",
      "state": {
       "children": [
        "IPY_MODEL_4ca645ad3204411d8af97520afb8316c"
       ],
       "layout": "IPY_MODEL_e730915fb62c4fce81dae440a40f87d0"
      }
     },
     "5247d40fd0d24da7809a2b68a8e5ad98": {
      "buffers": [
       {
        "data": "HYYLpmTOIkBM/e5uBpwhQHWXthl8AiBAdZe2GXwCIEAEkXza4GggQF0iI1g1NSFACalIMP5mIkDPf6CO1fsjQFXw08p78yVAebS7k6ZIKEB0hlXGDPMqQEvKFVfB8i1AwHQCpGWmMEBQsuoYJIUyQM5iLUurajRAw9BpRBRaNkDsAAM4mVM4QBZg+w01UzpATBBHWH5SPEC5qAHYBk8+QGBVX96RJEBAMW9lhVghQUAghFBc7B5CQOAdq6aDHENAhx51kAcZREDY6HycyBJFQAFCHI7fCkZAl0OEtPwCR0CpIC1LzvxHQGS6i2Cl9khAqbnmFtXuSUCthVikGuNKQGncqgol1UtAb9hEozfHTEDeBiHAk7tNQNDc9Rj7sU5A5Te8/OarT0AcUX25D1RQQDCctTlj01BAWyiGNCVTUUDJNlNe/tJRQAEIvQa7UlJAuOZi9I/SUkBEVfbphVJTQMrQ0WZ60lNAmPaODEZSVEBi1+k5btFUQOF0fNTXTlVAUScUtH7IVUDOeMh6ED5WQM54yHoQPlZASAvcRisyVkA9MAPfYBpWQMtRN0pO9lVAMynSgzXGVUCXBTSAu4pVQBIteNITRVVAVcTyhE33VEAzAKQ4uaRUQFLKI1LtTVRAi9AjuWXyU0AfYjQRb5lTQDKiOF/QRVNA7SK4gbT6UkCGMLRENLpSQBTicaJAiFJA3GQQ8y9iUkBDCljW2ERSQFu7AXLQLFJAXnJZS48WUkDBIZgPqwVSQDf0s1HH/VFAqGsoXowCUkAqYdKxVhBSQOEROPqhKlJA4OklzZtUUkBXGbRGsIxSQG96/3ABz1JAxCd+C+QdU0DEJ34L5B1TQGNZWFhKFlNAoLwM8hYHU0DFCjvLK/FSQPdyI0Ly01JAEGtmwvGtUkDMVrIe7HxSQDao443NQVJAaNJhPf/5UUAyPf4A7aZRQECtSoLCRVFAV0iERuLdUEC91Rho8nFQQDtMjEjBAVBAJW3GAroeT0D32duC9DhOQKxB/49wVU1Adia6Bc13TEDL308Ot5xLQIKl+Kg3yEpAorGZGzL/SUD/d9wqSUdJQM7yDQTqnEhA3niqeFH7R0BGdh7fEl1HQKuvjhOGvEZA4WRs0lYfRkB8RGfp1n9FQCSdTR2440RAk027W+RQREAu2x7mmcFDQE6tMhO6M0NAVxFu3kehQkANe1GfPBBCQDfiQgyrekFAZ7JKrXzmQECObvIyMlNAQM/lolSWjT9AHyqwclGPPkDoFALhwbY9QMu7omp5AD1AwBSqWKBfPEBnx6AWqMY7QE496AzIJztAY1UWccuQOkDwllXlsA86QP+Lt+ecljlAWpurD4UXOUB/0+3adaA4QKgi+PejPzhAT8AQy/XmN0DrU1rfxKQ3QHtSLSmjhzdAJc0gOj6BN0B72uQ3D6A3QB77aLaM1TdAHvtotozVN0CXtORjw843QIkn3L4wwTdAfli0BomoN0AIcH8TSnw3QIBIJBDwPTdAmQBgxIvqNkAZIlqNtnU2QO1jizYR5TVAnaGsTxVCNUBEUrLzT5o0QPxXYSIi/zNAiE7WOZx+M0DBVXNC+QozQJTjz2kpljJAAscUrU4uMkA4fkzowuExQJMNPh4tvzFAo6vsok+4MUCZF3MWt74xQDsqIJ3pwzFAPbyGKmDWMUCWtCL2oecxQEL8qqw16TFAAuzPS6TMMUCEZiUTrIMxQETMFBvPADFAgc8hCVhTMEA2ojfWoxMvQEVa4g0pMC1AsOusuennKkAkT1xUqVgoQGbU3Us4nCVAZtTdSzicJUA5HxAIWeQlQOC0dICadCZATHNnabxGJ0AycQCg6V4oQPk4+09vsilA6mQr6TcvK0BQApGZYtssQMTacvW3xC5AZfJKF1R2MECOq2uoD54xQHnkHHCbxjJALjg8NaH7M0BEphZe/Uc1QNqO5sbZtDZACDEPN4hIOEAGMEvY/PU5QH/nD/5XtTtAdv7OJDF+PUBNv13znEk/QEYlEJOPiEBAh02yzJ1tQUCN4Gl8sVBCQIFl5hUWNUNAJY7A0VQbREBElT//VAZFQPbLq1X08kVAx2OzirHjRkAXSQ5m0dVHQBMsfn3txkhAF6p+0mC0SUAsLRvqt5pKQLOBdlUudUtAgGTpeP1FTEB9SBQlgQdNQPNPSOsVvU1A3LVDJ0FrTkClRnYEKRdPQCiIw4LvxU9A4qO+NVc+UEAMuoQ46J9QQNYHUyH8BFFAnMG9Rz9rUUAQds/SwtRRQKaUCEAzQ1JAY5KZalm0UkBhpBW/fylTQKdkpPPHoFNAKhSPrMEYVEA7xdkEj5JUQI50WtsFDlVAE4+RjQyKVUD2eh6TYgdWQPSvLpbRhVZA9K8ultGFVkCYbiy7H3lWQO9O0QGXX1ZANDGl6Dk5VkDmXmocEwZWQIK+6wIVxlVAcGTtfUp5VUALsc7Xsh9VQDmQV+WLuVRA8ElPl7dHVEB9PZAZRcxTQH09kBlFzFNAorimkrTYU0DsrtOEk/FTQPrCm/kfF1RAN+K7OLdJVECSIEYMNYlUQMvRuKNl1VRAdQgxUu4tVUDvRnHQHJNVQF2j/T1lBFZATAkAJRWBVkBMCQAlFYFWQHUOkH2JdFZA1mli9TJbVkDn8WBkDTVWQPZif4LwAVZAUlGNrvXBVUBbX0ZOaHVVQEaIuJdSHFVAQu+pkEW3VEDcju2Y5UZUQJocbUL5ylNA/4BFlCRPU0DFd+6NYdRSQGAdE0S5WVJArJ30yhffUUDkWc6Pf2NRQGmDgBo95lBAAOtaDE1oUECp3T+EwtRPQFIl2GC/105AhYjZgsPaTUDhsNDvy9xMQGIRbl7a3ktAlLFCIB3gSkDKft+eZOFJQEEPJ0eF40hACF58thjnR0CNG5QbHetGQMoK8PQL8UVAwYZXAov3RECUkERTCf1DQLxMU0ZZAENAtxbjd/QCQkA9yxM1JARBQKlOiO3rBEBAPVuBQRkKPkCD8tNwkwo8QM9F8yuiDDpAJEMFnYoTOEBA791JwCU2QEBnMVBzQzRAdaEAimJ1MkDav8VNLcgwQIIK1miSmS5A4lEJLV0DLEAvSpNRA8EpQLRApb5nvydAtEClvme/J0CYT0b7P/UnQGBtiHTwYChA0gkDhwX7KEBq2vv0dsgpQN4kISSw1SpAM/8rx8Y1LEAwFjEw/eAtQAhVEl87yS9AaQUzdpoBMUBNol9IfVQyQN6r/xEXsjNAb7Wf27APNUBTUsytk2I2QDfv+H92tTdAWEv5AF39OEB4p/mBQ0U6QFxEJlQmmDtAQOFSJgnrPEDR6vLvokg+QJv/o+TRuj9Alq1fxtGkQEDpKkqOEn1BQF7yjfB4ZkJAnqdnDUBaQ0ASyyLlxVNEQFgrLZAhUEVAGP9k0JpNRkDIIdlts0xHQM/TW35NTEhA1oXejudLSUD44djDzktKQMfljyGzS0tAmG6ewApKTEBbF2d0VUZNQA==",
        "encoding": "base64",
        "path": [
         "x",
         "value"
        ]
       },
       {
        "data": "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",
        "encoding": "base64",
        "path": [
         "y",
         "value"
        ]
       }
      ],
      "model_module": "bqplot",
      "model_module_version": "^0.5.18",
      "model_name": "LinesModel",
      "state": {
       "_model_module_version": "^0.5.18",
       "_view_module_version": "^0.5.18",
       "colors": [
        "red"
       ],
       "fill_colors": [],
       "labels": [
        "C1"
       ],
       "scales": {
        "x": "IPY_MODEL_e3d3a3a242904588b3e1bfc0a44be31b",
        "y": "IPY_MODEL_a9bd4951317b475982cf8d764600442f"
       },
       "stroke_width": 3,
       "x": {
        "dtype": "float64",
        "shape": [
         326
        ],
        "type": null
       },
       "y": {
        "dtype": "float64",
        "shape": [
         326
        ],
        "type": null
       }
      }
     },
     "531a1759ba6e4b06b48b9789fbd26841": {
      "model_module": "@jupyter-widgets/controls",
      "model_module_version": "1.5.0",
      "model_name": "HTMLModel",
      "state": {
       "layout": "IPY_MODEL_f1a1dd6ad38a4faf99c437df0ba02f27",
       "style": "IPY_MODEL_3ab6d495f1a2432b833514d5a8be0238",
       "value": " 1/1 [00:00&lt;00:00,  7.58it/s]"
      }
     },
     "536fe8914f564237b135b3cd52c327e1": {
      "model_module": "ipylab",
      "model_module_version": "^0.3.0",
      "model_name": "JupyterFrontEndModel",
      "state": {
       "_model_module_version": "^0.3.0",
       "_view_module": null,
       "_view_module_version": "",
       "commands": "IPY_MODEL_1a6dc9d3896f404f9cbc152389e504b0",
       "shell": "IPY_MODEL_71858afa3cdb4305a7dbcd04a9392602",
       "version": "2.2.9"
      }
     },
     "55a7fceeda54439ba6867e9b7d266cac": {
      "model_module": "ipylab",
      "model_module_version": "^0.3.0",
      "model_name": "ShellModel",
      "state": {
       "_model_module_version": "^0.3.0",
       "_view_module": null,
       "_view_module_version": ""
      }
     },
     "595dc0cfc2a846349cfda14d8d933dac": {
      "model_module": "ipylab",
      "model_module_version": "^0.3.0",
      "model_name": "CommandRegistryModel",
      "state": {
       "_command_list": [
        "__internal:context-menu-info",
        "apputils:activate-command-palette",
        "apputils:print",
        "apputils:run-first-enabled",
        "completer:invoke",
        "completer:select",
        "tooltip:dismiss",
        "launcher:create",
        "editmenu:undo",
        "editmenu:redo",
        "editmenu:clear-current",
        "editmenu:clear-all",
        "editmenu:go-to-line",
        "filemenu:close-and-cleanup",
        "filemenu:create-console",
        "filemenu:shutdown",
        "filemenu:logout",
        "kernelmenu:interrupt",
        "kernelmenu:restart",
        "kernelmenu:restart-and-clear",
        "kernelmenu:change",
        "kernelmenu:shutdown",
        "kernelmenu:shutdownAll",
        "runmenu:run",
        "runmenu:run-all",
        "runmenu:restart-and-run-all",
        "viewmenu:line-numbering",
        "viewmenu:match-brackets",
        "viewmenu:word-wrap",
        "tabsmenu:activate-by-id",
        "tabsmenu:activate-previously-used-tab",
        "editmenu:open",
        "filemenu:open",
        "kernelmenu:open",
        "runmenu:open",
        "viewmenu:open",
        "settingsmenu:open",
        "tabsmenu:open",
        "helpmenu:open",
        "mainmenu:open-first",
        "documentsearch:start",
        "documentsearch:startWithReplace",
        "documentsearch:highlightNext",
        "documentsearch:highlightPrevious",
        "docmanager:clone",
        "docmanager:rename",
        "docmanager:delete",
        "docmanager:show-in-file-browser",
        "docmanager:delete-file",
        "docmanager:new-untitled",
        "docmanager:open",
        "docmanager:open-browser-tab",
        "docmanager:reload",
        "docmanager:restore-checkpoint",
        "docmanager:save",
        "docmanager:save-all",
        "docmanager:save-as",
        "docmanager:download",
        "docmanager:toggle-autosave",
        "sidebar:switch",
        "apputils:change-theme",
        "apputils:theme-scrollbars",
        "apputils:incr-font-size",
        "apputils:decr-font-size",
        "statusbar:toggle",
        "rendermime:handle-local-link",
        "application:activate-next-tab",
        "application:activate-previous-tab",
        "application:activate-next-tab-bar",
        "application:activate-previous-tab-bar",
        "application:close",
        "application:close-all",
        "application:close-other-tabs",
        "application:close-right-tabs",
        "application:toggle-left-area",
        "application:toggle-right-area",
        "application:toggle-presentation-mode",
        "application:set-mode",
        "application:toggle-mode",
        "apputils:load-statedb",
        "apputils:reset",
        "apputils:reset-on-load",
        "markdownviewer:open",
        "markdownviewer:edit",
        "settingeditor:open",
        "settingeditor:revert",
        "settingeditor:save",
        "inspector:open",
        "htmlviewer:trust-html",
        "imageviewer:zoom-in",
        "imageviewer:zoom-out",
        "imageviewer:reset-image",
        "imageviewer:rotate-clockwise",
        "imageviewer:rotate-counterclockwise",
        "imageviewer:flip-horizontal",
        "imageviewer:flip-vertical",
        "imageviewer:invert-colors",
        "filebrowser:delete",
        "filebrowser:copy",
        "filebrowser:cut",
        "filebrowser:download",
        "filebrowser:duplicate",
        "filebrowser:hide-main",
        "filebrowser:go-to-path",
        "filebrowser:open-path",
        "filebrowser:open",
        "filebrowser:open-browser-tab",
        "filebrowser:copy-download-link",
        "filebrowser:paste",
        "filebrowser:create-new-directory",
        "filebrowser:create-new-file",
        "filebrowser:create-new-markdown-file",
        "filebrowser:rename",
        "filebrowser:copy-path",
        "filebrowser:activate",
        "filebrowser:shutdown",
        "filebrowser:toggle-main",
        "filebrowser:create-main-launcher",
        "filebrowser:toggle-navigate-to-current-directory",
        "filebrowser:toggle-last-modified",
        "filebrowser:share-main",
        "notebook:run-cell-and-select-next",
        "notebook:run-cell",
        "notebook:run-cell-and-insert-below",
        "notebook:run-in-console",
        "notebook:run-all-cells",
        "notebook:run-all-above",
        "notebook:run-all-below",
        "notebook:render-all-markdown",
        "notebook:restart-kernel",
        "notebook:close-and-shutdown",
        "notebook:trust",
        "notebook:export-to-format",
        "notebook:restart-clear-output",
        "notebook:restart-and-run-to-selected",
        "notebook:restart-run-all",
        "notebook:clear-all-cell-outputs",
        "notebook:clear-cell-output",
        "notebook:interrupt-kernel",
        "notebook:change-cell-to-code",
        "notebook:change-cell-to-markdown",
        "notebook:change-cell-to-raw",
        "notebook:cut-cell",
        "notebook:copy-cell",
        "notebook:paste-cell-below",
        "notebook:paste-cell-above",
        "notebook:paste-and-replace-cell",
        "notebook:delete-cell",
        "notebook:split-cell-at-cursor",
        "notebook:merge-cells",
        "notebook:insert-cell-above",
        "notebook:insert-cell-below",
        "notebook:move-cursor-up",
        "notebook:move-cursor-down",
        "notebook:extend-marked-cells-above",
        "notebook:extend-marked-cells-top",
        "notebook:extend-marked-cells-below",
        "notebook:extend-marked-cells-bottom",
        "notebook:select-all",
        "notebook:deselect-all",
        "notebook:move-cell-up",
        "notebook:move-cell-down",
        "notebook:toggle-all-cell-line-numbers",
        "notebook:enter-command-mode",
        "notebook:enter-edit-mode",
        "notebook:undo-cell-action",
        "notebook:redo-cell-action",
        "notebook:change-kernel",
        "notebook:reconnect-to-kernel",
        "notebook:create-output-view",
        "notebook:create-console",
        "notebook:change-cell-to-heading-1",
        "notebook:change-cell-to-heading-2",
        "notebook:change-cell-to-heading-3",
        "notebook:change-cell-to-heading-4",
        "notebook:change-cell-to-heading-5",
        "notebook:change-cell-to-heading-6",
        "notebook:hide-cell-code",
        "notebook:show-cell-code",
        "notebook:hide-all-cell-code",
        "notebook:show-all-cell-code",
        "notebook:hide-cell-outputs",
        "notebook:show-cell-outputs",
        "notebook:hide-all-cell-outputs",
        "notebook:show-all-cell-outputs",
        "notebook:enable-output-scrolling",
        "notebook:disable-output-scrolling",
        "notebook:select-last-run-cell",
        "notebook:replace-selection",
        "notebook:create-new",
        "help:about",
        "help:open",
        "help:launch-classic-notebook",
        "terminal:create-new",
        "terminal:open",
        "terminal:refresh",
        "terminal:increase-font",
        "terminal:decrease-font",
        "terminal:set-theme",
        "completer:invoke-notebook",
        "completer:select-notebook",
        "logconsole:open",
        "logconsole:add-checkpoint",
        "logconsole:clear",
        "logconsole:set-level",
        "tooltip:launch-notebook",
        "@jupyter-widgets/jupyterlab-manager:saveWidgetState",
        "extensionmanager:toggle",
        "console:open",
        "console:create",
        "console:clear",
        "console:run-unforced",
        "console:run-forced",
        "console:linebreak",
        "console:replace-selection",
        "console:interrupt-kernel",
        "console:restart-kernel",
        "console:close-and-shutdown",
        "console:inject",
        "console:change-kernel",
        "console:interaction-mode",
        "fileeditor:change-font-size",
        "fileeditor:toggle-line-numbers",
        "fileeditor:toggle-line-wrap",
        "fileeditor:change-tabs",
        "fileeditor:toggle-match-brackets",
        "fileeditor:toggle-autoclosing-brackets",
        "fileeditor:replace-selection",
        "fileeditor:create-console",
        "fileeditor:run-code",
        "fileeditor:run-all",
        "fileeditor:markdown-preview",
        "fileeditor:create-new",
        "fileeditor:create-new-markdown-file",
        "fileeditor:undo",
        "fileeditor:redo",
        "fileeditor:cut",
        "fileeditor:copy",
        "fileeditor:paste",
        "fileeditor:select-all",
        "completer:invoke-console",
        "completer:select-console",
        "console:toggle-show-all-kernel-activity",
        "tooltip:launch-console",
        "codemirror:change-theme",
        "codemirror:change-keymap",
        "codemirror:find",
        "codemirror:go-to-line",
        "codemirror:change-mode",
        "completer:invoke-file",
        "completer:select-file",
        "tooltip:launch-file"
       ],
       "_model_module_version": "^0.3.0",
       "_view_module": null,
       "_view_module_version": ""
      }
     },
     "5db4d8d626fd485d95e1d7d930eff141": {
      "model_module": "@jupyter-widgets/controls",
      "model_module_version": "1.5.0",
      "model_name": "HBoxModel",
      "state": {
       "children": [
        "IPY_MODEL_0748a70daaab4864a004790a19248fe8",
        "IPY_MODEL_0513997fefb54f77987fc55f8f4961a5",
        "IPY_MODEL_b49a7a179afa441dafc2a2342830f27f"
       ],
       "layout": "IPY_MODEL_7469a5b4b7ad44a6849d58d6ea15c5cb"
      }
     },
     "624dc921cd9e479aad6fdeb5e466263f": {
      "model_module": "bqplot",
      "model_module_version": "^0.5.18",
      "model_name": "LinearScaleModel",
      "state": {
       "_model_module_version": "^0.5.18",
       "_view_module_version": "^0.5.18",
       "allow_padding": false,
       "max": 1,
       "min": 0,
       "stabilized": false
      }
     },
     "68ca4ce632af4268a6251a9d15ec877f": {
      "model_module": "@jupyter-widgets/base",
      "model_module_version": "1.2.0",
      "model_name": "LayoutModel",
      "state": {}
     },
     "69784cbc64a94c53aefc889bd8800a98": {
      "model_module": "@jupyter-widgets/base",
      "model_module_version": "1.2.0",
      "model_name": "LayoutModel",
      "state": {}
     },
     "6a0ac38187d648af8c99c7e5695eb9f0": {
      "model_module": "@jupyter-widgets/base",
      "model_module_version": "1.2.0",
      "model_name": "LayoutModel",
      "state": {}
     },
     "6c4f7e7a097c41b5bd3628b42020cab6": {
      "model_module": "@jupyter-widgets/base",
      "model_module_version": "1.2.0",
      "model_name": "LayoutModel",
      "state": {
       "max_width": "600px"
      }
     },
     "7091491d1ee74b79958f4d07261d693d": {
      "model_module": "ipylab",
      "model_module_version": "^0.3.0",
      "model_name": "CommandRegistryModel",
      "state": {
       "_command_list": [
        "__internal:context-menu-info",
        "apputils:activate-command-palette",
        "apputils:print",
        "apputils:run-first-enabled",
        "completer:invoke",
        "completer:select",
        "tooltip:dismiss",
        "launcher:create",
        "editmenu:undo",
        "editmenu:redo",
        "editmenu:clear-current",
        "editmenu:clear-all",
        "editmenu:go-to-line",
        "filemenu:close-and-cleanup",
        "filemenu:create-console",
        "filemenu:shutdown",
        "filemenu:logout",
        "kernelmenu:interrupt",
        "kernelmenu:restart",
        "kernelmenu:restart-and-clear",
        "kernelmenu:change",
        "kernelmenu:shutdown",
        "kernelmenu:shutdownAll",
        "runmenu:run",
        "runmenu:run-all",
        "runmenu:restart-and-run-all",
        "viewmenu:line-numbering",
        "viewmenu:match-brackets",
        "viewmenu:word-wrap",
        "tabsmenu:activate-by-id",
        "tabsmenu:activate-previously-used-tab",
        "editmenu:open",
        "filemenu:open",
        "kernelmenu:open",
        "runmenu:open",
        "viewmenu:open",
        "settingsmenu:open",
        "tabsmenu:open",
        "helpmenu:open",
        "mainmenu:open-first",
        "documentsearch:start",
        "documentsearch:startWithReplace",
        "documentsearch:highlightNext",
        "documentsearch:highlightPrevious",
        "docmanager:clone",
        "docmanager:rename",
        "docmanager:delete",
        "docmanager:show-in-file-browser",
        "docmanager:delete-file",
        "docmanager:new-untitled",
        "docmanager:open",
        "docmanager:open-browser-tab",
        "docmanager:reload",
        "docmanager:restore-checkpoint",
        "docmanager:save",
        "docmanager:save-all",
        "docmanager:save-as",
        "docmanager:download",
        "docmanager:toggle-autosave",
        "sidebar:switch",
        "apputils:change-theme",
        "apputils:theme-scrollbars",
        "apputils:incr-font-size",
        "apputils:decr-font-size",
        "statusbar:toggle",
        "rendermime:handle-local-link",
        "application:activate-next-tab",
        "application:activate-previous-tab",
        "application:activate-next-tab-bar",
        "application:activate-previous-tab-bar",
        "application:close",
        "application:close-all",
        "application:close-other-tabs",
        "application:close-right-tabs",
        "application:toggle-left-area",
        "application:toggle-right-area",
        "application:toggle-presentation-mode",
        "application:set-mode",
        "application:toggle-mode",
        "apputils:load-statedb",
        "apputils:reset",
        "apputils:reset-on-load",
        "markdownviewer:open",
        "markdownviewer:edit",
        "settingeditor:open",
        "settingeditor:revert",
        "settingeditor:save",
        "inspector:open",
        "htmlviewer:trust-html",
        "imageviewer:zoom-in",
        "imageviewer:zoom-out",
        "imageviewer:reset-image",
        "imageviewer:rotate-clockwise",
        "imageviewer:rotate-counterclockwise",
        "imageviewer:flip-horizontal",
        "imageviewer:flip-vertical",
        "imageviewer:invert-colors",
        "filebrowser:delete",
        "filebrowser:copy",
        "filebrowser:cut",
        "filebrowser:download",
        "filebrowser:duplicate",
        "filebrowser:hide-main",
        "filebrowser:go-to-path",
        "filebrowser:open-path",
        "filebrowser:open",
        "filebrowser:open-browser-tab",
        "filebrowser:copy-download-link",
        "filebrowser:paste",
        "filebrowser:create-new-directory",
        "filebrowser:create-new-file",
        "filebrowser:create-new-markdown-file",
        "filebrowser:rename",
        "filebrowser:copy-path",
        "filebrowser:activate",
        "filebrowser:shutdown",
        "filebrowser:toggle-main",
        "filebrowser:create-main-launcher",
        "filebrowser:toggle-navigate-to-current-directory",
        "filebrowser:toggle-last-modified",
        "filebrowser:share-main",
        "notebook:run-cell-and-select-next",
        "notebook:run-cell",
        "notebook:run-cell-and-insert-below",
        "notebook:run-in-console",
        "notebook:run-all-cells",
        "notebook:run-all-above",
        "notebook:run-all-below",
        "notebook:render-all-markdown",
        "notebook:restart-kernel",
        "notebook:close-and-shutdown",
        "notebook:trust",
        "notebook:export-to-format",
        "notebook:restart-clear-output",
        "notebook:restart-and-run-to-selected",
        "notebook:restart-run-all",
        "notebook:clear-all-cell-outputs",
        "notebook:clear-cell-output",
        "notebook:interrupt-kernel",
        "notebook:change-cell-to-code",
        "notebook:change-cell-to-markdown",
        "notebook:change-cell-to-raw",
        "notebook:cut-cell",
        "notebook:copy-cell",
        "notebook:paste-cell-below",
        "notebook:paste-cell-above",
        "notebook:paste-and-replace-cell",
        "notebook:delete-cell",
        "notebook:split-cell-at-cursor",
        "notebook:merge-cells",
        "notebook:insert-cell-above",
        "notebook:insert-cell-below",
        "notebook:move-cursor-up",
        "notebook:move-cursor-down",
        "notebook:extend-marked-cells-above",
        "notebook:extend-marked-cells-top",
        "notebook:extend-marked-cells-below",
        "notebook:extend-marked-cells-bottom",
        "notebook:select-all",
        "notebook:deselect-all",
        "notebook:move-cell-up",
        "notebook:move-cell-down",
        "notebook:toggle-all-cell-line-numbers",
        "notebook:enter-command-mode",
        "notebook:enter-edit-mode",
        "notebook:undo-cell-action",
        "notebook:redo-cell-action",
        "notebook:change-kernel",
        "notebook:reconnect-to-kernel",
        "notebook:create-output-view",
        "notebook:create-console",
        "notebook:change-cell-to-heading-1",
        "notebook:change-cell-to-heading-2",
        "notebook:change-cell-to-heading-3",
        "notebook:change-cell-to-heading-4",
        "notebook:change-cell-to-heading-5",
        "notebook:change-cell-to-heading-6",
        "notebook:hide-cell-code",
        "notebook:show-cell-code",
        "notebook:hide-all-cell-code",
        "notebook:show-all-cell-code",
        "notebook:hide-cell-outputs",
        "notebook:show-cell-outputs",
        "notebook:hide-all-cell-outputs",
        "notebook:show-all-cell-outputs",
        "notebook:enable-output-scrolling",
        "notebook:disable-output-scrolling",
        "notebook:select-last-run-cell",
        "notebook:replace-selection",
        "notebook:create-new",
        "help:about",
        "help:open",
        "help:launch-classic-notebook",
        "terminal:create-new",
        "terminal:open",
        "terminal:refresh",
        "terminal:increase-font",
        "terminal:decrease-font",
        "terminal:set-theme",
        "completer:invoke-notebook",
        "completer:select-notebook",
        "logconsole:open",
        "logconsole:add-checkpoint",
        "logconsole:clear",
        "logconsole:set-level",
        "tooltip:launch-notebook",
        "@jupyter-widgets/jupyterlab-manager:saveWidgetState",
        "extensionmanager:toggle",
        "console:open",
        "console:create",
        "console:clear",
        "console:run-unforced",
        "console:run-forced",
        "console:linebreak",
        "console:replace-selection",
        "console:interrupt-kernel",
        "console:restart-kernel",
        "console:close-and-shutdown",
        "console:inject",
        "console:change-kernel",
        "console:interaction-mode",
        "fileeditor:change-font-size",
        "fileeditor:toggle-line-numbers",
        "fileeditor:toggle-line-wrap",
        "fileeditor:change-tabs",
        "fileeditor:toggle-match-brackets",
        "fileeditor:toggle-autoclosing-brackets",
        "fileeditor:replace-selection",
        "fileeditor:create-console",
        "fileeditor:run-code",
        "fileeditor:run-all",
        "fileeditor:markdown-preview",
        "fileeditor:create-new",
        "fileeditor:create-new-markdown-file",
        "fileeditor:undo",
        "fileeditor:redo",
        "fileeditor:cut",
        "fileeditor:copy",
        "fileeditor:paste",
        "fileeditor:select-all",
        "completer:invoke-console",
        "completer:select-console",
        "console:toggle-show-all-kernel-activity",
        "tooltip:launch-console",
        "codemirror:change-theme",
        "codemirror:change-keymap",
        "codemirror:find",
        "codemirror:go-to-line",
        "codemirror:change-mode",
        "completer:invoke-file",
        "completer:select-file",
        "tooltip:launch-file"
       ],
       "_model_module_version": "^0.3.0",
       "_view_module": null,
       "_view_module_version": ""
      }
     },
     "71858afa3cdb4305a7dbcd04a9392602": {
      "model_module": "ipylab",
      "model_module_version": "^0.3.0",
      "model_name": "ShellModel",
      "state": {
       "_model_module_version": "^0.3.0",
       "_view_module": null,
       "_view_module_version": "",
       "_widgets": [
        {
         "area": "main",
         "args": {
          "mode": "split-right"
         },
         "id": "id-c5ca3afe-6c1b-47c8-a484-c2b711bcc130",
         "serializedWidget": "IPY_MODEL_c39492d1f02041109a956a37c856f18d"
        }
       ]
      }
     },
     "72819abc725745028083ea84cc2f5f09": {
      "model_module": "ipylab",
      "model_module_version": "^0.3.0",
      "model_name": "ShellModel",
      "state": {
       "_model_module_version": "^0.3.0",
       "_view_module": null,
       "_view_module_version": "",
       "_widgets": [
        {
         "area": "main",
         "args": {
          "mode": "split-right"
         },
         "id": "id-3b8d5cae-5725-4582-a001-72c46ea7b0e7",
         "serializedWidget": "IPY_MODEL_bd44bdd374e0417bb7048a849bebf190"
        }
       ]
      }
     },
     "72e819a7e130411f811997083b967ae3": {
      "model_module": "bqplot",
      "model_module_version": "^0.5.18",
      "model_name": "AxisModel",
      "state": {
       "_model_module_version": "^0.5.18",
       "_view_module_version": "^0.5.18",
       "label": "x",
       "scale": "IPY_MODEL_e3d3a3a242904588b3e1bfc0a44be31b",
       "side": "bottom",
       "tick_values": null
      }
     },
     "7355c799677d4bc2a8932820406d5d64": {
      "model_module": "bqplot",
      "model_module_version": "^0.5.18",
      "model_name": "FigureModel",
      "state": {
       "_model_module_version": "^0.5.18",
       "_view_module_version": "^0.5.18",
       "axes": [
        "IPY_MODEL_72e819a7e130411f811997083b967ae3",
        "IPY_MODEL_c442c1c6830b49138494275fac758262"
       ],
       "layout": "IPY_MODEL_ad2046f003f54984b68a9592ad6771ca",
       "marks": [
        "IPY_MODEL_5247d40fd0d24da7809a2b68a8e5ad98"
       ],
       "scale_x": "IPY_MODEL_3ea750dcd3364f59afe6b501908be026",
       "scale_y": "IPY_MODEL_7f9e7b0259bf4f23909638a9d2b13d49",
       "title": "x vs. y"
      }
     },
     "7469a5b4b7ad44a6849d58d6ea15c5cb": {
      "model_module": "@jupyter-widgets/base",
      "model_module_version": "1.2.0",
      "model_name": "LayoutModel",
      "state": {}
     },
     "7800255f376743398c0e4798d118b69d": {
      "model_module": "ipylab",
      "model_module_version": "^0.3.0",
      "model_name": "TitleModel",
      "state": {
       "_model_module_version": "^0.3.0",
       "_view_module": null,
       "_view_module_version": "",
       "closable": true,
       "icon_class": "",
       "label": "Jyrobot Plot"
      }
     },
     "7c0274f5f6f542c58d4b9f1b1ee178e3": {
      "model_module": "@jupyter-widgets/controls",
      "model_module_version": "1.5.0",
      "model_name": "HBoxModel",
      "state": {
       "children": [
        "IPY_MODEL_dc38d2bb6b6a44feb3fcccba6c88a2e7",
        "IPY_MODEL_f61a4cac83ce4f35b65c95372399ba32",
        "IPY_MODEL_531a1759ba6e4b06b48b9789fbd26841"
       ],
       "layout": "IPY_MODEL_91df54816ddf41aebf1463f3ac97298e"
      }
     },
     "7f9e7b0259bf4f23909638a9d2b13d49": {
      "model_module": "bqplot",
      "model_module_version": "^0.5.18",
      "model_name": "LinearScaleModel",
      "state": {
       "_model_module_version": "^0.5.18",
       "_view_module_version": "^0.5.18",
       "allow_padding": false,
       "max": 1,
       "min": 0,
       "stabilized": false
      }
     },
     "84112e90db014d32b6740c302ffef224": {
      "model_module": "ipylab",
      "model_module_version": "^0.3.0",
      "model_name": "JupyterFrontEndModel",
      "state": {
       "_model_module_version": "^0.3.0",
       "_view_module": null,
       "_view_module_version": "",
       "commands": "IPY_MODEL_595dc0cfc2a846349cfda14d8d933dac",
       "shell": "IPY_MODEL_55a7fceeda54439ba6867e9b7d266cac",
       "version": "2.2.9"
      }
     },
     "91df54816ddf41aebf1463f3ac97298e": {
      "model_module": "@jupyter-widgets/base",
      "model_module_version": "1.2.0",
      "model_name": "LayoutModel",
      "state": {}
     },
     "97090602b293446db991240e1a18b450": {
      "model_module": "@jupyter-widgets/base",
      "model_module_version": "1.2.0",
      "model_name": "LayoutModel",
      "state": {}
     },
     "a6cf29fcf34948c79728e88551acb66a": {
      "model_module": "ipylab",
      "model_module_version": "^0.3.0",
      "model_name": "ShellModel",
      "state": {
       "_model_module_version": "^0.3.0",
       "_view_module": null,
       "_view_module_version": "",
       "_widgets": [
        {
         "area": "main",
         "args": {
          "mode": "split-right"
         },
         "id": "id-47d88484-22fc-4ae1-ae83-3434dab084b7",
         "serializedWidget": "IPY_MODEL_2f9560b5184c4a3a81ca7182b3135ba9"
        }
       ]
      }
     },
     "a9bd4951317b475982cf8d764600442f": {
      "model_module": "bqplot",
      "model_module_version": "^0.5.18",
      "model_name": "LinearScaleModel",
      "state": {
       "_model_module_version": "^0.5.18",
       "_view_module_version": "^0.5.18",
       "stabilized": false
      }
     },
     "ad2046f003f54984b68a9592ad6771ca": {
      "model_module": "@jupyter-widgets/base",
      "model_module_version": "1.2.0",
      "model_name": "LayoutModel",
      "state": {}
     },
     "b03fc9db132248829aaaa2fa024383da": {
      "model_module": "@jupyter-widgets/controls",
      "model_module_version": "1.5.0",
      "model_name": "DescriptionStyleModel",
      "state": {
       "description_width": ""
      }
     },
     "b0f6a9cc97ad4eebaa5b209ef7432403": {
      "model_module": "bqplot",
      "model_module_version": "^0.5.18",
      "model_name": "AxisModel",
      "state": {
       "_model_module_version": "^0.5.18",
       "_view_module_version": "^0.5.18",
       "label": "y",
       "orientation": "vertical",
       "scale": "IPY_MODEL_31064bf67e5749ba9e47f3c575db9240",
       "side": "left",
       "tick_values": null
      }
     },
     "b48da4bf9e89423ebcabd5cdbd17b98d": {
      "model_module": "@jupyter-widgets/base",
      "model_module_version": "1.2.0",
      "model_name": "LayoutModel",
      "state": {
       "margin": "auto"
      }
     },
     "b49a7a179afa441dafc2a2342830f27f": {
      "model_module": "@jupyter-widgets/controls",
      "model_module_version": "1.5.0",
      "model_name": "HTMLModel",
      "state": {
       "layout": "IPY_MODEL_68ca4ce632af4268a6251a9d15ec877f",
       "style": "IPY_MODEL_3e57d73e61a340c8891e502394e6fbd2",
       "value": "326it [00:33,  9.86it/s]"
      }
     },
     "b8a70062498a4640a6a14eb43866f68b": {
      "model_module": "@jupyter-widgets/base",
      "model_module_version": "1.2.0",
      "model_name": "LayoutModel",
      "state": {}
     },
     "bd44bdd374e0417bb7048a849bebf190": {
      "model_module": "ipylab",
      "model_module_version": "^0.3.0",
      "model_name": "PanelModel",
      "state": {
       "_model_module_version": "^0.3.0",
       "children": [
        "IPY_MODEL_dcbe3189208d4860967c6053343a0213"
       ],
       "layout": "IPY_MODEL_f266b99d90c84d5db73292fa0e7c5674",
       "title": "IPY_MODEL_be0a9476628d40259a9707f4a104546a"
      }
     },
     "be0a9476628d40259a9707f4a104546a": {
      "model_module": "ipylab",
      "model_module_version": "^0.3.0",
      "model_name": "TitleModel",
      "state": {
       "_model_module_version": "^0.3.0",
       "_view_module": null,
       "_view_module_version": "",
       "closable": true,
       "icon_class": "",
       "label": "Jyrobot Simulator"
      }
     },
     "c39492d1f02041109a956a37c856f18d": {
      "model_module": "ipylab",
      "model_module_version": "^0.3.0",
      "model_name": "PanelModel",
      "state": {
       "_model_module_version": "^0.3.0",
       "children": [
        "IPY_MODEL_7355c799677d4bc2a8932820406d5d64"
       ],
       "layout": "IPY_MODEL_97090602b293446db991240e1a18b450",
       "title": "IPY_MODEL_304ed720e8bd43d2936b314ab88ca8cf"
      }
     },
     "c442c1c6830b49138494275fac758262": {
      "model_module": "bqplot",
      "model_module_version": "^0.5.18",
      "model_name": "AxisModel",
      "state": {
       "_model_module_version": "^0.5.18",
       "_view_module_version": "^0.5.18",
       "label": "y",
       "orientation": "vertical",
       "scale": "IPY_MODEL_a9bd4951317b475982cf8d764600442f",
       "side": "left",
       "tick_values": null
      }
     },
     "c5275203ae974d969a5f74774254cb7b": {
      "model_module": "@jupyter-widgets/controls",
      "model_module_version": "1.5.0",
      "model_name": "DescriptionStyleModel",
      "state": {
       "description_width": ""
      }
     },
     "cecf8df9b51d4847b9b9890410fdade2": {
      "model_module": "@jupyter-widgets/base",
      "model_module_version": "1.2.0",
      "model_name": "LayoutModel",
      "state": {
       "height": "auto",
       "width": "100%"
      }
     },
     "d22aab88a1904509aea46084741205bf": {
      "model_module": "@jupyter-widgets/base",
      "model_module_version": "1.2.0",
      "model_name": "LayoutModel",
      "state": {
       "width": "20px"
      }
     },
     "d91942ef0ecd4249a27bbcd670744914": {
      "model_module": "ipylab",
      "model_module_version": "^0.3.0",
      "model_name": "JupyterFrontEndModel",
      "state": {
       "_model_module_version": "^0.3.0",
       "_view_module": null,
       "_view_module_version": "",
       "commands": "IPY_MODEL_0eff41483cc849a1b56bf96762e36011",
       "shell": "IPY_MODEL_a6cf29fcf34948c79728e88551acb66a",
       "version": "2.2.9"
      }
     },
     "dbb2a7c41c444ac1876448abe3a2af12": {
      "model_module": "@jupyter-widgets/base",
      "model_module_version": "1.2.0",
      "model_name": "LayoutModel",
      "state": {
       "margin": "auto"
      }
     },
     "dc38d2bb6b6a44feb3fcccba6c88a2e7": {
      "model_module": "@jupyter-widgets/controls",
      "model_module_version": "1.5.0",
      "model_name": "HTMLModel",
      "state": {
       "layout": "IPY_MODEL_69784cbc64a94c53aefc889bd8800a98",
       "style": "IPY_MODEL_c5275203ae974d969a5f74774254cb7b",
       "value": "100%"
      }
     },
     "dcbe3189208d4860967c6053343a0213": {
      "model_module": "@jupyter-widgets/controls",
      "model_module_version": "1.5.0",
      "model_name": "BoxModel",
      "state": {
       "children": [
        "IPY_MODEL_4ca645ad3204411d8af97520afb8316c"
       ],
       "layout": "IPY_MODEL_cecf8df9b51d4847b9b9890410fdade2"
      }
     },
     "e355d810a68f4b9f9d1f521969afc6a4": {
      "model_module": "bqplot",
      "model_module_version": "^0.5.18",
      "model_name": "LinearScaleModel",
      "state": {
       "_model_module_version": "^0.5.18",
       "_view_module_version": "^0.5.18",
       "allow_padding": false,
       "max": 1,
       "min": 0,
       "stabilized": false
      }
     },
     "e3d3a3a242904588b3e1bfc0a44be31b": {
      "model_module": "bqplot",
      "model_module_version": "^0.5.18",
      "model_name": "LinearScaleModel",
      "state": {
       "_model_module_version": "^0.5.18",
       "_view_module_version": "^0.5.18",
       "stabilized": false
      }
     },
     "e53fa673530f4639a6ebff100a7bae89": {
      "model_module": "ipylab",
      "model_module_version": "^0.3.0",
      "model_name": "TitleModel",
      "state": {
       "_model_module_version": "^0.3.0",
       "_view_module": null,
       "_view_module_version": "",
       "closable": true,
       "icon_class": "",
       "label": "Jyrobot Simulator"
      }
     },
     "e730915fb62c4fce81dae440a40f87d0": {
      "model_module": "@jupyter-widgets/base",
      "model_module_version": "1.2.0",
      "model_name": "LayoutModel",
      "state": {
       "max_width": "600px"
      }
     },
     "e9cf8e13f6014fdd86fed13a084733a9": {
      "model_module": "@jupyter-widgets/controls",
      "model_module_version": "1.5.0",
      "model_name": "BoxModel",
      "state": {
       "children": [
        "IPY_MODEL_fbe2c49df49f4ccebb574f22e6151fd8"
       ],
       "layout": "IPY_MODEL_4672e6a80465417a868cab79d732a2e5"
      }
     },
     "ebf83239bcae4038bc0f3ee4142e8aba": {
      "model_module": "@jupyter-widgets/base",
      "model_module_version": "1.2.0",
      "model_name": "LayoutModel",
      "state": {}
     },
     "f1a1dd6ad38a4faf99c437df0ba02f27": {
      "model_module": "@jupyter-widgets/base",
      "model_module_version": "1.2.0",
      "model_name": "LayoutModel",
      "state": {}
     },
     "f266b99d90c84d5db73292fa0e7c5674": {
      "model_module": "@jupyter-widgets/base",
      "model_module_version": "1.2.0",
      "model_name": "LayoutModel",
      "state": {}
     },
     "f61a4cac83ce4f35b65c95372399ba32": {
      "model_module": "@jupyter-widgets/controls",
      "model_module_version": "1.5.0",
      "model_name": "FloatProgressModel",
      "state": {
       "bar_style": "success",
       "layout": "IPY_MODEL_01a74f6773d844a7b6fe241978930596",
       "max": 1,
       "style": "IPY_MODEL_0974bc965f28421394bf567e4eef66e2",
       "value": 1
      }
     },
     "fa3915005d8b48ad94203f35fe205228": {
      "model_module": "bqplot",
      "model_module_version": "^0.5.18",
      "model_name": "AxisModel",
      "state": {
       "_model_module_version": "^0.5.18",
       "_view_module_version": "^0.5.18",
       "label": "x",
       "scale": "IPY_MODEL_09e8f6b9a33047159863d6ba1eea6988",
       "side": "bottom",
       "tick_values": null
      }
     },
     "fbe2c49df49f4ccebb574f22e6151fd8": {
      "buffers": [
       {
        "data": "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",
        "encoding": "base64",
        "path": [
         "value"
        ]
       }
      ],
      "model_module": "@jupyter-widgets/controls",
      "model_module_version": "1.5.0",
      "model_name": "ImageModel",
      "state": {
       "layout": "IPY_MODEL_dbb2a7c41c444ac1876448abe3a2af12"
      }
     },
     "fc1590e2767f442fbffe8a7bc89dc366": {
      "model_module": "ipylab",
      "model_module_version": "^0.3.0",
      "model_name": "JupyterFrontEndModel",
      "state": {
       "_model_module_version": "^0.3.0",
       "_view_module": null,
       "_view_module_version": "",
       "commands": "IPY_MODEL_7091491d1ee74b79958f4d07261d693d",
       "shell": "IPY_MODEL_72819abc725745028083ea84cc2f5f09",
       "version": "2.2.9"
      }
     }
    },
    "version_major": 2,
    "version_minor": 0
   }
  }
 },
 "nbformat": 4,
 "nbformat_minor": 4
}
