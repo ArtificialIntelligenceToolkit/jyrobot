{
 "cells": [
  {
   "cell_type": "markdown",
   "metadata": {},
   "source": [
    "# Example 1"
   ]
  },
  {
   "cell_type": "code",
   "execution_count": 1,
   "metadata": {},
   "outputs": [],
   "source": [
    "import jyrobot\n",
    "import random"
   ]
  },
  {
   "cell_type": "code",
   "execution_count": 2,
   "metadata": {},
   "outputs": [
    {
     "name": "stdout",
     "output_type": "stream",
     "text": [
      "Searching for jyrobot config files...\n",
      "Directory: ./\n",
      "    'experiment-01'\n",
      "Directory: /home/dblank/jyrobot/jyrobot/worlds\n",
      "    'duck-scribbler-no-walls'\n",
      "    'two-scribblers-no-walls'\n",
      "    'two-scribblers-one-wall'\n",
      "    'two-scribblers'\n"
     ]
    }
   ],
   "source": [
    "jyrobot.load_world()"
   ]
  },
  {
   "cell_type": "code",
   "execution_count": 3,
   "metadata": {},
   "outputs": [
    {
     "name": "stdout",
     "output_type": "stream",
     "text": [
      "Random seed initialized to: 2875102\n"
     ]
    }
   ],
   "source": [
    "world = jyrobot.load_world(\"two-scribblers\")"
   ]
  },
  {
   "cell_type": "code",
   "execution_count": 4,
   "metadata": {},
   "outputs": [
    {
     "data": {
      "application/vnd.jupyter.widget-view+json": {
       "model_id": "695e7123497345fd8bb521dbcb9c5b23",
       "version_major": 2,
       "version_minor": 0
      },
      "text/plain": [
       "Box(children=(Image(value=b'\\xff\\xd8\\xff\\xe0\\x00\\x10JFIF\\x00\\x01\\x01\\x00\\x00\\x01\\x00\\x01\\x00\\x00\\xff\\xdb\\x00C\\…"
      ]
     },
     "metadata": {},
     "output_type": "display_data"
    }
   ],
   "source": [
    "world.watch(\"panel\", \"inline\") # or \"panel\", \"left\", \"right\", \"inline\""
   ]
  },
  {
   "cell_type": "code",
   "execution_count": 5,
   "metadata": {},
   "outputs": [
    {
     "data": {
      "image/png": "[encoded data removed]",
      "text/plain": [
       "<PIL.Image.Image image mode=RGB size=200x200 at 0x7FC8DD160490>"
      ]
     },
     "execution_count": 5,
     "metadata": {},
     "output_type": "execute_result"
    }
   ],
   "source": [
    "world.take_picture(\"blue\", size=200)"
   ]
  },
  {
   "cell_type": "code",
   "execution_count": 6,
   "metadata": {},
   "outputs": [
    {
     "name": "stdout",
     "output_type": "stream",
     "text": [
      "This world was loaded from '/home/dblank/jyrobot/jyrobot/worlds/two-scribblers.json'\n",
      "Robots:\n",
      "-------------------------\n",
      "  robot[0 or 'Red']: <Robot(name='Red', position=430,50,3.14 v=0,0,0)>\n",
      "      device[0 or 'camera']: <Camera size=(256,128), angle=60.0>\n",
      "      device[1 or 'laser']: <RangeSensor angle=0.0, range=100, width=0.0>\n",
      "      device[2 or 'ir']: <RangeSensor angle=90.0, range=20, width=57.3>\n",
      "      device[3 or 'ir']: <RangeSensor angle=-90.0, range=20, width=57.3>\n",
      "  -------------------------\n",
      "  robot[1 or 'Blue']: <Robot(name='Blue', position=30,50,0.0 v=0,0,0)>\n",
      "      device[0 or 'camera']: <Camera size=(256,128), angle=60.0>\n",
      "      device[1 or 'laser']: <RangeSensor angle=0.0, range=100, width=0.0>\n",
      "      device[2 or 'ir']: <RangeSensor angle=0.0, range=20, width=57.3>\n",
      "      device[3 or 'ir']: <RangeSensor angle=0.0, range=20, width=57.3>\n",
      "  -------------------------\n"
     ]
    }
   ],
   "source": [
    "world.info()"
   ]
  },
  {
   "cell_type": "code",
   "execution_count": 7,
   "metadata": {},
   "outputs": [
    {
     "data": {
      "text/plain": [
       "<Camera size=(256,128), angle=60.0>"
      ]
     },
     "execution_count": 7,
     "metadata": {},
     "output_type": "execute_result"
    }
   ],
   "source": [
    "world[\"red\"][\"camera\"]"
   ]
  },
  {
   "cell_type": "code",
   "execution_count": 8,
   "metadata": {},
   "outputs": [
    {
     "data": {
      "image/png": "[encoded data removed]",
      "text/plain": [
       "<PIL.Image.Image image mode=RGBA size=256x128 at 0x7FC8E43F56A0>"
      ]
     },
     "execution_count": 8,
     "metadata": {},
     "output_type": "execute_result"
    }
   ],
   "source": [
    "world[\"red\"][\"camera\"].take_picture()"
   ]
  },
  {
   "cell_type": "code",
   "execution_count": 9,
   "metadata": {},
   "outputs": [],
   "source": [
    "world[0].move(1, 0)\n",
    "world[1].move(1, 0)\n",
    "\n",
    "step = 0\n",
    "\n",
    "def control(robot):\n",
    "    global step\n",
    "    if robot.stalled:\n",
    "        robot.reverse()\n",
    "        robot.turn(1 - random.random() * 2)\n",
    "    if random.random() < .1:\n",
    "        robot.turn(1 - random.random() * 2)\n",
    "    #if step % 100 == 0:\n",
    "    #    world.display(world.take_picture())\n",
    "    step += 1"
   ]
  },
  {
   "cell_type": "code",
   "execution_count": 14,
   "metadata": {},
   "outputs": [
    {
     "data": {
      "text/plain": [
       "False"
      ]
     },
     "execution_count": 14,
     "metadata": {},
     "output_type": "execute_result"
    }
   ],
   "source": [
    "world[0].recording\n",
    "#world.seconds(5, [control, control])"
   ]
  },
  {
   "cell_type": "code",
   "execution_count": 11,
   "metadata": {},
   "outputs": [
    {
     "data": {
      "application/vnd.jupyter.widget-view+json": {
       "model_id": "7a0c3f8b774e48eb95348456aa62f130",
       "version_major": 2,
       "version_minor": 0
      },
      "text/plain": [
       "Player(children=(VBox(children=(HBox(children=(IntSlider(value=0, continuous_update=False, description='Index:…"
      ]
     },
     "metadata": {},
     "output_type": "display_data"
    },
    {
     "data": {
      "image/png": "[encoded data removed]",
      "text/plain": [
       "<PIL.Image.Image image mode=RGB size=1500x750 at 0x7FC8E4405F40>"
      ]
     },
     "metadata": {},
     "output_type": "display_data"
    }
   ],
   "source": [
    "world.playback()"
   ]
  },
  {
   "cell_type": "code",
   "execution_count": 12,
   "metadata": {},
   "outputs": [
    {
     "data": {
      "application/vnd.jupyter.widget-view+json": {
       "model_id": "d5edab19dcbf4815a2b6a484785385c4",
       "version_major": 2,
       "version_minor": 0
      },
      "text/plain": [
       "HBox(children=(HTML(value=''), FloatProgress(value=0.0, max=2000.0), HTML(value='')))"
      ]
     },
     "metadata": {},
     "output_type": "display_data"
    },
    {
     "name": "stdout",
     "output_type": "stream",
     "text": [
      "\n",
      "Simulation stopped at: 00:03:25.0; speed 38.53 x real time\n"
     ]
    }
   ],
   "source": [
    "world.seconds(200, [control, control], show=True, real_time=False)"
   ]
  },
  {
   "cell_type": "code",
   "execution_count": 13,
   "metadata": {},
   "outputs": [
    {
     "data": {
      "application/vnd.jupyter.widget-view+json": {
       "model_id": "624945cb47c94ba58cd473d679fb9efd",
       "version_major": 2,
       "version_minor": 0
      },
      "text/plain": [
       "HBox(children=(HTML(value=''), FloatProgress(value=0.0, max=2000.0), HTML(value='')))"
      ]
     },
     "metadata": {},
     "output_type": "display_data"
    },
    {
     "name": "stdout",
     "output_type": "stream",
     "text": [
      "\n",
      "Simulation stopped at: 00:06:45.0; speed 48.69 x real time\n"
     ]
    }
   ],
   "source": [
    "world.seconds(200, [control, control], show=False)"
   ]
  },
  {
   "cell_type": "markdown",
   "metadata": {},
   "source": [
    "# Example 2"
   ]
  },
  {
   "cell_type": "code",
   "execution_count": 14,
   "metadata": {},
   "outputs": [],
   "source": [
    "import jyrobot\n",
    "import time"
   ]
  },
  {
   "cell_type": "code",
   "execution_count": 15,
   "metadata": {},
   "outputs": [
    {
     "data": {
      "application/vnd.jupyter.widget-view+json": {
       "model_id": "29ce6b7ad26240c7a92285053e4f309d",
       "version_major": 2,
       "version_minor": 0
      },
      "text/plain": [
       "Box(children=(Image(value=b'\\xff\\xd8\\xff\\xe0\\x00\\x10JFIF\\x00\\x01\\x01\\x00\\x00\\x01\\x00\\x01\\x00\\x00\\xff\\xdb\\x00C\\…"
      ]
     },
     "metadata": {},
     "output_type": "display_data"
    }
   ],
   "source": [
    "w = jyrobot.World(width=500, height=500, ground_color=\"white\", seed=10, scale=10)\n",
    "w.watch(\"panel\", \"inline\")"
   ]
  },
  {
   "cell_type": "code",
   "execution_count": 16,
   "metadata": {},
   "outputs": [],
   "source": [
    "for i in range(20):\n",
    "    robot = jyrobot.Scribbler(color=\"blue\", name=\"Scribby-%s\" % i)\n",
    "    sensor = jyrobot.Camera()\n",
    "    robot.add_device(sensor)\n",
    "    w.add_robot(robot)\n",
    "w.draw()"
   ]
  },
  {
   "cell_type": "code",
   "execution_count": 17,
   "metadata": {},
   "outputs": [],
   "source": [
    "from jyrobot.utils import Color\n",
    "import random\n",
    "for robot in w:\n",
    "    robot.set_color( Color(\n",
    "        255 * random.random(), \n",
    "        255 * random.random(), \n",
    "        255 * random.random(), \n",
    "   ))\n",
    "w.draw()"
   ]
  },
  {
   "cell_type": "code",
   "execution_count": 18,
   "metadata": {},
   "outputs": [
    {
     "name": "stdout",
     "output_type": "stream",
     "text": [
      "CPU times: user 3.52 s, sys: 3.65 ms, total: 3.53 s\n",
      "Wall time: 3.53 s\n"
     ]
    }
   ],
   "source": [
    "%%time\n",
    "pics = []\n",
    "for robot in w:\n",
    "    pic = robot[\"camera\"].take_picture()\n",
    "    pics.append(pic)"
   ]
  },
  {
   "cell_type": "code",
   "execution_count": 22,
   "metadata": {},
   "outputs": [
    {
     "data": {
      "application/vnd.jupyter.widget-view+json": {
       "model_id": "e21f7d88c7b346a2a116624e46ae1ca9",
       "version_major": 2,
       "version_minor": 0
      },
      "text/plain": [
       "Box(children=(Image(value=b'\\x89PNG\\r\\n\\x1a\\n\\x00\\x00\\x00\\rIHDR\\x00\\x00\\x05\\n\\x00\\x00\\x02\\x08\\x08\\x06\\x00\\x00\\…"
      ]
     },
     "metadata": {},
     "output_type": "display_data"
    }
   ],
   "source": [
    "jyrobot.display(*pics)"
   ]
  },
  {
   "cell_type": "code",
   "execution_count": 23,
   "metadata": {},
   "outputs": [
    {
     "name": "stdout",
     "output_type": "stream",
     "text": [
      "CPU times: user 3.87 ms, sys: 8.14 ms, total: 12 ms\n",
      "Wall time: 9.78 ms\n"
     ]
    }
   ],
   "source": [
    "%%time\n",
    "pics = []\n",
    "for i, robot in enumerate(w):\n",
    "    pic = w.take_picture(i, size=200)\n",
    "    pics.append(pic)"
   ]
  },
  {
   "cell_type": "code",
   "execution_count": 24,
   "metadata": {},
   "outputs": [
    {
     "data": {
      "application/vnd.jupyter.widget-view+json": {
       "model_id": "e09c98e3ec4e4c2ca1f77b0604643d1b",
       "version_major": 2,
       "version_minor": 0
      },
      "text/plain": [
       "Box(children=(Image(value=b'\\x89PNG\\r\\n\\x1a\\n\\x00\\x00\\x00\\rIHDR\\x00\\x00\\x03\\xf2\\x00\\x00\\x03(\\x08\\x06\\x00\\x00\\x…"
      ]
     },
     "metadata": {},
     "output_type": "display_data"
    }
   ],
   "source": [
    "jyrobot.display(*pics, background_color=\"black\")"
   ]
  },
  {
   "cell_type": "code",
   "execution_count": 25,
   "metadata": {},
   "outputs": [],
   "source": [
    "for robot in w:\n",
    "    robot.move(1,0)"
   ]
  },
  {
   "cell_type": "code",
   "execution_count": 26,
   "metadata": {},
   "outputs": [],
   "source": [
    "def control(world):\n",
    "    for robot in world:\n",
    "        if robot.stalled:\n",
    "            robot.reverse()\n",
    "        robot.turn(1 - random.random() * 2)"
   ]
  },
  {
   "cell_type": "code",
   "execution_count": 27,
   "metadata": {},
   "outputs": [
    {
     "data": {
      "application/vnd.jupyter.widget-view+json": {
       "model_id": "b2e641e9cbaf4d3fa3eeaaac67b9ea13",
       "version_major": 2,
       "version_minor": 0
      },
      "text/plain": [
       "HBox(children=(HTML(value=''), FloatProgress(value=1.0, bar_style='info', layout=Layout(width='20px'), max=1.0…"
      ]
     },
     "metadata": {},
     "output_type": "display_data"
    },
    {
     "name": "stdout",
     "output_type": "stream",
     "text": [
      "\n",
      "Simulation stopped at: 00:00:59.8; speed 3.85 x real time\n"
     ]
    }
   ],
   "source": [
    "w.run(control, show=True, real_time=False)"
   ]
  },
  {
   "cell_type": "markdown",
   "metadata": {},
   "source": [
    "# Example 3"
   ]
  },
  {
   "cell_type": "code",
   "execution_count": 1,
   "metadata": {},
   "outputs": [],
   "source": [
    "import jyrobot as jr\n",
    "import random"
   ]
  },
  {
   "cell_type": "code",
   "execution_count": 2,
   "metadata": {},
   "outputs": [
    {
     "name": "stdout",
     "output_type": "stream",
     "text": [
      "Random seed initialized to: 7922771\n"
     ]
    }
   ],
   "source": [
    "w = jr.World(width=100, height=100, scale=10)"
   ]
  },
  {
   "cell_type": "code",
   "execution_count": 3,
   "metadata": {},
   "outputs": [
    {
     "data": {
      "application/vnd.jupyter.widget-view+json": {
       "model_id": "3a772de45d324ec29b02771a0df7a8c9",
       "version_major": 2,
       "version_minor": 0
      },
      "text/plain": [
       "Box(children=(Image(value=b'\\xff\\xd8\\xff\\xe0\\x00\\x10JFIF\\x00\\x01\\x01\\x00\\x00\\x01\\x00\\x01\\x00\\x00\\xff\\xdb\\x00C\\…"
      ]
     },
     "metadata": {},
     "output_type": "display_data"
    }
   ],
   "source": [
    "w.watch(\"inline\", \"panel\") # or \"panel\", \"left\", \"right\""
   ]
  },
  {
   "cell_type": "code",
   "execution_count": 4,
   "metadata": {},
   "outputs": [],
   "source": [
    "r = jr.Scribbler()"
   ]
  },
  {
   "cell_type": "code",
   "execution_count": 5,
   "metadata": {},
   "outputs": [],
   "source": [
    "w.add_robot(r)\n",
    "w.update()"
   ]
  },
  {
   "cell_type": "code",
   "execution_count": 6,
   "metadata": {},
   "outputs": [],
   "source": [
    "sensor = jr.RangeSensor()"
   ]
  },
  {
   "cell_type": "code",
   "execution_count": 7,
   "metadata": {},
   "outputs": [],
   "source": [
    "r.add_device(sensor)\n",
    "w.update()"
   ]
  },
  {
   "cell_type": "code",
   "execution_count": 8,
   "metadata": {},
   "outputs": [],
   "source": [
    "r.forward(1)\n",
    "\n",
    "def control(world):\n",
    "    for robot in world:\n",
    "        if robot.stalled:\n",
    "            robot.reverse()\n",
    "        robot.turn(1 - random.random() * 2)"
   ]
  },
  {
   "cell_type": "code",
   "execution_count": 9,
   "metadata": {},
   "outputs": [],
   "source": [
    "r.plot(lambda robot: (robot.x, robot.world.width - robot.y), wheres=[\"panel\"])"
   ]
  },
  {
   "cell_type": "code",
   "execution_count": 10,
   "metadata": {},
   "outputs": [
    {
     "data": {
      "application/vnd.jupyter.widget-view+json": {
       "model_id": "845a78870c2b48bab70789e63879d8e1",
       "version_major": 2,
       "version_minor": 0
      },
      "text/plain": [
       "HBox(children=(HTML(value=''), FloatProgress(value=0.0, max=1.0), HTML(value='')))"
      ]
     },
     "metadata": {},
     "output_type": "display_data"
    },
    {
     "name": "stdout",
     "output_type": "stream",
     "text": [
      "\n",
      "Simulation stopped at: 00:00:00.1; speed 0.69 x real time\n"
     ]
    }
   ],
   "source": [
    "w.seconds(.1, control, show=True, real_time=True)"
   ]
  },
  {
   "cell_type": "code",
   "execution_count": 11,
   "metadata": {},
   "outputs": [
    {
     "data": {
      "application/vnd.jupyter.widget-view+json": {
       "model_id": "b09640b247b34d7a91730a2dc0d98936",
       "version_major": 2,
       "version_minor": 0
      },
      "text/plain": [
       "HBox(children=(HTML(value=''), FloatProgress(value=0.0), HTML(value='')))"
      ]
     },
     "metadata": {},
     "output_type": "display_data"
    },
    {
     "name": "stdout",
     "output_type": "stream",
     "text": [
      "\n",
      "Simulation stopped at: 00:00:10.1; speed 0.97 x real time\n"
     ]
    }
   ],
   "source": [
    "w.seconds(10, control, show=True, real_time=True)"
   ]
  },
  {
   "cell_type": "code",
   "execution_count": 12,
   "metadata": {},
   "outputs": [
    {
     "data": {
      "application/vnd.jupyter.widget-view+json": {
       "model_id": "b9240f20aac34838a007a389a805bb14",
       "version_major": 2,
       "version_minor": 0
      },
      "text/plain": [
       "HBox(children=(HTML(value=''), FloatProgress(value=1.0, bar_style='info', layout=Layout(width='20px'), max=1.0…"
      ]
     },
     "metadata": {},
     "output_type": "display_data"
    },
    {
     "name": "stdout",
     "output_type": "stream",
     "text": [
      "\n",
      "Simulation stopped at: 00:00:25.7; speed 0.98 x real time\n"
     ]
    }
   ],
   "source": [
    "w.run(control, show=True, real_time=True)"
   ]
  },
  {
   "cell_type": "code",
   "execution_count": null,
   "metadata": {},
   "outputs": [],
   "source": [
    "w.seconds(10, control, show=True, real_time=False)"
   ]
  },
  {
   "cell_type": "code",
   "execution_count": null,
   "metadata": {},
   "outputs": [],
   "source": [
    "w.seconds(10, control, show=False)"
   ]
  },
  {
   "cell_type": "code",
   "execution_count": 13,
   "metadata": {},
   "outputs": [],
   "source": [
    "r.set_pose(50, 50, 180)"
   ]
  },
  {
   "cell_type": "code",
   "execution_count": 14,
   "metadata": {},
   "outputs": [],
   "source": [
    "r.set_color(\"purple\")"
   ]
  },
  {
   "cell_type": "code",
   "execution_count": 15,
   "metadata": {},
   "outputs": [],
   "source": [
    "w.update()"
   ]
  },
  {
   "cell_type": "code",
   "execution_count": 18,
   "metadata": {},
   "outputs": [],
   "source": [
    "jr.display(w.take_picture())"
   ]
  },
  {
   "cell_type": "code",
   "execution_count": 5,
   "metadata": {},
   "outputs": [
    {
     "data": {
      "application/vnd.jupyter.widget-view+json": {
       "model_id": "6db52dbe32ba47949cc39aebe2e7dc2c",
       "version_major": 2,
       "version_minor": 0
      },
      "text/plain": [
       "Box(children=(Text(value='hello'),), layout=Layout(max_width='600px'))"
      ]
     },
     "metadata": {},
     "output_type": "display_data"
    }
   ],
   "source": [
    "jr.display(\"hello\", wheres=[\"inline\"])"
   ]
  },
  {
   "cell_type": "code",
   "execution_count": null,
   "metadata": {},
   "outputs": [],
   "source": []
  }
 ],
 "metadata": {
  "kernelspec": {
   "display_name": "Python 3",
   "language": "python",
   "name": "python3"
  },
  "language_info": {
   "codemirror_mode": {
    "name": "ipython",
    "version": 3
   },
   "file_extension": ".py",
   "mimetype": "text/x-python",
   "name": "python",
   "nbconvert_exporter": "python",
   "pygments_lexer": "ipython3",
   "version": "3.8.5"
  },
  "widgets": {
   "application/vnd.jupyter.widget-state+json": {
    "state": {
     "0242f964a008465b8da8f91c905b6bc5": {
      "model_module": "@jupyter-widgets/base",
      "model_module_version": "1.2.0",
      "model_name": "LayoutModel",
      "state": {}
     },
     "07845f3ab01948f49ecb6f71b4918531": {
      "model_module": "@jupyter-widgets/base",
      "model_module_version": "1.2.0",
      "model_name": "LayoutModel",
      "state": {
       "width": "100%"
      }
     },
     "07bb3cf79b154a5ab9d5eb397773c6d9": {
      "model_module": "@jupyter-widgets/base",
      "model_module_version": "1.2.0",
      "model_name": "LayoutModel",
      "state": {
       "width": "100%"
      }
     },
     "07e846b6d2ac4a34ab82bc0544ac7102": {
      "model_module": "@jupyter-widgets/base",
      "model_module_version": "1.2.0",
      "model_name": "LayoutModel",
      "state": {
       "width": "100%"
      }
     },
     "08569b59b74d4152b0766efbcb8adc20": {
      "model_module": "@jupyter-widgets/controls",
      "model_module_version": "1.5.0",
      "model_name": "DescriptionStyleModel",
      "state": {
       "description_width": ""
      }
     },
     "113adf5dfee7451b842f6e860b134a15": {
      "model_module": "@jupyter-widgets/controls",
      "model_module_version": "1.5.0",
      "model_name": "BoxModel",
      "state": {
       "children": [
        "IPY_MODEL_9c8140138e814489be300941d9053206"
       ],
       "layout": "IPY_MODEL_34092f66da1148829a11179a528ae27c"
      }
     },
     "139c8c0864a94425811eb9c75cd9622b": {
      "model_module": "ipylab",
      "model_module_version": "^0.3.0",
      "model_name": "CommandRegistryModel",
      "state": {
       "_command_list": [
        "__internal:context-menu-info",
        "apputils:activate-command-palette",
        "apputils:print",
        "apputils:run-first-enabled",
        "completer:invoke",
        "completer:select",
        "tooltip:dismiss",
        "launcher:create",
        "editmenu:undo",
        "editmenu:redo",
        "editmenu:clear-current",
        "editmenu:clear-all",
        "editmenu:go-to-line",
        "filemenu:close-and-cleanup",
        "filemenu:create-console",
        "filemenu:shutdown",
        "filemenu:logout",
        "kernelmenu:interrupt",
        "kernelmenu:restart",
        "kernelmenu:restart-and-clear",
        "kernelmenu:change",
        "kernelmenu:shutdown",
        "kernelmenu:shutdownAll",
        "runmenu:run",
        "runmenu:run-all",
        "runmenu:restart-and-run-all",
        "viewmenu:line-numbering",
        "viewmenu:match-brackets",
        "viewmenu:word-wrap",
        "tabsmenu:activate-by-id",
        "tabsmenu:activate-previously-used-tab",
        "editmenu:open",
        "filemenu:open",
        "kernelmenu:open",
        "runmenu:open",
        "viewmenu:open",
        "settingsmenu:open",
        "tabsmenu:open",
        "helpmenu:open",
        "mainmenu:open-first",
        "documentsearch:start",
        "documentsearch:startWithReplace",
        "documentsearch:highlightNext",
        "documentsearch:highlightPrevious",
        "docmanager:clone",
        "docmanager:rename",
        "docmanager:delete",
        "docmanager:show-in-file-browser",
        "docmanager:delete-file",
        "docmanager:new-untitled",
        "docmanager:open",
        "docmanager:open-browser-tab",
        "docmanager:reload",
        "docmanager:restore-checkpoint",
        "docmanager:save",
        "docmanager:save-all",
        "docmanager:save-as",
        "docmanager:download",
        "docmanager:toggle-autosave",
        "sidebar:switch",
        "apputils:change-theme",
        "apputils:theme-scrollbars",
        "apputils:incr-font-size",
        "apputils:decr-font-size",
        "statusbar:toggle",
        "rendermime:handle-local-link",
        "application:activate-next-tab",
        "application:activate-previous-tab",
        "application:activate-next-tab-bar",
        "application:activate-previous-tab-bar",
        "application:close",
        "application:close-all",
        "application:close-other-tabs",
        "application:close-right-tabs",
        "application:toggle-left-area",
        "application:toggle-right-area",
        "application:toggle-presentation-mode",
        "application:set-mode",
        "application:toggle-mode",
        "apputils:load-statedb",
        "apputils:reset",
        "apputils:reset-on-load",
        "markdownviewer:open",
        "markdownviewer:edit",
        "settingeditor:open",
        "settingeditor:revert",
        "settingeditor:save",
        "inspector:open",
        "htmlviewer:trust-html",
        "imageviewer:zoom-in",
        "imageviewer:zoom-out",
        "imageviewer:reset-image",
        "imageviewer:rotate-clockwise",
        "imageviewer:rotate-counterclockwise",
        "imageviewer:flip-horizontal",
        "imageviewer:flip-vertical",
        "imageviewer:invert-colors",
        "filebrowser:delete",
        "filebrowser:copy",
        "filebrowser:cut",
        "filebrowser:download",
        "filebrowser:duplicate",
        "filebrowser:hide-main",
        "filebrowser:go-to-path",
        "filebrowser:open-path",
        "filebrowser:open",
        "filebrowser:open-browser-tab",
        "filebrowser:copy-download-link",
        "filebrowser:paste",
        "filebrowser:create-new-directory",
        "filebrowser:create-new-file",
        "filebrowser:create-new-markdown-file",
        "filebrowser:rename",
        "filebrowser:copy-path",
        "filebrowser:activate",
        "filebrowser:shutdown",
        "filebrowser:toggle-main",
        "filebrowser:create-main-launcher",
        "filebrowser:toggle-navigate-to-current-directory",
        "filebrowser:toggle-last-modified",
        "filebrowser:share-main",
        "notebook:run-cell-and-select-next",
        "notebook:run-cell",
        "notebook:run-cell-and-insert-below",
        "notebook:run-in-console",
        "notebook:run-all-cells",
        "notebook:run-all-above",
        "notebook:run-all-below",
        "notebook:render-all-markdown",
        "notebook:restart-kernel",
        "notebook:close-and-shutdown",
        "notebook:trust",
        "notebook:export-to-format",
        "notebook:restart-clear-output",
        "notebook:restart-and-run-to-selected",
        "notebook:restart-run-all",
        "notebook:clear-all-cell-outputs",
        "notebook:clear-cell-output",
        "notebook:interrupt-kernel",
        "notebook:change-cell-to-code",
        "notebook:change-cell-to-markdown",
        "notebook:change-cell-to-raw",
        "notebook:cut-cell",
        "notebook:copy-cell",
        "notebook:paste-cell-below",
        "notebook:paste-cell-above",
        "notebook:paste-and-replace-cell",
        "notebook:delete-cell",
        "notebook:split-cell-at-cursor",
        "notebook:merge-cells",
        "notebook:insert-cell-above",
        "notebook:insert-cell-below",
        "notebook:move-cursor-up",
        "notebook:move-cursor-down",
        "notebook:extend-marked-cells-above",
        "notebook:extend-marked-cells-top",
        "notebook:extend-marked-cells-below",
        "notebook:extend-marked-cells-bottom",
        "notebook:select-all",
        "notebook:deselect-all",
        "notebook:move-cell-up",
        "notebook:move-cell-down",
        "notebook:toggle-all-cell-line-numbers",
        "notebook:enter-command-mode",
        "notebook:enter-edit-mode",
        "notebook:undo-cell-action",
        "notebook:redo-cell-action",
        "notebook:change-kernel",
        "notebook:reconnect-to-kernel",
        "notebook:create-output-view",
        "notebook:create-console",
        "notebook:change-cell-to-heading-1",
        "notebook:change-cell-to-heading-2",
        "notebook:change-cell-to-heading-3",
        "notebook:change-cell-to-heading-4",
        "notebook:change-cell-to-heading-5",
        "notebook:change-cell-to-heading-6",
        "notebook:hide-cell-code",
        "notebook:show-cell-code",
        "notebook:hide-all-cell-code",
        "notebook:show-all-cell-code",
        "notebook:hide-cell-outputs",
        "notebook:show-cell-outputs",
        "notebook:hide-all-cell-outputs",
        "notebook:show-all-cell-outputs",
        "notebook:enable-output-scrolling",
        "notebook:disable-output-scrolling",
        "notebook:select-last-run-cell",
        "notebook:replace-selection",
        "notebook:create-new",
        "help:about",
        "help:open",
        "help:launch-classic-notebook",
        "terminal:create-new",
        "terminal:open",
        "terminal:refresh",
        "terminal:increase-font",
        "terminal:decrease-font",
        "terminal:set-theme",
        "completer:invoke-notebook",
        "completer:select-notebook",
        "logconsole:open",
        "logconsole:add-checkpoint",
        "logconsole:clear",
        "logconsole:set-level",
        "tooltip:launch-notebook",
        "@jupyter-widgets/jupyterlab-manager:saveWidgetState",
        "extensionmanager:toggle",
        "console:open",
        "console:create",
        "console:clear",
        "console:run-unforced",
        "console:run-forced",
        "console:linebreak",
        "console:replace-selection",
        "console:interrupt-kernel",
        "console:restart-kernel",
        "console:close-and-shutdown",
        "console:inject",
        "console:change-kernel",
        "console:interaction-mode",
        "fileeditor:change-font-size",
        "fileeditor:toggle-line-numbers",
        "fileeditor:toggle-line-wrap",
        "fileeditor:change-tabs",
        "fileeditor:toggle-match-brackets",
        "fileeditor:toggle-autoclosing-brackets",
        "fileeditor:replace-selection",
        "fileeditor:create-console",
        "fileeditor:run-code",
        "fileeditor:run-all",
        "fileeditor:markdown-preview",
        "fileeditor:create-new",
        "fileeditor:create-new-markdown-file",
        "fileeditor:undo",
        "fileeditor:redo",
        "fileeditor:cut",
        "fileeditor:copy",
        "fileeditor:paste",
        "fileeditor:select-all",
        "completer:invoke-console",
        "completer:select-console",
        "console:toggle-show-all-kernel-activity",
        "tooltip:launch-console",
        "codemirror:change-theme",
        "codemirror:change-keymap",
        "codemirror:find",
        "codemirror:go-to-line",
        "codemirror:change-mode",
        "completer:invoke-file",
        "completer:select-file",
        "tooltip:launch-file",
        "help-menu-python3:banner",
        "help-menu-python3:Python Reference",
        "help-menu-python3:IPython Reference",
        "help-menu-python3:NumPy Reference",
        "help-menu-python3:SciPy Reference",
        "help-menu-python3:Matplotlib Reference",
        "help-menu-python3:SymPy Reference",
        "help-menu-python3:pandas Reference"
       ],
       "_model_module_version": "^0.3.0",
       "_view_module": null,
       "_view_module_version": ""
      }
     },
     "18e50441cc734e738afca0a759b09ce2": {
      "model_module": "@jupyter-widgets/base",
      "model_module_version": "1.2.0",
      "model_name": "LayoutModel",
      "state": {}
     },
     "1f406b01bdbd4ca3b114f45b4c376442": {
      "model_module": "@jupyter-widgets/controls",
      "model_module_version": "1.5.0",
      "model_name": "HBoxModel",
      "state": {
       "children": [
        "IPY_MODEL_aef6b0342b8445938f3ba244f9566b36",
        "IPY_MODEL_4fca6a112af84c5893a5f41f33ee7b7a"
       ],
       "layout": "IPY_MODEL_fa206a0aa8f2405f84715f63cd19b68a"
      }
     },
     "1f5a96eceeac4f09baaeb39d1439a99c": {
      "model_module": "@jupyter-widgets/controls",
      "model_module_version": "1.5.0",
      "model_name": "HBoxModel",
      "state": {
       "children": [
        "IPY_MODEL_cc8d314e1a7449c397d79a908b8363a5",
        "IPY_MODEL_49a888d0e7684806b7a6714e9168d092",
        "IPY_MODEL_33e55f4c3f97432e87bf059ffa31f40e",
        "IPY_MODEL_e442368aff2049888c7a5b668e85ecbe",
        "IPY_MODEL_f369a2ef5a1444adace666e28c294307",
        "IPY_MODEL_e1ad1e5f24814f04a2a99ceb1eccf3d2"
       ],
       "layout": "IPY_MODEL_9e6e00b8f3a047d2ad7cecb938f3a67e"
      }
     },
     "233f07c005db4721b0b1dc5d7b66772c": {
      "model_module": "@jupyter-widgets/base",
      "model_module_version": "1.2.0",
      "model_name": "LayoutModel",
      "state": {
       "width": "100px"
      }
     },
     "24bf5b8dfa0b4e9e8c9eb71d55dd5cdf": {
      "model_module": "@jupyter-widgets/controls",
      "model_module_version": "1.5.0",
      "model_name": "DescriptionStyleModel",
      "state": {
       "description_width": ""
      }
     },
     "2d9b208ccaf1449aa9c9a344cec60b40": {
      "model_module": "@jupyter-widgets/base",
      "model_module_version": "1.2.0",
      "model_name": "LayoutModel",
      "state": {}
     },
     "2e887b7066d84fa399a370bd2ac47fb6": {
      "model_module": "@jupyter-widgets/controls",
      "model_module_version": "1.5.0",
      "model_name": "FloatProgressModel",
      "state": {
       "bar_style": "success",
       "layout": "IPY_MODEL_96adbd6789ab445585a3cd7ab175b769",
       "max": 2000,
       "style": "IPY_MODEL_97b3e5f6354d4951a6b18532a7494534",
       "value": 2000
      }
     },
     "3019c3300b984bdd9047d65a37218e46": {
      "model_module": "@jupyter-widgets/controls",
      "model_module_version": "1.5.0",
      "model_name": "HTMLModel",
      "state": {
       "layout": "IPY_MODEL_2d9b208ccaf1449aa9c9a344cec60b40",
       "style": "IPY_MODEL_88857447519a4f43932c1f2bf741ce2a",
       "value": " 2000/2000 [00:05&lt;00:00, 385.38it/s]"
      }
     },
     "31b5dde093694f5dadc23af77a7af4f4": {
      "model_module": "@jupyter-widgets/controls",
      "model_module_version": "1.5.0",
      "model_name": "ButtonStyleModel",
      "state": {}
     },
     "33e55f4c3f97432e87bf059ffa31f40e": {
      "model_module": "@jupyter-widgets/controls",
      "model_module_version": "1.5.0",
      "model_name": "IntTextModel",
      "state": {
       "layout": "IPY_MODEL_5ce03a498ded4595b15fbc3763f2a476",
       "step": 1,
       "style": "IPY_MODEL_24bf5b8dfa0b4e9e8c9eb71d55dd5cdf",
       "value": 36
      }
     },
     "34092f66da1148829a11179a528ae27c": {
      "model_module": "@jupyter-widgets/base",
      "model_module_version": "1.2.0",
      "model_name": "LayoutModel",
      "state": {
       "height": "auto",
       "width": "100%"
      }
     },
     "34eebfc97cd74d8ca4bfc2ac03f2270a": {
      "model_module": "@jupyter-widgets/controls",
      "model_module_version": "1.5.0",
      "model_name": "SliderStyleModel",
      "state": {
       "description_width": "initial"
      }
     },
     "3dc89647ed104f6faae3f41087c1576f": {
      "model_module": "@jupyter-widgets/base",
      "model_module_version": "1.2.0",
      "model_name": "LayoutModel",
      "state": {
       "margin": "auto"
      }
     },
     "3dda5a40e62047db8065eae9f3221998": {
      "model_module": "@jupyter-widgets/base",
      "model_module_version": "1.2.0",
      "model_name": "LayoutModel",
      "state": {}
     },
     "3dfccbdbc74045a2a42232ed201f0594": {
      "model_module": "@jupyter-widgets/controls",
      "model_module_version": "1.5.0",
      "model_name": "HTMLModel",
      "state": {
       "layout": "IPY_MODEL_befc7e2e1c8741cb9f98e2b35544c3ea",
       "style": "IPY_MODEL_c6ea037748ff4aa3897da71f73c54a78",
       "value": "100%"
      }
     },
     "46b035827a3649628cc80f5151b5af99": {
      "model_module": "@jupyter-widgets/base",
      "model_module_version": "1.2.0",
      "model_name": "LayoutModel",
      "state": {
       "max_width": "600px"
      }
     },
     "49a888d0e7684806b7a6714e9168d092": {
      "model_module": "@jupyter-widgets/controls",
      "model_module_version": "1.5.0",
      "model_name": "ButtonModel",
      "state": {
       "icon": "backward",
       "layout": "IPY_MODEL_07bb3cf79b154a5ab9d5eb397773c6d9",
       "style": "IPY_MODEL_fc6fedb57486400eb27964f21af7fbd3"
      }
     },
     "4fca6a112af84c5893a5f41f33ee7b7a": {
      "model_module": "@jupyter-widgets/controls",
      "model_module_version": "1.5.0",
      "model_name": "LabelModel",
      "state": {
       "layout": "IPY_MODEL_233f07c005db4721b0b1dc5d7b66772c",
       "style": "IPY_MODEL_08569b59b74d4152b0766efbcb8adc20",
       "value": "of 50"
      }
     },
     "51d673c9cbe24b07b0b4f8bd863d019c": {
      "model_module": "@jupyter-widgets/controls",
      "model_module_version": "1.5.0",
      "model_name": "FloatProgressModel",
      "state": {
       "bar_style": "success",
       "layout": "IPY_MODEL_3dda5a40e62047db8065eae9f3221998",
       "max": 50,
       "style": "IPY_MODEL_e0304f616a2b4e64bbd3a39e7ca9865c",
       "value": 50
      }
     },
     "554d6ee04b5d49c2b2e04fc0ad029bb1": {
      "model_module": "@jupyter-widgets/base",
      "model_module_version": "1.2.0",
      "model_name": "LayoutModel",
      "state": {}
     },
     "5ce03a498ded4595b15fbc3763f2a476": {
      "model_module": "@jupyter-widgets/base",
      "model_module_version": "1.2.0",
      "model_name": "LayoutModel",
      "state": {
       "width": "100%"
      }
     },
     "5d7aa87e21524afbba42a93ca5f44b70": {
      "model_module": "@jupyter-widgets/base",
      "model_module_version": "1.2.0",
      "model_name": "LayoutModel",
      "state": {}
     },
     "652c2d00c1ad4e6eb8975d8d8c1c4602": {
      "model_module": "@jupyter-widgets/controls",
      "model_module_version": "1.5.0",
      "model_name": "ButtonStyleModel",
      "state": {}
     },
     "695e7123497345fd8bb521dbcb9c5b23": {
      "model_module": "@jupyter-widgets/controls",
      "model_module_version": "1.5.0",
      "model_name": "BoxModel",
      "state": {
       "children": [
        "IPY_MODEL_9c8140138e814489be300941d9053206"
       ],
       "layout": "IPY_MODEL_46b035827a3649628cc80f5151b5af99"
      }
     },
     "6ddf812cb9074d6bacb871663da97259": {
      "model_module": "@jupyter-widgets/base",
      "model_module_version": "1.2.0",
      "model_name": "LayoutModel",
      "state": {}
     },
     "78e1ab2a9a174128b4a0ad3b7106c291": {
      "model_module": "ipylab",
      "model_module_version": "^0.3.0",
      "model_name": "PanelModel",
      "state": {
       "_model_module_version": "^0.3.0",
       "children": [
        "IPY_MODEL_113adf5dfee7451b842f6e860b134a15"
       ],
       "layout": "IPY_MODEL_5d7aa87e21524afbba42a93ca5f44b70",
       "title": "IPY_MODEL_cd851bdca9924d6eb2124d850c0b3cc1"
      }
     },
     "7a0c3f8b774e48eb95348456aa62f130": {
      "model_module": "@jupyter-widgets/controls",
      "model_module_version": "1.5.0",
      "model_name": "VBoxModel",
      "state": {
       "children": [
        "IPY_MODEL_c7cd0f8a8e1044db8e1f939c3ace68d9",
        "IPY_MODEL_fa69791a387b4f018257c801db63c2a0"
       ],
       "layout": "IPY_MODEL_ce13d3b784ca4f98a4d08c20ca9a81ec"
      }
     },
     "7d2cb7862f8d4a939e26046b0ed74e3e": {
      "model_module": "@jupyter-widgets/base",
      "model_module_version": "1.2.0",
      "model_name": "LayoutModel",
      "state": {
       "width": "100%"
      }
     },
     "7e2ed5a849ef43dc893d0beaf80a8d37": {
      "model_module": "@jupyter-widgets/controls",
      "model_module_version": "1.5.0",
      "model_name": "ButtonStyleModel",
      "state": {}
     },
     "858c7bca04064dbf8e3ce0ab3c33ccee": {
      "model_module": "ipylab",
      "model_module_version": "^0.3.0",
      "model_name": "JupyterFrontEndModel",
      "state": {
       "_model_module_version": "^0.3.0",
       "_view_module": null,
       "_view_module_version": "",
       "commands": "IPY_MODEL_139c8c0864a94425811eb9c75cd9622b",
       "shell": "IPY_MODEL_eae0e1be96b3484fb54a30d1bd097961",
       "version": "2.2.9"
      }
     },
     "864c657afdd04defa94cd6317042efba": {
      "model_module": "@jupyter-widgets/controls",
      "model_module_version": "1.5.0",
      "model_name": "HTMLModel",
      "state": {
       "layout": "IPY_MODEL_18e50441cc734e738afca0a759b09ce2",
       "style": "IPY_MODEL_8a98232f49594bba9e92bcbf241d40a9",
       "value": " 50/50 [00:05&lt;00:00,  9.63it/s]"
      }
     },
     "88857447519a4f43932c1f2bf741ce2a": {
      "model_module": "@jupyter-widgets/controls",
      "model_module_version": "1.5.0",
      "model_name": "DescriptionStyleModel",
      "state": {
       "description_width": ""
      }
     },
     "8a98232f49594bba9e92bcbf241d40a9": {
      "model_module": "@jupyter-widgets/controls",
      "model_module_version": "1.5.0",
      "model_name": "DescriptionStyleModel",
      "state": {
       "description_width": ""
      }
     },
     "960630e8768b4b70ba666c60557b4222": {
      "model_module": "@jupyter-widgets/base",
      "model_module_version": "1.2.0",
      "model_name": "LayoutModel",
      "state": {
       "width": "100%"
      }
     },
     "96adbd6789ab445585a3cd7ab175b769": {
      "model_module": "@jupyter-widgets/base",
      "model_module_version": "1.2.0",
      "model_name": "LayoutModel",
      "state": {}
     },
     "97b3e5f6354d4951a6b18532a7494534": {
      "model_module": "@jupyter-widgets/controls",
      "model_module_version": "1.5.0",
      "model_name": "ProgressStyleModel",
      "state": {
       "description_width": ""
      }
     },
     "9c8140138e814489be300941d9053206": {
      "buffers": [
       {
        "data": "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",
        "encoding": "base64",
        "path": [
         "value"
        ]
       }
      ],
      "model_module": "@jupyter-widgets/controls",
      "model_module_version": "1.5.0",
      "model_name": "ImageModel",
      "state": {
       "layout": "IPY_MODEL_3dc89647ed104f6faae3f41087c1576f"
      }
     },
     "9e6e00b8f3a047d2ad7cecb938f3a67e": {
      "model_module": "@jupyter-widgets/base",
      "model_module_version": "1.2.0",
      "model_name": "LayoutModel",
      "state": {
       "height": "50px",
       "width": "100%"
      }
     },
     "a671db5e350f410ab4ddbc053a0dbb45": {
      "model_module": "@jupyter-widgets/controls",
      "model_module_version": "1.5.0",
      "model_name": "DescriptionStyleModel",
      "state": {
       "description_width": ""
      }
     },
     "abfad6619589498ca9efa3924a99c009": {
      "model_module": "@jupyter-widgets/controls",
      "model_module_version": "1.5.0",
      "model_name": "HTMLModel",
      "state": {
       "layout": "IPY_MODEL_554d6ee04b5d49c2b2e04fc0ad029bb1",
       "style": "IPY_MODEL_a671db5e350f410ab4ddbc053a0dbb45",
       "value": "100%"
      }
     },
     "aef6b0342b8445938f3ba244f9566b36": {
      "model_module": "@jupyter-widgets/controls",
      "model_module_version": "1.5.0",
      "model_name": "IntSliderModel",
      "state": {
       "continuous_update": false,
       "description": "Index:",
       "layout": "IPY_MODEL_07845f3ab01948f49ecb6f71b4918531",
       "max": 49,
       "style": "IPY_MODEL_34eebfc97cd74d8ca4bfc2ac03f2270a",
       "value": 36
      }
     },
     "b617f2be994b41538b25240d8e7300c0": {
      "model_module": "@jupyter-widgets/base",
      "model_module_version": "1.2.0",
      "model_name": "LayoutModel",
      "state": {
       "width": "100%"
      }
     },
     "b6ea8bbfdeb042c0ba51f185d04e5b26": {
      "model_module": "@jupyter-widgets/base",
      "model_module_version": "1.2.0",
      "model_name": "LayoutModel",
      "state": {
       "width": "100%"
      }
     },
     "befc7e2e1c8741cb9f98e2b35544c3ea": {
      "model_module": "@jupyter-widgets/base",
      "model_module_version": "1.2.0",
      "model_name": "LayoutModel",
      "state": {}
     },
     "c30baaac21724af8b152a26715325e59": {
      "model_module": "@jupyter-widgets/base",
      "model_module_version": "1.2.0",
      "model_name": "LayoutModel",
      "state": {}
     },
     "c6ea037748ff4aa3897da71f73c54a78": {
      "model_module": "@jupyter-widgets/controls",
      "model_module_version": "1.5.0",
      "model_name": "DescriptionStyleModel",
      "state": {
       "description_width": ""
      }
     },
     "c7cd0f8a8e1044db8e1f939c3ace68d9": {
      "model_module": "@jupyter-widgets/controls",
      "model_module_version": "1.5.0",
      "model_name": "VBoxModel",
      "state": {
       "children": [
        "IPY_MODEL_1f406b01bdbd4ca3b114f45b4c376442",
        "IPY_MODEL_1f5a96eceeac4f09baaeb39d1439a99c"
       ],
       "layout": "IPY_MODEL_7d2cb7862f8d4a939e26046b0ed74e3e"
      }
     },
     "cc8d314e1a7449c397d79a908b8363a5": {
      "model_module": "@jupyter-widgets/controls",
      "model_module_version": "1.5.0",
      "model_name": "ButtonModel",
      "state": {
       "icon": "fast-backward",
       "layout": "IPY_MODEL_b6ea8bbfdeb042c0ba51f185d04e5b26",
       "style": "IPY_MODEL_7e2ed5a849ef43dc893d0beaf80a8d37"
      }
     },
     "cd851bdca9924d6eb2124d850c0b3cc1": {
      "model_module": "ipylab",
      "model_module_version": "^0.3.0",
      "model_name": "TitleModel",
      "state": {
       "_model_module_version": "^0.3.0",
       "_view_module": null,
       "_view_module_version": "",
       "closable": true,
       "icon_class": "",
       "label": "Jyrobot Simulator"
      }
     },
     "ce13d3b784ca4f98a4d08c20ca9a81ec": {
      "model_module": "@jupyter-widgets/base",
      "model_module_version": "1.2.0",
      "model_name": "LayoutModel",
      "state": {}
     },
     "d5edab19dcbf4815a2b6a484785385c4": {
      "model_module": "@jupyter-widgets/controls",
      "model_module_version": "1.5.0",
      "model_name": "HBoxModel",
      "state": {
       "children": [
        "IPY_MODEL_3dfccbdbc74045a2a42232ed201f0594",
        "IPY_MODEL_2e887b7066d84fa399a370bd2ac47fb6",
        "IPY_MODEL_3019c3300b984bdd9047d65a37218e46"
       ],
       "layout": "IPY_MODEL_c30baaac21724af8b152a26715325e59"
      }
     },
     "e0304f616a2b4e64bbd3a39e7ca9865c": {
      "model_module": "@jupyter-widgets/controls",
      "model_module_version": "1.5.0",
      "model_name": "ProgressStyleModel",
      "state": {
       "description_width": ""
      }
     },
     "e1ad1e5f24814f04a2a99ceb1eccf3d2": {
      "model_module": "@jupyter-widgets/controls",
      "model_module_version": "1.5.0",
      "model_name": "ButtonModel",
      "state": {
       "description": "Play",
       "icon": "play",
       "layout": "IPY_MODEL_07e846b6d2ac4a34ab82bc0544ac7102",
       "style": "IPY_MODEL_31b5dde093694f5dadc23af77a7af4f4"
      }
     },
     "e442368aff2049888c7a5b668e85ecbe": {
      "model_module": "@jupyter-widgets/controls",
      "model_module_version": "1.5.0",
      "model_name": "ButtonModel",
      "state": {
       "icon": "forward",
       "layout": "IPY_MODEL_960630e8768b4b70ba666c60557b4222",
       "style": "IPY_MODEL_f3e343fdb3d243f8a838c4a2852121d8"
      }
     },
     "eae0e1be96b3484fb54a30d1bd097961": {
      "model_module": "ipylab",
      "model_module_version": "^0.3.0",
      "model_name": "ShellModel",
      "state": {
       "_model_module_version": "^0.3.0",
       "_view_module": null,
       "_view_module_version": "",
       "_widgets": [
        {
         "area": "main",
         "args": {
          "mode": "split-right"
         },
         "id": "id-4342f683-6510-43f8-91f2-bfc2ecd3177b",
         "serializedWidget": "IPY_MODEL_78e1ab2a9a174128b4a0ad3b7106c291"
        }
       ]
      }
     },
     "f369a2ef5a1444adace666e28c294307": {
      "model_module": "@jupyter-widgets/controls",
      "model_module_version": "1.5.0",
      "model_name": "ButtonModel",
      "state": {
       "icon": "fast-forward",
       "layout": "IPY_MODEL_b617f2be994b41538b25240d8e7300c0",
       "style": "IPY_MODEL_652c2d00c1ad4e6eb8975d8d8c1c4602"
      }
     },
     "f3e343fdb3d243f8a838c4a2852121d8": {
      "model_module": "@jupyter-widgets/controls",
      "model_module_version": "1.5.0",
      "model_name": "ButtonStyleModel",
      "state": {}
     },
     "f8a1dd5c8b0b40a59b9d64e0dffab156": {
      "model_module": "@jupyter-widgets/controls",
      "model_module_version": "1.5.0",
      "model_name": "HBoxModel",
      "state": {
       "children": [
        "IPY_MODEL_abfad6619589498ca9efa3924a99c009",
        "IPY_MODEL_51d673c9cbe24b07b0b4f8bd863d019c",
        "IPY_MODEL_864c657afdd04defa94cd6317042efba"
       ],
       "layout": "IPY_MODEL_6ddf812cb9074d6bacb871663da97259"
      }
     },
     "fa206a0aa8f2405f84715f63cd19b68a": {
      "model_module": "@jupyter-widgets/base",
      "model_module_version": "1.2.0",
      "model_name": "LayoutModel",
      "state": {
       "height": "40px"
      }
     },
     "fa69791a387b4f018257c801db63c2a0": {
      "model_module": "@jupyter-widgets/output",
      "model_module_version": "1.0.0",
      "model_name": "OutputModel",
      "state": {
       "layout": "IPY_MODEL_0242f964a008465b8da8f91c905b6bc5"
      }
     },
     "fc6fedb57486400eb27964f21af7fbd3": {
      "model_module": "@jupyter-widgets/controls",
      "model_module_version": "1.5.0",
      "model_name": "ButtonStyleModel",
      "state": {}
     }
    },
    "version_major": 2,
    "version_minor": 0
   }
  }
 },
 "nbformat": 4,
 "nbformat_minor": 4
}
