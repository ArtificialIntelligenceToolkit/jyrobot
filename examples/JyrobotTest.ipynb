{
 "cells": [
  {
   "cell_type": "markdown",
   "metadata": {},
   "source": [
    "# Example 1"
   ]
  },
  {
   "cell_type": "code",
   "execution_count": 1,
   "metadata": {},
   "outputs": [],
   "source": [
    "import jyrobot\n",
    "import random"
   ]
  },
  {
   "cell_type": "code",
   "execution_count": 2,
   "metadata": {},
   "outputs": [],
   "source": [
    "jyrobot.switch_backend(\"pil\")"
   ]
  },
  {
   "cell_type": "code",
   "execution_count": 3,
   "metadata": {},
   "outputs": [
    {
     "name": "stdout",
     "output_type": "stream",
     "text": [
      "Searching for jyrobot config files...\n",
      "Directory: ./\n",
      "    no files found\n",
      "Directory: /home/dblank/jyrobot/jyrobot/worlds\n",
      "    'duck-scribbler-no-walls'\n",
      "    'two-scribblers-no-walls'\n",
      "    'two-scribblers-one-wall'\n",
      "    'two-scribblers'\n"
     ]
    }
   ],
   "source": [
    "world = jyrobot.load()"
   ]
  },
  {
   "cell_type": "code",
   "execution_count": 4,
   "metadata": {},
   "outputs": [
    {
     "name": "stdout",
     "output_type": "stream",
     "text": [
      "Random seed initialized to: 1558806582324653509\n"
     ]
    }
   ],
   "source": [
    "world = jyrobot.load(\"two-scribblers\")"
   ]
  },
  {
   "cell_type": "code",
   "execution_count": 5,
   "metadata": {},
   "outputs": [],
   "source": [
    "world.update()\n",
    "pic = world.take_picture()"
   ]
  },
  {
   "cell_type": "code",
   "execution_count": 6,
   "metadata": {},
   "outputs": [
    {
     "data": {
      "text/plain": [
       "<Robot(name='Red', position=430,50,3.14 v=0,0,0)>"
      ]
     },
     "execution_count": 6,
     "metadata": {},
     "output_type": "execute_result"
    }
   ],
   "source": [
    "world[\"red-1\"]"
   ]
  },
  {
   "cell_type": "code",
   "execution_count": 7,
   "metadata": {},
   "outputs": [
    {
     "data": {
      "application/vnd.jupyter.widget-view+json": {
       "model_id": "a2c52840828e4a958452eaef88d92f43",
       "version_major": 2,
       "version_minor": 0
      },
      "text/plain": [
       "Box(children=(Image(value=b'\\x89PNG\\r\\n\\x1a\\n\\x00\\x00\\x00\\rIHDR\\x00\\x00\\x05\\xdc\\x00\\x00\\x02\\xee\\x08\\x06\\x00\\x0…"
      ]
     },
     "metadata": {},
     "output_type": "display_data"
    }
   ],
   "source": [
    "world.watch(\"panel\") # or \"panel\", \"left\", \"right\"\n",
    "world.watch(\"inline\")"
   ]
  },
  {
   "cell_type": "code",
   "execution_count": 8,
   "metadata": {},
   "outputs": [
    {
     "data": {
      "image/png": "[encoded data removed]",
      "text/plain": [
       "<PIL.Image.Image image mode=RGBA size=100x100 at 0x7FB7B95417C0>"
      ]
     },
     "execution_count": 8,
     "metadata": {},
     "output_type": "execute_result"
    }
   ],
   "source": [
    "world.take_picture(\"red\")"
   ]
  },
  {
   "cell_type": "code",
   "execution_count": 9,
   "metadata": {},
   "outputs": [
    {
     "name": "stdout",
     "output_type": "stream",
     "text": [
      "This world was loaded from '/home/dblank/jyrobot/jyrobot/worlds/two-scribblers.json'\n",
      "Robots:\n",
      "-------------------------\n",
      "  robot[0 or 'Red']: <Robot(name='Red', position=430,50,3.14 v=0,0,0)>\n",
      "      device[0 or 'camera']: <Camera size=(256,128), angle=60.0>\n",
      "      device[1 or 'laser']: <RangeSensor angle=0.0, range=100, width=0.0>\n",
      "      device[2 or 'ir']: <RangeSensor angle=90.0, range=20, width=57.3>\n",
      "      device[3 or 'ir']: <RangeSensor angle=-90.0, range=20, width=57.3>\n",
      "  -------------------------\n",
      "  robot[1 or 'Blue']: <Robot(name='Blue', position=30,50,0.0 v=0,0,0)>\n",
      "      device[0 or 'camera']: <Camera size=(256,128), angle=60.0>\n",
      "      device[1 or 'laser']: <RangeSensor angle=0.0, range=100, width=0.0>\n",
      "      device[2 or 'ir']: <RangeSensor angle=0.0, range=20, width=57.3>\n",
      "      device[3 or 'ir']: <RangeSensor angle=0.0, range=20, width=57.3>\n",
      "  -------------------------\n"
     ]
    }
   ],
   "source": [
    "world.info()"
   ]
  },
  {
   "cell_type": "code",
   "execution_count": 10,
   "metadata": {},
   "outputs": [
    {
     "data": {
      "text/plain": [
       "<Camera size=(256,128), angle=60.0>"
      ]
     },
     "execution_count": 10,
     "metadata": {},
     "output_type": "execute_result"
    }
   ],
   "source": [
    "world[\"red\"][\"camera\"]"
   ]
  },
  {
   "cell_type": "code",
   "execution_count": 11,
   "metadata": {},
   "outputs": [
    {
     "data": {
      "image/png": "[encoded data removed]",
      "text/plain": [
       "<PIL.Image.Image image mode=RGBA size=256x128 at 0x7FB7C0393190>"
      ]
     },
     "execution_count": 11,
     "metadata": {},
     "output_type": "execute_result"
    }
   ],
   "source": [
    "world[\"red\"][\"camera\"].take_picture()"
   ]
  },
  {
   "cell_type": "code",
   "execution_count": 12,
   "metadata": {},
   "outputs": [],
   "source": [
    "world[0].move(1, 0)\n",
    "world[1].move(1, 0)\n",
    "\n",
    "step = 0\n",
    "\n",
    "def control(robot):\n",
    "    global step\n",
    "    if robot.stalled:\n",
    "        robot.reverse()\n",
    "        robot.turn(1 - random.random() * 2)\n",
    "    if random.random() < .1:\n",
    "        robot.turn(1 - random.random() * 2)\n",
    "    #if step % 100 == 0:\n",
    "    #    world.display(world.take_picture())\n",
    "    step += 1"
   ]
  },
  {
   "cell_type": "code",
   "execution_count": 13,
   "metadata": {},
   "outputs": [
    {
     "name": "stdout",
     "output_type": "stream",
     "text": [
      "Simulation stopped at: 00:02:52.4; speed 24.18 x real time\n"
     ]
    }
   ],
   "source": [
    "world.run([control, control], show=True, real_time=False)"
   ]
  },
  {
   "cell_type": "code",
   "execution_count": 14,
   "metadata": {},
   "outputs": [
    {
     "name": "stdout",
     "output_type": "stream",
     "text": [
      "Simulation stopped at: 00:04:37.4; speed 26.26 x real time\n"
     ]
    }
   ],
   "source": [
    "world.run([control, control], show=True, real_time=False)"
   ]
  },
  {
   "cell_type": "code",
   "execution_count": 58,
   "metadata": {},
   "outputs": [
    {
     "name": "stdout",
     "output_type": "stream",
     "text": [
      "Simulation stopped at: 00:00:04.6; speed 1.0 x real time\n"
     ]
    }
   ],
   "source": [
    "world.steps(1, [control, control])"
   ]
  },
  {
   "cell_type": "markdown",
   "metadata": {},
   "source": [
    "# Example 2"
   ]
  },
  {
   "cell_type": "code",
   "execution_count": 16,
   "metadata": {},
   "outputs": [],
   "source": [
    "import jyrobot\n",
    "import time"
   ]
  },
  {
   "cell_type": "code",
   "execution_count": 17,
   "metadata": {},
   "outputs": [
    {
     "name": "stdout",
     "output_type": "stream",
     "text": [
      "Reusing random seed: 10\n"
     ]
    },
    {
     "data": {
      "application/vnd.jupyter.widget-view+json": {
       "model_id": "23ed9e1230c443d0bc1931fa1323c570",
       "version_major": 2,
       "version_minor": 0
      },
      "text/plain": [
       "Box(children=(Image(value=b'\\x89PNG\\r\\n\\x1a\\n\\x00\\x00\\x00\\rIHDR\\x00\\x00\\x05\\xdc\\x00\\x00\\x05\\xdc\\x08\\x06\\x00\\x0…"
      ]
     },
     "metadata": {},
     "output_type": "display_data"
    }
   ],
   "source": [
    "w = jyrobot.World(width=500, height=500, ground_color=\"white\", seed=10)\n",
    "w.watch(\"panel\", \"inline\")"
   ]
  },
  {
   "cell_type": "code",
   "execution_count": null,
   "metadata": {},
   "outputs": [],
   "source": [
    "for i in range(20):\n",
    "    robot = jyrobot.Scribbler(color=\"blue\", name=\"Scribby-%s\" % i)\n",
    "    sensor = jyrobot.Camera()\n",
    "    robot.add_device(sensor)\n",
    "    w.add_robot(robot)\n",
    "w.draw()"
   ]
  },
  {
   "cell_type": "code",
   "execution_count": null,
   "metadata": {},
   "outputs": [],
   "source": [
    "w.add_wall(\"black\", 10, 0, 20, 50)"
   ]
  },
  {
   "cell_type": "code",
   "execution_count": null,
   "metadata": {},
   "outputs": [],
   "source": [
    "from jyrobot.utils import Color\n",
    "import random\n",
    "for robot in w:\n",
    "    robot.set_color( Color(\n",
    "        255 * random.random(), \n",
    "        255 * random.random(), \n",
    "        255 * random.random(), \n",
    "   ))\n",
    "w.draw()   "
   ]
  },
  {
   "cell_type": "code",
   "execution_count": null,
   "metadata": {},
   "outputs": [],
   "source": [
    "%%time\n",
    "pics = []\n",
    "for robot in w:\n",
    "    pic = robot[\"camera\"].take_picture()\n",
    "    pics.append(pic)"
   ]
  },
  {
   "cell_type": "code",
   "execution_count": null,
   "metadata": {},
   "outputs": [],
   "source": [
    "w.display(*pics)"
   ]
  },
  {
   "cell_type": "code",
   "execution_count": null,
   "metadata": {},
   "outputs": [],
   "source": [
    "%%time\n",
    "pics = []\n",
    "for i, robot in enumerate(w):\n",
    "    pic = w.take_picture(i)\n",
    "    pics.append(pic)"
   ]
  },
  {
   "cell_type": "code",
   "execution_count": null,
   "metadata": {},
   "outputs": [],
   "source": [
    "w.display(*pics, background_color=\"black\")"
   ]
  },
  {
   "cell_type": "code",
   "execution_count": null,
   "metadata": {},
   "outputs": [],
   "source": [
    "for robot in w:\n",
    "    robot.move(1,0)"
   ]
  },
  {
   "cell_type": "code",
   "execution_count": null,
   "metadata": {},
   "outputs": [],
   "source": [
    "def control(world):\n",
    "    for robot in world:\n",
    "        if robot.stalled:\n",
    "            robot.reverse()\n",
    "        robot.turn(1 - random.random() * 2)"
   ]
  },
  {
   "cell_type": "code",
   "execution_count": null,
   "metadata": {},
   "outputs": [],
   "source": [
    "w.run(control, show=True, real_time=False)"
   ]
  },
  {
   "cell_type": "markdown",
   "metadata": {},
   "source": [
    "# Example 3"
   ]
  },
  {
   "cell_type": "code",
   "execution_count": null,
   "metadata": {},
   "outputs": [],
   "source": [
    "import jyrobot as jr\n",
    "import random"
   ]
  },
  {
   "cell_type": "code",
   "execution_count": null,
   "metadata": {},
   "outputs": [],
   "source": [
    "w = jr.World(width=100, height=100)"
   ]
  },
  {
   "cell_type": "code",
   "execution_count": null,
   "metadata": {},
   "outputs": [],
   "source": [
    "w.watch(\"inline\", \"panel\") # or \"panel\", \"left\", \"right\""
   ]
  },
  {
   "cell_type": "code",
   "execution_count": null,
   "metadata": {},
   "outputs": [],
   "source": [
    "r = jr.Scribbler()"
   ]
  },
  {
   "cell_type": "code",
   "execution_count": null,
   "metadata": {},
   "outputs": [],
   "source": [
    "w.add_robot(r)"
   ]
  },
  {
   "cell_type": "code",
   "execution_count": null,
   "metadata": {},
   "outputs": [],
   "source": [
    "sensor = jr.RangeSensor()"
   ]
  },
  {
   "cell_type": "code",
   "execution_count": null,
   "metadata": {},
   "outputs": [],
   "source": [
    "r.add_device(sensor)"
   ]
  },
  {
   "cell_type": "code",
   "execution_count": null,
   "metadata": {},
   "outputs": [],
   "source": [
    "r.forward(1)\n",
    "\n",
    "def control(world):\n",
    "    for robot in world:\n",
    "        if robot.stalled:\n",
    "            robot.reverse()\n",
    "        robot.turn(1 - random.random() * 2)"
   ]
  },
  {
   "cell_type": "code",
   "execution_count": null,
   "metadata": {},
   "outputs": [],
   "source": [
    "w.seconds(10, control, show=True, real_time=True)"
   ]
  },
  {
   "cell_type": "code",
   "execution_count": null,
   "metadata": {},
   "outputs": [],
   "source": [
    "w.seconds(10, control, show=True, real_time=False)"
   ]
  },
  {
   "cell_type": "code",
   "execution_count": null,
   "metadata": {},
   "outputs": [],
   "source": [
    "w.seconds(10, control, show=False)"
   ]
  },
  {
   "cell_type": "code",
   "execution_count": null,
   "metadata": {},
   "outputs": [],
   "source": [
    "r.set_pose(50, 50, 180)"
   ]
  },
  {
   "cell_type": "code",
   "execution_count": null,
   "metadata": {},
   "outputs": [],
   "source": [
    "r.set_color(\"purple\")"
   ]
  },
  {
   "cell_type": "code",
   "execution_count": null,
   "metadata": {},
   "outputs": [],
   "source": [
    "w.take_picture()"
   ]
  },
  {
   "cell_type": "code",
   "execution_count": null,
   "metadata": {},
   "outputs": [],
   "source": []
  }
 ],
 "metadata": {
  "kernelspec": {
   "display_name": "Python 3",
   "language": "python",
   "name": "python3"
  },
  "language_info": {
   "codemirror_mode": {
    "name": "ipython",
    "version": 3
   },
   "file_extension": ".py",
   "mimetype": "text/x-python",
   "name": "python",
   "nbconvert_exporter": "python",
   "pygments_lexer": "ipython3",
   "version": "3.8.5"
  },
  "widgets": {
   "application/vnd.jupyter.widget-state+json": {
    "state": {
     "01dad693029748fcadbf004232367c93": {
      "model_module": "@jupyter-widgets/base",
      "model_module_version": "1.2.0",
      "model_name": "LayoutModel",
      "state": {
       "max_width": "600px"
      }
     },
     "2abb7958b8d8468da95ca5a7198957b9": {
      "model_module": "ipylab",
      "model_module_version": "^0.3.0",
      "model_name": "CommandRegistryModel",
      "state": {
       "_command_list": [
        "__internal:context-menu-info",
        "apputils:activate-command-palette",
        "apputils:print",
        "apputils:run-first-enabled",
        "completer:invoke",
        "completer:select",
        "tooltip:dismiss",
        "launcher:create",
        "editmenu:undo",
        "editmenu:redo",
        "editmenu:clear-current",
        "editmenu:clear-all",
        "editmenu:go-to-line",
        "filemenu:close-and-cleanup",
        "filemenu:create-console",
        "filemenu:shutdown",
        "filemenu:logout",
        "kernelmenu:interrupt",
        "kernelmenu:restart",
        "kernelmenu:restart-and-clear",
        "kernelmenu:change",
        "kernelmenu:shutdown",
        "kernelmenu:shutdownAll",
        "runmenu:run",
        "runmenu:run-all",
        "runmenu:restart-and-run-all",
        "viewmenu:line-numbering",
        "viewmenu:match-brackets",
        "viewmenu:word-wrap",
        "tabsmenu:activate-by-id",
        "tabsmenu:activate-previously-used-tab",
        "editmenu:open",
        "filemenu:open",
        "kernelmenu:open",
        "runmenu:open",
        "viewmenu:open",
        "settingsmenu:open",
        "tabsmenu:open",
        "helpmenu:open",
        "mainmenu:open-first",
        "documentsearch:start",
        "documentsearch:startWithReplace",
        "documentsearch:highlightNext",
        "documentsearch:highlightPrevious",
        "docmanager:clone",
        "docmanager:rename",
        "docmanager:delete",
        "docmanager:show-in-file-browser",
        "docmanager:delete-file",
        "docmanager:new-untitled",
        "docmanager:open",
        "docmanager:open-browser-tab",
        "docmanager:reload",
        "docmanager:restore-checkpoint",
        "docmanager:save",
        "docmanager:save-all",
        "docmanager:save-as",
        "docmanager:download",
        "docmanager:toggle-autosave",
        "sidebar:switch",
        "apputils:change-theme",
        "apputils:theme-scrollbars",
        "apputils:incr-font-size",
        "apputils:decr-font-size",
        "statusbar:toggle",
        "rendermime:handle-local-link",
        "application:activate-next-tab",
        "application:activate-previous-tab",
        "application:activate-next-tab-bar",
        "application:activate-previous-tab-bar",
        "application:close",
        "application:close-all",
        "application:close-other-tabs",
        "application:close-right-tabs",
        "application:toggle-left-area",
        "application:toggle-right-area",
        "application:toggle-presentation-mode",
        "application:set-mode",
        "application:toggle-mode",
        "apputils:load-statedb",
        "apputils:reset",
        "apputils:reset-on-load",
        "markdownviewer:open",
        "markdownviewer:edit",
        "settingeditor:open",
        "settingeditor:revert",
        "settingeditor:save",
        "inspector:open",
        "htmlviewer:trust-html",
        "imageviewer:zoom-in",
        "imageviewer:zoom-out",
        "imageviewer:reset-image",
        "imageviewer:rotate-clockwise",
        "imageviewer:rotate-counterclockwise",
        "imageviewer:flip-horizontal",
        "imageviewer:flip-vertical",
        "imageviewer:invert-colors",
        "filebrowser:delete",
        "filebrowser:copy",
        "filebrowser:cut",
        "filebrowser:download",
        "filebrowser:duplicate",
        "filebrowser:hide-main",
        "filebrowser:go-to-path",
        "filebrowser:open-path",
        "filebrowser:open",
        "filebrowser:open-browser-tab",
        "filebrowser:copy-download-link",
        "filebrowser:paste",
        "filebrowser:create-new-directory",
        "filebrowser:create-new-file",
        "filebrowser:create-new-markdown-file",
        "filebrowser:rename",
        "filebrowser:copy-path",
        "filebrowser:activate",
        "filebrowser:shutdown",
        "filebrowser:toggle-main",
        "filebrowser:create-main-launcher",
        "filebrowser:toggle-navigate-to-current-directory",
        "filebrowser:toggle-last-modified",
        "filebrowser:share-main",
        "notebook:run-cell-and-select-next",
        "notebook:run-cell",
        "notebook:run-cell-and-insert-below",
        "notebook:run-in-console",
        "notebook:run-all-cells",
        "notebook:run-all-above",
        "notebook:run-all-below",
        "notebook:render-all-markdown",
        "notebook:restart-kernel",
        "notebook:close-and-shutdown",
        "notebook:trust",
        "notebook:export-to-format",
        "notebook:restart-clear-output",
        "notebook:restart-and-run-to-selected",
        "notebook:restart-run-all",
        "notebook:clear-all-cell-outputs",
        "notebook:clear-cell-output",
        "notebook:interrupt-kernel",
        "notebook:change-cell-to-code",
        "notebook:change-cell-to-markdown",
        "notebook:change-cell-to-raw",
        "notebook:cut-cell",
        "notebook:copy-cell",
        "notebook:paste-cell-below",
        "notebook:paste-cell-above",
        "notebook:paste-and-replace-cell",
        "notebook:delete-cell",
        "notebook:split-cell-at-cursor",
        "notebook:merge-cells",
        "notebook:insert-cell-above",
        "notebook:insert-cell-below",
        "notebook:move-cursor-up",
        "notebook:move-cursor-down",
        "notebook:extend-marked-cells-above",
        "notebook:extend-marked-cells-top",
        "notebook:extend-marked-cells-below",
        "notebook:extend-marked-cells-bottom",
        "notebook:select-all",
        "notebook:deselect-all",
        "notebook:move-cell-up",
        "notebook:move-cell-down",
        "notebook:toggle-all-cell-line-numbers",
        "notebook:enter-command-mode",
        "notebook:enter-edit-mode",
        "notebook:undo-cell-action",
        "notebook:redo-cell-action",
        "notebook:change-kernel",
        "notebook:reconnect-to-kernel",
        "notebook:create-output-view",
        "notebook:create-console",
        "notebook:change-cell-to-heading-1",
        "notebook:change-cell-to-heading-2",
        "notebook:change-cell-to-heading-3",
        "notebook:change-cell-to-heading-4",
        "notebook:change-cell-to-heading-5",
        "notebook:change-cell-to-heading-6",
        "notebook:hide-cell-code",
        "notebook:show-cell-code",
        "notebook:hide-all-cell-code",
        "notebook:show-all-cell-code",
        "notebook:hide-cell-outputs",
        "notebook:show-cell-outputs",
        "notebook:hide-all-cell-outputs",
        "notebook:show-all-cell-outputs",
        "notebook:enable-output-scrolling",
        "notebook:disable-output-scrolling",
        "notebook:select-last-run-cell",
        "notebook:replace-selection",
        "notebook:create-new",
        "help:about",
        "help:open",
        "help:launch-classic-notebook",
        "terminal:create-new",
        "terminal:open",
        "terminal:refresh",
        "terminal:increase-font",
        "terminal:decrease-font",
        "terminal:set-theme",
        "completer:invoke-notebook",
        "completer:select-notebook",
        "logconsole:open",
        "logconsole:add-checkpoint",
        "logconsole:clear",
        "logconsole:set-level",
        "tooltip:launch-notebook",
        "@jupyter-widgets/jupyterlab-manager:saveWidgetState",
        "extensionmanager:toggle",
        "console:open",
        "console:create",
        "console:clear",
        "console:run-unforced",
        "console:run-forced",
        "console:linebreak",
        "console:replace-selection",
        "console:interrupt-kernel",
        "console:restart-kernel",
        "console:close-and-shutdown",
        "console:inject",
        "console:change-kernel",
        "console:interaction-mode",
        "fileeditor:change-font-size",
        "fileeditor:toggle-line-numbers",
        "fileeditor:toggle-line-wrap",
        "fileeditor:change-tabs",
        "fileeditor:toggle-match-brackets",
        "fileeditor:toggle-autoclosing-brackets",
        "fileeditor:replace-selection",
        "fileeditor:create-console",
        "fileeditor:run-code",
        "fileeditor:run-all",
        "fileeditor:markdown-preview",
        "fileeditor:create-new",
        "fileeditor:create-new-markdown-file",
        "fileeditor:undo",
        "fileeditor:redo",
        "fileeditor:cut",
        "fileeditor:copy",
        "fileeditor:paste",
        "fileeditor:select-all",
        "completer:invoke-console",
        "completer:select-console",
        "console:toggle-show-all-kernel-activity",
        "tooltip:launch-console",
        "codemirror:change-theme",
        "codemirror:change-keymap",
        "codemirror:find",
        "codemirror:go-to-line",
        "codemirror:change-mode",
        "completer:invoke-file",
        "completer:select-file",
        "tooltip:launch-file",
        "help-menu-python3:banner",
        "help-menu-python3:Python Reference",
        "help-menu-python3:IPython Reference",
        "help-menu-python3:NumPy Reference",
        "help-menu-python3:SciPy Reference",
        "help-menu-python3:Matplotlib Reference",
        "help-menu-python3:SymPy Reference",
        "help-menu-python3:pandas Reference"
       ],
       "_model_module_version": "^0.3.0",
       "_view_module": null,
       "_view_module_version": ""
      }
     },
     "3797457349e740fcb036a967a0ef4a6f": {
      "model_module": "@jupyter-widgets/base",
      "model_module_version": "1.2.0",
      "model_name": "LayoutModel",
      "state": {
       "height": "auto",
       "width": "100%"
      }
     },
     "3c6e33ee130d4255a3645d9879f5d02c": {
      "model_module": "ipylab",
      "model_module_version": "^0.3.0",
      "model_name": "PanelModel",
      "state": {
       "_model_module_version": "^0.3.0",
       "children": [
        "IPY_MODEL_8cb812df833c4f86b1eb310c3a500357"
       ],
       "layout": "IPY_MODEL_98e7c4aee39743669cc69c42a1704409",
       "title": "IPY_MODEL_e62c424ff54748e5af94f640347292e6"
      }
     },
     "475ad44ded9a4915a7b91e20f3b0c358": {
      "model_module": "ipylab",
      "model_module_version": "^0.3.0",
      "model_name": "JupyterFrontEndModel",
      "state": {
       "_model_module_version": "^0.3.0",
       "_view_module": null,
       "_view_module_version": "",
       "commands": "IPY_MODEL_2abb7958b8d8468da95ca5a7198957b9",
       "shell": "IPY_MODEL_773a3aace7144697ba442912beeb2ecb",
       "version": "2.2.9"
      }
     },
     "729c54d42d0547e3b7dab9f891e8c89a": {
      "buffers": [
       {
        "data": "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",
        "encoding": "base64",
        "path": [
         "value"
        ]
       }
      ],
      "model_module": "@jupyter-widgets/controls",
      "model_module_version": "1.5.0",
      "model_name": "ImageModel",
      "state": {
       "layout": "IPY_MODEL_fd47f894a0fb4247b7fbd53e9af055c0"
      }
     },
     "773a3aace7144697ba442912beeb2ecb": {
      "model_module": "ipylab",
      "model_module_version": "^0.3.0",
      "model_name": "ShellModel",
      "state": {
       "_model_module_version": "^0.3.0",
       "_view_module": null,
       "_view_module_version": "",
       "_widgets": [
        {
         "area": "main",
         "args": {
          "mode": "split-right"
         },
         "id": "id-12f3bfb6-efa1-4740-a566-447a475571dd",
         "serializedWidget": "IPY_MODEL_3c6e33ee130d4255a3645d9879f5d02c"
        }
       ]
      }
     },
     "8cb812df833c4f86b1eb310c3a500357": {
      "model_module": "@jupyter-widgets/controls",
      "model_module_version": "1.5.0",
      "model_name": "BoxModel",
      "state": {
       "children": [
        "IPY_MODEL_729c54d42d0547e3b7dab9f891e8c89a"
       ],
       "layout": "IPY_MODEL_3797457349e740fcb036a967a0ef4a6f"
      }
     },
     "98e7c4aee39743669cc69c42a1704409": {
      "model_module": "@jupyter-widgets/base",
      "model_module_version": "1.2.0",
      "model_name": "LayoutModel",
      "state": {}
     },
     "a2c52840828e4a958452eaef88d92f43": {
      "model_module": "@jupyter-widgets/controls",
      "model_module_version": "1.5.0",
      "model_name": "BoxModel",
      "state": {
       "children": [
        "IPY_MODEL_729c54d42d0547e3b7dab9f891e8c89a"
       ],
       "layout": "IPY_MODEL_01dad693029748fcadbf004232367c93"
      }
     },
     "e62c424ff54748e5af94f640347292e6": {
      "model_module": "ipylab",
      "model_module_version": "^0.3.0",
      "model_name": "TitleModel",
      "state": {
       "_model_module_version": "^0.3.0",
       "_view_module": null,
       "_view_module_version": "",
       "closable": true,
       "icon_class": "",
       "label": "Jyrobot Simulator"
      }
     },
     "fd47f894a0fb4247b7fbd53e9af055c0": {
      "model_module": "@jupyter-widgets/base",
      "model_module_version": "1.2.0",
      "model_name": "LayoutModel",
      "state": {}
     }
    },
    "version_major": 2,
    "version_minor": 0
   }
  }
 },
 "nbformat": 4,
 "nbformat_minor": 4
}
