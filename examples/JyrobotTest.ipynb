{
 "cells": [
  {
   "cell_type": "markdown",
   "metadata": {},
   "source": [
    "# Example 1"
   ]
  },
  {
   "cell_type": "code",
   "execution_count": 1,
   "metadata": {},
   "outputs": [],
   "source": [
    "import jyrobot\n",
    "import random"
   ]
  },
  {
   "cell_type": "code",
   "execution_count": 2,
   "metadata": {},
   "outputs": [
    {
     "name": "stdout",
     "output_type": "stream",
     "text": [
      "Searching for jyrobot config files...\n",
      "Directory: ./\n",
      "    'experiment-01'\n",
      "Directory: /home/dblank/jyrobot/jyrobot/worlds\n",
      "    'duck-scribbler-no-walls'\n",
      "    'two-scribblers-no-walls'\n",
      "    'two-scribblers-one-wall'\n",
      "    'two-scribblers'\n"
     ]
    }
   ],
   "source": [
    "jyrobot.load_world()"
   ]
  },
  {
   "cell_type": "code",
   "execution_count": 3,
   "metadata": {},
   "outputs": [
    {
     "name": "stdout",
     "output_type": "stream",
     "text": [
      "Reusing random seed: 2304288\n"
     ]
    }
   ],
   "source": [
    "world = jyrobot.load_world(\"two-scribblers\")"
   ]
  },
  {
   "cell_type": "code",
   "execution_count": 4,
   "metadata": {},
   "outputs": [
    {
     "data": {
      "application/vnd.jupyter.widget-view+json": {
       "model_id": "2ad284fc2ab84e25aa271229e7eedd80",
       "version_major": 2,
       "version_minor": 0
      },
      "text/plain": [
       "Image(value=b'\\xff\\xd8\\xff\\xe0\\x00\\x10JFIF\\x00\\x01\\x01\\x00\\x00\\x01\\x00\\x01\\x00\\x00\\xff\\xdb\\x00C\\x00\\x08\\x06\\x0…"
      ]
     },
     "metadata": {},
     "output_type": "display_data"
    }
   ],
   "source": [
    "world.watch()"
   ]
  },
  {
   "cell_type": "code",
   "execution_count": 5,
   "metadata": {},
   "outputs": [
    {
     "data": {
      "image/png": "[encoded data removed]",
      "text/plain": [
       "<PIL.Image.Image image mode=RGB size=200x200 at 0x7FC69697E070>"
      ]
     },
     "execution_count": 5,
     "metadata": {},
     "output_type": "execute_result"
    }
   ],
   "source": [
    "world.take_picture(\"blue\", size=200)"
   ]
  },
  {
   "cell_type": "code",
   "execution_count": 6,
   "metadata": {},
   "outputs": [
    {
     "name": "stdout",
     "output_type": "stream",
     "text": [
      "This world was loaded from '/home/dblank/jyrobot/jyrobot/worlds/two-scribblers.json'\n",
      "Robots:\n",
      "-------------------------\n",
      "  robot[0 or 'Red']: <Robot(name='Red', position=430,50,3.14 v=0,0,0)>\n",
      "      device[0 or 'camera']: <Camera size=(256,128), angle=60.0>\n",
      "      device[1 or 'laser']: <RangeSensor angle=0.0, range=100, width=0.0>\n",
      "      device[2 or 'ir']: <RangeSensor angle=90.0, range=20, width=57.3>\n",
      "      device[3 or 'ir']: <RangeSensor angle=-90.0, range=20, width=57.3>\n",
      "  -------------------------\n",
      "  robot[1 or 'Blue']: <Robot(name='Blue', position=30,50,0.0 v=0,0,0)>\n",
      "      device[0 or 'camera']: <Camera size=(256,128), angle=60.0>\n",
      "      device[1 or 'laser']: <RangeSensor angle=0.0, range=100, width=0.0>\n",
      "      device[2 or 'ir']: <RangeSensor angle=0.0, range=20, width=57.3>\n",
      "      device[3 or 'ir']: <RangeSensor angle=0.0, range=20, width=57.3>\n",
      "  -------------------------\n"
     ]
    }
   ],
   "source": [
    "world.info()"
   ]
  },
  {
   "cell_type": "code",
   "execution_count": 7,
   "metadata": {},
   "outputs": [
    {
     "data": {
      "text/plain": [
       "<Camera size=(256,128), angle=60.0>"
      ]
     },
     "execution_count": 7,
     "metadata": {},
     "output_type": "execute_result"
    }
   ],
   "source": [
    "world[\"red\"][\"camera\"]"
   ]
  },
  {
   "cell_type": "code",
   "execution_count": 8,
   "metadata": {},
   "outputs": [
    {
     "data": {
      "image/png": "[encoded data removed]",
      "text/plain": [
       "<PIL.Image.Image image mode=RGBA size=256x128 at 0x7FC6A4037190>"
      ]
     },
     "execution_count": 8,
     "metadata": {},
     "output_type": "execute_result"
    }
   ],
   "source": [
    "world[\"red\"][\"camera\"].take_picture()"
   ]
  },
  {
   "cell_type": "code",
   "execution_count": 9,
   "metadata": {},
   "outputs": [],
   "source": [
    "world[0].move(1, 0)\n",
    "world[1].move(1, 0)\n",
    "\n",
    "step = 0\n",
    "\n",
    "def control(robot):\n",
    "    global step\n",
    "    if robot.stalled:\n",
    "        robot.reverse()\n",
    "        robot.turn(1 - random.random() * 2)\n",
    "    if random.random() < .1:\n",
    "        robot.turn(1 - random.random() * 2)\n",
    "    #if step % 100 == 0:\n",
    "    #    world.display(world.take_picture())\n",
    "    step += 1"
   ]
  },
  {
   "cell_type": "code",
   "execution_count": 10,
   "metadata": {},
   "outputs": [],
   "source": [
    "world.save()"
   ]
  },
  {
   "cell_type": "code",
   "execution_count": 11,
   "metadata": {},
   "outputs": [
    {
     "name": "stdout",
     "output_type": "stream",
     "text": [
      "Reusing random seed: 2304288\n"
     ]
    }
   ],
   "source": [
    "world.reset()"
   ]
  },
  {
   "cell_type": "code",
   "execution_count": 12,
   "metadata": {},
   "outputs": [
    {
     "name": "stdout",
     "output_type": "stream",
     "text": [
      "Reusing random seed: 2304288\n"
     ]
    }
   ],
   "source": [
    "recorder = world.record()"
   ]
  },
  {
   "cell_type": "code",
   "execution_count": 13,
   "metadata": {},
   "outputs": [],
   "source": [
    "robot = world[0]"
   ]
  },
  {
   "cell_type": "code",
   "execution_count": 14,
   "metadata": {},
   "outputs": [
    {
     "data": {
      "application/vnd.jupyter.widget-view+json": {
       "model_id": "a86f5a4d8bc04fbab0e1d851046f0003",
       "version_major": 2,
       "version_minor": 0
      },
      "text/plain": [
       "Image(value=b'\\x89PNG\\r\\n\\x1a\\n\\x00\\x00\\x00\\rIHDR\\x00\\x00\\x00d\\x00\\x00\\x00d\\x08\\x02\\x00\\x00\\x00\\xff\\x80\\x02\\x0…"
      ]
     },
     "metadata": {},
     "output_type": "display_data"
    }
   ],
   "source": [
    "robot.watch()"
   ]
  },
  {
   "cell_type": "code",
   "execution_count": 15,
   "metadata": {},
   "outputs": [
    {
     "data": {
      "application/vnd.jupyter.widget-view+json": {
       "model_id": "11004c123dce4d4a8ba3d763e7014df8",
       "version_major": 2,
       "version_minor": 0
      },
      "text/plain": [
       "HBox(children=(HTML(value=''), FloatProgress(value=0.0, max=10.0), HTML(value='')))"
      ]
     },
     "metadata": {},
     "output_type": "display_data"
    },
    {
     "name": "stdout",
     "output_type": "stream",
     "text": [
      "\n",
      "Simulation stopped at: 00:00:01.0; speed 0.93 x real time\n"
     ]
    }
   ],
   "source": [
    "world.seconds(1, [control, control])"
   ]
  },
  {
   "cell_type": "code",
   "execution_count": 16,
   "metadata": {},
   "outputs": [
    {
     "data": {
      "application/vnd.jupyter.widget-view+json": {
       "model_id": "3dea6f5f4012496f94ebe45ab1f3eb50",
       "version_major": 2,
       "version_minor": 0
      },
      "text/plain": [
       "HBox(children=(HTML(value=''), FloatProgress(value=0.0, max=2000.0), HTML(value='')))"
      ]
     },
     "metadata": {},
     "output_type": "display_data"
    },
    {
     "name": "stdout",
     "output_type": "stream",
     "text": [
      "\n",
      "Simulation stopped at: 00:03:21.0; speed 22.71 x real time\n"
     ]
    }
   ],
   "source": [
    "world.seconds(200, [control, control], show=True, real_time=False)"
   ]
  },
  {
   "cell_type": "code",
   "execution_count": 15,
   "metadata": {},
   "outputs": [
    {
     "data": {
      "application/vnd.jupyter.widget-view+json": {
       "model_id": "8348e9476b4a4bcab908842fa498a824",
       "version_major": 2,
       "version_minor": 0
      },
      "text/plain": [
       "HBox(children=(HTML(value=''), FloatProgress(value=0.0, max=2000.0), HTML(value='')))"
      ]
     },
     "metadata": {},
     "output_type": "display_data"
    },
    {
     "name": "stdout",
     "output_type": "stream",
     "text": [
      "\n",
      "Simulation stopped at: 00:06:45.0; speed 49.25 x real time\n"
     ]
    }
   ],
   "source": [
    "world.seconds(200, [control, control], show=False)"
   ]
  },
  {
   "cell_type": "code",
   "execution_count": 16,
   "metadata": {},
   "outputs": [
    {
     "name": "stdout",
     "output_type": "stream",
     "text": [
      "Simulation stopped at: 00:10:05.0; speed 51.05 x real time\n"
     ]
    }
   ],
   "source": [
    "world.seconds(200, [control, control], show=False, show_progress=False)"
   ]
  },
  {
   "cell_type": "code",
   "execution_count": 17,
   "metadata": {},
   "outputs": [
    {
     "data": {
      "application/vnd.jupyter.widget-view+json": {
       "model_id": "d6405158e2b24e47bb4f61485c798c90",
       "version_major": 2,
       "version_minor": 0
      },
      "text/plain": [
       "Image(value=b'\\x89PNG\\r\\n\\x1a\\n\\x00\\x00\\x00\\rIHDR\\x00\\x00\\x00\\xc8\\x00\\x00\\x00\\xc8\\x08\\x02\\x00\\x00\\x00\":9\\xc9\\x…"
      ]
     },
     "metadata": {},
     "output_type": "display_data"
    }
   ],
   "source": [
    "recorder.world[0].watch(size=200)"
   ]
  },
  {
   "cell_type": "code",
   "execution_count": 18,
   "metadata": {},
   "outputs": [
    {
     "data": {
      "application/vnd.jupyter.widget-view+json": {
       "model_id": "5deb89988725437c9487d838acae0a8f",
       "version_major": 2,
       "version_minor": 0
      },
      "text/plain": [
       "Player(children=(VBox(children=(HBox(children=(FloatSlider(value=0.0, continuous_update=False, description='Ti…"
      ]
     },
     "metadata": {},
     "output_type": "display_data"
    },
    {
     "data": {
      "image/png": "[encoded data removed]",
      "text/plain": [
       "<PIL.Image.Image image mode=RGB size=1500x750 at 0x7FC6A40373D0>"
      ]
     },
     "metadata": {},
     "output_type": "display_data"
    }
   ],
   "source": [
    "recorder.watch()"
   ]
  },
  {
   "cell_type": "code",
   "execution_count": 25,
   "metadata": {},
   "outputs": [
    {
     "data": {
      "text/html": [
       "<video src='jyrobot_movie.mp4' controls style=\"width: 100%\"></video>"
      ],
      "text/plain": [
       "<IPython.core.display.HTML object>"
      ]
     },
     "execution_count": 25,
     "metadata": {},
     "output_type": "execute_result"
    }
   ],
   "source": [
    "recorder.save_as(mp4=True, stop=201.0, step=1.0, duration=1000)"
   ]
  },
  {
   "cell_type": "code",
   "execution_count": 19,
   "metadata": {},
   "outputs": [
    {
     "data": {
      "application/vnd.jupyter.widget-view+json": {
       "model_id": "701f51d24f5c4daea8f9cd829508bfe5",
       "version_major": 2,
       "version_minor": 0
      },
      "text/plain": [
       "Image(value=b'\\x89PNG\\r\\n\\x1a\\n\\x00\\x00\\x00\\rIHDR\\x00\\x00\\x00d\\x00\\x00\\x00d\\x08\\x02\\x00\\x00\\x00\\xff\\x80\\x02\\x0…"
      ]
     },
     "metadata": {},
     "output_type": "display_data"
    }
   ],
   "source": [
    "recorder.world[\"blue\"].watch()"
   ]
  },
  {
   "cell_type": "code",
   "execution_count": 20,
   "metadata": {},
   "outputs": [
    {
     "data": {
      "application/vnd.jupyter.widget-view+json": {
       "model_id": "942a8639a48a49349e963c88383d3648",
       "version_major": 2,
       "version_minor": 0
      },
      "text/plain": [
       "Image(value=b'\\x89PNG\\r\\n\\x1a\\n\\x00\\x00\\x00\\rIHDR\\x00\\x00\\x01\\x00\\x00\\x00\\x00\\x80\\x08\\x06\\x00\\x00\\x00\\xe4\\xb5\\…"
      ]
     },
     "metadata": {},
     "output_type": "display_data"
    }
   ],
   "source": [
    "recorder.world[\"blue\"][\"camera\"].watch()"
   ]
  },
  {
   "cell_type": "code",
   "execution_count": 25,
   "metadata": {},
   "outputs": [
    {
     "name": "stdout",
     "output_type": "stream",
     "text": [
      "Removing robots from world...\n",
      "Reusing random seed: 7481669\n"
     ]
    }
   ],
   "source": [
    "world.reset()"
   ]
  },
  {
   "cell_type": "markdown",
   "metadata": {},
   "source": [
    "# Example 2"
   ]
  },
  {
   "cell_type": "code",
   "execution_count": 20,
   "metadata": {},
   "outputs": [],
   "source": [
    "import jyrobot\n",
    "import time\n",
    "from jyrobot.utils import gallery"
   ]
  },
  {
   "cell_type": "code",
   "execution_count": 22,
   "metadata": {},
   "outputs": [
    {
     "name": "stdout",
     "output_type": "stream",
     "text": [
      "Reusing random seed: 10\n"
     ]
    },
    {
     "data": {
      "application/vnd.jupyter.widget-view+json": {
       "model_id": "26a20850ca504685aae5a655805f6358",
       "version_major": 2,
       "version_minor": 0
      },
      "text/plain": [
       "Image(value=b'\\xff\\xd8\\xff\\xe0\\x00\\x10JFIF\\x00\\x01\\x01\\x00\\x00\\x01\\x00\\x01\\x00\\x00\\xff\\xdb\\x00C\\x00\\x08\\x06\\x0…"
      ]
     },
     "metadata": {},
     "output_type": "display_data"
    }
   ],
   "source": [
    "w = jyrobot.World(width=500, height=500, ground_color=\"white\", seed=10, scale=10)\n",
    "w.watch()"
   ]
  },
  {
   "cell_type": "code",
   "execution_count": 23,
   "metadata": {},
   "outputs": [],
   "source": [
    "for i in range(20):\n",
    "    robot = jyrobot.Scribbler(color=\"blue\", name=\"Scribby-%s\" % i)\n",
    "    sensor = jyrobot.Camera()\n",
    "    robot.add_device(sensor)\n",
    "    w.add_robot(robot)\n",
    "w.draw()"
   ]
  },
  {
   "cell_type": "code",
   "execution_count": 24,
   "metadata": {},
   "outputs": [],
   "source": [
    "from jyrobot.utils import Color\n",
    "import random\n",
    "for robot in w:\n",
    "    robot.set_color( Color(\n",
    "        255 * random.random(), \n",
    "        255 * random.random(), \n",
    "        255 * random.random(), \n",
    "   ))\n",
    "w.draw()"
   ]
  },
  {
   "cell_type": "code",
   "execution_count": 25,
   "metadata": {},
   "outputs": [
    {
     "name": "stdout",
     "output_type": "stream",
     "text": [
      "CPU times: user 3.26 s, sys: 19.4 ms, total: 3.28 s\n",
      "Wall time: 3.28 s\n"
     ]
    }
   ],
   "source": [
    "%%time\n",
    "pics = []\n",
    "for robot in w:\n",
    "    pic = robot[\"camera\"].take_picture()\n",
    "    pics.append(pic)"
   ]
  },
  {
   "cell_type": "code",
   "execution_count": 26,
   "metadata": {},
   "outputs": [
    {
     "data": {
      "image/png": "[encoded data removed]",
      "text/plain": [
       "<PIL.Image.Image image mode=RGBA size=1290x520 at 0x7F6FDDFAE5B0>"
      ]
     },
     "execution_count": 26,
     "metadata": {},
     "output_type": "execute_result"
    }
   ],
   "source": [
    "gallery(*pics)"
   ]
  },
  {
   "cell_type": "code",
   "execution_count": 27,
   "metadata": {},
   "outputs": [
    {
     "name": "stdout",
     "output_type": "stream",
     "text": [
      "CPU times: user 10.2 ms, sys: 42 µs, total: 10.2 ms\n",
      "Wall time: 8.07 ms\n"
     ]
    }
   ],
   "source": [
    "%%time\n",
    "pics = []\n",
    "for i, robot in enumerate(w):\n",
    "    pic = w.take_picture(i, size=200)\n",
    "    pics.append(pic)"
   ]
  },
  {
   "cell_type": "code",
   "execution_count": 28,
   "metadata": {},
   "outputs": [
    {
     "data": {
      "image/png": "[encoded data removed]",
      "text/plain": [
       "<PIL.Image.Image image mode=RGBA size=1010x808 at 0x7F6FDDF3AA30>"
      ]
     },
     "execution_count": 28,
     "metadata": {},
     "output_type": "execute_result"
    }
   ],
   "source": [
    "gallery(*pics, background_color=\"black\")"
   ]
  },
  {
   "cell_type": "code",
   "execution_count": 29,
   "metadata": {},
   "outputs": [],
   "source": [
    "for robot in w:\n",
    "    robot.move(1,0)"
   ]
  },
  {
   "cell_type": "code",
   "execution_count": 30,
   "metadata": {},
   "outputs": [],
   "source": [
    "def control(world):\n",
    "    for robot in world:\n",
    "        if robot.stalled:\n",
    "            robot.reverse()\n",
    "        robot.turn(1 - random.random() * 2)"
   ]
  },
  {
   "cell_type": "code",
   "execution_count": 31,
   "metadata": {},
   "outputs": [
    {
     "data": {
      "application/vnd.jupyter.widget-view+json": {
       "model_id": "f5450110f8b647c7b2751ae6b1033d4c",
       "version_major": 2,
       "version_minor": 0
      },
      "text/plain": [
       "HBox(children=(HTML(value=''), FloatProgress(value=1.0, bar_style='info', layout=Layout(width='20px'), max=1.0…"
      ]
     },
     "metadata": {},
     "output_type": "display_data"
    },
    {
     "name": "stdout",
     "output_type": "stream",
     "text": [
      "\n",
      "Simulation stopped at: 00:02:01.7; speed 4.93 x real time\n"
     ]
    }
   ],
   "source": [
    "w.run(control, show=True, real_time=False)"
   ]
  },
  {
   "cell_type": "markdown",
   "metadata": {},
   "source": [
    "# Example 3"
   ]
  },
  {
   "cell_type": "code",
   "execution_count": 33,
   "metadata": {},
   "outputs": [],
   "source": [
    "import jyrobot as jr\n",
    "import random"
   ]
  },
  {
   "cell_type": "code",
   "execution_count": 34,
   "metadata": {},
   "outputs": [
    {
     "name": "stdout",
     "output_type": "stream",
     "text": [
      "Random seed initialized to: 978581\n"
     ]
    }
   ],
   "source": [
    "w = jr.World(width=100, height=100, scale=10)"
   ]
  },
  {
   "cell_type": "code",
   "execution_count": 36,
   "metadata": {},
   "outputs": [
    {
     "data": {
      "application/vnd.jupyter.widget-view+json": {
       "model_id": "4736bcb0afb3426c8623ec3ce0704832",
       "version_major": 2,
       "version_minor": 0
      },
      "text/plain": [
       "Image(value=b'\\xff\\xd8\\xff\\xe0\\x00\\x10JFIF\\x00\\x01\\x01\\x00\\x00\\x01\\x00\\x01\\x00\\x00\\xff\\xdb\\x00C\\x00\\x08\\x06\\x0…"
      ]
     },
     "metadata": {},
     "output_type": "display_data"
    }
   ],
   "source": [
    "w.watch()"
   ]
  },
  {
   "cell_type": "code",
   "execution_count": 37,
   "metadata": {},
   "outputs": [],
   "source": [
    "r = jr.Scribbler()"
   ]
  },
  {
   "cell_type": "code",
   "execution_count": 38,
   "metadata": {},
   "outputs": [],
   "source": [
    "w.add_robot(r)\n",
    "w.update()"
   ]
  },
  {
   "cell_type": "code",
   "execution_count": 39,
   "metadata": {},
   "outputs": [],
   "source": [
    "sensor = jr.RangeSensor()"
   ]
  },
  {
   "cell_type": "code",
   "execution_count": 40,
   "metadata": {},
   "outputs": [],
   "source": [
    "r.add_device(sensor)\n",
    "w.update()"
   ]
  },
  {
   "cell_type": "code",
   "execution_count": 41,
   "metadata": {},
   "outputs": [],
   "source": [
    "r.forward(1)\n",
    "\n",
    "def control(world):\n",
    "    for robot in world:\n",
    "        if robot.stalled:\n",
    "            robot.reverse()\n",
    "        robot.turn(1 - random.random() * 2)"
   ]
  },
  {
   "cell_type": "code",
   "execution_count": 44,
   "metadata": {},
   "outputs": [
    {
     "data": {
      "application/vnd.jupyter.widget-view+json": {
       "model_id": "21b0b0b2da2a4a91a806ab12b3e49d6e",
       "version_major": 2,
       "version_minor": 0
      },
      "text/plain": [
       "Figure(axes=[Axis(label='x', scale=LinearScale()), Axis(label='y', orientation='vertical', scale=LinearScale()…"
      ]
     },
     "metadata": {},
     "output_type": "display_data"
    }
   ],
   "source": [
    "r.plot(lambda robot: (robot.x, robot.world.width - robot.y)).watch()"
   ]
  },
  {
   "cell_type": "code",
   "execution_count": 45,
   "metadata": {},
   "outputs": [
    {
     "data": {
      "application/vnd.jupyter.widget-view+json": {
       "model_id": "1fd8d6acfe6c4999a207f4aa8187c36d",
       "version_major": 2,
       "version_minor": 0
      },
      "text/plain": [
       "HBox(children=(HTML(value=''), FloatProgress(value=0.0, max=1.0), HTML(value='')))"
      ]
     },
     "metadata": {},
     "output_type": "display_data"
    },
    {
     "name": "stdout",
     "output_type": "stream",
     "text": [
      "\n",
      "Simulation stopped at: 00:00:00.1; speed 0.75 x real time\n"
     ]
    }
   ],
   "source": [
    "w.seconds(.1, control, show=True, real_time=True)"
   ]
  },
  {
   "cell_type": "code",
   "execution_count": 46,
   "metadata": {},
   "outputs": [
    {
     "data": {
      "application/vnd.jupyter.widget-view+json": {
       "model_id": "4a19bf9943084b1786d213ee16b42aa3",
       "version_major": 2,
       "version_minor": 0
      },
      "text/plain": [
       "HBox(children=(HTML(value=''), FloatProgress(value=0.0), HTML(value='')))"
      ]
     },
     "metadata": {},
     "output_type": "display_data"
    },
    {
     "name": "stdout",
     "output_type": "stream",
     "text": [
      "\n",
      "Simulation stopped at: 00:00:10.1; speed 0.97 x real time\n"
     ]
    }
   ],
   "source": [
    "w.seconds(10, control, show=True, real_time=True)"
   ]
  },
  {
   "cell_type": "code",
   "execution_count": 43,
   "metadata": {},
   "outputs": [
    {
     "data": {
      "application/vnd.jupyter.widget-view+json": {
       "model_id": "b5f884c16c114d088e0f65a633f443b9",
       "version_major": 2,
       "version_minor": 0
      },
      "text/plain": [
       "HBox(children=(HTML(value=''), FloatProgress(value=1.0, bar_style='info', layout=Layout(width='20px'), max=1.0…"
      ]
     },
     "metadata": {},
     "output_type": "display_data"
    },
    {
     "name": "stdout",
     "output_type": "stream",
     "text": [
      "\n",
      "Simulation stopped at: 00:00:31.3; speed 0.99 x real time\n"
     ]
    }
   ],
   "source": [
    "w.run(control, show=True, real_time=True)"
   ]
  },
  {
   "cell_type": "code",
   "execution_count": 44,
   "metadata": {},
   "outputs": [
    {
     "data": {
      "application/vnd.jupyter.widget-view+json": {
       "model_id": "d6c7040dd8a341eb830816a2b4d2b00c",
       "version_major": 2,
       "version_minor": 0
      },
      "text/plain": [
       "HBox(children=(HTML(value=''), FloatProgress(value=0.0), HTML(value='')))"
      ]
     },
     "metadata": {},
     "output_type": "display_data"
    },
    {
     "name": "stdout",
     "output_type": "stream",
     "text": [
      "\n",
      "Simulation stopped at: 00:00:41.3; speed 92.65 x real time\n"
     ]
    }
   ],
   "source": [
    "w.seconds(10, control, show=True, real_time=False)"
   ]
  },
  {
   "cell_type": "code",
   "execution_count": 45,
   "metadata": {},
   "outputs": [
    {
     "data": {
      "application/vnd.jupyter.widget-view+json": {
       "model_id": "e588698d9f3e448c807515ed6f163bcf",
       "version_major": 2,
       "version_minor": 0
      },
      "text/plain": [
       "HBox(children=(HTML(value=''), FloatProgress(value=0.0), HTML(value='')))"
      ]
     },
     "metadata": {},
     "output_type": "display_data"
    },
    {
     "name": "stdout",
     "output_type": "stream",
     "text": [
      "\n",
      "Simulation stopped at: 00:00:51.3; speed 174.58 x real time\n"
     ]
    }
   ],
   "source": [
    "w.seconds(10, control, show=False)"
   ]
  },
  {
   "cell_type": "code",
   "execution_count": 47,
   "metadata": {},
   "outputs": [],
   "source": [
    "r.set_pose(50, 50, 180)"
   ]
  },
  {
   "cell_type": "code",
   "execution_count": 48,
   "metadata": {},
   "outputs": [],
   "source": [
    "r.set_color(\"purple\")"
   ]
  },
  {
   "cell_type": "code",
   "execution_count": 49,
   "metadata": {},
   "outputs": [],
   "source": [
    "w.update()"
   ]
  },
  {
   "cell_type": "code",
   "execution_count": 50,
   "metadata": {},
   "outputs": [
    {
     "data": {
      "image/png": "[encoded data removed]",
      "text/plain": [
       "<PIL.Image.Image image mode=RGB size=1000x1000 at 0x7F6FDF7CA3A0>"
      ]
     },
     "execution_count": 50,
     "metadata": {},
     "output_type": "execute_result"
    }
   ],
   "source": [
    "w.take_picture()"
   ]
  },
  {
   "cell_type": "code",
   "execution_count": null,
   "metadata": {},
   "outputs": [],
   "source": []
  }
 ],
 "metadata": {
  "kernelspec": {
   "display_name": "Python 3",
   "language": "python",
   "name": "python3"
  },
  "language_info": {
   "codemirror_mode": {
    "name": "ipython",
    "version": 3
   },
   "file_extension": ".py",
   "mimetype": "text/x-python",
   "name": "python",
   "nbconvert_exporter": "python",
   "pygments_lexer": "ipython3",
   "version": "3.8.5"
  },
  "widgets": {
   "application/vnd.jupyter.widget-state+json": {
    "state": {
     "01099585c6ae4ab0bd4ae7eb2dc5cac6": {
      "model_module": "@jupyter-widgets/base",
      "model_module_version": "1.2.0",
      "model_name": "LayoutModel",
      "state": {
       "width": "100%"
      }
     },
     "03572396d2ee48ce8e17b57706171fd4": {
      "model_module": "@jupyter-widgets/controls",
      "model_module_version": "1.5.0",
      "model_name": "ButtonModel",
      "state": {
       "icon": "forward",
       "layout": "IPY_MODEL_a893c1dc07094065b62c6d3bfd7ccb82",
       "style": "IPY_MODEL_d68724a7f67f44c6bab1af6485a8858a"
      }
     },
     "04aa1dace23c4416a665c12d5a839db0": {
      "model_module": "@jupyter-widgets/base",
      "model_module_version": "1.2.0",
      "model_name": "LayoutModel",
      "state": {}
     },
     "0cc5114b9a76434dbeb8d39b3a0e4b46": {
      "model_module": "@jupyter-widgets/controls",
      "model_module_version": "1.5.0",
      "model_name": "ProgressStyleModel",
      "state": {
       "description_width": ""
      }
     },
     "11004c123dce4d4a8ba3d763e7014df8": {
      "model_module": "@jupyter-widgets/controls",
      "model_module_version": "1.5.0",
      "model_name": "HBoxModel",
      "state": {
       "children": [
        "IPY_MODEL_c1c361b0383e4b8585bbdc965e98c410",
        "IPY_MODEL_de01c8e3b68b4b46b269934e7cb5e101",
        "IPY_MODEL_f81f6d960ea140139e1ba6ec45dfbcb3"
       ],
       "layout": "IPY_MODEL_5b486e2cda394ae5b8933cf02da822c6"
      }
     },
     "1d2b316ce7ab4f268d8a46f3f646ce91": {
      "model_module": "@jupyter-widgets/controls",
      "model_module_version": "1.5.0",
      "model_name": "DescriptionStyleModel",
      "state": {
       "description_width": ""
      }
     },
     "215c05ad90b74696bea3ef0887d129f3": {
      "model_module": "@jupyter-widgets/controls",
      "model_module_version": "1.5.0",
      "model_name": "FloatProgressModel",
      "state": {
       "bar_style": "success",
       "layout": "IPY_MODEL_9e118fa6d96a46eb9a3e09e3cf3c67ca",
       "max": 2000,
       "style": "IPY_MODEL_0cc5114b9a76434dbeb8d39b3a0e4b46",
       "value": 2000
      }
     },
     "23e44e8504854cf28c12966bbf9a3434": {
      "model_module": "@jupyter-widgets/controls",
      "model_module_version": "1.5.0",
      "model_name": "ButtonStyleModel",
      "state": {}
     },
     "2ad284fc2ab84e25aa271229e7eedd80": {
      "buffers": [
       {
        "data": "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",
        "encoding": "base64",
        "path": [
         "value"
        ]
       }
      ],
      "model_module": "@jupyter-widgets/controls",
      "model_module_version": "1.5.0",
      "model_name": "ImageModel",
      "state": {
       "layout": "IPY_MODEL_b2b45a6feff4488284212cb18d566fc9"
      }
     },
     "3dea6f5f4012496f94ebe45ab1f3eb50": {
      "model_module": "@jupyter-widgets/controls",
      "model_module_version": "1.5.0",
      "model_name": "HBoxModel",
      "state": {
       "children": [
        "IPY_MODEL_f9e1c564af704a5da85da218090b4f32",
        "IPY_MODEL_215c05ad90b74696bea3ef0887d129f3",
        "IPY_MODEL_d4e8070779e94813be2eb97d9d378417"
       ],
       "layout": "IPY_MODEL_04aa1dace23c4416a665c12d5a839db0"
      }
     },
     "3df252e7827942bc808272df38f9fdca": {
      "model_module": "@jupyter-widgets/base",
      "model_module_version": "1.2.0",
      "model_name": "LayoutModel",
      "state": {}
     },
     "48a6adfae0f84c74881b180a0ce70c2c": {
      "model_module": "@jupyter-widgets/base",
      "model_module_version": "1.2.0",
      "model_name": "LayoutModel",
      "state": {
       "width": "100%"
      }
     },
     "4a28e2f5d94641bb8644d0a26812d305": {
      "model_module": "@jupyter-widgets/controls",
      "model_module_version": "1.5.0",
      "model_name": "ButtonModel",
      "state": {
       "icon": "backward",
       "layout": "IPY_MODEL_bc711ec68356462189e8ca29ed09a418",
       "style": "IPY_MODEL_23e44e8504854cf28c12966bbf9a3434"
      }
     },
     "4c87464bb6aa49229454d0ffbbd1e9dd": {
      "model_module": "@jupyter-widgets/controls",
      "model_module_version": "1.5.0",
      "model_name": "ButtonStyleModel",
      "state": {}
     },
     "56df86fb112a411aa079d0fe26120939": {
      "model_module": "@jupyter-widgets/base",
      "model_module_version": "1.2.0",
      "model_name": "LayoutModel",
      "state": {}
     },
     "59f992b3fa96472da7cc7b84e4cdad53": {
      "model_module": "@jupyter-widgets/controls",
      "model_module_version": "1.5.0",
      "model_name": "ButtonModel",
      "state": {
       "icon": "fast-backward",
       "layout": "IPY_MODEL_01099585c6ae4ab0bd4ae7eb2dc5cac6",
       "style": "IPY_MODEL_dc03b6ee4cc448148d13ac0097f1e0dd"
      }
     },
     "5b486e2cda394ae5b8933cf02da822c6": {
      "model_module": "@jupyter-widgets/base",
      "model_module_version": "1.2.0",
      "model_name": "LayoutModel",
      "state": {}
     },
     "5deb89988725437c9487d838acae0a8f": {
      "model_module": "@jupyter-widgets/controls",
      "model_module_version": "1.5.0",
      "model_name": "VBoxModel",
      "state": {
       "children": [
        "IPY_MODEL_c4026a8748dd443abcc8317c40832a8f",
        "IPY_MODEL_6dc4f961244f40d59b64d467ed06daf1"
       ],
       "layout": "IPY_MODEL_c5a46cc024ff4a75a43aaa8b88d549c7"
      }
     },
     "683f7e8f91754628bd718bbd8fcf1faa": {
      "model_module": "@jupyter-widgets/controls",
      "model_module_version": "1.5.0",
      "model_name": "HBoxModel",
      "state": {
       "children": [
        "IPY_MODEL_59f992b3fa96472da7cc7b84e4cdad53",
        "IPY_MODEL_4a28e2f5d94641bb8644d0a26812d305",
        "IPY_MODEL_ff685f7b610443f4801cbac6889a8f42",
        "IPY_MODEL_03572396d2ee48ce8e17b57706171fd4",
        "IPY_MODEL_8cb7d550d83c470e91a10626150a1470",
        "IPY_MODEL_9a4fa04cae2d4247834b351f229bb55b"
       ],
       "layout": "IPY_MODEL_a90fe89352b8498aac2757e461361097"
      }
     },
     "6dc4f961244f40d59b64d467ed06daf1": {
      "model_module": "@jupyter-widgets/output",
      "model_module_version": "1.0.0",
      "model_name": "OutputModel",
      "state": {
       "layout": "IPY_MODEL_8682324fcc5c44238a00da3a966f96f2"
      }
     },
     "7af49cd4d7984ab4877c5aa044156a84": {
      "model_module": "@jupyter-widgets/base",
      "model_module_version": "1.2.0",
      "model_name": "LayoutModel",
      "state": {}
     },
     "7ddc593a49f24288b27324d1cd4d0521": {
      "model_module": "@jupyter-widgets/base",
      "model_module_version": "1.2.0",
      "model_name": "LayoutModel",
      "state": {}
     },
     "8682324fcc5c44238a00da3a966f96f2": {
      "model_module": "@jupyter-widgets/base",
      "model_module_version": "1.2.0",
      "model_name": "LayoutModel",
      "state": {}
     },
     "8cb7d550d83c470e91a10626150a1470": {
      "model_module": "@jupyter-widgets/controls",
      "model_module_version": "1.5.0",
      "model_name": "ButtonModel",
      "state": {
       "icon": "fast-forward",
       "layout": "IPY_MODEL_a23c6abb60544275bb92f7f634a4a505",
       "style": "IPY_MODEL_9901b8f49068494e90743f8b2f3be4d0"
      }
     },
     "91f621493bef481f8bfc3c75ae9b6d32": {
      "model_module": "@jupyter-widgets/controls",
      "model_module_version": "1.5.0",
      "model_name": "DescriptionStyleModel",
      "state": {
       "description_width": ""
      }
     },
     "96e68e9b0b5a4dcf8fc62a3bac2e9062": {
      "model_module": "@jupyter-widgets/controls",
      "model_module_version": "1.5.0",
      "model_name": "DescriptionStyleModel",
      "state": {
       "description_width": ""
      }
     },
     "9901b8f49068494e90743f8b2f3be4d0": {
      "model_module": "@jupyter-widgets/controls",
      "model_module_version": "1.5.0",
      "model_name": "ButtonStyleModel",
      "state": {}
     },
     "99e70bd369a44f70abe6971b4706ae26": {
      "model_module": "@jupyter-widgets/controls",
      "model_module_version": "1.5.0",
      "model_name": "SliderStyleModel",
      "state": {
       "description_width": "initial"
      }
     },
     "9a4fa04cae2d4247834b351f229bb55b": {
      "model_module": "@jupyter-widgets/controls",
      "model_module_version": "1.5.0",
      "model_name": "ButtonModel",
      "state": {
       "description": "Play",
       "icon": "play",
       "layout": "IPY_MODEL_bdbe6bf9bf6c42098219c399473420ea",
       "style": "IPY_MODEL_4c87464bb6aa49229454d0ffbbd1e9dd"
      }
     },
     "9e118fa6d96a46eb9a3e09e3cf3c67ca": {
      "model_module": "@jupyter-widgets/base",
      "model_module_version": "1.2.0",
      "model_name": "LayoutModel",
      "state": {}
     },
     "a23c6abb60544275bb92f7f634a4a505": {
      "model_module": "@jupyter-widgets/base",
      "model_module_version": "1.2.0",
      "model_name": "LayoutModel",
      "state": {
       "width": "100%"
      }
     },
     "a6bcbcabbb954cabb1a3b82d2cf5e446": {
      "model_module": "@jupyter-widgets/controls",
      "model_module_version": "1.5.0",
      "model_name": "ProgressStyleModel",
      "state": {
       "description_width": ""
      }
     },
     "a86f5a4d8bc04fbab0e1d851046f0003": {
      "buffers": [
       {
        "data": "iVBORw0KGgoAAAANSUhEUgAAAGQAAABkCAIAAAD/gAIDAAAEPUlEQVR4nO2d7ZGbMBRF78ukgJSgUuxO0kIqyEsFaSGd7JaiErYD8kM2CJCQBHr6YHRmJ4NlGZyzVw+BMUtg5EVplXmNfrTSxbYF4Fv2NRb+D5Qkvyzc15eILABa6fspk5JluJkvWVmQ9FX+NyEuCzfKVwlZuEsJKyTL0LuvorLQua/SstCzrwqy0K2vOrLQZ8mvJsvQl6/KsnDWVxXL9WWhn3w1IQudlLBWZBka99WWLLTtqzlZaNhXi7LQaglrVJahNV9Ny4LHVy2JrctCS/nqQBaaKWFNymJ3c3Vf3+tufgWHGzW0gsr+KXokbSSLd6ash9P6R0P7ekpTNVkc1YcYk9UwAcQuv2JMv1/bpzqRjtwov/6d1s0EAEsjxa8wkVmToWyy+FQ3V7ik2WiiP4RyyYrcirMbAyFBucK1cYS3JoNwsvhaNwaK5AghTa8W8WQdr9/57LsxqIkemD7fy8FtuYhxNFNpb8hH7YER98jzFpI0GeRl8VoNe/oAODXiyApXJM7iHYOkLLbUsKcDgERH0yfo4Wqf51++F6ZHaYOYLPYsWy25KjeFwnVd0+tVIgX+PS3aFt338nVN9Fg9dJb5XI5mShV4BkpNAiCg6bWS/Mlaz7Y3hyYZocfq4fQJTCKOZnIna3ccV2hK+SGrydDGKZpTuIs6ERFJmEJmWbtYlYSeBCKYLLPIJjpOlg09Cfkm9z7yyaoRK9/0SihcN0lWGbqXtQkXPd7tyB+unMNQZA/UEt0nC/5wAfjgnBvKPHVoKlwT8AQ+OJuylj5kvcB83sa3f5x9PdndIYY7DMOZvSkTLpsrKcstq95IPDiltUnTaV+3SpYTM4fI4ktAVktlnrC8meu+ZM+U1mL5bfH2qY2jpHp/32HI7hn8lXzJyCo+Eu3hhtCxzunZQ/fJIv9n0Qc3erF9xYerY1mLJgawivOsL/LGOJG+xGSJjUTaazrE5+tE8eopWStHbD3By4JzVCqtnMpSi5ekrHzh8kZp3wJv3IK+guFq/UD6pZt3T/DuIa/anWqUVleuD290GHoLE1+99HYvMT5cJS5mS5rNx0bJs62Z4H7QjljktL6hZKUVpsvYNiMrfZELcEPhupQmT7fIGZYvX059zRR49izHv+oUSSW/6KXdvnwtMyNOWNsxqTe1NMqOw1WqZvEyY9xPvpbjXo5ajwQxcut8w4J4aYvaV3Kwx4pz90pVWj1ZH8weKn13x4b9CziZoys3ltVK+z4KaqDAc3RjEZRWX8CPzRf1ADQ1z1rg2m8A+ILaNzYpqza/fgLAF9Smfg1ZR2zyNWQFsPcVQ5YbMxIB/P23nDscsmJRWt1Qltzd+28oKxf2SDQMWQkMWQkMWQkMWUfMZcswZEVhavyQlcCQlcDdZIn+Pam7yRJlyApgz+OHrASGrASGrASGrDBz2RqyEriVLOk/2nkrWXKYkfgfDAtgHz+yexYAAAAASUVORK5CYII=",
        "encoding": "base64",
        "path": [
         "value"
        ]
       }
      ],
      "model_module": "@jupyter-widgets/controls",
      "model_module_version": "1.5.0",
      "model_name": "ImageModel",
      "state": {
       "layout": "IPY_MODEL_7af49cd4d7984ab4877c5aa044156a84"
      }
     },
     "a893c1dc07094065b62c6d3bfd7ccb82": {
      "model_module": "@jupyter-widgets/base",
      "model_module_version": "1.2.0",
      "model_name": "LayoutModel",
      "state": {
       "width": "100%"
      }
     },
     "a90fe89352b8498aac2757e461361097": {
      "model_module": "@jupyter-widgets/base",
      "model_module_version": "1.2.0",
      "model_name": "LayoutModel",
      "state": {
       "height": "50px",
       "width": "100%"
      }
     },
     "ad441b47434a4709bda505fadbbf2fb2": {
      "model_module": "@jupyter-widgets/controls",
      "model_module_version": "1.5.0",
      "model_name": "HBoxModel",
      "state": {
       "children": [
        "IPY_MODEL_f86b23eefa424d1f9976faf76c7a14e8",
        "IPY_MODEL_e066bc2e67a14ab292081df878dc7394"
       ],
       "layout": "IPY_MODEL_b8744d7c98ad44359ee0157653d48f99"
      }
     },
     "b2b45a6feff4488284212cb18d566fc9": {
      "model_module": "@jupyter-widgets/base",
      "model_module_version": "1.2.0",
      "model_name": "LayoutModel",
      "state": {
       "margin": "auto"
      }
     },
     "b8744d7c98ad44359ee0157653d48f99": {
      "model_module": "@jupyter-widgets/base",
      "model_module_version": "1.2.0",
      "model_name": "LayoutModel",
      "state": {
       "height": "40px"
      }
     },
     "bc711ec68356462189e8ca29ed09a418": {
      "model_module": "@jupyter-widgets/base",
      "model_module_version": "1.2.0",
      "model_name": "LayoutModel",
      "state": {
       "width": "100%"
      }
     },
     "bcc219b6be12499cbb46b59d82abb2a4": {
      "model_module": "@jupyter-widgets/controls",
      "model_module_version": "1.5.0",
      "model_name": "DescriptionStyleModel",
      "state": {
       "description_width": ""
      }
     },
     "bdbe6bf9bf6c42098219c399473420ea": {
      "model_module": "@jupyter-widgets/base",
      "model_module_version": "1.2.0",
      "model_name": "LayoutModel",
      "state": {
       "width": "100%"
      }
     },
     "bfc569fe73d847d686da9569170809c6": {
      "model_module": "@jupyter-widgets/base",
      "model_module_version": "1.2.0",
      "model_name": "LayoutModel",
      "state": {}
     },
     "c0593366ef75491e9cd0504ee5d82ca7": {
      "model_module": "@jupyter-widgets/base",
      "model_module_version": "1.2.0",
      "model_name": "LayoutModel",
      "state": {}
     },
     "c1c361b0383e4b8585bbdc965e98c410": {
      "model_module": "@jupyter-widgets/controls",
      "model_module_version": "1.5.0",
      "model_name": "HTMLModel",
      "state": {
       "layout": "IPY_MODEL_56df86fb112a411aa079d0fe26120939",
       "style": "IPY_MODEL_1d2b316ce7ab4f268d8a46f3f646ce91",
       "value": "100%"
      }
     },
     "c4026a8748dd443abcc8317c40832a8f": {
      "model_module": "@jupyter-widgets/controls",
      "model_module_version": "1.5.0",
      "model_name": "VBoxModel",
      "state": {
       "children": [
        "IPY_MODEL_ad441b47434a4709bda505fadbbf2fb2",
        "IPY_MODEL_683f7e8f91754628bd718bbd8fcf1faa"
       ],
       "layout": "IPY_MODEL_ccf415a744504628bb58145fccc53507"
      }
     },
     "c5a46cc024ff4a75a43aaa8b88d549c7": {
      "model_module": "@jupyter-widgets/base",
      "model_module_version": "1.2.0",
      "model_name": "LayoutModel",
      "state": {}
     },
     "c9c6795f307943eda3d5e31063eda248": {
      "model_module": "@jupyter-widgets/controls",
      "model_module_version": "1.5.0",
      "model_name": "DescriptionStyleModel",
      "state": {
       "description_width": ""
      }
     },
     "cad10b388e2b493b863017460aaa0bdb": {
      "model_module": "@jupyter-widgets/base",
      "model_module_version": "1.2.0",
      "model_name": "LayoutModel",
      "state": {
       "width": "100%"
      }
     },
     "ccf415a744504628bb58145fccc53507": {
      "model_module": "@jupyter-widgets/base",
      "model_module_version": "1.2.0",
      "model_name": "LayoutModel",
      "state": {
       "width": "100%"
      }
     },
     "d227d302b45f407b82808bb54fc9a3d7": {
      "model_module": "@jupyter-widgets/controls",
      "model_module_version": "1.5.0",
      "model_name": "DescriptionStyleModel",
      "state": {
       "description_width": ""
      }
     },
     "d4e8070779e94813be2eb97d9d378417": {
      "model_module": "@jupyter-widgets/controls",
      "model_module_version": "1.5.0",
      "model_name": "HTMLModel",
      "state": {
       "layout": "IPY_MODEL_c0593366ef75491e9cd0504ee5d82ca7",
       "style": "IPY_MODEL_bcc219b6be12499cbb46b59d82abb2a4",
       "value": " 2000/2000 [00:08&lt;00:00, 227.16it/s]"
      }
     },
     "d6405158e2b24e47bb4f61485c798c90": {
      "buffers": [
       {
        "data": "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",
        "encoding": "base64",
        "path": [
         "value"
        ]
       }
      ],
      "model_module": "@jupyter-widgets/controls",
      "model_module_version": "1.5.0",
      "model_name": "ImageModel",
      "state": {
       "layout": "IPY_MODEL_7ddc593a49f24288b27324d1cd4d0521"
      }
     },
     "d68724a7f67f44c6bab1af6485a8858a": {
      "model_module": "@jupyter-widgets/controls",
      "model_module_version": "1.5.0",
      "model_name": "ButtonStyleModel",
      "state": {}
     },
     "dc03b6ee4cc448148d13ac0097f1e0dd": {
      "model_module": "@jupyter-widgets/controls",
      "model_module_version": "1.5.0",
      "model_name": "ButtonStyleModel",
      "state": {}
     },
     "de01c8e3b68b4b46b269934e7cb5e101": {
      "model_module": "@jupyter-widgets/controls",
      "model_module_version": "1.5.0",
      "model_name": "FloatProgressModel",
      "state": {
       "bar_style": "success",
       "layout": "IPY_MODEL_bfc569fe73d847d686da9569170809c6",
       "max": 10,
       "style": "IPY_MODEL_a6bcbcabbb954cabb1a3b82d2cf5e446",
       "value": 10
      }
     },
     "e066bc2e67a14ab292081df878dc7394": {
      "model_module": "@jupyter-widgets/controls",
      "model_module_version": "1.5.0",
      "model_name": "LabelModel",
      "state": {
       "layout": "IPY_MODEL_f88873a0207f481db145bc1638c22ace",
       "style": "IPY_MODEL_96e68e9b0b5a4dcf8fc62a3bac2e9062",
       "value": "of 201.0"
      }
     },
     "f81f6d960ea140139e1ba6ec45dfbcb3": {
      "model_module": "@jupyter-widgets/controls",
      "model_module_version": "1.5.0",
      "model_name": "HTMLModel",
      "state": {
       "layout": "IPY_MODEL_3df252e7827942bc808272df38f9fdca",
       "style": "IPY_MODEL_91f621493bef481f8bfc3c75ae9b6d32",
       "value": " 10/10 [00:10&lt;00:00,  1.07s/it]"
      }
     },
     "f86b23eefa424d1f9976faf76c7a14e8": {
      "model_module": "@jupyter-widgets/controls",
      "model_module_version": "1.5.0",
      "model_name": "FloatSliderModel",
      "state": {
       "continuous_update": false,
       "description": "Time:",
       "layout": "IPY_MODEL_cad10b388e2b493b863017460aaa0bdb",
       "max": 201,
       "readout_format": ".1f",
       "step": 0.1,
       "style": "IPY_MODEL_99e70bd369a44f70abe6971b4706ae26",
       "value": 201
      }
     },
     "f88873a0207f481db145bc1638c22ace": {
      "model_module": "@jupyter-widgets/base",
      "model_module_version": "1.2.0",
      "model_name": "LayoutModel",
      "state": {
       "width": "100px"
      }
     },
     "f9e1c564af704a5da85da218090b4f32": {
      "model_module": "@jupyter-widgets/controls",
      "model_module_version": "1.5.0",
      "model_name": "HTMLModel",
      "state": {
       "layout": "IPY_MODEL_febd223b67bb4c39ac1f4fd8c4bf5994",
       "style": "IPY_MODEL_c9c6795f307943eda3d5e31063eda248",
       "value": "100%"
      }
     },
     "febd223b67bb4c39ac1f4fd8c4bf5994": {
      "model_module": "@jupyter-widgets/base",
      "model_module_version": "1.2.0",
      "model_name": "LayoutModel",
      "state": {}
     },
     "ff685f7b610443f4801cbac6889a8f42": {
      "model_module": "@jupyter-widgets/controls",
      "model_module_version": "1.5.0",
      "model_name": "FloatTextModel",
      "state": {
       "layout": "IPY_MODEL_48a6adfae0f84c74881b180a0ce70c2c",
       "step": null,
       "style": "IPY_MODEL_d227d302b45f407b82808bb54fc9a3d7",
       "value": 201
      }
     }
    },
    "version_major": 2,
    "version_minor": 0
   }
  }
 },
 "nbformat": 4,
 "nbformat_minor": 4
}
