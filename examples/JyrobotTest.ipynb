{
 "cells": [
  {
   "cell_type": "markdown",
   "metadata": {},
   "source": [
    "# Example 1"
   ]
  },
  {
   "cell_type": "code",
   "execution_count": 1,
   "metadata": {},
   "outputs": [],
   "source": [
    "import jyrobot\n",
    "import random"
   ]
  },
  {
   "cell_type": "code",
   "execution_count": 2,
   "metadata": {},
   "outputs": [
    {
     "name": "stdout",
     "output_type": "stream",
     "text": [
      "Searching for jyrobot config files...\n",
      "Directory: ./\n",
      "    no files found\n",
      "Directory: /home/dblank/jyrobot/jyrobot/worlds\n",
      "    'duck-scribbler-no-walls'\n",
      "    'two-scribblers-no-walls'\n",
      "    'two-scribblers-one-wall'\n",
      "    'two-scribblers'\n"
     ]
    }
   ],
   "source": [
    "world = jyrobot.load()"
   ]
  },
  {
   "cell_type": "code",
   "execution_count": 3,
   "metadata": {},
   "outputs": [
    {
     "name": "stdout",
     "output_type": "stream",
     "text": [
      "Random seed initialized to: 4163286133533671709\n"
     ]
    }
   ],
   "source": [
    "world = jyrobot.load(\"two-scribblers\")"
   ]
  },
  {
   "cell_type": "code",
   "execution_count": 4,
   "metadata": {},
   "outputs": [
    {
     "data": {
      "application/vnd.jupyter.widget-view+json": {
       "model_id": "31339d2b8010413fa4cc37569dce4de1",
       "version_major": 2,
       "version_minor": 0
      },
      "text/plain": [
       "Box(children=(CanvasBackend(height=750, image_data=b'\\x89PNG\\r\\n\\x1a\\n\\x00\\x00\\x00\\rIHDR\\x00\\x00\\x05\\xdc\\x00\\x…"
      ]
     },
     "metadata": {},
     "output_type": "display_data"
    }
   ],
   "source": [
    "world.watch(\"panel\", \"inline\") # or \"panel\", \"left\", \"right\", \"inline\""
   ]
  },
  {
   "cell_type": "code",
   "execution_count": 5,
   "metadata": {},
   "outputs": [
    {
     "data": {
      "image/png": "[encoded data removed]",
      "text/plain": [
       "<PIL.Image.Image image mode=RGBA size=100x100 at 0x7FB5616201F0>"
      ]
     },
     "execution_count": 5,
     "metadata": {},
     "output_type": "execute_result"
    }
   ],
   "source": [
    "world.take_picture(\"red\")"
   ]
  },
  {
   "cell_type": "code",
   "execution_count": 6,
   "metadata": {},
   "outputs": [
    {
     "name": "stdout",
     "output_type": "stream",
     "text": [
      "This world was loaded from '/home/dblank/jyrobot/jyrobot/worlds/two-scribblers.json'\n",
      "Robots:\n",
      "-------------------------\n",
      "  robot[0 or 'Red']: <Robot(name='Red', position=430,50,3.14 v=0,0,0)>\n",
      "      device[0 or 'camera']: <Camera size=(256,128), angle=60.0>\n",
      "      device[1 or 'laser']: <RangeSensor angle=0.0, range=100, width=0.0>\n",
      "      device[2 or 'ir']: <RangeSensor angle=90.0, range=20, width=57.3>\n",
      "      device[3 or 'ir']: <RangeSensor angle=-90.0, range=20, width=57.3>\n",
      "  -------------------------\n",
      "  robot[1 or 'Blue']: <Robot(name='Blue', position=30,50,0.0 v=0,0,0)>\n",
      "      device[0 or 'camera']: <Camera size=(256,128), angle=60.0>\n",
      "      device[1 or 'laser']: <RangeSensor angle=0.0, range=100, width=0.0>\n",
      "      device[2 or 'ir']: <RangeSensor angle=0.0, range=20, width=57.3>\n",
      "      device[3 or 'ir']: <RangeSensor angle=0.0, range=20, width=57.3>\n",
      "  -------------------------\n"
     ]
    }
   ],
   "source": [
    "world.info()"
   ]
  },
  {
   "cell_type": "code",
   "execution_count": 7,
   "metadata": {},
   "outputs": [
    {
     "data": {
      "text/plain": [
       "<Camera size=(256,128), angle=60.0>"
      ]
     },
     "execution_count": 7,
     "metadata": {},
     "output_type": "execute_result"
    }
   ],
   "source": [
    "world[\"red\"][\"camera\"]"
   ]
  },
  {
   "cell_type": "code",
   "execution_count": 8,
   "metadata": {},
   "outputs": [
    {
     "data": {
      "image/png": "[encoded data removed]",
      "text/plain": [
       "<PIL.Image.Image image mode=RGBA size=256x128 at 0x7FB56162BA60>"
      ]
     },
     "execution_count": 8,
     "metadata": {},
     "output_type": "execute_result"
    }
   ],
   "source": [
    "world[\"red\"][\"camera\"].take_picture()"
   ]
  },
  {
   "cell_type": "code",
   "execution_count": 9,
   "metadata": {},
   "outputs": [],
   "source": [
    "world[0].move(1, 0)\n",
    "world[1].move(1, 0)\n",
    "\n",
    "step = 0\n",
    "\n",
    "def control(robot):\n",
    "    global step\n",
    "    if robot.stalled:\n",
    "        robot.reverse()\n",
    "        robot.turn(1 - random.random() * 2)\n",
    "    if random.random() < .1:\n",
    "        robot.turn(1 - random.random() * 2)\n",
    "    #if step % 100 == 0:\n",
    "    #    world.display(world.take_picture())\n",
    "    step += 1"
   ]
  },
  {
   "cell_type": "code",
   "execution_count": 10,
   "metadata": {},
   "outputs": [
    {
     "name": "stdout",
     "output_type": "stream",
     "text": [
      ".........\n",
      "..........\n",
      ".........\n",
      "..........\n",
      ".........\n",
      "..........\n",
      ".........\n",
      "..........\n",
      "..........\n",
      "..........\n",
      "........\n",
      "..........\n",
      ".........\n",
      "..........\n",
      ".........\n",
      "..........\n",
      "........\n",
      "..........\n",
      ".........\n",
      ".........\n",
      ".........\n",
      "..........\n",
      "........\n",
      ".........\n",
      ".........\n",
      ".........\n",
      ".........\n",
      "..........\n",
      "........\n",
      "..........\n",
      ".........\n",
      ".........\n",
      ".........\n",
      "..........\n",
      "........\n",
      "..........\n",
      "........\n",
      "..........\n",
      ".......\n",
      ".........\n",
      "........\n",
      "..........\n",
      ".........\n",
      "..........\n",
      ".........\n",
      "..........\n",
      "........\n",
      "..........\n",
      ".........\n",
      "..........\n",
      "........\n",
      "..........\n",
      ".........\n",
      "..........\n",
      ".........\n",
      ".........\n",
      ".........\n",
      "..........\n",
      ".........\n",
      "..........\n",
      "........\n",
      "..........\n",
      ".........\n",
      "..........\n",
      ".........\n",
      "..........\n",
      ".......\n",
      ".........\n",
      ".......\n",
      "..........\n",
      "........\n",
      ".........\n",
      ".......\n",
      "..........\n",
      "........\n",
      "..........\n",
      ".........\n",
      "..........\n",
      "........\n",
      "..........\n",
      "........\n",
      "..........\n",
      ".........\n",
      "..........\n",
      ".........\n",
      "..........\n",
      ".........\n",
      "..........\n",
      "..........\n",
      "..........\n",
      ".........\n",
      "..........\n",
      ".........\n",
      "..........\n",
      ".........\n",
      "..........\n",
      ".........\n",
      "..........\n",
      "........\n",
      "..........\n",
      "Simulation stopped at: 00:00:10.0; speed 0.93 x real time\n"
     ]
    }
   ],
   "source": [
    "world.seconds(10, [control, control], show=True, real_time=True)"
   ]
  },
  {
   "cell_type": "code",
   "execution_count": 11,
   "metadata": {},
   "outputs": [
    {
     "name": "stdout",
     "output_type": "stream",
     "text": [
      "Simulation stopped at: 00:03:30.0; speed 54.75 x real time\n"
     ]
    }
   ],
   "source": [
    "world.seconds(200, [control, control], show=True, real_time=False)"
   ]
  },
  {
   "cell_type": "code",
   "execution_count": 12,
   "metadata": {},
   "outputs": [
    {
     "name": "stdout",
     "output_type": "stream",
     "text": [
      "Simulation stopped at: 00:06:50.0; speed 67.75 x real time\n"
     ]
    }
   ],
   "source": [
    "world.seconds(200, [control, control], show=False)"
   ]
  },
  {
   "cell_type": "markdown",
   "metadata": {},
   "source": [
    "# Example 2"
   ]
  },
  {
   "cell_type": "code",
   "execution_count": 13,
   "metadata": {},
   "outputs": [],
   "source": [
    "import jyrobot\n",
    "import time"
   ]
  },
  {
   "cell_type": "code",
   "execution_count": 27,
   "metadata": {},
   "outputs": [
    {
     "name": "stdout",
     "output_type": "stream",
     "text": [
      "Reusing random seed: 10\n"
     ]
    },
    {
     "data": {
      "application/vnd.jupyter.widget-view+json": {
       "model_id": "1f465a5a761f48c89d1c37a6dafc0d2e",
       "version_major": 2,
       "version_minor": 0
      },
      "text/plain": [
       "Box(children=(CanvasBackend(height=1500, layout=Layout(height='auto', width='100%'), sync_image_data=True, wid…"
      ]
     },
     "metadata": {},
     "output_type": "display_data"
    }
   ],
   "source": [
    "w = jyrobot.World(width=500, height=500, ground_color=\"white\", seed=10)\n",
    "w.watch(\"panel\", \"inline\")"
   ]
  },
  {
   "cell_type": "code",
   "execution_count": 28,
   "metadata": {},
   "outputs": [],
   "source": [
    "for i in range(20):\n",
    "    robot = jyrobot.Scribbler(color=\"blue\", name=\"Scribby-%s\" % i)\n",
    "    sensor = jyrobot.Camera()\n",
    "    robot.add_device(sensor)\n",
    "    w.add_robot(robot)"
   ]
  },
  {
   "cell_type": "code",
   "execution_count": 29,
   "metadata": {},
   "outputs": [],
   "source": [
    "from jyrobot.utils import Color\n",
    "import random\n",
    "for robot in w:\n",
    "    robot.set_color( Color(\n",
    "        255 * random.random(), \n",
    "        255 * random.random(), \n",
    "        255 * random.random(), \n",
    "   ))"
   ]
  },
  {
   "cell_type": "code",
   "execution_count": 35,
   "metadata": {},
   "outputs": [
    {
     "name": "stdout",
     "output_type": "stream",
     "text": [
      "................................................................................................\n"
     ]
    }
   ],
   "source": [
    "w.draw(wait=True)   "
   ]
  },
  {
   "cell_type": "code",
   "execution_count": 31,
   "metadata": {},
   "outputs": [
    {
     "name": "stdout",
     "output_type": "stream",
     "text": [
      "CPU times: user 3.06 s, sys: 2.64 ms, total: 3.06 s\n",
      "Wall time: 3.06 s\n"
     ]
    }
   ],
   "source": [
    "%%time\n",
    "pics = []\n",
    "for robot in w:\n",
    "    pic = robot[\"camera\"].take_picture()\n",
    "    pics.append(pic)"
   ]
  },
  {
   "cell_type": "code",
   "execution_count": 32,
   "metadata": {},
   "outputs": [
    {
     "data": {
      "image/png": "[encoded data removed]",
      "text/plain": [
       "<PIL.Image.Image image mode=RGBA size=1290x520 at 0x7FB5606EAAC0>"
      ]
     },
     "metadata": {},
     "output_type": "display_data"
    }
   ],
   "source": [
    "w.display(*pics)"
   ]
  },
  {
   "cell_type": "code",
   "execution_count": 33,
   "metadata": {},
   "outputs": [
    {
     "name": "stdout",
     "output_type": "stream",
     "text": [
      "CPU times: user 1.26 s, sys: 303 ms, total: 1.56 s\n",
      "Wall time: 1.55 s\n"
     ]
    }
   ],
   "source": [
    "%%time\n",
    "pics = []\n",
    "for i, robot in enumerate(w):\n",
    "    pic = w.take_picture(i)\n",
    "    pics.append(pic)"
   ]
  },
  {
   "cell_type": "code",
   "execution_count": 34,
   "metadata": {},
   "outputs": [
    {
     "data": {
      "image/png": "[encoded data removed]",
      "text/plain": [
       "<PIL.Image.Image image mode=RGBA size=510x408 at 0x7FB5607AC5E0>"
      ]
     },
     "metadata": {},
     "output_type": "display_data"
    }
   ],
   "source": [
    "w.display(*pics, background_color=\"black\")"
   ]
  },
  {
   "cell_type": "code",
   "execution_count": 33,
   "metadata": {},
   "outputs": [],
   "source": [
    "for robot in w:\n",
    "    robot.move(1,0)"
   ]
  },
  {
   "cell_type": "code",
   "execution_count": 34,
   "metadata": {},
   "outputs": [],
   "source": [
    "def control(world):\n",
    "    for robot in world:\n",
    "        if robot.stalled:\n",
    "            robot.reverse()\n",
    "        robot.turn(1 - random.random() * 2)"
   ]
  },
  {
   "cell_type": "code",
   "execution_count": 35,
   "metadata": {},
   "outputs": [
    {
     "name": "stdout",
     "output_type": "stream",
     "text": [
      "Simulation stopped at: 00:01:42.3; speed 9.81 x real time\n"
     ]
    }
   ],
   "source": [
    "w.run(control, show=True, real_time=False)"
   ]
  },
  {
   "cell_type": "markdown",
   "metadata": {},
   "source": [
    "# Example 3"
   ]
  },
  {
   "cell_type": "code",
   "execution_count": 28,
   "metadata": {},
   "outputs": [],
   "source": [
    "import jyrobot as jr\n",
    "import random"
   ]
  },
  {
   "cell_type": "code",
   "execution_count": 29,
   "metadata": {},
   "outputs": [
    {
     "name": "stdout",
     "output_type": "stream",
     "text": [
      "Random seed initialized to: 7228730037271666763\n"
     ]
    }
   ],
   "source": [
    "w = jr.World(width=100, height=100)"
   ]
  },
  {
   "cell_type": "code",
   "execution_count": 30,
   "metadata": {},
   "outputs": [
    {
     "data": {
      "application/vnd.jupyter.widget-view+json": {
       "model_id": "155ba010055d4ccb9a113f28f8ece2d5",
       "version_major": 2,
       "version_minor": 0
      },
      "text/plain": [
       "Box(children=(CanvasBackend(height=300, image_data=b'\\x89PNG\\r\\n\\x1a\\n\\x00\\x00\\x00\\rIHDR\\x00\\x00\\x01,\\x00\\x00\\…"
      ]
     },
     "metadata": {},
     "output_type": "display_data"
    }
   ],
   "source": [
    "w.watch(\"inline\", \"panel\") # or \"panel\", \"left\", \"right\""
   ]
  },
  {
   "cell_type": "code",
   "execution_count": 31,
   "metadata": {},
   "outputs": [],
   "source": [
    "r = jr.Scribbler()"
   ]
  },
  {
   "cell_type": "code",
   "execution_count": 32,
   "metadata": {},
   "outputs": [],
   "source": [
    "w.add_robot(r)"
   ]
  },
  {
   "cell_type": "code",
   "execution_count": 33,
   "metadata": {},
   "outputs": [],
   "source": [
    "sensor = jr.RangeSensor()"
   ]
  },
  {
   "cell_type": "code",
   "execution_count": 34,
   "metadata": {},
   "outputs": [],
   "source": [
    "r.add_device(sensor)"
   ]
  },
  {
   "cell_type": "code",
   "execution_count": 35,
   "metadata": {},
   "outputs": [],
   "source": [
    "r.forward(1)\n",
    "\n",
    "def control(world):\n",
    "    for robot in world:\n",
    "        if robot.stalled:\n",
    "            robot.reverse()\n",
    "        robot.turn(1 - random.random() * 2)"
   ]
  },
  {
   "cell_type": "code",
   "execution_count": 36,
   "metadata": {},
   "outputs": [
    {
     "name": "stdout",
     "output_type": "stream",
     "text": [
      "Simulation stopped at: 00:00:10.0; speed 1.0 x real time\n"
     ]
    }
   ],
   "source": [
    "w.seconds(10, control, show=True, real_time=True)"
   ]
  },
  {
   "cell_type": "code",
   "execution_count": 37,
   "metadata": {},
   "outputs": [
    {
     "name": "stdout",
     "output_type": "stream",
     "text": [
      "Simulation stopped at: 00:00:20.0; speed 296.27 x real time\n"
     ]
    }
   ],
   "source": [
    "w.seconds(10, control, show=True, real_time=False)"
   ]
  },
  {
   "cell_type": "code",
   "execution_count": 38,
   "metadata": {},
   "outputs": [
    {
     "name": "stdout",
     "output_type": "stream",
     "text": [
      "Simulation stopped at: 00:00:30.0; speed 321.89 x real time\n"
     ]
    }
   ],
   "source": [
    "w.seconds(10, control, show=False)"
   ]
  },
  {
   "cell_type": "code",
   "execution_count": 39,
   "metadata": {},
   "outputs": [],
   "source": [
    "r.set_pose(50, 50, 180)"
   ]
  },
  {
   "cell_type": "code",
   "execution_count": 40,
   "metadata": {},
   "outputs": [],
   "source": [
    "r.set_color(\"purple\")"
   ]
  },
  {
   "cell_type": "code",
   "execution_count": 41,
   "metadata": {},
   "outputs": [
    {
     "data": {
      "image/png": "[encoded data removed]",
      "text/plain": [
       "<PIL.Image.Image image mode=RGBA size=300x300 at 0x7FE0581EFC10>"
      ]
     },
     "execution_count": 41,
     "metadata": {},
     "output_type": "execute_result"
    }
   ],
   "source": [
    "w.take_picture()"
   ]
  },
  {
   "cell_type": "code",
   "execution_count": null,
   "metadata": {},
   "outputs": [],
   "source": []
  }
 ],
 "metadata": {
  "kernelspec": {
   "display_name": "Python 3",
   "language": "python",
   "name": "python3"
  },
  "language_info": {
   "codemirror_mode": {
    "name": "ipython",
    "version": 3
   },
   "file_extension": ".py",
   "mimetype": "text/x-python",
   "name": "python",
   "nbconvert_exporter": "python",
   "pygments_lexer": "ipython3",
   "version": "3.8.5"
  },
  "widgets": {
   "application/vnd.jupyter.widget-state+json": {
    "state": {
     "08424cce5f53492985179ca3b18c3ae3": {
      "model_module": "@jupyter-widgets/controls",
      "model_module_version": "1.5.0",
      "model_name": "BoxModel",
      "state": {
       "children": [
        "IPY_MODEL_a310846e88f945668472874570183c54"
       ],
       "layout": "IPY_MODEL_b74f81c6beef47459c4fda1926ffb44d"
      }
     },
     "13ae2a23633e48f9aaca449eca382f02": {
      "model_module": "@jupyter-widgets/base",
      "model_module_version": "1.2.0",
      "model_name": "LayoutModel",
      "state": {
       "max_width": "600px"
      }
     },
     "4699ccc9de7f44dda7372243aece742e": {
      "model_module": "@jupyter-widgets/base",
      "model_module_version": "1.2.0",
      "model_name": "LayoutModel",
      "state": {}
     },
     "78632729f3b440969b3b36dfef5fee04": {
      "model_module": "ipylab",
      "model_module_version": "^0.3.0",
      "model_name": "JupyterFrontEndModel",
      "state": {
       "_model_module_version": "^0.3.0",
       "_view_module": null,
       "_view_module_version": "",
       "commands": "IPY_MODEL_fbe4d35ebf3840ea90ce4d6e1d76c17d",
       "shell": "IPY_MODEL_9d0b1bd1b6ca45cc912cdad5e25755ef",
       "version": "2.2.9"
      }
     },
     "7ded1aa2889f4f8b91133d5029951aa3": {
      "model_module": "@jupyter-widgets/base",
      "model_module_version": "1.2.0",
      "model_name": "LayoutModel",
      "state": {
       "height": "auto",
       "width": "100%"
      }
     },
     "9d0b1bd1b6ca45cc912cdad5e25755ef": {
      "model_module": "ipylab",
      "model_module_version": "^0.3.0",
      "model_name": "ShellModel",
      "state": {
       "_model_module_version": "^0.3.0",
       "_view_module": null,
       "_view_module_version": "",
       "_widgets": [
        {
         "area": "main",
         "args": {
          "mode": "split-right"
         },
         "id": "id-45b09c8b-74a2-41cf-a1b6-51b1e914c11c",
         "serializedWidget": "IPY_MODEL_becf2c0a6adf4e50b83c305aea113285"
        }
       ]
      }
     },
     "a310846e88f945668472874570183c54": {
      "model_module": "@jupyter-widgets/controls",
      "model_module_version": "1.5.0",
      "model_name": "HTMLModel",
      "state": {
       "layout": "IPY_MODEL_7ded1aa2889f4f8b91133d5029951aa3",
       "style": "IPY_MODEL_baf6f137281a4df89103e1cb2e3cf62d",
       "value": "<svg baseProfile=\"full\" height=\"auto\" version=\"1.1\" viewBox=\"0,0,500,250\" width=\"500\" xmlns=\"http://www.w3.org/2000/svg\" xmlns:ev=\"http://www.w3.org/2001/xml-events\" xmlns:xlink=\"http://www.w3.org/1999/xlink\"><defs /><rect height=\"auto\" style=\"fill:rgb(0,128,0)\" width=\"500\" x=\"0\" y=\"0\" /><polygon points=\"0,0 0,250\" style=\"fill:rgb(128,0,128)\" /><polygon points=\"0,250 500,250\" style=\"fill:rgb(128,0,128)\" /><polygon points=\"500,250 500,0\" style=\"fill:rgb(128,0,128)\" /><polygon points=\"500,0 0,0\" style=\"fill:rgb(128,0,128)\" /><polygon points=\"100,0 110,0 110,0 110,110 110,110 100,110 100,110 100,0\" style=\"fill:rgb(0,0,0)\" /><polygon points=\"200,95 210,95 210,95 210,170 210,170 200,170 200,170 200,95\" style=\"fill:rgb(255,0,255)\" /><polygon points=\"300,0 310,0 310,0 310,95 310,95 300,95 300,95 300,0\" style=\"fill:rgb(255,255,0)\" /><polygon points=\"300,190 310,190 310,190 310,250 310,250 300,250 300,250 300,190\" style=\"fill:rgb(255,128,0)\" /><line style=\"stroke:#800080FF;stroke-width:3\" x1=\"0\" x2=\"0\" y1=\"0\" y2=\"250\" /><line style=\"stroke:#800080FF;stroke-width:3\" x1=\"0\" x2=\"500\" y1=\"250\" y2=\"250\" /><line style=\"stroke:#800080FF;stroke-width:3\" x1=\"500\" x2=\"500\" y1=\"250\" y2=\"0\" /><line style=\"stroke:#800080FF;stroke-width:3\" x1=\"500\" x2=\"0\" y1=\"0\" y2=\"0\" /><g transform=\"translate(430,50) rotate(180.0)\"><polygon points=\"4.17,5 4.17,6.67 5.83,5.83 5.83,5 7.5,5 7.5,-5 5.83,-5 5.83,-5.83 4.17,-6.67 4.17,-5 -4.17,-5 -4.17,-6.67 -5.83,-5.83 -6.67,-5 -7.5,-4.17 -7.5,4.17 -6.67,5 -5.83,5.83 -4.17,6.67 -4.17,5\" style=\"fill:rgb(255,0,0)\" /><rect height=\"1.67\" style=\"fill:rgb(0,0,0)\" width=\"6.33\" x=\"-3.33\" y=\"-7.67\" /><rect height=\"1.67\" style=\"fill:rgb(0,0,0)\" width=\"6.33\" x=\"-3.33\" y=\"6\" /><rect height=\"6.33\" style=\"fill:rgb(0,64,0)\" width=\"1.33\" x=\"5.0\" y=\"-3.33\" /><line style=\"stroke:#80008040;stroke-width:1\" x1=\"6\" x2=\"106.0\" y1=\"0\" y2=\"0\" /><path d=\"M -3.59 23.55 A 20.0 20.0 0 0 0 15.59 23.55 L 6 6\" style=\"fill:rgb(128,0,128);fill-opacity:0.25\" /><polygon points=\"6,6 6,6\" style=\"fill:rgb(128,0,128)\" /><path d=\"M -3.59 23.55 A 20.0 20.0 0 0 0 15.59 23.55\" style=\"stroke:#000000FF;stroke-width:1\" /><path d=\"M 15.59 -23.55 A 20.0 20.0 0 0 0 -3.59 -23.55 L 6 -6\" style=\"fill:rgb(128,0,128);fill-opacity:0.25\" /><polygon points=\"6,-6 6,-6\" style=\"fill:rgb(128,0,128)\" /><path d=\"M 15.59 -23.55 A 20.0 20.0 0 0 0 -3.59 -23.55\" style=\"stroke:#000000FF;stroke-width:1\" /></g><g transform=\"translate(430,50) rotate(180.0)\"><polygon points=\"4.17,5 4.17,6.67 5.83,5.83 5.83,5 7.5,5 7.5,-5 5.83,-5 5.83,-5.83 4.17,-6.67 4.17,-5 -4.17,-5 -4.17,-6.67 -5.83,-5.83 -6.67,-5 -7.5,-4.17 -7.5,4.17 -6.67,5 -5.83,5.83 -4.17,6.67 -4.17,5\" style=\"fill:rgb(255,0,0)\" /><rect height=\"1.67\" style=\"fill:rgb(0,0,0)\" width=\"6.33\" x=\"-3.33\" y=\"-7.67\" /><rect height=\"1.67\" style=\"fill:rgb(0,0,0)\" width=\"6.33\" x=\"-3.33\" y=\"6\" /><rect height=\"6.33\" style=\"fill:rgb(0,64,0)\" width=\"1.33\" x=\"5.0\" y=\"-3.33\" /><line style=\"stroke:#80008040;stroke-width:1\" x1=\"6\" x2=\"106.0\" y1=\"0\" y2=\"0\" /><path d=\"M -3.59 23.55 A 20.0 20.0 0 0 0 15.59 23.55 L 6 6\" style=\"fill:rgb(128,0,128);fill-opacity:0.25\" /><polygon points=\"6,6 6,6\" style=\"fill:rgb(128,0,128)\" /><path d=\"M -3.59 23.55 A 20.0 20.0 0 0 0 15.59 23.55\" style=\"stroke:#000000FF;stroke-width:1\" /><path d=\"M 15.59 -23.55 A 20.0 20.0 0 0 0 -3.59 -23.55 L 6 -6\" style=\"fill:rgb(128,0,128);fill-opacity:0.25\" /><polygon points=\"6,-6 6,-6\" style=\"fill:rgb(128,0,128)\" /><path d=\"M 15.59 -23.55 A 20.0 20.0 0 0 0 -3.59 -23.55\" style=\"stroke:#000000FF;stroke-width:1\" /></g><g transform=\"translate(30,50) rotate(0.0)\"><polygon points=\"4.17,5 4.17,6.67 5.83,5.83 5.83,5 7.5,5 7.5,-5 5.83,-5 5.83,-5.83 4.17,-6.67 4.17,-5 -4.17,-5 -4.17,-6.67 -5.83,-5.83 -6.67,-5 -7.5,-4.17 -7.5,4.17 -6.67,5 -5.83,5.83 -4.17,6.67 -4.17,5\" style=\"fill:rgb(0,0,255)\" /><rect height=\"1.67\" style=\"fill:rgb(0,0,0)\" width=\"6.33\" x=\"-3.33\" y=\"-7.67\" /><rect height=\"1.67\" style=\"fill:rgb(0,0,0)\" width=\"6.33\" x=\"-3.33\" y=\"6\" /><rect height=\"6.33\" style=\"fill:rgb(0,64,0)\" width=\"1.33\" x=\"5.0\" y=\"-3.33\" /><line style=\"stroke:#FFFFFFFF;stroke-width:1\" x1=\"6\" x2=\"70.0\" y1=\"0\" y2=\"0\" /><path d=\"M 23.55 15.59 A 20.0 20.0 0 0 0 23.55 -3.59 L 6 6\" style=\"fill:rgb(128,0,128);fill-opacity:0.25\" /><polygon points=\"6,6 6,6\" style=\"fill:rgb(128,0,128)\" /><path d=\"M 23.55 15.59 A 20.0 20.0 0 0 0 23.55 -3.59\" style=\"stroke:#000000FF;stroke-width:1\" /><path d=\"M 23.55 3.59 A 20.0 20.0 0 0 0 23.55 -15.59 L 6 -6\" style=\"fill:rgb(128,0,128);fill-opacity:0.25\" /><polygon points=\"6,-6 6,-6\" style=\"fill:rgb(128,0,128)\" /><path d=\"M 23.55 3.59 A 20.0 20.0 0 0 0 23.55 -15.59\" style=\"stroke:#000000FF;stroke-width:1\" /></g><g transform=\"translate(30,50) rotate(0.0)\"><polygon points=\"4.17,5 4.17,6.67 5.83,5.83 5.83,5 7.5,5 7.5,-5 5.83,-5 5.83,-5.83 4.17,-6.67 4.17,-5 -4.17,-5 -4.17,-6.67 -5.83,-5.83 -6.67,-5 -7.5,-4.17 -7.5,4.17 -6.67,5 -5.83,5.83 -4.17,6.67 -4.17,5\" style=\"fill:rgb(0,0,255)\" /><rect height=\"1.67\" style=\"fill:rgb(0,0,0)\" width=\"6.33\" x=\"-3.33\" y=\"-7.67\" /><rect height=\"1.67\" style=\"fill:rgb(0,0,0)\" width=\"6.33\" x=\"-3.33\" y=\"6\" /><rect height=\"6.33\" style=\"fill:rgb(0,64,0)\" width=\"1.33\" x=\"5.0\" y=\"-3.33\" /><line style=\"stroke:#FFFFFFFF;stroke-width:1\" x1=\"6\" x2=\"70.0\" y1=\"0\" y2=\"0\" /><path d=\"M 23.55 15.59 A 20.0 20.0 0 0 0 23.55 -3.59 L 6 6\" style=\"fill:rgb(128,0,128);fill-opacity:0.25\" /><polygon points=\"6,6 6,6\" style=\"fill:rgb(128,0,128)\" /><path d=\"M 23.55 15.59 A 20.0 20.0 0 0 0 23.55 -3.59\" style=\"stroke:#000000FF;stroke-width:1\" /><path d=\"M 23.55 3.59 A 20.0 20.0 0 0 0 23.55 -15.59 L 6 -6\" style=\"fill:rgb(128,0,128);fill-opacity:0.25\" /><polygon points=\"6,-6 6,-6\" style=\"fill:rgb(128,0,128)\" /><path d=\"M 23.55 3.59 A 20.0 20.0 0 0 0 23.55 -15.59\" style=\"stroke:#000000FF;stroke-width:1\" /></g><text style=\"fill:rgb(255,255,255)\" x=\"10\" y=\"240\">00:00:00.0</text></svg>"
      }
     },
     "aee6cfd0aaea45dd8335273367b13e9c": {
      "model_module": "@jupyter-widgets/controls",
      "model_module_version": "1.5.0",
      "model_name": "BoxModel",
      "state": {
       "children": [
        "IPY_MODEL_a310846e88f945668472874570183c54"
       ],
       "layout": "IPY_MODEL_13ae2a23633e48f9aaca449eca382f02"
      }
     },
     "b74f81c6beef47459c4fda1926ffb44d": {
      "model_module": "@jupyter-widgets/base",
      "model_module_version": "1.2.0",
      "model_name": "LayoutModel",
      "state": {
       "height": "auto",
       "width": "100%"
      }
     },
     "baf6f137281a4df89103e1cb2e3cf62d": {
      "model_module": "@jupyter-widgets/controls",
      "model_module_version": "1.5.0",
      "model_name": "DescriptionStyleModel",
      "state": {
       "description_width": ""
      }
     },
     "becf2c0a6adf4e50b83c305aea113285": {
      "model_module": "ipylab",
      "model_module_version": "^0.3.0",
      "model_name": "PanelModel",
      "state": {
       "_model_module_version": "^0.3.0",
       "children": [
        "IPY_MODEL_08424cce5f53492985179ca3b18c3ae3"
       ],
       "layout": "IPY_MODEL_4699ccc9de7f44dda7372243aece742e",
       "title": "IPY_MODEL_fcc9d6c8d57a4a719f713ecda8631171"
      }
     },
     "fbe4d35ebf3840ea90ce4d6e1d76c17d": {
      "model_module": "ipylab",
      "model_module_version": "^0.3.0",
      "model_name": "CommandRegistryModel",
      "state": {
       "_command_list": [
        "__internal:context-menu-info",
        "apputils:activate-command-palette",
        "apputils:print",
        "apputils:run-first-enabled",
        "completer:invoke",
        "completer:select",
        "tooltip:dismiss",
        "launcher:create",
        "editmenu:undo",
        "editmenu:redo",
        "editmenu:clear-current",
        "editmenu:clear-all",
        "editmenu:go-to-line",
        "filemenu:close-and-cleanup",
        "filemenu:create-console",
        "filemenu:shutdown",
        "filemenu:logout",
        "kernelmenu:interrupt",
        "kernelmenu:restart",
        "kernelmenu:restart-and-clear",
        "kernelmenu:change",
        "kernelmenu:shutdown",
        "kernelmenu:shutdownAll",
        "runmenu:run",
        "runmenu:run-all",
        "runmenu:restart-and-run-all",
        "viewmenu:line-numbering",
        "viewmenu:match-brackets",
        "viewmenu:word-wrap",
        "tabsmenu:activate-by-id",
        "tabsmenu:activate-previously-used-tab",
        "editmenu:open",
        "filemenu:open",
        "kernelmenu:open",
        "runmenu:open",
        "viewmenu:open",
        "settingsmenu:open",
        "tabsmenu:open",
        "helpmenu:open",
        "mainmenu:open-first",
        "documentsearch:start",
        "documentsearch:startWithReplace",
        "documentsearch:highlightNext",
        "documentsearch:highlightPrevious",
        "docmanager:clone",
        "docmanager:rename",
        "docmanager:delete",
        "docmanager:show-in-file-browser",
        "docmanager:delete-file",
        "docmanager:new-untitled",
        "docmanager:open",
        "docmanager:open-browser-tab",
        "docmanager:reload",
        "docmanager:restore-checkpoint",
        "docmanager:save",
        "docmanager:save-all",
        "docmanager:save-as",
        "docmanager:download",
        "docmanager:toggle-autosave",
        "sidebar:switch",
        "apputils:change-theme",
        "apputils:theme-scrollbars",
        "apputils:incr-font-size",
        "apputils:decr-font-size",
        "statusbar:toggle",
        "rendermime:handle-local-link",
        "application:activate-next-tab",
        "application:activate-previous-tab",
        "application:activate-next-tab-bar",
        "application:activate-previous-tab-bar",
        "application:close",
        "application:close-all",
        "application:close-other-tabs",
        "application:close-right-tabs",
        "application:toggle-left-area",
        "application:toggle-right-area",
        "application:toggle-presentation-mode",
        "application:set-mode",
        "application:toggle-mode",
        "apputils:load-statedb",
        "apputils:reset",
        "apputils:reset-on-load",
        "markdownviewer:open",
        "markdownviewer:edit",
        "settingeditor:open",
        "settingeditor:revert",
        "settingeditor:save",
        "inspector:open",
        "htmlviewer:trust-html",
        "imageviewer:zoom-in",
        "imageviewer:zoom-out",
        "imageviewer:reset-image",
        "imageviewer:rotate-clockwise",
        "imageviewer:rotate-counterclockwise",
        "imageviewer:flip-horizontal",
        "imageviewer:flip-vertical",
        "imageviewer:invert-colors",
        "filebrowser:delete",
        "filebrowser:copy",
        "filebrowser:cut",
        "filebrowser:download",
        "filebrowser:duplicate",
        "filebrowser:hide-main",
        "filebrowser:go-to-path",
        "filebrowser:open-path",
        "filebrowser:open",
        "filebrowser:open-browser-tab",
        "filebrowser:copy-download-link",
        "filebrowser:paste",
        "filebrowser:create-new-directory",
        "filebrowser:create-new-file",
        "filebrowser:create-new-markdown-file",
        "filebrowser:rename",
        "filebrowser:copy-path",
        "filebrowser:activate",
        "filebrowser:shutdown",
        "filebrowser:toggle-main",
        "filebrowser:create-main-launcher",
        "filebrowser:toggle-navigate-to-current-directory",
        "filebrowser:toggle-last-modified",
        "filebrowser:share-main",
        "notebook:run-cell-and-select-next",
        "notebook:run-cell",
        "notebook:run-cell-and-insert-below",
        "notebook:run-in-console",
        "notebook:run-all-cells",
        "notebook:run-all-above",
        "notebook:run-all-below",
        "notebook:render-all-markdown",
        "notebook:restart-kernel",
        "notebook:close-and-shutdown",
        "notebook:trust",
        "notebook:export-to-format",
        "notebook:restart-clear-output",
        "notebook:restart-and-run-to-selected",
        "notebook:restart-run-all",
        "notebook:clear-all-cell-outputs",
        "notebook:clear-cell-output",
        "notebook:interrupt-kernel",
        "notebook:change-cell-to-code",
        "notebook:change-cell-to-markdown",
        "notebook:change-cell-to-raw",
        "notebook:cut-cell",
        "notebook:copy-cell",
        "notebook:paste-cell-below",
        "notebook:paste-cell-above",
        "notebook:paste-and-replace-cell",
        "notebook:delete-cell",
        "notebook:split-cell-at-cursor",
        "notebook:merge-cells",
        "notebook:insert-cell-above",
        "notebook:insert-cell-below",
        "notebook:move-cursor-up",
        "notebook:move-cursor-down",
        "notebook:extend-marked-cells-above",
        "notebook:extend-marked-cells-top",
        "notebook:extend-marked-cells-below",
        "notebook:extend-marked-cells-bottom",
        "notebook:select-all",
        "notebook:deselect-all",
        "notebook:move-cell-up",
        "notebook:move-cell-down",
        "notebook:toggle-all-cell-line-numbers",
        "notebook:enter-command-mode",
        "notebook:enter-edit-mode",
        "notebook:undo-cell-action",
        "notebook:redo-cell-action",
        "notebook:change-kernel",
        "notebook:reconnect-to-kernel",
        "notebook:create-output-view",
        "notebook:create-console",
        "notebook:change-cell-to-heading-1",
        "notebook:change-cell-to-heading-2",
        "notebook:change-cell-to-heading-3",
        "notebook:change-cell-to-heading-4",
        "notebook:change-cell-to-heading-5",
        "notebook:change-cell-to-heading-6",
        "notebook:hide-cell-code",
        "notebook:show-cell-code",
        "notebook:hide-all-cell-code",
        "notebook:show-all-cell-code",
        "notebook:hide-cell-outputs",
        "notebook:show-cell-outputs",
        "notebook:hide-all-cell-outputs",
        "notebook:show-all-cell-outputs",
        "notebook:enable-output-scrolling",
        "notebook:disable-output-scrolling",
        "notebook:select-last-run-cell",
        "notebook:replace-selection",
        "notebook:create-new",
        "help:about",
        "help:open",
        "help:launch-classic-notebook",
        "terminal:create-new",
        "terminal:open",
        "terminal:refresh",
        "terminal:increase-font",
        "terminal:decrease-font",
        "terminal:set-theme",
        "completer:invoke-notebook",
        "completer:select-notebook",
        "logconsole:open",
        "logconsole:add-checkpoint",
        "logconsole:clear",
        "logconsole:set-level",
        "tooltip:launch-notebook",
        "@jupyter-widgets/jupyterlab-manager:saveWidgetState",
        "extensionmanager:toggle",
        "console:open",
        "console:create",
        "console:clear",
        "console:run-unforced",
        "console:run-forced",
        "console:linebreak",
        "console:replace-selection",
        "console:interrupt-kernel",
        "console:restart-kernel",
        "console:close-and-shutdown",
        "console:inject",
        "console:change-kernel",
        "console:interaction-mode",
        "fileeditor:change-font-size",
        "fileeditor:toggle-line-numbers",
        "fileeditor:toggle-line-wrap",
        "fileeditor:change-tabs",
        "fileeditor:toggle-match-brackets",
        "fileeditor:toggle-autoclosing-brackets",
        "fileeditor:replace-selection",
        "fileeditor:create-console",
        "fileeditor:run-code",
        "fileeditor:run-all",
        "fileeditor:markdown-preview",
        "fileeditor:create-new",
        "fileeditor:create-new-markdown-file",
        "fileeditor:undo",
        "fileeditor:redo",
        "fileeditor:cut",
        "fileeditor:copy",
        "fileeditor:paste",
        "fileeditor:select-all",
        "completer:invoke-console",
        "completer:select-console",
        "console:toggle-show-all-kernel-activity",
        "tooltip:launch-console",
        "codemirror:change-theme",
        "codemirror:change-keymap",
        "codemirror:find",
        "codemirror:go-to-line",
        "codemirror:change-mode",
        "completer:invoke-file",
        "completer:select-file",
        "tooltip:launch-file",
        "help-menu-python3:banner",
        "help-menu-python3:Python Reference",
        "help-menu-python3:IPython Reference",
        "help-menu-python3:NumPy Reference",
        "help-menu-python3:SciPy Reference",
        "help-menu-python3:Matplotlib Reference",
        "help-menu-python3:SymPy Reference",
        "help-menu-python3:pandas Reference"
       ],
       "_model_module_version": "^0.3.0",
       "_view_module": null,
       "_view_module_version": ""
      }
     },
     "fcc9d6c8d57a4a719f713ecda8631171": {
      "model_module": "ipylab",
      "model_module_version": "^0.3.0",
      "model_name": "TitleModel",
      "state": {
       "_model_module_version": "^0.3.0",
       "_view_module": null,
       "_view_module_version": "",
       "closable": true,
       "icon_class": "",
       "label": "Jyrobot Simulator"
      }
     }
    },
    "version_major": 2,
    "version_minor": 0
   }
  }
 },
 "nbformat": 4,
 "nbformat_minor": 4
}
