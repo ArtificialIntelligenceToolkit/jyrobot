{
 "cells": [
  {
   "cell_type": "markdown",
   "metadata": {},
   "source": [
    "# Example 1"
   ]
  },
  {
   "cell_type": "code",
   "execution_count": 1,
   "metadata": {},
   "outputs": [],
   "source": [
    "import jyrobot\n",
    "import random"
   ]
  },
  {
   "cell_type": "code",
   "execution_count": 2,
   "metadata": {},
   "outputs": [
    {
     "name": "stdout",
     "output_type": "stream",
     "text": [
      "Searching for jyrobot config files...\n",
      "Directory: ./\n",
      "    'experiment-01'\n",
      "Directory: /home/dblank/jyrobot/jyrobot/worlds\n",
      "    'duck-scribbler-no-walls'\n",
      "    'two-scribblers-no-walls'\n",
      "    'two-scribblers-one-wall'\n",
      "    'two-scribblers'\n"
     ]
    }
   ],
   "source": [
    "jyrobot.load_world()"
   ]
  },
  {
   "cell_type": "code",
   "execution_count": 3,
   "metadata": {},
   "outputs": [
    {
     "name": "stdout",
     "output_type": "stream",
     "text": [
      "Random seed initialized to: 1836659\n"
     ]
    }
   ],
   "source": [
    "world = jyrobot.load_world(\"two-scribblers\")"
   ]
  },
  {
   "cell_type": "code",
   "execution_count": 4,
   "metadata": {},
   "outputs": [
    {
     "data": {
      "application/vnd.jupyter.widget-view+json": {
       "model_id": "36955cb347134ee08198aa144006168b",
       "version_major": 2,
       "version_minor": 0
      },
      "text/plain": [
       "Image(value=b'\\xff\\xd8\\xff\\xe0\\x00\\x10JFIF\\x00\\x01\\x01\\x00\\x00\\x01\\x00\\x01\\x00\\x00\\xff\\xdb\\x00C\\x00\\x08\\x06\\x0…"
      ]
     },
     "metadata": {},
     "output_type": "display_data"
    }
   ],
   "source": [
    "world.watch()"
   ]
  },
  {
   "cell_type": "code",
   "execution_count": 5,
   "metadata": {},
   "outputs": [
    {
     "data": {
      "image/png": "[encoded data removed]",
      "text/plain": [
       "<PIL.Image.Image image mode=RGB size=200x200 at 0x7F085E8A7C10>"
      ]
     },
     "execution_count": 5,
     "metadata": {},
     "output_type": "execute_result"
    }
   ],
   "source": [
    "world.take_picture(\"blue\", size=200)"
   ]
  },
  {
   "cell_type": "code",
   "execution_count": 6,
   "metadata": {},
   "outputs": [
    {
     "name": "stdout",
     "output_type": "stream",
     "text": [
      "This world was loaded from '/home/dblank/jyrobot/jyrobot/worlds/two-scribblers.json'\n",
      "Robots:\n",
      "-------------------------\n",
      "  robot[0 or 'Red']: <Robot(name='Red', position=430,50,3.14 v=0,0,0)>\n",
      "      device[0 or 'camera']: <Camera size=(256,128), angle=60.0>\n",
      "      device[1 or 'laser']: <RangeSensor angle=0.0, range=100, width=0.0>\n",
      "      device[2 or 'ir']: <RangeSensor angle=90.0, range=20, width=57.3>\n",
      "      device[3 or 'ir']: <RangeSensor angle=-90.0, range=20, width=57.3>\n",
      "  -------------------------\n",
      "  robot[1 or 'Blue']: <Robot(name='Blue', position=30,50,0.0 v=0,0,0)>\n",
      "      device[0 or 'camera']: <Camera size=(256,128), angle=60.0>\n",
      "      device[1 or 'laser']: <RangeSensor angle=0.0, range=100, width=0.0>\n",
      "      device[2 or 'ir']: <RangeSensor angle=0.0, range=20, width=57.3>\n",
      "      device[3 or 'ir']: <RangeSensor angle=0.0, range=20, width=57.3>\n",
      "  -------------------------\n"
     ]
    }
   ],
   "source": [
    "world.info()"
   ]
  },
  {
   "cell_type": "code",
   "execution_count": 7,
   "metadata": {},
   "outputs": [
    {
     "data": {
      "text/plain": [
       "<Camera size=(256,128), angle=60.0>"
      ]
     },
     "execution_count": 7,
     "metadata": {},
     "output_type": "execute_result"
    }
   ],
   "source": [
    "world[\"red\"][\"camera\"]"
   ]
  },
  {
   "cell_type": "code",
   "execution_count": 8,
   "metadata": {},
   "outputs": [
    {
     "data": {
      "image/png": "[encoded data removed]",
      "text/plain": [
       "<PIL.Image.Image image mode=RGBA size=256x128 at 0x7F085E8CF070>"
      ]
     },
     "execution_count": 8,
     "metadata": {},
     "output_type": "execute_result"
    }
   ],
   "source": [
    "world[\"red\"][\"camera\"].take_picture()"
   ]
  },
  {
   "cell_type": "code",
   "execution_count": 9,
   "metadata": {},
   "outputs": [],
   "source": [
    "world[0].move(1, 0)\n",
    "world[1].move(1, 0)\n",
    "\n",
    "step = 0\n",
    "\n",
    "def control(robot):\n",
    "    global step\n",
    "    if robot.stalled:\n",
    "        robot.reverse()\n",
    "        robot.turn(1 - random.random() * 2)\n",
    "    if random.random() < .1:\n",
    "        robot.turn(1 - random.random() * 2)\n",
    "    #if step % 100 == 0:\n",
    "    #    world.display(world.take_picture())\n",
    "    step += 1"
   ]
  },
  {
   "cell_type": "code",
   "execution_count": 10,
   "metadata": {},
   "outputs": [
    {
     "name": "stdout",
     "output_type": "stream",
     "text": [
      "Reusing random seed: 1836659\n"
     ]
    }
   ],
   "source": [
    "recorder = world.record()"
   ]
  },
  {
   "cell_type": "code",
   "execution_count": 11,
   "metadata": {},
   "outputs": [
    {
     "data": {
      "application/vnd.jupyter.widget-view+json": {
       "model_id": "d71636437e5640449f9649985219df5d",
       "version_major": 2,
       "version_minor": 0
      },
      "text/plain": [
       "HBox(children=(HTML(value=''), FloatProgress(value=0.0, max=50.0), HTML(value='')))"
      ]
     },
     "metadata": {},
     "output_type": "display_data"
    },
    {
     "name": "stdout",
     "output_type": "stream",
     "text": [
      "\n",
      "Simulation stopped at: 00:00:05.0; speed 0.96 x real time\n"
     ]
    }
   ],
   "source": [
    "world.seconds(5, [control, control])"
   ]
  },
  {
   "cell_type": "code",
   "execution_count": 13,
   "metadata": {},
   "outputs": [
    {
     "data": {
      "application/vnd.jupyter.widget-view+json": {
       "model_id": "54539ef485da4f22a1a9dac751723afd",
       "version_major": 2,
       "version_minor": 0
      },
      "text/plain": [
       "HBox(children=(HTML(value=''), FloatProgress(value=0.0, max=2000.0), HTML(value='')))"
      ]
     },
     "metadata": {},
     "output_type": "display_data"
    },
    {
     "name": "stdout",
     "output_type": "stream",
     "text": [
      "\n",
      "Simulation stopped at: 00:03:25.0; speed 38.42 x real time\n"
     ]
    }
   ],
   "source": [
    "world.seconds(200, [control, control], show=True, real_time=False)"
   ]
  },
  {
   "cell_type": "code",
   "execution_count": 13,
   "metadata": {},
   "outputs": [
    {
     "data": {
      "application/vnd.jupyter.widget-view+json": {
       "model_id": "474cd651d80146e19a110de30de56f48",
       "version_major": 2,
       "version_minor": 0
      },
      "text/plain": [
       "HBox(children=(HTML(value=''), FloatProgress(value=0.0, max=2000.0), HTML(value='')))"
      ]
     },
     "metadata": {},
     "output_type": "display_data"
    },
    {
     "name": "stdout",
     "output_type": "stream",
     "text": [
      "\n",
      "Simulation stopped at: 00:06:45.0; speed 61.62 x real time\n"
     ]
    }
   ],
   "source": [
    "world.seconds(200, [control, control], show=False)"
   ]
  },
  {
   "cell_type": "code",
   "execution_count": 11,
   "metadata": {},
   "outputs": [
    {
     "name": "stdout",
     "output_type": "stream",
     "text": [
      "Simulation stopped at: 00:03:20.0; speed 104.1 x real time\n"
     ]
    }
   ],
   "source": [
    "world.seconds(200, [control, control], show=False, show_progress=False)"
   ]
  },
  {
   "cell_type": "code",
   "execution_count": 12,
   "metadata": {
    "collapsed": true,
    "jupyter": {
     "outputs_hidden": true
    }
   },
   "outputs": [
    {
     "data": {
      "application/vnd.jupyter.widget-view+json": {
       "model_id": "a7b22b0379af417cb8b14009a06f4fc9",
       "version_major": 2,
       "version_minor": 0
      },
      "text/plain": [
       "Player(children=(VBox(children=(HBox(children=(FloatSlider(value=0.0, continuous_update=False, description='Ti…"
      ]
     },
     "metadata": {},
     "output_type": "display_data"
    },
    {
     "data": {
      "image/png": "[encoded data removed]",
      "text/plain": [
       "<PIL.Image.Image image mode=RGB size=1500x750 at 0x7F085E812820>"
      ]
     },
     "metadata": {},
     "output_type": "display_data"
    }
   ],
   "source": [
    "recorder.watch()"
   ]
  },
  {
   "cell_type": "code",
   "execution_count": 32,
   "metadata": {},
   "outputs": [
    {
     "data": {
      "image/png": "[encoded data removed]",
      "text/plain": [
       "<PIL.Image.Image image mode=RGBA size=256x128 at 0x7F8BECD63610>"
      ]
     },
     "execution_count": 32,
     "metadata": {},
     "output_type": "execute_result"
    }
   ],
   "source": [
    "recorder.world[\"blue\"][\"camera\"].take_picture()"
   ]
  },
  {
   "cell_type": "code",
   "execution_count": 25,
   "metadata": {},
   "outputs": [
    {
     "name": "stdout",
     "output_type": "stream",
     "text": [
      "Removing robots from world...\n",
      "Reusing random seed: 7481669\n"
     ]
    }
   ],
   "source": [
    "world.reset()"
   ]
  },
  {
   "cell_type": "markdown",
   "metadata": {},
   "source": [
    "# Example 2"
   ]
  },
  {
   "cell_type": "code",
   "execution_count": 23,
   "metadata": {},
   "outputs": [],
   "source": [
    "import jyrobot\n",
    "import time\n",
    "from jyrobot.utils import gallery"
   ]
  },
  {
   "cell_type": "code",
   "execution_count": 17,
   "metadata": {
    "collapsed": true,
    "jupyter": {
     "outputs_hidden": true
    }
   },
   "outputs": [
    {
     "name": "stdout",
     "output_type": "stream",
     "text": [
      "Reusing random seed: 10\n"
     ]
    },
    {
     "data": {
      "application/vnd.jupyter.widget-view+json": {
       "model_id": "4f5bbd437cc3467598d15622dc520e3f",
       "version_major": 2,
       "version_minor": 0
      },
      "text/plain": [
       "Image(value=b'\\xff\\xd8\\xff\\xe0\\x00\\x10JFIF\\x00\\x01\\x01\\x00\\x00\\x01\\x00\\x01\\x00\\x00\\xff\\xdb\\x00C\\x00\\x08\\x06\\x0…"
      ]
     },
     "metadata": {},
     "output_type": "display_data"
    }
   ],
   "source": [
    "w = jyrobot.World(width=500, height=500, ground_color=\"white\", seed=10, scale=10)\n",
    "w.get_widget()"
   ]
  },
  {
   "cell_type": "code",
   "execution_count": 18,
   "metadata": {},
   "outputs": [],
   "source": [
    "for i in range(20):\n",
    "    robot = jyrobot.Scribbler(color=\"blue\", name=\"Scribby-%s\" % i)\n",
    "    sensor = jyrobot.Camera()\n",
    "    robot.add_device(sensor)\n",
    "    w.add_robot(robot)\n",
    "w.draw()"
   ]
  },
  {
   "cell_type": "code",
   "execution_count": 19,
   "metadata": {},
   "outputs": [],
   "source": [
    "from jyrobot.utils import Color\n",
    "import random\n",
    "for robot in w:\n",
    "    robot.set_color( Color(\n",
    "        255 * random.random(), \n",
    "        255 * random.random(), \n",
    "        255 * random.random(), \n",
    "   ))\n",
    "w.draw()"
   ]
  },
  {
   "cell_type": "code",
   "execution_count": 20,
   "metadata": {},
   "outputs": [
    {
     "name": "stdout",
     "output_type": "stream",
     "text": [
      "CPU times: user 3.25 s, sys: 3.8 ms, total: 3.25 s\n",
      "Wall time: 3.25 s\n"
     ]
    }
   ],
   "source": [
    "%%time\n",
    "pics = []\n",
    "for robot in w:\n",
    "    pic = robot[\"camera\"].take_picture()\n",
    "    pics.append(pic)"
   ]
  },
  {
   "cell_type": "code",
   "execution_count": 24,
   "metadata": {},
   "outputs": [
    {
     "data": {
      "image/png": "[encoded data removed]",
      "text/plain": [
       "<PIL.Image.Image image mode=RGBA size=1290x520 at 0x7F97632398E0>"
      ]
     },
     "execution_count": 24,
     "metadata": {},
     "output_type": "execute_result"
    }
   ],
   "source": [
    "gallery(*pics)"
   ]
  },
  {
   "cell_type": "code",
   "execution_count": 25,
   "metadata": {},
   "outputs": [
    {
     "name": "stdout",
     "output_type": "stream",
     "text": [
      "CPU times: user 2.73 ms, sys: 12 ms, total: 14.8 ms\n",
      "Wall time: 12.2 ms\n"
     ]
    }
   ],
   "source": [
    "%%time\n",
    "pics = []\n",
    "for i, robot in enumerate(w):\n",
    "    pic = w.take_picture(i, size=200)\n",
    "    pics.append(pic)"
   ]
  },
  {
   "cell_type": "code",
   "execution_count": 27,
   "metadata": {},
   "outputs": [
    {
     "data": {
      "image/png": "[encoded data removed]",
      "text/plain": [
       "<PIL.Image.Image image mode=RGBA size=1010x808 at 0x7F9763182130>"
      ]
     },
     "execution_count": 27,
     "metadata": {},
     "output_type": "execute_result"
    }
   ],
   "source": [
    "gallery(*pics, background_color=\"black\")"
   ]
  },
  {
   "cell_type": "code",
   "execution_count": 28,
   "metadata": {},
   "outputs": [],
   "source": [
    "for robot in w:\n",
    "    robot.move(1,0)"
   ]
  },
  {
   "cell_type": "code",
   "execution_count": 29,
   "metadata": {},
   "outputs": [],
   "source": [
    "def control(world):\n",
    "    for robot in world:\n",
    "        if robot.stalled:\n",
    "            robot.reverse()\n",
    "        robot.turn(1 - random.random() * 2)"
   ]
  },
  {
   "cell_type": "code",
   "execution_count": 30,
   "metadata": {},
   "outputs": [
    {
     "data": {
      "application/vnd.jupyter.widget-view+json": {
       "model_id": "a72880d22b6b43eabb312f989291974e",
       "version_major": 2,
       "version_minor": 0
      },
      "text/plain": [
       "HBox(children=(HTML(value=''), FloatProgress(value=1.0, bar_style='info', layout=Layout(width='20px'), max=1.0…"
      ]
     },
     "metadata": {},
     "output_type": "display_data"
    },
    {
     "name": "stdout",
     "output_type": "stream",
     "text": [
      "\n",
      "Simulation stopped at: 00:01:11.5; speed 4.37 x real time\n"
     ]
    }
   ],
   "source": [
    "w.run(control, show=True, real_time=False)"
   ]
  },
  {
   "cell_type": "markdown",
   "metadata": {},
   "source": [
    "# Example 3"
   ]
  },
  {
   "cell_type": "code",
   "execution_count": 31,
   "metadata": {},
   "outputs": [],
   "source": [
    "import jyrobot as jr\n",
    "import random"
   ]
  },
  {
   "cell_type": "code",
   "execution_count": 32,
   "metadata": {},
   "outputs": [
    {
     "name": "stdout",
     "output_type": "stream",
     "text": [
      "Random seed initialized to: 9592275\n"
     ]
    }
   ],
   "source": [
    "w = jr.World(width=100, height=100, scale=10)"
   ]
  },
  {
   "cell_type": "code",
   "execution_count": 33,
   "metadata": {
    "collapsed": true,
    "jupyter": {
     "outputs_hidden": true
    }
   },
   "outputs": [
    {
     "data": {
      "application/vnd.jupyter.widget-view+json": {
       "model_id": "19cb8233ece54132bbcd63be96bc8816",
       "version_major": 2,
       "version_minor": 0
      },
      "text/plain": [
       "Image(value=b'\\xff\\xd8\\xff\\xe0\\x00\\x10JFIF\\x00\\x01\\x01\\x00\\x00\\x01\\x00\\x01\\x00\\x00\\xff\\xdb\\x00C\\x00\\x08\\x06\\x0…"
      ]
     },
     "metadata": {},
     "output_type": "display_data"
    }
   ],
   "source": [
    "w.get_widget()"
   ]
  },
  {
   "cell_type": "code",
   "execution_count": 34,
   "metadata": {},
   "outputs": [],
   "source": [
    "r = jr.Scribbler()"
   ]
  },
  {
   "cell_type": "code",
   "execution_count": 35,
   "metadata": {},
   "outputs": [],
   "source": [
    "w.add_robot(r)\n",
    "w.update()"
   ]
  },
  {
   "cell_type": "code",
   "execution_count": 36,
   "metadata": {},
   "outputs": [],
   "source": [
    "sensor = jr.RangeSensor()"
   ]
  },
  {
   "cell_type": "code",
   "execution_count": 37,
   "metadata": {},
   "outputs": [],
   "source": [
    "r.add_device(sensor)\n",
    "w.update()"
   ]
  },
  {
   "cell_type": "code",
   "execution_count": 38,
   "metadata": {},
   "outputs": [],
   "source": [
    "r.forward(1)\n",
    "\n",
    "def control(world):\n",
    "    for robot in world:\n",
    "        if robot.stalled:\n",
    "            robot.reverse()\n",
    "        robot.turn(1 - random.random() * 2)"
   ]
  },
  {
   "cell_type": "code",
   "execution_count": 39,
   "metadata": {
    "collapsed": true,
    "jupyter": {
     "outputs_hidden": true
    }
   },
   "outputs": [
    {
     "data": {
      "application/vnd.jupyter.widget-view+json": {
       "model_id": "c9194ceca09e4056afb60f17a1735f78",
       "version_major": 2,
       "version_minor": 0
      },
      "text/plain": [
       "Figure(axes=[Axis(label='x', scale=LinearScale()), Axis(label='y', orientation='vertical', scale=LinearScale()…"
      ]
     },
     "metadata": {},
     "output_type": "display_data"
    }
   ],
   "source": [
    "r.plot(lambda robot: (robot.x, robot.world.width - robot.y), wheres=[\"panel\"])"
   ]
  },
  {
   "cell_type": "code",
   "execution_count": 41,
   "metadata": {},
   "outputs": [
    {
     "data": {
      "application/vnd.jupyter.widget-view+json": {
       "model_id": "63752104c18741fb95bbf9e680188638",
       "version_major": 2,
       "version_minor": 0
      },
      "text/plain": [
       "HBox(children=(HTML(value=''), FloatProgress(value=0.0, max=1.0), HTML(value='')))"
      ]
     },
     "metadata": {},
     "output_type": "display_data"
    },
    {
     "name": "stdout",
     "output_type": "stream",
     "text": [
      "\n",
      "Simulation stopped at: 00:00:00.2; speed 0.7 x real time\n"
     ]
    }
   ],
   "source": [
    "w.seconds(.1, control, show=True, real_time=True)"
   ]
  },
  {
   "cell_type": "code",
   "execution_count": 42,
   "metadata": {},
   "outputs": [
    {
     "data": {
      "application/vnd.jupyter.widget-view+json": {
       "model_id": "31e550146ce84475824cbd9ca157f9a8",
       "version_major": 2,
       "version_minor": 0
      },
      "text/plain": [
       "HBox(children=(HTML(value=''), FloatProgress(value=0.0), HTML(value='')))"
      ]
     },
     "metadata": {},
     "output_type": "display_data"
    },
    {
     "name": "stdout",
     "output_type": "stream",
     "text": [
      "\n",
      "Simulation stopped at: 00:00:10.2; speed 0.97 x real time\n"
     ]
    }
   ],
   "source": [
    "w.seconds(10, control, show=True, real_time=True)"
   ]
  },
  {
   "cell_type": "code",
   "execution_count": 43,
   "metadata": {},
   "outputs": [
    {
     "data": {
      "application/vnd.jupyter.widget-view+json": {
       "model_id": "b5f884c16c114d088e0f65a633f443b9",
       "version_major": 2,
       "version_minor": 0
      },
      "text/plain": [
       "HBox(children=(HTML(value=''), FloatProgress(value=1.0, bar_style='info', layout=Layout(width='20px'), max=1.0…"
      ]
     },
     "metadata": {},
     "output_type": "display_data"
    },
    {
     "name": "stdout",
     "output_type": "stream",
     "text": [
      "\n",
      "Simulation stopped at: 00:00:31.3; speed 0.99 x real time\n"
     ]
    }
   ],
   "source": [
    "w.run(control, show=True, real_time=True)"
   ]
  },
  {
   "cell_type": "code",
   "execution_count": 44,
   "metadata": {},
   "outputs": [
    {
     "data": {
      "application/vnd.jupyter.widget-view+json": {
       "model_id": "d6c7040dd8a341eb830816a2b4d2b00c",
       "version_major": 2,
       "version_minor": 0
      },
      "text/plain": [
       "HBox(children=(HTML(value=''), FloatProgress(value=0.0), HTML(value='')))"
      ]
     },
     "metadata": {},
     "output_type": "display_data"
    },
    {
     "name": "stdout",
     "output_type": "stream",
     "text": [
      "\n",
      "Simulation stopped at: 00:00:41.3; speed 92.65 x real time\n"
     ]
    }
   ],
   "source": [
    "w.seconds(10, control, show=True, real_time=False)"
   ]
  },
  {
   "cell_type": "code",
   "execution_count": 45,
   "metadata": {},
   "outputs": [
    {
     "data": {
      "application/vnd.jupyter.widget-view+json": {
       "model_id": "e588698d9f3e448c807515ed6f163bcf",
       "version_major": 2,
       "version_minor": 0
      },
      "text/plain": [
       "HBox(children=(HTML(value=''), FloatProgress(value=0.0), HTML(value='')))"
      ]
     },
     "metadata": {},
     "output_type": "display_data"
    },
    {
     "name": "stdout",
     "output_type": "stream",
     "text": [
      "\n",
      "Simulation stopped at: 00:00:51.3; speed 174.58 x real time\n"
     ]
    }
   ],
   "source": [
    "w.seconds(10, control, show=False)"
   ]
  },
  {
   "cell_type": "code",
   "execution_count": 46,
   "metadata": {},
   "outputs": [],
   "source": [
    "r.set_pose(50, 50, 180)"
   ]
  },
  {
   "cell_type": "code",
   "execution_count": 47,
   "metadata": {},
   "outputs": [],
   "source": [
    "r.set_color(\"purple\")"
   ]
  },
  {
   "cell_type": "code",
   "execution_count": 48,
   "metadata": {},
   "outputs": [],
   "source": [
    "w.update()"
   ]
  },
  {
   "cell_type": "code",
   "execution_count": 50,
   "metadata": {},
   "outputs": [
    {
     "data": {
      "image/png": "[encoded data removed]",
      "text/plain": [
       "<PIL.Image.Image image mode=RGB size=1000x1000 at 0x7F976321F2B0>"
      ]
     },
     "execution_count": 50,
     "metadata": {},
     "output_type": "execute_result"
    }
   ],
   "source": [
    "w.take_picture()"
   ]
  },
  {
   "cell_type": "code",
   "execution_count": null,
   "metadata": {},
   "outputs": [],
   "source": []
  }
 ],
 "metadata": {
  "kernelspec": {
   "display_name": "Python 3",
   "language": "python",
   "name": "python3"
  },
  "language_info": {
   "codemirror_mode": {
    "name": "ipython",
    "version": 3
   },
   "file_extension": ".py",
   "mimetype": "text/x-python",
   "name": "python",
   "nbconvert_exporter": "python",
   "pygments_lexer": "ipython3",
   "version": "3.8.5"
  },
  "widgets": {
   "application/vnd.jupyter.widget-state+json": {
    "state": {
     "0067fef81fe0497fb5fbb307ab0a31f8": {
      "model_module": "@jupyter-widgets/controls",
      "model_module_version": "1.5.0",
      "model_name": "HBoxModel",
      "state": {
       "children": [
        "IPY_MODEL_86c6adc967774424a04d770cde8ecb39",
        "IPY_MODEL_b4e3559d885a4705943a0711c22e44fc"
       ],
       "layout": "IPY_MODEL_c20d88ddd8c9487bb76e82b0ce76b78f"
      }
     },
     "1802cc1a18cf40c8b8ddca1ec8f301b7": {
      "model_module": "@jupyter-widgets/controls",
      "model_module_version": "1.5.0",
      "model_name": "SliderStyleModel",
      "state": {
       "description_width": "initial"
      }
     },
     "198e43967ef34841866080cccd90a66d": {
      "model_module": "@jupyter-widgets/base",
      "model_module_version": "1.2.0",
      "model_name": "LayoutModel",
      "state": {
       "width": "100px"
      }
     },
     "36955cb347134ee08198aa144006168b": {
      "buffers": [
       {
        "data": "/9j/4AAQSkZJRgABAQAAAQABAAD/2wBDAAgGBgcGBQgHBwcJCQgKDBQNDAsLDBkSEw8UHRofHh0aHBwgJC4nICIsIxwcKDcpLDAxNDQ0Hyc5PTgyPC4zNDL/2wBDAQkJCQwLDBgNDRgyIRwhMjIyMjIyMjIyMjIyMjIyMjIyMjIyMjIyMjIyMjIyMjIyMjIyMjIyMjIyMjIyMjIyMjL/wAARCALuBdwDASIAAhEBAxEB/8QAHwAAAQUBAQEBAQEAAAAAAAAAAAECAwQFBgcICQoL/8QAtRAAAgEDAwIEAwUFBAQAAAF9AQIDAAQRBRIhMUEGE1FhByJxFDKBkaEII0KxwRVS0fAkM2JyggkKFhcYGRolJicoKSo0NTY3ODk6Q0RFRkdISUpTVFVWV1hZWmNkZWZnaGlqc3R1dnd4eXqDhIWGh4iJipKTlJWWl5iZmqKjpKWmp6ipqrKztLW2t7i5usLDxMXGx8jJytLT1NXW19jZ2uHi4+Tl5ufo6erx8vP09fb3+Pn6/8QAHwEAAwEBAQEBAQEBAQAAAAAAAAECAwQFBgcICQoL/8QAtREAAgECBAQDBAcFBAQAAQJ3AAECAxEEBSExBhJBUQdhcRMiMoEIFEKRobHBCSMzUvAVYnLRChYkNOEl8RcYGRomJygpKjU2Nzg5OkNERUZHSElKU1RVVldYWVpjZGVmZ2hpanN0dXZ3eHl6goOEhYaHiImKkpOUlZaXmJmaoqOkpaanqKmqsrO0tba3uLm6wsPExcbHyMnK0tPU1dbX2Nna4uPk5ebn6Onq8vP09fb3+Pn6/9oADAMBAAIRAxEAPwDzeKJpWKqQDjPNS/Y5P7y/nRZ/64/7tXqrM8zxGGxDp02rWXQvOc5xWExTpUmrWT1V9yj9jk/vL+dH2OT+8v51eorz/wC3MZ3X3f8ABPK/1kx/df8AgK/zKP2OT+8v50fY5P7y/nV6ij+3MZ3X3f8ABD/WTH91/wCAr/Mo/Y5P7y/nR9jk/vL+dXqKP7cxndfd/wAEP9ZMf3X/AICv8yj9jk/vL+dH2OT+8v51eoo/tzGd193/AAQ/1kx/df8AgK/zKP2OT+8v50fY5P7y/nV6ij+3MZ3X3f8ABD/WTH91/wCAr/Mo/Y5P7y/nR9jk/vL+dXqKP7cxndfd/wAEP9ZMf3X/AICv8yj9jk/vL+dH2OT+8v51eoo/tzGd193/AAQ/1kx/df8AgK/zKP2OT+8v50fY5P7y/nV6ij+3MZ3X3f8ABD/WTH91/wCAr/Mo/Y5P7y/nR9jk/vL+dXqKP7cxndfd/wAEP9ZMf3X/AICv8yj9jk/vL+dH2OT+8v51eoo/tzGd193/AAQ/1kx/df8AgK/zKP2OT+8v50fY5P7y/nV6ij+3MZ3X3f8ABD/WTH91/wCAr/Mo/Y5P7y/nR9jk/vL+dXqKP7cxndfd/wAEP9ZMf3X/AICv8yj9jk/vL+dH2OT+8v51eoo/tzGd193/AAQ/1kx/df8AgK/zKP2OT+8v50fY5P7y/nV6ij+3MZ3X3f8ABD/WTH91/wCAr/Mo/Y5P7y/nR9jk/vL+dXqKP7cxndfd/wAEP9ZMf3X/AICv8yj9jk/vL+dH2OT+8v51eoo/tzGd193/AAQ/1kx/df8AgK/zKP2OT+8v50fY5P7y/nV6ij+3MZ3X3f8ABD/WTH91/wCAr/Mo/Y5P7y/nVHUblNM8vzgzeZnGznpj1+tblcz4t/5c/wDgf/stbYfOMVUqKMmreh0YTP8AG1ayhJqz8v8Agkf9vWv/ADzm/If40f29a/8APOb8h/jXPUV6n16t5fcez/aWI7r7jof7etf+ec35D/GtLT3GpQNNDlVVtpD8HOAe31rjK6/wr/yC5f8Arsf/AEFa58VmWIp0+aLV/Q5cZnGKo0ueDV9Ohe+xyf3l/Oj7HJ/eX86vUV5v9uYzuvu/4J5H+smP7r/wFf5lH7HJ/eX86Pscn95fzq9RR/bmM7r7v+CH+smP7r/wFf5lH7HJ/eX86Pscn95fzq9RR/bmM7r7v+CH+smP7r/wFf5lH7HJ/eX86Pscn95fzq9RR/bmM7r7v+CH+smP7r/wFf5lH7HJ/eX86Pscn95fzq9RR/bmM7r7v+CH+smP7r/wFf5lH7HJ/eX86Pscn95fzq9RR/bmM7r7v+CH+smP7r/wFf5lH7HJ/eX86Pscn95fzq9RR/bmM7r7v+CH+smP7r/wFf5lH7HJ/eX86Pscn95fzq9RR/bmM7r7v+CH+smP7r/wFf5lH7HJ/eX86Pscn95fzq9RR/bmM7r7v+CH+smP7r/wFf5lH7HJ/eX86Pscn95fzq9RR/bmM7r7v+CH+smP7r/wFf5lH7HJ/eX86Pscn95fzq9RR/bmM7r7v+CH+smP7r/wFf5lH7HJ/eX86Pscn95fzq9RR/bmM7r7v+CH+smP7r/wFf5lH7HJ/eX86Pscn95fzq9RR/bmM7r7v+CH+smP7r/wFf5lH7HJ/eX86Pscn95fzq9RR/bmM7r7v+CH+smP7r/wFf5lH7HJ/eX86Pscn95fzq9RR/bmM7r7v+CH+smP7r/wFf5lH7HJ/eX86Pscn95fzq9RR/bmM7r7v+CH+smP7r/wFf5lH7HJ/eX86Pscn95fzq9RR/bmM7r7v+CH+smP7r/wFf5lH7HJ/eX86Pscn95fzq9RR/bmM7r7v+CH+smP7r/wFf5lH7HJ/eX86Pscn95fzq9RR/bmM7r7v+CH+smP7r/wFf5lH7HJ/eX86Pscn95fzq9RR/bmM7r7v+CH+smP7r/wFf5lH7HJ/eX86Pscn95fzq9RR/bmM7r7v+CH+smP7r/wFf5lH7HJ/eX86Pscn95fzq9RR/bmM7r7v+CH+smP7r/wFf5lH7HJ/eX86Pscn95fzq9RR/bmM7r7v+CH+smP7r/wFf5lH7HJ/eX86Pscn95fzq9RR/bmM7r7v+CH+smP7r/wFf5lH7HJ/eX86Pscn95fzq9RR/bmM7r7v+CH+smP7r/wFf5lH7HJ/eX86Pscn95fzq9RR/bmM7r7v+CH+smP7r/wFf5lH7HJ/eX86Pscn95fzq9RR/bmM7r7v+CH+smP7r/wFf5lH7HJ/eX86Pscn95fzq9RR/bmM7r7v+CH+smP7r/wFf5lH7HJ/eX86Pscn95fzq9RR/bmM7r7v+CH+smP7r/wFf5lH7HJ/eX86Pscn95fzq9RR/bmM7r7v+CH+smP7r/wFf5lH7HJ/eX86Pscn95fzq9RR/bmM7r7v+CH+smP7r/wFf5lH7HJ/eX86Pscn95fzq9RR/bmM7r7v+CH+smP7r/wFf5lH7HJ/eX86Pscn95fzq9RR/bmM7r7v+CH+smP7r/wFf5lH7HJ/eX86Pscn95fzq9RR/bmM7r7v+CH+smP7r/wFf5lH7HJ/eX86Pscn95fzq9RR/bmM7r7v+CH+smP7r/wFf5kmg+GL3xFqx020lt0mEDz7pmYLtVlUjgE5y47etdP/wAKe8Qf8/mmf9/ZP/iKk+F3/I9t/wBgyf8A9GwV7RXzma8X5phsR7Om42sn8Ke9/M+iwGZV6+HVSbV3fp5nif8Awp7xB/z+aZ/39k/+Io/4U94g/wCfzTP+/sn/AMRXtlFeb/rznH80f/AF/mdn1uqfMuq6Hc6RrF3plxJC09qyq7RklSWRXGMgHow7dc1U+xyf3l/Ouq8b/wDJQNe/67Q/+k8VYdfYUM/xs6UJtq7Se3dJ9z5nFcQY2lXnCLVk+3/BKP2OT+8v50fY5P7y/nV6itf7cxndfd/wTn/1kx/df+Ar/Mo/Y5P7y/nR9jk/vL+dXqKP7cxndfd/wQ/1kx/df+Ar/Mo/Y5P7y/nR9jk/vL+dXqKP7cxndfd/wQ/1kx/df+Ar/Mo/Y5P7y/nR9jk/vL+dXqKP7cxndfd/wQ/1kx/df+Ar/Mo/Y5P7y/nR9jk/vL+dXqKP7cxndfd/wQ/1kx/df+Ar/Mo/Y5P7y/nR9jk/vL+dXqKP7cxndfd/wQ/1kx/df+Ar/Mo/Y5P7y/nR9jk/vL+dXqKP7cxndfd/wQ/1kx/df+Ar/Mo/Y5P7y/nR9jk/vL+dXqKP7cxndfd/wQ/1kx/df+Ar/Mo/Y5P7y/nR9jk/vL+dXqKP7cxndfd/wQ/1kx/df+Ar/Mo/Y5P7y/nR9jk/vL+dXqKP7cxndfd/wQ/1kx/df+Ar/Mo/Y5P7y/nR9jk/vL+dXqKP7cxndfd/wQ/1kx/df+Ar/Mo/Y5P7y/nR9jk/vL+dXqKP7cxndfd/wQ/1kx/df+Ar/Mo/Y5P7y/nR9jk/vL+dXqKP7cxndfd/wQ/1kx/df+Ar/Mo/Y5P7y/nR9jk/vL+dXqKP7cxndfd/wQ/1kx/df+Ar/Mo/Y5P7y/nR9jk/vL+dXqKP7cxndfd/wQ/1kx/df+Ar/Mo/Y5P7y/nR9jk/vL+dXqKP7cxndfd/wQ/1kx/df+Ar/Mo/Y5P7y/nR9jk/vL+dXqKP7cxndfd/wQ/1kx/df+Ar/Mo/Y5P7y/nR9jk/vL+dXqKP7cxndfd/wQ/1kx/df+Ar/Mo/Y5P7y/nR9jk/vL+dXqKP7cxndfd/wQ/1kx/df+Ar/Mo/Y5P7y/nR9jk/vL+dXqKP7cxndfd/wQ/1kx/df+Ar/Mo/Y5P7y/nR9jk/vL+dXqKP7cxndfd/wQ/1kx/df+Ar/Mo/Y5P7y/nR9jk/vL+dXqKP7cxndfd/wQ/1kx/df+Ar/Mo/Y5P7y/nR9jk/vL+dXqKP7cxndfd/wQ/1kx/df+Ar/Mo/Y5P7y/nR9jk/vL+dXqKP7cxndfd/wQ/1kx/df+Ar/Mo/Y5P7y/nR9jk/vL+dXqKP7cxndfd/wQ/1kx/df+Ar/Mo/Y5P7y/nR9jk/vL+dXqKP7cxndfd/wQ/1kx/df+Ar/Mo/Y5P7y/nR9jk/vL+dXqKP7cxndfd/wQ/1kx/df+Ar/Mo/Y5P7y/nR9jk/vL+dXqKP7cxndfd/wQ/1kx/df+Ar/Mo/Y5P7y/nR9jk/vL+dXqKP7cxndfd/wQ/1kx/df+Ar/Mo/Y5P7y/nR9jk/vL+dXqKP7cxndfd/wQ/1kx/df+Ar/Mo/Y5P7y/nR9jk/vL+dXqKP7cxndfd/wQ/1kx/df+Ar/Mo/Y5P7y/nR9jk/vL+dXqKP7cxndfd/wQ/1kx/df+Ar/Mo/Y5P7y/nR9jk/vL+dXqKP7cxndfd/wQ/1kx/df+Ar/Mo/Y5P7y/nR9jk/vL+dXqKP7cxndfd/wQ/1kx/df+Ar/Mo/Y5P7y/nVetasmvayjHVsVz+1tpbpbufQ5DmWIxvtPbNaWtZW3uWLP/XH/dq9VGz/ANcf92r1eLnn++P0X6nz3En+/v0j+TCiiivIPBCiiigAooooAKKKKACiiigAooooAKKKKACiiigAooooAKKKKACiiigAooooAKKKKACiiigAooooAKKKKACiiigArmfFv/Ln/wAD/wDZa6auZ8W/8uf/AAP/ANlrpwf8aP8AXQ7MB/vEfn+RzVFFFe4fSBXX+Ff+QXL/ANdj/wCgrXIV1/hX/kFy/wDXY/8AoK1x47+D80cGZf7u/VG5RRRXjHzwUUUUAFFFFABRRRQAUUUUAFFFFABRRRQAUUUUAFFFFABRRRQAUUUUAFFFFABRRRQAUUUUAFFFFABRRRQAUUUUAFFFFABRRRQAUUUUAFFFFABRRRQAUUUUAFFFFABRRRQAUUUUAFFFFABRRRQAUUUUAFFFFABRRRQAUUUUAFFFFABRRRQAUUUUAdf8Lv8Ake2/7Bk//o2CvaK8X+F3/I9t/wBgyf8A9GwV7RXxmf8A++f9ur9T7HKf90j8/wAwooorxT0jwTxv/wAlA17/AK7Q/wDpPFWHW543/wCSga9/12h/9J4qw6/RcL/u9P8Awx/JHw+P/wB6qeoUUUV0HIFFFFABRRRQAUUUUAFFFFABRRRQAUUUUAFFFFABRRRQAUUUUAFFFFABRRRQAUUUUAFFFFABRRRQAUUUUAFFFFABRRRQAUUUUAFFFFABRRRQAUUUUAFFFFABRRRQAUUUUAFFFFABRRRQAUUUUAFFFFABRRRQAUUUUAFFFFABRRRQAUUUUAFZNa1ZNfS8O/8ALz5fqfYcKf8AL3/t39SxZ/64/wC7V6qNn/rj/u1erhzz/fH6L9TzeJP9/fpH8mFFFFeQeCFFFFABRRRQAUUUUAFFFFABRRRQAUUUUAFFFFABRRRQAUUUUAFFFFABRRUT3MEbFXnjVh1DOAauFOdR2gm35Jv8kxpN7EtFUH1iyVSRIXP91VOT+dRf29a/885vyH+NejDJMxmrxoS+635tGqoVX9lmpRWamuWjMARIg/vMvA/I1Zh1C0nbbHOucgYPGfpnrWVbKsdQV6lGSXo/0uTKjUjvFlmiiiuAzCiiigAooooAK5nxb/y5/wDA/wD2WumrmfFv/Ln/AMD/APZa6cH/ABo/10OzAf7xH5/kc1RRRXuH0gV1/hX/AJBcv/XY/wDoK1yFdf4V/wCQXL/12P8A6CtceO/g/NHBmX+7v1RuUUUV4x88FFFFABRRRQAUUUUAFFFFABRRRQAUUUUAFFFFABRRRQAUUUUAFFFFABRRRQAUUUUAFFFFABRRRQAUUUUAFFFFABRRRQAUUUUAFFFFABRRRQAUUUUAFFFFABRRRQAUUUUAFFFFABRRRQAUUUUAFFFFABRRRQAUUUUAFFFFABRRRQAUUUUAFFFFAHX/AAu/5Htv+wZP/wCjYK9orxf4Xf8AI9t/2DJ//RsFe0V8Zn/++f8Abq/U+xyn/dI/P8wooorxT0jwTxv/AMlA17/rtD/6TxVh1ueN/wDkoGvf9dof/SeKsOv0XC/7vT/wx/JHw+P/AN6qeoUUUV0HIFFFFABRRRQAUUUUAFFFFABRRRQAUUUUAFFFFABRRRQAUUUUAFFFFABRRRQAUUUUAFFFFABRRRQAUUUUAFFFFABRRRQAUUUUAFFFFABRRRQAUUUUAFFFFABRRRQAUUUUAFFFFABRRRQAUUUUAFFFFABRRRQAUUUUAFFFFABRRRQAUUUUAFZNa1ZNfS8O/wDLz5fqfYcKf8vf+3f1LFn/AK4/7tXqo2f+uP8Au1erhzz/AHx+i/U83iT/AH9+kfyYUUUV5B4IUUUUAFFFFABRRRQAUUUUAFFFFABRRRQAUUUUAFFFFABRRVTUL0WVvvwGdjhVJ/X6Vth8PUxNWNGkryloioxcmorcfdXsFmuZW+bsi/eP4VVS6v7xMwW6QqQfnlJOfTHH9MVHY6czsbq+G+R+QjDp9R/Tt/K/eXaWduZXBPOFA7mvalTwuHqRwuFgq1W9uZ6xv2jG6Tt3k7G9oRfJBcz/AA+Rn3UUEI3X91JO2ciJTtB7fd/PniqsVhJfEbIBbW55BI3E8ep5P8qs6dZm5ke9u0DFzlFbkfXB7en/AOqtiu7E5tLLv3FGXPUW70UIvtCEbRutuZ3NJ1nS92Lu/wAF6Iqwada2+CkQLDHzNycjv7fhVqiivlq2Iq15c9aTk/N3OSUpSd5O4VXewtHUqbeMA/3VwfzFWKKVKvVpO9OTj6Nr8mhKTjszGe0u9NYyWbGWLvG3Jye+B17dKmg1u3lZVkVo2Y4JOCo/H/61adZGqaX5m64t1+fq6D+L3Hv/AD/n9Fg8Zg8ymqOZK03oqi0d+nN0fq166anVCcKr5au/f/M1lYMoZSCCMgjvS1zFhqctmyoxLwZ5X0+ldLHIk0ayRsGRhkEVw5vktfLalp6we0v0fZ+X3eWdahKk9dh1FFFeOYBXM+Lf+XP/AIH/AOy101cz4t/5c/8Agf8A7LXTg/40f66HZgP94j8/yOaooor3D6QK6/wr/wAguX/rsf8A0Fa5Cuv8K/8AILl/67H/ANBWuPHfwfmjgzL/AHd+qNyiiivGPngooooAKKKKACiiigAooooAKKKKACiiigAooooAKKKKACiiigAooooAKKKKACiiigAooooAKKKKACiiigAooooAKKKKACiiigAooooAKKKKACiiigAooooAKKKKACiiigAooooAKKKKACiiigAooooAKKKKACiiigAooooAKKKKACiiigAooooA6/4Xf8j23/YMn/8ARsFe0V4v8Lv+R7b/ALBk/wD6Ngr2ivjM/wD98/7dX6n2OU/7pH5/mFFFFeKekeCeN/8AkoGvf9dof/SeKsOtzxv/AMlA17/rtD/6TxVh1+i4X/d6f+GP5I+Hx/8AvVT1Ciiiug5AooooAKKKKACiiigAooooAKKKKACiiigAooooAKKKKACiiigAooooAKKKKACiiigAooooAKKKKACiiigAooooAKKKKACiiigAooooAKKKKACiiigAooooAKKKKACiiigAooooAKKKKACiiigAooooAKKKKACiiigAooooAKKKKACiiigArJrWrJr6Xh3/AJefL9T7DhT/AJe/9u/qWLP/AFx/3avVRs/9cf8Adq9XDnn++P0X6nm8Sf7+/SP5MKKKK8g8EKKKKACiiigAooooAKKKKACiiigAooooAKKKKACiiigCOedLeBpZM7VHOBWRZW7alcveXKkxg/u1PQ+30H6/nUuphr27hsY2xj55DjIX0/r+YrURFjRUUYVQAB7V78Kqy3AqUP41Zb9Yw6W7OVnr2OlP2VPT4pfgv+COrDRf7X1J2dibaLoAev8A+vGa0tRlaHT5nQ4bGAfTJx/WlsIBb2MSBSCVDNkc5PXNZ4Gr9SwdTFx+OT5Iv+XS8n62aS9WKm/Zwc1u9F+pZooorxDnCiiigAooooAKKKKAMTVLMQzfalJ8qQhZlUdj39Pz74pLe4k0qYQzNvtX5SQcjHqP6j/J1rqAXFrJFxll4ye/b9ap6eI7/S0jnXeEO0546dMY9iK+tw+ZKrlqWKjzwi1GXezXuST/AJotOPmrJnbGrel7+qWj/RmirBlDKQQRkEd6WmoixoqKMKoAA9qdXycrXfLscT8grmfFv/Ln/wAD/wDZa6auZ8W/8uf/AAP/ANlrowf8aP8AXQ7MB/vEfn+RzVFFFe4fSBXX+Ff+QXL/ANdj/wCgrXIV1/hX/kFy/wDXY/8AoK1x47+D80cGZf7u/VG5RRRXjHzwUUUUAFFFFABRRRQAUUUUAFFFFABRRRQAUUUUAFFFFABRRRQAUUUUAFFFFABRRRQAUUUUAFFFFABRRRQAUUUUAFFFFABRRRQAUUUUAFFFFABRRRQAUUUUAFFFFABRRRQAUUUUAFFFFABRRRQAUUUUAFFFFABRRRQAUUUUAFFFFABRRRQAUUUUAdf8Lv8Ake2/7Bk//o2CvaK8X+F3/I9t/wBgyf8A9GwV7RXxmf8A++f9ur9T7HKf90j8/wAwooorxT0jwTxv/wAlA17/AK7Q/wDpPFWHW543/wCSga9/12h/9J4qw6/RcL/u9P8Awx/JHw+P/wB6qeoUUUV0HIFFFFABRRRQAUUUUAFFFFABRRRQAUUUUAFFFFABRRRQAUUUUAFFFFABRRRQAUUUUAFFFFABRRRQAUUUUAFFFFABRRRQAUUUUAFFFFABRRRQAUUUUAFFFFABRRRQAUUUUAFFFFABRRRQAUUUUAFFFFABRRRQAUUUUAFFFFABRRRQAUUUUAFZNa1ZNfS8O/8ALz5fqfYcKf8AL3/t39SxZ/64/wC7V6qNn/rj/u1erhzz/fH6L9TzeJP9/fpH8mFFFFeQeCFFFFABRRRQAUUUUAFFFFABRRRQAUUUUAFFFFABTXdY0Z2OFUEk+1OrO1QmbybJGw8zZbpwo7/59K6sFhlia8abdlu32S1b+ST/AALpx5pJC6YplEt64G+ZuP8AZUcAdPb9BWhTURY0VFGFUAAe1OoxuI+sV5VErLZLslol8kl+IVJc0mzM1oCSKCAEB5JRtz+X9RWnWZrGIltrnBJilGBnr3/pWnXZi/8AkX4a23v/AH8yv8rWLn/Dj8woooryTEKKKKACiiigAooooAKzNKJFzfRDARZcqoHTk/4CtOsvS/8Aj+1D/rp/Vq9bAq+CxV+0P/Szan/Dn8vzNSiiivJMQrmfFv8Ay5/8D/8AZa6auZ8W/wDLn/wP/wBlrpwf8aP9dDswH+8R+f5HNUUUV7h9IFdf4V/5Bcv/AF2P/oK1yFdf4V/5Bcv/AF2P/oK1x47+D80cGZf7u/VG5RRRXjHzwUUUUAFFFFABRRRQAUUUUAFFFFABRRRQAUUUUAFFFFABRRRQAUUUUAFFFFABRRRQAUUUUAFFFFABRRRQAUUUUAFFFFABRRRQAUUUUAFFFFABRRRQAUUUUAFFFFABRRRQAUUUUAFFFFABRRRQAUUUUAFFFFABRRRQAUUUUAFFFFABRRRQAUUUUAdf8Lv+R7b/ALBk/wD6Ngr2ivF/hd/yPbf9gyf/ANGwV7RXxmf/AO+f9ur9T7HKf90j8/zCiiivFPSPBPG//JQNe/67Q/8ApPFWHW543/5KBr3/AF2h/wDSeKsOv0XC/wC70/8ADH8kfD4//eqnqFFFFdByBRRRQAUUUUAFFFFABRRRQAUUUUAFFFFABRRRQAUUUUAFFFFABRRRQAUUUUAFFFFABRRRQAUUUUAFFFFABRRRQAUUUUAFFFFABRRRQAUUUUAFFFFABRRRQAUUUUAFFFFABRRRQAUUUUAFFFFABRRRQAUUUUAFFFFABRRRQAUUUUAFFFFABWTWtWTX0vDv/Lz5fqfYcKf8vf8At39SxZ/64/7tXqo2f+uP+7V6uHPP98fov1PN4k/39+kfyYUUUV5B4IUUUUAFFFFABRRRQAUUUUAFFFFABRRRQAUUUUANlkEUTyNkhFLHHtWXpEck0s19LnMhKj+v4dAPpUusyH7MlumC8zhQP8++KvxRiKJI1yQihRn2r2YT+qZa2l71Z2/7cja/3y0+RunyUvOX5L/gjqKKK8YwKeqxmXTpQFBKgMPbB5P5ZqWzm8+zik3biyjJxjnv+tTMoZSrAEEYIPesfTZms7ySwmf5c/uyT3/+vnP/AOuvZw1N4vLqlKPxUnzpdXFq0rejSf3m8Vz0mlutfl1NmikZlRSzMFVRkknAArCutXnlkItm8qIdG2gs359B7Yz/ACrDLMoxeZ1XTw0b23b0S9X/AEyaVGVR6G9RXOrq18ihd8T4/iePk/kQP0qZdcuFUB7aJ27sJCoP4YP869OtwhnFP/l1f0af6o1eDqra33m5RWTHrsZAEtvKh7lcMo/kT+VaqsrqGVgysMgg5BFeLi8BisHJRxNNwb7q17du5jOlOHxIWiiiuQzGyyCKJ5GyQiljj2qho0Z+zPcPgvM5Yn/PvmjVCZvJskbDzNlunCjv/n0q+iLGioowqgAD2r1m1h8u5ftVXf8A7cjt98r/APgJt8NK3WX5L/gjqKKK8kxCuZ8W/wDLn/wP/wBlrpq5nxb/AMuf/A//AGWunB/xo/10OzAf7xH5/kc1RRRXuH0gV1/hX/kFy/8AXY/+grXIV1/hX/kFy/8AXY/+grXHjv4PzRwZl/u79UblFFFeMfPBRRRQAUUUUAFFFFABRRRQAUUUUAFFFFABRRRQAUUUUAFFFFABRRRQAUUUUAFFFFABRRRQAUUUUAFFFFABRRRQAUUUUAFFFFABRRRQAUUUUAFFFFABRRRQAUUUUAFFFFABRRRQAUUUUAFFFFABRRRQAUUUUAFFFFABRRRQAUUUUAFFFFABRRRQB1/wu/5Htv8AsGT/APo2CvaK8X+F3/I9t/2DJ/8A0bBXtFfGZ/8A75/26v1Pscp/3SPz/MKKKK8U9I8E8b/8lA17/rtD/wCk8VYdbnjf/koGvf8AXaH/ANJ4qw6/RcL/ALvT/wAMfyR8Pj/96qeoUUUV0HIFFFFABRRRQAUUUUAFFFFABRRRQAUUUUAFFFFABRRRQAUUUUAFFFFABRRRQAUUUUAFFFFABRRRQAUUUUAFFFFABRRRQAUUUUAFFFFABRRRQAUUUUAFFFFABRRRQAUUUUAFFFFABRRRQAUUUUAFFFFABRRRQAUUUUAFFFFABRRRQAUUUUAFZNa1ZNfS8O/8vPl+p9hwp/y9/wC3f1LFn/rj/u1eqjZ/64/7tXq4c8/3x+i/U83iT/f36R/JhRRRXkHghRRRQAUUUUAFFFFABRRRQAUUUUAFFFFABRRRQBlxf6Vrskg+5brsBHHPv+bflWpWZopEkU85ADySndj8/wCprTr1s69zFew6U4xj9yTf3ybNq+k+XtoFFFFeSYhWdq1m88aTQg+dEc/L1I9vcf41o0V1YLF1MHXjXp7r7muqfk0XTm4SUkc9PqMWpRx2rTi3uBJtaJo2IdhwBkdBn1zg49KpYZWdWADIzKcHIyDj+lZ1mk19qalW/fuxkznGWGW/DpV+NmkQSMcs/wA7H3PJ/nX6Zwa5xrVIQaVPfl7NtWe17Wuld9D23RVL3Y/1/wAAdRRRX6AICQASTgDvWpoV4j+ZaB1bb+8TBzwTyPzOf+Be1ZMitIhjUZZ/kUepPA/WptU1i/i1aW3tJ8oGCqqorc4GR065zX5/xxiFOMMFyptrmvfWNnb7mr7/AKEVKTqr2a9fuOqqnqGoJZR4GGlYfKv9T7VDdasqN5NovnzHptGV/TrRZ6ayzfartvMnPOD0U/1/pXwuGy+nhorE5jpHeMPtT+W8Y927X2R5saaguert26v/AIAaZaTI73dyx86QY2nsPf8ALp2rSoorzcbjKmMrOtUsuiS0SS2S8kjKpNzlzMKKKK5SArmfFv8Ay5/8D/8AZa6auZ8W/wDLn/wP/wBlrpwf8aP9dDswH+8R+f5HNUUUV7h9IFdf4V/5Bcv/AF2P/oK1yFdf4V/5Bcv/AF2P/oK1x47+D80cGZf7u/VG5RRRXjHzwUUUUAFFFFABRRRQAUUUUAFFFFABRRRQAUUUUAFFFFABRRRQAUUUUAFFFFABRRRQAUUUUAFFFFABRRRQAUUUUAFFFFABRRRQAUUUUAFFFFABRRRQAUUUUAFFFFABRRRQAUUUUAFFFFABRRRQAUUUUAFFFFABRRRQAUUUUAFFFFABRRRQAUUUUAdf8Lv+R7b/ALBk/wD6Ngr2ivF/hd/yPbf9gyf/ANGwV7RXxmf/AO+f9ur9T7HKf90j8/zCiiivFPSPBPG//JQNe/67Q/8ApPFWHW543/5KBr3/AF2h/wDSeKsOv0XC/wC70/8ADH8kfD4//eqnqFFFFdByBRRRQAUUUUAFFFFABRRRQAUUUUAFFFFABRRRQAUUUUAFFFFABRRRQAUUUUAFFFFABRRRQAUUUUAFFFFABRRRQAUUUUAFFFFABRRRQAUUUUAFFFFABRRRQAUUUUAFFFFABRRRQAUUUUAFFFFABRRRQAUUUUAFFFFABRRRQAUUUUAFFFFABWTWtWTX0vDv/Lz5fqfYcKf8vf8At39SxZ/64/7tXqo2f+uP+7V6uHPP98fov1PN4k/39+kfyYUUUV5B4IUUUUAFFFFABRRRQAUUUUAFFFFABRRRQAUUUUAZmiAx200TYDpKQy56cD/A1p1mWamDV7yEgkSDzA3Tv/8AX/StOvWzv3sbKr/Ooy/8Cin+aa+RtiNal+9mFFFFeSYhUVzN9ntZptu7y0L4zjOBmpaRlV1KsoZWGCCMgihWvqNWvqcV4dTOrLKWVUhRncsccYx/WpYQRBGCMEKOPwrSv5ILWW5t49PSNmgZEkiIBYMO444yD78e9UK/V+CaFRyq4qcWoyUUuzV5N2fk9PLqe57R1X7S1r2/UKKKK+/AFDNLCFbaxlQBsZwdw5qisQOviGQlx9q2sT/F82DWpZKr6jaowypfOPcKSP1Apul6PfxatFcXcGUDFmZnVucHB69c4r8v4xxajj+RO3LBPpe95NWe/wDwdRqrGCld20/zOjgs7e2z5MQUnqep/M1PRRX55Vq1KsnOpJyb6t3f4nhNuTuwoooqBBRRRQAVzPi3/lz/AOB/+y101cz4t/5c/wDgf/stdOD/AI0f66HZgP8AeI/P8jmqKKK9w+kCuv8ACv8AyC5f+ux/9BWuQrr/AAr/AMguX/rsf/QVrjx38H5o4My/3d+qNyiiivGPngooooAKKKKACiiigAooooAKKKKACiiigAooooAKKKKACiiigAooooAKKKKACiiigAooooAKKKKACiiigAooooAKKKKACiiigAooooAKKKKACiiigAooooAKKKKACiiigAooooAKKKKACiiigAooooAKKKKACiiigAooooAKKKKACiiigAooooA6/wCF3/I9t/2DJ/8A0bBXtFeL/C7/AJHtv+wZP/6Ngr2ivjM//wB8/wC3V+p9jlP+6R+f5hRRRXinpHgnjf8A5KBr3/XaH/0nirDrc8b/APJQNe/67Q/+k8VYdfouF/3en/hj+SPh8f8A71U9QoooroOQKKKKACiiigAooooAKKKKACiiigAooooAKKKKACiiigAooooAKKKKACiiigAooooAKKKKACiiigAooooAKKKKACiiigAooooAKKKKACiiigAooooAKKKKACiiigAooooAKKKKACiiigAooooAKKKKACiiigAooooAKKKKACiiigAooooAKya1qya+l4d/5efL9T7DhT/l7/27+pYs/wDXH/dq9VGz/wBcf92r1cOef74/RfqebxJ/v79I/kwoooryDwQooooAKKKKACiiigAooooAKKKKACiiigAooooAztUSSMR3kC5lhPPH8PfP+e5q1aXK3dusqjGeCuc4PpUzKGUqwBBGCD3rFlt59KuDPaqXt2++nXA9/wDH/J93CRpZhhlhJNRqx+BvaS35G+musfVrqdELVI8j3W3+X+Rt0VXtb2C8XMTfN3RvvD8KsV41ajUoTdOrFxkujMJRcXZhRRTWPaphFydkVCDnKyMzW0RrPzySrRMApz2LAEH/AD2rHikjOSCGHTjmujuLmO1QPIep4A6mswWUmsXBnu4xHEownyjJHbBI5HfP5V9zk2OlhcBUo4hWoPW/M4u+mkEk27tXdvvR6qtSgub4e5UBRgeMfhSfuq3G0uxIEYtkQY6p8pP1I5NMOi2RUgJIp7ESscfmcVhHPcDH4XXhftUv8/e1+Xy8yJYmkktzBELXEgiSHzWwWxxwBgdz710mn2i2VmkIChvvOV6Fj1/wHsBUFtpsVpOZUlldtpX5yMYJB7AegrQU5FcvE2dPNKidNWpra6Slt1et/LXS5ni5OVNcuwtFFFfKnnBRRRQAUUUUAFcz4t/5c/8Agf8A7LXTVzPi3/lz/wCB/wDstdOD/jR/rodmA/3iPz/I5qiiivcPpArr/Cv/ACC5f+ux/wDQVrkK6/wr/wAguX/rsf8A0Fa48d/B+aODMv8Ad36o3KKKK8Y+eCiiigAooooAKKKKACiiigAooooAKKKKACiiigAooooAKKKKACiiigAooooAKKKKACiiigAooooAKKKKACiiigAooooAKKKKACiiigAooooAKKKKACiiigAooooAKKKKACiiigAooooAKKKKACiiigAooooAKKKKACiiigAooooAKKKKACiiigDr/hd/yPbf9gyf/wBGwV7RXi/wu/5Htv8AsGT/APo2CvaK+Mz/AP3z/t1fqfY5T/ukfn+YUUUV4p6R4J43/wCSga9/12h/9J4qw63PG/8AyUDXv+u0P/pPFWHX6Lhf93p/4Y/kj4fH/wC9VPUKKKK6DkCiiigAooooAKKKKACiiigAooooAKKKKACiiigAooooAKKKKACiiigAooooAKKKKACiiigAooooAKKKKACiiigAooooAKKKKACiiigAooooAKKKKACiiigAooooAKKKKACiiigAooooAKKKKACiiigAooooAKKKKACiiigAooooAKKKKACsmtasmvpeHf8Al58v1PsOFP8Al7/27+pYs/8AXH/dq9VGz/1x/wB2r1cOef74/RfqebxJ/v79I/kwoooryDwQooooAKKKKACiiigAooooAKKKKACiiigAooooAKKKKAKcml2jsWWMxvkENGcYx6dqjaLULZD5Eq3Azwso+Yc+uefx9K0KK9CGZ4iyjVftIrpNc34vVfKSNVVls9fXUy/tGrgjNrCB9f8A7Knr/aEv3zHDzyQMn/CrpOTSV6CxsbXjQhF+Sf6ya/A9KlaEfhSZWisYkO6QGVz1aTmriHjFMpQcGuPFVauIV6krv+tlsvkkTXTqRdx3V/pSscD3pM/MTTCcmuSNPmkr7JI5oUuaSb2SQUqnBpKK6JLmVjqlFSi0yWikByM0tec1Z2PKas7MKKKKBBRRRQAVzPi3/lz/AOB/+y101cz4t/5c/wDgf/stdOD/AI0f66HZgP8AeI/P8jmqKKK9w+kCuv8ACv8AyC5f+ux/9BWuQrr/AAr/AMguX/rsf/QVrjx38H5o4My/3d+qNyiiivGPngooooAKKKKACiiigAooooAKKKKACiiigAooooAKKKKACiiigAooooAKKKKACiiigAooooAKKKKACiiigAooooAKKKKACiiigAooooAKKKKACiiigAooooAKKKKACiiigAooooAKKKKACiiigAooooAKKKKACiiigAooooAKKKKACiiigAooooA6/wCF3/I9t/2DJ/8A0bBXtFeL/C7/AJHtv+wZP/6Ngr2ivjM//wB8/wC3V+p9jlP+6R+f5hRRRXinpHgnjf8A5KBr3/XaH/0nirDrc8b/APJQNe/67Q/+k8VYdfouF/3en/hj+SPh8f8A71U9QoooroOQKKKKACiiigAooooAKKKKACiiigAooooAKKKKACiiigAooooAKKKKACiiigAooooAKKKKACiiigAooooAKKKKACiiigAooooAKKKKACiiigAooooAKKKKACiiigAooooAKKKKACiiigAooooAKKKKACiiigAooooAKKKKACiiigAooooAKya1qya+l4d/5efL9T7DhT/l7/27+pYs/wDXH/dq9VGz/wBcf92r1cOef74/RfqebxJ/v79I/kwoooryDwQooooAKKKKACiiigAooooAKKKKACiiigAooooAKKKKACmMe1OY4FR10UKd/eZ14ald87Ciiiuo7QooprHAxVRXM7IqMXJ2Qqtuz6UtRxnFSVdWHJNpF14KE2kFFFFZGQ5D2p9RA4NS1yV42lfucGJhaXN3CiiisDmCiiigArmfFv8Ay5/8D/8AZa6auZ8W/wDLn/wP/wBlrpwf8aP9dDswH+8R+f5HNUUUV7h9IFdf4V/5Bcv/AF2P/oK1yFdf4V/5Bcv/AF2P/oK1x47+D80cGZf7u/VG5RRRXjHzwUUUUAFFFFABRRRQAUUUUAFFFFABRRRQAUUUUAFFFFABRRRQAUUUUAFFFFABRRRQAUUUUAFFFFABRRRQAUUUUAFFFFABRRRQAUUUUAFFFFABRRRQAUUUUAFFFFABRRRQAUUUUAFFFFABRRRQAUUUUAFFFFABRRRQAUUUUAFFFFABRRRQAUUUUAdf8Lv+R7b/ALBk/wD6Ngr2ivF/hd/yPbf9gyf/ANGwV7RXxmf/AO+f9ur9T7HKf90j8/zCiiivFPSPBPG//JQNe/67Q/8ApPFWHW543/5KBr3/AF2h/wDSeKsOv0XC/wC70/8ADH8kfD4//eqnqFFFFdByBRRRQAUUUUAFFFFABRRRQAUUUUAFFFFABRRRQAUUUUAFFFFABRRRQAUUUUAFFFFABRRRQAUUUUAFFFFABRRRQAUUUUAFFFFABRRRQAUUUUAFFFFABRRRQAUUUUAFFFFABRRRQAUUUUAFFFFABRRRQAUUUUAFFFFABRRRQAUUUUAFFFFABWTWtWTX0vDv/Lz5fqfYcKf8vf8At39SxZ/64/7tXqo2f+uP+7V6uHPP98fov1PN4k/39+kfyYUUUV5B4IUUUUAFFFFABRRRQAUUUUAFFFFABRRRQAUUUUAFFFFAGTLdX1lcObqAS2hYkTRcmNck/MPYY5/mauwXENzEJIZFdD3U9Pr6GrNZk+h2zuZbZ5LSUqRugbaD9R6cdsV1068WrS09DvpYmDXLNW9P8v8AIvUVmu2rWfWKO+jCk7k+R/xHT1GBS/2sf+gdqH/fj/69dCs1dO50q0leLT+f/DFye4itow80iopIUFjjk0gYOgZWDAjIIOQRWXd3dvfI0M2mXzMF4PkfMme4546fpWdC2oWEwFrBeyW2c+XLCRxk8d8deox9K6KPKt9/68zrocsd3r8v8zpR0qYHIzXOvqsrs0Vy508bQRuiZmPb8uvPFa9iLdUdYLr7R825mMgcjjHb6U69mrjxKi1f+vvLdFFFcpxhT0PGKqz3ltbZ86eNCBu2s3JHsOpqtFrEc8yrbW9xMhcIZVjOwZxnJ9s+lTUpuUGRWpOdNmrRRRXnnlBRRRQAVzPi3/lz/wCB/wDstdNXM+Lf+XP/AIH/AOy104P+NH+uh2YD/eI/P8jmqKKK9w+kCuv8K/8AILl/67H/ANBWuQrr/Cv/ACC5f+ux/wDQVrjx38H5o4My/wB3fqjcooorxj54KKKKACiiigAooooAKKKKACiiigAooooAKKKKACiiigAooooAKKKKACiiigAooooAKKKKACiiigAooooAKKKKACiiigAooooAKKKKACiiigAooooAKKKKACiiigAooooAKKKKACiiigAooooAKKKKACiiigAooooAKKKKACiiigAooooAKKKKAOv+F3/I9t/2DJ//AEbBXtFeL/C7/ke2/wCwZP8A+jYK9or4zP8A/fP+3V+p9jlP+6R+f5hRRRXinpHgnjf/AJKBr3/XaH/0nirDrc8b/wDJQNe/67Q/+k8VYdfouF/3en/hj+SPh8f/AL1U9QoooroOQKKKKACiiigAooooAKKKKACiiigAooooAKKKKACiiigAooooAKKKKACiiigAooooAKKKKACiiigAooooAKKKKACiiigAooooAKKKKACiiigAooooAKKKKACiiigAooooAKKKKACiiigAooooAKKKKACiiigAooooAKKKKACiiigAooooAKya1qya+l4d/wCXny/U+w4U/wCXv/bv6liz/wBcf92r1UbP/XH/AHavVw55/vj9F+p5vEn+/v0j+TCiiivIPBCiiigAooooAKKKKACiiigAooooAKKKKACiiigAooooAKKKKACiiigApr/dp1NbsKun8aNKPxoVkV0KMoZSMEEZBFUZdE02ZgzWiAgY+QlR+QxV+ilGco6p2FGpOLvFtGSdCREZbe9vIRzsVZflXPt6fjTjoUEhXz7m7uEBzsllyua1KK0+sVf5jX61W/m/r7ijDo2nQbtlpGc9d43/AM84q9RRWUpSlrJ3MZTlN3k7hRRRSJCiiigArmfFv/Ln/wAD/wDZa6auZ8W/8uf/AAP/ANlrpwf8aP8AXQ7MB/vEfn+RzVFFFe4fSBXX+Ff+QXL/ANdj/wCgrXIV1/hX/kFy/wDXY/8AoK1x47+D80cGZf7u/VG5RRRXjHzwUUUUAFFFFABRRRQAUUUUAFFFFABRRRQAUUUUAFFFFABRRRQAUUUUAFFFFABRRRQAUUUUAFFFFABRRRQAUUUUAFFFFABRRRQAUUUUAFFFFABRRRQAUUUUAFFFFABRRRQAUUUUAFFFFABRRRQAUUUUAFFFFABRRRQAUUUUAFFFFABRRRQAUUUUAdf8Lv8Ake2/7Bk//o2CvaK8X+F3/I9t/wBgyf8A9GwV7RXxmf8A++f9ur9T7HKf90j8/wAwooorxT0jwTxv/wAlA17/AK7Q/wDpPFWHW543/wCSga9/12h/9J4qw6/RcL/u9P8Awx/JHw+P/wB6qeoUUUV0HIFFFFABRRRQAUUUUAFFFFABRRRQAUUUUAFFFFABRRRQAUUUUAFFFFABRRRQAUUUUAFFFFABRRRQAUUUUAFFFFABRRRQAUUUUAFFFFABRRRQAUUUUAFFFFABRRRQAUUUUAFFFFABRRRQAUUUUAFFFFABRRRQAUUUUAFFFFABRRRQAUUUUAFZNa1ZNfS8O/8ALz5fqfYcKf8AL3/t39SxZ/64/wC7V6qNn/rj/u1erhzz/fH6L9TzeJP9/fpH8mFFFFeQeCFFFFABRRRQAUUUUAFFFFABRRRQAUUUUAFFFFABRRRQAUUUUAFFFFABTW+8KdTT98VdPf5M0pfE35MdRRRUGYUUUUAFFFFABRRRQAUUUUAFcz4t/wCXP/gf/stdNXM+Lf8Alz/4H/7LXTg/40f66HZgP94j8/yOaooor3D6QK6/wr/yC5f+ux/9BWuQrr/Cv/ILl/67H/0Fa48d/B+aODMv93fqjcooorxj54KKKKACiiigAooooAKKKKACiiigAooooAKKKKACiiigAooooAKKKKACiiigAooooAKKKKACiiigAooooAKKKKACiiigAooooAKKKKACiiigAooooAKKKKACiiigAooooAKKKKACiiigAooooAKKKKACiiigAooooAKKKKACiiigAooooAKKKKAOv+F3/I9t/wBgyf8A9GwV7RXi/wALv+R7b/sGT/8Ao2CvaK+Mz/8A3z/t1fqfY5T/ALpH5/mFFFFeKekeCeN/+Sga9/12h/8ASeKsOtzxv/yUDXv+u0P/AKTxVh1+i4X/AHen/hj+SPh8f/vVT1Ciiiug5AooooAKKKKACiiigAooooAKKKKACiiigAooooAKKKKACiiigAooooAKKKKACiiigAooooAKKKKACiiigAooooAKKKKACiiigAooooAKKKKACiiigAooooAKKKKACiiigAooooAKKKKACiiigAooooAKKKKACiiigAooooAKKKKACiiigArJrWrJr6Xh3/l58v1PsOFP+Xv/AG7+pYs/9cf92r1UbP8A1x/3avVw55/vj9F+p5vEn+/v0j+TCiiivIPBCiiigAooooAKKKKACiiigAooooAKKKKACiiigAooooAKKKKACiiigApo++adTV+8auG0maU/hk/L9R1FFFQZhRRRQAUUUUAFFFFABRRRQAVzPi3/AJc/+B/+y101cz4t/wCXP/gf/stdOD/jR/rodmA/3iPz/I5qiiivcPpArr/Cv/ILl/67H/0Fa5Cuv8K/8guX/rsf/QVrjx38H5o4My/3d+qNyiiivGPngooooAKKKKACiiigAooooAKKKKACiiigAooooAKKKKACiiigAooooAKKKKACiiigAooooAKKKKACiiigAooooAKKKKACiiigAooooAKKKKACiiigAooooAKKKKACiiigAooooAKKKKACiiigAooooAKKKKACiiigAooooAKKKKACiiigAooooA6/4Xf8j23/AGDJ/wD0bBXtFeL/AAu/5Htv+wZP/wCjYK9or4zP/wDfP+3V+p9jlP8Aukfn+YUUUV4p6R4J43/5KBr3/XaH/wBJ4qw63PG//JQNe/67Q/8ApPFWHX6Lhf8Ad6f+GP5I+Hx/+9VPUKKKK6DkCiiigAooooAKKKKACiiigAooooAKKKKACiiigAooooAKKKKACiiigAooooAKKKKACiiigAooooAKKKKACiiigAooooAKKKKACiiigAooooAKKKKACiiigAooooAKKKKACiiigAooooAKKKKACiiigAooooAKKKKACiiigAooooAKKKKACsmtasmvpeHf+Xny/U+w4U/5e/8Abv6liz/1x/3avVRs/wDXH/dq9XDnn++P0X6nm8Sf7+/SP5MKKKK8g8EKKKKACiiigAooooAKKKKACiiigAooooAKKKKACiiigAooooAKKKKACmr3NOpqfdq18D+RpH+HL5DqKKKgzCiiigAooooAKKKKACiiigArmfFv/Ln/AMD/APZa6auZ8W/8uf8AwP8A9lrpwf8AGj/XQ7MB/vEfn+RzVFFFe4fSBXX+Ff8AkFy/9dj/AOgrXIV1/hX/AJBcv/XY/wDoK1x47+D80cGZf7u/VG5RRRXjHzwUUUUAFFFFABRRRQAUUUUAFFFFABRRRQAUUUUAFFFFABRRRQAUUUUAFFFFABRRRQAUUUUAFFFFABRRRQAUUUUAFFFFABRRRQAUUUUAFFFFABRRRQAUUUUAFFFFABRRRQAUUUUAFFFFABRRRQAUUUUAFFFFABRRRQAUUUUAFFFFABRRRQAUUUUAdf8AC7/ke2/7Bk//AKNgr2ivF/hd/wAj23/YMn/9GwV7RXxmf/75/wBur9T7HKf90j8/zCiiivFPSPBPG/8AyUDXv+u0P/pPFWHW543/AOSga9/12h/9J4qw6/RcL/u9P/DH8kfD4/8A3qp6hRRRXQcgUUUUAFFFFABRRRQAUUUUAFFFFABRRRQAUUUUAFFFFABRRRQAUUUUAFFFFABRRRQAUUUUAFFFFABRRRQAUUUUAFFFFABRRRQAUUUUAFFFFABRRRQAUUUUAFFFFABRRRQAUUUUAFFFFABRRRQAUUUUAFFFFABRRRQAUUUUAFFFFABRRRQAVk1rVk19Lw7/AMvPl+p9hwp/y9/7d/UsWf8Arj/u1eqjZ/64/wC7V6uHPP8AfH6L9TzeJP8Af36R/JhRRRXkHghRRRQAUUUUAFFFFABRRRQAUUUUAFFFFABRRRQAUUUUAFFFFABRRRQAh6GhfuihvumgdBV/Y+Zp/wAu/n+gtFFFQZhRRRQAUUUUAFFFFABRRRQAVzPi3/lz/wCB/wDstdNXM+Lf+XP/AIH/AOy104P+NH+uh2YD/eI/P8jmqKKK9w+kCuv8K/8AILl/67H/ANBWuQrr/Cv/ACC5f+ux/wDQVrjx38H5o4My/wB3fqjcooorxj54KKKKACiiigAooooAKKKKACiiigAooooAKKKKACiiigAooooAKKKKACiiigAooooAKKKKACiiigAooooAKKKihe6uII5otOuGjkUOp3xjIIyP463oYWviG1Rg5W7K51YbBYnFNrD03K29lexLRTdl9/0DLj/vuL/4ujZff9Ay4/77i/8Ai66f7Jx//PmX3M6/7DzP/oHn/wCAsdRUUr3MCh5rCeOMsqly0ZALEAdGJ6kVLXLXw1bDyUa0XFvvocWJwmIwslCvBxb11VgooorE5wooooAKKKKACiiigAooooAKKKKACiiigAooooAKKKKACiiigAooooAKKKKACiiigAooooAKKKKACiiigDr/AIXf8j23/YMn/wDRsFe0V4D4S1+Hwz4l/tK5tLm5hazlg222wsGZ42B+ZlGMIe9d5/wt7Sf+gNrP/fMH/wAdr5jOMBia+J56UG1ZdvPzR9VlmJo08LGM5pPXr5noVFee/wDC3tJ/6A2s/wDfMH/x2j/hb2k/9AbWf++YP/jteV/ZON/59v8AD/M7/ruG/wCfi+84bxv/AMlA17/rtD/6TxVh1e13VE1vxNqeqRW80EN1KjIk+3eAsUaHO0kdVPeqNfbYeLhRhGW6S/JHyGNkpYicou6bCiiitjlCiiigAooooAKKKKACiiigAooooAKKKKACiiigAooooAKKKKACiiigAooooAKKKKACiiigAooooAKKKKACiiigAooooAKKKKACiiigAooooAKKKKACiiigAooooAKKKKACiiigAooooAKKKKACiiigAooooAKKKKACiiigAooooAKKKKACsmtasmvpeHf+Xny/U+w4U/5e/wDbv6liz/1x/wB2r1UbP/XH/dq9XDnn++P0X6nm8Sf7+/SP5MKKKK8g8EKKKKACiiigAooooAKKKKACiiigAooooAKKKKACiiigAooooAKKKKAGv0p1NbqKdVy+FfM0l8EV6hRRRUGYUUUUAFFFFABRRRQAUUUUAFcz4t/5c/8Agf8A7LXTVzPi3/lz/wCB/wDstdOD/jR/rodmA/3iPz/I5qiiivcPpArr/Cv/ACC5f+ux/wDQVrkK6/wr/wAguX/rsf8A0Fa48d/B+aODMv8Ad36o3KKKK8Y+eCiiigAooooAKKKKACiiigAooooAKKKKACiiigAooooAKKKKACiiigAooooAKKKKACiiigAooooAKKKKACtHR/8AkCWH/XtH/wCgis6tHR/+QJYf9e0f/oIr7Pg3+LW9F+bP0Lw//jV/SP5su0UUV96fppna5/yDD/12h/8ARq1Sq7rn/IMP/XaH/wBGrVKvzvjD/e4f4f1Z+U8e/wC/0/8AB/7cwooor5M+GCiiigAooooAKKKKACiiigAooooAKKKKACiiigAooooAKKKKACiiigAooooAKKKKACiiigAooooAKKKKACiiigAooooAKKKKACiiigAooooAKKKKACiiigAooooAKKKKACiiigAooooAKKKKACiiigAooooAKKKKACiiigAooooAKKKKACiiigAooooAKKKKACiiigAooooAKKKKACiiigAooooAKKKKACiiigAooooAKKKKACiiigAooooAKKKKACiiigAooooAKKKKACiiigArJrWrJr6Xh3/l58v1PsOFP+Xv/bv6liz/ANcf92r1UbP/AFx/3avVw55/vj9F+p5vEn+/v0j+TCiiivIPBCiiigAooooAKKKKACiiigAooooAKKKKACiiigAooooAKKKKACiiigBp5YCnU3q/0p1XPZLyNKm0V5BRRRUGYUUUUAFFFFABRRRQAUUUUAFcz4t/5c/+B/8AstdNXM+Lf+XP/gf/ALLXTg/40f66HZgP94j8/wAjmqKKK9w+kCuv8K/8guX/AK7H/wBBWuQrr/Cv/ILl/wCux/8AQVrjx38H5o4My/3d+qNyiiivGPngooooAKKKKACiiigAooooAKKKKACiiigAooooAKKKKACiiigAooooAKKKKACiiigAooooAKKKKACiiigArR0f/kCWH/XtH/6CKzq0dH/5Alh/17R/+givs+Df4tb0X5s/QvD/APjV/SP5su0UUV96fppna5/yDD/12h/9GrVKruuf8gw/9dof/Rq1Sr874w/3uH+H9WflPHv+/wBP/B/7cwooor5M+GCiiigAooooAKKKKACiiigAooooAKKKKACiiigAooooAKKKKACiiigAooooAKKKKACiiigAooooAKKKKACiiigAooooAKKKKACiiigAooooAKKKKACiiigAooooAKKKKACiiigAooooAKKKKACiiigAooooAKKKKACiiigAooooAKKKKACiiigAooooAKKKKACiiigAooooAKKKKACiiigAooooAKKKKACiiigAooooAKKKKACiiigAooooAKKKKACiiigAooooAKKKKACiiigArJrWrJr6Xh3/AJefL9T7DhT/AJe/9u/qWLP/AFx/3avVRs/9cf8Adq9XDnn++P0X6nm8Sf7+/SP5MKKKK8g8EKKKKACiiigAooooAKKKKACiiigAooooAKKKKACiiigAooooAKKKKAGj75p1NXq1Oq6m/wBxpV+K3kvyCiiioMwooooAKKKKACiiigAooooAK5nxb/y5/wDA/wD2WumqjqOlQan5fnPIvl5xsIHXHqPatsPUVOopS2OjCVY0qynLZHBUV1//AAitj/z1uP8Avpf8KP8AhFbH/nrcf99L/hXp/XqPn9x7P9pYfu/uOQrr/Cv/ACC5f+ux/wDQVo/4RWx/563H/fS/4Vo6fp8WmwNDCzsrNuJcgnOAOw9q58ViqdSnyx3OXGYylWpckN9OhbooorzjyAooooAKKKKACiiigAooooAKKKKACiiigAooooAKKKKACiiigAooooAKKKKACiiigAooooAKKKKACiiigArR0f8A5Alh/wBe0f8A6CKzq0dH/wCQJYf9e0f/AKCK+z4N/i1vRfmz9C8P/wCNX9I/my7RRRX3p+mmdrn/ACDD/wBdof8A0atUqu65/wAgw/8AXaH/ANGrVKvzvjD/AHuH+H9WflPHv+/0/wDB/wC3MKKKK+TPhgooooAKKKKACiiigAooooAKKKKACiiigAooooAKKKKACiiigAooooAKKKKACiiigAooooAKKKKACiiigAooooAKKKKACiiigAooooAKKKKACiiigAooooAKKKKACiiigAooooAKKKKACiiigAooooAKKKKACiiigAooooAKKKKACiiigAooooAKKKKACiiigAooooAKKKKACiiigAooooAKKKKACiiigAooooAKKKKACiiigAooooAKKKKACiiigAooooAKKKKACiiigAooooAKya1qya+l4d/5efL9T7DhT/l7/wBu/qWLP/XH/dq9VGz/ANcf92r1cOef74/RfqebxJ/v79I/kwoooryDwQooooAKKKKACiiigAooooAKKKKACiiigAooooAKKKKACiiigAoooPQ0LUaV3YanSnUi/dpauprNl1XebCiiioMwooooAKKKKACiiigAooooAKKKKACiiigAooooAKKKKACiiigAooooAKKKKACiiigAooooAKKKKACiiigAooooAKKKKACiiigAooooAKKKKACiiigAooooAKKKKACtHR/+QJYf9e0f/oIrOrR0f/kCWH/XtH/6CK+z4N/i1vRfmz9C8P8A+NX9I/my7RRRX3p+mmdrn/IMP/XaH/0atUqu65/yDD/12h/9GrVKvzvjD/e4f4f1Z+U8e/7/AE/8H/tzCiiivkz4YKKKKACiiigAooooAKKKKACiiigAooooAKKKKACiiigAooooAKKKKACiiigAooooAKKKKACiiigAooooAKKKKACiiigAooooAKKKKACiiigAooooAKKKKACiiigAooooAKKKKACiiigAooooAKKKKACiiigAooooAKKKKACiiigAooooAKKKKACiiigAooooAKKKKACiiigAooooAKKKKACiiigAooooAKKKKACiiigAooooAKKKKACiiigAooooAKKKKACiiigAooooAKKKKACsmtasmvpeHf8Al58v1PsOFP8Al7/27+pYs/8AXH/dq9VGz/1x/wB2r1cOef74/RfqebxJ/v79I/kwoooryDwQooooAKKKKACiiigAooooAKKKKACiiigAooooAKKKKACiiigApG+6aWkb7tVBXki6avNIF+6KWgdKKUndtkyd5NhRRRSEFFFFABRRRQAUUUUAFFFFABRRRQAUUUUAFFFFABRRRQAUUUUAFFFFABRRRQAUUUUAFFFFABRRRQAUUUUAFFFFABRRRQAUUUUAFFFFABRRRQAUUUUAFFFFABRRRQAVo6P/AMgSw/69o/8A0EVnVo6P/wAgSw/69o//AEEV9nwb/Frei/Nn6F4f/wAav6R/Nl2iiivvT9NM7XP+QYf+u0P/AKNWqVXdc/5Bh/67Q/8Ao1apV+d8Yf73D/D+rPynj3/f6f8Ag/8AbmFFFFfJnwwUUUUAFFFFABRRRQAUUUUAFFFFABRRRQAUUUUAFFFFABRRRQAUUUUAFFFFABRRRQAUUUUAFFFFABRRRQAUUUUAFFFFABRRRQAUUUUAFFFFABRRRQAUUUUAFFFFABRRRQAUUUUAFFFFABRRRQAUUUUAFFFFABRRRQAUUUUAFFFFABRRRQAUUUUAFFFFABRRRQAUUUUAFFFFABRRRQAUUUUAFFFFABRRRQAUUUUAFFFFABRRRQAUUUUAFFFFABRRRQAUUUUAFFFFABRRRQAUUUUAFZNa1ZNfS8O/8vPl+p9hwp/y9/7d/UsWf+uP+7V6qNn/AK4/7tXq4c8/3x+i/U83iT/f36R/JhRRRXkHghRRRQAUUUUAFFFFABRRRQAUUUUAFFFFABRRRQAUUUUAFFFFABTX6AU6mt1Wrp/EaUfjQ6iiioMwooooAKKKKACiiigAooooAKKKKACiiigAooooAKKKKACiiigAooooAKKKKACiiigAooooAKKKKACiiigAooooAKKKKACiiigAooooAKKKKACiiigAooooAKKKKACiiigArR0f/kCWH/XtH/6CKzq0dH/5Alh/17R/+givs+Df4tb0X5s/QvD/APjV/SP5su0UUV96fppna5/yDD/12h/9GrVKruuf8gw/9dof/Rq1Sr874w/3uH+H9WflPHv+/wBP/B/7cwooor5M+GCiiigAooooAKKKKACiiigAooooAKKKKACiiigAooooAKKKKACiiigAooooAKKKKACiiigAooooAKKKKACiiigAooooAKKKKACiiigAooooAKKKKACiiigAooooAKKKKACiiigAooooAKKKKACiiigAooooAKKKKACiiigAooooAKKKKACiiigAooooAKKKKACiiigAooooAKKKKACiiigAooooAKKKKACiiigAooooAKKKKACiiigAooooAKKKKACiiigAooooAKKKKACiiigArJrWrJr6Xh3/AJefL9T7DhT/AJe/9u/qWLP/AFx/3avVRs/9cf8Adq9XDnn++P0X6nm8Sf7+/SP5MKKKK8g8EKKKKACiiigAooooAKKKKACiiigAooooAKKKKACiiigAooooAKafvinU3+Orp9X5GlLq/JjqKKKgzCiiigAooooAKKKKACiiigAooooAKKKKACiiigAooooAKKKKACiiigAooooAKKKKACiiigAooooAKKKKACiiigAooooAKKKKACiiigAooooAKKKKACiiigAooooAKKKKACtHR/8AkCWH/XtH/wCgis6tHR/+QJYf9e0f/oIr7Pg3+LW9F+bP0Lw//jV/SP5su0UUV96fppna5/yDD/12h/8ARq1Sq7rn/IMP/XaH/wBGrVKvzvjD/e4f4f1Z+U8e/wC/0/8AB/7cwooor5M+GCiiigAooooAKKKKACiiigAooooAKKKKACiiigAooooAKKKKACiiigAooooAKKKKACiiigAooooAKKKKACiiigAooooAKKKKACiiigAooooAKKKKACiiigAooooAKKKKACiiigAooooAKKKKACiiigAooooAKKKKACiiigAooooAKKKKACiiigAooooAKKKKACiiigAooooAKKKKACiiigAooooAKKKKACiiigAooooAKKKKACiiigAooooAKKKKACiiigAooooAKKKKACiiigArJrWrJr6Xh3/l58v1PsOFP+Xv/bv6liz/ANcf92r1UbP/AFx/3avVw55/vj9F+p5vEn+/v0j+TCiiivIPBCiiigAooooAKKKKACiiigAooooAKKKKACiiigAooooAKKKKACmjliadTV7mrj8MmaQ+GT/rcdRRRUGYUUUUAFFFFABRRRQAUUUUAFFFFABRRRQAUUUUAFFFFABRRRQAUUUUAFFFFABRRRQAUUUUAFFFFABRRRQAUUUUAFFFFABRRRQAUUUUAFFFFABRRRQAUUUUAFFFFABRRRQAVo6P/wAgSw/69o//AEEVnVo6P/yBLD/r2j/9BFfZ8G/xa3ovzZ+heH/8av6R/Nl2iiivvT9NM7XP+QYf+u0P/o1apVd1z/kGH/rtD/6NWqVfnfGH+9w/w/qz8p49/wB/p/4P/bmFFFFfJnwwUUUUAFFFFABRRRQAUUUUAFFFFABRRRQAUUUUAFFFFABRRRQAUUUUAFFFFABRRRQAUUUUAFFFFABRRRQAUUUUAFFFFABRRRQAUUUUAFFFFABRRRQAUUUUAFFFFABRRRQAUUUUAFFFFABRRRQAUUUUAFFFFABRRRQAUUUUAFFFFABRRRQAUUUUAFFFFABRRRQAUUUUAFFFFABRRRQAUUUUAFFFFABRRRQAUUUUAFFFFABRRRQAUUUUAFFFFABRRRQAUUUUAFFFFABRRRQAUUUUAFZNa1ZNfS8O/wDLz5fqfYcKf8vf+3f1LFn/AK4/7tXqo2f+uP8Au1erhzz/AHx+i/U83iT/AH9+kfyYUUUV5B4IUUUUAFFFFABRRRQAUUUUAFFFFABRRRQAUUUUAFFFFABRRRQAU1OlKehoX7oq18D9TRfw36oWiiioMwooooAKKKKACiiigAooooAKKKKACiiigAooooAKKKKACiiigAooooAKKKKACiiigAooooAKKKKACiiigAooooAKKKKACiiigAooooAKKKKACiiigAooooAKKKKACiiigArR0f8A5Alh/wBe0f8A6CKzq0dH/wCQJYf9e0f/AKCK+z4N/i1vRfmz9C8P/wCNX9I/my7RRRX3p+mmdrn/ACDD/wBdof8A0atUqu65/wAgw/8AXaH/ANGrVKvzvjD/AHuH+H9WflPHv+/0/wDB/wC3MKKKK+TPhgooooAKKKKACiiigAooooAKKKKACiiigAooooAKKKKACiiigAooooAKKKKACiiigAooooAKKKKACiiigAooooAKKKKACiiigAooooAKKKKACiiigAooooAKKKKACiiigAooooAKKKKACiiigAooooAKKKKACiiigAooooAKKKKACiiigAooooAKKKKACiiigAooooAKKKKACiiigAooooAKKKKACiiigAooooAKKKKACiiigAooooAKKKKACiiigAooooAKKKKACiiigAooooAKya1qya+l4d/5efL9T7DhT/l7/wBu/qWLP/XH/dq9VGz/ANcf92r1cOef74/RfqebxJ/v79I/kwoooryDwQooooAKKKKACiiigAooooAKKKKACiiigAooooAKKKKACiiigBG+6aB0FDZxxS1b+Bepo/4aXmFFFFQZhRRRQAUUUUAFFFFABRRRQAUUUUAFFFFABRRRQAUUUUAFFFFABRRRQAUUUUAFFFFABRRRQAUUUUAFFFFABRRRQAUUUUAFFFFABRRRQAUUUUAFFFFABRRRQAUUUUAFFFFABWjo/wDyBLD/AK9o/wD0EVnVo6P/AMgSw/69o/8A0EV9nwb/ABa3ovzZ+heH/wDGr+kfzZdooor70/TTO1z/AJBh/wCu0P8A6NWqVXdc/wCQYf8ArtD/AOjVqlX53xh/vcP8P6s/KePf9/p/4P8A25hRRRXyZ8MFFFFABRRRQAUUUUAFFFFABRRRQAUUUUAFFFFABRRRQAUUUUAFFFFABRRRQAUUUUAFFFFABRRRQAUUUUAFFFFABRRRQAUUUUAFFFFABRRRQAUUUUAFFFFABRRRQAUUUUAFFFFABRRRQAUUUUAFFFFABRRRQAUUUUAFFFFABRRRQAUUUUAFFFFABRRRQAUUUUAFFFFABRRRQAUUUUAFFFFABRRRQAUUUUAFFFFABRRRQAUUUUAFFFFABRRRQAUUUUAFFFFABRRRQAUUUUAFFFFABWTWtWTX0vDv/Lz5fqfYcKf8vf8At39SxZ/64/7tXqo2f+uP+7V6uHPP98fov1PN4k/39+kfyYUUUV5B4IUUUUAFFFFABRRRQAUUUUAFFFFABRRRQAUUUUAFFFFABRRRQAUUUUAFFFFABRRRQAUUUUAFFFFABRRRQAUUUUAFFFFABRRRQAUUUUAFFFFABRRRQAUUUUAFFFFABRRRQAUUUUAFFFFABRRRQAUUUUAFFFFABRRRQAUUUUAFFFFABRRRQAUUUUAFFFFABWjo/wDyBLD/AK9o/wD0EVnVo6P/AMgSw/69o/8A0EV9nwb/ABa3ovzZ+heH/wDGr+kfzZdooor70/TTO1z/AJBh/wCu0P8A6NWqVXdc/wCQYf8ArtD/AOjVqlX53xh/vcP8P6s/KePf9/p/4P8A25hRRRXyZ8MFFFFABRRRQAUUUUAFFFFABRRRQAUUUUAFFFFABRRRQAUUUUAFFFFABRRRQAUUUUAFFFFABRRRQAUUUUAFFFFABRRRQAUUUUAFFFFABRRRQAUUUUAFFFFABRRRQAUUUUAFFFFABRRRQAUUUUAFFFFABRRRQAUUUUAFFFFABRRRQAUUUUAFFFFABRRRQAUUUUAFFFFABRRRQAUUUUAFFFFABRRRQAUUUUAFFFFABRRRQAUUUUAFFFFABRRRQAUUUUAFFFFABRRRQAUUUUAFFFFABWTWtWTX0vDv/Lz5fqfYcKf8vf8At39SxZ/64/7tXqo2f+uP+7V6uHPP98fov1PN4k/39+kfyYUUUV5B4IUUUUAFFFFABRRRQAUUUUAFFFFABRRRQAUUUUAFFFFABRRRQAUUUUAFFFFABRRRQAUUUUAFFFFABRRRQAUUUUAFFFFABRRRQAUUUUAFFFFABRRRQAUUUUAFFFFABRRRQAUUUUAFFFFABRRRQAUUUUAFFFFABRRRQAUUUUAFFFFABRRRQAUUUUAFFFFABWjo/wDyBLD/AK9o/wD0EVnVo6P/AMgSw/69o/8A0EV9nwb/ABa3ovzZ+heH/wDGr+kfzZdooor70/TTO1z/AJBh/wCu0P8A6NWqVXdc/wCQYf8ArtD/AOjVqlX53xh/vcP8P6s/KePf9/p/4P8A25hRRRXyZ8MFFFFABRRRQAUUUUAFFFFABRRRQAUUUUAFFFFABRRRQAUUUUAFFFFABRRRQAUUUUAFFFFABRRRQAUUUUAFFFFABRRRQAUUUUAFFFFABRRRQAUUUUAFFFFABRRRQAUUUUAFFFFABRRRQAUUUUAFFFFABRRRQAUUUUAFFFFABRRRQAUUUUAFFFFABRRRQAUUUUAFFFFABRRRQAUUUUAFFFFABRRRQAUUUUAFFFFABRRRQAUUUUAFFFFABRRRQAUUUUAFFFFABRRRQAUUUUAFFFFABWTWtWTX0vDv/Lz5fqfYcKf8vf8At39SxZ/64/7tXqo2f+uP+7V6uHPP98fov1PN4k/39+kfyYUUUV5B4IUUUUAFFFFABRRRQAUUUUAFFFFABRRRQAUUUUAFFFFABRRRQAUUUUAFFFFABRRRQAUUUUAFFFFABRRRQAUUUUAFFFFABRRRQAUUUUAFFFFABRRRQAUUUUAFFFFABRRRQAUUUUAFFFFABRRRQAUUUUAFFFFABRRRQAUUUUAFFFFABRRRQAUUUUAFFFFABWjo/wDyBLD/AK9o/wD0EVnVo6P/AMgSw/69o/8A0EV9nwb/ABa3ovzZ+heH/wDGr+kfzZdooor70/TTO1z/AJBh/wCu0P8A6NWqVXdc/wCQYf8ArtD/AOjVqlX53xh/vcP8P6s/KePf9/p/4P8A25hRRRXyZ8MFFFFABRRRQAUUUUAFFFFABRRRQAUUUUAFFFFABRRRQAUUUUAFFFFABRRRQAUUUUAFFFFABRRRQAUUUUAFFFFABRRRQAUUUUAFFFFABRRRQAUUUUAFFFFABRRRQAUUUUAFFFFABRRRQAUUUUAFFFFABRRRQAUUUUAFFFFABRRRQAUUUUAFFFFABRRRQAUUUUAFFFFABRRRQAUUUUAFFFFABRRRQAUUUUAFFFFABRRRQAUUUUAFFFFABRRRQAUUUUAFFFFABRRRQAUUUhIAJPQUDScmkt2LRTUdZFytOoLq0p0punUVpLdPdBWTWtWTX0vDv/Lz5fqfWcKf8vf+3f1LFn/rj/u1eqjZ/wCuP+7V6uHPP98fov1PN4k/39+kfyYUUUV5B4IUUUUAFFFFABRRRQAUUUUAFFFFABRRRQAUUUUAFFFFABRRRQAUUUUAFFFFABRRRQAUUUUAFFFFABRRRQAUUUUAFFFFABRRRQAUUUUAFFFFABRRRQAUUUUAFFFFABRRRQAUUUUAFFFFABRRRQAUUUUAFFFFABRRRQAUUUUAFFFFABRRRQAUUUUAFFFFABWjo/8AyBLD/r2j/wDQRWdT9N1a1t9Ks4ZRcLJHAiMPsshwQoB/hr67hKvSo1KrqyUbpbtLq+593wNiaGHq13Wmo3Ud2l1fc26Kzv7csfW4/wDAWX/4mj+3LH1uP/AWX/4mvtv7Qwn/AD9j/wCBL/M/Rf7VwH/P+H/gUf8AMNc/5Bh/67Q/+jVqlTtS1K2u7MQwidpGliIBt5FGBIpPJXHQGm18FxXWp1sVCVOSkuXo0+r7H5lxviKNfG05UZqS5ejT6vsFFFFfMHxgUUUUAFFFFABRRRQAUUUUAFFFFABRRRQAUUUUAFFFFABRRRQAUUUUAFFFFABRRRQAUUUUAFFFFABRRRQAUUUUAFFFFABRRRQAUUUUAFFFFABRRRQAUUUUAFFFFABRRRQAUUUUAFFFFABRRRQAUUUUAFFFFABRRRQAUUUUAFFFFABRRRQAUUUUAFFFFABRRRQAUUUUAFFFFABRRRQAUUUUAFFFFABRRRQAUUUUAFFFFABRRRQAUUUUAFFFFABRRRQAUUUUAFFFFABUNywEW3u1TVVbEl2BxgcflVRWp73DuHjUxnt6nwUk5v8A7d2XzZPGuyNV9qfRRUnjVq0q1WVWe8m2/m7hWTWtWTX0vDv/AC8+X6n1fCn/AC9/7d/UsWf+uP8Au1eqjZ/64/7tXq4c8/3x+i/U83iT/f36R/JhRRRXkHghRRRQAUUUUAFFFFABRRRQAUUUUAFFFFABRRRQAUUUUAFFFFABRRRQAUUUUAFFFFABRRRQAUUUUAFFFFABRRRQAUUUUAFFFFABRRRQAUUUUAFFFFABRRRQAUUUUAFFFFABRRRQAUUUUAFFFFABRRRQAUUUUAFFFFABRRRQAUUUUAFFFFABRRRQAUUUUAFFFFABRRRQAUUUUAFFFFABRRRQAUUUUAFFFFABRRRQAUUUUAFFFFABRRRQAUUUUAFFFFABRRRQAUUUUAFFFFABRRRQAUUUUAFFFFABRRRQAUUUUAFFFFABRRRQAUUUUAFFFFABRRRQAUUUUAFFFFABRRRQAUUUUAFFFFABRRRQAUUUUAFFFFABRRRQAUUUUAFFFFABRRRQAUUUUAFFFFABRRRQAUUUUAFFFFABRRRQAUUUUAFFFFABRRRQAUUUUAFFFFABRRRQAUUUUAFFFFABRRRQAUUUUAIx2qW9Bmq9qMlnP0zT7lsRY9TS2wxCD6nNUtIn0+Hi8NkFWt1qzUV6LV/j/XaWiiipPmArJrWrJr6Xh3/l58v1PsOFP+Xv/bv6liz/ANcf92r1UbP/AFx/3avVw55/vj9F+p5vEn+/v0j+TCiiivIPBCiiigAooooAKKKKACiiigAooooAKKKKACiiigAooooAKKKKACiiigAooooAKKKKACiiigAooooAKKKKACiiigAooooAKKKKACiiigAooooAKKKKACiiigAooooAKKKKACiiigAooooAKKKKACiiigAooooAKKKKACiiigAooooAKKKKACiiigAooooAKKKKACiiigAooooAKKKKACiiigAooooAKKKKACiiigAooooAKKKKACiiigAooooAKKKKACiiigAooooAKKKKACiiigAooooAKKKKACiiigAooooAKKKKACiiigAooooAKKKKACiiigAooooAKKKKACiiigAooooAKKKKACiiigAooooAKKKKACiiigAooooAKKKKACiiigAooooAKKKKACiiigAooooAKKKKACiiigAooooAKKKKACiiigAooooAKKKKACiiigAooooAKKKKACo3aRCSFDL2A61JRQjow1eNGd5wU0907/g000/NEccyydOD6GpKjaFGOcYPqKjLywn5/nT1qrJ7HqfUMNj5v+z5csv5JvX0jLaXknZ+ol0MlAPerCjaoA7DFVZZlaRCOi81boldJI6s5p4jD5dg8PVjy2U38+b/AC/MKKKKk+ZCsmtasmvpeHf+Xny/U+w4U/5e/wDbv6liz/1x/wB2r1UbP/XH/dq9XDnn++P0X6nm8Sf7+/SP5MKKKK8g8EKKKKACiiigAooooAKKKKACiiigAooooAKKKKACiiigAooooAKKKKACiiigAooooAKKKKACiiigAooooAKKKKACiiigAooooAKKKKACiiigAooooAKKKKACiiigAooooAKKKKACiiigAooooAKKKKACiiigAooooAKKKKACiiigAooooAKKKKACiiigAooooAKKKKACiiigAooooAKKKKACiiigAooooAKKKKACiiigAooooAKKKKACiiigAooooAKKKKACiiigAooooAKKKKACiiigAooooAKKKKACiiigAooooAKKKKACiiigAooooAKKKKACiiigAooooAKKKKACiiigAooooAKKKKACiiigAooooAKKKKACiiigAooooAKKKKACiiigAooooAKKKKACiiigAooooAKKKKACiiigAooooAKKKKACiiigAooooAKKKKACiiigAooooAKKKKACgjIwaKRjtUk9hmgqClKSUd+nr0/EpeWxaQIOAcEe3+RU8Mxz5cmQ3YmltgfKyTnJzUjIrMGI5HQ1cpdGfZZvnFGrUqYHFw5lDRTj8SkopX13Tad/Lva46iiioPiwrJrWrJr6Xh3/AJefL9T7DhT/AJe/9u/qWLP/AFx/3avVRs/9cf8Adq9XDnn++P0X6nm8Sf7+/SP5MKKKK8g8EKKKKACiiigAooooAKKKKACiiigAooooAKKKKACiiigAooooAKKKKACiiigAooooAKKKKACiiigAooooAKKKKACiiigAooooAKKKKACiiigAooooAKKKKACiiigAooooAKKKKACiiigAooooAKKKKACiiigAooooAKKKKACiiigAooooAKKKKACiiigAooooAKKKKACiiigAooooAKKKKACiiigAooooAKKKKACiiigAooooAKKKKACiiigAooooAKKKKACiiigAooooAKKKKACiiigAooooAKKn0zTxquspZvczQR/Z5JSYduSQyAfeU8fMa3/+ELt/+gpqP/kH/wCN1jUxFKk+Wb19Ge5guH8XjaKr0rWd93bb5HM0V03/AAhdv/0FNR/8g/8Axuj/AIQu3/6Cmo/+Qf8A43Wf12h/N+DOv/VLMP7v3/8AAOZop1zbfYdUvrMTSTJBKqo8m3dgxo3O0AdWPam10ppq6PnsRQlh6sqM94uzCiiimYhRRRQAUUUUAFFFFABRRRQAUUUUAFFFFABRRRQAUUUUAFFFFABRRRQAUUUUAFFFFABRRRQAUUUUAFFFFABRRRQAUUUUAFFFFABRRRQAUUUUAFFFFABRRRQAUUUUAFFFFABRRRQAUUUUAFFFFABRRRQAUUUUAFFFFABUVycQkepxUtQP+8uFTqq8mnHc9bJIL65GtP4ad5v0jr+Lsl6kyjaoX0GKWiikeXObnJzlu9fv1/UKKKKCQrJrWrJr6Xh3/l58v1PsOFP+Xv8A27+pYs/9cf8Adq9VGz/1x/3avVw55/vj9F+p5vEn+/v0j+TCiiivIPBCiiigAooooAKKKKACiiigAooooAKKKKACiiigAooooAKKKKACiiigAooooAKKKKACiiigAooooAKKKKACiiigAooooAKKKKACiiigAooooAKKKKACiiigAooooAKKKKACiiigAooooAKKKKACiiigAooooAKKKKACiiigAooooAKKKKACiiigAooooAKKKKACiiigAooooAKKKKACiiigAooooAKKKKACiiigAooooAKKKKACiiigAooooAKKKKACiiigAooooAKKKKACiiigAooooAKKKKANPwx/yM6f9eU3/ocVdzXDeGP+RnT/AK8pv/Q4q7mvHzD+MvRfqfqPC/8AyLYesvzCiiiuA+hPPdX/AORk1b/rsn/omOqtWtX/AORk1b/rsn/omOqtfSU/gj6L8kfj2b/7/W/xMKKKKs84KKKKACiiigAooooAKKKKACiiigAooooAKKKKACiiigAooooAKKKKACiiigAooooAKKKKACiiigAooooAKKKKACiiigAooooAKKKKACiiigAooooAKKKKACiiigAooooAKKKKACiiigAooooAKKKKACiiigAooooACcDJqG3G4vIf4jxS3DFY8Dq3FPRQiBR2p7I9mn/s2WSn9qs7L/DDWX3yaXnYdRRRSPGCiiigArJrWrJr6Xh3/l58v1PsOFP+Xv8A27+pYs/9cf8Adq9VGz/1x/3avVw55/vj9F+p5vEn+/v0j+TCiiivIPBCiiigAooooAKKKKACiiigAooooAKKKKACiiigAooooAKKKKACiiigAooooAKKKKACiiigAooooAKKKKACiiigAooooAKKKKACiiigAooooAKKKKACiiigAooooAKKKKACiiigAooooAKKKKACiiigAooooAKKKKACiiigAooooAKKKKACiiigAooooAKKKKACiiigAooooAKKKKACiiigAooooAKKKKACiiigAooooAKKKKACiiigAooooAKKKKACiiigAooooAKKKKACiiigAooooAKKKKANPwx/yM6f9eU3/ocVdzXDeGP+RnT/AK8pv/Q4q7mvHzD+MvRfqfqPC/8AyLYesvzCiiiuA+hPPdX/AORk1b/rsn/omOqtWtX/AORk1b/rsn/omOqtfSU/gj6L8kfj2b/7/W/xMKKKKs84KKKKACiiigAooooAKKKKACiiigAooooAKKKKACiiigAooooAKKKKACiiigAooooAKKKKACiiigAooooAKKKKACiiigAooooAKKKKACiiigAooooAKKKKACiiigAooooAKKKKACiiigAooooAKKKKACiiigAooprsEQse1BdOnKrNU4K7bsvVkR/eXIHVU6/Wp6jhXCbj95uSakpvsejm1WLqxw9P4aS5F5tfE/nK/wAkgooopHlhRRRQAVk1rVk19Lw7/wAvPl+p9hwp/wAvf+3f1LFn/rj/ALtXqo2f+uP+7V6uHPP98fov1PN4k/39+kfyYUUUV5B4IUUUUAFFFFABRRRQAUUUUAFFFFABRRRQAUUUUAFFFFABRRRQAUUUUAFFFFABRRRQAUUUUAFFFFABRRRQAUUUUAFFFFABRRRQAUUUUAFFFFABRRRQAUUUUAFFFFABRRRQAUUUUAFFFFABRRRQAUUUUAFFFFABRRRQAUUUUAFFFFABRRRQAUUUUAFFFFABRRRQAUUUUAFFFFABRRRQAUUUUAFFFFABRRRQAUUUUAFFFFABRRRQAUUUUAFFFFABRRRQAUUUUAFFFFABRRRQAUUUUAFFFFABRRRQBp+GP+RnT/rym/8AQ4q7muG8Mf8AIzp/15Tf+hxV3NePmH8Zei/U/UeF/wDkWw9ZfmFFFFcB9Cee6v8A8jJq3/XZP/RMdVatav8A8jJq3/XZP/RMdVa+kp/BH0X5I/Hs3/3+t/iYUUUVZ5wUUUUAFFFFABRRRQAUUUUAFFFFABRRRQAUUUUAFFFFABRRRQAUUUUAFFFFABRRRQAUUUUAFFFFABRRRQAUUUUAFFFFABRRRQAUUUUAFFFFABRRRQAUUUUAFFFFABRRRQAUUUUAFFFFABRRRQAUUUUAFFFFABUMo8yVY+w5anyuI0Ld+31plshCFjnLVS0Vz3MupSwuGnmUnZr3YecmrNr/AApt+tuxNRRRUnhhRRRQAUUUUAFZNa1ZNfS8O/8ALz5fqfYcKf8AL3/t39SxZ/64/wC7V6qNn/rj/u1erhzz/fH6L9TzeJP9/fpH8mFFFFeQeCFFFFABRRRQAUUUUAFFFFABRRRQAUUUUAFFFFABRRRQAUUUUAFFFFABRRRQAUUUUAFFFFABRRRQAUUUUAFFFFABRRRQAUUUUAFFFFABRRRQAUUUUAFFFFABRRRQAUUUUAFFFFABRRRQAUUUUAFFFFABRRRQAUUUUAFFFFABRRRQAUUUUAFFFFABRRRQAUUUUAFFFFABRRRQAUUUUAFFFFABRRRQAUUUUAFFFFABRRRQAUUUUAFFFFABRRRQAUUUUAFFFFABRRRQAUUUUAFFFFABRRRQAUUUUAafhj/kZ0/68pv/AEOKu5rhvDH/ACM6f9eU3/ocVdzXj5h/GXov1P1Hhf8A5FsPWX5hRRRXAfQnnur/APIyat/12T/0THVWrWr/APIyat/12T/0THVWvpKfwR9F+SPx7N/9/rf4mFFFFWecFFFFABRRRQAUUUUAFFFFABRRRQAUUUUAFFFFABRRRQAUUUUAFFFFABRRRQAUUUUAFFFFABRRRQAUUUUAFFFFABRRRQAUUUUAFFFFABRRRQAUUUUAFFFFABRRRQAUUUUAFFFFABRRRQAUUUUAFFFFABRRUU8mxMD7x6UJX0OnB4Wpi68KFJe9J2/4Polq/QY6+dPjPyp1qxUcCbIgD1PJqSm30O3NsQpVI4Wk706Xux8/5pf9vO/ysFFFFI8kKKKKACiiigArJrWrJr6Xh3/l58v1PsOFP+Xv/bv6liz/ANcf92r1UbP/AFx/3avVw55/vj9F+p5vEn+/v0j+TCiiivIPBCiiigAooooAKKKKACiiigAooooAKKKKACiiigAooooAKKKKACiiigAooooAKKKKACiiigAooooAKKKKACiiigAooooAKKKKACiiigAooooAKKKKACiiigAooooAKKKKACiiigAooooAKKKKACiiigAooooAKKKKACiiigAooooAKKKKACiiigAooooAKKKKACiiigAooooAKKKKACiiigAooooAKKKKACiiigAooooAKKKKACiiigAooooAKKKKACiiigAooooAKKKKACiiigAooooAKKKKANPwx/yM6f8AXlN/6HFXc1w3hj/kZ0/68pv/AEOKu5rx8w/jL0X6n6jwv/yLYesvzCiiiuA+hPPdX/5GTVv+uyf+iY6q1a1f/kZNW/67J/6JjqrX0lP4I+i/JH49m/8Av9b/ABMKKKKs84KKKKACiiigAooooAKKKKACiiigAooooAKKKKACiiigAooooAKKKKACiiigAooooAKKKKACiiigAooooAKKKKACiiigAooooAKKKKACiiigAooooAKKKKACiiigAooooAKKKKACiiigAooooAKKKKAAnAyarRgzTeYfur0pZmMr+Un4mpkQIu1RxVbI+kgv7JwTqS/j1lZLrGD3b7Oa0XkOoooqT5sKKKKACiiigAooooAKya1qya+l4d/5efL9T7DhT/l7/wBu/qWLP/XH/dq9VGz/ANcf92r1cOef74/RfqebxJ/v79I/kwoooryDwQooooAKKKKACiiigAooooAKKKKACiiigAooooAKKKKACiiigAooooAKKKKACiiigAooooAKKKKACiiigAooooAKKKKACiiigAooooAKKKKACiiigAooooAKKKKACiiigAooooAKKKKACiiigAooooAKKKKACiiigAooooAKKKKACiiigAooooAKKKKACiiigAooooAKKKKACiiigAooooAKKKKACiiigAooooAKKKKACiiigAooooAKKKKACiiigAooooAKKKKACiiigAooooAKKKKACiiigDT8Mf8AIzp/15Tf+hxV3NcN4Y/5GdP+vKb/ANDirua8fMP4y9F+p+o8L/8AIth6y/MKKKK4D6E891f/AJGTVv8Arsn/AKJjqrVrV/8AkZNW/wCuyf8AomOqtfSU/gj6L8kfj2b/AO/1v8TCiiirPOCiiigAooooAKKKKACiiigAooooAKKKKACiiigAooooAKKKKACiiigAooooAKKKKACiiigAooooAKKKKACiiigAooooAKKKKACiiigAooooAKKKKACiiigAooooAKKKKACiiigAooooAKKKKACoZptnyry5/SnyP5aFvyqOBCT5rnLHpVJdWe5lmFo06MswxavCLtGP8897f4VvL7h0MRQFm5Y9alooqW7nmYzF1cZWlXrPV/cuyXZJaIKKKKDmCiiigAooooAKKKKACsmtasmvpeHf+Xny/U+w4U/5e/8Abv6liz/1x/3avVRs/wDXH/dq9XDnn++P0X6nm8Sf7+/SP5MKKKK8g8Eraj/yC7v/AK4v/wCgmvPa9C1H/kF3f/XF/wD0E1ieEPAPiDxvPKuj2qmGHiW5mbZEh9Ce59gCa9XLvhl6nt5V8EvX9DmKK9A8RfBzxV4d0mTVGWz1CzhBM0lhMZPLA6kggHA74BxXn9egeqFFej6N8EfF2r6ZFqEgsNNimAMS385jdwenyhTjPocGuY8V+C9c8F36WmtWnlGQExSo26OUDrtb+h5GRxQBz9FFOjjkmlSKJGeR2CqijJYnoAO5oAbRXp9n8BfGNzZxTTPpllLKMpbXNyRKfbCqRn2zXC+IfDmq+FtWfTdYtGtrlRuAJBDqejKRwR7igDKorr/Cnwy8U+MYPtWmWASyyR9ruX8uM464J5b8Aa3774D+MLaykubV9M1LyxlorK5LP+TKoJ9s0AeY0U50eKRo5EZHUlWVhggjqCKbQAUV2PhX4X+KfF9t9rsLJIbHn/S7t/LjOPTu31AIrQ8QfBrxZoGlSants9Rs4lLSyWExk2KOpIIBIHfAOKAPPqKK9H0b4I+LtX0yLUJBYabFMAYlv5zG7g9PlCnGfQ4NAHnFFdB4r8F654Lv0tNatPKMgJilRt0coHXa39DyMjiufoAKKdHHJNKkUSM8jsFVFGSxPQAdzXptn8BfGNzZxTTPpllLKMpbXNyRKfbCqRn2zQB5hRWr4h8Oar4W1Z9N1i0a2uVG4AkEOp6MpHBHuKyqACiiigAruPD/APyA7f8A4F/6Ea4eu48P/wDIDt/+Bf8AoRrhzD+GvU83NP4K9f8AM06KKK8g8EKKKKACiiigAooooAKKKKACiiigAooooAKKKKACiiigAooooAKKKKACiiigAooooAKKKKACiiigAooooAKKKKACiiigAooooAKKKKACiiigAooooAKKKKACiiigAooooAKKKKACiiigAooooAKKKKACiiigAooooAKKKKACiiigAooooAKKKKACiiigAooooAKKKKACiiigAooooA0/DH/Izp/15Tf+hxV3NcN4Y/5GdP8Arym/9Dirua8fMP4y9F+p+o8L/wDIth6y/MKKKK4D6E891f8A5GTVv+uyf+iY6q1a1f8A5GTVv+uyf+iY6q19JT+CPovyR+PZv/v9b/EwoooqzzgooooAKKKKACiiigAooooAKKKKACiiigAooooAKKKKACiiigAooooAKKKKACiiigAooooAKKKKACiiigAooooAKKKKACiiigAooooAKKKKACiiigAooooAKKKKACiiigAooooAKKKKACkZgqlj0FDMFGWIAqt81y/cRimlc9bLct+s3r13yUYfFL9F3k9kltuxVVrh978IOgqyBgYFIAFAAGAKWhu5GZ5i8ZNRguWlHSEeiX+b6sKKKKR5gUUUUAFFFFABRRRQAUUUUAFZNa1ZNfS8O/8ALz5fqfYcKf8AL3/t39SxZ/64/wC7V6qNn/rj/u1erhzz/fH6L9TzeJP9/fpH8mFFFFeQeCVtR/5Bd3/1xf8A9BNdR41uJPCXwM8JaHYu0DawhurpkOGkBUOVPtmRB9FArl9R/wCQXd/9cX/9BNdF8Yj9q+Hvw5vI+Yv7PKE+jGOHj/x0/lXq5d8MvU9vKvgl6/oYnwQ1+40v4iWen+YxsdTDW9xCTlWO0lTjpnIA+hPrUujeDrVP2gl8OtEDZQajJKsbDI8pAZVU+owAKwvhTC8/xR8PIgJIug/Hoqlj+gNejabewn9q64fI2vNJDn/aFuR/MYr0D1Tg/i/4gutd+I+rJNM7W9jM1pBFn5UCfK2B7sCTXW6XNJ4y/Z21e3v3ae70C4EltK5yyxgA4z1+6ZB9MeledeP4Xg+IniRHBB/tO4bn0MjEfoRXofw3/wBG+CHj66k4ikQwqT03eXj/ANnWgDA+GHw+0bxtYa3PqusPYtYxq0YRlAAIYl33dVGB0x9asfAXR4dV+JcU06B10+2kulBHG/Kov5F8j6V5hXsP7OUyJ471GFjhpdNfb7kSR/5/CgDzrxZ4iu/Eviu/1e4nd2lnYxZb/VoD8ir6ADFemeLpH8X/AAB0LxHeMZdT0y5NrLO3LOhJTk9ycRnJ759a8amieCeSGQYeNirD0IODXscf+i/sszebx9q1H91nviUdP++GoA8q/t7Vhoo0YajcjTQ5k+yiQiPcepI79P5+prvPglpuvN49s9QsUuIdNhDNe3BysJj2n5WPQ5OMD8e2a4zwt4o1Hwfraatpfk/akRkHnJuXDDB4yK9Q0P4wz+M9RtfDXjLSbS607UJlty9q0kLIznaCcNyMken9KAPP/H13p+r/ABK1m40+WMWU94dsw+6egZ/cE5Ofetr4q+AdH8Cz6Smk6rJe/bIXeRZWUsuNuGG0D5Wycf7p5NY3xG8KR+DPG17o9vK0lqoWWBn+9sYZAPuORnvjNcpQBsXnirXb/Q7PRbnU7iTTbQbYbfdhQM55/vY7ZzgcDFek/s7XF/8A8Jre2sbudPayd7mMn5MhlCkjpnkj6Zry3RdG1DxBq1vpemW7XF3O21EX9ST2A6k9q9X8Sappvwp8JT+DNBuEufEN+o/ta/j/AOWQI/1anscEgegJPBPAByfgPR7HXvjFY2MaK+nm+kmVcZUxx7nA+hCgfjS/F/xBda78R9WSaZ2t7GZrSCLPyoE+VsD3YEmp/gjOkHxZ0fecCQTICfUxPisDx/C8HxE8SI4IP9p3Dc+hkYj9CKAPRdLmk8Zfs7avb37tPd6BcCS2lc5ZYwAcZ6/dMg+mPSvF69m+G/8Ao3wQ8fXUnEUiGFSem7y8f+zrXjNAHp/wF0eHVfiVFPOgddPtnulBHG/Kov5F8j6VxnizxFd+JfFd/q9xO7tLOxiy3+rQH5FX0AGK9F/ZymRPHeowscNLpr7fciSP/P4V5DNE8E8kMgw8bFWHoQcGgD2XxdI/i/4A6F4jvGMup6Zcm1lnblnQkpye5OIzk98+teL17NH/AKL+yzN5vH2rUf3We+JR0/74avGaACiiigAruPD/APyA7f8A4F/6Ea4eu48P/wDIDt/+Bf8AoRrhzD+GvU83NP4K9f8AM06KKK8g8EKKKKACiiigAooooAKKKKACiiigAooooAKKKKACiiigAooooAKKKKACiiigAooooAKKKKACiiigAooooAKKKKACiiigAooooAKKKKACiiigAooooAKKKKACiiigAooooAKKKKACiiigAooooAKKKKACiiigAooooAKKKKACiiigAooooAKKKKACiiigAooooAKKKKACiiigAooooA0/DH/Izp/15Tf+hxV3NcN4Y/5GdP8Arym/9Dirua8fMP4y9F+p+o8L/wDIth6y/MKKKK4D6E891f8A5GTVv+uyf+iY6q1a1f8A5GTVv+uyf+iY6q19JT+CPovyR+PZv/v9b/EwoooqzzgooooAKKKKACiiigAooooAKKKKACiiigAooooAKKKKACiiigAooooAKKKKACiiigAooooAKKKKACiiigAooooAKKKKACiiigAooooAKKKKACiiigAooooAKKKKACiiigAooooAKQkKCScAUjuEXcx4qDD3JBPyoO1NK+p6uX5Z7eP1ivLkoxesv0iusn+HURQbiUsc7B0q0BgYFIAFAAGAKWhu4szzH63OMKa5aUFaMey7v+892woppkQHBdfzo8xP76/nSszjWExDV1Tl/wCAy/8AkR1FIGVvusD9DS0GM4Sg+Was/PT87BRRRQSFNkkjhQvI6og6sxwBUV1I6RBIziWVtiH0J6n8ACcd8YpY7K2icSLCplH/AC0b5n/76PNNJWuz6rh7hWvnMZVVNQhF2vZu7629PMcs8Tw+csqGLBO8MNuB15pILiG6iEkEiyIe6np7H0NZmqWjSPcMAIPMjCeeEyMdSGI5GcAZIIAHXnFc8F1DRZlmXIjYghlO6OQc46cHjPvXVTw0akdJa/1/X6HNmOQvBYmeGcndPRtW5l3X/AbO5p8cUkzFYo3dgrMQoycAEk/QAEn2FYemeIIL0rFOBDOSABn5XPse30Pt1ro9N1S80a/i1DT5vJuos7JNobGQVPBBHQmsHSlGajPQ8SVCUKihUVirWTXpkHjrS9XlC+LvDtreZ2lryzXyrhiqkZYgjfnjjKgehwANn/hTeka7/wATTQfEXl6XdfvLdPs/m7B3XcXB4ORgjIxg8gmvosncMPz8z0dv1Pq8gdPC+0c5aO3R+Z5FZ/64/wC7V6qNn/rj/u1ergzz/fH6L9TzOJP9/fpH8mFFFFeQeCVtR/5Bd3/1xf8A9BNbHhbxB4c8W/D1PA3irUf7Lns5fN03UHXKLnPyt9NzDkgEEcgisyeJZ4JIWJCyKVJHXBGKx/8AhFbH/nrcf99L/hXdhMRClFqR6eAxVOhGSn1PQfDtr4I+E8lx4hk8U2fiHV1haOytrHBClhjJILYJHGTjAJ4JxXktv4j1C38WJ4kEgbUFvPthY9GfduOfY8/hWz/witj/AM9bj/vpf8KP+EVsf+etx/30v+Fdf16j5/cd39pYfu/uO+8Q6T4G+J1+viS08X2egX1wi/bbO/AGHAAyCWXPAHTIPXg5rL8beJvDug+AIPAPhK9OoRvL52o34GFlYEHA9eQvTgBQMnmuV/4RWx/563H/AH0v+FH/AAitj/z1uP8Avpf8KPr1Hz+4P7Sw/d/cbHww0jwFqdhrbeMr1LeaKNTbb7gxEDDbmQA/O2cfLz9K5fwV4nm8HeLbHW4kMiwORLGDjzI2GGH1wePfFaH/AAitj/z1uP8Avpf8KP8AhFbH/nrcf99L/hR9eo+f3B/aWH7v7juNY8G+APF2sTa/pnj2w0u2vHM89ndqqyRueWChmU9SeMY9CRWL8TvGGi3ejaR4N8Ku8miaUNzXDAjz5cEZHT+8xJxyWOOAM4P/AAitj/z1uP8Avpf8KP8AhFbH/nrcf99L/hR9eo+f3B/aWH7v7jZ0LwV4I8Q+H7Ob/hOIdI1bZ/pVvfINgbJ+6xK8Yx3aug0Lwr8P/A2qwa9rPjmy1d7NxNBaaeofdIvKk7WbODg44GQMnFcN/wAIrY/89bj/AL6X/Cj/AIRWx/563H/fS/4UfXqPn9wf2lh+7+4q+MvFH/CaeNrrWblGt7eeRURByY4lwB+OBk+5Nb/xV0nwNpc+kjwXeRziSFzdCK4Myj7uwkknDH5sjtgcCsr/AIRWx/563H/fS/4Uf8IrY/8APW4/76X/AAo+vUfP7g/tLD939x654O07wz4a8B7dF8aeH7LxHqUCG5v7q6iLwBhkxou75SOnPfk9ABxcnwo0OaV5Zfin4beR2LM7XCEsT1JPmcmuX/4RWx/563H/AH0v+FH/AAitj/z1uP8Avpf8KPr1Hz+4P7Sw/d/cUJy3grxukml6lbag2m3CSQ3duQYpSMNxgnI7Hn1r03xDpPgb4nX6+JLTxfZ6BfXCL9ts78AYcADIJZc8AdMg9eDmuB/4RWx/563H/fS/4Uf8IrY/89bj/vpf8KPr1Hz+4P7Sw/d/cdV428TeHdB8AQeAfCV6dQjeXztRvwMLKwIOB68henACgZPNZvww0jwFqdhrbeMr1LeaKNTbb7gxEDDbmQA/O2cfLz9Kx/8AhFbH/nrcf99L/hR/witj/wA9bj/vpf8ACj69R8/uD+0sP3f3Gf4K8TzeDvFtjrcSGRYHIljBx5kbDDD64PHvivSNY8G+APF2sTa/pnj2w0u2vHM89ndqqyRueWChmU9SeMY9CRXD/wDCK2P/AD1uP++l/wAKP+EVsf8Anrcf99L/AIUfXqPn9wf2lh+7+43vid4w0W70bSPBvhV3k0TShua4YEefLgjI6f3mJOOSxxwBnzKuv/4RWx/563H/AH0v+FH/AAitj/z1uP8Avpf8KPr1Hz+4P7Sw/d/cchRXX/8ACK2P/PW4/wC+l/wo/wCEVsf+etx/30v+FH16j5/cH9pYfu/uOQruPD//ACA7f/gX/oRqt/witj/z1uP++l/wrVs7WOytUt4yxRM4LHnk5/rXNi8TTqwUY9zjx2LpVqajDe5PRRRXnnlBRRRQAUUUUAFFFFABRRRQAUUUUAFFFFABRRRQAUUUUAFFFFABRRRQAUUUUAFFFFABRRRQAUUUUAFFFFABRRRQAUUUUAFFFFABRRRQAUUUUAFFFFABRRRQAUUUUAFFFFABRRRQAUUUUAFFFFABRRRQAUUUUAFFFFABRRRQAUUUUAFFFFABRRRQAUUUUAFFFFABRRRQAUUUUAFFFFAGn4Y/5GdP+vKb/wBDirua4bwx/wAjOn/XlN/6HFXc14+Yfxl6L9T9R4X/AORbD1l+YUUUVwH0J57q/wDyMmrf9dk/9Ex1Vq1q/wDyMmrf9dk/9Ex1Vr6Sn8EfRfkj8ezf/f63+JhRRRVnnBRRRQAUUUUAFFFFABRRRQAUUUUAFFFFABRRRQAUUUUAFFFFABRRRQAUUUUAFFFFABRRRQAUUUUAFFFFABRRRQAUUUUAFFFFABRRRQAUUUUAFFFFABRRRQAUUUUAFFFFABTJJVjGT17ClkLBCUAJ9KhFvu+aRjuPpTSW7PYy3CYNr6xjqloJ25VrKT9FsrdfktSPf5sgL5I7KvWp/wB8RwqIOgBqRVCjCgAUtNyOvH55SrOMKFFKENIqWqS8opqN31b5m+/eLy3P3pTj2GKPIQnLFm+pqWilzM87+1sYtIT5f8KjH/0mKf4kX2eL+7+po+zxf3f1NS0UczF/a+Yf8/5/+BP/ADIvs8X939TR5OPuO6+gzxUtFHMxrN8f9qq5LtL3l90k0RbZgeHVvqMUb5FPzx5HqtS1Xu2YqsEbESTHbkHlV/ib246H1IprV2N8LiJYytDDuhCbk0lZcr184tWt/h2WolsftMv2vBCbSkQPpnlvxwMewB71apFVUUKqhVUYAAwAKWpk7s/esty+ll+FhhqK0j+e7f3/AKBVSawjkDGNUQucsrLuR/dlyAT79eBz2q3RRGTjqjXF4Ohi6bpYiClF9/06p+aaZy11oVusqs+60XcN2W3RkcZw/wDCcf3hyTgVuwXKSZiSPy0C5i9GUHGR7cduxU96tO6xoXcgKOpNVLlQkUVzA0Qjt1YkdAVxjGRnAHXGDyBXR7aVS3N0Pz/NuDaMYVJ4eo5SjHmjBtX311um1ZNXe3dlgKTWjo3jzxN4f08WGmao8NqrFljaJJApPXG5TgZ5wOMknuaoqSyglSpIyVPUe3FZVe/kb9r7RTWmn6nzPDcvbe1U0mvd/UsWf+uP+7V6qNn/AK4/7tXq8/PP98fov1PL4k/39+kfyYUUUV5B4IUUUUAFFFFABRRRQAUUUUAFFFFABRRRQAUUUUAFFFFABRRRQAUUUUAFFFFABRRRQAUUUUAFFFFABRRRQAUUUUAFFFFABRRRQAUUUUAFFFFABRRRQAUUUUAFFFFABRRRQAUUUUAFFFFABRRRQAUUUUAFFFFABRRRQAUUUUAFFFFABRRRQAUUUUAFFFFABRRRQAUUUUAFFFFABRRRQAUUUUAFFFFABRRRQAUUUUAFFFFABRRRQAUUUUAFFFFABRRRQAUUUUAFFFFABRRRQAUUUUAFFFFABRRRQBp+GP8AkZ0/68pv/Q4q7muG8Mf8jOn/AF5Tf+hxV3NePmH8Zei/U/UeF/8AkWw9ZfmFFFFcB9Cee6v/AMjJq3/XZP8A0THVWrWr/wDIyat/12T/ANEx1Vr6Sn8EfRfkj8ezf/f63+JhRRRVnnBRRRQAUUUUAFFFFABRRRQAUUUUAFFFFABRRRQAUUUUAFFFFABRRRQAUUUUAFFFFABRRRQAUUUUAFFFFABRRRQAUUUUAFFFFABRRRQAUUUUAFFFFABRRRQAUUUUAFFFFABRRRQAUUUUAFFFFABRRRQAUUUUAFVrn5bi0foBKVZvYqeD7Ftv44qzTZI1mieNxlHUqw9QacXZnZl+LeDxdPEpX5JJ22vboNNxCLgW5kUTFdwQnBI56evQ1LXK6hqcljeNbtELiJjul8+LHmnPBHbgKACBjIJxWjp+pR3Cr9mnLNjLWszZf32sevc857fdreeGkoqS2/r7j9dwvG1CdVrEU3Gm37st9OnMt16q6NmioYrmOZigJSUDJjcYYe+O49xke9SSOY42YKWIHAA61z2adj7GGJo1KXt6clKFr3Wunyv/AJ+RRvzLO4tbeN5GCtI6oCSFUFieOwAJPoBmmwW43LB2RlkmPq3VV49Dhvy7NWt4L8V3/hHUZtWto4plciOWF0UGfJ+4HwWTJI6cZ2kggYr046Z4S+Iq3N1phGkeIpTveCRwFnk2gk4/iHysNy4PVmB4z2qmuTlg9T8izfMK9aU8S1adeNoXeqpptOy7yStf/FY8srJrr9e8K6x4bmK6jZukRbalwnzRP1xhh3O0nBwcdq5CvZ4fi4uomu36nJwtGUXWUlZ+7+pYs/8AXH/dq9WWkjRnKnB6U/7TN/f/AEFaZjlVbFV3Vg1ay3v0+Rrm2SYjGYl1qbSVktb9PkaNFZ32mb+/+go+0zf3/wBBXD/YGJ/mj+P+R5n+q+M/mj97/wAjRorO+0zf3/0FH2mb+/8AoKP7AxP80fx/yD/VfGfzR+9/5GjRWd9pm/v/AKCj7TN/f/QUf2Bif5o/j/kH+q+M/mj97/yNGis77TN/f/QUfaZv7/6Cj+wMT/NH8f8AIP8AVfGfzR+9/wCRo0VnfaZv7/6Cj7TN/f8A0FH9gYn+aP4/5B/qvjP5o/e/8jRorO+0zf3/ANBR9pm/v/oKP7AxP80fx/yD/VfGfzR+9/5GjRWd9pm/v/oKPtM39/8AQUf2Bif5o/j/AJB/qvjP5o/e/wDI0aKzvtM39/8AQUfaZv7/AOgo/sDE/wA0fx/yD/VfGfzR+9/5GjRWd9pm/v8A6Cj7TN/f/QUf2Bif5o/j/kH+q+M/mj97/wAjRorO+0zf3/0FH2mb+/8AoKP7AxP80fx/yD/VfGfzR+9/5GjRWd9pm/v/AKCj7TN/f/QUf2Bif5o/j/kH+q+M/mj97/yNGis77TN/f/QUfaZv7/6Cj+wMT/NH8f8AIP8AVfGfzR+9/wCRo0VnfaZv7/6Cj7TN/f8A0FH9gYn+aP4/5B/qvjP5o/e/8jRorO+0zf3/ANBR9pm/v/oKP7AxP80fx/yD/VfGfzR+9/5GjRWd9pm/v/oKPtM39/8AQUf2Bif5o/j/AJB/qvjP5o/e/wDI0aKzvtM39/8AQUfaZv7/AOgo/sDE/wA0fx/yD/VfGfzR+9/5GjRWd9pm/v8A6Cj7TN/f/QUf2Bif5o/j/kH+q+M/mj97/wAjRorO+0zf3/0FH2mb+/8AoKP7AxP80fx/yD/VfGfzR+9/5GjRWd9pm/v/AKCj7TN/f/QUf2Bif5o/j/kH+q+M/mj97/yNGis77TN/f/QUfaZv7/6Cj+wMT/NH8f8AIP8AVfGfzR+9/wCRo0VnfaZv7/6Cj7TN/f8A0FH9gYn+aP4/5B/qvjP5o/e/8jRorO+0zf3/ANBR9pm/v/oKP7AxP80fx/yD/VfGfzR+9/5GjRWd9pm/v/oKPtM39/8AQUf2Bif5o/j/AJB/qvjP5o/e/wDI0aKzvtM39/8AQUfaZv7/AOgo/sDE/wA0fx/yD/VfGfzR+9/5GjRWd9pm/v8A6Cj7TN/f/QUf2Bif5o/j/kH+q+M/mj97/wAjRorO+0zf3/0FH2mb+/8AoKP7AxP80fx/yD/VfGfzR+9/5GjRWd9pm/v/AKCj7TN/f/QUf2Bif5o/j/kH+q+M/mj97/yNGis77TN/f/QUfaZv7/6Cj+wMT/NH8f8AIP8AVfGfzR+9/wCRo0VnfaZv7/6Cj7TN/f8A0FH9gYn+aP4/5B/qvjP5o/e/8jRorO+0zf3/ANBR9pm/v/oKP7AxP80fx/yD/VfGfzR+9/5GjRWd9pm/v/oKPtM39/8AQUf2Bif5o/j/AJB/qvjP5o/e/wDI0aKzvtM39/8AQUfaZv7/AOgo/sDE/wA0fx/yD/VfGfzR+9/5GjRWd9pm/v8A6Cj7TN/f/QUf2Bif5o/j/kH+q+M/mj97/wAjRorO+0zf3/0FH2mb+/8AoKP7AxP80fx/yD/VfGfzR+9/5GjRWd9pm/v/AKCj7TN/f/QUf2Bif5o/j/kH+q+M/mj97/yNGis77TN/f/QUfaZv7/6Cj+wMT/NH8f8AIP8AVfGfzR+9/wCRo0VnfaZv7/6Cj7TN/f8A0FH9gYn+aP4/5B/qvjP5o/e/8jRorO+0zf3/ANBR9pm/v/oKP7AxP80fx/yD/VfGfzR+9/5GjRWd9pm/v/oKPtM39/8AQUf2Bif5o/j/AJB/qvjP5o/e/wDI0aKzvtM39/8AQUfaZv7/AOgo/sDE/wA0fx/yD/VfGfzR+9/5GjRWd9pm/v8A6Cj7TN/f/QUf2Bif5o/j/kH+q+M/mj97/wAjRorO+0zf3/0FH2mb+/8AoKP7AxP80fx/yD/VfGfzR+9/5GjRWd9pm/v/AKCj7TN/f/QUf2Bif5o/j/kH+q+M/mj97/yNGis77TN/f/QUfaZv7/6Cj+wMT/NH8f8AIP8AVfGfzR+9/wCRo0VnfaZv7/6Cj7TN/f8A0FH9gYn+aP4/5B/qvjP5o/e/8jRorO+0zf3/ANBR9pm/v/oKP7AxP80fx/yD/VfGfzR+9/5GjRWd9pm/v/oKPtM39/8AQUf2Bif5o/j/AJB/qvjP5o/e/wDI0aKzvtM39/8AQUfaZv7/AOgo/sDE/wA0fx/yD/VfGfzR+9/5GjRWd9pm/v8A6Cj7TN/f/QUf2Bif5o/j/kH+q+M/mj97/wAjRorO+0zf3/0FH2mb+/8AoKP7AxP80fx/yD/VfGfzR+9/5GjRWd9pm/v/AKCj7TN/f/QUf2Bif5o/j/kH+q+M/mj97/yNGis77TN/f/QUfaZv7/6Cj+wMT/NH8f8AIP8AVfGfzR+9/wCRo0VnfaZv7/6Cj7TN/f8A0FH9gYn+aP4/5B/qvjP5o/e/8jRorO+0zf3/ANBR9pm/v/oKP7AxP80fx/yD/VfGfzR+9/5GjRWd9pm/v/oKPtM39/8AQUf2Bif5o/j/AJB/qvjP5o/e/wDI6Twx/wAjOn/XlN/6HFXc15Pa6ld2d0Lm3l2TBDHu2g/KSCRgj1UflV7/AISrWv8An9/8hJ/hXBiuFsZWnzRlHZdX5+R9nk1GWBwcaFTVpvbbVnpVFea/8JVrX/P7/wCQk/wo/wCEq1r/AJ/f/ISf4Vzf6oY7+aP3v/I9T28Sxq//ACMmrf8AXZP/AETHVWqM19cT3MtxJJulmYM7bQMkKFH6AUz7TN/f/QV60eH8Sopc0dEu/b0Pg8fw9icRiqlaEo2k293/AJGjRWd9pm/v/oKPtM39/wDQVX9gYn+aP4/5HJ/qvjP5o/e/8jRorO+0zf3/ANBR9pm/v/oKP7AxP80fx/yD/VfGfzR+9/5GjRWd9pm/v/oKPtM39/8AQUf2Bif5o/j/AJB/qvjP5o/e/wDI0aKzvtM39/8AQUfaZv7/AOgo/sDE/wA0fx/yD/VfGfzR+9/5GjRWd9pm/v8A6Cj7TN/f/QUf2Bif5o/j/kH+q+M/mj97/wAjRorO+0zf3/0FH2mb+/8AoKP7AxP80fx/yD/VfGfzR+9/5GjRWd9pm/v/AKCj7TN/f/QUf2Bif5o/j/kH+q+M/mj97/yNGis77TN/f/QUfaZv7/6Cj+wMT/NH8f8AIP8AVfGfzR+9/wCRo0VnfaZv7/6Cj7TN/f8A0FH9gYn+aP4/5B/qvjP5o/e/8jRorO+0zf3/ANBR9pm/v/oKP7AxP80fx/yD/VfGfzR+9/5GjRWd9pm/v/oKPtM39/8AQUf2Bif5o/j/AJB/qvjP5o/e/wDI0aKzvtM39/8AQUfaZv7/AOgo/sDE/wA0fx/yD/VfGfzR+9/5GjRWd9pm/v8A6Cj7TN/f/QUf2Bif5o/j/kH+q+M/mj97/wAjRorO+0zf3/0FH2mb+/8AoKP7AxP80fx/yD/VfGfzR+9/5GjRWd9pm/v/AKCj7TN/f/QUf2Bif5o/j/kH+q+M/mj97/yNGis77TN/f/QUfaZv7/6Cj+wMT/NH8f8AIP8AVfGfzR+9/wCRo0VnfaZv7/6Cj7TN/f8A0FH9gYn+aP4/5B/qvjP5o/e/8jRorO+0zf3/ANBR9pm/v/oKP7AxP80fx/yD/VfGfzR+9/5GjRWd9pm/v/oKPtM39/8AQUf2Bif5o/j/AJB/qvjP5o/e/wDI0aKzvtM39/8AQUfaZv7/AOgo/sDE/wA0fx/yD/VfGfzR+9/5GjRWd9pm/v8A6Cj7TN/f/QUf2Bif5o/j/kH+q+M/mj97/wAjRorO+0zf3/0FH2mb+/8AoKP7AxP80fx/yD/VfGfzR+9/5GjRWd9pm/v/AKCj7TN/f/QUf2Bif5o/j/kH+q+M/mj97/yNGis77TN/f/QUfaZv7/6Cj+wMT/NH8f8AIP8AVfGfzR+9/wCRo0VnfaZv7/6Cj7TN/f8A0FH9gYn+aP4/5B/qvjP5o/e/8jRorO+0zf3/ANBR9pm/v/oKP7AxP80fx/yD/VfGfzR+9/5GjRWd9pm/v/oKPtM39/8AQUf2Bif5o/j/AJB/qvjP5o/e/wDI0aKzvtM39/8AQUfaZv7/AOgo/sDE/wA0fx/yD/VfGfzR+9/5GjRWd9pm/v8A6Cj7TN/f/QUf2Bif5o/j/kH+q+M/mj97/wAjRorO+0zf3/0FH2mb+/8AoKP7AxP80fx/yD/VfGfzR+9/5GjRWd9pm/v/AKCj7TN/f/QUf2Bif5o/j/kH+q+M/mj97/yLV1Z296my4hWQDpnqPoeo6VzGo+Gp4CZLPM0QH3SfnHr9fw556Vu/aZv7/wCgo+0zf3/0FbUsoxlL4ZRt2u/8jooZDmFF+7ONu13b8jL0q/mubKeTUNslrbrlXYYfdjjafX365I5rWgv4I7eGMzi4kxh/IPmleOvHOO2evTPrWh4ct4tT8S6fYXc0sUF5cpFI8Eal8sQo68egzzgc4OMH0P4hfDSHw/pVzruk3zraxMvmWkw3FQz7fkb0BZRg84BO49KzrZVU9pyyaV9t7fkezldXGZPVmqSjepa13LlVvJK1330PMISlzcmZCrQRcRleQzHlmHY+mfXcKt1nfaZv7/6Cj7TN/f8A0FJ5DiX9qP3v/I87NMozDMcXPFVJRTl0u7JdEtOh6ZoPxKurW0GmeILVNZ05m+b7R88oG4HktkOBgkA85x8wAFU9c0D4dXF6lzpni3+zraaMMLb7FNcbSCVPPDLnGdrc9+hFef8A2mb+/wDoKir1svwNehf2s/S363R3ZVluKw3N7ap2tb9br7j/2Q==",
        "encoding": "base64",
        "path": [
         "value"
        ]
       }
      ],
      "model_module": "@jupyter-widgets/controls",
      "model_module_version": "1.5.0",
      "model_name": "ImageModel",
      "state": {
       "layout": "IPY_MODEL_3da1aa7ce48d42448e0833405d477426"
      }
     },
     "37adb5a0485840d48b1e7e3204351c89": {
      "model_module": "@jupyter-widgets/base",
      "model_module_version": "1.2.0",
      "model_name": "LayoutModel",
      "state": {
       "width": "100%"
      }
     },
     "381c86b8cde9426a828ecd06677db93c": {
      "model_module": "@jupyter-widgets/base",
      "model_module_version": "1.2.0",
      "model_name": "LayoutModel",
      "state": {
       "width": "100%"
      }
     },
     "3da1aa7ce48d42448e0833405d477426": {
      "model_module": "@jupyter-widgets/base",
      "model_module_version": "1.2.0",
      "model_name": "LayoutModel",
      "state": {
       "margin": "auto"
      }
     },
     "43731de7ad3644c899301e2889a26827": {
      "model_module": "@jupyter-widgets/base",
      "model_module_version": "1.2.0",
      "model_name": "LayoutModel",
      "state": {}
     },
     "4974f63a423b49008dbdf6bded46bd6a": {
      "model_module": "@jupyter-widgets/controls",
      "model_module_version": "1.5.0",
      "model_name": "ButtonStyleModel",
      "state": {}
     },
     "4b38ea30f5f44435a2a3c49089c9036c": {
      "model_module": "@jupyter-widgets/controls",
      "model_module_version": "1.5.0",
      "model_name": "ButtonStyleModel",
      "state": {}
     },
     "4e24bc7d552840a6ad11f6e6fd25ea4b": {
      "model_module": "@jupyter-widgets/controls",
      "model_module_version": "1.5.0",
      "model_name": "ButtonModel",
      "state": {
       "icon": "fast-forward",
       "layout": "IPY_MODEL_d98330d49bce4a07882413581b109dbd",
       "style": "IPY_MODEL_4974f63a423b49008dbdf6bded46bd6a"
      }
     },
     "5259f3101c644f3183e23baae0a15be9": {
      "model_module": "@jupyter-widgets/base",
      "model_module_version": "1.2.0",
      "model_name": "LayoutModel",
      "state": {
       "height": "50px",
       "width": "100%"
      }
     },
     "52777b2b052e4beba025bd38605f90c5": {
      "model_module": "@jupyter-widgets/controls",
      "model_module_version": "1.5.0",
      "model_name": "ButtonModel",
      "state": {
       "icon": "fast-backward",
       "layout": "IPY_MODEL_d16633a5890e4dceb7add83425336579",
       "style": "IPY_MODEL_dc2a89d0c0f14281af0957bc5497df29"
      }
     },
     "5f6e9d91c9354e79b08d51bd3800da01": {
      "model_module": "@jupyter-widgets/base",
      "model_module_version": "1.2.0",
      "model_name": "LayoutModel",
      "state": {
       "width": "100%"
      }
     },
     "6e8c713d4ba949d9be80115a34393e00": {
      "model_module": "@jupyter-widgets/controls",
      "model_module_version": "1.5.0",
      "model_name": "ButtonModel",
      "state": {
       "icon": "backward",
       "layout": "IPY_MODEL_cfa3e6ba42964ad99443a348fa245d97",
       "style": "IPY_MODEL_e98d029f3b0b4cb9a98b39fac7b84536"
      }
     },
     "86c6adc967774424a04d770cde8ecb39": {
      "model_module": "@jupyter-widgets/controls",
      "model_module_version": "1.5.0",
      "model_name": "FloatSliderModel",
      "state": {
       "continuous_update": false,
       "description": "Time:",
       "layout": "IPY_MODEL_381c86b8cde9426a828ecd06677db93c",
       "max": 200,
       "readout_format": ".1f",
       "step": 0.1,
       "style": "IPY_MODEL_1802cc1a18cf40c8b8ddca1ec8f301b7",
       "value": 58.2
      }
     },
     "9f68410bef0a418dbf6cce5284c9d7b8": {
      "model_module": "@jupyter-widgets/controls",
      "model_module_version": "1.5.0",
      "model_name": "ButtonModel",
      "state": {
       "description": "Play",
       "icon": "play",
       "layout": "IPY_MODEL_5f6e9d91c9354e79b08d51bd3800da01",
       "style": "IPY_MODEL_4b38ea30f5f44435a2a3c49089c9036c"
      }
     },
     "a2df1e0548284c32a7bccc6fe170f6b2": {
      "model_module": "@jupyter-widgets/base",
      "model_module_version": "1.2.0",
      "model_name": "LayoutModel",
      "state": {
       "width": "100%"
      }
     },
     "a7b22b0379af417cb8b14009a06f4fc9": {
      "model_module": "@jupyter-widgets/controls",
      "model_module_version": "1.5.0",
      "model_name": "VBoxModel",
      "state": {
       "children": [
        "IPY_MODEL_aa0029e3a80542088858634b4526b57b",
        "IPY_MODEL_ef8732a535c341379ac9375aeb3ee68b"
       ],
       "layout": "IPY_MODEL_f85c5262d0ea401eb13d84f7d1aa31f8"
      }
     },
     "aa0029e3a80542088858634b4526b57b": {
      "model_module": "@jupyter-widgets/controls",
      "model_module_version": "1.5.0",
      "model_name": "VBoxModel",
      "state": {
       "children": [
        "IPY_MODEL_0067fef81fe0497fb5fbb307ab0a31f8",
        "IPY_MODEL_f6a79140dcc540baa2cf717761029145"
       ],
       "layout": "IPY_MODEL_37adb5a0485840d48b1e7e3204351c89"
      }
     },
     "b4e3559d885a4705943a0711c22e44fc": {
      "model_module": "@jupyter-widgets/controls",
      "model_module_version": "1.5.0",
      "model_name": "LabelModel",
      "state": {
       "layout": "IPY_MODEL_198e43967ef34841866080cccd90a66d",
       "style": "IPY_MODEL_f489a4c71e494361835ab65034add415",
       "value": "of 200.0"
      }
     },
     "c20d88ddd8c9487bb76e82b0ce76b78f": {
      "model_module": "@jupyter-widgets/base",
      "model_module_version": "1.2.0",
      "model_name": "LayoutModel",
      "state": {
       "height": "40px"
      }
     },
     "c4020795337b46c69b1e62a5115f89a4": {
      "model_module": "@jupyter-widgets/base",
      "model_module_version": "1.2.0",
      "model_name": "LayoutModel",
      "state": {
       "width": "100%"
      }
     },
     "cfa3e6ba42964ad99443a348fa245d97": {
      "model_module": "@jupyter-widgets/base",
      "model_module_version": "1.2.0",
      "model_name": "LayoutModel",
      "state": {
       "width": "100%"
      }
     },
     "d16633a5890e4dceb7add83425336579": {
      "model_module": "@jupyter-widgets/base",
      "model_module_version": "1.2.0",
      "model_name": "LayoutModel",
      "state": {
       "width": "100%"
      }
     },
     "d421851e4b6940e88322412346a2d4e6": {
      "model_module": "@jupyter-widgets/controls",
      "model_module_version": "1.5.0",
      "model_name": "ButtonModel",
      "state": {
       "icon": "forward",
       "layout": "IPY_MODEL_a2df1e0548284c32a7bccc6fe170f6b2",
       "style": "IPY_MODEL_e8f39f23d6034fecbfc01c024c1d6b8b"
      }
     },
     "d8575d4651f149b49a38c78cf50a235a": {
      "model_module": "@jupyter-widgets/controls",
      "model_module_version": "1.5.0",
      "model_name": "FloatTextModel",
      "state": {
       "layout": "IPY_MODEL_c4020795337b46c69b1e62a5115f89a4",
       "step": null,
       "style": "IPY_MODEL_e078a94dca534f3ca854f31da47afd9d",
       "value": 58.2
      }
     },
     "d98330d49bce4a07882413581b109dbd": {
      "model_module": "@jupyter-widgets/base",
      "model_module_version": "1.2.0",
      "model_name": "LayoutModel",
      "state": {
       "width": "100%"
      }
     },
     "dc2a89d0c0f14281af0957bc5497df29": {
      "model_module": "@jupyter-widgets/controls",
      "model_module_version": "1.5.0",
      "model_name": "ButtonStyleModel",
      "state": {}
     },
     "e078a94dca534f3ca854f31da47afd9d": {
      "model_module": "@jupyter-widgets/controls",
      "model_module_version": "1.5.0",
      "model_name": "DescriptionStyleModel",
      "state": {
       "description_width": ""
      }
     },
     "e8f39f23d6034fecbfc01c024c1d6b8b": {
      "model_module": "@jupyter-widgets/controls",
      "model_module_version": "1.5.0",
      "model_name": "ButtonStyleModel",
      "state": {}
     },
     "e98d029f3b0b4cb9a98b39fac7b84536": {
      "model_module": "@jupyter-widgets/controls",
      "model_module_version": "1.5.0",
      "model_name": "ButtonStyleModel",
      "state": {}
     },
     "ef8732a535c341379ac9375aeb3ee68b": {
      "model_module": "@jupyter-widgets/output",
      "model_module_version": "1.0.0",
      "model_name": "OutputModel",
      "state": {
       "layout": "IPY_MODEL_43731de7ad3644c899301e2889a26827"
      }
     },
     "f489a4c71e494361835ab65034add415": {
      "model_module": "@jupyter-widgets/controls",
      "model_module_version": "1.5.0",
      "model_name": "DescriptionStyleModel",
      "state": {
       "description_width": ""
      }
     },
     "f6a79140dcc540baa2cf717761029145": {
      "model_module": "@jupyter-widgets/controls",
      "model_module_version": "1.5.0",
      "model_name": "HBoxModel",
      "state": {
       "children": [
        "IPY_MODEL_52777b2b052e4beba025bd38605f90c5",
        "IPY_MODEL_6e8c713d4ba949d9be80115a34393e00",
        "IPY_MODEL_d8575d4651f149b49a38c78cf50a235a",
        "IPY_MODEL_d421851e4b6940e88322412346a2d4e6",
        "IPY_MODEL_4e24bc7d552840a6ad11f6e6fd25ea4b",
        "IPY_MODEL_9f68410bef0a418dbf6cce5284c9d7b8"
       ],
       "layout": "IPY_MODEL_5259f3101c644f3183e23baae0a15be9"
      }
     },
     "f85c5262d0ea401eb13d84f7d1aa31f8": {
      "model_module": "@jupyter-widgets/base",
      "model_module_version": "1.2.0",
      "model_name": "LayoutModel",
      "state": {}
     }
    },
    "version_major": 2,
    "version_minor": 0
   }
  }
 },
 "nbformat": 4,
 "nbformat_minor": 4
}
