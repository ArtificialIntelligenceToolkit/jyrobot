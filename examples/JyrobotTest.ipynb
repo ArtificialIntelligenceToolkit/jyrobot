{
 "cells": [
  {
   "cell_type": "markdown",
   "metadata": {},
   "source": [
    "# Example 1"
   ]
  },
  {
   "cell_type": "code",
   "execution_count": 18,
   "metadata": {},
   "outputs": [],
   "source": [
    "import jyrobot\n",
    "import random"
   ]
  },
  {
   "cell_type": "code",
   "execution_count": 19,
   "metadata": {},
   "outputs": [
    {
     "name": "stdout",
     "output_type": "stream",
     "text": [
      "Searching for jyrobot config files...\n",
      "Directory: ./\n",
      "    'experiment-01'\n",
      "Directory: /home/dblank/jyrobot/jyrobot/worlds\n",
      "    'duck-scribbler-no-walls'\n",
      "    'two-scribblers-no-walls'\n",
      "    'two-scribblers-one-wall'\n",
      "    'two-scribblers'\n"
     ]
    }
   ],
   "source": [
    "jyrobot.load_world()"
   ]
  },
  {
   "cell_type": "code",
   "execution_count": 20,
   "metadata": {},
   "outputs": [
    {
     "name": "stdout",
     "output_type": "stream",
     "text": [
      "Random seed initialized to: 2304288\n"
     ]
    }
   ],
   "source": [
    "world = jyrobot.load_world(\"two-scribblers\")"
   ]
  },
  {
   "cell_type": "code",
   "execution_count": 21,
   "metadata": {},
   "outputs": [
    {
     "data": {
      "application/vnd.jupyter.widget-view+json": {
       "model_id": "74ec66a5e79a4ffcb4c2bd8415218703",
       "version_major": 2,
       "version_minor": 0
      },
      "text/plain": [
       "Image(value=b'\\xff\\xd8\\xff\\xe0\\x00\\x10JFIF\\x00\\x01\\x01\\x00\\x00\\x01\\x00\\x01\\x00\\x00\\xff\\xdb\\x00C\\x00\\x08\\x06\\x0…"
      ]
     },
     "metadata": {},
     "output_type": "display_data"
    }
   ],
   "source": [
    "world.watch()"
   ]
  },
  {
   "cell_type": "code",
   "execution_count": 22,
   "metadata": {},
   "outputs": [
    {
     "data": {
      "image/png": "[encoded data removed]",
      "text/plain": [
       "<PIL.Image.Image image mode=RGB size=200x200 at 0x7F00D60BF6D0>"
      ]
     },
     "execution_count": 22,
     "metadata": {},
     "output_type": "execute_result"
    }
   ],
   "source": [
    "world.take_picture(\"blue\", size=200)"
   ]
  },
  {
   "cell_type": "code",
   "execution_count": 23,
   "metadata": {},
   "outputs": [
    {
     "name": "stdout",
     "output_type": "stream",
     "text": [
      "This world was loaded from '/home/dblank/jyrobot/jyrobot/worlds/two-scribblers.json'\n",
      "Robots:\n",
      "-------------------------\n",
      "  robot[0 or 'Red']: <Robot(name='Red', position=430,50,3.14 v=0,0,0)>\n",
      "      device[0 or 'camera']: <Camera size=(256,128), angle=60.0>\n",
      "      device[1 or 'laser']: <RangeSensor angle=0.0, range=100, width=0.0>\n",
      "      device[2 or 'ir']: <RangeSensor angle=90.0, range=20, width=57.3>\n",
      "      device[3 or 'ir']: <RangeSensor angle=-90.0, range=20, width=57.3>\n",
      "  -------------------------\n",
      "  robot[1 or 'Blue']: <Robot(name='Blue', position=30,50,0.0 v=0,0,0)>\n",
      "      device[0 or 'camera']: <Camera size=(256,128), angle=60.0>\n",
      "      device[1 or 'laser']: <RangeSensor angle=0.0, range=100, width=0.0>\n",
      "      device[2 or 'ir']: <RangeSensor angle=0.0, range=20, width=57.3>\n",
      "      device[3 or 'ir']: <RangeSensor angle=0.0, range=20, width=57.3>\n",
      "  -------------------------\n"
     ]
    }
   ],
   "source": [
    "world.info()"
   ]
  },
  {
   "cell_type": "code",
   "execution_count": 24,
   "metadata": {},
   "outputs": [
    {
     "data": {
      "text/plain": [
       "<Camera size=(256,128), angle=60.0>"
      ]
     },
     "execution_count": 24,
     "metadata": {},
     "output_type": "execute_result"
    }
   ],
   "source": [
    "world[\"red\"][\"camera\"]"
   ]
  },
  {
   "cell_type": "code",
   "execution_count": 25,
   "metadata": {},
   "outputs": [
    {
     "data": {
      "image/png": "[encoded data removed]",
      "text/plain": [
       "<PIL.Image.Image image mode=RGBA size=256x128 at 0x7F00D60A81F0>"
      ]
     },
     "execution_count": 25,
     "metadata": {},
     "output_type": "execute_result"
    }
   ],
   "source": [
    "world[\"red\"][\"camera\"].take_picture()"
   ]
  },
  {
   "cell_type": "code",
   "execution_count": 26,
   "metadata": {},
   "outputs": [],
   "source": [
    "world[0].move(1, 0)\n",
    "world[1].move(1, 0)\n",
    "\n",
    "step = 0\n",
    "\n",
    "def control(robot):\n",
    "    global step\n",
    "    if robot.stalled:\n",
    "        robot.reverse()\n",
    "        robot.turn(1 - random.random() * 2)\n",
    "    if random.random() < .1:\n",
    "        robot.turn(1 - random.random() * 2)\n",
    "    #if step % 100 == 0:\n",
    "    #    world.display(world.take_picture())\n",
    "    step += 1"
   ]
  },
  {
   "cell_type": "code",
   "execution_count": 27,
   "metadata": {},
   "outputs": [],
   "source": [
    "world.save()"
   ]
  },
  {
   "cell_type": "code",
   "execution_count": 28,
   "metadata": {},
   "outputs": [
    {
     "name": "stdout",
     "output_type": "stream",
     "text": [
      "Reusing random seed: 2304288\n"
     ]
    }
   ],
   "source": [
    "world.reset()"
   ]
  },
  {
   "cell_type": "code",
   "execution_count": 29,
   "metadata": {},
   "outputs": [
    {
     "name": "stdout",
     "output_type": "stream",
     "text": [
      "Reusing random seed: 2304288\n"
     ]
    }
   ],
   "source": [
    "recorder = world.record()"
   ]
  },
  {
   "cell_type": "code",
   "execution_count": 30,
   "metadata": {},
   "outputs": [],
   "source": [
    "robot = world[0]"
   ]
  },
  {
   "cell_type": "code",
   "execution_count": 31,
   "metadata": {},
   "outputs": [
    {
     "data": {
      "application/vnd.jupyter.widget-view+json": {
       "model_id": "9e4e90e73f7f4711b45bb9ccc8e4d2f3",
       "version_major": 2,
       "version_minor": 0
      },
      "text/plain": [
       "Image(value=b'\\x89PNG\\r\\n\\x1a\\n\\x00\\x00\\x00\\rIHDR\\x00\\x00\\x00d\\x00\\x00\\x00d\\x08\\x02\\x00\\x00\\x00\\xff\\x80\\x02\\x0…"
      ]
     },
     "metadata": {},
     "output_type": "display_data"
    }
   ],
   "source": [
    "robot.watch()"
   ]
  },
  {
   "cell_type": "code",
   "execution_count": 32,
   "metadata": {},
   "outputs": [
    {
     "data": {
      "application/vnd.jupyter.widget-view+json": {
       "model_id": "a48ad3cae0f54b6a823c2e5b75d6a4cc",
       "version_major": 2,
       "version_minor": 0
      },
      "text/plain": [
       "HBox(children=(HTML(value=''), FloatProgress(value=0.0, max=50.0), HTML(value='')))"
      ]
     },
     "metadata": {},
     "output_type": "display_data"
    },
    {
     "name": "stdout",
     "output_type": "stream",
     "text": [
      "\n",
      "Simulation stopped at: 00:00:05.0; speed 0.97 x real time\n"
     ]
    }
   ],
   "source": [
    "world.seconds(5, [control, control])"
   ]
  },
  {
   "cell_type": "code",
   "execution_count": 33,
   "metadata": {},
   "outputs": [
    {
     "data": {
      "application/vnd.jupyter.widget-view+json": {
       "model_id": "6f5dd12fa4db47daa61d0346ceeec1f1",
       "version_major": 2,
       "version_minor": 0
      },
      "text/plain": [
       "HBox(children=(HTML(value=''), FloatProgress(value=0.0, max=2000.0), HTML(value='')))"
      ]
     },
     "metadata": {},
     "output_type": "display_data"
    },
    {
     "name": "stdout",
     "output_type": "stream",
     "text": [
      "\n",
      "Simulation stopped at: 00:03:25.0; speed 22.49 x real time\n"
     ]
    }
   ],
   "source": [
    "world.seconds(200, [control, control], show=True, real_time=False)"
   ]
  },
  {
   "cell_type": "code",
   "execution_count": 15,
   "metadata": {},
   "outputs": [
    {
     "data": {
      "application/vnd.jupyter.widget-view+json": {
       "model_id": "8348e9476b4a4bcab908842fa498a824",
       "version_major": 2,
       "version_minor": 0
      },
      "text/plain": [
       "HBox(children=(HTML(value=''), FloatProgress(value=0.0, max=2000.0), HTML(value='')))"
      ]
     },
     "metadata": {},
     "output_type": "display_data"
    },
    {
     "name": "stdout",
     "output_type": "stream",
     "text": [
      "\n",
      "Simulation stopped at: 00:06:45.0; speed 49.25 x real time\n"
     ]
    }
   ],
   "source": [
    "world.seconds(200, [control, control], show=False)"
   ]
  },
  {
   "cell_type": "code",
   "execution_count": 16,
   "metadata": {},
   "outputs": [
    {
     "name": "stdout",
     "output_type": "stream",
     "text": [
      "Simulation stopped at: 00:10:05.0; speed 51.05 x real time\n"
     ]
    }
   ],
   "source": [
    "world.seconds(200, [control, control], show=False, show_progress=False)"
   ]
  },
  {
   "cell_type": "code",
   "execution_count": 34,
   "metadata": {},
   "outputs": [
    {
     "data": {
      "application/vnd.jupyter.widget-view+json": {
       "model_id": "84770ffbd9b14d0d9e216cd20d22300e",
       "version_major": 2,
       "version_minor": 0
      },
      "text/plain": [
       "Image(value=b'\\x89PNG\\r\\n\\x1a\\n\\x00\\x00\\x00\\rIHDR\\x00\\x00\\x00\\xc8\\x00\\x00\\x00\\xc8\\x08\\x02\\x00\\x00\\x00\":9\\xc9\\x…"
      ]
     },
     "metadata": {},
     "output_type": "display_data"
    }
   ],
   "source": [
    "recorder.world[0].watch(size=200)"
   ]
  },
  {
   "cell_type": "code",
   "execution_count": 35,
   "metadata": {
    "collapsed": true,
    "jupyter": {
     "outputs_hidden": true
    }
   },
   "outputs": [
    {
     "data": {
      "application/vnd.jupyter.widget-view+json": {
       "model_id": "965951e9000b41fe9775fb81204e4d08",
       "version_major": 2,
       "version_minor": 0
      },
      "text/plain": [
       "Player(children=(VBox(children=(HBox(children=(FloatSlider(value=0.0, continuous_update=False, description='Ti…"
      ]
     },
     "metadata": {},
     "output_type": "display_data"
    },
    {
     "data": {
      "image/png": "[encoded data removed]",
      "text/plain": [
       "<PIL.Image.Image image mode=RGB size=1500x750 at 0x7F00D5BF6E80>"
      ]
     },
     "metadata": {},
     "output_type": "display_data"
    }
   ],
   "source": [
    "recorder.watch()"
   ]
  },
  {
   "cell_type": "code",
   "execution_count": 19,
   "metadata": {},
   "outputs": [
    {
     "data": {
      "application/vnd.jupyter.widget-view+json": {
       "model_id": "701f51d24f5c4daea8f9cd829508bfe5",
       "version_major": 2,
       "version_minor": 0
      },
      "text/plain": [
       "Image(value=b'\\x89PNG\\r\\n\\x1a\\n\\x00\\x00\\x00\\rIHDR\\x00\\x00\\x00d\\x00\\x00\\x00d\\x08\\x02\\x00\\x00\\x00\\xff\\x80\\x02\\x0…"
      ]
     },
     "metadata": {},
     "output_type": "display_data"
    }
   ],
   "source": [
    "recorder.world[\"blue\"].watch()"
   ]
  },
  {
   "cell_type": "code",
   "execution_count": 20,
   "metadata": {},
   "outputs": [
    {
     "data": {
      "application/vnd.jupyter.widget-view+json": {
       "model_id": "942a8639a48a49349e963c88383d3648",
       "version_major": 2,
       "version_minor": 0
      },
      "text/plain": [
       "Image(value=b'\\x89PNG\\r\\n\\x1a\\n\\x00\\x00\\x00\\rIHDR\\x00\\x00\\x01\\x00\\x00\\x00\\x00\\x80\\x08\\x06\\x00\\x00\\x00\\xe4\\xb5\\…"
      ]
     },
     "metadata": {},
     "output_type": "display_data"
    }
   ],
   "source": [
    "recorder.world[\"blue\"][\"camera\"].watch()"
   ]
  },
  {
   "cell_type": "code",
   "execution_count": 25,
   "metadata": {},
   "outputs": [
    {
     "name": "stdout",
     "output_type": "stream",
     "text": [
      "Removing robots from world...\n",
      "Reusing random seed: 7481669\n"
     ]
    }
   ],
   "source": [
    "world.reset()"
   ]
  },
  {
   "cell_type": "markdown",
   "metadata": {},
   "source": [
    "# Example 2"
   ]
  },
  {
   "cell_type": "code",
   "execution_count": 20,
   "metadata": {},
   "outputs": [],
   "source": [
    "import jyrobot\n",
    "import time\n",
    "from jyrobot.utils import gallery"
   ]
  },
  {
   "cell_type": "code",
   "execution_count": 22,
   "metadata": {},
   "outputs": [
    {
     "name": "stdout",
     "output_type": "stream",
     "text": [
      "Reusing random seed: 10\n"
     ]
    },
    {
     "data": {
      "application/vnd.jupyter.widget-view+json": {
       "model_id": "26a20850ca504685aae5a655805f6358",
       "version_major": 2,
       "version_minor": 0
      },
      "text/plain": [
       "Image(value=b'\\xff\\xd8\\xff\\xe0\\x00\\x10JFIF\\x00\\x01\\x01\\x00\\x00\\x01\\x00\\x01\\x00\\x00\\xff\\xdb\\x00C\\x00\\x08\\x06\\x0…"
      ]
     },
     "metadata": {},
     "output_type": "display_data"
    }
   ],
   "source": [
    "w = jyrobot.World(width=500, height=500, ground_color=\"white\", seed=10, scale=10)\n",
    "w.watch()"
   ]
  },
  {
   "cell_type": "code",
   "execution_count": 23,
   "metadata": {},
   "outputs": [],
   "source": [
    "for i in range(20):\n",
    "    robot = jyrobot.Scribbler(color=\"blue\", name=\"Scribby-%s\" % i)\n",
    "    sensor = jyrobot.Camera()\n",
    "    robot.add_device(sensor)\n",
    "    w.add_robot(robot)\n",
    "w.draw()"
   ]
  },
  {
   "cell_type": "code",
   "execution_count": 24,
   "metadata": {},
   "outputs": [],
   "source": [
    "from jyrobot.utils import Color\n",
    "import random\n",
    "for robot in w:\n",
    "    robot.set_color( Color(\n",
    "        255 * random.random(), \n",
    "        255 * random.random(), \n",
    "        255 * random.random(), \n",
    "   ))\n",
    "w.draw()"
   ]
  },
  {
   "cell_type": "code",
   "execution_count": 25,
   "metadata": {},
   "outputs": [
    {
     "name": "stdout",
     "output_type": "stream",
     "text": [
      "CPU times: user 3.26 s, sys: 19.4 ms, total: 3.28 s\n",
      "Wall time: 3.28 s\n"
     ]
    }
   ],
   "source": [
    "%%time\n",
    "pics = []\n",
    "for robot in w:\n",
    "    pic = robot[\"camera\"].take_picture()\n",
    "    pics.append(pic)"
   ]
  },
  {
   "cell_type": "code",
   "execution_count": 26,
   "metadata": {},
   "outputs": [
    {
     "data": {
      "image/png": "[encoded data removed]",
      "text/plain": [
       "<PIL.Image.Image image mode=RGBA size=1290x520 at 0x7F6FDDFAE5B0>"
      ]
     },
     "execution_count": 26,
     "metadata": {},
     "output_type": "execute_result"
    }
   ],
   "source": [
    "gallery(*pics)"
   ]
  },
  {
   "cell_type": "code",
   "execution_count": 27,
   "metadata": {},
   "outputs": [
    {
     "name": "stdout",
     "output_type": "stream",
     "text": [
      "CPU times: user 10.2 ms, sys: 42 µs, total: 10.2 ms\n",
      "Wall time: 8.07 ms\n"
     ]
    }
   ],
   "source": [
    "%%time\n",
    "pics = []\n",
    "for i, robot in enumerate(w):\n",
    "    pic = w.take_picture(i, size=200)\n",
    "    pics.append(pic)"
   ]
  },
  {
   "cell_type": "code",
   "execution_count": 28,
   "metadata": {},
   "outputs": [
    {
     "data": {
      "image/png": "[encoded data removed]",
      "text/plain": [
       "<PIL.Image.Image image mode=RGBA size=1010x808 at 0x7F6FDDF3AA30>"
      ]
     },
     "execution_count": 28,
     "metadata": {},
     "output_type": "execute_result"
    }
   ],
   "source": [
    "gallery(*pics, background_color=\"black\")"
   ]
  },
  {
   "cell_type": "code",
   "execution_count": 29,
   "metadata": {},
   "outputs": [],
   "source": [
    "for robot in w:\n",
    "    robot.move(1,0)"
   ]
  },
  {
   "cell_type": "code",
   "execution_count": 30,
   "metadata": {},
   "outputs": [],
   "source": [
    "def control(world):\n",
    "    for robot in world:\n",
    "        if robot.stalled:\n",
    "            robot.reverse()\n",
    "        robot.turn(1 - random.random() * 2)"
   ]
  },
  {
   "cell_type": "code",
   "execution_count": 31,
   "metadata": {},
   "outputs": [
    {
     "data": {
      "application/vnd.jupyter.widget-view+json": {
       "model_id": "f5450110f8b647c7b2751ae6b1033d4c",
       "version_major": 2,
       "version_minor": 0
      },
      "text/plain": [
       "HBox(children=(HTML(value=''), FloatProgress(value=1.0, bar_style='info', layout=Layout(width='20px'), max=1.0…"
      ]
     },
     "metadata": {},
     "output_type": "display_data"
    },
    {
     "name": "stdout",
     "output_type": "stream",
     "text": [
      "\n",
      "Simulation stopped at: 00:02:01.7; speed 4.93 x real time\n"
     ]
    }
   ],
   "source": [
    "w.run(control, show=True, real_time=False)"
   ]
  },
  {
   "cell_type": "markdown",
   "metadata": {},
   "source": [
    "# Example 3"
   ]
  },
  {
   "cell_type": "code",
   "execution_count": 33,
   "metadata": {},
   "outputs": [],
   "source": [
    "import jyrobot as jr\n",
    "import random"
   ]
  },
  {
   "cell_type": "code",
   "execution_count": 34,
   "metadata": {},
   "outputs": [
    {
     "name": "stdout",
     "output_type": "stream",
     "text": [
      "Random seed initialized to: 978581\n"
     ]
    }
   ],
   "source": [
    "w = jr.World(width=100, height=100, scale=10)"
   ]
  },
  {
   "cell_type": "code",
   "execution_count": 36,
   "metadata": {},
   "outputs": [
    {
     "data": {
      "application/vnd.jupyter.widget-view+json": {
       "model_id": "4736bcb0afb3426c8623ec3ce0704832",
       "version_major": 2,
       "version_minor": 0
      },
      "text/plain": [
       "Image(value=b'\\xff\\xd8\\xff\\xe0\\x00\\x10JFIF\\x00\\x01\\x01\\x00\\x00\\x01\\x00\\x01\\x00\\x00\\xff\\xdb\\x00C\\x00\\x08\\x06\\x0…"
      ]
     },
     "metadata": {},
     "output_type": "display_data"
    }
   ],
   "source": [
    "w.watch()"
   ]
  },
  {
   "cell_type": "code",
   "execution_count": 37,
   "metadata": {},
   "outputs": [],
   "source": [
    "r = jr.Scribbler()"
   ]
  },
  {
   "cell_type": "code",
   "execution_count": 38,
   "metadata": {},
   "outputs": [],
   "source": [
    "w.add_robot(r)\n",
    "w.update()"
   ]
  },
  {
   "cell_type": "code",
   "execution_count": 39,
   "metadata": {},
   "outputs": [],
   "source": [
    "sensor = jr.RangeSensor()"
   ]
  },
  {
   "cell_type": "code",
   "execution_count": 40,
   "metadata": {},
   "outputs": [],
   "source": [
    "r.add_device(sensor)\n",
    "w.update()"
   ]
  },
  {
   "cell_type": "code",
   "execution_count": 41,
   "metadata": {},
   "outputs": [],
   "source": [
    "r.forward(1)\n",
    "\n",
    "def control(world):\n",
    "    for robot in world:\n",
    "        if robot.stalled:\n",
    "            robot.reverse()\n",
    "        robot.turn(1 - random.random() * 2)"
   ]
  },
  {
   "cell_type": "code",
   "execution_count": 44,
   "metadata": {},
   "outputs": [
    {
     "data": {
      "application/vnd.jupyter.widget-view+json": {
       "model_id": "21b0b0b2da2a4a91a806ab12b3e49d6e",
       "version_major": 2,
       "version_minor": 0
      },
      "text/plain": [
       "Figure(axes=[Axis(label='x', scale=LinearScale()), Axis(label='y', orientation='vertical', scale=LinearScale()…"
      ]
     },
     "metadata": {},
     "output_type": "display_data"
    }
   ],
   "source": [
    "r.plot(lambda robot: (robot.x, robot.world.width - robot.y)).watch()"
   ]
  },
  {
   "cell_type": "code",
   "execution_count": 45,
   "metadata": {},
   "outputs": [
    {
     "data": {
      "application/vnd.jupyter.widget-view+json": {
       "model_id": "1fd8d6acfe6c4999a207f4aa8187c36d",
       "version_major": 2,
       "version_minor": 0
      },
      "text/plain": [
       "HBox(children=(HTML(value=''), FloatProgress(value=0.0, max=1.0), HTML(value='')))"
      ]
     },
     "metadata": {},
     "output_type": "display_data"
    },
    {
     "name": "stdout",
     "output_type": "stream",
     "text": [
      "\n",
      "Simulation stopped at: 00:00:00.1; speed 0.75 x real time\n"
     ]
    }
   ],
   "source": [
    "w.seconds(.1, control, show=True, real_time=True)"
   ]
  },
  {
   "cell_type": "code",
   "execution_count": 46,
   "metadata": {},
   "outputs": [
    {
     "data": {
      "application/vnd.jupyter.widget-view+json": {
       "model_id": "4a19bf9943084b1786d213ee16b42aa3",
       "version_major": 2,
       "version_minor": 0
      },
      "text/plain": [
       "HBox(children=(HTML(value=''), FloatProgress(value=0.0), HTML(value='')))"
      ]
     },
     "metadata": {},
     "output_type": "display_data"
    },
    {
     "name": "stdout",
     "output_type": "stream",
     "text": [
      "\n",
      "Simulation stopped at: 00:00:10.1; speed 0.97 x real time\n"
     ]
    }
   ],
   "source": [
    "w.seconds(10, control, show=True, real_time=True)"
   ]
  },
  {
   "cell_type": "code",
   "execution_count": 43,
   "metadata": {},
   "outputs": [
    {
     "data": {
      "application/vnd.jupyter.widget-view+json": {
       "model_id": "b5f884c16c114d088e0f65a633f443b9",
       "version_major": 2,
       "version_minor": 0
      },
      "text/plain": [
       "HBox(children=(HTML(value=''), FloatProgress(value=1.0, bar_style='info', layout=Layout(width='20px'), max=1.0…"
      ]
     },
     "metadata": {},
     "output_type": "display_data"
    },
    {
     "name": "stdout",
     "output_type": "stream",
     "text": [
      "\n",
      "Simulation stopped at: 00:00:31.3; speed 0.99 x real time\n"
     ]
    }
   ],
   "source": [
    "w.run(control, show=True, real_time=True)"
   ]
  },
  {
   "cell_type": "code",
   "execution_count": 44,
   "metadata": {},
   "outputs": [
    {
     "data": {
      "application/vnd.jupyter.widget-view+json": {
       "model_id": "d6c7040dd8a341eb830816a2b4d2b00c",
       "version_major": 2,
       "version_minor": 0
      },
      "text/plain": [
       "HBox(children=(HTML(value=''), FloatProgress(value=0.0), HTML(value='')))"
      ]
     },
     "metadata": {},
     "output_type": "display_data"
    },
    {
     "name": "stdout",
     "output_type": "stream",
     "text": [
      "\n",
      "Simulation stopped at: 00:00:41.3; speed 92.65 x real time\n"
     ]
    }
   ],
   "source": [
    "w.seconds(10, control, show=True, real_time=False)"
   ]
  },
  {
   "cell_type": "code",
   "execution_count": 45,
   "metadata": {},
   "outputs": [
    {
     "data": {
      "application/vnd.jupyter.widget-view+json": {
       "model_id": "e588698d9f3e448c807515ed6f163bcf",
       "version_major": 2,
       "version_minor": 0
      },
      "text/plain": [
       "HBox(children=(HTML(value=''), FloatProgress(value=0.0), HTML(value='')))"
      ]
     },
     "metadata": {},
     "output_type": "display_data"
    },
    {
     "name": "stdout",
     "output_type": "stream",
     "text": [
      "\n",
      "Simulation stopped at: 00:00:51.3; speed 174.58 x real time\n"
     ]
    }
   ],
   "source": [
    "w.seconds(10, control, show=False)"
   ]
  },
  {
   "cell_type": "code",
   "execution_count": 47,
   "metadata": {},
   "outputs": [],
   "source": [
    "r.set_pose(50, 50, 180)"
   ]
  },
  {
   "cell_type": "code",
   "execution_count": 48,
   "metadata": {},
   "outputs": [],
   "source": [
    "r.set_color(\"purple\")"
   ]
  },
  {
   "cell_type": "code",
   "execution_count": 49,
   "metadata": {},
   "outputs": [],
   "source": [
    "w.update()"
   ]
  },
  {
   "cell_type": "code",
   "execution_count": 50,
   "metadata": {},
   "outputs": [
    {
     "data": {
      "image/png": "[encoded data removed]",
      "text/plain": [
       "<PIL.Image.Image image mode=RGB size=1000x1000 at 0x7F6FDF7CA3A0>"
      ]
     },
     "execution_count": 50,
     "metadata": {},
     "output_type": "execute_result"
    }
   ],
   "source": [
    "w.take_picture()"
   ]
  },
  {
   "cell_type": "code",
   "execution_count": null,
   "metadata": {},
   "outputs": [],
   "source": []
  }
 ],
 "metadata": {
  "kernelspec": {
   "display_name": "Python 3",
   "language": "python",
   "name": "python3"
  },
  "language_info": {
   "codemirror_mode": {
    "name": "ipython",
    "version": 3
   },
   "file_extension": ".py",
   "mimetype": "text/x-python",
   "name": "python",
   "nbconvert_exporter": "python",
   "pygments_lexer": "ipython3",
   "version": "3.8.5"
  },
  "widgets": {
   "application/vnd.jupyter.widget-state+json": {
    "state": {
     "004cd43f6f47454f8dde3339d858069b": {
      "model_module": "@jupyter-widgets/output",
      "model_module_version": "1.0.0",
      "model_name": "OutputModel",
      "state": {
       "layout": "IPY_MODEL_f17c78eaf0d743fb97cf095411e5d56f"
      }
     },
     "00d59d3ca53b4bba97bfd6eeeebf3efa": {
      "model_module": "@jupyter-widgets/controls",
      "model_module_version": "1.5.0",
      "model_name": "SliderStyleModel",
      "state": {
       "description_width": "initial"
      }
     },
     "03913bef6360429c8db243734f5682da": {
      "model_module": "@jupyter-widgets/controls",
      "model_module_version": "1.5.0",
      "model_name": "HBoxModel",
      "state": {
       "children": [
        "IPY_MODEL_66cf3decda084d769604eabcf06dcbad",
        "IPY_MODEL_d0d2064b13d243a6a7ccb31e3066d293",
        "IPY_MODEL_c4db6de685f844e99a9a030e011024bc"
       ],
       "layout": "IPY_MODEL_968af6b65d6e4b91895fb1e45652f06d"
      }
     },
     "0792b8dc7d6d4887b07d5d22b1be3562": {
      "model_module": "@jupyter-widgets/controls",
      "model_module_version": "1.5.0",
      "model_name": "FloatSliderModel",
      "state": {
       "continuous_update": false,
       "description": "Time:",
       "layout": "IPY_MODEL_9db3eb3f565e4271bd0a9ea77cf60ef1",
       "max": 205,
       "readout_format": ".1f",
       "step": 0.1,
       "style": "IPY_MODEL_8c85f66debf64dcd9c05b4215a577981",
       "value": 181.7
      }
     },
     "0efc538f9e6e4527891899ffa4d47d8f": {
      "model_module": "@jupyter-widgets/controls",
      "model_module_version": "1.5.0",
      "model_name": "ButtonStyleModel",
      "state": {}
     },
     "139ed3d5e26f4c4494df2925130827af": {
      "model_module": "@jupyter-widgets/base",
      "model_module_version": "1.2.0",
      "model_name": "LayoutModel",
      "state": {
       "height": "50px",
       "width": "100%"
      }
     },
     "15963d6bca794c858b5d84ca9fd7b888": {
      "model_module": "@jupyter-widgets/base",
      "model_module_version": "1.2.0",
      "model_name": "LayoutModel",
      "state": {
       "margin": "auto"
      }
     },
     "163f1801f0a148c991e7e12f32f11b86": {
      "model_module": "@jupyter-widgets/controls",
      "model_module_version": "1.5.0",
      "model_name": "DescriptionStyleModel",
      "state": {
       "description_width": ""
      }
     },
     "1a47c456bb1c425bb46bef72fc5ed344": {
      "model_module": "@jupyter-widgets/base",
      "model_module_version": "1.2.0",
      "model_name": "LayoutModel",
      "state": {
       "width": "100%"
      }
     },
     "1e7f975fe65342bc8c9fe9069050bb57": {
      "model_module": "@jupyter-widgets/controls",
      "model_module_version": "1.5.0",
      "model_name": "ButtonModel",
      "state": {
       "icon": "forward",
       "layout": "IPY_MODEL_ae1786b34e6a49dd9ac2f613afa77e0f",
       "style": "IPY_MODEL_0efc538f9e6e4527891899ffa4d47d8f"
      }
     },
     "1eed12eb98c44862b4a0d164cd10dfe4": {
      "model_module": "@jupyter-widgets/controls",
      "model_module_version": "1.5.0",
      "model_name": "ButtonStyleModel",
      "state": {}
     },
     "1fb3bb79596b480d908e8366fca8f464": {
      "buffers": [
       {
        "data": "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",
        "encoding": "base64",
        "path": [
         "value"
        ]
       }
      ],
      "model_module": "@jupyter-widgets/controls",
      "model_module_version": "1.5.0",
      "model_name": "ImageModel",
      "state": {
       "layout": "IPY_MODEL_15963d6bca794c858b5d84ca9fd7b888"
      }
     },
     "23ef1a2ce5154a269b3fcd939e3a2c0e": {
      "model_module": "@jupyter-widgets/controls",
      "model_module_version": "1.5.0",
      "model_name": "VBoxModel",
      "state": {
       "children": [
        "IPY_MODEL_feb3aaa23fe4485e8c9d5a48793f5c87",
        "IPY_MODEL_ac869fb589b9451d91ea0845686b7781"
       ],
       "layout": "IPY_MODEL_b9981d4c618a439cb0e99501619a9ca0"
      }
     },
     "24c57d9824ef4727810e1c59a2e830bf": {
      "model_module": "@jupyter-widgets/controls",
      "model_module_version": "1.5.0",
      "model_name": "HBoxModel",
      "state": {
       "children": [
        "IPY_MODEL_bba3c2e81b264fa59b4af6e7a3b9c137",
        "IPY_MODEL_bb0c81550e2c46cab094aae9d54a29f2",
        "IPY_MODEL_57ea4c29c1f244aab3da2a41b0db2ab7",
        "IPY_MODEL_1e7f975fe65342bc8c9fe9069050bb57",
        "IPY_MODEL_a0f5e5634a794fe38143f5caa2e541c2",
        "IPY_MODEL_b8d022ed023240bd978aa2412123f9de"
       ],
       "layout": "IPY_MODEL_6e30ed7a979e42739319616420ac4764"
      }
     },
     "2bb4841ab1b54434b65d21389f63cc23": {
      "model_module": "@jupyter-widgets/controls",
      "model_module_version": "1.5.0",
      "model_name": "DescriptionStyleModel",
      "state": {
       "description_width": ""
      }
     },
     "2c64bf14e3b0492181af18272a227bb0": {
      "model_module": "@jupyter-widgets/output",
      "model_module_version": "1.0.0",
      "model_name": "OutputModel",
      "state": {
       "layout": "IPY_MODEL_a8774480a9ae4f0c8a4185c72fa007de"
      }
     },
     "2dc66593e51148e88733a9bf092627d2": {
      "model_module": "@jupyter-widgets/controls",
      "model_module_version": "1.5.0",
      "model_name": "ProgressStyleModel",
      "state": {
       "description_width": ""
      }
     },
     "2fba1c02727e41268f8383a9285f5bb1": {
      "model_module": "@jupyter-widgets/controls",
      "model_module_version": "1.5.0",
      "model_name": "LabelModel",
      "state": {
       "layout": "IPY_MODEL_548fbb144173491f9c6cbcaefb367ff7",
       "style": "IPY_MODEL_c54d6c56e4664ec8950f4d5e48b0f0ff",
       "value": "of 205.0"
      }
     },
     "33123dd177f045a1b955993ebfa47c76": {
      "model_module": "@jupyter-widgets/controls",
      "model_module_version": "1.5.0",
      "model_name": "DescriptionStyleModel",
      "state": {
       "description_width": ""
      }
     },
     "3a1ac80a60ec40aaa2b89815d0a30506": {
      "model_module": "@jupyter-widgets/controls",
      "model_module_version": "1.5.0",
      "model_name": "ButtonStyleModel",
      "state": {}
     },
     "3d4a536da10d4dbaa657a3e7d2d11cc5": {
      "model_module": "@jupyter-widgets/controls",
      "model_module_version": "1.5.0",
      "model_name": "HTMLModel",
      "state": {
       "layout": "IPY_MODEL_84eca382177c46d4b836dfe81c7db282",
       "style": "IPY_MODEL_2bb4841ab1b54434b65d21389f63cc23",
       "value": "100%"
      }
     },
     "3f1aad5c1b694345b6468488ada406cb": {
      "model_module": "@jupyter-widgets/base",
      "model_module_version": "1.2.0",
      "model_name": "LayoutModel",
      "state": {}
     },
     "427a5831c2b3479f91ae10e6e428ee1d": {
      "model_module": "@jupyter-widgets/controls",
      "model_module_version": "1.5.0",
      "model_name": "ButtonModel",
      "state": {
       "icon": "backward",
       "layout": "IPY_MODEL_e412ab18e21845c59e00b9d20743b248",
       "style": "IPY_MODEL_3a1ac80a60ec40aaa2b89815d0a30506"
      }
     },
     "449e54dcc7ce46e080e4867a67e509a9": {
      "model_module": "@jupyter-widgets/controls",
      "model_module_version": "1.5.0",
      "model_name": "DescriptionStyleModel",
      "state": {
       "description_width": ""
      }
     },
     "4ebaa6cb5031481c8757acef40b582eb": {
      "model_module": "@jupyter-widgets/base",
      "model_module_version": "1.2.0",
      "model_name": "LayoutModel",
      "state": {}
     },
     "4fa6e941e6c043a29bea4397106147a2": {
      "model_module": "@jupyter-widgets/controls",
      "model_module_version": "1.5.0",
      "model_name": "VBoxModel",
      "state": {
       "children": [
        "IPY_MODEL_c471217040394b4ab6f2e4a85a9eb76e",
        "IPY_MODEL_24c57d9824ef4727810e1c59a2e830bf"
       ],
       "layout": "IPY_MODEL_1a47c456bb1c425bb46bef72fc5ed344"
      }
     },
     "52497f1cdecf43b38d920a4731866693": {
      "model_module": "@jupyter-widgets/base",
      "model_module_version": "1.2.0",
      "model_name": "LayoutModel",
      "state": {}
     },
     "52f256f1683f44c8ac7288ad4017a045": {
      "model_module": "@jupyter-widgets/base",
      "model_module_version": "1.2.0",
      "model_name": "LayoutModel",
      "state": {}
     },
     "548fbb144173491f9c6cbcaefb367ff7": {
      "model_module": "@jupyter-widgets/base",
      "model_module_version": "1.2.0",
      "model_name": "LayoutModel",
      "state": {
       "width": "100px"
      }
     },
     "5628777433c442d28cc0a46091d2ad52": {
      "model_module": "@jupyter-widgets/base",
      "model_module_version": "1.2.0",
      "model_name": "LayoutModel",
      "state": {
       "width": "100%"
      }
     },
     "56b2fe79ba7742e5b8ac36512070a448": {
      "model_module": "@jupyter-widgets/base",
      "model_module_version": "1.2.0",
      "model_name": "LayoutModel",
      "state": {}
     },
     "57ea4c29c1f244aab3da2a41b0db2ab7": {
      "model_module": "@jupyter-widgets/controls",
      "model_module_version": "1.5.0",
      "model_name": "FloatTextModel",
      "state": {
       "layout": "IPY_MODEL_d02d960f87c543c7a5199090fa558e8b",
       "step": null,
       "style": "IPY_MODEL_33123dd177f045a1b955993ebfa47c76",
       "value": 181.7
      }
     },
     "5a0f7d1aa45946b6a69e7af3290aa24f": {
      "model_module": "@jupyter-widgets/base",
      "model_module_version": "1.2.0",
      "model_name": "LayoutModel",
      "state": {
       "width": "100%"
      }
     },
     "5b2171a8207b4d2f957b14dcc3bf1fa8": {
      "model_module": "@jupyter-widgets/controls",
      "model_module_version": "1.5.0",
      "model_name": "FloatSliderModel",
      "state": {
       "continuous_update": false,
       "description": "Time:",
       "layout": "IPY_MODEL_5a0f7d1aa45946b6a69e7af3290aa24f",
       "max": 5,
       "readout_format": ".1f",
       "step": 0.1,
       "style": "IPY_MODEL_00d59d3ca53b4bba97bfd6eeeebf3efa",
       "value": 1.9
      }
     },
     "5d35a74d1f7742408d1ca171504a7aea": {
      "model_module": "@jupyter-widgets/base",
      "model_module_version": "1.2.0",
      "model_name": "LayoutModel",
      "state": {
       "width": "100%"
      }
     },
     "654039b5a94d428f9818ca933166f27c": {
      "model_module": "@jupyter-widgets/controls",
      "model_module_version": "1.5.0",
      "model_name": "DescriptionStyleModel",
      "state": {
       "description_width": ""
      }
     },
     "66cf3decda084d769604eabcf06dcbad": {
      "model_module": "@jupyter-widgets/controls",
      "model_module_version": "1.5.0",
      "model_name": "HTMLModel",
      "state": {
       "layout": "IPY_MODEL_f78ba1984c944b90b74ecab55b315214",
       "style": "IPY_MODEL_cc4d6a3ca63347758e7aea56a1c6ce1f",
       "value": "100%"
      }
     },
     "67c07668ade24b7ab40e125a2e0c6367": {
      "model_module": "@jupyter-widgets/controls",
      "model_module_version": "1.5.0",
      "model_name": "ButtonStyleModel",
      "state": {}
     },
     "6a611a877e9f429ea57e1644725699e3": {
      "model_module": "@jupyter-widgets/controls",
      "model_module_version": "1.5.0",
      "model_name": "FloatProgressModel",
      "state": {
       "bar_style": "success",
       "layout": "IPY_MODEL_9eeeed52f0704b9bbf95c7e3035540c1",
       "max": 2000,
       "style": "IPY_MODEL_7576c03b05e340ef95438b1ce71253b2",
       "value": 2000
      }
     },
     "6e05ccc9c5cb43869739606e1b37e2f4": {
      "model_module": "@jupyter-widgets/base",
      "model_module_version": "1.2.0",
      "model_name": "LayoutModel",
      "state": {}
     },
     "6e30ed7a979e42739319616420ac4764": {
      "model_module": "@jupyter-widgets/base",
      "model_module_version": "1.2.0",
      "model_name": "LayoutModel",
      "state": {
       "height": "50px",
       "width": "100%"
      }
     },
     "6f5dd12fa4db47daa61d0346ceeec1f1": {
      "model_module": "@jupyter-widgets/controls",
      "model_module_version": "1.5.0",
      "model_name": "HBoxModel",
      "state": {
       "children": [
        "IPY_MODEL_3d4a536da10d4dbaa657a3e7d2d11cc5",
        "IPY_MODEL_6a611a877e9f429ea57e1644725699e3",
        "IPY_MODEL_dbadc473e3464395a865fcc31b6e6156"
       ],
       "layout": "IPY_MODEL_77d2b3d1a3bb4c40968e0b357d4822fd"
      }
     },
     "714acac765934d61ae3530a47c439bd1": {
      "model_module": "@jupyter-widgets/base",
      "model_module_version": "1.2.0",
      "model_name": "LayoutModel",
      "state": {
       "width": "100px"
      }
     },
     "734907986ba24518ad6b0d497fdb6770": {
      "model_module": "@jupyter-widgets/controls",
      "model_module_version": "1.5.0",
      "model_name": "ButtonStyleModel",
      "state": {}
     },
     "74ec66a5e79a4ffcb4c2bd8415218703": {
      "buffers": [
       {
        "data": "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",
        "encoding": "base64",
        "path": [
         "value"
        ]
       }
      ],
      "model_module": "@jupyter-widgets/controls",
      "model_module_version": "1.5.0",
      "model_name": "ImageModel",
      "state": {
       "layout": "IPY_MODEL_cdea322361df4f47a5eb9657b7eab71c"
      }
     },
     "7576c03b05e340ef95438b1ce71253b2": {
      "model_module": "@jupyter-widgets/controls",
      "model_module_version": "1.5.0",
      "model_name": "ProgressStyleModel",
      "state": {
       "description_width": ""
      }
     },
     "75fc16ce8198467293243e7b83ecc961": {
      "model_module": "@jupyter-widgets/controls",
      "model_module_version": "1.5.0",
      "model_name": "HTMLModel",
      "state": {
       "layout": "IPY_MODEL_56b2fe79ba7742e5b8ac36512070a448",
       "style": "IPY_MODEL_eb7f003ff35d4b81a9d066a132faf619",
       "value": "100%"
      }
     },
     "77d2b3d1a3bb4c40968e0b357d4822fd": {
      "model_module": "@jupyter-widgets/base",
      "model_module_version": "1.2.0",
      "model_name": "LayoutModel",
      "state": {}
     },
     "7a08910da25746688b702ba99b67aace": {
      "model_module": "@jupyter-widgets/controls",
      "model_module_version": "1.5.0",
      "model_name": "HTMLModel",
      "state": {
       "layout": "IPY_MODEL_52497f1cdecf43b38d920a4731866693",
       "style": "IPY_MODEL_654039b5a94d428f9818ca933166f27c",
       "value": " 50/50 [00:14&lt;00:00,  3.52it/s]"
      }
     },
     "7a2bc94ae7354cca86b895c0cc0f3810": {
      "model_module": "@jupyter-widgets/controls",
      "model_module_version": "1.5.0",
      "model_name": "ButtonModel",
      "state": {
       "icon": "fast-forward",
       "layout": "IPY_MODEL_bbd7058289ba4fdf951a97470e8975cf",
       "style": "IPY_MODEL_9b4349ae0e0b414a87ddf805effa7fea"
      }
     },
     "8017f8994fa04ad0928de9cd050e3ac3": {
      "model_module": "@jupyter-widgets/base",
      "model_module_version": "1.2.0",
      "model_name": "LayoutModel",
      "state": {}
     },
     "839ad36e03f24ce7924cae279237ae42": {
      "model_module": "@jupyter-widgets/controls",
      "model_module_version": "1.5.0",
      "model_name": "ButtonStyleModel",
      "state": {}
     },
     "84770ffbd9b14d0d9e216cd20d22300e": {
      "buffers": [
       {
        "data": "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",
        "encoding": "base64",
        "path": [
         "value"
        ]
       }
      ],
      "model_module": "@jupyter-widgets/controls",
      "model_module_version": "1.5.0",
      "model_name": "ImageModel",
      "state": {
       "layout": "IPY_MODEL_3f1aad5c1b694345b6468488ada406cb"
      }
     },
     "84eca382177c46d4b836dfe81c7db282": {
      "model_module": "@jupyter-widgets/base",
      "model_module_version": "1.2.0",
      "model_name": "LayoutModel",
      "state": {}
     },
     "881e027f60f84e8abde78248bbc18d03": {
      "model_module": "@jupyter-widgets/controls",
      "model_module_version": "1.5.0",
      "model_name": "ButtonModel",
      "state": {
       "icon": "forward",
       "layout": "IPY_MODEL_cbd3c9bb97ed4789a55042489a74a74b",
       "style": "IPY_MODEL_839ad36e03f24ce7924cae279237ae42"
      }
     },
     "8c85f66debf64dcd9c05b4215a577981": {
      "model_module": "@jupyter-widgets/controls",
      "model_module_version": "1.5.0",
      "model_name": "SliderStyleModel",
      "state": {
       "description_width": "initial"
      }
     },
     "8d6ecc65f2b24ac4986ecd67177bf272": {
      "model_module": "@jupyter-widgets/base",
      "model_module_version": "1.2.0",
      "model_name": "LayoutModel",
      "state": {
       "width": "100%"
      }
     },
     "90b8c24fb3264dda91e427b0bed99853": {
      "model_module": "@jupyter-widgets/controls",
      "model_module_version": "1.5.0",
      "model_name": "ButtonStyleModel",
      "state": {}
     },
     "93117ae68a8346f1927796bdce77fa95": {
      "model_module": "@jupyter-widgets/controls",
      "model_module_version": "1.5.0",
      "model_name": "FloatProgressModel",
      "state": {
       "bar_style": "success",
       "layout": "IPY_MODEL_8017f8994fa04ad0928de9cd050e3ac3",
       "max": 50,
       "style": "IPY_MODEL_dde01cbe4b544afd872bfa7fe818acd4",
       "value": 50
      }
     },
     "93de04cc1ca74d2b9f1ae56807a6bf28": {
      "buffers": [
       {
        "data": "iVBORw0KGgoAAAANSUhEUgAAAGQAAABkCAIAAAD/gAIDAAADiElEQVR4nO3cYXKrIBAH8OVND+JR0pN138lej+JNfB+MBhUQcHfZZfhPp5OqgfQXIERJHCCIZZon7irmaeYr/A9f0dew/icCEcUC417SWMDpxf1MNMACs+2rDRbY9GqGZTEtsWgbl0BTbdyybHXG9t3QkFd7LLDjpQILjHhpwYJnXjLWirBAffvShQW6vdRhgWIvjVhQ6CWGqxQLVLYvvVigz0s1Fijz0o4FmrwMYEHSS5LSBhboaF9msECBlyUsaO2lGwsD23wvYbsvycqygveHzNMscHH7GjVYWHIAtvFykmsdzsmsGt+/l22DKy2BKC1aFlbey21e6+8AWV3J2ZHCQsZiz3ZskeqGpbXEjvc64zWuoqKSqBng12DVLqkIdkOM70rca0uiQYmFHwsjHMGNoA7IDzMWJv8Mba8Aci9Yft/3dcjVYZefhQ0LAdZHf9wCoT/rgGSy/HweHQ+W95p1eLbRexCkFbqtcZHEB/LDgBV8dUcAUqDlF9yLrrg4EAC4v+/uIfFqKDlOlw5bMaMdyA81VnLSqCRFQH5IsZpKubthq9poj7IZfEliw5bfE58D+aHD0tQBl4XSaI/hlnXK8o8FyI9trMQEgtBoD90FC5Q4o5SO+3bgth+kL1/31Z2SuG/2J6sfrDXuxVi4eazY3GoB+tMPpFgKhi3WmG9ZkukQy724SqbGatETxYYt25NSP4Qn/2LppBsKSAELVr+viZ20rFhoh61+xqxryBt4h1h8C5J4umHzYQtZLrWaH7Pc9rOH413hGpNYzjfCMA3HIkrO9VmkZ+UP/Rqj1bnt9opFu5xZ9QCfA+Rvvy5mm+aJ0Esd1j1Qxna/DxJ6qcDKAkrvSu6l8mJeU3q7BHQ7LF3IbS2nBEf3517sLculF4Zg1a6qPG9fIquVESBCFlhfjIHDcsrfk540PPESGbMQYF1/kGhlWFNmRZ60L/GPo2zVHT5bgoUfTUkmZzpa59Xuszt4uY2Bo1LbI8mcu1d4tZs64OMDQsl/l1PRH1XMsz5B0dpKvTS9kcYGdRa939aE1Sj5Xl1hVZ+WybxjV1hPkuM1sD659RpYh6S9+sGiOo+cKKcfLMLEvAZWOEGvgVWQTrA4Lnxdy+wEiyknr4F1E99rYN1n9+oBS+DrjtYqesCSyTRPA6sgA6sgA6sg5rEkv8zOPJZkBlZBBlZBbGMJf/umbSzh/AeLSw1PkVwOUAAAAABJRU5ErkJggg==",
        "encoding": "base64",
        "path": [
         "value"
        ]
       }
      ],
      "model_module": "@jupyter-widgets/controls",
      "model_module_version": "1.5.0",
      "model_name": "ImageModel",
      "state": {
       "layout": "IPY_MODEL_e452c406b7db45bdbfa8281af08d02f9"
      }
     },
     "965951e9000b41fe9775fb81204e4d08": {
      "model_module": "@jupyter-widgets/controls",
      "model_module_version": "1.5.0",
      "model_name": "VBoxModel",
      "state": {
       "children": [
        "IPY_MODEL_4fa6e941e6c043a29bea4397106147a2",
        "IPY_MODEL_004cd43f6f47454f8dde3339d858069b"
       ],
       "layout": "IPY_MODEL_bc80428f11314ff8960691b3c768c05c"
      }
     },
     "968af6b65d6e4b91895fb1e45652f06d": {
      "model_module": "@jupyter-widgets/base",
      "model_module_version": "1.2.0",
      "model_name": "LayoutModel",
      "state": {}
     },
     "9b4349ae0e0b414a87ddf805effa7fea": {
      "model_module": "@jupyter-widgets/controls",
      "model_module_version": "1.5.0",
      "model_name": "ButtonStyleModel",
      "state": {}
     },
     "9db3eb3f565e4271bd0a9ea77cf60ef1": {
      "model_module": "@jupyter-widgets/base",
      "model_module_version": "1.2.0",
      "model_name": "LayoutModel",
      "state": {
       "width": "100%"
      }
     },
     "9e4e90e73f7f4711b45bb9ccc8e4d2f3": {
      "buffers": [
       {
        "data": "iVBORw0KGgoAAAANSUhEUgAAAGQAAABkCAIAAAD/gAIDAAAEvUlEQVR4nO2c63XbMAyFwR4PkBHYDTqCs0lWyAbYoCtkg47gjMIRuoH6Q7JE8SU+ANCiek+OTSs0SX+6gChKtgIEbmmj54LRhr2zKq0jTOsH8zBOoExS8B9WPimQgbVGX9HIBFQ6nus6q2LPXRRWnceFYL1sJBbpis6q3mGXg9Vi7WvBakwCcrC6p632fq/iLJI9dAlYVF4WhdUlEgn7GtxZtHtlZFjk/pWGJRaJHO2P6SymPTEgLD7PdoDFGoms0T2Us7jz4DiwBOZufWCRR6LMLHcEZ4mdD5wHFkLwEqfkmdNNrKdK4fI8ASjvn8KrPd1gGW3mj6qNdq9U41ac4i3Ir4u9krNweY4BmgAULtW6rCC+AKyv5TlhIlcIBoxtQBl2SuDGkLAQAECDfsBcMH4VdYfpe78FAJ5YFYRTPrCxE3cWLs/zBzahKuoeffe0L69R6chOgoTgRGDhVkzEmroXN5zgtco5erSw4wzDZ8vpZPTzl54L5s0EKziRaGubTGC0TlpF7G4sd5ohwBEjdV8K+m9x8+2MVhX5bgtDp14juxgpdXe3VBgKII4Jmwimk53SH+6mw1ayhDte6p77vgNGa4PgQUGvQCptdG6Cp/Wdr0xGAWFoi7+xWUabyqPhMTsEZZlr+gZ1D7RTz6iHaKYOO3ZfYMLzp02UjJAr7nzRz7MMmOjJ3TdZLzkzLHIRr2clcploxCFLq5SwjDbOQXAwkcHyPaVCy3WEmuDpIOTsxhINLIeUSi4JnFcEsHxS2xEKec2VEtI32QorsCKMjU1WSaTTJljdv+W1pS0R1cM6IIVboVskUqtyUhomhQ0D4RASD6nGWbnRhxVtF0tyAlEMK0UKo9vHiMQyWN0zel8VwKohhcXvqFDqmEg6gFxYrZ6SiUTkbT7raFhACl/gmMg2gGNntXtKVJzdHcCivT7GF4m7tIVcBk/BqiSFVQMhES5XlZjW1KKwZlIPpOiEpJEjTcCIadYuwf/+Wgpv1hUHn9e7tyVX+0s+fGJaTbuBxShTM756ZKeV+gPafv35cZCqco3mb8Tl8bzOWmB9fiyv85O6Q81F5ryE3dGKmxcXLPteh4rDXxTZfvtuCzMsvuX/DVbLlCoQm8F6uDyeFNYydWicfL6jG4aPRO3TrtjcgG6a/o6exTBUL7iRSKyX4Ohvk0wlfgRgnjeeDBYEeSGAACbgti1P60Fe5LB2uQ8jlSi7Y+uDjxfhDbhFYvwKXWBm33AcVNbf4/knLEZYsOe1GA3L7q5ZAa2rVPKMrMEgbwfpKX70DnDYVUu0KXk+z+ss8D7M9jnRdZkK+eilJPStsAMvoPVI0iCP2J01K5C8bGGTiWiWczMkBItc0ejmlOiXM8ljh3LJO0PdnEXihcBqB0WzMYnCYtrtYryknXWQ6SmapW3Z1lkTvC8BXh1gMZkL+HmN46xZrLy6/a7D+jE4sn6QUXtH/X4Eg5mX0wVJR6OFoSM/KlsCc3BYQDpx7RmGIBKJfl+rSjt9gV85ktKK5uEVEpVtjR+GvvzAzFTnMATZSITshBUczFXCMM0ocz8NDot2dto/DIEnEjnWBUdzFuva6SCwZNaXzw2L6YQ5ppeAFbgL7kjClypm/QMbnJcJEABiSAAAAABJRU5ErkJggg==",
        "encoding": "base64",
        "path": [
         "value"
        ]
       }
      ],
      "model_module": "@jupyter-widgets/controls",
      "model_module_version": "1.5.0",
      "model_name": "ImageModel",
      "state": {
       "layout": "IPY_MODEL_6e05ccc9c5cb43869739606e1b37e2f4"
      }
     },
     "9eeeed52f0704b9bbf95c7e3035540c1": {
      "model_module": "@jupyter-widgets/base",
      "model_module_version": "1.2.0",
      "model_name": "LayoutModel",
      "state": {}
     },
     "9f7f0bf3f9ed4843b49ba4da64e45371": {
      "model_module": "@jupyter-widgets/base",
      "model_module_version": "1.2.0",
      "model_name": "LayoutModel",
      "state": {
       "height": "40px"
      }
     },
     "a0f5e5634a794fe38143f5caa2e541c2": {
      "model_module": "@jupyter-widgets/controls",
      "model_module_version": "1.5.0",
      "model_name": "ButtonModel",
      "state": {
       "icon": "fast-forward",
       "layout": "IPY_MODEL_fb45f23030ff4303aeac5f69520e7203",
       "style": "IPY_MODEL_734907986ba24518ad6b0d497fdb6770"
      }
     },
     "a2d9c47fde7f4834b54e65faefbed71f": {
      "model_module": "@jupyter-widgets/controls",
      "model_module_version": "1.5.0",
      "model_name": "VBoxModel",
      "state": {
       "children": [
        "IPY_MODEL_23ef1a2ce5154a269b3fcd939e3a2c0e",
        "IPY_MODEL_2c64bf14e3b0492181af18272a227bb0"
       ],
       "layout": "IPY_MODEL_52f256f1683f44c8ac7288ad4017a045"
      }
     },
     "a48ad3cae0f54b6a823c2e5b75d6a4cc": {
      "model_module": "@jupyter-widgets/controls",
      "model_module_version": "1.5.0",
      "model_name": "HBoxModel",
      "state": {
       "children": [
        "IPY_MODEL_75fc16ce8198467293243e7b83ecc961",
        "IPY_MODEL_93117ae68a8346f1927796bdce77fa95",
        "IPY_MODEL_7a08910da25746688b702ba99b67aace"
       ],
       "layout": "IPY_MODEL_4ebaa6cb5031481c8757acef40b582eb"
      }
     },
     "a67c98f267054bf899333253a0bb825f": {
      "model_module": "@jupyter-widgets/base",
      "model_module_version": "1.2.0",
      "model_name": "LayoutModel",
      "state": {
       "width": "100%"
      }
     },
     "a8774480a9ae4f0c8a4185c72fa007de": {
      "model_module": "@jupyter-widgets/base",
      "model_module_version": "1.2.0",
      "model_name": "LayoutModel",
      "state": {}
     },
     "aa846ff9ea7d49ce9e1bae7f97fc3de0": {
      "model_module": "@jupyter-widgets/controls",
      "model_module_version": "1.5.0",
      "model_name": "ButtonStyleModel",
      "state": {}
     },
     "ab146030cd254209a920cabf5140f047": {
      "model_module": "@jupyter-widgets/controls",
      "model_module_version": "1.5.0",
      "model_name": "ButtonModel",
      "state": {
       "description": "Play",
       "icon": "play",
       "layout": "IPY_MODEL_5d35a74d1f7742408d1ca171504a7aea",
       "style": "IPY_MODEL_67c07668ade24b7ab40e125a2e0c6367"
      }
     },
     "ac044b0ad2d942b484268e7e640782ac": {
      "model_module": "@jupyter-widgets/base",
      "model_module_version": "1.2.0",
      "model_name": "LayoutModel",
      "state": {}
     },
     "ac869fb589b9451d91ea0845686b7781": {
      "model_module": "@jupyter-widgets/controls",
      "model_module_version": "1.5.0",
      "model_name": "HBoxModel",
      "state": {
       "children": [
        "IPY_MODEL_bc8395cde1f649898250bfa48b9a2f0e",
        "IPY_MODEL_427a5831c2b3479f91ae10e6e428ee1d",
        "IPY_MODEL_e4f6190484b74228b6ffe4e4d7abe6fd",
        "IPY_MODEL_881e027f60f84e8abde78248bbc18d03",
        "IPY_MODEL_7a2bc94ae7354cca86b895c0cc0f3810",
        "IPY_MODEL_ab146030cd254209a920cabf5140f047"
       ],
       "layout": "IPY_MODEL_139ed3d5e26f4c4494df2925130827af"
      }
     },
     "ae1786b34e6a49dd9ac2f613afa77e0f": {
      "model_module": "@jupyter-widgets/base",
      "model_module_version": "1.2.0",
      "model_name": "LayoutModel",
      "state": {
       "width": "100%"
      }
     },
     "b6c26dcbf3a943a8849f60ca002e92c3": {
      "model_module": "@jupyter-widgets/controls",
      "model_module_version": "1.5.0",
      "model_name": "DescriptionStyleModel",
      "state": {
       "description_width": ""
      }
     },
     "b8d022ed023240bd978aa2412123f9de": {
      "model_module": "@jupyter-widgets/controls",
      "model_module_version": "1.5.0",
      "model_name": "ButtonModel",
      "state": {
       "description": "Play",
       "icon": "play",
       "layout": "IPY_MODEL_5628777433c442d28cc0a46091d2ad52",
       "style": "IPY_MODEL_d8d75095a9e845d7a520dac9defa7bae"
      }
     },
     "b9981d4c618a439cb0e99501619a9ca0": {
      "model_module": "@jupyter-widgets/base",
      "model_module_version": "1.2.0",
      "model_name": "LayoutModel",
      "state": {
       "width": "100%"
      }
     },
     "bb0c81550e2c46cab094aae9d54a29f2": {
      "model_module": "@jupyter-widgets/controls",
      "model_module_version": "1.5.0",
      "model_name": "ButtonModel",
      "state": {
       "icon": "backward",
       "layout": "IPY_MODEL_e23a33dc24684b27b5cbb4d6e808a4be",
       "style": "IPY_MODEL_1eed12eb98c44862b4a0d164cd10dfe4"
      }
     },
     "bba3c2e81b264fa59b4af6e7a3b9c137": {
      "model_module": "@jupyter-widgets/controls",
      "model_module_version": "1.5.0",
      "model_name": "ButtonModel",
      "state": {
       "icon": "fast-backward",
       "layout": "IPY_MODEL_a67c98f267054bf899333253a0bb825f",
       "style": "IPY_MODEL_aa846ff9ea7d49ce9e1bae7f97fc3de0"
      }
     },
     "bbd7058289ba4fdf951a97470e8975cf": {
      "model_module": "@jupyter-widgets/base",
      "model_module_version": "1.2.0",
      "model_name": "LayoutModel",
      "state": {
       "width": "100%"
      }
     },
     "bc80428f11314ff8960691b3c768c05c": {
      "model_module": "@jupyter-widgets/base",
      "model_module_version": "1.2.0",
      "model_name": "LayoutModel",
      "state": {}
     },
     "bc8395cde1f649898250bfa48b9a2f0e": {
      "model_module": "@jupyter-widgets/controls",
      "model_module_version": "1.5.0",
      "model_name": "ButtonModel",
      "state": {
       "icon": "fast-backward",
       "layout": "IPY_MODEL_e4d10002f314421c9102b74404c2c239",
       "style": "IPY_MODEL_90b8c24fb3264dda91e427b0bed99853"
      }
     },
     "c471217040394b4ab6f2e4a85a9eb76e": {
      "model_module": "@jupyter-widgets/controls",
      "model_module_version": "1.5.0",
      "model_name": "HBoxModel",
      "state": {
       "children": [
        "IPY_MODEL_0792b8dc7d6d4887b07d5d22b1be3562",
        "IPY_MODEL_2fba1c02727e41268f8383a9285f5bb1"
       ],
       "layout": "IPY_MODEL_e1293f5538134222900547e2db9e854c"
      }
     },
     "c4db6de685f844e99a9a030e011024bc": {
      "model_module": "@jupyter-widgets/controls",
      "model_module_version": "1.5.0",
      "model_name": "HTMLModel",
      "state": {
       "layout": "IPY_MODEL_cf90f1df1ca744819c242e9ea080e322",
       "style": "IPY_MODEL_d970d9fd1df1408495a719930dd6b49a",
       "value": " 50/50 [03:27&lt;00:00,  4.14s/it]"
      }
     },
     "c54d6c56e4664ec8950f4d5e48b0f0ff": {
      "model_module": "@jupyter-widgets/controls",
      "model_module_version": "1.5.0",
      "model_name": "DescriptionStyleModel",
      "state": {
       "description_width": ""
      }
     },
     "c90b9a8595294c8dab9bc7a7e1c542ae": {
      "buffers": [
       {
        "data": "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",
        "encoding": "base64",
        "path": [
         "value"
        ]
       }
      ],
      "model_module": "@jupyter-widgets/controls",
      "model_module_version": "1.5.0",
      "model_name": "ImageModel",
      "state": {
       "layout": "IPY_MODEL_ac044b0ad2d942b484268e7e640782ac"
      }
     },
     "cbd3c9bb97ed4789a55042489a74a74b": {
      "model_module": "@jupyter-widgets/base",
      "model_module_version": "1.2.0",
      "model_name": "LayoutModel",
      "state": {
       "width": "100%"
      }
     },
     "cc4d6a3ca63347758e7aea56a1c6ce1f": {
      "model_module": "@jupyter-widgets/controls",
      "model_module_version": "1.5.0",
      "model_name": "DescriptionStyleModel",
      "state": {
       "description_width": ""
      }
     },
     "cdea322361df4f47a5eb9657b7eab71c": {
      "model_module": "@jupyter-widgets/base",
      "model_module_version": "1.2.0",
      "model_name": "LayoutModel",
      "state": {
       "margin": "auto"
      }
     },
     "cf90f1df1ca744819c242e9ea080e322": {
      "model_module": "@jupyter-widgets/base",
      "model_module_version": "1.2.0",
      "model_name": "LayoutModel",
      "state": {}
     },
     "d02d960f87c543c7a5199090fa558e8b": {
      "model_module": "@jupyter-widgets/base",
      "model_module_version": "1.2.0",
      "model_name": "LayoutModel",
      "state": {
       "width": "100%"
      }
     },
     "d0d2064b13d243a6a7ccb31e3066d293": {
      "model_module": "@jupyter-widgets/controls",
      "model_module_version": "1.5.0",
      "model_name": "FloatProgressModel",
      "state": {
       "bar_style": "success",
       "layout": "IPY_MODEL_ea2ce615025249e692a42bdebae7ff35",
       "max": 50,
       "style": "IPY_MODEL_2dc66593e51148e88733a9bf092627d2",
       "value": 50
      }
     },
     "d8d75095a9e845d7a520dac9defa7bae": {
      "model_module": "@jupyter-widgets/controls",
      "model_module_version": "1.5.0",
      "model_name": "ButtonStyleModel",
      "state": {}
     },
     "d970d9fd1df1408495a719930dd6b49a": {
      "model_module": "@jupyter-widgets/controls",
      "model_module_version": "1.5.0",
      "model_name": "DescriptionStyleModel",
      "state": {
       "description_width": ""
      }
     },
     "dbadc473e3464395a865fcc31b6e6156": {
      "model_module": "@jupyter-widgets/controls",
      "model_module_version": "1.5.0",
      "model_name": "HTMLModel",
      "state": {
       "layout": "IPY_MODEL_eae5708c2db34a4a86ee6c4833f79042",
       "style": "IPY_MODEL_b6c26dcbf3a943a8849f60ca002e92c3",
       "value": " 2000/2000 [00:08&lt;00:00, 224.98it/s]"
      }
     },
     "dde01cbe4b544afd872bfa7fe818acd4": {
      "model_module": "@jupyter-widgets/controls",
      "model_module_version": "1.5.0",
      "model_name": "ProgressStyleModel",
      "state": {
       "description_width": ""
      }
     },
     "e1293f5538134222900547e2db9e854c": {
      "model_module": "@jupyter-widgets/base",
      "model_module_version": "1.2.0",
      "model_name": "LayoutModel",
      "state": {
       "height": "40px"
      }
     },
     "e23a33dc24684b27b5cbb4d6e808a4be": {
      "model_module": "@jupyter-widgets/base",
      "model_module_version": "1.2.0",
      "model_name": "LayoutModel",
      "state": {
       "width": "100%"
      }
     },
     "e412ab18e21845c59e00b9d20743b248": {
      "model_module": "@jupyter-widgets/base",
      "model_module_version": "1.2.0",
      "model_name": "LayoutModel",
      "state": {
       "width": "100%"
      }
     },
     "e452c406b7db45bdbfa8281af08d02f9": {
      "model_module": "@jupyter-widgets/base",
      "model_module_version": "1.2.0",
      "model_name": "LayoutModel",
      "state": {}
     },
     "e4d10002f314421c9102b74404c2c239": {
      "model_module": "@jupyter-widgets/base",
      "model_module_version": "1.2.0",
      "model_name": "LayoutModel",
      "state": {
       "width": "100%"
      }
     },
     "e4f6190484b74228b6ffe4e4d7abe6fd": {
      "model_module": "@jupyter-widgets/controls",
      "model_module_version": "1.5.0",
      "model_name": "FloatTextModel",
      "state": {
       "layout": "IPY_MODEL_8d6ecc65f2b24ac4986ecd67177bf272",
       "step": null,
       "style": "IPY_MODEL_449e54dcc7ce46e080e4867a67e509a9",
       "value": 1.9
      }
     },
     "ea2ce615025249e692a42bdebae7ff35": {
      "model_module": "@jupyter-widgets/base",
      "model_module_version": "1.2.0",
      "model_name": "LayoutModel",
      "state": {}
     },
     "eae5708c2db34a4a86ee6c4833f79042": {
      "model_module": "@jupyter-widgets/base",
      "model_module_version": "1.2.0",
      "model_name": "LayoutModel",
      "state": {}
     },
     "eb7f003ff35d4b81a9d066a132faf619": {
      "model_module": "@jupyter-widgets/controls",
      "model_module_version": "1.5.0",
      "model_name": "DescriptionStyleModel",
      "state": {
       "description_width": ""
      }
     },
     "f17c78eaf0d743fb97cf095411e5d56f": {
      "model_module": "@jupyter-widgets/base",
      "model_module_version": "1.2.0",
      "model_name": "LayoutModel",
      "state": {}
     },
     "f61bc0680647487097e6b30665f269c8": {
      "model_module": "@jupyter-widgets/controls",
      "model_module_version": "1.5.0",
      "model_name": "LabelModel",
      "state": {
       "layout": "IPY_MODEL_714acac765934d61ae3530a47c439bd1",
       "style": "IPY_MODEL_163f1801f0a148c991e7e12f32f11b86",
       "value": "of 5.0"
      }
     },
     "f78ba1984c944b90b74ecab55b315214": {
      "model_module": "@jupyter-widgets/base",
      "model_module_version": "1.2.0",
      "model_name": "LayoutModel",
      "state": {}
     },
     "fb45f23030ff4303aeac5f69520e7203": {
      "model_module": "@jupyter-widgets/base",
      "model_module_version": "1.2.0",
      "model_name": "LayoutModel",
      "state": {
       "width": "100%"
      }
     },
     "feb3aaa23fe4485e8c9d5a48793f5c87": {
      "model_module": "@jupyter-widgets/controls",
      "model_module_version": "1.5.0",
      "model_name": "HBoxModel",
      "state": {
       "children": [
        "IPY_MODEL_5b2171a8207b4d2f957b14dcc3bf1fa8",
        "IPY_MODEL_f61bc0680647487097e6b30665f269c8"
       ],
       "layout": "IPY_MODEL_9f7f0bf3f9ed4843b49ba4da64e45371"
      }
     }
    },
    "version_major": 2,
    "version_minor": 0
   }
  }
 },
 "nbformat": 4,
 "nbformat_minor": 4
}
